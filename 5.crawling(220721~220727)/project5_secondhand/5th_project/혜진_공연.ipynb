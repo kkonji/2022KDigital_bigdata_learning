{
 "cells": [
  {
   "cell_type": "markdown",
   "id": "eed37b6e",
   "metadata": {},
   "source": [
    "## 5조 < 트렌드 분석을 통한 공연 기획 >\n",
    "### - 공연 '기간' 트렌드 분석 ( 이혜진 ) : 수익성이 높은 공연 '기간' 선정하기"
   ]
  },
  {
   "cell_type": "markdown",
   "id": "5210255f",
   "metadata": {},
   "source": [
    "- 링크 출처 : 인터파크티켓 랭킹페이지 \n",
    "- 인터파크 웹/모바일/제휴사/전화예매 (입금완료 기준)"
   ]
  },
  {
   "cell_type": "markdown",
   "id": "a9fc3ae4",
   "metadata": {},
   "source": [
    "## 예매율 TOP50  => 공연이 시작하는 월"
   ]
  },
  {
   "cell_type": "code",
   "execution_count": 233,
   "id": "1495d554",
   "metadata": {},
   "outputs": [],
   "source": [
    "from bs4 import BeautifulSoup\n",
    "from selenium import webdriver\n",
    "import requests"
   ]
  },
  {
   "cell_type": "markdown",
   "id": "b39f56e6",
   "metadata": {},
   "source": [
    "### 공연 전체 데이터"
   ]
  },
  {
   "cell_type": "code",
   "execution_count": 243,
   "id": "06e56b54",
   "metadata": {
    "scrolled": false
   },
   "outputs": [],
   "source": [
    "yearList = [2015,2016,2017,2018,2019]\n",
    "monthlist = []\n",
    "\n",
    "for year in yearList:\n",
    "    url = 'http://ticket.interpark.com/contents/Ranking/RankList?pKind=P&pCate=&pType=Y&pDate='+str(year)+'0101'\n",
    "    driver=webdriver.Chrome(r'C:\\Users\\User\\PycharmProjects\\EXAM_PY\\chromedriver')\n",
    "    driver.get(url) \n",
    "\n",
    "    html=driver.page_source\n",
    "    soup=BeautifulSoup(html, 'html.parser')\n",
    "    #print(soup.prettify())\n",
    "    \n",
    "    top50 = soup.find_all('div' , class_='rankingDetailBody')\n",
    "    showtimes= top50[0].find_all('td', class_='prdDuration')\n",
    "    \n",
    "    # 공연 날짜 리스트 \n",
    "    datelist = []\n",
    "    for showtime in showtimes :\n",
    "        info = showtime.text\n",
    "        infos = info.split()\n",
    "        datelist.append(infos)\n",
    "        #print(infos)\n",
    "  \n",
    "    for date1 in datelist:\n",
    "        date = date1[0].split('.')\n",
    "        #print(date)\n",
    "        year = int(date[0]) # 시작하는 년\n",
    "        month = int(date[1]) # 시작하는 달\n",
    "        monthlist.append(month)\n",
    "        monthlist.sort()\n",
    "\n",
    "#print(monthlist)"
   ]
  },
  {
   "cell_type": "code",
   "execution_count": 236,
   "id": "2eb19c76",
   "metadata": {},
   "outputs": [
    {
     "data": {
      "text/html": [
       "<div>\n",
       "<style scoped>\n",
       "    .dataframe tbody tr th:only-of-type {\n",
       "        vertical-align: middle;\n",
       "    }\n",
       "\n",
       "    .dataframe tbody tr th {\n",
       "        vertical-align: top;\n",
       "    }\n",
       "\n",
       "    .dataframe thead th {\n",
       "        text-align: right;\n",
       "    }\n",
       "</style>\n",
       "<table border=\"1\" class=\"dataframe\">\n",
       "  <thead>\n",
       "    <tr style=\"text-align: right;\">\n",
       "      <th></th>\n",
       "      <th>count</th>\n",
       "    </tr>\n",
       "  </thead>\n",
       "  <tbody>\n",
       "    <tr>\n",
       "      <th>1</th>\n",
       "      <td>23</td>\n",
       "    </tr>\n",
       "    <tr>\n",
       "      <th>2</th>\n",
       "      <td>12</td>\n",
       "    </tr>\n",
       "    <tr>\n",
       "      <th>3</th>\n",
       "      <td>20</td>\n",
       "    </tr>\n",
       "    <tr>\n",
       "      <th>4</th>\n",
       "      <td>21</td>\n",
       "    </tr>\n",
       "    <tr>\n",
       "      <th>5</th>\n",
       "      <td>13</td>\n",
       "    </tr>\n",
       "    <tr>\n",
       "      <th>6</th>\n",
       "      <td>31</td>\n",
       "    </tr>\n",
       "    <tr>\n",
       "      <th>7</th>\n",
       "      <td>20</td>\n",
       "    </tr>\n",
       "    <tr>\n",
       "      <th>8</th>\n",
       "      <td>19</td>\n",
       "    </tr>\n",
       "    <tr>\n",
       "      <th>9</th>\n",
       "      <td>17</td>\n",
       "    </tr>\n",
       "    <tr>\n",
       "      <th>10</th>\n",
       "      <td>9</td>\n",
       "    </tr>\n",
       "    <tr>\n",
       "      <th>11</th>\n",
       "      <td>41</td>\n",
       "    </tr>\n",
       "    <tr>\n",
       "      <th>12</th>\n",
       "      <td>24</td>\n",
       "    </tr>\n",
       "  </tbody>\n",
       "</table>\n",
       "</div>"
      ],
      "text/plain": [
       "    count\n",
       "1      23\n",
       "2      12\n",
       "3      20\n",
       "4      21\n",
       "5      13\n",
       "6      31\n",
       "7      20\n",
       "8      19\n",
       "9      17\n",
       "10      9\n",
       "11     41\n",
       "12     24"
      ]
     },
     "execution_count": 236,
     "metadata": {},
     "output_type": "execute_result"
    }
   ],
   "source": [
    "import pandas as pd\n",
    "\n",
    "m = monthlist\n",
    "\n",
    "# DataFrame 만들기\n",
    "count = []\n",
    "for i in range(1,13):\n",
    "    count.append(m.count(i))\n",
    "    \n",
    "#print(count)\n",
    "\n",
    "body = pd.DataFrame(count, range(1,13))\n",
    "body.rename(columns={0:'count'})"
   ]
  },
  {
   "cell_type": "code",
   "execution_count": 287,
   "id": "01c1a2b1",
   "metadata": {},
   "outputs": [
    {
     "data": {
      "image/png": "[encoded data removed]",
      "text/plain": [
       "<Figure size 1440x720 with 1 Axes>"
      ]
     },
     "metadata": {
      "needs_background": "light"
     },
     "output_type": "display_data"
    }
   ],
   "source": [
    "import matplotlib\n",
    "from matplotlib import font_manager,rc  #한글 폰트 입력을 위한 라이브러리\n",
    "import matplotlib.pyplot as plt   #그래프 그리기 위한 라이브러리\n",
    "\n",
    "plt.figure(figsize=(20,10))\n",
    "plt.bar(range(1,13), count)\n",
    "plt.rc('font',family='Malgun Gothic')\n",
    "\n",
    "plt.title(\"<5년 누적 TOP50 월별 공연 횟수>\", size=40)\n",
    "#plt.legend(loc = \"best\", fontsize = 20)\n",
    "plt.xlabel('MONTH', size=20)\n",
    "plt.xlim(0,13)\n",
    "plt.xticks([1,2,3,4,5,6,7,8,9,10,11,12], size=15)\n",
    "plt.yticks(size=15)\n",
    "plt.ylabel('COUNT', size=20)\n",
    "plt.show()"
   ]
  },
  {
   "cell_type": "markdown",
   "id": "3717cb47",
   "metadata": {},
   "source": [
    "## 2021년(작년) 날씨 데이터"
   ]
  },
  {
   "cell_type": "code",
   "execution_count": 289,
   "id": "bab5d636",
   "metadata": {},
   "outputs": [
    {
     "data": {
      "text/html": [
       "<div>\n",
       "<style scoped>\n",
       "    .dataframe tbody tr th:only-of-type {\n",
       "        vertical-align: middle;\n",
       "    }\n",
       "\n",
       "    .dataframe tbody tr th {\n",
       "        vertical-align: top;\n",
       "    }\n",
       "\n",
       "    .dataframe thead th {\n",
       "        text-align: right;\n",
       "    }\n",
       "</style>\n",
       "<table border=\"1\" class=\"dataframe\">\n",
       "  <thead>\n",
       "    <tr style=\"text-align: right;\">\n",
       "      <th></th>\n",
       "      <th>관측지점별</th>\n",
       "      <th>평균최고기온 (℃)</th>\n",
       "    </tr>\n",
       "    <tr>\n",
       "      <th>시점</th>\n",
       "      <th></th>\n",
       "      <th></th>\n",
       "    </tr>\n",
       "  </thead>\n",
       "  <tbody>\n",
       "    <tr>\n",
       "      <th>2021.01</th>\n",
       "      <td>서울</td>\n",
       "      <td>2.2</td>\n",
       "    </tr>\n",
       "    <tr>\n",
       "      <th>2021.02</th>\n",
       "      <td>서울</td>\n",
       "      <td>7.9</td>\n",
       "    </tr>\n",
       "    <tr>\n",
       "      <th>2021.03</th>\n",
       "      <td>서울</td>\n",
       "      <td>14.8</td>\n",
       "    </tr>\n",
       "    <tr>\n",
       "      <th>2021.04</th>\n",
       "      <td>서울</td>\n",
       "      <td>19.5</td>\n",
       "    </tr>\n",
       "    <tr>\n",
       "      <th>2021.05</th>\n",
       "      <td>서울</td>\n",
       "      <td>21.9</td>\n",
       "    </tr>\n",
       "    <tr>\n",
       "      <th>2021.06</th>\n",
       "      <td>서울</td>\n",
       "      <td>27.6</td>\n",
       "    </tr>\n",
       "    <tr>\n",
       "      <th>2021.07</th>\n",
       "      <td>서울</td>\n",
       "      <td>32.2</td>\n",
       "    </tr>\n",
       "    <tr>\n",
       "      <th>2021.08</th>\n",
       "      <td>서울</td>\n",
       "      <td>29.7</td>\n",
       "    </tr>\n",
       "    <tr>\n",
       "      <th>2021.09</th>\n",
       "      <td>서울</td>\n",
       "      <td>26.9</td>\n",
       "    </tr>\n",
       "    <tr>\n",
       "      <th>2021.10</th>\n",
       "      <td>서울</td>\n",
       "      <td>20.5</td>\n",
       "    </tr>\n",
       "    <tr>\n",
       "      <th>2021.11</th>\n",
       "      <td>서울</td>\n",
       "      <td>13.1</td>\n",
       "    </tr>\n",
       "    <tr>\n",
       "      <th>2021.12</th>\n",
       "      <td>서울</td>\n",
       "      <td>5.1</td>\n",
       "    </tr>\n",
       "  </tbody>\n",
       "</table>\n",
       "</div>"
      ],
      "text/plain": [
       "        관측지점별  평균최고기온 (℃)\n",
       "시점                       \n",
       "2021.01    서울         2.2\n",
       "2021.02    서울         7.9\n",
       "2021.03    서울        14.8\n",
       "2021.04    서울        19.5\n",
       "2021.05    서울        21.9\n",
       "2021.06    서울        27.6\n",
       "2021.07    서울        32.2\n",
       "2021.08    서울        29.7\n",
       "2021.09    서울        26.9\n",
       "2021.10    서울        20.5\n",
       "2021.11    서울        13.1\n",
       "2021.12    서울         5.1"
      ]
     },
     "execution_count": 289,
     "metadata": {},
     "output_type": "execute_result"
    }
   ],
   "source": [
    "# 필요한 모듈 로딩\n",
    "import pandas as pd\n",
    "import csv\n",
    "import matplotlib.pyplot as plt\n",
    "\n",
    "# 파일 경로 지정\n",
    "\n",
    "DF=pd.read_csv('weather_2021.csv', encoding='euc_kr')      \n",
    "DF_w= DF.set_index('시점')\n",
    "DF_w"
   ]
  },
  {
   "cell_type": "markdown",
   "id": "399f762a",
   "metadata": {},
   "source": [
    "# 결론\n",
    "\n",
    "- 가장 예매율이 높은 TOP50 공연 중 11월 공연이 제일 많음.\n",
    "- 11월(41회) > 6월(31회) > 12월(24회) > 1월(23회) 순으로 \n",
    "- 겨울에는 방학, 연말, 연초인 11월 ,12월, 1월에 개최.\n",
    "- 여름에는 6월 개최."
   ]
  },
  {
   "cell_type": "markdown",
   "id": "40c06359",
   "metadata": {},
   "source": [
    "## 1안) 추천!!\n",
    "- 겨울 성수기인 11,12,1월 선정\n",
    "- 회전문 관객 이용(뮤지컬)\n",
    "- 데이트, 가족 나들이를 실내에서"
   ]
  },
  {
   "cell_type": "markdown",
   "id": "6334b923",
   "metadata": {},
   "source": [
    "## 2안)\n",
    "- 페스티벌, 콘서트를 여름 성수기인 6월 선정\n",
    "- 1안과 반대로 실외에서 "
   ]
  },
  {
   "cell_type": "markdown",
   "id": "9f1f3bd8",
   "metadata": {},
   "source": [
    "## 3안)\n",
    "- 비성수기(2-5월, 7-10월)에 새로운 공연 개최로 이름 알리기."
   ]
  },
  {
   "cell_type": "code",
   "execution_count": null,
   "id": "7da8d73b",
   "metadata": {},
   "outputs": [],
   "source": []
  }
 ],
 "metadata": {
  "kernelspec": {
   "display_name": "Python 3 (ipykernel)",
   "language": "python",
   "name": "python3"
  },
  "language_info": {
   "codemirror_mode": {
    "name": "ipython",
    "version": 3
   },
   "file_extension": ".py",
   "mimetype": "text/x-python",
   "name": "python",
   "nbconvert_exporter": "python",
   "pygments_lexer": "ipython3",
   "version": "3.9.12"
  }
 },
 "nbformat": 4,
 "nbformat_minor": 5
}
