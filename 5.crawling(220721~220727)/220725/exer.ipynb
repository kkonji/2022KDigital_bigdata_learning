{
 "cells": [
  {
   "cell_type": "code",
   "execution_count": 2,
   "metadata": {},
   "outputs": [
    {
     "name": "stdout",
     "output_type": "stream",
     "text": [
      "Requirement already satisfied: scipy in c:\\users\\user\\appdata\\local\\programs\\python\\python39\\lib\\site-packages (1.8.1)\n",
      "Requirement already satisfied: numpy<1.25.0,>=1.17.3 in c:\\users\\user\\appdata\\local\\programs\\python\\python39\\lib\\site-packages (from scipy) (1.23.0)\n",
      "Note: you may need to restart the kernel to use updated packages.\n"
     ]
    }
   ],
   "source": [
    "%pip install scipy\n",
    "import numpy as np\n",
    "import matplotlib as mpl\n",
    "import matplotlib.pyplot as plt"
   ]
  },
  {
   "cell_type": "markdown",
   "metadata": {},
   "source": [
    "### SciPy 구성 (subpackage)\n",
    "- cluster : 클러스터 알고리즘 (clustering algorithms)\n",
    "- constants : 물리 및 수학 상수 (physical and mathematical constants)\n",
    "- fftpack : Fast Fourier Transform routines\n",
    "- integrate : 적분과 ODE solvers\n",
    "- interpolate : 내삽과 smoothing splines\n",
    "- io : input and output\n",
    "- linalg : 선형대수 (linear algebra)\n",
    "- ndimage : N차원 이미지 처리 (N-dimensional image processing)\n",
    "- odr : Orthogonal distance regression\n",
    "- optimize : 최적화 및 해 찾는 루틴 (optimization and root-finding routines)\n",
    "- signal : signal processing\n",
    "- sparse : sparse matrices and associated routines\n",
    "- spatial : spatial data structures and algorithms\n",
    "- special : special ftns\n",
    "- stats : 통계 분포와 함수(statistical distributions and ftns)"
   ]
  },
  {
   "cell_type": "code",
   "execution_count": 1,
   "metadata": {},
   "outputs": [],
   "source": [
    "a =3"
   ]
  }
 ],
 "metadata": {
  "kernelspec": {
   "display_name": "Python 3.9.10 64-bit",
   "language": "python",
   "name": "python3"
  },
  "language_info": {
   "codemirror_mode": {
    "name": "ipython",
    "version": 3
   },
   "file_extension": ".py",
   "mimetype": "text/x-python",
   "name": "python",
   "nbconvert_exporter": "python",
   "pygments_lexer": "ipython3",
   "version": "3.9.10"
  },
  "orig_nbformat": 4,
  "vscode": {
   "interpreter": {
    "hash": "cf92aa13fedf815d5c8dd192b8d835913fde3e8bc926b2a0ad6cc74ef2ba3ca2"
   }
  }
 },
 "nbformat": 4,
 "nbformat_minor": 2
}
