{
 "cells": [
  {
   "cell_type": "markdown",
   "metadata": {},
   "source": [
    "### html 분석 개념\n",
    "- 복잡한 웹페이지에서 필요한 정보 가져오기\n",
    "- 원하지 않는 콘텐츠 제거\n",
    "\n",
    "- 원하는 정보는 다양한 곳에 존재\n",
    "    - 페이지 타이틀\n",
    "    - 페이지 URL\n",
    "    - 원하는 정보가 정형화되어 있지 않은 경우, 문제 발생"
   ]
  },
  {
   "cell_type": "markdown",
   "metadata": {},
   "source": [
    "#### CSS 속성을 이용한 검색"
   ]
  },
  {
   "cell_type": "code",
   "execution_count": 2,
   "metadata": {},
   "outputs": [],
   "source": [
    "import requests\n",
    "from bs4 import BeautifulSoup\n",
    "import re"
   ]
  },
  {
   "cell_type": "code",
   "execution_count": 3,
   "metadata": {},
   "outputs": [
    {
     "data": {
      "text/plain": [
       "\"<span class=\"red\">Heavens! what a virulent attack!</span>\""
      ]
     },
     "execution_count": 3,
     "metadata": {},
     "output_type": "execute_result"
    }
   ],
   "source": [
    "url = '\"<span class=\"red\">Heavens! what a virulent attack!</span>\"'\n",
    "# html = requests.get(url)\n",
    "soup = BeautifulSoup(url, 'html.parser')\n",
    "soup"
   ]
  },
  {
   "cell_type": "code",
   "execution_count": 4,
   "metadata": {},
   "outputs": [
    {
     "data": {
      "text/plain": [
       "'Heavens! what a virulent attack!'"
      ]
     },
     "execution_count": 4,
     "metadata": {},
     "output_type": "execute_result"
    }
   ],
   "source": [
    "object_tag = soup.find('span')\n",
    "object_tag.attrs['class']\n",
    "object_tag.text"
   ]
  },
  {
   "cell_type": "code",
   "execution_count": 5,
   "metadata": {},
   "outputs": [
    {
     "name": "stdout",
     "output_type": "stream",
     "text": [
      "41\n",
      "Anna\n",
      "Pavlovna Scherer\n",
      "Empress Marya\n",
      "Fedorovna\n",
      "Prince Vasili Kuragin\n",
      "Anna Pavlovna\n",
      "St. Petersburg\n",
      "the prince\n",
      "Anna Pavlovna\n",
      "Anna Pavlovna\n",
      "the prince\n",
      "the prince\n",
      "the prince\n",
      "Prince Vasili\n",
      "Anna Pavlovna\n",
      "Anna Pavlovna\n",
      "the prince\n",
      "Wintzingerode\n",
      "King of Prussia\n",
      "le Vicomte de Mortemart\n",
      "Montmorencys\n",
      "Rohans\n",
      "Abbe Morio\n",
      "the Emperor\n",
      "the prince\n",
      "Prince Vasili\n",
      "Dowager Empress Marya Fedorovna\n",
      "the baron\n",
      "Anna Pavlovna\n",
      "the Empress\n",
      "the Empress\n",
      "Anna Pavlovna's\n",
      "Her Majesty\n",
      "Baron\n",
      "Funke\n",
      "The prince\n",
      "Anna\n",
      "Pavlovna\n",
      "the Empress\n",
      "The prince\n",
      "Anatole\n",
      "the prince\n",
      "The prince\n",
      "Anna\n",
      "Pavlovna\n",
      "Anna Pavlovna\n"
     ]
    }
   ],
   "source": [
    "# 등장인물의 이름: 녹색 추출\n",
    "url = 'https://www.pythonscraping.com/pages/warandpeace.html'\n",
    "html = requests.get(url)\n",
    "soup = BeautifulSoup(html.text, 'html.parser')\n",
    "namelist = soup.find_all('span', class_ = 'green')\n",
    "print(len(namelist))\n",
    "for name in namelist:\n",
    "    print(name.text)"
   ]
  },
  {
   "cell_type": "markdown",
   "metadata": {},
   "source": [
    "#### 특정단어 찾기 (검색)"
   ]
  },
  {
   "cell_type": "code",
   "execution_count": 6,
   "metadata": {},
   "outputs": [
    {
     "name": "stdout",
     "output_type": "stream",
     "text": [
      "['the prince', 'the prince', 'the prince', 'the prince', 'the prince', 'the prince', 'the prince']\n"
     ]
    }
   ],
   "source": [
    "princelist = soup.find_all(text='the prince')\n",
    "print(princelist)\n",
    "\n",
    "# 생각해볼 수 있는것: 인물들 이름과 카운트 개수가 표시된 데이터프레임"
   ]
  },
  {
   "cell_type": "markdown",
   "metadata": {},
   "source": [
    "#### 트리 이동"
   ]
  },
  {
   "cell_type": "code",
   "execution_count": 7,
   "metadata": {},
   "outputs": [
    {
     "data": {
      "text/plain": [
       "<html>\n",
       "<head>\n",
       "<style>\n",
       "img{\n",
       "\twidth:75px;\n",
       "}\n",
       "table{\n",
       "\twidth:50%;\n",
       "}\n",
       "td{\n",
       "\tmargin:10px;\n",
       "\tpadding:10px;\n",
       "}\n",
       ".wrapper{\n",
       "\twidth:800px;\n",
       "}\n",
       ".excitingNote{\n",
       "\tfont-style:italic;\n",
       "\tfont-weight:bold;\n",
       "}\n",
       "</style>\n",
       "</head>\n",
       "<body>\n",
       "<div id=\"wrapper\">\n",
       "<img src=\"../img/gifts/logo.jpg\" style=\"float:left;\"/>\n",
       "<h1>Totally Normal Gifts</h1>\n",
       "<div id=\"content\">Here is a collection of totally normal, totally reasonable gifts that your friends are sure to love! Our collection is\n",
       "hand-curated by well-paid, free-range Tibetan monks.<p>\n",
       "We haven't figured out how to make online shopping carts yet, but you can send us a check to:<br/>\n",
       "123 Main St.<br/>\n",
       "Abuja, Nigeria\n",
       "We will then send your totally amazing gift, pronto! Please include an extra $5.00 for gift wrapping.</p></div>\n",
       "<table id=\"giftList\">\n",
       "<tr><th>\n",
       "Item Title\n",
       "</th><th>\n",
       "Description\n",
       "</th><th>\n",
       "Cost\n",
       "</th><th>\n",
       "Image\n",
       "</th></tr>\n",
       "<tr class=\"gift\" id=\"gift1\"><td>\n",
       "Vegetable Basket\n",
       "</td><td>\n",
       "This vegetable basket is the perfect gift for your health conscious (or overweight) friends!\n",
       "<span class=\"excitingNote\">Now with super-colorful bell peppers!</span>\n",
       "</td><td>\n",
       "$15.00\n",
       "</td><td>\n",
       "<img src=\"../img/gifts/img1.jpg\"/>\n",
       "</td></tr>\n",
       "<tr class=\"gift\" id=\"gift2\"><td>\n",
       "Russian Nesting Dolls\n",
       "</td><td>\n",
       "Hand-painted by trained monkeys, these exquisite dolls are priceless! And by \"priceless,\" we mean \"extremely expensive\"! <span class=\"excitingNote\">8 entire dolls per set! Octuple the presents!</span>\n",
       "</td><td>\n",
       "$10,000.52\n",
       "</td><td>\n",
       "<img src=\"../img/gifts/img2.jpg\"/>\n",
       "</td></tr>\n",
       "<tr class=\"gift\" id=\"gift3\"><td>\n",
       "Fish Painting\n",
       "</td><td>\n",
       "If something seems fishy about this painting, it's because it's a fish! <span class=\"excitingNote\">Also hand-painted by trained monkeys!</span>\n",
       "</td><td>\n",
       "$10,005.00\n",
       "</td><td>\n",
       "<img src=\"../img/gifts/img3.jpg\"/>\n",
       "</td></tr>\n",
       "<tr class=\"gift\" id=\"gift4\"><td>\n",
       "Dead Parrot\n",
       "</td><td>\n",
       "This is an ex-parrot! <span class=\"excitingNote\">Or maybe he's only resting?</span>\n",
       "</td><td>\n",
       "$0.50\n",
       "</td><td>\n",
       "<img src=\"../img/gifts/img4.jpg\"/>\n",
       "</td></tr>\n",
       "<tr class=\"gift\" id=\"gift5\"><td>\n",
       "Mystery Box\n",
       "</td><td>\n",
       "If you love suprises, this mystery box is for you! Do not place on light-colored surfaces. May cause oil staining. <span class=\"excitingNote\">Keep your friends guessing!</span>\n",
       "</td><td>\n",
       "$1.50\n",
       "</td><td>\n",
       "<img src=\"../img/gifts/img6.jpg\"/>\n",
       "</td></tr>\n",
       "</table>\n",
       "\n",
       "<div id=\"footer\">\n",
       "© Totally Normal Gifts, Inc. <br/>\n",
       "+234 (617) 863-0736\n",
       "</div>\n",
       "</div>\n",
       "</body>\n",
       "</html>"
      ]
     },
     "execution_count": 7,
     "metadata": {},
     "output_type": "execute_result"
    }
   ],
   "source": [
    "url = 'https://www.pythonscraping.com/pages/page3.html'\n",
    "html = requests.get(url)\n",
    "soup = BeautifulSoup(html.text, 'html.parser')\n",
    "soup"
   ]
  },
  {
   "cell_type": "code",
   "execution_count": 8,
   "metadata": {},
   "outputs": [
    {
     "name": "stdout",
     "output_type": "stream",
     "text": [
      "아이: \n",
      "\n",
      "아이: <tr><th>\n",
      "Item Title\n",
      "</th><th>\n",
      "Description\n",
      "</th><th>\n",
      "Cost\n",
      "</th><th>\n",
      "Image\n",
      "</th></tr>\n",
      "아이: \n",
      "\n",
      "아이: <tr class=\"gift\" id=\"gift1\"><td>\n",
      "Vegetable Basket\n",
      "</td><td>\n",
      "This vegetable basket is the perfect gift for your health conscious (or overweight) friends!\n",
      "<span class=\"excitingNote\">Now with super-colorful bell peppers!</span>\n",
      "</td><td>\n",
      "$15.00\n",
      "</td><td>\n",
      "<img src=\"../img/gifts/img1.jpg\"/>\n",
      "</td></tr>\n",
      "아이: \n",
      "\n",
      "아이: <tr class=\"gift\" id=\"gift2\"><td>\n",
      "Russian Nesting Dolls\n",
      "</td><td>\n",
      "Hand-painted by trained monkeys, these exquisite dolls are priceless! And by \"priceless,\" we mean \"extremely expensive\"! <span class=\"excitingNote\">8 entire dolls per set! Octuple the presents!</span>\n",
      "</td><td>\n",
      "$10,000.52\n",
      "</td><td>\n",
      "<img src=\"../img/gifts/img2.jpg\"/>\n",
      "</td></tr>\n",
      "아이: \n",
      "\n",
      "아이: <tr class=\"gift\" id=\"gift3\"><td>\n",
      "Fish Painting\n",
      "</td><td>\n",
      "If something seems fishy about this painting, it's because it's a fish! <span class=\"excitingNote\">Also hand-painted by trained monkeys!</span>\n",
      "</td><td>\n",
      "$10,005.00\n",
      "</td><td>\n",
      "<img src=\"../img/gifts/img3.jpg\"/>\n",
      "</td></tr>\n",
      "아이: \n",
      "\n",
      "아이: <tr class=\"gift\" id=\"gift4\"><td>\n",
      "Dead Parrot\n",
      "</td><td>\n",
      "This is an ex-parrot! <span class=\"excitingNote\">Or maybe he's only resting?</span>\n",
      "</td><td>\n",
      "$0.50\n",
      "</td><td>\n",
      "<img src=\"../img/gifts/img4.jpg\"/>\n",
      "</td></tr>\n",
      "아이: \n",
      "\n",
      "아이: <tr class=\"gift\" id=\"gift5\"><td>\n",
      "Mystery Box\n",
      "</td><td>\n",
      "If you love suprises, this mystery box is for you! Do not place on light-colored surfaces. May cause oil staining. <span class=\"excitingNote\">Keep your friends guessing!</span>\n",
      "</td><td>\n",
      "$1.50\n",
      "</td><td>\n",
      "<img src=\"../img/gifts/img6.jpg\"/>\n",
      "</td></tr>\n",
      "아이: \n",
      "\n"
     ]
    }
   ],
   "source": [
    "# 자식으로 분할 (children 소환)\n",
    "table_tag = soup.select_one('#giftList')\n",
    "for child in table_tag.children:\n",
    "    print(f'아이: {child}')"
   ]
  },
  {
   "cell_type": "code",
   "execution_count": 9,
   "metadata": {},
   "outputs": [
    {
     "name": "stdout",
     "output_type": "stream",
     "text": [
      "descendants 개수:  86\n",
      "\n",
      "\n",
      "--------------------------------------------------------------------------------\n",
      "<tr><th>\n",
      "Item Title\n",
      "</th><th>\n",
      "Description\n",
      "</th><th>\n",
      "Cost\n",
      "</th><th>\n",
      "Image\n",
      "</th></tr>\n",
      "--------------------------------------------------------------------------------\n",
      "<th>\n",
      "Item Title\n",
      "</th>\n",
      "--------------------------------------------------------------------------------\n",
      "\n",
      "Item Title\n",
      "\n",
      "--------------------------------------------------------------------------------\n",
      "<th>\n",
      "Description\n",
      "</th>\n",
      "--------------------------------------------------------------------------------\n",
      "\n",
      "Description\n",
      "\n",
      "--------------------------------------------------------------------------------\n",
      "<th>\n",
      "Cost\n",
      "</th>\n",
      "--------------------------------------------------------------------------------\n",
      "\n",
      "Cost\n",
      "\n",
      "--------------------------------------------------------------------------------\n",
      "<th>\n",
      "Image\n",
      "</th>\n",
      "--------------------------------------------------------------------------------\n",
      "\n",
      "Image\n",
      "\n",
      "--------------------------------------------------------------------------------\n",
      "\n",
      "\n",
      "--------------------------------------------------------------------------------\n",
      "<tr class=\"gift\" id=\"gift1\"><td>\n",
      "Vegetable Basket\n",
      "</td><td>\n",
      "This vegetable basket is the perfect gift for your health conscious (or overweight) friends!\n",
      "<span class=\"excitingNote\">Now with super-colorful bell peppers!</span>\n",
      "</td><td>\n",
      "$15.00\n",
      "</td><td>\n",
      "<img src=\"../img/gifts/img1.jpg\"/>\n",
      "</td></tr>\n",
      "--------------------------------------------------------------------------------\n",
      "<td>\n",
      "Vegetable Basket\n",
      "</td>\n",
      "--------------------------------------------------------------------------------\n",
      "\n",
      "Vegetable Basket\n",
      "\n",
      "--------------------------------------------------------------------------------\n",
      "<td>\n",
      "This vegetable basket is the perfect gift for your health conscious (or overweight) friends!\n",
      "<span class=\"excitingNote\">Now with super-colorful bell peppers!</span>\n",
      "</td>\n",
      "--------------------------------------------------------------------------------\n",
      "\n",
      "This vegetable basket is the perfect gift for your health conscious (or overweight) friends!\n",
      "\n",
      "--------------------------------------------------------------------------------\n",
      "<span class=\"excitingNote\">Now with super-colorful bell peppers!</span>\n",
      "--------------------------------------------------------------------------------\n",
      "Now with super-colorful bell peppers!\n",
      "--------------------------------------------------------------------------------\n",
      "\n",
      "\n",
      "--------------------------------------------------------------------------------\n",
      "<td>\n",
      "$15.00\n",
      "</td>\n",
      "--------------------------------------------------------------------------------\n",
      "\n",
      "$15.00\n",
      "\n",
      "--------------------------------------------------------------------------------\n",
      "<td>\n",
      "<img src=\"../img/gifts/img1.jpg\"/>\n",
      "</td>\n",
      "--------------------------------------------------------------------------------\n",
      "\n",
      "\n",
      "--------------------------------------------------------------------------------\n",
      "<img src=\"../img/gifts/img1.jpg\"/>\n",
      "--------------------------------------------------------------------------------\n",
      "\n",
      "\n",
      "--------------------------------------------------------------------------------\n",
      "\n",
      "\n",
      "--------------------------------------------------------------------------------\n",
      "<tr class=\"gift\" id=\"gift2\"><td>\n",
      "Russian Nesting Dolls\n",
      "</td><td>\n",
      "Hand-painted by trained monkeys, these exquisite dolls are priceless! And by \"priceless,\" we mean \"extremely expensive\"! <span class=\"excitingNote\">8 entire dolls per set! Octuple the presents!</span>\n",
      "</td><td>\n",
      "$10,000.52\n",
      "</td><td>\n",
      "<img src=\"../img/gifts/img2.jpg\"/>\n",
      "</td></tr>\n",
      "--------------------------------------------------------------------------------\n",
      "<td>\n",
      "Russian Nesting Dolls\n",
      "</td>\n",
      "--------------------------------------------------------------------------------\n",
      "\n",
      "Russian Nesting Dolls\n",
      "\n",
      "--------------------------------------------------------------------------------\n",
      "<td>\n",
      "Hand-painted by trained monkeys, these exquisite dolls are priceless! And by \"priceless,\" we mean \"extremely expensive\"! <span class=\"excitingNote\">8 entire dolls per set! Octuple the presents!</span>\n",
      "</td>\n",
      "--------------------------------------------------------------------------------\n",
      "\n",
      "Hand-painted by trained monkeys, these exquisite dolls are priceless! And by \"priceless,\" we mean \"extremely expensive\"! \n",
      "--------------------------------------------------------------------------------\n",
      "<span class=\"excitingNote\">8 entire dolls per set! Octuple the presents!</span>\n",
      "--------------------------------------------------------------------------------\n",
      "8 entire dolls per set! Octuple the presents!\n",
      "--------------------------------------------------------------------------------\n",
      "\n",
      "\n",
      "--------------------------------------------------------------------------------\n",
      "<td>\n",
      "$10,000.52\n",
      "</td>\n",
      "--------------------------------------------------------------------------------\n",
      "\n",
      "$10,000.52\n",
      "\n",
      "--------------------------------------------------------------------------------\n",
      "<td>\n",
      "<img src=\"../img/gifts/img2.jpg\"/>\n",
      "</td>\n",
      "--------------------------------------------------------------------------------\n",
      "\n",
      "\n",
      "--------------------------------------------------------------------------------\n",
      "<img src=\"../img/gifts/img2.jpg\"/>\n",
      "--------------------------------------------------------------------------------\n",
      "\n",
      "\n",
      "--------------------------------------------------------------------------------\n",
      "\n",
      "\n",
      "--------------------------------------------------------------------------------\n",
      "<tr class=\"gift\" id=\"gift3\"><td>\n",
      "Fish Painting\n",
      "</td><td>\n",
      "If something seems fishy about this painting, it's because it's a fish! <span class=\"excitingNote\">Also hand-painted by trained monkeys!</span>\n",
      "</td><td>\n",
      "$10,005.00\n",
      "</td><td>\n",
      "<img src=\"../img/gifts/img3.jpg\"/>\n",
      "</td></tr>\n",
      "--------------------------------------------------------------------------------\n",
      "<td>\n",
      "Fish Painting\n",
      "</td>\n",
      "--------------------------------------------------------------------------------\n",
      "\n",
      "Fish Painting\n",
      "\n",
      "--------------------------------------------------------------------------------\n",
      "<td>\n",
      "If something seems fishy about this painting, it's because it's a fish! <span class=\"excitingNote\">Also hand-painted by trained monkeys!</span>\n",
      "</td>\n",
      "--------------------------------------------------------------------------------\n",
      "\n",
      "If something seems fishy about this painting, it's because it's a fish! \n",
      "--------------------------------------------------------------------------------\n",
      "<span class=\"excitingNote\">Also hand-painted by trained monkeys!</span>\n",
      "--------------------------------------------------------------------------------\n",
      "Also hand-painted by trained monkeys!\n",
      "--------------------------------------------------------------------------------\n",
      "\n",
      "\n",
      "--------------------------------------------------------------------------------\n",
      "<td>\n",
      "$10,005.00\n",
      "</td>\n",
      "--------------------------------------------------------------------------------\n",
      "\n",
      "$10,005.00\n",
      "\n",
      "--------------------------------------------------------------------------------\n",
      "<td>\n",
      "<img src=\"../img/gifts/img3.jpg\"/>\n",
      "</td>\n",
      "--------------------------------------------------------------------------------\n",
      "\n",
      "\n",
      "--------------------------------------------------------------------------------\n",
      "<img src=\"../img/gifts/img3.jpg\"/>\n",
      "--------------------------------------------------------------------------------\n",
      "\n",
      "\n",
      "--------------------------------------------------------------------------------\n",
      "\n",
      "\n",
      "--------------------------------------------------------------------------------\n",
      "<tr class=\"gift\" id=\"gift4\"><td>\n",
      "Dead Parrot\n",
      "</td><td>\n",
      "This is an ex-parrot! <span class=\"excitingNote\">Or maybe he's only resting?</span>\n",
      "</td><td>\n",
      "$0.50\n",
      "</td><td>\n",
      "<img src=\"../img/gifts/img4.jpg\"/>\n",
      "</td></tr>\n",
      "--------------------------------------------------------------------------------\n",
      "<td>\n",
      "Dead Parrot\n",
      "</td>\n",
      "--------------------------------------------------------------------------------\n",
      "\n",
      "Dead Parrot\n",
      "\n",
      "--------------------------------------------------------------------------------\n",
      "<td>\n",
      "This is an ex-parrot! <span class=\"excitingNote\">Or maybe he's only resting?</span>\n",
      "</td>\n",
      "--------------------------------------------------------------------------------\n",
      "\n",
      "This is an ex-parrot! \n",
      "--------------------------------------------------------------------------------\n",
      "<span class=\"excitingNote\">Or maybe he's only resting?</span>\n",
      "--------------------------------------------------------------------------------\n",
      "Or maybe he's only resting?\n",
      "--------------------------------------------------------------------------------\n",
      "\n",
      "\n",
      "--------------------------------------------------------------------------------\n",
      "<td>\n",
      "$0.50\n",
      "</td>\n",
      "--------------------------------------------------------------------------------\n",
      "\n",
      "$0.50\n",
      "\n",
      "--------------------------------------------------------------------------------\n",
      "<td>\n",
      "<img src=\"../img/gifts/img4.jpg\"/>\n",
      "</td>\n",
      "--------------------------------------------------------------------------------\n",
      "\n",
      "\n",
      "--------------------------------------------------------------------------------\n",
      "<img src=\"../img/gifts/img4.jpg\"/>\n",
      "--------------------------------------------------------------------------------\n",
      "\n",
      "\n",
      "--------------------------------------------------------------------------------\n",
      "\n",
      "\n",
      "--------------------------------------------------------------------------------\n",
      "<tr class=\"gift\" id=\"gift5\"><td>\n",
      "Mystery Box\n",
      "</td><td>\n",
      "If you love suprises, this mystery box is for you! Do not place on light-colored surfaces. May cause oil staining. <span class=\"excitingNote\">Keep your friends guessing!</span>\n",
      "</td><td>\n",
      "$1.50\n",
      "</td><td>\n",
      "<img src=\"../img/gifts/img6.jpg\"/>\n",
      "</td></tr>\n",
      "--------------------------------------------------------------------------------\n",
      "<td>\n",
      "Mystery Box\n",
      "</td>\n",
      "--------------------------------------------------------------------------------\n",
      "\n",
      "Mystery Box\n",
      "\n",
      "--------------------------------------------------------------------------------\n",
      "<td>\n",
      "If you love suprises, this mystery box is for you! Do not place on light-colored surfaces. May cause oil staining. <span class=\"excitingNote\">Keep your friends guessing!</span>\n",
      "</td>\n",
      "--------------------------------------------------------------------------------\n",
      "\n",
      "If you love suprises, this mystery box is for you! Do not place on light-colored surfaces. May cause oil staining. \n",
      "--------------------------------------------------------------------------------\n",
      "<span class=\"excitingNote\">Keep your friends guessing!</span>\n",
      "--------------------------------------------------------------------------------\n",
      "Keep your friends guessing!\n",
      "--------------------------------------------------------------------------------\n",
      "\n",
      "\n",
      "--------------------------------------------------------------------------------\n",
      "<td>\n",
      "$1.50\n",
      "</td>\n",
      "--------------------------------------------------------------------------------\n",
      "\n",
      "$1.50\n",
      "\n",
      "--------------------------------------------------------------------------------\n",
      "<td>\n",
      "<img src=\"../img/gifts/img6.jpg\"/>\n",
      "</td>\n",
      "--------------------------------------------------------------------------------\n",
      "\n",
      "\n",
      "--------------------------------------------------------------------------------\n",
      "<img src=\"../img/gifts/img6.jpg\"/>\n",
      "--------------------------------------------------------------------------------\n",
      "\n",
      "\n",
      "--------------------------------------------------------------------------------\n",
      "\n",
      "\n",
      "--------------------------------------------------------------------------------\n"
     ]
    }
   ],
   "source": [
    "# 자손(descendants)으로 분할\n",
    "desc = soup.select_one('#giftList').descendants\n",
    "print('descendants 개수: ', len(list(desc)))\n",
    "\n",
    "for child in soup.select_one('#giftList').descendants:\n",
    "    print(child)\n",
    "    print('-'* 80)"
   ]
  },
  {
   "cell_type": "code",
   "execution_count": 10,
   "metadata": {},
   "outputs": [
    {
     "name": "stdout",
     "output_type": "stream",
     "text": [
      "\n",
      "\n",
      "<tr class=\"gift\" id=\"gift1\"><td>\n",
      "Vegetable Basket\n",
      "</td><td>\n",
      "This vegetable basket is the perfect gift for your health conscious (or overweight) friends!\n",
      "<span class=\"excitingNote\">Now with super-colorful bell peppers!</span>\n",
      "</td><td>\n",
      "$15.00\n",
      "</td><td>\n",
      "<img src=\"../img/gifts/img1.jpg\"/>\n",
      "</td></tr>\n",
      "\n",
      "\n",
      "<tr class=\"gift\" id=\"gift2\"><td>\n",
      "Russian Nesting Dolls\n",
      "</td><td>\n",
      "Hand-painted by trained monkeys, these exquisite dolls are priceless! And by \"priceless,\" we mean \"extremely expensive\"! <span class=\"excitingNote\">8 entire dolls per set! Octuple the presents!</span>\n",
      "</td><td>\n",
      "$10,000.52\n",
      "</td><td>\n",
      "<img src=\"../img/gifts/img2.jpg\"/>\n",
      "</td></tr>\n",
      "\n",
      "\n",
      "<tr class=\"gift\" id=\"gift3\"><td>\n",
      "Fish Painting\n",
      "</td><td>\n",
      "If something seems fishy about this painting, it's because it's a fish! <span class=\"excitingNote\">Also hand-painted by trained monkeys!</span>\n",
      "</td><td>\n",
      "$10,005.00\n",
      "</td><td>\n",
      "<img src=\"../img/gifts/img3.jpg\"/>\n",
      "</td></tr>\n",
      "\n",
      "\n",
      "<tr class=\"gift\" id=\"gift4\"><td>\n",
      "Dead Parrot\n",
      "</td><td>\n",
      "This is an ex-parrot! <span class=\"excitingNote\">Or maybe he's only resting?</span>\n",
      "</td><td>\n",
      "$0.50\n",
      "</td><td>\n",
      "<img src=\"../img/gifts/img4.jpg\"/>\n",
      "</td></tr>\n",
      "\n",
      "\n",
      "<tr class=\"gift\" id=\"gift5\"><td>\n",
      "Mystery Box\n",
      "</td><td>\n",
      "If you love suprises, this mystery box is for you! Do not place on light-colored surfaces. May cause oil staining. <span class=\"excitingNote\">Keep your friends guessing!</span>\n",
      "</td><td>\n",
      "$1.50\n",
      "</td><td>\n",
      "<img src=\"../img/gifts/img6.jpg\"/>\n",
      "</td></tr>\n",
      "\n",
      "\n"
     ]
    }
   ],
   "source": [
    "#트리이동: 형제 다루기(next_siblings)\n",
    "# tr태그의 형제들을 찾는다.( 정확히는 테이블의 다음 행들)\n",
    "for sibling in soup.select_one('#giftList').tr.next_siblings:\n",
    "    print(sibling)\n"
   ]
  },
  {
   "cell_type": "code",
   "execution_count": 11,
   "metadata": {},
   "outputs": [
    {
     "name": "stdout",
     "output_type": "stream",
     "text": [
      "\n",
      "\n",
      "<tr class=\"gift\" id=\"gift1\"><td>\n",
      "Vegetable Basket\n",
      "</td><td>\n",
      "This vegetable basket is the perfect gift for your health conscious (or overweight) friends!\n",
      "<span class=\"excitingNote\">Now with super-colorful bell peppers!</span>\n",
      "</td><td>\n",
      "$15.00\n",
      "</td><td>\n",
      "<img src=\"../img/gifts/img1.jpg\"/>\n",
      "</td></tr>\n",
      "\n",
      "\n",
      "<tr><th>\n",
      "Item Title\n",
      "</th><th>\n",
      "Description\n",
      "</th><th>\n",
      "Cost\n",
      "</th><th>\n",
      "Image\n",
      "</th></tr>\n",
      "\n",
      "\n"
     ]
    }
   ],
   "source": [
    "# 트리이동: 형제 다루기(previous_siblings)\n",
    "for sibling in soup.select_one('tr#gift2').previous_siblings:\n",
    "    print(sibling)"
   ]
  },
  {
   "cell_type": "code",
   "execution_count": 12,
   "metadata": {},
   "outputs": [
    {
     "name": "stdout",
     "output_type": "stream",
     "text": [
      "\n",
      "\n",
      "10\n"
     ]
    }
   ],
   "source": [
    "# 트리이동: 형제다루기 (next_sibling, previous_sibling)\n",
    "# 태그 하나만 반환\n",
    "sibling1 = soup.select_one('tr#gift3').next_sibling\n",
    "print(sibling1)\n",
    "\n",
    "# ord('문자'): 문자를 unicode 정수로 리턴 -> 체크용\n",
    "print(ord(sibling1))"
   ]
  },
  {
   "cell_type": "code",
   "execution_count": 13,
   "metadata": {},
   "outputs": [
    {
     "name": "stdout",
     "output_type": "stream",
     "text": [
      "<tr class=\"gift\" id=\"gift4\"><td>\n",
      "Dead Parrot\n",
      "</td><td>\n",
      "This is an ex-parrot! <span class=\"excitingNote\">Or maybe he's only resting?</span>\n",
      "</td><td>\n",
      "$0.50\n",
      "</td><td>\n",
      "<img src=\"../img/gifts/img4.jpg\"/>\n",
      "</td></tr>\n"
     ]
    }
   ],
   "source": [
    "sibling2 = soup.select_one('tr#gift3').next_sibling.next_sibling\n",
    "print(sibling2)"
   ]
  },
  {
   "cell_type": "code",
   "execution_count": 14,
   "metadata": {},
   "outputs": [
    {
     "name": "stdout",
     "output_type": "stream",
     "text": [
      "<head>\n",
      "<style>\n",
      "img{\n",
      "\twidth:75px;\n",
      "}\n",
      "table{\n",
      "\twidth:50%;\n",
      "}\n",
      "td{\n",
      "\tmargin:10px;\n",
      "\tpadding:10px;\n",
      "}\n",
      ".wrapper{\n",
      "\twidth:800px;\n",
      "}\n",
      ".excitingNote{\n",
      "\tfont-style:italic;\n",
      "\tfont-weight:bold;\n",
      "}\n",
      "</style>\n",
      "</head>\n"
     ]
    }
   ],
   "source": [
    "# 트리이동: 부모다루기(.parent) 사용\n",
    "# style의 부모는 head이다.\n",
    "style_tag = soup.style\n",
    "print(style_tag.parent)"
   ]
  },
  {
   "cell_type": "code",
   "execution_count": 15,
   "metadata": {},
   "outputs": [
    {
     "name": "stdout",
     "output_type": "stream",
     "text": [
      "\n",
      "$15.00\n",
      "\n"
     ]
    }
   ],
   "source": [
    "img1 = soup.find(\"img\", {'src': '../img/gifts/img1.jpg'})\n",
    "text = img1.parent.previous_sibling.text\n",
    "print(text)"
   ]
  },
  {
   "cell_type": "code",
   "execution_count": 16,
   "metadata": {},
   "outputs": [
    {
     "data": {
      "text/plain": [
       "'\\n$15.00\\n'"
      ]
     },
     "execution_count": 16,
     "metadata": {},
     "output_type": "execute_result"
    }
   ],
   "source": [
    "soup.select('img')[1].parent.previous_sibling.text"
   ]
  },
  {
   "cell_type": "markdown",
   "metadata": {},
   "source": [
    "### 정규 표현식\n",
    "- 정규 표현식: 특정한 규칙을 가진 문자열의 집합을 표현하는데 사용하는 형식 언어\n",
    "- 정규 표현식 사용:\n",
    "    1. 문자열과 관련된 문제 해결을 위해 사용\n",
    "    2. 문자열 치환, 검색, 추출 등\n",
    "    3. 문자열의 유효성 검사\n",
    "- 장점\n",
    "    1. 다양한 입력 문자열 처리가 간결\n",
    "    2. 범용성: 다양한 프로그래밍 언어에서 지원\n",
    "    3. 생산성 향상\n",
    "- 단점\n",
    "    1. 정규 표현식 자체의 어려움\n",
    "    2. 소스코드가 어려워짐"
   ]
  },
  {
   "cell_type": "code",
   "execution_count": 20,
   "metadata": {},
   "outputs": [
    {
     "name": "stdout",
     "output_type": "stream",
     "text": [
      "None\n",
      "<re.Match object; span=(7, 12), match='apple'>\n"
     ]
    }
   ],
   "source": [
    "import re\n",
    "# compile() 사용 안함\n",
    "m = re.match('[a-z]+', 'Python')\n",
    "print(m)\n",
    "print(re.search('apple', 'I like apple!'))\n"
   ]
  },
  {
   "cell_type": "code",
   "execution_count": 21,
   "metadata": {},
   "outputs": [
    {
     "name": "stdout",
     "output_type": "stream",
     "text": [
      "<re.Match object; span=(0, 6), match='python'>\n",
      "<re.Match object; span=(2, 6), match='like'>\n"
     ]
    }
   ],
   "source": [
    "# compile() 사용\n",
    "p = re.compile('[a-z]+') # 알파벳 소문자\n",
    "m = p.match('python')\n",
    "print(m)\n",
    "print(p.search('I like apple 123'))\n"
   ]
  },
  {
   "cell_type": "code",
   "execution_count": 24,
   "metadata": {},
   "outputs": [
    {
     "name": "stdout",
     "output_type": "stream",
     "text": [
      "like\n"
     ]
    }
   ],
   "source": [
    "print(p.search('I like apple 123').group())"
   ]
  },
  {
   "cell_type": "code",
   "execution_count": 28,
   "metadata": {},
   "outputs": [
    {
     "name": "stdout",
     "output_type": "stream",
     "text": [
      "['like', 'apple']\n"
     ]
    }
   ],
   "source": [
    "# findall은 일치하는 모든 문자열을 리스트로 반환\n",
    "p = re.compile('[a-z]+')\n",
    "result = p.findall('I like apple 123')\n",
    "print(result)"
   ]
  },
  {
   "cell_type": "code",
   "execution_count": 45,
   "metadata": {},
   "outputs": [
    {
     "name": "stdout",
     "output_type": "stream",
     "text": [
      "<re.Match object; span=(0, 11), match='02-123-4567'>\n",
      "None\n",
      "None\n"
     ]
    }
   ],
   "source": [
    "p = re.compile('[a-z]+')\n",
    "p.search('I like apple 123')\n",
    "\n",
    "# 전화번호 매치\n",
    "tel = re.compile(\"^(\\d{2,3})-(\\d{3,4})-(\\d{4})$\")\n",
    "print(tel.match('02-123-4567'))\n",
    "print(tel.match('053-950-45678'))\n",
    "print(tel.match('053950-4567'))"
   ]
  },
  {
   "cell_type": "code",
   "execution_count": 53,
   "metadata": {},
   "outputs": [
    {
     "data": {
      "text/plain": [
       "'4567'"
      ]
     },
     "execution_count": 53,
     "metadata": {},
     "output_type": "execute_result"
    }
   ],
   "source": [
    "m = tel.match('02-123-4567')\n",
    "m.groups()\n",
    "m.group(3)"
   ]
  },
  {
   "cell_type": "markdown",
   "metadata": {},
   "source": [
    "### 전방 탐색"
   ]
  },
  {
   "cell_type": "code",
   "execution_count": 54,
   "metadata": {},
   "outputs": [
    {
     "name": "stdout",
     "output_type": "stream",
     "text": [
      "<re.Match object; span=(0, 5), match='1000 '>\n",
      "<re.Match object; span=(0, 24), match='2022-07-01 00:00:01 ABC.'>\n",
      "<re.Match object; span=(9, 13), match='5678'>\n"
     ]
    }
   ],
   "source": [
    "# 전방 긍정 탐색 (?=): \n",
    "# 패턴과 일치하는 문자열을 만나면 앞의 문자열 반환\n",
    "lookahead1 = re.search('.+(?=won)', '1000 won')\n",
    "print(lookahead1)\n",
    "lookahead2 = re.search('.+(?=log:)', '2022-07-01 00:00:01 ABC.log: 전방탐색')\n",
    "print(lookahead2)\n",
    "# 전방 부정 탐색 (?!)\n",
    "# 패턴과 일치하는 문자열을 만나지 않으면 앞의 문자열 반환\n",
    "lookahead3 = re.search('\\d{4}(?!-)', '010-1234-5678')\n",
    "print(lookahead3)\n"
   ]
  },
  {
   "cell_type": "markdown",
   "metadata": {},
   "source": [
    "### 후방 탐색"
   ]
  },
  {
   "cell_type": "code",
   "execution_count": 57,
   "metadata": {},
   "outputs": [
    {
     "name": "stdout",
     "output_type": "stream",
     "text": [
      "<re.Match object; span=(28, 43), match=' this is python'>\n",
      "<re.Match object; span=(4, 8), match=' $51'>\n",
      "<re.Match object; span=(15, 18), match='100'>\n",
      "<re.Match object; span=(15, 18), match='100'>\n",
      "<re.Match object; span=(8, 10), match='30'>\n"
     ]
    }
   ],
   "source": [
    "# 후방 긍정 탐색\n",
    "lookbehind1 = re.search('(?<=log:).+', '2022-07-01 00:00:01 ABC.log: this is python')\n",
    "print(lookbehind1)\n",
    "lookbehind2 = re.search('(?<=:).+', 'USD: $51')\n",
    "print(lookbehind2)\n",
    "\n",
    "# 후방 부정 탐색(\\b: 공백(blank)검색)\n",
    "lookbehind3 = re.search(r'\\b(?<!\\$)\\d+\\b', 'I paid $30 for 100 apples.')\n",
    "print(lookbehind3)\n",
    "lookbehind4 = re.search('\\\\b(?<!\\\\$)\\\\d+\\\\b', 'I paid $30 for 100 apples.')\n",
    "print(lookbehind4)\n",
    "\n",
    "# 테스트\n",
    "lookbehind5 = re.search(r'\\b(?<=\\$)\\d+\\b', 'I paid $30 for 100 apples.')\n",
    "print(lookbehind5)"
   ]
  },
  {
   "cell_type": "code",
   "execution_count": 58,
   "metadata": {},
   "outputs": [
    {
     "name": "stdout",
     "output_type": "stream",
     "text": [
      "<re.Match object; span=(0, 6), match='Python'>\n",
      "pattern found\n"
     ]
    }
   ],
   "source": [
    "string = 'Python is fun'\n",
    "match = re.search('\\APython', string)\n",
    "print(match)\n",
    "if match:\n",
    "    print('pattern found')\n",
    "else:\n",
    "    print('Pattern not found')"
   ]
  },
  {
   "cell_type": "code",
   "execution_count": 61,
   "metadata": {},
   "outputs": [
    {
     "data": {
      "text/plain": [
       "'2021'"
      ]
     },
     "execution_count": 61,
     "metadata": {},
     "output_type": "execute_result"
    }
   ],
   "source": [
    "s = 'Python 3.10 was released on October 04, 2021'\n",
    "\n",
    "pattern = '\\d{4}'\n",
    "match = re.search(pattern, s)\n",
    "start, end = match.span()\n",
    "s[start:end]"
   ]
  },
  {
   "cell_type": "code",
   "execution_count": 19,
   "metadata": {},
   "outputs": [
    {
     "name": "stdout",
     "output_type": "stream",
     "text": [
      "html\n",
      "head\n",
      "style\n",
      "body\n",
      "div\n",
      "img\n",
      "h1\n",
      "div\n",
      "p\n",
      "br\n",
      "br\n",
      "table\n",
      "tr\n",
      "th\n",
      "th\n",
      "th\n",
      "th\n",
      "tr\n",
      "td\n",
      "td\n",
      "span\n",
      "td\n",
      "td\n",
      "img\n",
      "tr\n",
      "td\n",
      "td\n",
      "span\n",
      "td\n",
      "td\n",
      "img\n",
      "tr\n",
      "td\n",
      "td\n",
      "span\n",
      "td\n",
      "td\n",
      "img\n",
      "tr\n",
      "td\n",
      "td\n",
      "span\n",
      "td\n",
      "td\n",
      "img\n",
      "tr\n",
      "td\n",
      "td\n",
      "span\n",
      "td\n",
      "td\n",
      "img\n",
      "div\n",
      "br\n"
     ]
    },
    {
     "data": {
      "text/plain": [
       "[<span class=\"excitingNote\">Now with super-colorful bell peppers!</span>,\n",
       " <span class=\"excitingNote\">8 entire dolls per set! Octuple the presents!</span>,\n",
       " <span class=\"excitingNote\">Also hand-painted by trained monkeys!</span>,\n",
       " <span class=\"excitingNote\">Or maybe he's only resting?</span>,\n",
       " <span class=\"excitingNote\">Keep your friends guessing!</span>]"
      ]
     },
     "execution_count": 19,
     "metadata": {},
     "output_type": "execute_result"
    }
   ],
   "source": [
    "# True를 넣으면 모든 태그 나오는데, .name을 붙이면 태그 이름 반환\n",
    "for tag in soup.find_all(True):\n",
    "    print(tag.name)\n",
    "\n",
    "# find,select등에 함수 넣기\n",
    "def has_class_but_no_id(tag):\n",
    "    return tag.has_attr('class') and not tag.has_attr('id')\n",
    "\n",
    "# tag의 속성에 'class'가 있지만 'id'가 없는 태그만 반환\n",
    "soup.find_all(has_class_but_no_id)\n",
    "\n"
   ]
  },
  {
   "cell_type": "code",
   "execution_count": 67,
   "metadata": {},
   "outputs": [
    {
     "data": {
      "text/plain": [
       "<re.Match object; span=(7, 41), match='www.pythonscraping.com/pages/page3'>"
      ]
     },
     "execution_count": 67,
     "metadata": {},
     "output_type": "execute_result"
    }
   ],
   "source": [
    "# 전방탐색과 후방탐색 응용\n",
    "url = 'http://www.pythonscraping.com/pages/page3.html'\n",
    "m = re.compile(r'(?<=http://).*(?=\\.html)')\n",
    "m.search(url)"
   ]
  },
  {
   "cell_type": "code",
   "execution_count": 88,
   "metadata": {},
   "outputs": [
    {
     "name": "stdout",
     "output_type": "stream",
     "text": [
      "\n",
      "\n",
      "<img src=\"../img/gifts/logo.jpg\" style=\"float:left;\"/>\n",
      "\n",
      "\n",
      "<h1>Totally Normal Gifts</h1>\n",
      "\n",
      "\n",
      "<div id=\"content\">Here is a collection of totally normal, totally reasonable gifts that your friends are sure to love! Our collection is\n",
      "hand-curated by well-paid, free-range Tibetan monks.<p>\n",
      "We haven't figured out how to make online shopping carts yet, but you can send us a check to:<br/>\n",
      "123 Main St.<br/>\n",
      "Abuja, Nigeria\n",
      "We will then send your totally amazing gift, pronto! Please include an extra $5.00 for gift wrapping.</p></div>\n",
      "\n",
      "\n",
      "<table id=\"giftList\">\n",
      "<tr><th>\n",
      "Item Title\n",
      "</th><th>\n",
      "Description\n",
      "</th><th>\n",
      "Cost\n",
      "</th><th>\n",
      "Image\n",
      "</th></tr>\n",
      "<tr class=\"gift\" id=\"gift1\"><td>\n",
      "Vegetable Basket\n",
      "</td><td>\n",
      "This vegetable basket is the perfect gift for your health conscious (or overweight) friends!\n",
      "<span class=\"excitingNote\">Now with super-colorful bell peppers!</span>\n",
      "</td><td>\n",
      "$15.00\n",
      "</td><td>\n",
      "<img src=\"../img/gifts/img1.jpg\"/>\n",
      "</td></tr>\n",
      "<tr class=\"gift\" id=\"gift2\"><td>\n",
      "Russian Nesting Dolls\n",
      "</td><td>\n",
      "Hand-painted by trained monkeys, these exquisite dolls are priceless! And by \"priceless,\" we mean \"extremely expensive\"! <span class=\"excitingNote\">8 entire dolls per set! Octuple the presents!</span>\n",
      "</td><td>\n",
      "$10,000.52\n",
      "</td><td>\n",
      "<img src=\"../img/gifts/img2.jpg\"/>\n",
      "</td></tr>\n",
      "<tr class=\"gift\" id=\"gift3\"><td>\n",
      "Fish Painting\n",
      "</td><td>\n",
      "If something seems fishy about this painting, it's because it's a fish! <span class=\"excitingNote\">Also hand-painted by trained monkeys!</span>\n",
      "</td><td>\n",
      "$10,005.00\n",
      "</td><td>\n",
      "<img src=\"../img/gifts/img3.jpg\"/>\n",
      "</td></tr>\n",
      "<tr class=\"gift\" id=\"gift4\"><td>\n",
      "Dead Parrot\n",
      "</td><td>\n",
      "This is an ex-parrot! <span class=\"excitingNote\">Or maybe he's only resting?</span>\n",
      "</td><td>\n",
      "$0.50\n",
      "</td><td>\n",
      "<img src=\"../img/gifts/img4.jpg\"/>\n",
      "</td></tr>\n",
      "<tr class=\"gift\" id=\"gift5\"><td>\n",
      "Mystery Box\n",
      "</td><td>\n",
      "If you love suprises, this mystery box is for you! Do not place on light-colored surfaces. May cause oil staining. <span class=\"excitingNote\">Keep your friends guessing!</span>\n",
      "</td><td>\n",
      "$1.50\n",
      "</td><td>\n",
      "<img src=\"../img/gifts/img6.jpg\"/>\n",
      "</td></tr>\n",
      "</table>\n",
      "\n",
      "\n",
      "\n",
      "\n",
      "<div id=\"footer\">\n",
      "© Totally Normal Gifts, Inc. <br/>\n",
      "+234 (617) 863-0736\n",
      "</div>\n",
      "\n",
      "\n"
     ]
    }
   ],
   "source": [
    "for child in soup.select('#wrapper')[0].children:\n",
    "    print(child)"
   ]
  },
  {
   "cell_type": "markdown",
   "metadata": {},
   "source": [
    "### 정규 표현식과 BeautifulSoup"
   ]
  },
  {
   "cell_type": "code",
   "execution_count": 90,
   "metadata": {},
   "outputs": [
    {
     "name": "stdout",
     "output_type": "stream",
     "text": [
      "<img src=\"../img/gifts/img1.jpg\"/>, ../img/gifts/img1.jpg\n",
      "<img src=\"../img/gifts/img2.jpg\"/>, ../img/gifts/img2.jpg\n",
      "<img src=\"../img/gifts/img3.jpg\"/>, ../img/gifts/img3.jpg\n",
      "<img src=\"../img/gifts/img4.jpg\"/>, ../img/gifts/img4.jpg\n",
      "<img src=\"../img/gifts/img6.jpg\"/>, ../img/gifts/img6.jpg\n"
     ]
    }
   ],
   "source": [
    "img_tag = re.compile('/img/gifts/img.*.jpg')\n",
    "images = soup.find_all('img', src = img_tag)\n",
    "for image in images:\n",
    "    print(image, end=', ')\n",
    "    print(image['src'])"
   ]
  },
  {
   "cell_type": "markdown",
   "metadata": {},
   "source": [
    "### 정규 표현식과 BeautifulSoup2"
   ]
  },
  {
   "cell_type": "code",
   "execution_count": 95,
   "metadata": {},
   "outputs": [
    {
     "name": "stdout",
     "output_type": "stream",
     "text": [
      "the prince count:  7\n",
      "T|the prince count: 11\n"
     ]
    }
   ],
   "source": [
    "\n",
    "html = requests.get('http://www.pythonscraping.com/pages/warandpeace.html')\n",
    "bs = BeautifulSoup(html.text, 'html.parser')\n",
    "princeList = bs.find_all(text='the prince')\n",
    "print('the prince count: ', len(princeList))\n",
    "\n",
    "# find_all()에 정규식 사용 \n",
    "prince_list = bs.find_all(text=re.compile('[T|t]{1}he prince'))\n",
    "print('T|the prince count:', len(prince_list))\n",
    "\n"
   ]
  },
  {
   "cell_type": "code",
   "execution_count": null,
   "metadata": {},
   "outputs": [],
   "source": []
  }
 ],
 "metadata": {
  "kernelspec": {
   "display_name": "Python 3.9.10 64-bit",
   "language": "python",
   "name": "python3"
  },
  "language_info": {
   "codemirror_mode": {
    "name": "ipython",
    "version": 3
   },
   "file_extension": ".py",
   "mimetype": "text/x-python",
   "name": "python",
   "nbconvert_exporter": "python",
   "pygments_lexer": "ipython3",
   "version": "3.9.10"
  },
  "orig_nbformat": 4,
  "vscode": {
   "interpreter": {
    "hash": "cf92aa13fedf815d5c8dd192b8d835913fde3e8bc926b2a0ad6cc74ef2ba3ca2"
   }
  }
 },
 "nbformat": 4,
 "nbformat_minor": 2
}
