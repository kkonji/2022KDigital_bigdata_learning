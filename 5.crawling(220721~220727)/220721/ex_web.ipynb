{
 "cells": [
  {
   "cell_type": "markdown",
   "metadata": {},
   "source": [
    "## 목차\n",
    "- 웹 스크래이핑과 크롤링 \n",
    "- BeautifulSoup 소개\n",
    "- HTML 구성 및 태그\n",
    "- CSS 구성"
   ]
  },
  {
   "cell_type": "markdown",
   "metadata": {},
   "source": [
    "#### 웹사이트 가져오기"
   ]
  },
  {
   "cell_type": "code",
   "execution_count": null,
   "metadata": {},
   "outputs": [],
   "source": [
    "from urllib.request import urlopen\n",
    "\n",
    "html = urlopen('https://www.daangn.com/hot_articles')\n",
    "print(type(html))\n",
    "print(html.read())"
   ]
  },
  {
   "cell_type": "code",
   "execution_count": 9,
   "metadata": {},
   "outputs": [
    {
     "name": "stdout",
     "output_type": "stream",
     "text": [
      "<html>\n",
      "<head>\n",
      "<title>A Useful Page</title>\n",
      "</head>\n",
      "<body>\n",
      "<h1>An Interesting Title</h1>\n",
      "<div>\n",
      "Lorem ipsum dolor sit amet, consectetur adipisicing elit, sed do eiusmod tempor incididunt ut labore et dolore magna aliqua. Ut enim ad minim veniam, quis nostrud exercitation ullamco laboris nisi ut aliquip ex ea commodo consequat. Duis aute irure dolor in reprehenderit in voluptate velit esse cillum dolore eu fugiat nulla pariatur. Excepteur sint occaecat cupidatat non proident, sunt in culpa qui officia deserunt mollit anim id est laborum.\n",
      "</div>\n",
      "</body>\n",
      "</html>\n",
      "\n"
     ]
    }
   ],
   "source": [
    "from bs4 import BeautifulSoup\n",
    "html = urlopen('http://www.pythonscraping.com/pages/page1.html')\n",
    "\n",
    "bs = BeautifulSoup(html.read(), 'html.parser')\n",
    "print(bs)"
   ]
  },
  {
   "cell_type": "code",
   "execution_count": null,
   "metadata": {},
   "outputs": [],
   "source": [
    "# <head> </head>\n",
    "# <body> </body>\n",
    "# <h1> </h1>\n",
    "# <div> </div>"
   ]
  },
  {
   "cell_type": "markdown",
   "metadata": {},
   "source": [
    "### 신뢰할 수 있는 연결과 예외 처리\n",
    "- 페이지를 찾을 수 없는 경우\n",
    "    - 404 Page Not Found 에러 발생: HTTPError 예외 발생 시킴\n",
    "- 서버를 찾을 수 없는 경우\n",
    "    - 500 Internal Server Error 발생시 URLError 예외 발생 시킴"
   ]
  },
  {
   "cell_type": "code",
   "execution_count": 12,
   "metadata": {},
   "outputs": [
    {
     "name": "stdout",
     "output_type": "stream",
     "text": [
      "HTTP Error 404: Not Found\n"
     ]
    }
   ],
   "source": [
    "from urllib.request import urlopen\n",
    "from urllib.error import HTTPError\n",
    "from urllib.error import URLError\n",
    "try:\n",
    "    html = urlopen('http://www.pythonscraping.com/pages/error.html')\n",
    "except HTTPError as e:\n",
    "    print(e)\n",
    "except URLError as e:\n",
    "    print('The server could not be found!')\n",
    "else:\n",
    "    print('It worked!')"
   ]
  },
  {
   "cell_type": "markdown",
   "metadata": {},
   "source": [
    "### 존재하지 않은 태그 예외 처리\n",
    "- 존재하지 않은 경우 None으로 반환\n",
    "- None 객체에 접근, AttributeError 발생"
   ]
  },
  {
   "cell_type": "code",
   "execution_count": 17,
   "metadata": {},
   "outputs": [
    {
     "name": "stdout",
     "output_type": "stream",
     "text": [
      "h2 could not be found\n"
     ]
    }
   ],
   "source": [
    "from urllib.request import urlopen\n",
    "from urllib.error import HTTPError\n",
    "from bs4 import BeautifulSoup\n",
    "def gettitle(url, tag):\n",
    "    try:\n",
    "        html = urlopen(url)\n",
    "    except HTTPError as e:\n",
    "        return None\n",
    "    try:\n",
    "        bs = BeautifulSoup(html.read(), 'html.parser')\n",
    "        value = bs.body.find(tag)\n",
    "    except AttributeError as e:\n",
    "        return None\n",
    "\n",
    "    return value\n",
    "\n",
    "tag = 'h2'\n",
    "\n",
    "value = gettitle(\"http://www.pythonscraping.com/pages/page1.html\", tag)\n",
    "if value == None:\n",
    "    print(f'{tag} could not be found')\n",
    "else: print(value)\n"
   ]
  },
  {
   "cell_type": "markdown",
   "metadata": {},
   "source": [
    "- CSS에서의 class에 접근할때는 class_로 접근한다.(왜냐하면 파이썬의 class와 겹치기 때문)\n",
    "\n",
    "### 웹 크롤링 가능여부 확인\n",
    "robots.txt 추가\n",
    "• 웹사이트의 URL + /robots.txt 추가\n",
    "• 예: https://www.oreilly.com/robots.txt"
   ]
  },
  {
   "cell_type": "markdown",
   "metadata": {},
   "source": [
    "### BeautifulSoup 라이브러리 활용"
   ]
  },
  {
   "cell_type": "code",
   "execution_count": 34,
   "metadata": {},
   "outputs": [
    {
     "name": "stdout",
     "output_type": "stream",
     "text": [
      "\n",
      "      \n",
      "      \n",
      "      중고거래 인기매물\n",
      "  \n"
     ]
    }
   ],
   "source": [
    "from urllib.request import urlopen\n",
    "from bs4 import BeautifulSoup\n",
    "html = urlopen('https://www.daangn.com/hot_articles')\n",
    "bs = BeautifulSoup(html.read(), 'html.parser')\n",
    "print(bs.h1.text)"
   ]
  },
  {
   "cell_type": "code",
   "execution_count": 35,
   "metadata": {},
   "outputs": [],
   "source": [
    "\n",
    "html_example = '''<!DOCTYPE html>\n",
    "<html lang=\"en\">\n",
    "<head>\n",
    "    <meta charset=\"UTF-8\">\n",
    "    <meta name=\"viewport\" content=\"width=device-width, initial-scale=1.0\">\n",
    "    <title>BeautifulSoup 활용</title>\n",
    "</head>\n",
    "<body>\n",
    "    <h1 id=\"heading\">Heading 1</h1>\n",
    "    <p>Paragraph</p>\n",
    "    <span class=\"red\">BeautifulSoup Library Examples!</span>\n",
    "    <div id=\"link\">\n",
    "        <a class=\"external_link\" href=\"www.google.com\">google</a>\n",
    "\n",
    "        <div id=\"class1\">\n",
    "            <p id=\"first\">class1's first paragraph</p>\n",
    "            <a class=\"external_link\" href=\"www.naver.com\">naver</a>\n",
    "\n",
    "            <p id=\"second\">class1's second paragraph</p>\n",
    "            <a class=\"internal_link\" href=\"/pages/page1.html\">Page1</a>\n",
    "            <p id=\"third\">class1's third paragraph</p>\n",
    "        </div>\n",
    "    </div>\n",
    "    <div id=\"text_id2\">\n",
    "        Example page\n",
    "        <p>g</p>\n",
    "    </div>\n",
    "    <h1 id=\"footer\">Footer</h1>\n",
    "</body>\n",
    "</html>\n",
    "'''"
   ]
  },
  {
   "cell_type": "code",
   "execution_count": 41,
   "metadata": {},
   "outputs": [
    {
     "data": {
      "text/plain": [
       "<!DOCTYPE html>\n",
       "\n",
       "<html lang=\"en\">\n",
       "<head>\n",
       "<meta charset=\"utf-8\"/>\n",
       "<meta content=\"width=device-width, initial-scale=1.0\" name=\"viewport\"/>\n",
       "<title>BeautifulSoup 활용</title>\n",
       "</head>\n",
       "<body>\n",
       "<h1 id=\"heading\">Heading 1</h1>\n",
       "<p>Paragraph</p>\n",
       "<span class=\"red\">BeautifulSoup Library Examples!</span>\n",
       "<div id=\"link\">\n",
       "<a class=\"external_link\" href=\"www.google.com\">google</a>\n",
       "<div id=\"class1\">\n",
       "<p id=\"first\">class1's first paragraph</p>\n",
       "<a class=\"external_link\" href=\"www.naver.com\">naver</a>\n",
       "<p id=\"second\">class1's second paragraph</p>\n",
       "<a class=\"internal_link\" href=\"/pages/page1.html\">Page1</a>\n",
       "<p id=\"third\">class1's third paragraph</p>\n",
       "</div>\n",
       "</div>\n",
       "<div id=\"text_id2\">\n",
       "        Example page\n",
       "        <p>g</p>\n",
       "</div>\n",
       "<h1 id=\"footer\">Footer</h1>\n",
       "</body>\n",
       "</html>"
      ]
     },
     "execution_count": 41,
     "metadata": {},
     "output_type": "execute_result"
    }
   ],
   "source": [
    "bs = BeautifulSoup(html_example, 'html.parser')\n",
    "bs"
   ]
  },
  {
   "cell_type": "code",
   "execution_count": 69,
   "metadata": {},
   "outputs": [
    {
     "data": {
      "text/plain": [
       "[<a class=\"external_link\" href=\"www.google.com\">google</a>,\n",
       " <a class=\"external_link\" href=\"www.naver.com\">naver</a>,\n",
       " <a class=\"internal_link\" href=\"/pages/page1.html\">Page1</a>]"
      ]
     },
     "execution_count": 69,
     "metadata": {},
     "output_type": "execute_result"
    }
   ],
   "source": [
    "# 동일한 태그가 여러개가 있는 경우 최상단의 하나만 추출\n",
    "bs.title.text  # bs.title.get_text()도 사용가능\n",
    "bs.a.text\n",
    "bs.p.text\n",
    "bs.div.text\n",
    "bs.h1.get_text()\n",
    "\n",
    "# 해당 태그를 포함하고 있는 '부모' 찾기\n",
    "bs.div.parent\n",
    "\n",
    "bs.find_all('a')"
   ]
  },
  {
   "cell_type": "markdown",
   "metadata": {},
   "source": [
    "### 함수\n",
    "- find(), select_one() : 하나만 찾는것\n",
    "- find_all(), select() : 다 찾아주는 것"
   ]
  },
  {
   "cell_type": "code",
   "execution_count": 73,
   "metadata": {},
   "outputs": [
    {
     "name": "stdout",
     "output_type": "stream",
     "text": [
      "<div id=\"link\">\n",
      "<a class=\"external_link\" href=\"www.google.com\">google</a>\n",
      "<div id=\"class1\">\n",
      "<p id=\"first\">class1's first paragraph</p>\n",
      "<a class=\"external_link\" href=\"www.naver.com\">naver</a>\n",
      "<p id=\"second\">class1's second paragraph</p>\n",
      "<a class=\"internal_link\" href=\"/pages/page1.html\">Page1</a>\n",
      "<p id=\"third\">class1's third paragraph</p>\n",
      "</div>\n",
      "</div>\n"
     ]
    },
    {
     "data": {
      "text/plain": [
       "'<div id=\"link\">\\n <a class=\"external_link\" href=\"www.google.com\">\\n  google\\n </a>\\n <div id=\"class1\">\\n  <p id=\"first\">\\n   class1\\'s first paragraph\\n  </p>\\n  <a class=\"external_link\" href=\"www.naver.com\">\\n   naver\\n  </a>\\n  <p id=\"second\">\\n   class1\\'s second paragraph\\n  </p>\\n  <a class=\"internal_link\" href=\"/pages/page1.html\">\\n   Page1\\n  </a>\\n  <p id=\"third\">\\n   class1\\'s third paragraph\\n  </p>\\n </div>\\n</div>\\n'"
      ]
     },
     "execution_count": 73,
     "metadata": {},
     "output_type": "execute_result"
    }
   ],
   "source": [
    "# find(tag, attrs, recursive, text, keywords)\n",
    "print(bs.find('div'))\n",
    "div_tag = bs.find('div')\n",
    "div_tag.prettify()  # prettify()는 예쁘게 보여주는 메서드"
   ]
  },
  {
   "cell_type": "code",
   "execution_count": 75,
   "metadata": {},
   "outputs": [
    {
     "data": {
      "text/plain": [
       "'<div id=\"text_id2\">\\n Example page\\n <p>\\n  g\\n </p>\\n</div>\\n'"
      ]
     },
     "execution_count": 75,
     "metadata": {},
     "output_type": "execute_result"
    }
   ],
   "source": [
    "# find 함수에서 속성을 불러올때는 dict 형태로 불러온다. {속성: 속성값}\n",
    "div_tag = bs.find('div', {'id': 'text_id2'})\n",
    "div_tag.prettify()"
   ]
  },
  {
   "cell_type": "code",
   "execution_count": 84,
   "metadata": {},
   "outputs": [
    {
     "name": "stdout",
     "output_type": "stream",
     "text": [
      "Page1\n"
     ]
    }
   ],
   "source": [
    "# dict 안에 여러개의 속성 대입 가능\n",
    "# text 또는 get_text()로 문자열 값을 불러올 수 있다.\n",
    "div_tag =bs.find('a', {'class': 'internal_link', 'href': '/pages/page1.html'})\n",
    "div_tag.text"
   ]
  },
  {
   "cell_type": "code",
   "execution_count": 85,
   "metadata": {},
   "outputs": [
    {
     "name": "stdout",
     "output_type": "stream",
     "text": [
      "\n",
      "class1's first paragraph\n",
      "naver\n",
      "class1's second paragraph\n",
      "Page1\n",
      "class1's third paragraph\n",
      "\n"
     ]
    }
   ],
   "source": [
    "print(bs.find('div', {'id':'class1'}).text)"
   ]
  },
  {
   "cell_type": "code",
   "execution_count": null,
   "metadata": {},
   "outputs": [],
   "source": [
    "import requests\n",
    "url = 'https://en.wikipedia.org/wiki/Kevin_Bacon'\n",
    "html = requests.get(url)\n",
    "bs = BeautifulSoup(html.text, 'html.parser')\n",
    "bs.select('#content')"
   ]
  },
  {
   "cell_type": "markdown",
   "metadata": {},
   "source": [
    "마크업(Markup) 언어  \n",
    "• Mark(태그)로 둘러싸인 언어  \n",
    "• 태그는 문서의 골격을 작성하는데 사용  \n",
    "• HTML, XML 등  \n",
    "\n",
    "마크다운(Markdown)언어  \n",
    "• 마트업 언어의 일종  \n",
    "• 읽기 및 쓰기가 쉬운 문서 양식  \n",
    "– 복잡한 태그 구조가 사라지고 간단한 텍스트들과 몇 가지 문법으로 작성  "
   ]
  },
  {
   "cell_type": "code",
   "execution_count": null,
   "metadata": {},
   "outputs": [],
   "source": [
    "\n"
   ]
  }
 ],
 "metadata": {
  "kernelspec": {
   "display_name": "Python 3.9.10 64-bit",
   "language": "python",
   "name": "python3"
  },
  "language_info": {
   "codemirror_mode": {
    "name": "ipython",
    "version": 3
   },
   "file_extension": ".py",
   "mimetype": "text/x-python",
   "name": "python",
   "nbconvert_exporter": "python",
   "pygments_lexer": "ipython3",
   "version": "3.9.10"
  },
  "orig_nbformat": 4,
  "vscode": {
   "interpreter": {
    "hash": "cf92aa13fedf815d5c8dd192b8d835913fde3e8bc926b2a0ad6cc74ef2ba3ca2"
   }
  }
 },
 "nbformat": 4,
 "nbformat_minor": 2
}
