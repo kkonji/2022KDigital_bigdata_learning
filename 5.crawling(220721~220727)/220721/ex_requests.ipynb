{
 "cells": [
  {
   "cell_type": "code",
   "execution_count": null,
   "metadata": {},
   "outputs": [],
   "source": [
    "import requests\n",
    "import time\n",
    "for i in range(47):\n",
    "    url = f'https://www.msn.com/ko-kr/travel/photos/%EC%84%B8%EA%B3%84%EC%9D%98-%EB%86%80%EB%9D%BC%EC%9A%B4-%ED%95%AD%EA%B3%B5-%EC%82%AC%EC%A7%84/ss-AAL4Gb4?ocid=ems.msn.dl.CannesFrance#image={i}'\n",
    "    html = requests.get(url)\n",
    "    bs = BeautifulSoup(html.text, 'html.parser')\n",
    "    print(f'{i} 번째 이미지 페이지를 불러오고있습니다.')\n",
    "    time.sleep(3)\n",
    "    \n",
    "    # print(bs)"
   ]
  },
  {
   "cell_type": "code",
   "execution_count": 24,
   "metadata": {},
   "outputs": [
    {
     "name": "stdout",
     "output_type": "stream",
     "text": [
      "//static-entertainment-ks-s-msn-com.akamaized.net/sc/82/c22c7d.gif\n",
      "//static-entertainment-ks-s-msn-com.akamaized.net/sc/57/a49b8d.gif\n",
      "//img-s-msn-com.akamaized.net/tenant/amp/entityid/BBz35n4.img?h=17&w=0&m=6&q=60&o=t&l=f\n",
      "//img-s-msn-com.akamaized.net/tenant/amp/entityid/AAKlSua.img?h=373&w=624&m=6&q=60&o=t&l=f\n",
      "//c.msn.com/c.gif?udc=true&rid=8c0857014cce4c88bd201bc65d42fcbb&rnd=637939761062817970&rf=&tp=https%253A%252F%252Fwww.msn.com%252Fko-kr%252Ftravel%252Fphotos%252F%25EC%2584%25B8%25EA%25B3%2584%25EC%259D%2598-%25EB%2586%2580%25EB%259D%25BC%25EC%259A%25B4-%25ED%2595%25AD%25EA%25B3%25B5-%25EC%2582%25AC%25EC%25A7%2584%252Fss-AAL4Gb4%253Focid%253Dems.msn.dl.CannesFrance%2526fromMaestro%253Dtrue&di=1172&lng=ko-kr&activityId=8c0857014cce4c88bd201bc65d42fcbb&d.dgk=downlevel.pc&d.imd=0&st.dpt=travelphotos&st.sdpt=&subcvs=lifestyle&pg.n=gallery_classic&pg.t=gallery&pg.c=&pg.p=prime&anoncknm=&issso=0&aadState=0\n",
      "https://sb.scorecardresearch.com/p?c1=2&c2=3000001&cs_ucfr=1&rn=637939761062817970&c7=https%253A%252F%252Fwww.msn.com%252Fko-kr%252Ftravel%252Fphotos%252F%25EC%2584%25B8%25EA%25B3%2584%25EC%259D%2598-%25EB%2586%2580%25EB%259D%25BC%25EC%259A%25B4-%25ED%2595%25AD%25EA%25B3%25B5-%25EC%2582%25AC%25EC%25A7%2584%252Fss-AAL4Gb4%253Focid%253Dems.msn.dl.CannesFrance%2526fromMaestro%253Dtrue&c8=&c9=\n",
      "https://browser.events.data.msn.com/OneCollector/1.0/t.js?qsp=true&anoncknm=%22%22&name=%22MS.News.Web.PageView%22&time=%222022-07-21T04%3a55%3a06.2817970Z%22&ver=%224.0%22&iKey=%22o%3a0ded60c75e44443aa3484c42c1c43fe8%22&w=0&apikey=0ded60c75e44443aa3484c42c1c43fe8-9fc57d3f-fdac-4bcf-b927-75eafe60192e-7279&ext.intweb.msfpc=%22+%22&*page.name=%22gallery_classic%22&*page.type=%22gallery%22&*page.product=%22prime%22&*page.config=%22%22&*page.url=%22https%253A%252F%252Fwww.msn.com%252Fko-kr%252Ftravel%252Fphotos%252F%25EC%2584%25B8%25EA%25B3%2584%25EC%259D%2598-%25EB%2586%2580%25EB%259D%25BC%25EC%259A%25B4-%25ED%2595%25AD%25EA%25B3%25B5-%25EC%2582%25AC%25EC%25A7%2584%252Fss-AAL4Gb4%253Focid%253Dems.msn.dl.CannesFrance%2526fromMaestro%253Dtrue%22&*page.referral=%22%22&*page.isAutoRefresh=%220%22&*page.content.title=%22%22&*page.content.domainId=%221172%22&*page.content.brand=%22Photos%22&*page.content.partnerName=%22Microsoft%2bICE%22&*page.content.canvas=%22Browser%22&*page.content.vertical=%22lifestyle%22&*page.content.id=%22AAL4Gb4%22&*page.content.source=%22ss%22&*page.content.brandId=%22BB40Mo2%22&*page.content.category=%22travelphotos%22&*page.content.subcategory=%22%22&*page.content.parentId=%22%22&*page.content.idx=%221%22&*page.content.total=%2247%22&*browser.clientId=%22106B1F75BFBF64192A4B0E9DBE2C65EB%22&*browser.clientIdType=%22muid%22&*browser.muid=%22106B1F75BFBF64192A4B0E9DBE2C65EB%22&*browser.isMobile=%220%22&*request.activityId=%228c0857014cce4c88bd201bc65d42fcbb%22&*request.requestId=%228c0857014cce4c88bd201bc65d42fcbb%22&*timestamp*6=1658379306281&*eventIndex*6=1&*local.mkt=%22ko-kr%22&*user.isSignedIn=%22False%22\n",
      "src\n"
     ]
    }
   ],
   "source": [
    "import requests\n",
    "import time\n",
    "from bs4 import BeautifulSoup\n",
    "url = f'https://www.msn.com/ko-kr/travel/photos/%EC%84%B8%EA%B3%84%EC%9D%98-%EB%86%80%EB%9D%BC%EC%9A%B4-%ED%95%AD%EA%B3%B5-%EC%82%AC%EC%A7%84/ss-AAL4Gb4?ocid=ems.msn.dl.CannesFrance#image={1}'\n",
    "html = requests.get(url)\n",
    "bs = BeautifulSoup(html.text, 'html.parser')\n",
    "fbs = bs.find_all('img')\n",
    "for i in fbs:\n",
    "    print(i.get('src', 'src'))"
   ]
  }
 ],
 "metadata": {
  "kernelspec": {
   "display_name": "Python 3.9.10 64-bit",
   "language": "python",
   "name": "python3"
  },
  "language_info": {
   "codemirror_mode": {
    "name": "ipython",
    "version": 3
   },
   "file_extension": ".py",
   "mimetype": "text/x-python",
   "name": "python",
   "nbconvert_exporter": "python",
   "pygments_lexer": "ipython3",
   "version": "3.9.10"
  },
  "orig_nbformat": 4,
  "vscode": {
   "interpreter": {
    "hash": "cf92aa13fedf815d5c8dd192b8d835913fde3e8bc926b2a0ad6cc74ef2ba3ca2"
   }
  }
 },
 "nbformat": 4,
 "nbformat_minor": 2
}
