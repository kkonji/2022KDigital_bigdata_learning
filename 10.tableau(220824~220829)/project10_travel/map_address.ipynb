{
 "cells": [
  {
   "cell_type": "markdown",
   "metadata": {},
   "source": [
    "### 주소 -> 위도, 경도 추출"
   ]
  },
  {
   "cell_type": "code",
   "execution_count": 2,
   "metadata": {},
   "outputs": [
    {
     "name": "stdout",
     "output_type": "stream",
     "text": [
      "{'lat': '35.8779406718693', 'lng': '128.629190024219'}\n"
     ]
    }
   ],
   "source": [
    "# 카카오API를 사용하여 주소->좌표 변환\n",
    "import requests, json\n",
    "\n",
    "def get_location(address):\n",
    "  url = 'https://dapi.kakao.com/v2/local/search/address.json?query=' + address\n",
    "  # 'KaKaoAK '는 그대로 두시고 개인키만 지우고 입력해 주세요.\n",
    "  # ex) KakaoAK 6af8d4826f0e56c54bc794fa8a294\n",
    "  headers = {\"Authorization\": \"KakaoAK 75196a7c62313e8fde3a2e1ebeae56d4\"}\n",
    "  api_json = json.loads(str(requests.get(url,headers=headers).text))\n",
    "  if len(api_json['documents']) == 0:\n",
    "    return {'lat': \"\", 'lng': \"\"}\n",
    "  else:\n",
    "    address = api_json['documents'][0]['address']\n",
    "    crd = {\"lat\": str(address['y']), \"lng\": str(address['x'])}\n",
    "    address_name = address['address_name']\n",
    "\n",
    "    return crd\n",
    "\n",
    "crd = get_location(\"대구 동구 동부로 149-0\")\n",
    "print(crd)"
   ]
  },
  {
   "cell_type": "code",
   "execution_count": 3,
   "metadata": {},
   "outputs": [],
   "source": [
    "import pandas as pd\n",
    "df = pd.read_csv('./DATA/20220826173542_중심 관광지.csv', encoding='cp949', index_col=0)\n",
    "lat = df['주소'].apply(lambda z: get_location(z)['lat'])\n",
    "lng = df['주소'].apply(lambda z: get_location(z)['lng'])"
   ]
  },
  {
   "cell_type": "code",
   "execution_count": 4,
   "metadata": {},
   "outputs": [],
   "source": [
    "df['lat'] = lat\n",
    "df['lng'] = lng\n",
    "df.to_csv('jeju_jooyo.csv')"
   ]
  },
  {
   "cell_type": "code",
   "execution_count": 7,
   "metadata": {},
   "outputs": [],
   "source": [
    "df = pd.read_csv('jeju_jooyo2.csv', index_col=0)\n",
    "df2 = pd.read_csv('jeju_jooyo.csv', index_col=0)"
   ]
  },
  {
   "cell_type": "code",
   "execution_count": 22,
   "metadata": {},
   "outputs": [],
   "source": [
    "df3 = pd.concat([df,df2])\n",
    "df3.to_csv('jeju_jooyo3.csv')"
   ]
  }
 ],
 "metadata": {
  "kernelspec": {
   "display_name": "Python 3.9.10 64-bit",
   "language": "python",
   "name": "python3"
  },
  "language_info": {
   "codemirror_mode": {
    "name": "ipython",
    "version": 3
   },
   "file_extension": ".py",
   "mimetype": "text/x-python",
   "name": "python",
   "nbconvert_exporter": "python",
   "pygments_lexer": "ipython3",
   "version": "3.9.10"
  },
  "orig_nbformat": 4,
  "vscode": {
   "interpreter": {
    "hash": "cf92aa13fedf815d5c8dd192b8d835913fde3e8bc926b2a0ad6cc74ef2ba3ca2"
   }
  }
 },
 "nbformat": 4,
 "nbformat_minor": 2
}
