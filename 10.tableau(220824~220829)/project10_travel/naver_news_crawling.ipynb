{
 "cells": [
  {
   "cell_type": "code",
   "execution_count": 1,
   "metadata": {},
   "outputs": [],
   "source": [
    "import time\n",
    "import pandas as pd\n",
    "from bs4 import BeautifulSoup\n",
    "import requests\n",
    "from selenium import webdriver\n",
    "from selenium.webdriver.common.by import By\n",
    "from datetime import datetime\n",
    "from urllib.parse import quote_plus as qp\n",
    "import matplotlib.pyplot as plt\n",
    "PATH = '../home/chromedriver'"
   ]
  },
  {
   "cell_type": "markdown",
   "metadata": {},
   "source": [
    "### 네이버 기사에서 가지고 오고싶은것 : \n",
    "- input: 키워드, 개수(최대400) output: 기사제목, 날짜, 기사일부, 기사링크\n",
    "- 검색하고 싶은 단어: 펫, 반려동물, 애완동물, 펫테크 등"
   ]
  },
  {
   "cell_type": "code",
   "execution_count": 1,
   "metadata": {},
   "outputs": [],
   "source": [
    "import requests\n",
    "from bs4 import BeautifulSoup\n",
    "from urllib.parse import quote_plus as qp\n",
    "\n",
    "def naver_news_crawling(key, count):\n",
    "    naver_link = []\n",
    "    naver_title = []\n",
    "    naver_date = []\n",
    "    naver_partial_article = []\n",
    "    for i in range(0, count):\n",
    "        url = f'https://search.naver.com/search.naver?where=news&sm=tab_pge&query={qp(key)}&sort=0&photo=0&field=0&pd=0&ds=&de=&cluster_rank=30&mynews=0&office_type=0&office_section_code=0&news_office_checked=&nso=so:r,p:all,a:all&start={i*10+ 1}'\n",
    "        html = requests.get(url)\n",
    "        soup = BeautifulSoup(html.text, 'html.parser')\n",
    "        a = soup.select('.news_area > a')\n",
    "        b = soup.select('.news_info > .info_group > span')\n",
    "        c = soup.select('.dsc_wrap')\n",
    "    \n",
    "        naver_link.extend([i['href'] for i in a])\n",
    "        naver_title.extend([i['title'] for i in a])\n",
    "        naver_partial_article.extend([i.text for i in c])\n",
    "        naver_date.extend([i.text for i in b if  '면' not in i.text] )\n",
    "    return naver_link, naver_title, naver_date, naver_partial_article\n",
    "\n",
    "naver_link, naver_title, naver_date, naver_partial_article = naver_news_crawling('제주도 여행', 100)"
   ]
  },
  {
   "cell_type": "code",
   "execution_count": 2,
   "metadata": {},
   "outputs": [],
   "source": [
    "import pandas as pd\n",
    "df = pd.DataFrame({'title': naver_title, 'date': naver_date,'link': naver_link,'article': naver_partial_article})\n",
    "df.to_csv('pettech.csv', index=False)"
   ]
  }
 ],
 "metadata": {
  "kernelspec": {
   "display_name": "Python 3.9.10 64-bit",
   "language": "python",
   "name": "python3"
  },
  "language_info": {
   "codemirror_mode": {
    "name": "ipython",
    "version": 3
   },
   "file_extension": ".py",
   "mimetype": "text/x-python",
   "name": "python",
   "nbconvert_exporter": "python",
   "pygments_lexer": "ipython3",
   "version": "3.9.10"
  },
  "orig_nbformat": 4,
  "vscode": {
   "interpreter": {
    "hash": "cf92aa13fedf815d5c8dd192b8d835913fde3e8bc926b2a0ad6cc74ef2ba3ca2"
   }
  }
 },
 "nbformat": 4,
 "nbformat_minor": 2
}
