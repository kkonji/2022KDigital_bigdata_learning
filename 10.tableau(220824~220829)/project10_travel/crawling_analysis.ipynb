{
 "cells": [
  {
   "cell_type": "code",
   "execution_count": 3,
   "metadata": {},
   "outputs": [],
   "source": [
    "import pandas as pd"
   ]
  },
  {
   "cell_type": "code",
   "execution_count": 4,
   "metadata": {},
   "outputs": [],
   "source": [
    "df = pd.read_csv('aewandongmul.csv')\n",
    "df2 =pd.read_csv('banryeodongmul.csv')\n",
    "df3=pd.read_csv('pet.csv')\n",
    "df4=pd.read_csv('pettech.csv')"
   ]
  },
  {
   "cell_type": "code",
   "execution_count": 12,
   "metadata": {},
   "outputs": [
    {
     "data": {
      "text/plain": [
       "'http://www.enewstoday.co.kr/news/articleView.html?idxno=1593009'"
      ]
     },
     "execution_count": 12,
     "metadata": {},
     "output_type": "execute_result"
    }
   ],
   "source": [
    "df4.iloc[41,2]"
   ]
  },
  {
   "cell_type": "code",
   "execution_count": 11,
   "metadata": {},
   "outputs": [
    {
     "name": "stdout",
     "output_type": "stream",
     "text": [
      "                                         title   date  \\\n",
      "40  태국 관광객들, 제주도 여행 왔다가 추가 요금에 '헉'… \"여행사 조사하라\"   2일 전   \n",
      "41                   경기관광공사, '워케이션 여행지' 가볼만한 곳   2일 전   \n",
      "42                           가을맞이 온라인 한국여행 박람회   1일 전   \n",
      "43           장미인애, 큰 맘 먹고 간 태교여행인데..빙수 비주얼에 속상   3일 전   \n",
      "44  '임성빈♥' 신다은, 육아 벗어나 제주 여행 간 초보엄마 \"하루를 삼일처럼\"   4일 전   \n",
      "45  여행 서비스 플랫폼 제시카, 레인보우모빌리티렌터카-레인보우오토와 MOU 체결  4시간 전   \n",
      "46                         제주도, 관광진흥기금 특별융자 접수   4일 전   \n",
      "47                         \"제주도 항공권, 3만원이면 충분\"   4일 전   \n",
      "48          장미인애, 태교 여행+태교 먹방 제대로 하네..아름다운 D라인   4일 전   \n",
      "49              제주도 새 인증샷 명소 '꽃하르방' 박힌 티셔츠 나왔다   4일 전   \n",
      "\n",
      "                                                 link  \\\n",
      "40  https://www.asiatime.co.kr/article/20220824500034   \n",
      "41  http://www.enewstoday.co.kr/news/articleView.h...   \n",
      "42  https://news.koreadaily.com/2022/08/24/economy...   \n",
      "43  http://biz.heraldcorp.com/view.php?ud=20220823...   \n",
      "44  http://biz.heraldcorp.com/view.php?ud=20220822...   \n",
      "45  https://www.jejutwn.com/news/article.html?no=1...   \n",
      "46  https://news.kmib.co.kr/article/view.asp?arcid...   \n",
      "47  https://www.econovill.com/news/articleView.htm...   \n",
      "48  http://biz.heraldcorp.com/view.php?ud=20220822...   \n",
      "49              https://www.news1.kr/articles/4779659   \n",
      "\n",
      "                                              article  \n",
      "40   제주도 여행온 태국 관광객들 추가 요금 몸살 태국 패키지 여행사가 서비스 이용료 ...  \n",
      "41   산속이나 제주도의 감성 숙소로 순간 이동한 듯 푸릇한 전망을 펼쳐 보인다. 객실의...  \n",
      "42   한국 여행을 계획 중인 소비자는 아시아나 계약대리점에서 ‘안심여행 추천 상품’ 정...  \n",
      "43   현재 장미인애는 제주도로 태교여행을 간 상황, 제주도의 상징물인 돌하르방 모형이 ...  \n",
      "44   이번에 공개된 사진에는 친구들과 제주도로 여행을 떠난 신다은의 모습이 담겨 있다....  \n",
      "45   기반 여행 서비스 플랫폼 제시카는 레인보우모빌리티렌터카-레인보우오토와 '렌터카 딜...  \n",
      "46   제주도가 코로나19 장기화로 어려움을 겪는 관광업체의 경영 안정을 위해 올해 10...  \n",
      "47   최근 리오프닝 시대를 맞아 여행업이 살아나고 있으나, 아직은 해외여행이 부담스러운...  \n",
      "48   공개된 사진 속에는 장미인애가 여름 휴가 겸 태교 여행으로 제주도로 여행을 떠나 ...  \n",
      "49   꽃하르방은 지난 5월 로비에 설치한 이래 제주 여행의 인증샷 명소로 이름을 알리고...  \n"
     ]
    }
   ],
   "source": [
    "def loc_print(num, df):\n",
    "    print(df.loc[(10*num): (10*num + 9),:])\n",
    "    \n",
    "loc_print(4,df4)"
   ]
  }
 ],
 "metadata": {
  "kernelspec": {
   "display_name": "Python 3.9.10 64-bit",
   "language": "python",
   "name": "python3"
  },
  "language_info": {
   "codemirror_mode": {
    "name": "ipython",
    "version": 3
   },
   "file_extension": ".py",
   "mimetype": "text/x-python",
   "name": "python",
   "nbconvert_exporter": "python",
   "pygments_lexer": "ipython3",
   "version": "3.9.10"
  },
  "orig_nbformat": 4,
  "vscode": {
   "interpreter": {
    "hash": "cf92aa13fedf815d5c8dd192b8d835913fde3e8bc926b2a0ad6cc74ef2ba3ca2"
   }
  }
 },
 "nbformat": 4,
 "nbformat_minor": 2
}
