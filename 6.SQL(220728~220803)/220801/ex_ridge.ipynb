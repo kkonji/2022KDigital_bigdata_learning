{
 "cells": [
  {
   "cell_type": "code",
   "execution_count": 1,
   "metadata": {},
   "outputs": [
    {
     "name": "stdout",
     "output_type": "stream",
     "text": [
      "Collecting mglearn\n",
      "  Downloading mglearn-0.1.9.tar.gz (540 kB)\n",
      "     -------------------------------------- 540.1/540.1 kB 1.1 MB/s eta 0:00:00\n",
      "  Preparing metadata (setup.py): started\n",
      "  Preparing metadata (setup.py): finished with status 'done'\n",
      "Requirement already satisfied: numpy in c:\\users\\user\\appdata\\local\\programs\\python\\python39\\lib\\site-packages (from mglearn) (1.23.0)\n",
      "Requirement already satisfied: matplotlib in c:\\users\\user\\appdata\\local\\programs\\python\\python39\\lib\\site-packages (from mglearn) (3.5.2)\n",
      "Collecting scikit-learn\n",
      "  Downloading scikit_learn-1.1.1-cp39-cp39-win_amd64.whl (7.4 MB)\n",
      "     ---------------------------------------- 7.4/7.4 MB 2.2 MB/s eta 0:00:00\n",
      "Requirement already satisfied: pandas in c:\\users\\user\\appdata\\local\\programs\\python\\python39\\lib\\site-packages (from mglearn) (1.4.3)\n",
      "Requirement already satisfied: pillow in c:\\users\\user\\appdata\\local\\programs\\python\\python39\\lib\\site-packages (from mglearn) (9.2.0)\n",
      "Requirement already satisfied: cycler in c:\\users\\user\\appdata\\local\\programs\\python\\python39\\lib\\site-packages (from mglearn) (0.11.0)\n",
      "Collecting imageio\n",
      "  Downloading imageio-2.20.0-py3-none-any.whl (3.4 MB)\n",
      "     ---------------------------------------- 3.4/3.4 MB 2.2 MB/s eta 0:00:00\n",
      "Collecting joblib\n",
      "  Downloading joblib-1.1.0-py2.py3-none-any.whl (306 kB)\n",
      "     -------------------------------------- 307.0/307.0 kB 3.2 MB/s eta 0:00:00\n",
      "Requirement already satisfied: kiwisolver>=1.0.1 in c:\\users\\user\\appdata\\local\\programs\\python\\python39\\lib\\site-packages (from matplotlib->mglearn) (1.4.3)\n",
      "Requirement already satisfied: fonttools>=4.22.0 in c:\\users\\user\\appdata\\local\\programs\\python\\python39\\lib\\site-packages (from matplotlib->mglearn) (4.34.2)\n",
      "Requirement already satisfied: python-dateutil>=2.7 in c:\\users\\user\\appdata\\local\\programs\\python\\python39\\lib\\site-packages (from matplotlib->mglearn) (2.8.2)\n",
      "Requirement already satisfied: packaging>=20.0 in c:\\users\\user\\appdata\\local\\programs\\python\\python39\\lib\\site-packages (from matplotlib->mglearn) (21.3)\n",
      "Requirement already satisfied: pyparsing>=2.2.1 in c:\\users\\user\\appdata\\local\\programs\\python\\python39\\lib\\site-packages (from matplotlib->mglearn) (3.0.9)\n",
      "Requirement already satisfied: pytz>=2020.1 in c:\\users\\user\\appdata\\local\\programs\\python\\python39\\lib\\site-packages (from pandas->mglearn) (2022.1)\n",
      "Requirement already satisfied: scipy>=1.3.2 in c:\\users\\user\\appdata\\local\\programs\\python\\python39\\lib\\site-packages (from scikit-learn->mglearn) (1.8.1)\n",
      "Collecting threadpoolctl>=2.0.0\n",
      "  Downloading threadpoolctl-3.1.0-py3-none-any.whl (14 kB)\n",
      "Requirement already satisfied: six>=1.5 in c:\\users\\user\\appdata\\local\\programs\\python\\python39\\lib\\site-packages (from python-dateutil>=2.7->matplotlib->mglearn) (1.16.0)\n",
      "Using legacy 'setup.py install' for mglearn, since package 'wheel' is not installed.\n",
      "Installing collected packages: threadpoolctl, joblib, imageio, scikit-learn, mglearn\n",
      "  Running setup.py install for mglearn: started\n",
      "  Running setup.py install for mglearn: finished with status 'done'\n",
      "Successfully installed imageio-2.20.0 joblib-1.1.0 mglearn-0.1.9 scikit-learn-1.1.1 threadpoolctl-3.1.0\n",
      "\n",
      "[notice] A new release of pip available: 22.2 -> 22.2.1\n",
      "[notice] To update, run: python.exe -m pip install --upgrade pip\n",
      "Note: you may need to restart the kernel to use updated packages.\n"
     ]
    }
   ],
   "source": [
    "# %pip install mglearn;"
   ]
  },
  {
   "cell_type": "code",
   "execution_count": 2,
   "metadata": {},
   "outputs": [],
   "source": [
    "import mglearn\n",
    "from sklearn.linear_model import LinearRegression\n",
    "from sklearn.model_selection import train_test_split"
   ]
  },
  {
   "cell_type": "code",
   "execution_count": 3,
   "metadata": {},
   "outputs": [
    {
     "name": "stdout",
     "output_type": "stream",
     "text": [
      "shape : (506, 104)\n"
     ]
    },
    {
     "name": "stderr",
     "output_type": "stream",
     "text": [
      "c:\\Users\\User\\AppData\\Local\\Programs\\Python\\Python39\\lib\\site-packages\\sklearn\\utils\\deprecation.py:87: FutureWarning: Function load_boston is deprecated; `load_boston` is deprecated in 1.0 and will be removed in 1.2.\n",
      "\n",
      "    The Boston housing prices dataset has an ethical problem. You can refer to\n",
      "    the documentation of this function for further details.\n",
      "\n",
      "    The scikit-learn maintainers therefore strongly discourage the use of this\n",
      "    dataset unless the purpose of the code is to study and educate about\n",
      "    ethical issues in data science and machine learning.\n",
      "\n",
      "    In this special case, you can fetch the dataset from the original\n",
      "    source::\n",
      "\n",
      "        import pandas as pd\n",
      "        import numpy as np\n",
      "\n",
      "        data_url = \"http://lib.stat.cmu.edu/datasets/boston\"\n",
      "        raw_df = pd.read_csv(data_url, sep=\"\\s+\", skiprows=22, header=None)\n",
      "        data = np.hstack([raw_df.values[::2, :], raw_df.values[1::2, :2]])\n",
      "        target = raw_df.values[1::2, 2]\n",
      "\n",
      "    Alternative datasets include the California housing dataset (i.e.\n",
      "    :func:`~sklearn.datasets.fetch_california_housing`) and the Ames housing\n",
      "    dataset. You can load the datasets as follows::\n",
      "\n",
      "        from sklearn.datasets import fetch_california_housing\n",
      "        housing = fetch_california_housing()\n",
      "\n",
      "    for the California housing dataset and::\n",
      "\n",
      "        from sklearn.datasets import fetch_openml\n",
      "        housing = fetch_openml(name=\"house_prices\", as_frame=True)\n",
      "\n",
      "    for the Ames housing dataset.\n",
      "  warnings.warn(msg, category=FutureWarning)\n"
     ]
    }
   ],
   "source": [
    "from sklearn.datasets import load_boston\n",
    "\n",
    "boston = load_boston()\n",
    "x,y = mglearn.datasets.load_extended_boston()\n",
    "\n",
    "print(f'shape : {x.shape}')"
   ]
  },
  {
   "cell_type": "code",
   "execution_count": 10,
   "metadata": {},
   "outputs": [
    {
     "name": "stdout",
     "output_type": "stream",
     "text": [
      "[-5.11126504e+02  4.02559787e+00 -9.45778613e+01  1.34720251e+01\n",
      "  3.48176257e+01  6.03611391e+01  3.49707471e+01  2.94114542e+00\n",
      "  3.14525465e+00  8.20792132e+01  1.24254396e+01  3.86676075e+01\n",
      " -9.38409521e-01  1.32936334e+01  7.60317098e+02  1.42274855e+03\n",
      "  2.29220565e+02 -7.79405429e+01  8.79429261e+01  1.39813973e+01\n",
      "  1.02565346e+02  7.52178879e+02 -1.82071934e+03  5.34143172e+02\n",
      " -2.41122305e+01  1.11848898e+02 -4.38177813e+00 -1.23079894e+01\n",
      " -3.63360790e+00 -5.64878037e+01  4.60395879e-01  8.18005986e+00\n",
      " -2.06294404e+01 -3.49659791e+01  4.31717988e+01 -2.92220843e+00\n",
      "  1.45250942e+01 -3.24346333e+01  3.66984591e+01 -2.75859278e+00\n",
      "  6.27805740e+00  4.98379104e+01  6.55060318e+00  3.91047481e+01\n",
      " -1.14826290e+01 -8.00990322e-01 -3.68662287e+00  3.36483260e+01\n",
      " -1.49103502e+01  1.34720251e+01 -1.80244019e+01 -2.90956806e+01\n",
      " -2.78115796e+00 -1.10315060e+01  1.15584830e+00 -8.37313259e-01\n",
      " -7.89905136e+00  6.27950290e+00 -1.09538327e+01 -2.48389637e+01\n",
      " -1.16316264e+01 -3.00228631e+00  6.83518378e+01 -1.76428626e+01\n",
      "  6.10371772e+01 -6.12936496e+01 -1.14748321e+01  2.09075528e+01\n",
      "  3.32421356e+01 -4.11743268e+01 -2.19312422e+01 -2.08881337e+01\n",
      " -5.05858326e+01 -2.14714962e+01 -1.11593182e+01 -6.16458839e-01\n",
      " -1.12569338e+00 -1.40290786e-01  3.17622544e+01 -2.57159897e+01\n",
      "  5.51837314e-01 -1.33768644e+01 -3.25170630e+01  5.20806824e+01\n",
      "  1.08614313e-01 -3.62670514e+01 -2.68217433e+01 -3.42720513e+01\n",
      "  1.41341012e+01 -6.56371258e+01  8.64151127e+01 -3.08281756e+01\n",
      "  3.61562583e+01 -2.56736318e+01 -1.69118913e+01  3.35683331e+01\n",
      " -7.48792540e+01 -2.02885460e+01  3.35543349e+00  1.07705825e+01\n",
      "  3.50306579e+00 -5.10021527e+00  2.46929457e+00  2.55749022e+01] \n",
      " -34.707522103873266\n",
      "0.9448313975211593\n",
      "0.7758378393351656\n"
     ]
    }
   ],
   "source": [
    "x_train, x_test, y_train, y_test = train_test_split(x,y, random_state=42)\n",
    "\n",
    "ir = LinearRegression().fit(x_train, y_train)\n",
    "\n",
    "print( ir.coef_, '\\n' , ir.intercept_)\n",
    "\n",
    "print(ir.score(x_train, y_train))\n",
    "print(ir.score(x_test, y_test))"
   ]
  },
  {
   "cell_type": "code",
   "execution_count": 12,
   "metadata": {},
   "outputs": [
    {
     "name": "stdout",
     "output_type": "stream",
     "text": [
      "0.870096977525992\n"
     ]
    }
   ],
   "source": [
    "from sklearn.linear_model import Ridge\n",
    "\n",
    "\n",
    "ridge = Ridge().fit(x_train, y_train)\n",
    "\n",
    "print(ridge.score(x_train, y_train))"
   ]
  },
  {
   "cell_type": "code",
   "execution_count": 23,
   "metadata": {},
   "outputs": [
    {
     "data": {
      "image/png": "[encoded data removed]",
      "text/plain": [
       "<Figure size 432x288 with 1 Axes>"
      ]
     },
     "metadata": {
      "needs_background": "light"
     },
     "output_type": "display_data"
    }
   ],
   "source": [
    "from cProfile import label\n",
    "import matplotlib.pyplot as plt\n",
    "plt.plot(ridge.coef_,'s',label= 'Ridge a')\n",
    "plt.plot(ir.coef_, 'v', label= 'linear reg')\n",
    "\n",
    "plt.xlabel('w list')\n",
    "plt.ylabel('w size')\n",
    "plt.legend()\n",
    "plt.hlines(0,0,len(ir.coef_))\n",
    "plt.ylim(-20,20)\n",
    "plt.show()"
   ]
  }
 ],
 "metadata": {
  "kernelspec": {
   "display_name": "Python 3.9.10 64-bit",
   "language": "python",
   "name": "python3"
  },
  "language_info": {
   "codemirror_mode": {
    "name": "ipython",
    "version": 3
   },
   "file_extension": ".py",
   "mimetype": "text/x-python",
   "name": "python",
   "nbconvert_exporter": "python",
   "pygments_lexer": "ipython3",
   "version": "3.9.10"
  },
  "orig_nbformat": 4,
  "vscode": {
   "interpreter": {
    "hash": "cf92aa13fedf815d5c8dd192b8d835913fde3e8bc926b2a0ad6cc74ef2ba3ca2"
   }
  }
 },
 "nbformat": 4,
 "nbformat_minor": 2
}
