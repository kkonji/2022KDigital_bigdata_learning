{
 "cells": [
  {
   "cell_type": "markdown",
   "metadata": {},
   "source": [
    "### SQL HOMEWORK"
   ]
  },
  {
   "cell_type": "code",
   "execution_count": 2,
   "metadata": {},
   "outputs": [],
   "source": [
    "query = [\"\"\"select u.userName, b.prodName, u.addr, concat(u.mobile1, u.mobile2) as 연락처 from user_table u\n",
    "inner join\n",
    "buy_table b\n",
    "on u.userID  = b.userID\"\"\", \n",
    "\"\"\"select u.userID , u.userName, b.prodName, u.addr, concat(u.mobile1, u.mobile2) as 연락처 from user_table u\n",
    "inner join\n",
    "buy_table b\n",
    "on u.userID  = b.userID\n",
    "where u.userID = 'KYM'\"\"\",\n",
    "\"\"\"select u.userID , u.userName, b.prodName, u.addr, concat(u.mobile1, u.mobile2) as 연락처 from user_table u\n",
    "inner join\n",
    "buy_table b\n",
    "on u.userID  = b.userID\n",
    "order by u.userID\"\"\",\n",
    "\"\"\"select userID, userName, addr from user_table ut \n",
    "where userID in (\n",
    "select distinct u.userID  from user_table u\n",
    "inner join\n",
    "buy_table b\n",
    "on u.userID  = b.userID )\"\"\",\n",
    "\"\"\"select userID, userName, addr, concat(ut.mobile1, ut.mobile2) as 연락처 from user_table ut\n",
    "where ut.addr in ('경북', '경남') order by ut.userID\"\"\"]"
   ]
  },
  {
   "cell_type": "code",
   "execution_count": 10,
   "metadata": {},
   "outputs": [
    {
     "name": "stdout",
     "output_type": "stream",
     "text": [
      "hw 1: \n",
      "      0    1   2            3\n",
      "0   강호동  운동화  경북  01122222222\n",
      "1   강호동  노트북  경북  01122222222\n",
      "2   김용만  모니터  서울  01044444444\n",
      "3   박수홍  모니터  서울  01000000000\n",
      "4   강호동  청바지  경북  01122222222\n",
      "5   박수홍  메모리  서울  01000000000\n",
      "6   김제동    책  경남         None\n",
      "7   이휘재    책  경기  01188888888\n",
      "8   이휘재  청바지  경기  01188888888\n",
      "9   박수홍  운동화  서울  01000000000\n",
      "10  이휘재    책  경기  01188888888\n",
      "11  박수홍  운동화  서울  01000000000\n",
      "hw 2: \n",
      "     0    1    2   3            4\n",
      "0  KYM  김용만  모니터  서울  01044444444\n",
      "hw 3: \n",
      "      0    1    2   3            4\n",
      "0   KHD  강호동  운동화  경북  01122222222\n",
      "1   KHD  강호동  노트북  경북  01122222222\n",
      "2   KHD  강호동  청바지  경북  01122222222\n",
      "3   KJD  김제동    책  경남         None\n",
      "4   KYM  김용만  모니터  서울  01044444444\n",
      "5   LHJ  이휘재    책  경기  01188888888\n",
      "6   LHJ  이휘재  청바지  경기  01188888888\n",
      "7   LHJ  이휘재    책  경기  01188888888\n",
      "8   PSH  박수홍  모니터  서울  01000000000\n",
      "9   PSH  박수홍  메모리  서울  01000000000\n",
      "10  PSH  박수홍  운동화  서울  01000000000\n",
      "11  PSH  박수홍  운동화  서울  01000000000\n",
      "hw 4: \n",
      "     0    1   2\n",
      "0  KHD  강호동  경북\n",
      "1  KJD  김제동  경남\n",
      "2  KYM  김용만  서울\n",
      "3  LHJ  이휘재  경기\n",
      "4  PSH  박수홍  서울\n",
      "hw 5: \n",
      "     0    1   2            3\n",
      "0  KHD  강호동  경북  01122222222\n",
      "1  KJD  김제동  경남         None\n",
      "2  LKK  이경규  경남  01899999999\n"
     ]
    }
   ],
   "source": [
    "import pandas as pd\n",
    "import pymysql\n",
    "def makequery():\n",
    "    for idx, num in enumerate(query): \n",
    "        conn = pymysql.connect(host = 'localhost', user='root', password='1161', db='shoppingmall', charset='utf8')\n",
    "        cur = conn.cursor()  # 객체 생성\n",
    "        cur.execute(num) # 쿼리 실행\n",
    "        rows = cur.fetchall() # 모든 데이터를 가져옴\n",
    "        # print(rows, type(rows))\n",
    "        df = pd.DataFrame(rows)\n",
    "        print(f'hw {idx+1}: ')\n",
    "        print(df)\n",
    "\n",
    "        cur.close()\n",
    "        conn.close()\n",
    "\n",
    "# hw1 ~ hw5 까지 모두 프린트\n",
    "makequery()"
   ]
  },
  {
   "cell_type": "markdown",
   "metadata": {},
   "source": [
    "### 추가 함수 (혹시 데이터 넣을 때 필요)"
   ]
  },
  {
   "cell_type": "code",
   "execution_count": 29,
   "metadata": {},
   "outputs": [],
   "source": [
    "def input_ft():\n",
    "    input_list = []\n",
    "    input_list.append(input('userID를 입력하세요: '))\n",
    "    input_list.append(input('이름을 입력하세요: '))\n",
    "    input_list.append(int(input('태어난 해를 입력하세요: ')))\n",
    "    input_list.append(input('주소를 입력하세요: '))\n",
    "    input_list.append(input('전화번호 앞자리를 입력하세요: '))\n",
    "    input_list.append(input('전화번호 뒷자리를 입력하세요: '))\n",
    "    input_list.append(int(input('키를 입력하세요: ')))\n",
    "    input_list.append(input('가입날짜를 입력하세요: '))\n",
    "    print(input_list)\n",
    "    return input_list\n",
    "\n",
    "def input_ft2():\n",
    "    val = input('삭제할 userID를 입력하세요: ')\n",
    "    return val"
   ]
  },
  {
   "cell_type": "code",
   "execution_count": 32,
   "metadata": {},
   "outputs": [
    {
     "name": "stdout",
     "output_type": "stream",
     "text": [
      "Empty DataFrame\n",
      "Columns: []\n",
      "Index: []\n",
      "      0    1     2   3     4         5    6           7\n",
      "0   KHD  강호동  1970  경북   011  22222222  182  2007-07-07\n",
      "1   KJD  김제동  1974  경남  None      None  173  2013-03-03\n",
      "2   KKJ  김국진  1965  서울   019  33333333  171  2009-09-09\n",
      "3   KYM  김용만  1967  서울   010  44444444  177  2015-05-05\n",
      "4   LHJ  이휘재  1972  경기   011  88888888  180  2006-04-04\n",
      "5   LKK  이경규  1960  경남   018  99999999  170  2004-12-12\n",
      "6   NHS  남희석  1971  충남   016  66666666  180  2017-04-04\n",
      "7   PSH  박수홍  1970  서울   010  00000000  183  2012-05-05\n",
      "8   SDY  신동엽  1971  경기  None      None  176  2008-10-10\n",
      "9   SKJ  데이터  1994  대구   010  66645555  155  2013-04-04\n",
      "10  YJS  유재석  1972  서울   010  11111111  178  2008-08-08\n"
     ]
    }
   ],
   "source": [
    "import pandas as pd\n",
    "import pymysql\n",
    "\n",
    "def makesql(button, database = 'shoppingmall', table = 'user_table'):\n",
    "    \"\"\" button : 'insert' , 'select', 'delete' 중 하나\"\"\"\n",
    "    conn = pymysql.connect(host = 'localhost', user='root', password='1161', db= database, charset='utf8')\n",
    "    cur = conn.cursor()  # 객체 생성\n",
    "    # 값 추가\n",
    "    if button == 'insert':\n",
    "        query = \"\"\"insert into user_table ( userID, userName, birthYear, addr, mobile1, mobile2, height, mDate )\n",
    "        values (%s, %s, %s, %s, %s, %s, %s, %s)\"\"\"\n",
    "    \n",
    "        input_list=input_ft()\n",
    "        cur.execute(query, (input_list[0],input_list[1], input_list[2], input_list[3], input_list[4],input_list[5], input_list[6], input_list[7] )) \n",
    "    # 값 삭제\n",
    "    elif button == 'delete':\n",
    "        query = \"\"\"delete from user_table where userID = %s\"\"\"\n",
    "        input_value=input_ft2()\n",
    "        cur.execute(query, (input_value))\n",
    "    # 전체 데이터 보기\n",
    "    elif button == 'select':  \n",
    "        query = \"select * from user_table\"\n",
    "        cur.execute(query)\n",
    "        # query = f\"\"\"update user_table set {}\"\"\"\n",
    "\n",
    "    rows = cur.fetchall() # 모든 데이터를 가져옴\n",
    "\n",
    "    if button in  [ 'insert', 'delete']: \n",
    "        conn.commit()\n",
    "    df = pd.DataFrame(rows)\n",
    "    print(df)\n",
    "\n",
    "    cur.close()\n",
    "    conn.close()\n",
    "\n",
    "# \n",
    "makesql('delete')\n",
    "makesql('select')"
   ]
  },
  {
   "cell_type": "code",
   "execution_count": null,
   "metadata": {},
   "outputs": [],
   "source": []
  }
 ],
 "metadata": {
  "kernelspec": {
   "display_name": "Python 3.9.10 64-bit",
   "language": "python",
   "name": "python3"
  },
  "language_info": {
   "codemirror_mode": {
    "name": "ipython",
    "version": 3
   },
   "file_extension": ".py",
   "mimetype": "text/x-python",
   "name": "python",
   "nbconvert_exporter": "python",
   "pygments_lexer": "ipython3",
   "version": "3.9.10"
  },
  "orig_nbformat": 4,
  "vscode": {
   "interpreter": {
    "hash": "cf92aa13fedf815d5c8dd192b8d835913fde3e8bc926b2a0ad6cc74ef2ba3ca2"
   }
  }
 },
 "nbformat": 4,
 "nbformat_minor": 2
}
