{
 "cells": [
  {
   "cell_type": "markdown",
   "metadata": {},
   "source": [
    "### 데이터베이스와 SQL "
   ]
  },
  {
   "cell_type": "code",
   "execution_count": 3,
   "metadata": {},
   "outputs": [
    {
     "name": "stdout",
     "output_type": "stream",
     "text": [
      "Requirement already satisfied: pymysql in c:\\users\\user\\appdata\\local\\programs\\python\\python39\\lib\\site-packages (1.0.2)\n",
      "\n",
      "[notice] A new release of pip available: 22.2 -> 22.2.1\n",
      "[notice] To update, run: python.exe -m pip install --upgrade pip\n",
      "Note: you may need to restart the kernel to use updated packages.\n",
      "Requirement already satisfied: pip in c:\\users\\user\\appdata\\local\\programs\\python\\python39\\lib\\site-packages (22.2)Note: you may need to restart the kernel to use updated packages.\n",
      "\n",
      "Collecting pip\n",
      "  Downloading pip-22.2.1-py3-none-any.whl (2.0 MB)\n",
      "     ---------------------------------------- 2.0/2.0 MB 5.9 MB/s eta 0:00:00\n",
      "Installing collected packages: pip\n",
      "  Attempting uninstall: pip\n",
      "    Found existing installation: pip 22.2\n",
      "    Uninstalling pip-22.2:\n",
      "      Successfully uninstalled pip-22.2\n",
      "Successfully installed pip-22.2.1\n"
     ]
    }
   ],
   "source": [
    "%pip install pymysql\n",
    "%pip install --upgrade pip"
   ]
  },
  {
   "cell_type": "code",
   "execution_count": 9,
   "metadata": {},
   "outputs": [
    {
     "name": "stdout",
     "output_type": "stream",
     "text": [
      "((1, 'English', datetime.datetime(2006, 2, 15, 5, 2, 19)), (2, 'Italian', datetime.datetime(2006, 2, 15, 5, 2, 19)), (3, 'Japanese', datetime.datetime(2006, 2, 15, 5, 2, 19)), (4, 'Mandarin', datetime.datetime(2006, 2, 15, 5, 2, 19)), (5, 'French', datetime.datetime(2006, 2, 15, 5, 2, 19)), (6, 'German', datetime.datetime(2006, 2, 15, 5, 2, 19))) <class 'tuple'>\n",
      "   0         1                   2\n",
      "0  1   English 2006-02-15 05:02:19\n",
      "1  2   Italian 2006-02-15 05:02:19\n",
      "2  3  Japanese 2006-02-15 05:02:19\n",
      "3  4  Mandarin 2006-02-15 05:02:19\n",
      "4  5    French 2006-02-15 05:02:19\n",
      "5  6    German 2006-02-15 05:02:19\n"
     ]
    }
   ],
   "source": [
    "import pandas as pd\n",
    "import pymysql\n",
    "\n",
    "conn = pymysql.connect(host = 'localhost', user='root', password='1161', db='sakila', charset='utf8')\n",
    "\n",
    "cur = conn.cursor()  # 객체 생성\n",
    "cur.execute('select * from language') # 쿼리 실행\n",
    "rows = cur.fetchall() # 모든 데이터를 가져옴\n",
    "print(rows, type(rows))\n",
    "lang_df = pd.DataFrame(rows)\n",
    "print(lang_df)\n",
    "\n",
    "cur.close()\n",
    "conn.close()"
   ]
  },
  {
   "cell_type": "markdown",
   "metadata": {},
   "source": [
    "### MySQL과 Python 연동\n",
    "- cursor() 함수\n",
    "    - cursor 객체 생성\n",
    "    - cursor : 쿼리문에 의해 반환되는 결과값을 저장하는 공간\n",
    "- cursor.execute('쿼리문장', args=None) 함수\n",
    "    - 작성한 쿼리를 실행\n",
    "    - cursor.executemany('쿼리문장', 튜플데이터)\n",
    "\n",
    "- fetch 관련 함수\n",
    "    - fetchall() : 모든 데이터를 한번에 가져옴\n",
    "    - fetchone() : 한 번 호출에 하나의 행만 가져옴\n",
    "    - fetchmany(n) : n개 만큼의 데이터를 가져옴\n",
    "- commit 함수\n",
    "    - 데이터를 추가, 수정, 삭제 등의 작업을 수행한 다음에 실행\n",
    "- close 함수\n",
    "    - MySQL 과의 연결 종료"
   ]
  },
  {
   "cell_type": "code",
   "execution_count": 18,
   "metadata": {},
   "outputs": [
    {
     "name": "stdout",
     "output_type": "stream",
     "text": [
      "('CATHERINE.CAMPBELL@sakilacustomer.org',)\n",
      "('JOYCE.EDWARDS@sakilacustomer.org',)\n",
      "('AMBER.DIXON@sakilacustomer.org',)\n",
      "('JEANETTE.GREENE@sakilacustomer.org',)\n",
      "('MINNIE.ROMERO@sakilacustomer.org',)\n",
      "('GWENDOLYN.MAY@sakilacustomer.org',)\n",
      "('SONIA.GREGORY@sakilacustomer.org',)\n",
      "('MIRIAM.MCKINNEY@sakilacustomer.org',)\n",
      "('CHARLES.KOWALSKI@sakilacustomer.org',)\n",
      "('DANIEL.CABRAL@sakilacustomer.org',)\n",
      "('MATTHEW.MAHAN@sakilacustomer.org',)\n",
      "('JEFFERY.PINSON@sakilacustomer.org',)\n",
      "('HERMAN.DEVORE@sakilacustomer.org',)\n",
      "('ELMER.NOE@sakilacustomer.org',)\n",
      "('TERRANCE.ROUSH@sakilacustomer.org',)\n",
      "('TERRENCE.GUNDERSON@sakilacustomer.org',)\n"
     ]
    }
   ],
   "source": [
    "import pymysql\n",
    "\n",
    "conn = pymysql.connect(host = 'localhost', user='root', password='1161', db='sakila', charset='utf8')\n",
    "\n",
    "cur = conn.cursor()  # 객체 생성\n",
    "query = \"\"\"\n",
    "select c.email\n",
    "from customer as c\n",
    "inner join rental as r\n",
    "on c.customer_id = r.customer_id\n",
    "where date(r.rental_date) = (%s)\"\"\"\n",
    "\n",
    "# query = f\"\"\"\n",
    "# select c.email\n",
    "# from customer as c\n",
    "# inner join rental as r\n",
    "# on c.customer_id = r.customer_id\n",
    "# where date(r.rental_date) = {'2005-06-14'}\"\"\"\n",
    "cur.execute(query,('2005-06-14') )\n",
    "\n",
    "rows = cur.fetchall()\n",
    "for row in rows:\n",
    "    print(row)\n",
    "\n",
    "cur.close()\n",
    "conn.close()"
   ]
  },
  {
   "cell_type": "markdown",
   "metadata": {},
   "source": [
    "-  connect() 함수\n",
    "host: db가 존재하는 서버의 주소(localhost 또는 ip주소)\n",
    "### 데이터 추가, 수정, 삭제 작업 할때는 commit함수 사용"
   ]
  },
  {
   "cell_type": "code",
   "execution_count": null,
   "metadata": {},
   "outputs": [],
   "source": [
    "import pymysql\n",
    "\n",
    "\n",
    "conn = pymysql.connect(host = 'localhost', user='root', password='1161', db='testdb', charset='utf8')\n",
    "\n",
    "curs = conn.cursor()  # 객체 생성\n",
    "\n",
    "data = (('홍진우', 1,'서울'), ('강지수',2,'부산'), ('김청진', 1, '서울'))\n",
    "\n",
    "sql = \"\"\"insert into customer(name, category, region)\n",
    "values (%s, %s, %s)\"\"\"\n",
    "\n",
    "curs.executemany(sql, data)\n",
    "conn.commit()\n",
    "conn.close()\n"
   ]
  }
 ],
 "metadata": {
  "kernelspec": {
   "display_name": "Python 3.11.0 ('venv': venv)",
   "language": "python",
   "name": "python3"
  },
  "language_info": {
   "codemirror_mode": {
    "name": "ipython",
    "version": 3
   },
   "file_extension": ".py",
   "mimetype": "text/x-python",
   "name": "python",
   "nbconvert_exporter": "python",
   "pygments_lexer": "ipython3",
   "version": "3.11.0"
  },
  "orig_nbformat": 4,
  "vscode": {
   "interpreter": {
    "hash": "dbcc2cdc7824a2b241af5073a95281f9233b18254e9ca41fd0d8b402b8172108"
   }
  }
 },
 "nbformat": 4,
 "nbformat_minor": 2
}
