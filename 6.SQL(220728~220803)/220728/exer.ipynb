{
 "cells": [
  {
   "cell_type": "code",
   "execution_count": 42,
   "metadata": {},
   "outputs": [
    {
     "data": {
      "text/plain": [
       "True"
      ]
     },
     "execution_count": 42,
     "metadata": {},
     "output_type": "execute_result"
    }
   ],
   "source": [
    "import os\n",
    "import os.path\n",
    "import re\n",
    "\n",
    "# 폴더생성(무조건 생성)\n",
    "# os.makedirs('', exist_ok=True)\n",
    "\n",
    "def divide_by_name(somelist):\n",
    "    \"\"\"param: list\n",
    "    return: None\n",
    "    str값들이 담긴 리스트를 받아서 str값별로 폴더로 보내기. 단, str값들은 distinct\n",
    "    \"\"\"\n",
    "    pass\n",
    "word = 'asfnoanfd'\n",
    "if 'asf' in word: \n",
    "    os.listdir()\n",
    "\n",
    "# os.listdir()\n"
   ]
  }
 ],
 "metadata": {
  "kernelspec": {
   "display_name": "Python 3.11.0 64-bit",
   "language": "python",
   "name": "python3"
  },
  "language_info": {
   "codemirror_mode": {
    "name": "ipython",
    "version": 3
   },
   "file_extension": ".py",
   "mimetype": "text/x-python",
   "name": "python",
   "nbconvert_exporter": "python",
   "pygments_lexer": "ipython3",
   "version": "3.11.0"
  },
  "orig_nbformat": 4,
  "vscode": {
   "interpreter": {
    "hash": "d417a21d97a2e6b8832d21dc44f5cbe4be6e18325f874a8bb8484565b928cd54"
   }
  }
 },
 "nbformat": 4,
 "nbformat_minor": 2
}
