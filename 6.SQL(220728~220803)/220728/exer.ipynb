{
 "cells": [
  {
   "cell_type": "code",
   "execution_count": 42,
   "metadata": {},
   "outputs": [
    {
     "data": {
      "text/plain": [
       "True"
      ]
     },
     "execution_count": 42,
     "metadata": {},
     "output_type": "execute_result"
    }
   ],
   "source": [
    "import os\n",
    "import os.path\n",
    "import re\n",
    "\n",
    "# 폴더생성(무조건 생성)\n",
    "# os.makedirs('', exist_ok=True)\n",
    "\n",
    "def divide_by_name(somelist):\n",
    "    \"\"\"param: list\n",
    "    return: None\n",
    "    str값들이 담긴 리스트를 받아서 str값별로 폴더로 보내기. 단, str값들은 distinct\n",
    "    \"\"\"\n",
    "    pass\n",
    "word = 'asfnoanfd'\n",
    "if 'asf' in word: \n",
    "    os.listdir()\n",
    "\n",
    "# os.listdir()\n"
   ]
  },
  {
   "cell_type": "code",
   "execution_count": null,
   "metadata": {},
   "outputs": [],
   "source": []
  }
 ],
 "metadata": {
  "kernelspec": {
   "display_name": "Python 3.9.10 64-bit",
   "language": "python",
   "name": "python3"
  },
  "language_info": {
   "codemirror_mode": {
    "name": "ipython",
    "version": 3
   },
   "file_extension": ".py",
   "mimetype": "text/x-python",
   "name": "python",
   "nbconvert_exporter": "python",
   "pygments_lexer": "ipython3",
   "version": "3.9.10"
  },
  "orig_nbformat": 4,
  "vscode": {
   "interpreter": {
    "hash": "cf92aa13fedf815d5c8dd192b8d835913fde3e8bc926b2a0ad6cc74ef2ba3ca2"
   }
  }
 },
 "nbformat": 4,
 "nbformat_minor": 2
}
