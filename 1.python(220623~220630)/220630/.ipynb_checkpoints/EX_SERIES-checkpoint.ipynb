{
 "cells": [
  {
   "cell_type": "markdown",
   "id": "b52b7cb6",
   "metadata": {},
   "source": [
    "# 시리즈(SERIES) 타입 실습\n",
    "\n",
    "\n",
    "--Pandas의 1종류(1차원배열 / 세로 벡터) 데이터를 저장하는 타입(type)\n",
    "--생성: series 객체 생성\n"
   ]
  },
  {
   "cell_type": "code",
   "execution_count": 13,
   "id": "9d1b5712",
   "metadata": {},
   "outputs": [],
   "source": [
    "# 모듈 로딩\n",
    "import pandas as pd\n",
    "\n",
    "sr = pd.Series([1,2,3,4])"
   ]
  },
  {
   "cell_type": "code",
   "execution_count": 14,
   "id": "fe074694",
   "metadata": {},
   "outputs": [
    {
     "data": {
      "text/plain": [
       "0    1\n",
       "1    2\n",
       "2    3\n",
       "3    4\n",
       "dtype: int64"
      ]
     },
     "execution_count": 14,
     "metadata": {},
     "output_type": "execute_result"
    }
   ],
   "source": [
    "# 생성된 Series 객체 데이터 확인하기\n",
    "sr"
   ]
  },
  {
   "cell_type": "code",
   "execution_count": 17,
   "id": "7d546565",
   "metadata": {},
   "outputs": [
    {
     "data": {
      "text/plain": [
       "array([1, 2, 3, 4], dtype=int64)"
      ]
     },
     "execution_count": 17,
     "metadata": {},
     "output_type": "execute_result"
    }
   ],
   "source": [
    "# series 객체의 속성 확인 -> 객체변수명.속성명\n",
    "sr.values"
   ]
  },
  {
   "cell_type": "code",
   "execution_count": 16,
   "id": "e7d44346",
   "metadata": {},
   "outputs": [
    {
     "data": {
      "text/plain": [
       "RangeIndex(start=0, stop=4, step=1)"
      ]
     },
     "execution_count": 16,
     "metadata": {},
     "output_type": "execute_result"
    }
   ],
   "source": [
    "sr.index"
   ]
  },
  {
   "cell_type": "code",
   "execution_count": 18,
   "id": "c233bfdf",
   "metadata": {},
   "outputs": [
    {
     "data": {
      "text/plain": [
       "1"
      ]
     },
     "execution_count": 18,
     "metadata": {},
     "output_type": "execute_result"
    }
   ],
   "source": [
    "# 차원 속성\n",
    "sr.ndim"
   ]
  },
  {
   "cell_type": "code",
   "execution_count": 19,
   "id": "742b6e7e",
   "metadata": {},
   "outputs": [
    {
     "data": {
      "text/plain": [
       "(4,)"
      ]
     },
     "execution_count": 19,
     "metadata": {},
     "output_type": "execute_result"
    }
   ],
   "source": [
    "sr.shape"
   ]
  },
  {
   "cell_type": "code",
   "execution_count": 21,
   "id": "ddf8098b",
   "metadata": {},
   "outputs": [
    {
     "data": {
      "text/plain": [
       "<PandasArray>\n",
       "[1, 2, 3, 4]\n",
       "Length: 4, dtype: int64"
      ]
     },
     "execution_count": 21,
     "metadata": {},
     "output_type": "execute_result"
    }
   ],
   "source": [
    "sr.array    # 배열: 연속된 메모리공간, 동일한 데이터 타입"
   ]
  },
  {
   "cell_type": "code",
   "execution_count": 22,
   "id": "6cb42e3c",
   "metadata": {},
   "outputs": [
    {
     "data": {
      "text/plain": [
       "32"
      ]
     },
     "execution_count": 22,
     "metadata": {},
     "output_type": "execute_result"
    }
   ],
   "source": [
    "sr.nbytes   # 실제 사용 메모리 바이트, int64는 개당 메모리 8byte 쓴다."
   ]
  },
  {
   "cell_type": "code",
   "execution_count": 23,
   "id": "c8d79741",
   "metadata": {},
   "outputs": [
    {
     "data": {
      "text/plain": [
       "4"
      ]
     },
     "execution_count": 23,
     "metadata": {},
     "output_type": "execute_result"
    }
   ],
   "source": [
    "sr.size  # 데이터 개수"
   ]
  },
  {
   "cell_type": "code",
   "execution_count": 24,
   "id": "305a06e8",
   "metadata": {},
   "outputs": [
    {
     "data": {
      "text/plain": [
       "0    1\n",
       "1    2\n",
       "2    3\n",
       "3    4\n",
       "dtype: int64"
      ]
     },
     "execution_count": 24,
     "metadata": {},
     "output_type": "execute_result"
    }
   ],
   "source": [
    "sr.T"
   ]
  },
  {
   "cell_type": "code",
   "execution_count": 25,
   "id": "2a8c909b",
   "metadata": {},
   "outputs": [
    {
     "data": {
      "text/plain": [
       "True"
      ]
     },
     "execution_count": 25,
     "metadata": {},
     "output_type": "execute_result"
    }
   ],
   "source": [
    "sr.is_monotonic"
   ]
  },
  {
   "cell_type": "code",
   "execution_count": 27,
   "id": "eb9d1abc",
   "metadata": {},
   "outputs": [
    {
     "data": {
      "text/plain": [
       "0    1.4\n",
       "1     A0\n",
       "2    4.5\n",
       "dtype: object"
      ]
     },
     "execution_count": 27,
     "metadata": {},
     "output_type": "execute_result"
    }
   ],
   "source": [
    "sr2 = pd.Series([1.4, 'A0', 4.5])\n",
    "sr2"
   ]
  },
  {
   "cell_type": "code",
   "execution_count": 28,
   "id": "610830b7",
   "metadata": {},
   "outputs": [
    {
     "data": {
      "text/plain": [
       "RangeIndex(start=0, stop=3, step=1)"
      ]
     },
     "execution_count": 28,
     "metadata": {},
     "output_type": "execute_result"
    }
   ],
   "source": [
    "# Series 객체 속성 읽기\n",
    "sr2.index"
   ]
  },
  {
   "cell_type": "code",
   "execution_count": 33,
   "id": "c204617c",
   "metadata": {},
   "outputs": [
    {
     "name": "stdout",
     "output_type": "stream",
     "text": [
      "index: RangeIndex(start=0, stop=3, step=1)\n",
      "value: [1.4 'A0' 4.5] <class 'numpy.ndarray'>\n",
      "array: <PandasArray>\n",
      "[1.4, 'A0', 4.5]\n",
      "Length: 3, dtype: object\n"
     ]
    }
   ],
   "source": [
    "print(f'index: {sr2.index}')\n",
    "print(f'value: {sr2.values}', type(sr2.values))\n",
    "print(f'array: {sr2.array}')"
   ]
  },
  {
   "cell_type": "code",
   "execution_count": 34,
   "id": "f1ffb13f",
   "metadata": {},
   "outputs": [
    {
     "data": {
      "text/plain": [
       "name     hong\n",
       "age        12\n",
       "loc     Daegu\n",
       "dtype: object"
      ]
     },
     "execution_count": 34,
     "metadata": {},
     "output_type": "execute_result"
    }
   ],
   "source": [
    "# 딕셔너리 데이터로 시리즈 객체 생성\n",
    "sr3 = pd.Series({'name': 'hong', 'age': 12, 'loc': 'Daegu'})\n",
    "sr3"
   ]
  },
  {
   "cell_type": "code",
   "execution_count": 36,
   "id": "b462ae2a",
   "metadata": {},
   "outputs": [
    {
     "data": {
      "text/plain": [
       "하나    a\n",
       "둘     b\n",
       "셋     c\n",
       "dtype: object"
      ]
     },
     "execution_count": 36,
     "metadata": {},
     "output_type": "execute_result"
    }
   ],
   "source": [
    "# Series 객체 생성\n",
    "sr = pd.Series(['a','b','c'], index = ['하나', '둘', '셋'])\n",
    "sr"
   ]
  },
  {
   "cell_type": "code",
   "execution_count": 37,
   "id": "46b9a476",
   "metadata": {},
   "outputs": [
    {
     "data": {
      "text/plain": [
       "0    a\n",
       "1    b\n",
       "2    c\n",
       "dtype: object"
      ]
     },
     "execution_count": 37,
     "metadata": {},
     "output_type": "execute_result"
    }
   ],
   "source": [
    "sr2 = pd.Series(['a','b','c'])\n",
    "sr2"
   ]
  },
  {
   "cell_type": "code",
   "execution_count": 39,
   "id": "4a2f3735",
   "metadata": {},
   "outputs": [
    {
     "data": {
      "text/plain": [
       "11    a\n",
       "22    b\n",
       "33    c\n",
       "dtype: object"
      ]
     },
     "execution_count": 39,
     "metadata": {},
     "output_type": "execute_result"
    }
   ],
   "source": [
    "# 인덱스 새로운 값으로 설정 -> 객체변수명, 속성명 = 새로운값\n",
    "sr2.index = [11,22,33]\n",
    "sr2"
   ]
  },
  {
   "cell_type": "code",
   "execution_count": 40,
   "id": "0afa870f",
   "metadata": {},
   "outputs": [
    {
     "data": {
      "text/plain": [
       "[Int64Index([11, 22, 33], dtype='int64')]"
      ]
     },
     "execution_count": 40,
     "metadata": {},
     "output_type": "execute_result"
    }
   ],
   "source": [
    "sr2.axes"
   ]
  },
  {
   "cell_type": "code",
   "execution_count": 41,
   "id": "75ab87ca",
   "metadata": {},
   "outputs": [
    {
     "data": {
      "text/plain": [
       "<Flags(allows_duplicate_labels=True)>"
      ]
     },
     "execution_count": 41,
     "metadata": {},
     "output_type": "execute_result"
    }
   ],
   "source": [
    "sr2.flags"
   ]
  },
  {
   "cell_type": "code",
   "execution_count": 48,
   "id": "52e03e86",
   "metadata": {},
   "outputs": [
    {
     "data": {
      "text/plain": [
       "'a'"
      ]
     },
     "execution_count": 48,
     "metadata": {},
     "output_type": "execute_result"
    }
   ],
   "source": [
    "# 시리즈 객체의 원소/요소 다루기\n",
    "data = sr2[11]   # 시리즈객체[인덱스번호]\n",
    "data\n",
    "               # 시"
   ]
  },
  {
   "cell_type": "code",
   "execution_count": 50,
   "id": "90009f2c",
   "metadata": {},
   "outputs": [
    {
     "data": {
      "text/plain": [
       "Index(['one', 'two', 'three'], dtype='object')"
      ]
     },
     "execution_count": 50,
     "metadata": {},
     "output_type": "execute_result"
    }
   ],
   "source": [
    "# 문자형 인덱스로 새롭게 설정\n",
    "sr2.index = ['one', 'two', 'three']\n",
    "sr2.index"
   ]
  },
  {
   "cell_type": "code",
   "execution_count": 52,
   "id": "acb0416b",
   "metadata": {},
   "outputs": [
    {
     "data": {
      "text/plain": [
       "('b', 'b', 'c', 'c')"
      ]
     },
     "execution_count": 52,
     "metadata": {},
     "output_type": "execute_result"
    }
   ],
   "source": [
    "sr2['two'], sr2[1], sr2['three'], sr2[2]   # 문자열 key는 정수형이랑 문자형 모두 index로 사용 가능 (인덱스 라벨)"
   ]
  },
  {
   "cell_type": "code",
   "execution_count": 54,
   "id": "650bca1f",
   "metadata": {},
   "outputs": [
    {
     "data": {
      "text/plain": [
       "name    hong\n",
       "age       12\n",
       "dtype: object"
      ]
     },
     "execution_count": 54,
     "metadata": {},
     "output_type": "execute_result"
    }
   ],
   "source": [
    "sr3 = pd.Series({'name': 'hong', 'age': 12})\n",
    "sr3"
   ]
  },
  {
   "cell_type": "code",
   "execution_count": 55,
   "id": "d8472f0e",
   "metadata": {},
   "outputs": [
    {
     "data": {
      "text/plain": [
       "Index(['name', 'age'], dtype='object')"
      ]
     },
     "execution_count": 55,
     "metadata": {},
     "output_type": "execute_result"
    }
   ],
   "source": [
    "sr3.index"
   ]
  },
  {
   "cell_type": "code",
   "execution_count": 56,
   "id": "56fbbd89",
   "metadata": {},
   "outputs": [
    {
     "data": {
      "text/plain": [
       "(12, 'hong')"
      ]
     },
     "execution_count": 56,
     "metadata": {},
     "output_type": "execute_result"
    }
   ],
   "source": [
    "sr3['age'], sr3['name']"
   ]
  },
  {
   "cell_type": "code",
   "execution_count": 57,
   "id": "4d8cd100",
   "metadata": {},
   "outputs": [
    {
     "data": {
      "text/plain": [
       "('hong', 12)"
      ]
     },
     "execution_count": 57,
     "metadata": {},
     "output_type": "execute_result"
    }
   ],
   "source": [
    "sr3[0], sr3[1]"
   ]
  },
  {
   "cell_type": "code",
   "execution_count": 75,
   "id": "bf354745",
   "metadata": {},
   "outputs": [
    {
     "data": {
      "text/plain": [
       "날짜    2019-01-02\n",
       "날씨             0\n",
       "유무          True\n",
       "기온          4.99\n",
       "현황          Live\n",
       "dtype: object"
      ]
     },
     "execution_count": 75,
     "metadata": {},
     "output_type": "execute_result"
    }
   ],
   "source": [
    "list_data = ['2019-01-02', 0, True, 4.99, 'Live']\n",
    "sr4 = pd.Series(list_data)\n",
    "sr4.index = ['날짜', '날씨', '유무', '기온', '현황']\n",
    "sr4"
   ]
  },
  {
   "cell_type": "code",
   "execution_count": 76,
   "id": "e6115a7e",
   "metadata": {},
   "outputs": [
    {
     "data": {
      "text/plain": [
       "('2019-01-02', True, 4.99)"
      ]
     },
     "execution_count": 76,
     "metadata": {},
     "output_type": "execute_result"
    }
   ],
   "source": [
    "sr4[0], sr4[2], sr4[3]"
   ]
  },
  {
   "cell_type": "code",
   "execution_count": 77,
   "id": "7cd1da81",
   "metadata": {},
   "outputs": [
    {
     "data": {
      "text/plain": [
       "날씨       0\n",
       "유무    True\n",
       "기온    4.99\n",
       "현황    Live\n",
       "dtype: object"
      ]
     },
     "execution_count": 77,
     "metadata": {},
     "output_type": "execute_result"
    }
   ],
   "source": [
    "sr4[1:]"
   ]
  },
  {
   "cell_type": "code",
   "execution_count": 78,
   "id": "6d266022",
   "metadata": {},
   "outputs": [
    {
     "data": {
      "text/plain": [
       "날씨       0\n",
       "유무    True\n",
       "dtype: object"
      ]
     },
     "execution_count": 78,
     "metadata": {},
     "output_type": "execute_result"
    }
   ],
   "source": [
    "sr4[1:3]"
   ]
  },
  {
   "cell_type": "code",
   "execution_count": 82,
   "id": "23fb2783",
   "metadata": {},
   "outputs": [
    {
     "data": {
      "text/plain": [
       "날짜    2019-01-02\n",
       "유무          True\n",
       "기온          4.99\n",
       "dtype: object"
      ]
     },
     "execution_count": 82,
     "metadata": {},
     "output_type": "execute_result"
    }
   ],
   "source": [
    "sr4[[0,2,3]]"
   ]
  },
  {
   "cell_type": "code",
   "execution_count": 87,
   "id": "0ed44c69",
   "metadata": {},
   "outputs": [
    {
     "name": "stdout",
     "output_type": "stream",
     "text": [
      "<class 'pandas.core.series.Series'>\n",
      "<class 'str'>\n"
     ]
    }
   ],
   "source": [
    "print(type(sr4[[0,2,3]]))\n",
    "print(type(sr4[0]))"
   ]
  },
  {
   "cell_type": "code",
   "execution_count": 88,
   "id": "40f69c62",
   "metadata": {},
   "outputs": [
    {
     "data": {
      "text/plain": [
       "유무    True\n",
       "기온    4.99\n",
       "현황    Live\n",
       "dtype: object"
      ]
     },
     "execution_count": 88,
     "metadata": {},
     "output_type": "execute_result"
    }
   ],
   "source": [
    "sr4['유무':]"
   ]
  },
  {
   "cell_type": "code",
   "execution_count": 89,
   "id": "b22602ca",
   "metadata": {},
   "outputs": [
    {
     "data": {
      "text/plain": [
       "날씨       0\n",
       "유무    True\n",
       "기온    4.99\n",
       "dtype: object"
      ]
     },
     "execution_count": 89,
     "metadata": {},
     "output_type": "execute_result"
    }
   ],
   "source": [
    "sr4[1:4]            # 인덱스 슬라이싱 할때 주의"
   ]
  },
  {
   "cell_type": "code",
   "execution_count": 90,
   "id": "c024f8ef",
   "metadata": {},
   "outputs": [
    {
     "data": {
      "text/plain": [
       "날씨       0\n",
       "유무    True\n",
       "기온    4.99\n",
       "현황    Live\n",
       "dtype: object"
      ]
     },
     "execution_count": 90,
     "metadata": {},
     "output_type": "execute_result"
    }
   ],
   "source": [
    "sr4['날씨': '현황']       # 인덱스 라벨할때는 끝 라벨이 포함된다."
   ]
  },
  {
   "cell_type": "code",
   "execution_count": null,
   "id": "8d8a2a4e",
   "metadata": {},
   "outputs": [],
   "source": []
  }
 ],
 "metadata": {
  "kernelspec": {
   "display_name": "Python 3 (ipykernel)",
   "language": "python",
   "name": "python3"
  },
  "language_info": {
   "codemirror_mode": {
    "name": "ipython",
    "version": 3
   },
   "file_extension": ".py",
   "mimetype": "text/x-python",
   "name": "python",
   "nbconvert_exporter": "python",
   "pygments_lexer": "ipython3",
   "version": "3.9.12"
  }
 },
 "nbformat": 4,
 "nbformat_minor": 5
}
