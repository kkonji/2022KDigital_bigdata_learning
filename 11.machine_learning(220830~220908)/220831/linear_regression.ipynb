{
 "cells": [
  {
   "cell_type": "markdown",
   "metadata": {},
   "source": [
    "## 선형회귀(linear regression)\n",
    "### kNN regression의 문제점\n",
    "- 새로운 샘플이 훈련값 범위를 벗어나면 잘못된 예측을 함\n"
   ]
  },
  {
   "cell_type": "code",
   "execution_count": 2,
   "metadata": {},
   "outputs": [],
   "source": [
    "import\tnumpy as np\n",
    "import matplotlib.pyplot as plt\n",
    "perch_length =\tnp.array([8.4,\t13.7,\t15.0,\t16.2,\t17.4,\t18.0,\t18.7,\t19.0,\t19.6,\t20.0,\n",
    "21.0,\t21.0,\t21.0,\t21.3,\t22.0,\t22.0,\t22.0,\t22.0,\t22.0,\t22.5,\n",
    "22.5,\t22.7,\t23.0,\t23.5,\t24.0,\t24.0,\t24.6,\t25.0,\t25.6,\t26.5,\n",
    "27.3,\t27.5,\t27.5,\t27.5,\t28.0,\t28.7,\t30.0,\t32.8,\t34.5,\t35.0,\n",
    "36.5,\t36.0,\t37.0,\t37.0,\t39.0,\t39.0,\t39.0,\t40.0,\t40.0,\t40.0,\n",
    "40.0,\t42.0,\t43.0,\t43.0,\t43.5,\t44.0])\n",
    "perch_weight =\tnp.array([5.9,\t32.0,\t40.0,\t51.5,\t70.0,\t100.0,\t78.0,\t80.0,\t85.0,\t85.0,\n",
    "110.0,\t115.0,\t125.0,\t130.0,\t120.0,\t120.0,\t130.0,\t135.0,\t110.0,\t130.0,\n",
    "150.0,\t145.0,\t150.0,\t170.0,\t225.0,\t145.0,\t188.0,\t180.0,\t197.0,\t218.0,\n",
    "300.0,\t260.0,\t265.0,\t250.0,\t250.0,\t300.0,\t320.0,\t514.0,\t556.0,\t840.0,\n",
    "685.0,\t700.0,\t700.0,\t690.0,\t900.0,\t650.0,\t820.0,\t850.0,\t900.0,\t1015.0,\n",
    "820.0,\t1100.0,\t1000.0,\t1100.0,\t1000.0,\t1000.0])"
   ]
  },
  {
   "cell_type": "code",
   "execution_count": 3,
   "metadata": {},
   "outputs": [
    {
     "name": "stdout",
     "output_type": "stream",
     "text": [
      "50cm: [1033.33333333]\n",
      "100cm: [1033.33333333]\n"
     ]
    }
   ],
   "source": [
    "from\tsklearn.model_selection import\ttrain_test_split\n",
    "#\t훈련 세트와 테스트 세트로 나눔\n",
    "train_input,\ttest_input,\ttrain_target,\ttest_target =\ttrain_test_split(\n",
    "perch_length,\tperch_weight,\trandom_state=42)\n",
    "#\t훈련 세트와 테스트 세트를 2차원 배열로 변경\n",
    "train_input =\ttrain_input.reshape(-1,\t1)\n",
    "test_input =\ttest_input.reshape(-1,\t1)\n",
    "from\tsklearn.neighbors import\tKNeighborsRegressor\n",
    "knr =\tKNeighborsRegressor(n_neighbors=3)\n",
    "#\tk-최근접 이웃 회귀 모델을 훈련\n",
    "knr.fit(train_input,\ttrain_target)\n",
    "print('50cm:',\tknr.predict([[50]]))\n",
    "print('100cm:',\tknr.predict([[100]]))\n",
    "\n",
    "# 50cm, 100cm의 weight가 동일하게 예측됨 -> 문제가 있다"
   ]
  },
  {
   "cell_type": "code",
   "execution_count": 4,
   "metadata": {},
   "outputs": [
    {
     "data": {
      "image/png": "[encoded data removed]",
      "text/plain": [
       "<Figure size 432x288 with 1 Axes>"
      ]
     },
     "metadata": {
      "needs_background": "light"
     },
     "output_type": "display_data"
    }
   ],
   "source": [
    "# 50cm 농어의 이웃을 구함\n",
    "distances_50,\tindexes_50\t=\tknr.kneighbors([[50]])\n",
    "# 100cm\t농어의 이웃을 구함\n",
    "distances_100,\tindexes_100\t=\tknr.kneighbors([[100]])\n",
    "# 훈련 세트의 산점도\n",
    "plt.scatter(train_input,\ttrain_target,\tlabel='train set')\n",
    "\n",
    "# 훈련 세트 중에서 50cm\t농어의 이웃 데이터만 다시 그림\n",
    "plt.scatter(train_input[indexes_50],\ttrain_target[indexes_50],\n",
    "marker='D',\tlabel='50cm_neighbors')\n",
    "# 50cm 농어 데이터\n",
    "plt.scatter(50,\t1033,\tmarker='^',\tlabel='50cm')\n",
    "\n",
    "# 훈련 세트 중에서 100cm 농어의 이웃 데이터만 다시 그림\n",
    "plt.scatter(train_input[indexes_100],\ttrain_target[indexes_100],\n",
    "marker='P',\tlabel='100cm_neighbors')\n",
    "# 100cm 농어 데이터\n",
    "plt.scatter(100,\t1033,\tmarker='s',\tlabel='100cm')\n",
    "plt.xlim(0,\t110)\n",
    "plt.legend(loc=5)\n",
    "plt.show()"
   ]
  },
  {
   "cell_type": "markdown",
   "metadata": {},
   "source": [
    "- 50cm 농어와 100cm 농어의 이웃이 겹침을 확인할 수 있다. -> knn회귀 대신 선형회귀로 해결하자\n",
    "### 선형회귀\n",
    "- 데이터를 가장 잘 표현할 수 있는 직선 방정식을 찾는 알고리즘\n",
    "- LinearRegression 클래스 사용\n",
    "    - fit(), score(), predict() 사용\n",
    "    - sklearn.linear_model 패키지"
   ]
  },
  {
   "cell_type": "code",
   "execution_count": 6,
   "metadata": {},
   "outputs": [
    {
     "name": "stdout",
     "output_type": "stream",
     "text": [
      "예측: [1241.83860323]\n",
      "[39.01714496] -709.0186449535474\n"
     ]
    }
   ],
   "source": [
    "from sklearn.linear_model import LinearRegression\n",
    "lr = LinearRegression()\n",
    "# 선형 회귀 모델 훈련\n",
    "lr.fit(train_input, train_target)\n",
    "\n",
    "# 50cm 농어에 대한 예측\n",
    "print(f'예측: {lr.predict([[50]])}')\n",
    "\n",
    "# 기울기 : coef_, 절편 : intercept_\n",
    "print(lr.coef_, lr.intercept_)"
   ]
  },
  {
   "cell_type": "code",
   "execution_count": 11,
   "metadata": {},
   "outputs": [
    {
     "data": {
      "image/png": "[encoded data removed]",
      "text/plain": [
       "<Figure size 432x288 with 1 Axes>"
      ]
     },
     "metadata": {
      "needs_background": "light"
     },
     "output_type": "display_data"
    }
   ],
   "source": [
    "import matplotlib.pyplot as plt\n",
    "plt.scatter(train_input, train_target)\n",
    "\n",
    "plt.plot([15, 50],\t[15*lr.coef_ + lr.intercept_, 50*lr.coef_ + lr.intercept_],\n",
    "color='red', linestyle='--')\n",
    "\n",
    "plt.scatter(50, 1241.8, marker='^', color='orangered')\n",
    "\n",
    "plt.show()"
   ]
  },
  {
   "cell_type": "code",
   "execution_count": 12,
   "metadata": {},
   "outputs": [
    {
     "name": "stdout",
     "output_type": "stream",
     "text": [
      "0.9398463339976041\n",
      "0.824750312331356\n"
     ]
    }
   ],
   "source": [
    "from cgi import test\n",
    "\n",
    "\n",
    "print(lr.score(train_input, train_target))\n",
    "print(lr.score(test_input, test_target))\n",
    "\n",
    "# 전체적으로 underfitting <- 훈련 세트와 테스트 세트 모두 낮음"
   ]
  },
  {
   "cell_type": "markdown",
   "metadata": {},
   "source": [
    "### 다항 회귀\n",
    "- 일차방정식으로 표현하기 어려움\n",
    "- 무게가 0 이하일 가능성 발생"
   ]
  },
  {
   "cell_type": "code",
   "execution_count": 13,
   "metadata": {},
   "outputs": [
    {
     "name": "stdout",
     "output_type": "stream",
     "text": [
      "[[ 384.16   19.6 ]\n",
      " [ 484.     22.  ]\n",
      " [ 349.69   18.7 ]\n",
      " [ 302.76   17.4 ]\n",
      " [1296.     36.  ]]\n",
      "(42, 2) (14, 2)\n"
     ]
    }
   ],
   "source": [
    "# 훈련 세트에 데이터 추가\n",
    "train_poly = np.column_stack((train_input**2, train_input))\n",
    "test_poly = np.column_stack((test_input**2, test_input))\n",
    "\n",
    "print(train_poly[0:5])\n",
    "print(train_poly.shape, test_poly.shape)"
   ]
  },
  {
   "cell_type": "code",
   "execution_count": 15,
   "metadata": {},
   "outputs": [
    {
     "name": "stdout",
     "output_type": "stream",
     "text": [
      "[1573.98423528]\n",
      "[  1.01433211 -21.55792498] 116.0502107827827\n"
     ]
    }
   ],
   "source": [
    "# 다항 회귀식 구하기\n",
    "lr =LinearRegression()\n",
    "lr.fit(train_poly, train_target)\n",
    "\n",
    "print(lr.predict([[50**2,50]]))\n",
    "print(lr.coef_, lr.intercept_)\n",
    "\n",
    "# ax^2 + bx + c"
   ]
  },
  {
   "cell_type": "code",
   "execution_count": 19,
   "metadata": {},
   "outputs": [
    {
     "data": {
      "image/png": "[encoded data removed]",
      "text/plain": [
       "<Figure size 432x288 with 1 Axes>"
      ]
     },
     "metadata": {
      "needs_background": "light"
     },
     "output_type": "display_data"
    }
   ],
   "source": [
    "#\t구간별 직선을 그리기 위해 15에서 49까지 정수 배열을 만듬\n",
    "point=\tnp.arange(15, 51)\n",
    "#\t훈련 세트의 산점도 그리기\n",
    "plt.scatter(train_input,\ttrain_target)\n",
    "#\t15에서 49까지 2차 방정식 그래프 그리기\n",
    "plt.plot(point,\tlr.coef_[0]*point**2\t+lr.coef_[1]*point\t+\tlr.intercept_,\n",
    "color='red',\tlinestyle='--')\n",
    "#\t50cm\t농어 데이터(무게:1574g)\n",
    "plt.scatter([50],\t[1574],\tmarker='^')\n",
    "plt.xlabel('length')\n",
    "plt.ylabel('weight')\n",
    "plt.show()"
   ]
  },
  {
   "cell_type": "code",
   "execution_count": 18,
   "metadata": {},
   "outputs": [
    {
     "name": "stdout",
     "output_type": "stream",
     "text": [
      "0.9706807451768623\n",
      "0.9775935108325122\n"
     ]
    }
   ],
   "source": [
    "print(lr.score(train_poly,\ttrain_target))\n",
    "print(lr.score(test_poly,\ttest_target))\n",
    "\n",
    "# underfitting이 다소 남아있음"
   ]
  },
  {
   "cell_type": "markdown",
   "metadata": {},
   "source": [
    "### 특성 공학과 규제\n",
    "#### 다중회귀\n",
    "- 여러 특성을 사용한 선형 회귀\n",
    "- 길이, 높이, 두께 사용\n",
    "- 다양한 특성의 조합을 생성\n",
    "- PolynomialFeatures 클래스 사용\n",
    "\n",
    "#### 특성공학\n",
    "- 기존의 특성을 사용해서 새로운 특성을 뽑아내는 작업"
   ]
  },
  {
   "cell_type": "code",
   "execution_count": 22,
   "metadata": {},
   "outputs": [
    {
     "name": "stdout",
     "output_type": "stream",
     "text": [
      "[[ 8.4   2.11  1.41]\n",
      " [13.7   3.53  2.  ]\n",
      " [15.    3.82  2.43]\n",
      " [16.2   4.59  2.63]\n",
      " [17.4   4.59  2.94]]\n",
      "(56, 3)\n"
     ]
    }
   ],
   "source": [
    "import pandas as pd\n",
    "\n",
    "df = pd.read_csv('https://bit.ly/perch_csv')\n",
    "perch_full = df.to_numpy()\n",
    "print(perch_full[:5])\n",
    "print(perch_full.shape)"
   ]
  },
  {
   "cell_type": "code",
   "execution_count": 23,
   "metadata": {},
   "outputs": [],
   "source": [
    "import numpy as np\n",
    "\n",
    "perch_weight = np.array(\n",
    "[5.9,\t32.0,\t40.0,\t51.5,\t70.0,\t100.0,\t78.0,\t80.0,\t85.0,\t85.0,\n",
    "110.0,\t115.0,\t125.0,\t130.0,\t120.0,\t120.0,\t130.0,\t135.0,\t110.0,\n",
    "130.0,\t150.0,\t145.0,\t150.0,\t170.0,\t225.0,\t145.0,\t188.0,\t180.0,\n",
    "197.0,\t218.0,\t300.0,\t260.0,\t265.0,\t250.0,\t250.0,\t300.0,\t320.0,\n",
    "514.0,\t556.0,\t840.0,\t685.0,\t700.0,\t700.0,\t690.0,\t900.0,\t650.0,\n",
    "820.0,\t850.0,\t900.0,\t1015.0,\t820.0,\t1100.0,\t1000.0,\t1100.0,\n",
    "1000.0,\t1000.0])"
   ]
  },
  {
   "cell_type": "code",
   "execution_count": 24,
   "metadata": {},
   "outputs": [],
   "source": [
    "from sklearn.model_selection import train_test_split\n",
    "train_input, test_input, train_target, test_target = train_test_split(perch_full, perch_weight, random_state = 42)"
   ]
  },
  {
   "cell_type": "markdown",
   "metadata": {},
   "source": [
    "### 사이킷런의 변환기(transformer)\n",
    "- 다항 특성 만들기\n",
    "    - PolynomialFeatures 클래스 사용\n",
    "        - 각 특성을 제곱한 항을 추가하고, 특성끼리 서로 곱한 항을 추가\n",
    "    - PolynomialFeatures(include_bias = True)\n",
    "        - True: bias(절편,0차항) 추가\n",
    "        - False: bias 삭제\n",
    "    - fit([a,b]) : 특성 조합을 찾음\n",
    "        - [1,a,b,a*b, a^2, b^2]  추가\n",
    "    - transform([[a,b]]) : 특성 조합을 실제 데이터로 변환\n",
    "    "
   ]
  },
  {
   "cell_type": "code",
   "execution_count": 25,
   "metadata": {},
   "outputs": [
    {
     "name": "stdout",
     "output_type": "stream",
     "text": [
      "[[1. 2. 3. 4. 6. 9.]]\n"
     ]
    }
   ],
   "source": [
    "# PolynomialFeatures 간단 예제\n",
    "\n",
    "from sklearn.preprocessing import PolynomialFeatures\n",
    "poly = PolynomialFeatures()\n",
    "\n",
    "poly.fit([[2,3]])\n",
    "print(poly.transform([[2,3]]))"
   ]
  },
  {
   "cell_type": "code",
   "execution_count": 26,
   "metadata": {},
   "outputs": [
    {
     "name": "stdout",
     "output_type": "stream",
     "text": [
      "[[2. 3. 4. 6. 9.]]\n"
     ]
    }
   ],
   "source": [
    "poly\t=\tPolynomialFeatures(include_bias=False) #\tinclude_bias=False:\t1\t제거\n",
    "poly.fit([[2,\t3]])\n",
    "print(poly.transform([[2,\t3]]))"
   ]
  },
  {
   "cell_type": "markdown",
   "metadata": {},
   "source": [
    "### 다항 특성 만들기"
   ]
  },
  {
   "cell_type": "code",
   "execution_count": 33,
   "metadata": {},
   "outputs": [
    {
     "name": "stdout",
     "output_type": "stream",
     "text": [
      "[[ 19.6      5.14     3.04   384.16   100.744   59.584   26.4196  15.6256\n",
      "    9.2416]\n",
      " [ 22.       5.88     3.52   484.     129.36    77.44    34.5744  20.6976\n",
      "   12.3904]\n",
      " [ 18.7      5.2      3.12   349.69    97.24    58.344   27.04    16.224\n",
      "    9.7344]]\n",
      "(42, 9)\n"
     ]
    }
   ],
   "source": [
    "from re import T\n",
    "from sklearn.preprocessing import PolynomialFeatures\n",
    "\n",
    "poly = PolynomialFeatures(include_bias=False)\n",
    "poly.fit(train_input)\n",
    "train_poly = poly.transform(train_input)\n",
    "\n",
    "print(train_poly[0:3])\n",
    "print(train_poly.shape)\n",
    "\n",
    "test_poly = poly.transform(test_input)  # test는 fit함수 호출을 안함"
   ]
  },
  {
   "cell_type": "markdown",
   "metadata": {},
   "source": [
    "- get_feature_names_out() : 각 특성의 조합을 알려줌"
   ]
  },
  {
   "cell_type": "code",
   "execution_count": 29,
   "metadata": {},
   "outputs": [
    {
     "name": "stdout",
     "output_type": "stream",
     "text": [
      "['x0' 'x1' 'x2' 'x0^2' 'x0 x1' 'x0 x2' 'x1^2' 'x1 x2' 'x2^2']\n"
     ]
    }
   ],
   "source": [
    "print(poly.get_feature_names_out())"
   ]
  },
  {
   "cell_type": "markdown",
   "metadata": {},
   "source": [
    "### 다중 회귀 모델 훈련 \n",
    "- 선형 회귀 모델 훈련 과 동일 (여러개의 특성을 사용할 뿐임)\n",
    "- 특성이 늘어나면 선형 회귀의 정확도 증가"
   ]
  },
  {
   "cell_type": "code",
   "execution_count": 30,
   "metadata": {},
   "outputs": [
    {
     "name": "stdout",
     "output_type": "stream",
     "text": [
      "0.9903183436982124\n",
      "0.9714559911594199\n"
     ]
    }
   ],
   "source": [
    "from sklearn.linear_model import LinearRegression\n",
    "lr = LinearRegression()\n",
    "lr.fit(train_poly, train_target)\n",
    "\n",
    "print(lr.score(train_poly, train_target))\n",
    "print(lr.score(test_poly, test_target))"
   ]
  },
  {
   "cell_type": "markdown",
   "metadata": {},
   "source": [
    "### 다중 회귀 모델 훈련 2\n",
    "- degree 증가 -> 고차항의 최대 차수 지정"
   ]
  },
  {
   "cell_type": "code",
   "execution_count": 31,
   "metadata": {},
   "outputs": [
    {
     "name": "stdout",
     "output_type": "stream",
     "text": [
      "(42, 55)\n"
     ]
    }
   ],
   "source": [
    "poly = PolynomialFeatures(degree=5, include_bias=False)\n",
    "\n",
    "poly.fit(train_input)\n",
    "train_poly = poly.transform(train_input)\n",
    "test_poly = poly.transform(test_input)\n",
    "print(train_poly.shape)"
   ]
  },
  {
   "cell_type": "code",
   "execution_count": 32,
   "metadata": {},
   "outputs": [
    {
     "name": "stdout",
     "output_type": "stream",
     "text": [
      "0.9999999999997439\n",
      "-144.40564427629454\n"
     ]
    }
   ],
   "source": [
    "#\t선형 회귀 모델 훈련 및 훈련 세트 점수 계산\n",
    "\n",
    "lr.fit(train_poly, train_target)\n",
    "print(lr.score(train_poly, train_target))\n",
    "print(lr.score(test_poly, test_target))\n",
    "\n",
    "# 훈련 세트에서 overfitting(과대적합) 발생"
   ]
  },
  {
   "cell_type": "markdown",
   "metadata": {},
   "source": [
    "## 규제\n",
    "- 모델이 훈련 세트에서 overfitting 되는 것을 방지\n",
    "- 선형 회귀 모델: 특성에 곱해지는 계수의 크기를 작게 줄임\n",
    "- L1 규제 -> 어떤 가중치는 0이 됨\n",
    "- L2 규제 -> 가중치를 0에 가깝게 만듦\n",
    "\n",
    "- 규제 전에 __표준화__ 과정이 필요\n",
    "    - StandardScaler 클래스 사용\n",
    "        - $ Z = \\frac{x-\\mu}{\\sigma}$\n",
    "    - MinMaxScaler 클래스 사용\n",
    "        - $ X = \\frac{x-x_{min}}{x_{max}- x_{min}}$"
   ]
  },
  {
   "cell_type": "code",
   "execution_count": null,
   "metadata": {},
   "outputs": [],
   "source": []
  },
  {
   "cell_type": "code",
   "execution_count": null,
   "metadata": {},
   "outputs": [],
   "source": []
  }
 ],
 "metadata": {
  "kernelspec": {
   "display_name": "Python 3.9.10 64-bit",
   "language": "python",
   "name": "python3"
  },
  "language_info": {
   "codemirror_mode": {
    "name": "ipython",
    "version": 3
   },
   "file_extension": ".py",
   "mimetype": "text/x-python",
   "name": "python",
   "nbconvert_exporter": "python",
   "pygments_lexer": "ipython3",
   "version": "3.9.10"
  },
  "orig_nbformat": 4,
  "vscode": {
   "interpreter": {
    "hash": "cf92aa13fedf815d5c8dd192b8d835913fde3e8bc926b2a0ad6cc74ef2ba3ca2"
   }
  }
 },
 "nbformat": 4,
 "nbformat_minor": 2
}
