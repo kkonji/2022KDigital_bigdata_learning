{
 "cells": [
  {
   "cell_type": "markdown",
   "metadata": {},
   "source": [
    "## 교차검증 연습"
   ]
  },
  {
   "cell_type": "markdown",
   "metadata": {},
   "source": [
    "### 과정\n",
    "1. 사전처리 + 분석\n",
    "2. all_estimators()\n",
    "3. 교차검증\n",
    "4. 튜닝(hyper-parameter)"
   ]
  },
  {
   "cell_type": "code",
   "execution_count": 1,
   "metadata": {},
   "outputs": [],
   "source": [
    "import pandas as pd \n",
    "import numpy as np\n",
    "import matplotlib.pyplot as plt\n",
    "from sklearn.model_selection import cross_val_score, cross_validate\n",
    "from sklearn.datasets import load_iris"
   ]
  },
  {
   "cell_type": "code",
   "execution_count": 2,
   "metadata": {},
   "outputs": [],
   "source": [
    "iris = load_iris()"
   ]
  },
  {
   "cell_type": "code",
   "execution_count": 5,
   "metadata": {},
   "outputs": [],
   "source": [
    "# bunch 타입 -> 데이터 뽑아오기\n",
    "data = iris['data']\n",
    "target = iris['target']\n",
    "featurename = iris['feature_names']\n",
    "classname = iris['target_names']"
   ]
  },
  {
   "cell_type": "code",
   "execution_count": 6,
   "metadata": {},
   "outputs": [],
   "source": [
    "from sklearn.linear_model import LogisticRegression\n",
    "from sklearn.neighbors import KNeighborsClassifier\n",
    "from sklearn.svm import SVC"
   ]
  },
  {
   "cell_type": "markdown",
   "metadata": {},
   "source": [
    "### 모델 생성"
   ]
  },
  {
   "cell_type": "code",
   "execution_count": 8,
   "metadata": {},
   "outputs": [
    {
     "data": {
      "text/plain": [
       "array([0.96666667, 1.        , 0.93333333, 0.96666667, 1.        ])"
      ]
     },
     "execution_count": 8,
     "metadata": {},
     "output_type": "execute_result"
    }
   ],
   "source": [
    "# 5개 모델에 대한 정확도(accuracy)\n",
    "lg = LogisticRegression(max_iter=1000)\n",
    "cross_val_score(lg, data, target)"
   ]
  },
  {
   "cell_type": "code",
   "execution_count": 16,
   "metadata": {},
   "outputs": [
    {
     "data": {
      "text/plain": [
       "{'fit_time': array([0.02703285, 0.02682948, 0.02290511, 0.02953291, 0.02699709,\n",
       "        0.0329113 , 0.02691913]),\n",
       " 'score_time': array([0.00099778, 0.0009973 , 0.00099707, 0.        , 0.        ,\n",
       "        0.00042248, 0.00099707]),\n",
       " 'test_score': array([0.95454545, 1.        , 0.90909091, 0.95238095, 0.95238095,\n",
       "        1.        , 1.        ]),\n",
       " 'train_score': array([0.96875   , 0.96875   , 0.9765625 , 0.97674419, 0.99224806,\n",
       "        0.96899225, 0.97674419])}"
      ]
     },
     "execution_count": 16,
     "metadata": {},
     "output_type": "execute_result"
    }
   ],
   "source": [
    "result = cross_validate(lg, data, target, return_train_score=True, cv=7)\n",
    "result"
   ]
  },
  {
   "cell_type": "code",
   "execution_count": 17,
   "metadata": {},
   "outputs": [
    {
     "data": {
      "text/html": [
       "<div>\n",
       "<style scoped>\n",
       "    .dataframe tbody tr th:only-of-type {\n",
       "        vertical-align: middle;\n",
       "    }\n",
       "\n",
       "    .dataframe tbody tr th {\n",
       "        vertical-align: top;\n",
       "    }\n",
       "\n",
       "    .dataframe thead th {\n",
       "        text-align: right;\n",
       "    }\n",
       "</style>\n",
       "<table border=\"1\" class=\"dataframe\">\n",
       "  <thead>\n",
       "    <tr style=\"text-align: right;\">\n",
       "      <th></th>\n",
       "      <th>fit_time</th>\n",
       "      <th>score_time</th>\n",
       "      <th>test_score</th>\n",
       "      <th>train_score</th>\n",
       "    </tr>\n",
       "  </thead>\n",
       "  <tbody>\n",
       "    <tr>\n",
       "      <th>0</th>\n",
       "      <td>0.027033</td>\n",
       "      <td>0.000998</td>\n",
       "      <td>0.954545</td>\n",
       "      <td>0.968750</td>\n",
       "    </tr>\n",
       "    <tr>\n",
       "      <th>1</th>\n",
       "      <td>0.026829</td>\n",
       "      <td>0.000997</td>\n",
       "      <td>1.000000</td>\n",
       "      <td>0.968750</td>\n",
       "    </tr>\n",
       "    <tr>\n",
       "      <th>2</th>\n",
       "      <td>0.022905</td>\n",
       "      <td>0.000997</td>\n",
       "      <td>0.909091</td>\n",
       "      <td>0.976562</td>\n",
       "    </tr>\n",
       "    <tr>\n",
       "      <th>3</th>\n",
       "      <td>0.029533</td>\n",
       "      <td>0.000000</td>\n",
       "      <td>0.952381</td>\n",
       "      <td>0.976744</td>\n",
       "    </tr>\n",
       "    <tr>\n",
       "      <th>4</th>\n",
       "      <td>0.026997</td>\n",
       "      <td>0.000000</td>\n",
       "      <td>0.952381</td>\n",
       "      <td>0.992248</td>\n",
       "    </tr>\n",
       "    <tr>\n",
       "      <th>5</th>\n",
       "      <td>0.032911</td>\n",
       "      <td>0.000422</td>\n",
       "      <td>1.000000</td>\n",
       "      <td>0.968992</td>\n",
       "    </tr>\n",
       "    <tr>\n",
       "      <th>6</th>\n",
       "      <td>0.026919</td>\n",
       "      <td>0.000997</td>\n",
       "      <td>1.000000</td>\n",
       "      <td>0.976744</td>\n",
       "    </tr>\n",
       "  </tbody>\n",
       "</table>\n",
       "</div>"
      ],
      "text/plain": [
       "   fit_time  score_time  test_score  train_score\n",
       "0  0.027033    0.000998    0.954545     0.968750\n",
       "1  0.026829    0.000997    1.000000     0.968750\n",
       "2  0.022905    0.000997    0.909091     0.976562\n",
       "3  0.029533    0.000000    0.952381     0.976744\n",
       "4  0.026997    0.000000    0.952381     0.992248\n",
       "5  0.032911    0.000422    1.000000     0.968992\n",
       "6  0.026919    0.000997    1.000000     0.976744"
      ]
     },
     "execution_count": 17,
     "metadata": {},
     "output_type": "execute_result"
    }
   ],
   "source": [
    "resultDF = pd.DataFrame(result)\n",
    "resultDF"
   ]
  },
  {
   "cell_type": "markdown",
   "metadata": {},
   "source": [
    "### splitter 객체 생성 - KFold()\n",
    "- 교차 검증 상세옵션 KFold, StratifiedKFold를 써준다.\n",
    "- 만든 객체는 cv에 담아준다."
   ]
  },
  {
   "cell_type": "code",
   "execution_count": 23,
   "metadata": {},
   "outputs": [
    {
     "data": {
      "text/plain": [
       "{'fit_time': array([0.0229404 , 0.01708078, 0.02022052, 0.0225122 , 0.01605773,\n",
       "        0.01788092, 0.02033377]),\n",
       " 'score_time': array([0.        , 0.        , 0.0009973 , 0.        , 0.0009973 ,\n",
       "        0.00099659, 0.00099659]),\n",
       " 'test_score': array([1.        , 0.95454545, 0.90909091, 0.95238095, 1.        ,\n",
       "        0.95238095, 0.95238095]),\n",
       " 'train_score': array([0.9765625 , 0.9765625 , 0.9765625 , 0.97674419, 0.96899225,\n",
       "        0.97674419, 0.98449612])}"
      ]
     },
     "execution_count": 23,
     "metadata": {},
     "output_type": "execute_result"
    }
   ],
   "source": [
    "from sklearn.model_selection import KFold, StratifiedKFold\n",
    "kSplitter = KFold(n_splits=7, shuffle=True)\n",
    "sSplitter = StratifiedKFold(n_splits=7, shuffle=True)\n",
    "result = cross_validate(lg, data, target, return_train_score=True, cv=kSplitter)\n",
    "result"
   ]
  },
  {
   "cell_type": "code",
   "execution_count": 24,
   "metadata": {},
   "outputs": [
    {
     "data": {
      "text/plain": [
       "{'fit_time': array([0.03091669, 0.02096868, 0.02732682, 0.02994657, 0.02394581,\n",
       "        0.02171326, 0.01853251]),\n",
       " 'score_time': array([0.00097775, 0.00099707, 0.        , 0.0010159 , 0.00099802,\n",
       "        0.00023508, 0.        ]),\n",
       " 'test_score': array([0.95454545, 0.95454545, 0.95454545, 0.9047619 , 1.        ,\n",
       "        0.95238095, 1.        ]),\n",
       " 'train_score': array([0.984375  , 0.96875   , 0.984375  , 0.99224806, 0.96899225,\n",
       "        0.96899225, 0.96124031])}"
      ]
     },
     "execution_count": 24,
     "metadata": {},
     "output_type": "execute_result"
    }
   ],
   "source": [
    "result2 = cross_validate(lg, data, target, return_train_score=True, cv=sSplitter)\n",
    "result2"
   ]
  },
  {
   "cell_type": "markdown",
   "metadata": {},
   "source": [
    "### 튜닝\n",
    "- 모델 정확도(accuracy) 높이기 위한 과정들 진행\n",
    "- 데이터 정제, 여러가지 모델 테스트\n",
    "- 모델 세부 튜닝, 하이퍼파라미터 변경하며 모델 테스트 진행\n",
    "- GridSearchCV, RandomizedSearchCV"
   ]
  },
  {
   "cell_type": "markdown",
   "metadata": {},
   "source": [
    "#### 선형회귀에선 건드릴 수 있는 하이퍼파라미터가 없다.\n",
    "- 대신 사용하는게 ridge, lasso를 사용\n",
    "- 그리드서치를 사용해서, 교차검증 + 하이퍼파라미터를 __최적화__ 하자."
   ]
  },
  {
   "cell_type": "code",
   "execution_count": 33,
   "metadata": {},
   "outputs": [],
   "source": [
    "data_url = \"http://lib.stat.cmu.edu/datasets/boston\"\n",
    "raw_df = pd.read_csv(data_url, sep=\"\\s+\", skiprows=22, header=None)\n",
    "data = np.hstack([raw_df.values[::2, :], raw_df.values[1::2, :2]])\n",
    "target = raw_df.values[1::2, 2]"
   ]
  },
  {
   "cell_type": "code",
   "execution_count": 39,
   "metadata": {},
   "outputs": [
    {
     "name": "stdout",
     "output_type": "stream",
     "text": [
      "(506, 13)\n",
      "(506,)\n"
     ]
    }
   ],
   "source": [
    "print(data.shape)\n",
    "print(target.shape)"
   ]
  },
  {
   "cell_type": "code",
   "execution_count": 41,
   "metadata": {},
   "outputs": [
    {
     "data": {
      "text/html": [
       "<style>#sk-container-id-2 {color: black;background-color: white;}#sk-container-id-2 pre{padding: 0;}#sk-container-id-2 div.sk-toggleable {background-color: white;}#sk-container-id-2 label.sk-toggleable__label {cursor: pointer;display: block;width: 100%;margin-bottom: 0;padding: 0.3em;box-sizing: border-box;text-align: center;}#sk-container-id-2 label.sk-toggleable__label-arrow:before {content: \"▸\";float: left;margin-right: 0.25em;color: #696969;}#sk-container-id-2 label.sk-toggleable__label-arrow:hover:before {color: black;}#sk-container-id-2 div.sk-estimator:hover label.sk-toggleable__label-arrow:before {color: black;}#sk-container-id-2 div.sk-toggleable__content {max-height: 0;max-width: 0;overflow: hidden;text-align: left;background-color: #f0f8ff;}#sk-container-id-2 div.sk-toggleable__content pre {margin: 0.2em;color: black;border-radius: 0.25em;background-color: #f0f8ff;}#sk-container-id-2 input.sk-toggleable__control:checked~div.sk-toggleable__content {max-height: 200px;max-width: 100%;overflow: auto;}#sk-container-id-2 input.sk-toggleable__control:checked~label.sk-toggleable__label-arrow:before {content: \"▾\";}#sk-container-id-2 div.sk-estimator input.sk-toggleable__control:checked~label.sk-toggleable__label {background-color: #d4ebff;}#sk-container-id-2 div.sk-label input.sk-toggleable__control:checked~label.sk-toggleable__label {background-color: #d4ebff;}#sk-container-id-2 input.sk-hidden--visually {border: 0;clip: rect(1px 1px 1px 1px);clip: rect(1px, 1px, 1px, 1px);height: 1px;margin: -1px;overflow: hidden;padding: 0;position: absolute;width: 1px;}#sk-container-id-2 div.sk-estimator {font-family: monospace;background-color: #f0f8ff;border: 1px dotted black;border-radius: 0.25em;box-sizing: border-box;margin-bottom: 0.5em;}#sk-container-id-2 div.sk-estimator:hover {background-color: #d4ebff;}#sk-container-id-2 div.sk-parallel-item::after {content: \"\";width: 100%;border-bottom: 1px solid gray;flex-grow: 1;}#sk-container-id-2 div.sk-label:hover label.sk-toggleable__label {background-color: #d4ebff;}#sk-container-id-2 div.sk-serial::before {content: \"\";position: absolute;border-left: 1px solid gray;box-sizing: border-box;top: 0;bottom: 0;left: 50%;z-index: 0;}#sk-container-id-2 div.sk-serial {display: flex;flex-direction: column;align-items: center;background-color: white;padding-right: 0.2em;padding-left: 0.2em;position: relative;}#sk-container-id-2 div.sk-item {position: relative;z-index: 1;}#sk-container-id-2 div.sk-parallel {display: flex;align-items: stretch;justify-content: center;background-color: white;position: relative;}#sk-container-id-2 div.sk-item::before, #sk-container-id-2 div.sk-parallel-item::before {content: \"\";position: absolute;border-left: 1px solid gray;box-sizing: border-box;top: 0;bottom: 0;left: 50%;z-index: -1;}#sk-container-id-2 div.sk-parallel-item {display: flex;flex-direction: column;z-index: 1;position: relative;background-color: white;}#sk-container-id-2 div.sk-parallel-item:first-child::after {align-self: flex-end;width: 50%;}#sk-container-id-2 div.sk-parallel-item:last-child::after {align-self: flex-start;width: 50%;}#sk-container-id-2 div.sk-parallel-item:only-child::after {width: 0;}#sk-container-id-2 div.sk-dashed-wrapped {border: 1px dashed gray;margin: 0 0.4em 0.5em 0.4em;box-sizing: border-box;padding-bottom: 0.4em;background-color: white;}#sk-container-id-2 div.sk-label label {font-family: monospace;font-weight: bold;display: inline-block;line-height: 1.2em;}#sk-container-id-2 div.sk-label-container {text-align: center;}#sk-container-id-2 div.sk-container {/* jupyter's `normalize.less` sets `[hidden] { display: none; }` but bootstrap.min.css set `[hidden] { display: none !important; }` so we also need the `!important` here to be able to override the default hidden behavior on the sphinx rendered scikit-learn.org. See: https://github.com/scikit-learn/scikit-learn/issues/21755 */display: inline-block !important;position: relative;}#sk-container-id-2 div.sk-text-repr-fallback {display: none;}</style><div id=\"sk-container-id-2\" class=\"sk-top-container\"><div class=\"sk-text-repr-fallback\"><pre>LinearRegression()</pre><b>In a Jupyter environment, please rerun this cell to show the HTML representation or trust the notebook. <br />On GitHub, the HTML representation is unable to render, please try loading this page with nbviewer.org.</b></div><div class=\"sk-container\" hidden><div class=\"sk-item\"><div class=\"sk-estimator sk-toggleable\"><input class=\"sk-toggleable__control sk-hidden--visually\" id=\"sk-estimator-id-2\" type=\"checkbox\" checked><label for=\"sk-estimator-id-2\" class=\"sk-toggleable__label sk-toggleable__label-arrow\">LinearRegression</label><div class=\"sk-toggleable__content\"><pre>LinearRegression()</pre></div></div></div></div></div>"
      ],
      "text/plain": [
       "LinearRegression()"
      ]
     },
     "execution_count": 41,
     "metadata": {},
     "output_type": "execute_result"
    }
   ],
   "source": [
    "from sklearn.linear_model import LinearRegression\n",
    "from sklearn.model_selection import cross_validate\n",
    "lr = LinearRegression()\n",
    "lr.fit(data, target)"
   ]
  },
  {
   "cell_type": "code",
   "execution_count": 43,
   "metadata": {},
   "outputs": [
    {
     "data": {
      "text/plain": [
       "{'fit_time': array([0.00199223, 0.00199533, 0.00199533, 0.00198269, 0.00199389]),\n",
       " 'score_time': array([0.00099707, 0.        , 0.00042439, 0.0009973 , 0.0009973 ]),\n",
       " 'test_score': array([ 0.63919994,  0.71386698,  0.58702344,  0.07923081, -0.25294154]),\n",
       " 'train_score': array([0.74652533, 0.72763185, 0.69498059, 0.84181027, 0.73545537])}"
      ]
     },
     "execution_count": 43,
     "metadata": {},
     "output_type": "execute_result"
    }
   ],
   "source": [
    "cross_validate(lr, data, target, return_train_score=True)"
   ]
  },
  {
   "cell_type": "markdown",
   "metadata": {},
   "source": [
    "### 선형회귀 하이퍼파라미터 알파 값 건드려보기"
   ]
  },
  {
   "cell_type": "code",
   "execution_count": null,
   "metadata": {},
   "outputs": [],
   "source": [
    "from sklearn.model_selection import train_test_split\n",
    "train_data, test_data, train_target, test_target = train_test_split(data, target, random_state=42)"
   ]
  },
  {
   "cell_type": "code",
   "execution_count": 73,
   "metadata": {},
   "outputs": [
    {
     "data": {
      "text/plain": [
       "array([[-0.42099129, -0.44496424, -1.08540424, ..., -1.41458158,\n",
       "         0.44419754, -0.56723075],\n",
       "       [-0.42475396,  1.22324119, -0.72648881, ..., -0.8318639 ,\n",
       "         0.45799486, -1.34274421],\n",
       "       [-0.41950497, -0.44496424,  2.51743753, ...,  0.6249303 ,\n",
       "         0.39107788,  0.70371057],\n",
       "       ...,\n",
       "       [-0.41569758, -0.44496424, -0.6504474 , ..., -0.6570486 ,\n",
       "         0.32465365, -1.02184209],\n",
       "       [-0.39337713, -0.44496424, -0.57896848, ...,  0.33357146,\n",
       "         0.45799486, -0.75583112],\n",
       "       [-0.42877215,  3.0999723 , -1.07019596, ..., -0.6570486 ,\n",
       "         0.413942  , -0.94443149]])"
      ]
     },
     "execution_count": 73,
     "metadata": {},
     "output_type": "execute_result"
    }
   ],
   "source": [
    "from sklearn.preprocessing import StandardScaler\n",
    "st = StandardScaler()\n",
    "st.fit(train_data)\n",
    "st.fit(test_data)\n",
    "st.transform(train_data)\n",
    "st.transform(test_data)"
   ]
  },
  {
   "cell_type": "code",
   "execution_count": 79,
   "metadata": {},
   "outputs": [],
   "source": [
    "from sklearn.linear_model import Ridge\n",
    "s = []\n",
    "for alpha in [0.001, 0.01, 0.1, 1, 10]:\n",
    "    ridge = Ridge(alpha=alpha).fit(train_data, train_target)\n",
    "    result = ridge.score(train_data, train_target)\n",
    "    result2 = ridge.score(test_data, test_target)\n",
    "    coef = ridge.coef_; intercept = ridge.intercept_\n",
    "    s.append([alpha, result, result2, coef, intercept])\n",
    "s = pd.DataFrame(s, columns=['alpha', 'train', 'test', 'coef', 'intercept'])"
   ]
  },
  {
   "cell_type": "code",
   "execution_count": 86,
   "metadata": {},
   "outputs": [
    {
     "data": {
      "text/html": [
       "<div>\n",
       "<style scoped>\n",
       "    .dataframe tbody tr th:only-of-type {\n",
       "        vertical-align: middle;\n",
       "    }\n",
       "\n",
       "    .dataframe tbody tr th {\n",
       "        vertical-align: top;\n",
       "    }\n",
       "\n",
       "    .dataframe thead th {\n",
       "        text-align: right;\n",
       "    }\n",
       "</style>\n",
       "<table border=\"1\" class=\"dataframe\">\n",
       "  <thead>\n",
       "    <tr style=\"text-align: right;\">\n",
       "      <th></th>\n",
       "      <th>alpha</th>\n",
       "      <th>train</th>\n",
       "      <th>test</th>\n",
       "      <th>coef</th>\n",
       "      <th>intercept</th>\n",
       "    </tr>\n",
       "  </thead>\n",
       "  <tbody>\n",
       "    <tr>\n",
       "      <th>0</th>\n",
       "      <td>0.001</td>\n",
       "      <td>0.748087</td>\n",
       "      <td>0.684421</td>\n",
       "      <td>[-0.12831408550662934, 0.02955503453367559, 0....</td>\n",
       "      <td>29.826976</td>\n",
       "    </tr>\n",
       "    <tr>\n",
       "      <th>1</th>\n",
       "      <td>0.010</td>\n",
       "      <td>0.748087</td>\n",
       "      <td>0.684366</td>\n",
       "      <td>[-0.12823778615255113, 0.029584135007629977, 0...</td>\n",
       "      <td>29.742722</td>\n",
       "    </tr>\n",
       "    <tr>\n",
       "      <th>2</th>\n",
       "      <td>0.100</td>\n",
       "      <td>0.748030</td>\n",
       "      <td>0.683805</td>\n",
       "      <td>[-0.12753601596785039, 0.029853781509412102, 0...</td>\n",
       "      <td>28.967772</td>\n",
       "    </tr>\n",
       "    <tr>\n",
       "      <th>3</th>\n",
       "      <td>1.000</td>\n",
       "      <td>0.746116</td>\n",
       "      <td>0.678975</td>\n",
       "      <td>[-0.12383038776770779, 0.03139178197340617, 0....</td>\n",
       "      <td>24.878370</td>\n",
       "    </tr>\n",
       "    <tr>\n",
       "      <th>4</th>\n",
       "      <td>10.000</td>\n",
       "      <td>0.739824</td>\n",
       "      <td>0.672424</td>\n",
       "      <td>[-0.12137452683817439, 0.03421897073039659, -0...</td>\n",
       "      <td>22.652201</td>\n",
       "    </tr>\n",
       "  </tbody>\n",
       "</table>\n",
       "</div>"
      ],
      "text/plain": [
       "    alpha     train      test  \\\n",
       "0   0.001  0.748087  0.684421   \n",
       "1   0.010  0.748087  0.684366   \n",
       "2   0.100  0.748030  0.683805   \n",
       "3   1.000  0.746116  0.678975   \n",
       "4  10.000  0.739824  0.672424   \n",
       "\n",
       "                                                coef  intercept  \n",
       "0  [-0.12831408550662934, 0.02955503453367559, 0....  29.826976  \n",
       "1  [-0.12823778615255113, 0.029584135007629977, 0...  29.742722  \n",
       "2  [-0.12753601596785039, 0.029853781509412102, 0...  28.967772  \n",
       "3  [-0.12383038776770779, 0.03139178197340617, 0....  24.878370  \n",
       "4  [-0.12137452683817439, 0.03421897073039659, -0...  22.652201  "
      ]
     },
     "execution_count": 86,
     "metadata": {},
     "output_type": "execute_result"
    }
   ],
   "source": [
    "s"
   ]
  },
  {
   "cell_type": "code",
   "execution_count": 92,
   "metadata": {},
   "outputs": [],
   "source": [
    "from sklearn.linear_model import Ridge\n",
    "s = []\n",
    "for solver in ['auto', 'svd', 'cholesky', 'lsqr', 'sparse_cg', 'sag', 'saga']:\n",
    "    ridge = Ridge(solver=solver).fit(train_data, train_target)\n",
    "    result = ridge.score(train_data, train_target)\n",
    "    result2 = ridge.score(test_data, test_target)\n",
    "    coef = ridge.coef_; intercept = ridge.intercept_\n",
    "    s.append([solver, result, result2, coef, intercept])\n",
    "s = pd.DataFrame(s, columns=['solver', 'train', 'test', 'coef', 'intercept'])"
   ]
  },
  {
   "cell_type": "code",
   "execution_count": 93,
   "metadata": {},
   "outputs": [
    {
     "data": {
      "text/html": [
       "<div>\n",
       "<style scoped>\n",
       "    .dataframe tbody tr th:only-of-type {\n",
       "        vertical-align: middle;\n",
       "    }\n",
       "\n",
       "    .dataframe tbody tr th {\n",
       "        vertical-align: top;\n",
       "    }\n",
       "\n",
       "    .dataframe thead th {\n",
       "        text-align: right;\n",
       "    }\n",
       "</style>\n",
       "<table border=\"1\" class=\"dataframe\">\n",
       "  <thead>\n",
       "    <tr style=\"text-align: right;\">\n",
       "      <th></th>\n",
       "      <th>solver</th>\n",
       "      <th>train</th>\n",
       "      <th>test</th>\n",
       "      <th>coef</th>\n",
       "      <th>intercept</th>\n",
       "    </tr>\n",
       "  </thead>\n",
       "  <tbody>\n",
       "    <tr>\n",
       "      <th>0</th>\n",
       "      <td>auto</td>\n",
       "      <td>0.746116</td>\n",
       "      <td>0.678975</td>\n",
       "      <td>[-0.12383038776770779, 0.03139178197340617, 0....</td>\n",
       "      <td>24.878370</td>\n",
       "    </tr>\n",
       "    <tr>\n",
       "      <th>1</th>\n",
       "      <td>svd</td>\n",
       "      <td>0.746116</td>\n",
       "      <td>0.678975</td>\n",
       "      <td>[-0.12383038776770516, 0.03139178197340703, 0....</td>\n",
       "      <td>24.878370</td>\n",
       "    </tr>\n",
       "    <tr>\n",
       "      <th>2</th>\n",
       "      <td>cholesky</td>\n",
       "      <td>0.746116</td>\n",
       "      <td>0.678975</td>\n",
       "      <td>[-0.12383038776770779, 0.03139178197340617, 0....</td>\n",
       "      <td>24.878370</td>\n",
       "    </tr>\n",
       "    <tr>\n",
       "      <th>3</th>\n",
       "      <td>lsqr</td>\n",
       "      <td>0.718491</td>\n",
       "      <td>0.668884</td>\n",
       "      <td>[-0.14015221595819927, 0.06576558766086438, -0...</td>\n",
       "      <td>35.899991</td>\n",
       "    </tr>\n",
       "    <tr>\n",
       "      <th>4</th>\n",
       "      <td>sparse_cg</td>\n",
       "      <td>0.737208</td>\n",
       "      <td>0.661844</td>\n",
       "      <td>[-0.1223784324572163, 0.03357271884331846, -0....</td>\n",
       "      <td>18.414456</td>\n",
       "    </tr>\n",
       "    <tr>\n",
       "      <th>5</th>\n",
       "      <td>sag</td>\n",
       "      <td>0.707792</td>\n",
       "      <td>0.671634</td>\n",
       "      <td>[-0.12847464771203548, 0.039905841513960205, -...</td>\n",
       "      <td>42.797193</td>\n",
       "    </tr>\n",
       "    <tr>\n",
       "      <th>6</th>\n",
       "      <td>saga</td>\n",
       "      <td>0.693134</td>\n",
       "      <td>0.661319</td>\n",
       "      <td>[-0.12460186949066726, 0.03559960436516488, -0...</td>\n",
       "      <td>45.537910</td>\n",
       "    </tr>\n",
       "  </tbody>\n",
       "</table>\n",
       "</div>"
      ],
      "text/plain": [
       "      solver     train      test  \\\n",
       "0       auto  0.746116  0.678975   \n",
       "1        svd  0.746116  0.678975   \n",
       "2   cholesky  0.746116  0.678975   \n",
       "3       lsqr  0.718491  0.668884   \n",
       "4  sparse_cg  0.737208  0.661844   \n",
       "5        sag  0.707792  0.671634   \n",
       "6       saga  0.693134  0.661319   \n",
       "\n",
       "                                                coef  intercept  \n",
       "0  [-0.12383038776770779, 0.03139178197340617, 0....  24.878370  \n",
       "1  [-0.12383038776770516, 0.03139178197340703, 0....  24.878370  \n",
       "2  [-0.12383038776770779, 0.03139178197340617, 0....  24.878370  \n",
       "3  [-0.14015221595819927, 0.06576558766086438, -0...  35.899991  \n",
       "4  [-0.1223784324572163, 0.03357271884331846, -0....  18.414456  \n",
       "5  [-0.12847464771203548, 0.039905841513960205, -...  42.797193  \n",
       "6  [-0.12460186949066726, 0.03559960436516488, -0...  45.537910  "
      ]
     },
     "execution_count": 93,
     "metadata": {},
     "output_type": "execute_result"
    }
   ],
   "source": [
    "s"
   ]
  },
  {
   "cell_type": "markdown",
   "metadata": {},
   "source": [
    "### Support Vector Machine\n",
    "- Large Margin이 목적 \n",
    "- c : 클수록 학습오류 허용 x, 마진 좁아짐, 과대적합 발생\n",
    "- 작을수록 학습오류 허용 o, 마진 넓어짐, 과소적합 발생\n",
    "- kernel : 커널 함수 설정 ('linear', 'sigmoid', 'poly', 'rbf')\n",
    "- gamma : 하나의 데이터의 영향력 정도 (굴곡 곡선 정도)\n",
    "    - 커질수록 결정 경계, 곡률 커지며 과대적합\n",
    "    - 작을수록 결정 경계, 곡률 작아지며 과소적합\n",
    "- degree : poly 커널 시 곡선 경계 각도 설정 (커질수록 과대적합 가능성)\n",
    "- coef0 : poly, sigmoid 커널에서 다항식 차수 조절"
   ]
  },
  {
   "cell_type": "markdown",
   "metadata": {},
   "source": [
    "## 그리드 서치"
   ]
  },
  {
   "cell_type": "code",
   "execution_count": null,
   "metadata": {},
   "outputs": [],
   "source": [
    "from sklearn.svm import SVC"
   ]
  },
  {
   "cell_type": "markdown",
   "metadata": {},
   "source": [
    "### 좋은 모델 찾기"
   ]
  },
  {
   "cell_type": "code",
   "execution_count": 63,
   "metadata": {},
   "outputs": [],
   "source": [
    "def get_all_estimators(train_data, test_data, train_target, test_target, type_filter='classifier'):\n",
    "    from sklearn.utils import all_estimators\n",
    "    import warnings\n",
    "    warnings.filterwarnings('ignore')\n",
    "    models = all_estimators(type_filter=type_filter)\n",
    "    scores = []\n",
    "    for name, model in models:\n",
    "        try: \n",
    "            md =model()\n",
    "            # 학습\n",
    "            md.fit(data, target)\n",
    "            # 평가\n",
    "            result = np.round(md.score(train_data, train_target),4)\n",
    "            result2 = np.round(md.score(test_data, test_target),4)\n",
    "            scores.append([name, result, result2])\n",
    "        except:\n",
    "            pass\n",
    "    scores = pd.DataFrame(scores, columns = ['name', 'train', 'test'])\n",
    "    return scores"
   ]
  },
  {
   "cell_type": "code",
   "execution_count": 64,
   "metadata": {},
   "outputs": [
    {
     "data": {
      "text/html": [
       "<div>\n",
       "<style scoped>\n",
       "    .dataframe tbody tr th:only-of-type {\n",
       "        vertical-align: middle;\n",
       "    }\n",
       "\n",
       "    .dataframe tbody tr th {\n",
       "        vertical-align: top;\n",
       "    }\n",
       "\n",
       "    .dataframe thead th {\n",
       "        text-align: right;\n",
       "    }\n",
       "</style>\n",
       "<table border=\"1\" class=\"dataframe\">\n",
       "  <thead>\n",
       "    <tr style=\"text-align: right;\">\n",
       "      <th></th>\n",
       "      <th>name</th>\n",
       "      <th>train</th>\n",
       "      <th>test</th>\n",
       "    </tr>\n",
       "  </thead>\n",
       "  <tbody>\n",
       "    <tr>\n",
       "      <th>0</th>\n",
       "      <td>ARDRegression</td>\n",
       "      <td>7.341000e-01</td>\n",
       "      <td>7.266000e-01</td>\n",
       "    </tr>\n",
       "    <tr>\n",
       "      <th>1</th>\n",
       "      <td>AdaBoostRegressor</td>\n",
       "      <td>9.026000e-01</td>\n",
       "      <td>8.836000e-01</td>\n",
       "    </tr>\n",
       "    <tr>\n",
       "      <th>2</th>\n",
       "      <td>BaggingRegressor</td>\n",
       "      <td>9.773000e-01</td>\n",
       "      <td>9.663000e-01</td>\n",
       "    </tr>\n",
       "    <tr>\n",
       "      <th>3</th>\n",
       "      <td>BayesianRidge</td>\n",
       "      <td>7.358000e-01</td>\n",
       "      <td>7.075000e-01</td>\n",
       "    </tr>\n",
       "    <tr>\n",
       "      <th>4</th>\n",
       "      <td>DecisionTreeRegressor</td>\n",
       "      <td>1.000000e+00</td>\n",
       "      <td>1.000000e+00</td>\n",
       "    </tr>\n",
       "    <tr>\n",
       "      <th>5</th>\n",
       "      <td>DummyRegressor</td>\n",
       "      <td>-1.600000e-03</td>\n",
       "      <td>-1.790000e-02</td>\n",
       "    </tr>\n",
       "    <tr>\n",
       "      <th>6</th>\n",
       "      <td>ElasticNet</td>\n",
       "      <td>6.836000e-01</td>\n",
       "      <td>6.880000e-01</td>\n",
       "    </tr>\n",
       "    <tr>\n",
       "      <th>7</th>\n",
       "      <td>ElasticNetCV</td>\n",
       "      <td>6.682000e-01</td>\n",
       "      <td>6.749000e-01</td>\n",
       "    </tr>\n",
       "    <tr>\n",
       "      <th>8</th>\n",
       "      <td>ExtraTreeRegressor</td>\n",
       "      <td>1.000000e+00</td>\n",
       "      <td>1.000000e+00</td>\n",
       "    </tr>\n",
       "    <tr>\n",
       "      <th>9</th>\n",
       "      <td>ExtraTreesRegressor</td>\n",
       "      <td>1.000000e+00</td>\n",
       "      <td>1.000000e+00</td>\n",
       "    </tr>\n",
       "    <tr>\n",
       "      <th>10</th>\n",
       "      <td>GammaRegressor</td>\n",
       "      <td>7.369000e-01</td>\n",
       "      <td>6.789000e-01</td>\n",
       "    </tr>\n",
       "    <tr>\n",
       "      <th>11</th>\n",
       "      <td>GaussianProcessRegressor</td>\n",
       "      <td>1.000000e+00</td>\n",
       "      <td>1.000000e+00</td>\n",
       "    </tr>\n",
       "    <tr>\n",
       "      <th>12</th>\n",
       "      <td>GradientBoostingRegressor</td>\n",
       "      <td>9.776000e-01</td>\n",
       "      <td>9.702000e-01</td>\n",
       "    </tr>\n",
       "    <tr>\n",
       "      <th>13</th>\n",
       "      <td>HistGradientBoostingRegressor</td>\n",
       "      <td>9.816000e-01</td>\n",
       "      <td>9.794000e-01</td>\n",
       "    </tr>\n",
       "    <tr>\n",
       "      <th>14</th>\n",
       "      <td>HuberRegressor</td>\n",
       "      <td>6.464000e-01</td>\n",
       "      <td>6.381000e-01</td>\n",
       "    </tr>\n",
       "    <tr>\n",
       "      <th>15</th>\n",
       "      <td>KNeighborsRegressor</td>\n",
       "      <td>6.952000e-01</td>\n",
       "      <td>7.883000e-01</td>\n",
       "    </tr>\n",
       "    <tr>\n",
       "      <th>16</th>\n",
       "      <td>KernelRidge</td>\n",
       "      <td>7.266000e-01</td>\n",
       "      <td>6.579000e-01</td>\n",
       "    </tr>\n",
       "    <tr>\n",
       "      <th>17</th>\n",
       "      <td>Lars</td>\n",
       "      <td>7.441000e-01</td>\n",
       "      <td>7.213000e-01</td>\n",
       "    </tr>\n",
       "    <tr>\n",
       "      <th>18</th>\n",
       "      <td>LarsCV</td>\n",
       "      <td>7.351000e-01</td>\n",
       "      <td>6.905000e-01</td>\n",
       "    </tr>\n",
       "    <tr>\n",
       "      <th>19</th>\n",
       "      <td>Lasso</td>\n",
       "      <td>6.807000e-01</td>\n",
       "      <td>6.822000e-01</td>\n",
       "    </tr>\n",
       "    <tr>\n",
       "      <th>20</th>\n",
       "      <td>LassoCV</td>\n",
       "      <td>7.024000e-01</td>\n",
       "      <td>6.954000e-01</td>\n",
       "    </tr>\n",
       "    <tr>\n",
       "      <th>21</th>\n",
       "      <td>LassoLars</td>\n",
       "      <td>-1.600000e-03</td>\n",
       "      <td>-1.790000e-02</td>\n",
       "    </tr>\n",
       "    <tr>\n",
       "      <th>22</th>\n",
       "      <td>LassoLarsCV</td>\n",
       "      <td>7.368000e-01</td>\n",
       "      <td>6.946000e-01</td>\n",
       "    </tr>\n",
       "    <tr>\n",
       "      <th>23</th>\n",
       "      <td>LassoLarsIC</td>\n",
       "      <td>7.442000e-01</td>\n",
       "      <td>7.202000e-01</td>\n",
       "    </tr>\n",
       "    <tr>\n",
       "      <th>24</th>\n",
       "      <td>LinearRegression</td>\n",
       "      <td>7.442000e-01</td>\n",
       "      <td>7.212000e-01</td>\n",
       "    </tr>\n",
       "    <tr>\n",
       "      <th>25</th>\n",
       "      <td>LinearSVR</td>\n",
       "      <td>6.147000e-01</td>\n",
       "      <td>5.197000e-01</td>\n",
       "    </tr>\n",
       "    <tr>\n",
       "      <th>26</th>\n",
       "      <td>MLPRegressor</td>\n",
       "      <td>6.480000e-01</td>\n",
       "      <td>6.917000e-01</td>\n",
       "    </tr>\n",
       "    <tr>\n",
       "      <th>27</th>\n",
       "      <td>NuSVR</td>\n",
       "      <td>2.179000e-01</td>\n",
       "      <td>3.094000e-01</td>\n",
       "    </tr>\n",
       "    <tr>\n",
       "      <th>28</th>\n",
       "      <td>OrthogonalMatchingPursuit</td>\n",
       "      <td>5.520000e-01</td>\n",
       "      <td>5.036000e-01</td>\n",
       "    </tr>\n",
       "    <tr>\n",
       "      <th>29</th>\n",
       "      <td>OrthogonalMatchingPursuitCV</td>\n",
       "      <td>6.871000e-01</td>\n",
       "      <td>6.388000e-01</td>\n",
       "    </tr>\n",
       "    <tr>\n",
       "      <th>30</th>\n",
       "      <td>PLSRegression</td>\n",
       "      <td>7.164000e-01</td>\n",
       "      <td>6.616000e-01</td>\n",
       "    </tr>\n",
       "    <tr>\n",
       "      <th>31</th>\n",
       "      <td>PassiveAggressiveRegressor</td>\n",
       "      <td>6.850000e-02</td>\n",
       "      <td>-1.904000e-01</td>\n",
       "    </tr>\n",
       "    <tr>\n",
       "      <th>32</th>\n",
       "      <td>PoissonRegressor</td>\n",
       "      <td>7.831000e-01</td>\n",
       "      <td>7.602000e-01</td>\n",
       "    </tr>\n",
       "    <tr>\n",
       "      <th>33</th>\n",
       "      <td>QuantileRegressor</td>\n",
       "      <td>3.523000e-01</td>\n",
       "      <td>4.426000e-01</td>\n",
       "    </tr>\n",
       "    <tr>\n",
       "      <th>34</th>\n",
       "      <td>RANSACRegressor</td>\n",
       "      <td>5.292000e-01</td>\n",
       "      <td>5.645000e-01</td>\n",
       "    </tr>\n",
       "    <tr>\n",
       "      <th>35</th>\n",
       "      <td>RadiusNeighborsRegressor</td>\n",
       "      <td>9.994000e-01</td>\n",
       "      <td>9.978000e-01</td>\n",
       "    </tr>\n",
       "    <tr>\n",
       "      <th>36</th>\n",
       "      <td>RandomForestRegressor</td>\n",
       "      <td>9.832000e-01</td>\n",
       "      <td>9.842000e-01</td>\n",
       "    </tr>\n",
       "    <tr>\n",
       "      <th>37</th>\n",
       "      <td>Ridge</td>\n",
       "      <td>7.431000e-01</td>\n",
       "      <td>7.165000e-01</td>\n",
       "    </tr>\n",
       "    <tr>\n",
       "      <th>38</th>\n",
       "      <td>RidgeCV</td>\n",
       "      <td>7.442000e-01</td>\n",
       "      <td>7.207000e-01</td>\n",
       "    </tr>\n",
       "    <tr>\n",
       "      <th>39</th>\n",
       "      <td>SGDRegressor</td>\n",
       "      <td>-2.912438e+25</td>\n",
       "      <td>-4.074179e+25</td>\n",
       "    </tr>\n",
       "    <tr>\n",
       "      <th>40</th>\n",
       "      <td>SVR</td>\n",
       "      <td>1.773000e-01</td>\n",
       "      <td>3.075000e-01</td>\n",
       "    </tr>\n",
       "    <tr>\n",
       "      <th>41</th>\n",
       "      <td>TheilSenRegressor</td>\n",
       "      <td>7.098000e-01</td>\n",
       "      <td>6.758000e-01</td>\n",
       "    </tr>\n",
       "    <tr>\n",
       "      <th>42</th>\n",
       "      <td>TransformedTargetRegressor</td>\n",
       "      <td>7.442000e-01</td>\n",
       "      <td>7.212000e-01</td>\n",
       "    </tr>\n",
       "    <tr>\n",
       "      <th>43</th>\n",
       "      <td>TweedieRegressor</td>\n",
       "      <td>6.711000e-01</td>\n",
       "      <td>6.596000e-01</td>\n",
       "    </tr>\n",
       "  </tbody>\n",
       "</table>\n",
       "</div>"
      ],
      "text/plain": [
       "                             name         train          test\n",
       "0                   ARDRegression  7.341000e-01  7.266000e-01\n",
       "1               AdaBoostRegressor  9.026000e-01  8.836000e-01\n",
       "2                BaggingRegressor  9.773000e-01  9.663000e-01\n",
       "3                   BayesianRidge  7.358000e-01  7.075000e-01\n",
       "4           DecisionTreeRegressor  1.000000e+00  1.000000e+00\n",
       "5                  DummyRegressor -1.600000e-03 -1.790000e-02\n",
       "6                      ElasticNet  6.836000e-01  6.880000e-01\n",
       "7                    ElasticNetCV  6.682000e-01  6.749000e-01\n",
       "8              ExtraTreeRegressor  1.000000e+00  1.000000e+00\n",
       "9             ExtraTreesRegressor  1.000000e+00  1.000000e+00\n",
       "10                 GammaRegressor  7.369000e-01  6.789000e-01\n",
       "11       GaussianProcessRegressor  1.000000e+00  1.000000e+00\n",
       "12      GradientBoostingRegressor  9.776000e-01  9.702000e-01\n",
       "13  HistGradientBoostingRegressor  9.816000e-01  9.794000e-01\n",
       "14                 HuberRegressor  6.464000e-01  6.381000e-01\n",
       "15            KNeighborsRegressor  6.952000e-01  7.883000e-01\n",
       "16                    KernelRidge  7.266000e-01  6.579000e-01\n",
       "17                           Lars  7.441000e-01  7.213000e-01\n",
       "18                         LarsCV  7.351000e-01  6.905000e-01\n",
       "19                          Lasso  6.807000e-01  6.822000e-01\n",
       "20                        LassoCV  7.024000e-01  6.954000e-01\n",
       "21                      LassoLars -1.600000e-03 -1.790000e-02\n",
       "22                    LassoLarsCV  7.368000e-01  6.946000e-01\n",
       "23                    LassoLarsIC  7.442000e-01  7.202000e-01\n",
       "24               LinearRegression  7.442000e-01  7.212000e-01\n",
       "25                      LinearSVR  6.147000e-01  5.197000e-01\n",
       "26                   MLPRegressor  6.480000e-01  6.917000e-01\n",
       "27                          NuSVR  2.179000e-01  3.094000e-01\n",
       "28      OrthogonalMatchingPursuit  5.520000e-01  5.036000e-01\n",
       "29    OrthogonalMatchingPursuitCV  6.871000e-01  6.388000e-01\n",
       "30                  PLSRegression  7.164000e-01  6.616000e-01\n",
       "31     PassiveAggressiveRegressor  6.850000e-02 -1.904000e-01\n",
       "32               PoissonRegressor  7.831000e-01  7.602000e-01\n",
       "33              QuantileRegressor  3.523000e-01  4.426000e-01\n",
       "34                RANSACRegressor  5.292000e-01  5.645000e-01\n",
       "35       RadiusNeighborsRegressor  9.994000e-01  9.978000e-01\n",
       "36          RandomForestRegressor  9.832000e-01  9.842000e-01\n",
       "37                          Ridge  7.431000e-01  7.165000e-01\n",
       "38                        RidgeCV  7.442000e-01  7.207000e-01\n",
       "39                   SGDRegressor -2.912438e+25 -4.074179e+25\n",
       "40                            SVR  1.773000e-01  3.075000e-01\n",
       "41              TheilSenRegressor  7.098000e-01  6.758000e-01\n",
       "42     TransformedTargetRegressor  7.442000e-01  7.212000e-01\n",
       "43               TweedieRegressor  6.711000e-01  6.596000e-01"
      ]
     },
     "execution_count": 64,
     "metadata": {},
     "output_type": "execute_result"
    }
   ],
   "source": [
    "scores = get_all_estimators(train_data, test_data, train_target, test_target, type_filter='regressor')\n",
    "scores"
   ]
  },
  {
   "cell_type": "markdown",
   "metadata": {},
   "source": [
    "### 최적의 모델 소팅하기"
   ]
  },
  {
   "cell_type": "code",
   "execution_count": 65,
   "metadata": {},
   "outputs": [
    {
     "data": {
      "text/html": [
       "<div>\n",
       "<style scoped>\n",
       "    .dataframe tbody tr th:only-of-type {\n",
       "        vertical-align: middle;\n",
       "    }\n",
       "\n",
       "    .dataframe tbody tr th {\n",
       "        vertical-align: top;\n",
       "    }\n",
       "\n",
       "    .dataframe thead th {\n",
       "        text-align: right;\n",
       "    }\n",
       "</style>\n",
       "<table border=\"1\" class=\"dataframe\">\n",
       "  <thead>\n",
       "    <tr style=\"text-align: right;\">\n",
       "      <th></th>\n",
       "      <th>name</th>\n",
       "      <th>train</th>\n",
       "      <th>test</th>\n",
       "    </tr>\n",
       "  </thead>\n",
       "  <tbody>\n",
       "    <tr>\n",
       "      <th>8</th>\n",
       "      <td>ExtraTreeRegressor</td>\n",
       "      <td>1.0000</td>\n",
       "      <td>1.0000</td>\n",
       "    </tr>\n",
       "    <tr>\n",
       "      <th>4</th>\n",
       "      <td>DecisionTreeRegressor</td>\n",
       "      <td>1.0000</td>\n",
       "      <td>1.0000</td>\n",
       "    </tr>\n",
       "    <tr>\n",
       "      <th>11</th>\n",
       "      <td>GaussianProcessRegressor</td>\n",
       "      <td>1.0000</td>\n",
       "      <td>1.0000</td>\n",
       "    </tr>\n",
       "    <tr>\n",
       "      <th>9</th>\n",
       "      <td>ExtraTreesRegressor</td>\n",
       "      <td>1.0000</td>\n",
       "      <td>1.0000</td>\n",
       "    </tr>\n",
       "    <tr>\n",
       "      <th>35</th>\n",
       "      <td>RadiusNeighborsRegressor</td>\n",
       "      <td>0.9994</td>\n",
       "      <td>0.9978</td>\n",
       "    </tr>\n",
       "    <tr>\n",
       "      <th>36</th>\n",
       "      <td>RandomForestRegressor</td>\n",
       "      <td>0.9832</td>\n",
       "      <td>0.9842</td>\n",
       "    </tr>\n",
       "    <tr>\n",
       "      <th>13</th>\n",
       "      <td>HistGradientBoostingRegressor</td>\n",
       "      <td>0.9816</td>\n",
       "      <td>0.9794</td>\n",
       "    </tr>\n",
       "    <tr>\n",
       "      <th>12</th>\n",
       "      <td>GradientBoostingRegressor</td>\n",
       "      <td>0.9776</td>\n",
       "      <td>0.9702</td>\n",
       "    </tr>\n",
       "    <tr>\n",
       "      <th>2</th>\n",
       "      <td>BaggingRegressor</td>\n",
       "      <td>0.9773</td>\n",
       "      <td>0.9663</td>\n",
       "    </tr>\n",
       "    <tr>\n",
       "      <th>1</th>\n",
       "      <td>AdaBoostRegressor</td>\n",
       "      <td>0.9026</td>\n",
       "      <td>0.8836</td>\n",
       "    </tr>\n",
       "  </tbody>\n",
       "</table>\n",
       "</div>"
      ],
      "text/plain": [
       "                             name   train    test\n",
       "8              ExtraTreeRegressor  1.0000  1.0000\n",
       "4           DecisionTreeRegressor  1.0000  1.0000\n",
       "11       GaussianProcessRegressor  1.0000  1.0000\n",
       "9             ExtraTreesRegressor  1.0000  1.0000\n",
       "35       RadiusNeighborsRegressor  0.9994  0.9978\n",
       "36          RandomForestRegressor  0.9832  0.9842\n",
       "13  HistGradientBoostingRegressor  0.9816  0.9794\n",
       "12      GradientBoostingRegressor  0.9776  0.9702\n",
       "2                BaggingRegressor  0.9773  0.9663\n",
       "1               AdaBoostRegressor  0.9026  0.8836"
      ]
     },
     "execution_count": 65,
     "metadata": {},
     "output_type": "execute_result"
    }
   ],
   "source": [
    "scores.sort_values('train', ascending=False).iloc[:10,:]"
   ]
  },
  {
   "cell_type": "code",
   "execution_count": 67,
   "metadata": {},
   "outputs": [
    {
     "data": {
      "text/plain": [
       "(506, 13)"
      ]
     },
     "execution_count": 67,
     "metadata": {},
     "output_type": "execute_result"
    }
   ],
   "source": []
  }
 ],
 "metadata": {
  "kernelspec": {
   "display_name": "Python 3.10.4 64-bit",
   "language": "python",
   "name": "python3"
  },
  "language_info": {
   "codemirror_mode": {
    "name": "ipython",
    "version": 3
   },
   "file_extension": ".py",
   "mimetype": "text/x-python",
   "name": "python",
   "nbconvert_exporter": "python",
   "pygments_lexer": "ipython3",
   "version": "3.10.4"
  },
  "orig_nbformat": 4,
  "vscode": {
   "interpreter": {
    "hash": "701f553f3cf634fe4f2c4f983f7515070d2dd5af080cb3db5c1ee13f7b0211fa"
   }
  }
 },
 "nbformat": 4,
 "nbformat_minor": 2
}
