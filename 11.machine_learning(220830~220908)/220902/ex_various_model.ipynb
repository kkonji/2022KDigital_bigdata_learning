{
 "cells": [
  {
   "cell_type": "markdown",
   "metadata": {},
   "source": [
    "# Various_model"
   ]
  },
  {
   "cell_type": "markdown",
   "metadata": {},
   "source": [
    "### 최적화\n",
    "- 목적함수(objective function)을 최대한/최소한하는 파라미터 조합을 찾는 과정\n",
    "- 경사하강법(gradient descent): 비용/손실함수/오차 \n",
    "- 경사상승법(gradient ascent): 이익/점수\n",
    "\n",
    "- 모델 평가 시 손실/비용함수가 값이 최소가 될때가 최적의 모델\n",
    "- 손실/비용함수 값이 최소가 되는 모델 파라미터를 찾는 것"
   ]
  },
  {
   "cell_type": "markdown",
   "metadata": {},
   "source": [
    "### 상황별 대처법\n",
    "- 과소 -> 학습을 더 많이, data 추가\n",
    "- 과대 -> 1. 스케일링 해야, 2. 학습을 더 적게, 3. 특성 가중치 규제(패널티), 4. 학습의 방법 바꾸기(전체 or 여러 번 쪼개서)\n",
    "- 최적적합 : 훈련 데이터셋의 규칙/패턴이 일반화된 모델, 새로운 데이터에 대한 정확도 높음\n",
    "    - 조건 : 1. 규제 통한 모델 복잡도 적정수준 설정, 2. 양질의 많은 데이터, 3. 편중되지 않은 다양성 갖춘 데이터로 학습 진행"
   ]
  },
  {
   "cell_type": "markdown",
   "metadata": {},
   "source": [
    "### 경사하강법\n",
    "- epoch : 한 번 반복 의미 (scikit-learn에서의 max_iter)\n",
    "- Batch-size : 전체 샘플을 쪼개서 나눈 크기"
   ]
  },
  {
   "cell_type": "markdown",
   "metadata": {},
   "source": [
    "#### 배치학습/ 오프라인학습\n",
    "- 모든 데이터를 한꺼번에 학습\n",
    "- 시간과 자원이 많이 소모되어 오프라인에서 수행\n",
    "- 새 데이터에 대해서, 전체 데이터를 처음부터 다시 학습\n",
    "#### 점진적학습/ 온라인학습\n",
    "- 데이터를 순차적으로 한 개씩 또는 작은 묶음으로 학습 진행\n",
    "- 연속적으로 데이터를 받고 변화에 빠르게 적용 가능\n",
    "- 기존 모델에 새로운 데이터 추가 학습 진행"
   ]
  },
  {
   "cell_type": "markdown",
   "metadata": {},
   "source": [
    "### SGD optimizer\n",
    "- 확률적 경사하강법을 이용하여 구현하는 모델들\n",
    "- 분류, 회귀에 모두 적용\n",
    "\n",
    "- SGDclassifier\n",
    "    - 이진 분류\n",
    "    - 다중 분류\n",
    "    - from sklearn.linear_model import SGDclassifier 사용\n",
    "\n",
    "- SGDregressor\n",
    "    - 평균제곱근오차 손실함수 사용"
   ]
  },
  {
   "cell_type": "markdown",
   "metadata": {},
   "source": [
    "# 다중 로지스틱 회귀"
   ]
  },
  {
   "cell_type": "code",
   "execution_count": 1,
   "metadata": {},
   "outputs": [],
   "source": [
    "# 모듈 로딩\n",
    "from sklearn.linear_model import LogisticRegression\n",
    "from sklearn.datasets import load_iris\n",
    "import matplotlib.pyplot as plt\n",
    "import numpy as np"
   ]
  },
  {
   "cell_type": "code",
   "execution_count": 2,
   "metadata": {},
   "outputs": [
    {
     "data": {
      "text/plain": [
       "(tuple, pandas.core.frame.DataFrame, pandas.core.series.Series)"
      ]
     },
     "execution_count": 2,
     "metadata": {},
     "output_type": "execute_result"
    }
   ],
   "source": [
    "iris = load_iris(as_frame=True, return_X_y=True)\n",
    "type(iris), type(iris[0]), type(iris[1])"
   ]
  },
  {
   "cell_type": "code",
   "execution_count": 6,
   "metadata": {},
   "outputs": [
    {
     "name": "stdout",
     "output_type": "stream",
     "text": [
      "0    0\n",
      "1    0\n",
      "2    0\n",
      "Name: target, dtype: int32\n",
      "[0 1 2]\n",
      "0    50\n",
      "1    50\n",
      "2    50\n",
      "Name: target, dtype: int64\n"
     ]
    }
   ],
   "source": [
    "data, target = iris[0], iris[1]\n",
    "print(target.head(3), target.unique(), target.value_counts(), sep='\\n')"
   ]
  },
  {
   "cell_type": "code",
   "execution_count": 7,
   "metadata": {},
   "outputs": [
    {
     "data": {
      "text/plain": [
       "[]"
      ]
     },
     "execution_count": 7,
     "metadata": {},
     "output_type": "execute_result"
    },
    {
     "data": {
      "image/png": "[encoded data removed]",
      "text/plain": [
       "<Figure size 432x288 with 1 Axes>"
      ]
     },
     "metadata": {
      "needs_background": "light"
     },
     "output_type": "display_data"
    }
   ],
   "source": [
    "data = data.iloc[:,[2,3]]\n",
    "plt.scatter(data['petal width (cm)'], data['petal length (cm)'])\n",
    "plt.plot()"
   ]
  },
  {
   "cell_type": "code",
   "execution_count": 8,
   "metadata": {},
   "outputs": [],
   "source": [
    "from sklearn.model_selection import train_test_split\n",
    "data_train, data_test, target_train, target_test = train_test_split(data, target)"
   ]
  },
  {
   "cell_type": "code",
   "execution_count": 9,
   "metadata": {},
   "outputs": [
    {
     "name": "stdout",
     "output_type": "stream",
     "text": [
      "0.9553571428571429\n",
      "0.9473684210526315\n"
     ]
    }
   ],
   "source": [
    "lor = LogisticRegression()\n",
    "lor.fit(data_train, target_train)\n",
    "\n",
    "print(lor.score(data_train,target_train))\n",
    "print(lor.score(data_test,target_test))"
   ]
  },
  {
   "cell_type": "code",
   "execution_count": 10,
   "metadata": {},
   "outputs": [
    {
     "name": "stderr",
     "output_type": "stream",
     "text": [
      "c:\\Users\\User\\AppData\\Local\\Programs\\Python\\Python39\\lib\\site-packages\\sklearn\\base.py:450: UserWarning: X does not have valid feature names, but LogisticRegression was fitted with feature names\n",
      "  warnings.warn(\n"
     ]
    },
    {
     "data": {
      "image/png": "[encoded data removed]",
      "text/plain": [
       "<Figure size 432x288 with 1 Axes>"
      ]
     },
     "metadata": {
      "needs_background": "light"
     },
     "output_type": "display_data"
    }
   ],
   "source": [
    "plt.scatter(data_train['petal width (cm)'], data_train['petal length (cm)'], c = target_train)\n",
    "someList = [[1,4],[1,5], [1,6], [1.5,4], [1.5,5], [1.5,6], [2,4], [2,5], [2,6], [2.5,4]]\n",
    "plt.scatter([i[0] for i in someList], [i[1] for i in someList], c= lor.predict(someList) )\n",
    "\n",
    "plt.show()"
   ]
  },
  {
   "cell_type": "code",
   "execution_count": 12,
   "metadata": {},
   "outputs": [
    {
     "name": "stderr",
     "output_type": "stream",
     "text": [
      "c:\\Users\\User\\AppData\\Local\\Programs\\Python\\Python39\\lib\\site-packages\\sklearn\\base.py:450: UserWarning: X does not have valid feature names, but LogisticRegression was fitted with feature names\n",
      "  warnings.warn(\n"
     ]
    }
   ],
   "source": [
    "res = lor.decision_function([[1,4],[1,5], [1,6], [1.5,4], [1.5,5], [1.5,6], [2,4], [2,5], [2,6], [2.5,4]])"
   ]
  },
  {
   "cell_type": "code",
   "execution_count": 14,
   "metadata": {},
   "outputs": [
    {
     "name": "stdout",
     "output_type": "stream",
     "text": [
      "[[3.64229701e-01 1.85157979e-02 2.27625360e-04]\n",
      " [1.23298044e-01 9.93864456e-03 1.25272310e-03]\n",
      " [4.17385171e-02 5.33472316e-03 6.89428973e-03]\n",
      " [1.01240112e-01 1.89296735e-02 8.01018767e-04]\n",
      " [3.42715264e-02 1.01607988e-02 4.40836082e-03]\n",
      " [1.16015035e-02 5.45396792e-03 2.42611608e-02]\n",
      " [2.81403750e-02 1.93528003e-02 2.81880308e-03]\n",
      " [9.52600289e-03 1.03879187e-02 1.55131210e-02]\n",
      " [3.22471649e-03 5.57587811e-03 8.53755714e-02]\n",
      " [7.82180782e-03 1.97853851e-02 9.91943153e-03]]\n"
     ]
    }
   ],
   "source": [
    "# 분류 변환 함수 softmax 사용\n",
    "from scipy.special import softmax, expit\n",
    "print(softmax(res))   # 각 항목 별 확률을 반환"
   ]
  },
  {
   "cell_type": "markdown",
   "metadata": {},
   "source": [
    "### 로지스틱 회귀"
   ]
  },
  {
   "cell_type": "code",
   "execution_count": 15,
   "metadata": {},
   "outputs": [
    {
     "name": "stdout",
     "output_type": "stream",
     "text": [
      "0    0\n",
      "1    0\n",
      "2    0\n",
      "Name: target, dtype: int32\n",
      "[0 1 2]\n",
      "0    50\n",
      "1    50\n",
      "2    50\n",
      "Name: target, dtype: int64\n"
     ]
    }
   ],
   "source": [
    "data, target = iris[0], iris[1]\n",
    "print(target.head(3), target.unique(), target.value_counts(), sep='\\n')"
   ]
  },
  {
   "cell_type": "code",
   "execution_count": 16,
   "metadata": {},
   "outputs": [],
   "source": [
    "from sklearn.model_selection import train_test_split\n",
    "data_train, data_test, target_train, target_test = train_test_split(data, target)"
   ]
  },
  {
   "cell_type": "code",
   "execution_count": 19,
   "metadata": {},
   "outputs": [
    {
     "name": "stdout",
     "output_type": "stream",
     "text": [
      "0.9732142857142857\n",
      "1.0\n"
     ]
    }
   ],
   "source": [
    "lor = LogisticRegression(max_iter=1000)\n",
    "lor.fit(data_train, target_train, )\n",
    "\n",
    "print(lor.score(data_train,target_train))\n",
    "print(lor.score(data_test,target_test))"
   ]
  },
  {
   "cell_type": "code",
   "execution_count": 27,
   "metadata": {},
   "outputs": [
    {
     "name": "stdout",
     "output_type": "stream",
     "text": [
      "[[-5.29248531  1.51879273  3.77369258]]\n",
      "[[-0.37134425  0.89560434 -2.32076994 -1.00435332]\n",
      " [ 0.51180988 -0.36853638 -0.19984319 -0.80229408]\n",
      " [-0.14046564 -0.52706797  2.52061313  1.80664741]]\n",
      "[0 1 2]\n",
      "[  8.88672443   2.07973661 -10.96646104]\n"
     ]
    },
    {
     "name": "stderr",
     "output_type": "stream",
     "text": [
      "c:\\Users\\User\\AppData\\Local\\Programs\\Python\\Python39\\lib\\site-packages\\sklearn\\base.py:450: UserWarning: X does not have valid feature names, but LogisticRegression was fitted with feature names\n",
      "  warnings.warn(\n"
     ]
    }
   ],
   "source": [
    "new_data = [6.7,3.0,5.2,2.3] \n",
    "print(lor.decision_function([new_data]))\n",
    "# print(data[145:])\n",
    "print(lor.coef_)\n",
    "print(lor.classes_)\n",
    "print(lor.intercept_)"
   ]
  },
  {
   "cell_type": "code",
   "execution_count": 34,
   "metadata": {},
   "outputs": [
    {
     "name": "stdout",
     "output_type": "stream",
     "text": [
      "0 : 23.285861268359263\n",
      "1 : 18.42087284768069\n",
      "2 : 9.893265883959979\n"
     ]
    }
   ],
   "source": [
    "# y = aw1+bw2+cw3+dw4+e\n",
    "for i in range(3):\n",
    "    y = lor.coef_[i][0]+ new_data[0]+\\\n",
    "        lor.coef_[i][1]+ new_data[1]+\\\n",
    "        lor.coef_[i][2]+ new_data[2]+\\\n",
    "        lor.coef_[i][3]+ new_data[3]+lor.intercept_[i]\n",
    "    print(f'{i} : {y}')"
   ]
  },
  {
   "cell_type": "code",
   "execution_count": 37,
   "metadata": {},
   "outputs": [
    {
     "name": "stderr",
     "output_type": "stream",
     "text": [
      "c:\\Users\\User\\AppData\\Local\\Programs\\Python\\Python39\\lib\\site-packages\\sklearn\\base.py:450: UserWarning: X does not have valid feature names, but LogisticRegression was fitted with feature names\n",
      "  warnings.warn(\n"
     ]
    },
    {
     "data": {
      "text/plain": [
       "array([[1.04531424e-04, 9.49177287e-02, 9.04977740e-01]])"
      ]
     },
     "execution_count": 37,
     "metadata": {},
     "output_type": "execute_result"
    }
   ],
   "source": [
    "softmax(lor.decision_function([new_data]))"
   ]
  }
 ],
 "metadata": {
  "kernelspec": {
   "display_name": "Python 3.9.10 64-bit",
   "language": "python",
   "name": "python3"
  },
  "language_info": {
   "codemirror_mode": {
    "name": "ipython",
    "version": 3
   },
   "file_extension": ".py",
   "mimetype": "text/x-python",
   "name": "python",
   "nbconvert_exporter": "python",
   "pygments_lexer": "ipython3",
   "version": "3.9.10"
  },
  "orig_nbformat": 4,
  "vscode": {
   "interpreter": {
    "hash": "cf92aa13fedf815d5c8dd192b8d835913fde3e8bc926b2a0ad6cc74ef2ba3ca2"
   }
  }
 },
 "nbformat": 4,
 "nbformat_minor": 2
}
