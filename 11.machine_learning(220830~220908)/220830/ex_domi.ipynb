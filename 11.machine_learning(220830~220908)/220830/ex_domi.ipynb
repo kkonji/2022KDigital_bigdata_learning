{
 "cells": [
  {
   "cell_type": "code",
   "execution_count": 2,
   "metadata": {},
   "outputs": [],
   "source": [
    "bream_length =\t[25.4,\t26.3,\t26.5,\t29.0,\t29.0,\t29.7,\t29.7,\t30.0,\t30.0,\t30.7,\t31.0,\t\n",
    "31.0,\t31.5,\t32.0,\t32.0,\t32.0,\t33.0,\t33.0,\t33.5,\t33.5,\t34.0,\t34.0,\t\n",
    "34.5,\t35.0,\t35.0,\t35.0,\t35.0,\t36.0,\t36.0,\t37.0,\t38.5,\t38.5,\t39.5,\t\n",
    "41.0,\t41.0]\n",
    "bream_weight = [242.0,\t290.0,\t340.0,\t363.0,\t430.0,\t450.0,\t500.0,\t390.0,\t450.0,\t500.0,\t\n",
    "475.0,\t500.0,\t500.0,\t340.0,\t600.0,\t600.0,\t700.0,\t700.0,\t610.0,\t650.0,\n",
    "575.0,\t685.0,\t620.0,\t680.0,\t700.0,\t725.0,\t720.0,\t714.0,\t850.0,\t1000.0,\n",
    "920.0,\t955.0,\t925.0,\t975.0,\t950.0]\n",
    "\n",
    "smelt_length = [9.8, 10.5, 10.6, 11.0, 11.2, 11.3, 11.8, 11.8, 12.0, 12.2,\n",
    "12.4, 13.0, 14.3, 15.0]\n",
    "smelt_weight = [6.7, 7.5, 7.0, 9.7, 9.8, 8.7, 10.0, 9.9, 9.8, 12.2, 13.4,\n",
    "12.2, 19.7, 19.9]"
   ]
  },
  {
   "cell_type": "code",
   "execution_count": 3,
   "metadata": {},
   "outputs": [
    {
     "data": {
      "image/png": "[encoded data removed]",
      "text/plain": [
       "<Figure size 432x288 with 1 Axes>"
      ]
     },
     "metadata": {
      "needs_background": "light"
     },
     "output_type": "display_data"
    }
   ],
   "source": [
    "import matplotlib.pyplot as plt\n",
    "plt.scatter(bream_length, bream_weight, label='bream')\n",
    "plt.scatter(smelt_length, smelt_weight, label='smelt')\n",
    "plt.xlabel('length') # x축은 길이\n",
    "plt.ylabel('weight') # y축은 무게\n",
    "plt.legend()\n",
    "plt.show()"
   ]
  },
  {
   "cell_type": "code",
   "execution_count": 5,
   "metadata": {},
   "outputs": [],
   "source": [
    "length = bream_length + smelt_length\n",
    "weight = bream_weight + smelt_weight"
   ]
  },
  {
   "cell_type": "code",
   "execution_count": 11,
   "metadata": {},
   "outputs": [
    {
     "name": "stdout",
     "output_type": "stream",
     "text": [
      "[[25.4, 242.0], [26.3, 290.0], [26.5, 340.0], [29.0, 363.0], [29.0, 430.0], [29.7, 450.0], [29.7, 500.0], [30.0, 390.0], [30.0, 450.0], [30.7, 500.0], [31.0, 475.0], [31.0, 500.0], [31.5, 500.0], [32.0, 340.0], [32.0, 600.0], [32.0, 600.0], [33.0, 700.0], [33.0, 700.0], [33.5, 610.0], [33.5, 650.0], [34.0, 575.0], [34.0, 685.0], [34.5, 620.0], [35.0, 680.0], [35.0, 700.0], [35.0, 725.0], [35.0, 720.0], [36.0, 714.0], [36.0, 850.0], [37.0, 1000.0], [38.5, 920.0], [38.5, 955.0], [39.5, 925.0], [41.0, 975.0], [41.0, 950.0], [9.8, 6.7], [10.5, 7.5], [10.6, 7.0], [11.0, 9.7], [11.2, 9.8], [11.3, 8.7], [11.8, 10.0], [11.8, 9.9], [12.0, 9.8], [12.2, 12.2], [12.4, 13.4], [13.0, 12.2], [14.3, 19.7], [15.0, 19.9]]\n"
     ]
    }
   ],
   "source": [
    "fish_data = [[l,w] for l,w in zip(length, weight)]\n",
    "print(fish_data)"
   ]
  },
  {
   "cell_type": "code",
   "execution_count": 9,
   "metadata": {},
   "outputs": [
    {
     "name": "stdout",
     "output_type": "stream",
     "text": [
      "[1, 1, 1, 1, 1, 1, 1, 1, 1, 1, 1, 1, 1, 1, 1, 1, 1, 1, 1, 1, 1, 1, 1, 1, 1, 1, 1, 1, 1, 1, 1, 1, 1, 1, 1, 0, 0, 0, 0, 0, 0, 0, 0, 0, 0, 0, 0, 0, 0]\n"
     ]
    }
   ],
   "source": [
    "# 찾고자 하는 데이터를 1로 설정\n",
    "fish_target =  [1]*35 + [0]*14\n",
    "print(fish_target)"
   ]
  },
  {
   "cell_type": "markdown",
   "metadata": {},
   "source": [
    "### kNN algorithm\n",
    "- 특징\n",
    "    - 비슷한 특성을 가진 데이터는 비슷한 범주에 속한다는 가정\n",
    "    - 주변의 가장 가까운 k개의 데이터를 보고, 데이터가 속할 그룹을 판단\n",
    "\n",
    "- 단점\n",
    "    - 모든 데이터를 가지고 있어야 함\n",
    "    - 많은 메모리 소모, 거리계산에 많은 시간이 소요"
   ]
  },
  {
   "cell_type": "code",
   "execution_count": 15,
   "metadata": {},
   "outputs": [
    {
     "data": {
      "text/plain": [
       "array([0])"
      ]
     },
     "execution_count": 15,
     "metadata": {},
     "output_type": "execute_result"
    }
   ],
   "source": [
    "# 모델 생성\n",
    "from sklearn.neighbors import KNeighborsRegressor\n",
    "from sklearn.neighbors import KNeighborsClassifier   # 없으면 conda install scikit-learn\n",
    "kn =KNeighborsClassifier()  # 객체생성, 기본 이웃개수 =5\n",
    "\n",
    "# 모델 훈련(학습)-> fish_data, fish_target을 이용하여 모델 훈련\n",
    "\n",
    "kn.fit(fish_data, fish_target)\n",
    "\n",
    "# 모델 평가: score()함수 - 정확도의 평균값 리턴\n",
    "\n",
    "kn.score(fish_data, fish_target)\n",
    "\n",
    "# 새로운 데이터를 활용한 결과 예측 <- 입력: 2차원 리스트 형태\n",
    "kn.predict([[30,100]])"
   ]
  },
  {
   "cell_type": "code",
   "execution_count": 16,
   "metadata": {},
   "outputs": [
    {
     "name": "stdout",
     "output_type": "stream",
     "text": [
      "[[  25.4  242. ]\n",
      " [  26.3  290. ]\n",
      " [  26.5  340. ]\n",
      " [  29.   363. ]\n",
      " [  29.   430. ]\n",
      " [  29.7  450. ]\n",
      " [  29.7  500. ]\n",
      " [  30.   390. ]\n",
      " [  30.   450. ]\n",
      " [  30.7  500. ]\n",
      " [  31.   475. ]\n",
      " [  31.   500. ]\n",
      " [  31.5  500. ]\n",
      " [  32.   340. ]\n",
      " [  32.   600. ]\n",
      " [  32.   600. ]\n",
      " [  33.   700. ]\n",
      " [  33.   700. ]\n",
      " [  33.5  610. ]\n",
      " [  33.5  650. ]\n",
      " [  34.   575. ]\n",
      " [  34.   685. ]\n",
      " [  34.5  620. ]\n",
      " [  35.   680. ]\n",
      " [  35.   700. ]\n",
      " [  35.   725. ]\n",
      " [  35.   720. ]\n",
      " [  36.   714. ]\n",
      " [  36.   850. ]\n",
      " [  37.  1000. ]\n",
      " [  38.5  920. ]\n",
      " [  38.5  955. ]\n",
      " [  39.5  925. ]\n",
      " [  41.   975. ]\n",
      " [  41.   950. ]\n",
      " [   9.8    6.7]\n",
      " [  10.5    7.5]\n",
      " [  10.6    7. ]\n",
      " [  11.     9.7]\n",
      " [  11.2    9.8]\n",
      " [  11.3    8.7]\n",
      " [  11.8   10. ]\n",
      " [  11.8    9.9]\n",
      " [  12.     9.8]\n",
      " [  12.2   12.2]\n",
      " [  12.4   13.4]\n",
      " [  13.    12.2]\n",
      " [  14.3   19.7]\n",
      " [  15.    19.9]]\n",
      "[1 1 1 1 1 1 1 1 1 1 1 1 1 1 1 1 1 1 1 1 1 1 1 1 1 1 1 1 1 1 1 1 1 1 1 0 0\n",
      " 0 0 0 0 0 0 0 0 0 0 0 0]\n"
     ]
    }
   ],
   "source": [
    "# 훈련 데이터를 모두 가짐 -> _fit_X 속성\n",
    "print(kn._fit_X)\n",
    "# fish_target을 가짐 -> _y 속성\n",
    "print(kn._y)"
   ]
  },
  {
   "cell_type": "code",
   "execution_count": 23,
   "metadata": {},
   "outputs": [
    {
     "data": {
      "text/plain": [
       "0.7142857142857143"
      ]
     },
     "execution_count": 23,
     "metadata": {},
     "output_type": "execute_result"
    }
   ],
   "source": [
    "kn49 = KNeighborsClassifier(n_neighbors=49)\n",
    "\n",
    "kn49.fit(fish_data, fish_target)\n",
    "kn49.score(fish_data, fish_target)"
   ]
  },
  {
   "cell_type": "markdown",
   "metadata": {},
   "source": [
    "### 정확도 : 정확한 답을 맞춘 백분율 = 정확히 맞힌 개수 / 전체 데이터 개수"
   ]
  }
 ],
 "metadata": {
  "kernelspec": {
   "display_name": "Python 3.9.10 64-bit",
   "language": "python",
   "name": "python3"
  },
  "language_info": {
   "codemirror_mode": {
    "name": "ipython",
    "version": 3
   },
   "file_extension": ".py",
   "mimetype": "text/x-python",
   "name": "python",
   "nbconvert_exporter": "python",
   "pygments_lexer": "ipython3",
   "version": "3.9.10"
  },
  "orig_nbformat": 4,
  "vscode": {
   "interpreter": {
    "hash": "cf92aa13fedf815d5c8dd192b8d835913fde3e8bc926b2a0ad6cc74ef2ba3ca2"
   }
  }
 },
 "nbformat": 4,
 "nbformat_minor": 2
}
