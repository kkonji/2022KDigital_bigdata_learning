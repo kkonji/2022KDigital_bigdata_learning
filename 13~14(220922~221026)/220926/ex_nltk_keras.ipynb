{
 "cells": [
  {
   "cell_type": "markdown",
   "metadata": {},
   "source": [
    "## 영화리뷰 분석\n",
    "- NLP의 테크닉 사용"
   ]
  },
  {
   "cell_type": "code",
   "execution_count": 92,
   "metadata": {},
   "outputs": [],
   "source": [
    "from keras.datasets import imdb\n",
    "from keras import Sequential\n",
    "from keras.layers import Dense, Dropout, Flatten, Conv2D, MaxPool2D, SimpleRNN, LSTM, GRU\n",
    "from keras.callbacks import EarlyStopping, ModelCheckpoint\n",
    "from keras.utils import set_random_seed, pad_sequences, to_categorical\n",
    "from sklearn.model_selection import train_test_split\n",
    "from sklearn.preprocessing import StandardScaler, MinMaxScaler, LabelEncoder, OneHotEncoder\n",
    "import pandas as pd \n",
    "import numpy as np\n",
    "import matplotlib.pyplot as plt\n",
    "import nltk\n",
    "import konlpy"
   ]
  },
  {
   "cell_type": "code",
   "execution_count": 86,
   "metadata": {},
   "outputs": [],
   "source": [
    "# 데이터 로딩\n",
    "# num_words = 500: 단어사전에서 빈도가 높은 500단어 까지만 사용\n",
    "(x_train, y_train), (x_test, y_test) = imdb.load_data(num_words=500)"
   ]
  },
  {
   "cell_type": "code",
   "execution_count": 27,
   "metadata": {},
   "outputs": [
    {
     "name": "stdout",
     "output_type": "stream",
     "text": [
      "(25000,) (25000,)\n"
     ]
    }
   ],
   "source": [
    "print(x_train.shape, x_test.shape)"
   ]
  },
  {
   "cell_type": "markdown",
   "metadata": {},
   "source": [
    "### imdb 데이터는 이미 전처리된(데이터 수치화까지) 데이터\n",
    "- 패딩 : pad_sequences로 길이만 조정해준다"
   ]
  },
  {
   "cell_type": "code",
   "execution_count": 8,
   "metadata": {},
   "outputs": [
    {
     "data": {
      "image/png": "[encoded data removed]",
      "text/plain": [
       "<Figure size 432x288 with 1 Axes>"
      ]
     },
     "metadata": {
      "needs_background": "light"
     },
     "output_type": "display_data"
    },
    {
     "data": {
      "image/png": "[encoded data removed]",
      "text/plain": [
       "<Figure size 432x288 with 1 Axes>"
      ]
     },
     "metadata": {
      "needs_background": "light"
     },
     "output_type": "display_data"
    }
   ],
   "source": [
    "plt.hist([len(i) for i in x_train])\n",
    "plt.show()\n",
    "plt.boxplot([len(i) for i in x_train])\n",
    "plt.show()"
   ]
  },
  {
   "cell_type": "code",
   "execution_count": 28,
   "metadata": {},
   "outputs": [
    {
     "data": {
      "text/plain": [
       "178.0"
      ]
     },
     "execution_count": 28,
     "metadata": {},
     "output_type": "execute_result"
    }
   ],
   "source": [
    "np.median([len(i) for i in x_train])"
   ]
  },
  {
   "cell_type": "markdown",
   "metadata": {},
   "source": [
    "### 중앙값이 178이 나왔지만 메모리를 고려하여 100으로 설정"
   ]
  },
  {
   "cell_type": "code",
   "execution_count": 87,
   "metadata": {},
   "outputs": [],
   "source": [
    "x_train = pad_sequences(x_train, maxlen=100)\n",
    "x_test = pad_sequences(x_test, maxlen=100)"
   ]
  },
  {
   "cell_type": "code",
   "execution_count": 11,
   "metadata": {},
   "outputs": [],
   "source": [
    "# ohe = OneHotEncoder()\n",
    "# ohe.fit(y_train.reshape(-1,1))\n",
    "# y_train = ohe.transform(y_train.reshape(-1,1))\n",
    "# y_test = ohe.transform(y_test.reshape(-1,1))\n",
    "# y_train = y_train.toarray()\n",
    "# y_test = y_test.toarray()"
   ]
  },
  {
   "cell_type": "code",
   "execution_count": 30,
   "metadata": {},
   "outputs": [
    {
     "data": {
      "text/plain": [
       "499"
      ]
     },
     "execution_count": 30,
     "metadata": {},
     "output_type": "execute_result"
    }
   ],
   "source": [
    "x_train.max()"
   ]
  },
  {
   "cell_type": "code",
   "execution_count": 31,
   "metadata": {},
   "outputs": [],
   "source": [
    "x_train = to_categorical(x_train)\n",
    "x_test = to_categorical(x_test)"
   ]
  },
  {
   "cell_type": "code",
   "execution_count": 32,
   "metadata": {},
   "outputs": [
    {
     "data": {
      "text/plain": [
       "((25000, 100, 500), (25000, 100, 500))"
      ]
     },
     "execution_count": 32,
     "metadata": {},
     "output_type": "execute_result"
    }
   ],
   "source": [
    "x_train.shape, x_test.shape"
   ]
  },
  {
   "cell_type": "code",
   "execution_count": 88,
   "metadata": {},
   "outputs": [],
   "source": [
    "x_train, x_val, y_train, y_val = train_test_split(x_train, y_train, stratify=y_train, test_size=0.2)"
   ]
  },
  {
   "cell_type": "markdown",
   "metadata": {},
   "source": [
    "### 모델\n",
    "- 영화 리뷰 데이터 학습 후 사용자가 입력하는 리뷰가 긍정/부정 분류\n",
    "- 학습 모델 : RNN 순환신경망\n",
    "- 입력 : (100,500)\n",
    "- 출력 : 1 -> 이진 분류(sigmoid)"
   ]
  },
  {
   "cell_type": "code",
   "execution_count": 70,
   "metadata": {},
   "outputs": [
    {
     "name": "stdout",
     "output_type": "stream",
     "text": [
      "Model: \"sequential_9\"\n",
      "_________________________________________________________________\n",
      " Layer (type)                Output Shape              Param #   \n",
      "=================================================================\n",
      " simple_rnn_9 (SimpleRNN)    (None, 30)                15930     \n",
      "                                                                 \n",
      " dense_9 (Dense)             (None, 1)                 31        \n",
      "                                                                 \n",
      "=================================================================\n",
      "Total params: 15,961\n",
      "Trainable params: 15,961\n",
      "Non-trainable params: 0\n",
      "_________________________________________________________________\n"
     ]
    }
   ],
   "source": [
    "# 모델 구성\n",
    "md = Sequential()\n",
    "md.add(SimpleRNN(units=30, input_shape=(100,500), recurrent_dropout= 0.3 ))\n",
    "md.add(Dense(1, activation='sigmoid'))\n",
    "md.summary()"
   ]
  },
  {
   "cell_type": "code",
   "execution_count": 41,
   "metadata": {},
   "outputs": [
    {
     "data": {
      "text/plain": [
       "((20000, 100, 500), (20000,))"
      ]
     },
     "execution_count": 41,
     "metadata": {},
     "output_type": "execute_result"
    }
   ],
   "source": [
    "x_train.shape, y_train.shape"
   ]
  },
  {
   "cell_type": "markdown",
   "metadata": {},
   "source": [
    "### 모델 생성\n",
    "- 손실함수, 최적화방법, 평가항목 -> compile()\n",
    "### 학습\n",
    "- epoch마다 검증 진행 : validation_data, validation_split\n",
    "- 학습 중 이벤트 처리 : callbacks\n",
    "- 학습 진행 내용 조절 : verbose\n",
    "- 학습 횟수 조절 : epochs\n",
    "- 배치사이즈 조절 : batch_size\n",
    "- RNN다음에 RNN올 때 : return_sequences "
   ]
  },
  {
   "cell_type": "code",
   "execution_count": 72,
   "metadata": {},
   "outputs": [
    {
     "name": "stdout",
     "output_type": "stream",
     "text": [
      "Epoch 1/100\n",
      "625/625 [==============================] - 11s 17ms/step - loss: 0.6146 - accuracy: 0.6676 - val_loss: 0.7563 - val_accuracy: 0.5972\n",
      "Epoch 2/100\n",
      "625/625 [==============================] - 11s 18ms/step - loss: 0.6051 - accuracy: 0.6733 - val_loss: 0.6818 - val_accuracy: 0.6278\n",
      "Epoch 3/100\n",
      "625/625 [==============================] - 12s 19ms/step - loss: 0.5963 - accuracy: 0.6846 - val_loss: 0.7268 - val_accuracy: 0.6250\n",
      "Epoch 4/100\n",
      "625/625 [==============================] - 11s 18ms/step - loss: 0.5865 - accuracy: 0.6953 - val_loss: 0.6820 - val_accuracy: 0.6494\n",
      "Epoch 5/100\n",
      "625/625 [==============================] - 12s 19ms/step - loss: 0.5779 - accuracy: 0.7039 - val_loss: 0.6951 - val_accuracy: 0.6600\n",
      "Epoch 6/100\n",
      "625/625 [==============================] - 11s 18ms/step - loss: 0.5698 - accuracy: 0.7118 - val_loss: 0.7150 - val_accuracy: 0.6568\n",
      "Epoch 7/100\n",
      "625/625 [==============================] - 12s 18ms/step - loss: 0.5585 - accuracy: 0.7212 - val_loss: 0.5533 - val_accuracy: 0.7260\n",
      "Epoch 8/100\n",
      "625/625 [==============================] - 12s 19ms/step - loss: 0.5531 - accuracy: 0.7240 - val_loss: 0.6008 - val_accuracy: 0.7072\n",
      "Epoch 9/100\n",
      "625/625 [==============================] - 12s 19ms/step - loss: 0.5405 - accuracy: 0.7373 - val_loss: 0.5823 - val_accuracy: 0.7200\n",
      "Epoch 10/100\n",
      "625/625 [==============================] - 12s 20ms/step - loss: 0.5414 - accuracy: 0.7406 - val_loss: 0.5156 - val_accuracy: 0.7538\n",
      "Epoch 11/100\n",
      "625/625 [==============================] - 12s 19ms/step - loss: 0.5266 - accuracy: 0.7499 - val_loss: 0.5585 - val_accuracy: 0.7332\n",
      "Epoch 12/100\n",
      "625/625 [==============================] - 12s 19ms/step - loss: 0.5260 - accuracy: 0.7474 - val_loss: 0.5676 - val_accuracy: 0.7300\n",
      "Epoch 13/100\n",
      "625/625 [==============================] - 12s 19ms/step - loss: 0.5228 - accuracy: 0.7544 - val_loss: 0.5429 - val_accuracy: 0.7496\n",
      "Epoch 14/100\n",
      "625/625 [==============================] - 12s 19ms/step - loss: 0.5163 - accuracy: 0.7574 - val_loss: 0.5302 - val_accuracy: 0.7538\n",
      "Epoch 15/100\n",
      "625/625 [==============================] - 12s 19ms/step - loss: 0.5133 - accuracy: 0.7602 - val_loss: 0.5401 - val_accuracy: 0.7508\n",
      "Epoch 16/100\n",
      "625/625 [==============================] - 12s 19ms/step - loss: 0.5129 - accuracy: 0.7593 - val_loss: 0.4922 - val_accuracy: 0.7754\n",
      "Epoch 17/100\n",
      "625/625 [==============================] - 12s 19ms/step - loss: 0.5121 - accuracy: 0.7616 - val_loss: 0.5375 - val_accuracy: 0.7554\n",
      "Epoch 18/100\n",
      "625/625 [==============================] - 12s 19ms/step - loss: 0.5047 - accuracy: 0.7655 - val_loss: 0.4886 - val_accuracy: 0.7750\n",
      "Epoch 19/100\n",
      "625/625 [==============================] - 12s 19ms/step - loss: 0.5060 - accuracy: 0.7623 - val_loss: 0.4776 - val_accuracy: 0.7792\n",
      "Epoch 20/100\n",
      "625/625 [==============================] - 12s 19ms/step - loss: 0.4997 - accuracy: 0.7683 - val_loss: 0.6151 - val_accuracy: 0.7312\n",
      "Epoch 21/100\n",
      "625/625 [==============================] - 12s 19ms/step - loss: 0.4979 - accuracy: 0.7712 - val_loss: 0.5021 - val_accuracy: 0.7762\n",
      "Epoch 22/100\n",
      "625/625 [==============================] - 12s 19ms/step - loss: 0.4932 - accuracy: 0.7767 - val_loss: 0.4808 - val_accuracy: 0.7782\n",
      "Epoch 23/100\n",
      "625/625 [==============================] - 11s 18ms/step - loss: 0.4969 - accuracy: 0.7721 - val_loss: 0.4797 - val_accuracy: 0.7820\n",
      "Epoch 24/100\n",
      "625/625 [==============================] - 12s 19ms/step - loss: 0.4913 - accuracy: 0.7760 - val_loss: 0.4707 - val_accuracy: 0.7874\n",
      "Epoch 25/100\n",
      "625/625 [==============================] - 12s 19ms/step - loss: 0.4899 - accuracy: 0.7771 - val_loss: 0.4933 - val_accuracy: 0.7772\n",
      "Epoch 26/100\n",
      "625/625 [==============================] - 12s 19ms/step - loss: 0.4891 - accuracy: 0.7731 - val_loss: 0.4929 - val_accuracy: 0.7758\n",
      "Epoch 27/100\n",
      "625/625 [==============================] - 12s 18ms/step - loss: 0.4916 - accuracy: 0.7782 - val_loss: 0.6485 - val_accuracy: 0.7304\n",
      "Epoch 28/100\n",
      "625/625 [==============================] - 12s 18ms/step - loss: 0.4844 - accuracy: 0.7790 - val_loss: 0.4723 - val_accuracy: 0.7904\n",
      "Epoch 29/100\n",
      "625/625 [==============================] - 11s 18ms/step - loss: 0.4864 - accuracy: 0.7785 - val_loss: 0.4757 - val_accuracy: 0.7842\n",
      "Epoch 30/100\n",
      "625/625 [==============================] - 11s 18ms/step - loss: 0.4872 - accuracy: 0.7787 - val_loss: 0.4821 - val_accuracy: 0.7862\n",
      "Epoch 31/100\n",
      "625/625 [==============================] - 12s 19ms/step - loss: 0.4865 - accuracy: 0.7769 - val_loss: 0.4647 - val_accuracy: 0.7924\n",
      "Epoch 32/100\n",
      "625/625 [==============================] - 12s 19ms/step - loss: 0.4838 - accuracy: 0.7796 - val_loss: 0.4879 - val_accuracy: 0.7788\n",
      "Epoch 33/100\n",
      "625/625 [==============================] - 11s 18ms/step - loss: 0.4833 - accuracy: 0.7817 - val_loss: 0.4809 - val_accuracy: 0.7836\n",
      "Epoch 34/100\n",
      "625/625 [==============================] - 12s 19ms/step - loss: 0.4755 - accuracy: 0.7826 - val_loss: 0.4906 - val_accuracy: 0.7844\n",
      "Epoch 35/100\n",
      "625/625 [==============================] - 12s 19ms/step - loss: 0.4799 - accuracy: 0.7858 - val_loss: 0.5111 - val_accuracy: 0.7712\n",
      "Epoch 36/100\n",
      "625/625 [==============================] - 12s 19ms/step - loss: 0.4808 - accuracy: 0.7819 - val_loss: 0.4808 - val_accuracy: 0.7832\n",
      "Epoch 37/100\n",
      "625/625 [==============================] - 12s 18ms/step - loss: 0.4819 - accuracy: 0.7836 - val_loss: 0.4786 - val_accuracy: 0.7846\n",
      "Epoch 38/100\n",
      "625/625 [==============================] - 12s 18ms/step - loss: 0.4772 - accuracy: 0.7835 - val_loss: 0.4810 - val_accuracy: 0.7856\n",
      "Epoch 39/100\n",
      "625/625 [==============================] - 12s 19ms/step - loss: 0.4776 - accuracy: 0.7858 - val_loss: 0.4797 - val_accuracy: 0.7860\n"
     ]
    }
   ],
   "source": [
    "# 모델 생성 및 학습\n",
    "from keras.optimizers import RMSprop, Nadam\n",
    "nadam = Nadam()\n",
    "rmsprop = RMSprop(learning_rate=0.0001, momentum=0.3)\n",
    "md.compile(optimizer=rmsprop, loss='binary_crossentropy', metrics=['accuracy'])\n",
    "es = EarlyStopping(monitor='val_loss', patience=8)\n",
    "mcp = ModelCheckpoint(filepath='best_model_rmsprop.h5', monitor='val_loss', save_best_only=True)\n",
    "history = md.fit(x_train, y_train.reshape(-1,1), epochs=100, validation_data=(x_val, y_val), callbacks=[es, mcp])"
   ]
  },
  {
   "cell_type": "code",
   "execution_count": 73,
   "metadata": {},
   "outputs": [
    {
     "name": "stdout",
     "output_type": "stream",
     "text": [
      "782/782 [==============================] - 7s 8ms/step - loss: 0.4712 - accuracy: 0.7856\n"
     ]
    },
    {
     "data": {
      "text/plain": [
       "[0.4712427258491516, 0.7856400012969971]"
      ]
     },
     "execution_count": 73,
     "metadata": {},
     "output_type": "execute_result"
    }
   ],
   "source": [
    "# 모델 평가\n",
    "md.evaluate(x_test, y_test.reshape(-1,1))"
   ]
  },
  {
   "cell_type": "code",
   "execution_count": 78,
   "metadata": {},
   "outputs": [
    {
     "name": "stdout",
     "output_type": "stream",
     "text": [
      "Model: \"sequential_12\"\n",
      "_________________________________________________________________\n",
      " Layer (type)                Output Shape              Param #   \n",
      "=================================================================\n",
      " simple_rnn_12 (SimpleRNN)   (None, 9)                 4590      \n",
      "                                                                 \n",
      " dense_12 (Dense)            (None, 1)                 10        \n",
      "                                                                 \n",
      "=================================================================\n",
      "Total params: 4,600\n",
      "Trainable params: 4,600\n",
      "Non-trainable params: 0\n",
      "_________________________________________________________________\n"
     ]
    }
   ],
   "source": [
    "# 모델 구성\n",
    "md = Sequential()\n",
    "md.add(SimpleRNN(units=9, input_shape=(100,500), recurrent_dropout= 0.3 , return_sequences=True))\n",
    "md.add(Dense(1, activation='sigmoid'))\n",
    "md.summary()"
   ]
  },
  {
   "cell_type": "code",
   "execution_count": 80,
   "metadata": {},
   "outputs": [
    {
     "name": "stdout",
     "output_type": "stream",
     "text": [
      "Epoch 1/100\n",
      "625/625 [==============================] - 11s 16ms/step - loss: 0.5354 - accuracy: 0.7467 - val_loss: 0.5084 - val_accuracy: 0.7628\n",
      "Epoch 2/100\n",
      "625/625 [==============================] - 10s 15ms/step - loss: 0.5384 - accuracy: 0.7423 - val_loss: 0.5319 - val_accuracy: 0.7510\n",
      "Epoch 3/100\n",
      "625/625 [==============================] - 11s 17ms/step - loss: 0.5371 - accuracy: 0.7452 - val_loss: 0.5086 - val_accuracy: 0.7652\n",
      "Epoch 4/100\n",
      "625/625 [==============================] - 11s 17ms/step - loss: 0.5464 - accuracy: 0.7384 - val_loss: 0.5669 - val_accuracy: 0.7278\n",
      "Epoch 5/100\n",
      "625/625 [==============================] - 11s 17ms/step - loss: 0.5684 - accuracy: 0.7133 - val_loss: 0.5277 - val_accuracy: 0.7494\n",
      "Epoch 6/100\n",
      "625/625 [==============================] - 11s 17ms/step - loss: 0.5411 - accuracy: 0.7384 - val_loss: 0.6020 - val_accuracy: 0.6664\n",
      "Epoch 7/100\n",
      "625/625 [==============================] - 11s 18ms/step - loss: 0.5478 - accuracy: 0.7325 - val_loss: 0.5820 - val_accuracy: 0.7298\n",
      "Epoch 8/100\n",
      "625/625 [==============================] - 10s 17ms/step - loss: 0.5597 - accuracy: 0.7230 - val_loss: 0.5295 - val_accuracy: 0.7552\n",
      "Epoch 9/100\n",
      "625/625 [==============================] - 11s 17ms/step - loss: 0.5360 - accuracy: 0.7436 - val_loss: 0.5131 - val_accuracy: 0.7630\n"
     ]
    }
   ],
   "source": [
    "# 모델 생성 및 학습\n",
    "md.compile(optimizer='adam', loss='binary_crossentropy', metrics=['accuracy'])\n",
    "es = EarlyStopping(monitor='val_loss', patience=8)\n",
    "mcp = ModelCheckpoint(filepath='best_model2.h5', monitor='val_loss', save_best_only=True)\n",
    "history = md.fit(x_train, y_train.reshape(-1,1), epochs=100, validation_data=(x_val, y_val), callbacks=[es, mcp])"
   ]
  },
  {
   "cell_type": "markdown",
   "metadata": {},
   "source": [
    "### RNN Model test 베스트 값 : 0.7856"
   ]
  },
  {
   "cell_type": "markdown",
   "metadata": {},
   "source": [
    "### Embedding RNN Model\n",
    "- One-Hot Encoding 입력 데이터의 많은 메모리 소모에 대한 문제 해결\n",
    "- 토큰을 밀집형태의 벡터로 변경 -> word Embedding\n",
    "- Embedding Layer 적용\n",
    "    - 입력 차원 : 토큰의 크기(단어사전의 크기)\n",
    "    - 출력 차원 : 줄여서 생성하는 벡터크기 (내가 임의로 지정하는 하이퍼파라미터)\n",
    "    - 입력층일 경우, input_length = 타임스탬프(즉, 하나의 문장을 구성하는 토큰 수)"
   ]
  },
  {
   "cell_type": "code",
   "execution_count": 89,
   "metadata": {},
   "outputs": [
    {
     "name": "stdout",
     "output_type": "stream",
     "text": [
      "Model: \"sequential_14\"\n",
      "_________________________________________________________________\n",
      " Layer (type)                Output Shape              Param #   \n",
      "=================================================================\n",
      " embedding_1 (Embedding)     (None, 100, 20)           10000     \n",
      "                                                                 \n",
      " simple_rnn_14 (SimpleRNN)   (None, 10)                310       \n",
      "                                                                 \n",
      " dense_14 (Dense)            (None, 1)                 11        \n",
      "                                                                 \n",
      "=================================================================\n",
      "Total params: 10,321\n",
      "Trainable params: 10,321\n",
      "Non-trainable params: 0\n",
      "_________________________________________________________________\n"
     ]
    }
   ],
   "source": [
    "# 모델 구성\n",
    "from keras.layers import Embedding\n",
    "md2 = Sequential()\n",
    "# Embedding : OneHotEncoding의 거대한 데이터 -> 축소\n",
    "md2.add(Embedding(500, 20, input_length=100))  \n",
    "md2.add(SimpleRNN(10))\n",
    "md2.add(Dense(1, activation='sigmoid'))\n",
    "md2.summary()"
   ]
  },
  {
   "cell_type": "code",
   "execution_count": 90,
   "metadata": {},
   "outputs": [
    {
     "data": {
      "text/plain": [
       "(20000, 100)"
      ]
     },
     "execution_count": 90,
     "metadata": {},
     "output_type": "execute_result"
    }
   ],
   "source": [
    "x_train.shape"
   ]
  },
  {
   "cell_type": "code",
   "execution_count": 91,
   "metadata": {},
   "outputs": [
    {
     "name": "stdout",
     "output_type": "stream",
     "text": [
      "Epoch 1/100\n",
      "625/625 [==============================] - 8s 12ms/step - loss: 0.6840 - accuracy: 0.5434 - val_loss: 0.6754 - val_accuracy: 0.5560\n",
      "Epoch 2/100\n",
      "625/625 [==============================] - 7s 12ms/step - loss: 0.6258 - accuracy: 0.6434 - val_loss: 0.5816 - val_accuracy: 0.7008\n",
      "Epoch 3/100\n",
      "625/625 [==============================] - 7s 12ms/step - loss: 0.5407 - accuracy: 0.7324 - val_loss: 0.5612 - val_accuracy: 0.7120\n",
      "Epoch 4/100\n",
      "625/625 [==============================] - 7s 12ms/step - loss: 0.4889 - accuracy: 0.7753 - val_loss: 0.5374 - val_accuracy: 0.7350\n",
      "Epoch 5/100\n",
      "625/625 [==============================] - 7s 12ms/step - loss: 0.4944 - accuracy: 0.7707 - val_loss: 0.5422 - val_accuracy: 0.7402\n",
      "Epoch 6/100\n",
      "625/625 [==============================] - 7s 12ms/step - loss: 0.4588 - accuracy: 0.7940 - val_loss: 0.5450 - val_accuracy: 0.7470\n",
      "Epoch 7/100\n",
      "625/625 [==============================] - 7s 12ms/step - loss: 0.4318 - accuracy: 0.8095 - val_loss: 0.5465 - val_accuracy: 0.7402\n",
      "Epoch 8/100\n",
      "625/625 [==============================] - 7s 12ms/step - loss: 0.4197 - accuracy: 0.8167 - val_loss: 0.5223 - val_accuracy: 0.7644\n",
      "Epoch 9/100\n",
      "625/625 [==============================] - 8s 12ms/step - loss: 0.4022 - accuracy: 0.8248 - val_loss: 0.5273 - val_accuracy: 0.7638\n",
      "Epoch 10/100\n",
      "625/625 [==============================] - 8s 12ms/step - loss: 0.3876 - accuracy: 0.8358 - val_loss: 0.5540 - val_accuracy: 0.7408\n",
      "Epoch 11/100\n",
      "625/625 [==============================] - 8s 13ms/step - loss: 0.3835 - accuracy: 0.8391 - val_loss: 0.5395 - val_accuracy: 0.7594\n",
      "Epoch 12/100\n",
      "625/625 [==============================] - 9s 14ms/step - loss: 0.3748 - accuracy: 0.8417 - val_loss: 0.5414 - val_accuracy: 0.7704\n",
      "Epoch 13/100\n",
      "625/625 [==============================] - 9s 14ms/step - loss: 0.3667 - accuracy: 0.8464 - val_loss: 0.5570 - val_accuracy: 0.7502\n",
      "Epoch 14/100\n",
      "625/625 [==============================] - 9s 14ms/step - loss: 0.3613 - accuracy: 0.8494 - val_loss: 0.5553 - val_accuracy: 0.7696\n",
      "Epoch 15/100\n",
      "625/625 [==============================] - 9s 14ms/step - loss: 0.3467 - accuracy: 0.8576 - val_loss: 0.5822 - val_accuracy: 0.7410\n",
      "Epoch 16/100\n",
      "625/625 [==============================] - 9s 14ms/step - loss: 0.3450 - accuracy: 0.8583 - val_loss: 0.5834 - val_accuracy: 0.7466\n"
     ]
    }
   ],
   "source": [
    "md2.compile(optimizer='adam', loss='binary_crossentropy', metrics=['accuracy'])\n",
    "es = EarlyStopping(monitor='val_loss', patience=8)\n",
    "mcp = ModelCheckpoint(filepath='best_model2.h5', monitor='val_loss', save_best_only=True)\n",
    "history = md2.fit(x_train, y_train.reshape(-1,1), epochs=100, validation_data=(x_val, y_val), callbacks=[es, mcp])"
   ]
  },
  {
   "cell_type": "code",
   "execution_count": 93,
   "metadata": {},
   "outputs": [
    {
     "name": "stdout",
     "output_type": "stream",
     "text": [
      "Model: \"sequential_15\"\n",
      "_________________________________________________________________\n",
      " Layer (type)                Output Shape              Param #   \n",
      "=================================================================\n",
      " embedding_2 (Embedding)     (None, 100, 20)           10000     \n",
      "                                                                 \n",
      " lstm (LSTM)                 (None, 10)                1240      \n",
      "                                                                 \n",
      " dense_15 (Dense)            (None, 1)                 11        \n",
      "                                                                 \n",
      "=================================================================\n",
      "Total params: 11,251\n",
      "Trainable params: 11,251\n",
      "Non-trainable params: 0\n",
      "_________________________________________________________________\n"
     ]
    }
   ],
   "source": [
    "# 모듈 구성\n",
    "from keras.layers import Embedding\n",
    "md2 = Sequential()\n",
    "\n",
    "md2.add(Embedding(500, 20, input_length=100))  \n",
    "md2.add(LSTM(10))\n",
    "md2.add(Dense(1, activation='sigmoid'))\n",
    "md2.summary()"
   ]
  },
  {
   "cell_type": "code",
   "execution_count": 94,
   "metadata": {},
   "outputs": [
    {
     "name": "stdout",
     "output_type": "stream",
     "text": [
      "Epoch 1/100\n",
      "625/625 [==============================] - 13s 18ms/step - loss: 0.5396 - accuracy: 0.7282 - val_loss: 0.4789 - val_accuracy: 0.7802\n",
      "Epoch 2/100\n",
      "625/625 [==============================] - 11s 18ms/step - loss: 0.4385 - accuracy: 0.7980 - val_loss: 0.4446 - val_accuracy: 0.7870\n",
      "Epoch 3/100\n",
      "625/625 [==============================] - 12s 20ms/step - loss: 0.4196 - accuracy: 0.8099 - val_loss: 0.4479 - val_accuracy: 0.7816\n",
      "Epoch 4/100\n",
      "625/625 [==============================] - 12s 19ms/step - loss: 0.4093 - accuracy: 0.8127 - val_loss: 0.4385 - val_accuracy: 0.7958\n",
      "Epoch 5/100\n",
      "625/625 [==============================] - 12s 19ms/step - loss: 0.3988 - accuracy: 0.8174 - val_loss: 0.4371 - val_accuracy: 0.7882\n",
      "Epoch 6/100\n",
      "625/625 [==============================] - 13s 20ms/step - loss: 0.3934 - accuracy: 0.8180 - val_loss: 0.4471 - val_accuracy: 0.7916\n",
      "Epoch 7/100\n",
      "625/625 [==============================] - 13s 20ms/step - loss: 0.3886 - accuracy: 0.8205 - val_loss: 0.4395 - val_accuracy: 0.7952\n",
      "Epoch 8/100\n",
      "625/625 [==============================] - 12s 19ms/step - loss: 0.3802 - accuracy: 0.8256 - val_loss: 0.4530 - val_accuracy: 0.7840\n",
      "Epoch 9/100\n",
      "625/625 [==============================] - 12s 19ms/step - loss: 0.3757 - accuracy: 0.8278 - val_loss: 0.4489 - val_accuracy: 0.7992\n",
      "Epoch 10/100\n",
      "625/625 [==============================] - 12s 20ms/step - loss: 0.3689 - accuracy: 0.8299 - val_loss: 0.4349 - val_accuracy: 0.7932\n",
      "Epoch 11/100\n",
      "625/625 [==============================] - 13s 21ms/step - loss: 0.3654 - accuracy: 0.8308 - val_loss: 0.4716 - val_accuracy: 0.7882\n",
      "Epoch 12/100\n",
      "625/625 [==============================] - 13s 21ms/step - loss: 0.3586 - accuracy: 0.8335 - val_loss: 0.4373 - val_accuracy: 0.7968\n",
      "Epoch 13/100\n",
      "625/625 [==============================] - 12s 20ms/step - loss: 0.3503 - accuracy: 0.8381 - val_loss: 0.4334 - val_accuracy: 0.7998\n",
      "Epoch 14/100\n",
      "625/625 [==============================] - 13s 21ms/step - loss: 0.3465 - accuracy: 0.8394 - val_loss: 0.4381 - val_accuracy: 0.7942\n",
      "Epoch 15/100\n",
      "625/625 [==============================] - 14s 22ms/step - loss: 0.3403 - accuracy: 0.8439 - val_loss: 0.4311 - val_accuracy: 0.7994\n",
      "Epoch 16/100\n",
      "625/625 [==============================] - 13s 21ms/step - loss: 0.3354 - accuracy: 0.8461 - val_loss: 0.4346 - val_accuracy: 0.8002\n",
      "Epoch 17/100\n",
      "625/625 [==============================] - 12s 19ms/step - loss: 0.3284 - accuracy: 0.8511 - val_loss: 0.4577 - val_accuracy: 0.7946\n",
      "Epoch 18/100\n",
      "625/625 [==============================] - 12s 19ms/step - loss: 0.3259 - accuracy: 0.8521 - val_loss: 0.4366 - val_accuracy: 0.7968\n",
      "Epoch 19/100\n",
      "625/625 [==============================] - 13s 20ms/step - loss: 0.3217 - accuracy: 0.8553 - val_loss: 0.4379 - val_accuracy: 0.8044\n",
      "Epoch 20/100\n",
      "625/625 [==============================] - 12s 20ms/step - loss: 0.3150 - accuracy: 0.8581 - val_loss: 0.4571 - val_accuracy: 0.7888\n",
      "Epoch 21/100\n",
      "625/625 [==============================] - 12s 19ms/step - loss: 0.3105 - accuracy: 0.8608 - val_loss: 0.4560 - val_accuracy: 0.8030\n",
      "Epoch 22/100\n",
      "625/625 [==============================] - 12s 19ms/step - loss: 0.3063 - accuracy: 0.8638 - val_loss: 0.4661 - val_accuracy: 0.7952\n",
      "Epoch 23/100\n",
      "625/625 [==============================] - 12s 19ms/step - loss: 0.3027 - accuracy: 0.8644 - val_loss: 0.4705 - val_accuracy: 0.7984\n"
     ]
    }
   ],
   "source": [
    "md2.compile(optimizer='adam', loss='binary_crossentropy', metrics=['accuracy'])\n",
    "es = EarlyStopping(monitor='val_loss', patience=8)\n",
    "mcp = ModelCheckpoint(filepath='best_model2.h5', monitor='val_loss', save_best_only=True)\n",
    "history = md2.fit(x_train, y_train.reshape(-1,1), epochs=100, validation_data=(x_val, y_val), callbacks=[es, mcp])"
   ]
  },
  {
   "cell_type": "code",
   "execution_count": 95,
   "metadata": {},
   "outputs": [
    {
     "name": "stdout",
     "output_type": "stream",
     "text": [
      "782/782 [==============================] - 5s 6ms/step - loss: 0.4491 - accuracy: 0.8081\n"
     ]
    },
    {
     "data": {
      "text/plain": [
       "[0.4491218626499176, 0.8081200122833252]"
      ]
     },
     "execution_count": 95,
     "metadata": {},
     "output_type": "execute_result"
    }
   ],
   "source": [
    "# 모델 평가\n",
    "md2.evaluate(x_test, y_test.reshape(-1,1))"
   ]
  },
  {
   "cell_type": "markdown",
   "metadata": {},
   "source": [
    "### LSTM 성능: 0.8081 로 우수"
   ]
  }
 ],
 "metadata": {
  "kernelspec": {
   "display_name": "Python 3.11.0 64-bit",
   "language": "python",
   "name": "python3"
  },
  "language_info": {
   "codemirror_mode": {
    "name": "ipython",
    "version": 3
   },
   "file_extension": ".py",
   "mimetype": "text/x-python",
   "name": "python",
   "nbconvert_exporter": "python",
   "pygments_lexer": "ipython3",
   "version": "3.11.0"
  },
  "orig_nbformat": 4,
  "vscode": {
   "interpreter": {
    "hash": "d417a21d97a2e6b8832d21dc44f5cbe4be6e18325f874a8bb8484565b928cd54"
   }
  }
 },
 "nbformat": 4,
 "nbformat_minor": 2
}
