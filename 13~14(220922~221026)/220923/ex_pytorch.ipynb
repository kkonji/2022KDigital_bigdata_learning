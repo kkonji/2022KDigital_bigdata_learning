{
 "cells": [
  {
   "cell_type": "markdown",
   "metadata": {},
   "source": [
    "## 파이토치 pytorch 에 대해서 알아보자."
   ]
  },
  {
   "cell_type": "code",
   "execution_count": 1,
   "metadata": {},
   "outputs": [],
   "source": [
    "import pandas as pd \n",
    "import numpy as np\n",
    "import matplotlib.pyplot as plt\n",
    "import torch  # pytorch 사용"
   ]
  },
  {
   "cell_type": "markdown",
   "metadata": {},
   "source": [
    "### pytorch 튜토리얼"
   ]
  },
  {
   "cell_type": "code",
   "execution_count": 2,
   "metadata": {},
   "outputs": [
    {
     "data": {
      "text/plain": [
       "'1.12.1'"
      ]
     },
     "execution_count": 2,
     "metadata": {},
     "output_type": "execute_result"
    }
   ],
   "source": [
    "torch.__version__"
   ]
  },
  {
   "cell_type": "code",
   "execution_count": 12,
   "metadata": {},
   "outputs": [
    {
     "name": "stdout",
     "output_type": "stream",
     "text": [
      "tensor([1, 2, 3])\n",
      "tensor([1, 2, 3], dtype=torch.int32)\n",
      "tensor([1, 2, 3])\n"
     ]
    }
   ],
   "source": [
    "# torch 지정 방법\n",
    "t1 =torch.tensor([1,2,3])\n",
    "t2 = torch.tensor([1,2,3], dtype=torch.int32)\n",
    "t3 = torch.tensor([1,2,3], device='cpu')\n",
    "print(t1)\n",
    "print(t2)\n",
    "print(t3)"
   ]
  },
  {
   "cell_type": "code",
   "execution_count": 7,
   "metadata": {},
   "outputs": [
    {
     "data": {
      "text/plain": [
       "(torch.Tensor, torch.Size([3]), device(type='cpu'), torch.int64)"
      ]
     },
     "execution_count": 7,
     "metadata": {},
     "output_type": "execute_result"
    }
   ],
   "source": [
    "# type, shape, device, dtype 알아보자\n",
    "type(t1), t1.shape, t1.device, t1.dtype"
   ]
  },
  {
   "cell_type": "code",
   "execution_count": 14,
   "metadata": {},
   "outputs": [
    {
     "data": {
      "text/plain": [
       "(torch.Tensor, torch.Size([2, 3]), device(type='cpu'), torch.int64)"
      ]
     },
     "execution_count": 14,
     "metadata": {},
     "output_type": "execute_result"
    }
   ],
   "source": [
    "t3 = torch.tensor([[1,2,3], [3,4,5]])\n",
    "type(t3), t3.shape, t3.device, t3.dtype"
   ]
  },
  {
   "cell_type": "code",
   "execution_count": 18,
   "metadata": {},
   "outputs": [
    {
     "data": {
      "text/plain": [
       "tensor([[1, 2, 3],\n",
       "        [3, 4, 5]], dtype=torch.int32)"
      ]
     },
     "execution_count": 18,
     "metadata": {},
     "output_type": "execute_result"
    }
   ],
   "source": [
    "# numpy.ndarray도 대입 가능, pd.DataFrame은 대입 불가능\n",
    "t3 = torch.tensor(np.array([[1,2,3], [3,4,5]]))\n",
    "t3"
   ]
  },
  {
   "cell_type": "code",
   "execution_count": 33,
   "metadata": {},
   "outputs": [
    {
     "name": "stdout",
     "output_type": "stream",
     "text": [
      "tensor([1., 1., 1., 1.])\n",
      "tensor([[1., 1., 1.],\n",
      "        [1., 1., 1.],\n",
      "        [1., 1., 1.],\n",
      "        [1., 1., 1.],\n",
      "        [1., 1., 1.],\n",
      "        [1., 1., 1.],\n",
      "        [1., 1., 1.],\n",
      "        [1., 1., 1.],\n",
      "        [1., 1., 1.]])\n",
      "tensor([0., 0., 0., 0., 0., 0., 0.])\n",
      "tensor([1., 1., 1., 1.])\n",
      "tensor([0., 0., 0., 0.])\n",
      "tensor([0.2933, 0.6013, 0.0421, 0.0816])\n"
     ]
    }
   ],
   "source": [
    "# ones, ones_like, zeros, zeros_like, rand, rand_like 실습\n",
    "print(torch.ones(4))\n",
    "print(torch.ones((9,3)))\n",
    "print(torch.zeros(7))\n",
    "print(torch.ones_like(torch.zeros(4)))\n",
    "print(torch.zeros_like(torch.ones(4)))\n",
    "print(torch.rand_like(torch.ones(4)))"
   ]
  },
  {
   "cell_type": "markdown",
   "metadata": {},
   "source": [
    "### gpu로 옮기는 작업\n",
    "- if torch.cuda.is_available():  \n",
    "    tensor = tensor.to(\"cuda\") 사용"
   ]
  },
  {
   "cell_type": "code",
   "execution_count": 71,
   "metadata": {},
   "outputs": [
    {
     "data": {
      "text/plain": [
       "False"
      ]
     },
     "execution_count": 71,
     "metadata": {},
     "output_type": "execute_result"
    }
   ],
   "source": [
    "# 대량의 데이터를 빨리 처리할 때 좋음\n",
    "tensor = torch.ones(4)\n",
    "if torch.cuda.is_available():\n",
    "    tensor = tensor.to(\"cuda\")\n",
    "torch.cuda.is_available()"
   ]
  },
  {
   "cell_type": "markdown",
   "metadata": {},
   "source": [
    "### torch indexing & slicing\n",
    "- numpy.ndarray, pd.DataFrame과 유사"
   ]
  },
  {
   "cell_type": "code",
   "execution_count": 45,
   "metadata": {},
   "outputs": [
    {
     "name": "stdout",
     "output_type": "stream",
     "text": [
      "tensor([[1, 2, 3],\n",
      "        [3, 4, 5]], dtype=torch.int32)\n",
      "tensor(2, dtype=torch.int32)\n",
      "tensor([1, 3], dtype=torch.int32)\n",
      "tensor([3, 4, 5], dtype=torch.int32)\n",
      "tensor([3, 4, 5], dtype=torch.int32)\n",
      "tensor([[1, 2, 3],\n",
      "        [3, 4, 5]], dtype=torch.int32)\n",
      "tensor([[2, 3],\n",
      "        [4, 5]], dtype=torch.int32)\n"
     ]
    }
   ],
   "source": [
    "print(t3)\n",
    "print(t3[0,1])\n",
    "print(t3[:,0])\n",
    "print(t3[1])\n",
    "print(t3[1,:])\n",
    "print(t3[:,:])\n",
    "print(t3[:,1:3])\n",
    "print(t3)"
   ]
  },
  {
   "cell_type": "markdown",
   "metadata": {},
   "source": [
    "### pytorch 텐서 합치기, 계산\n",
    "- concat, stack\n",
    "- T(전치행렬), matmul(행렬곱)\n",
    "- sum(), min(), max(), argmax(), argmin()\n",
    "- mul(int), add(int)\n",
    "- numpy()  : tensor -> numpy\n"
   ]
  },
  {
   "cell_type": "code",
   "execution_count": 52,
   "metadata": {},
   "outputs": [
    {
     "data": {
      "text/plain": [
       "tensor([[ 2,  3],\n",
       "        [ 4,  5],\n",
       "        [ 1,  2],\n",
       "        [-2, -4]])"
      ]
     },
     "execution_count": 52,
     "metadata": {},
     "output_type": "execute_result"
    }
   ],
   "source": [
    "t1 = torch.tensor([[2,3], [4,5]])\n",
    "t2 = torch.tensor([[1,2], [-2,-4]])\n",
    "torch.concat([t1,t2])"
   ]
  },
  {
   "cell_type": "code",
   "execution_count": 48,
   "metadata": {},
   "outputs": [
    {
     "name": "stdout",
     "output_type": "stream",
     "text": [
      "tensor([[  2,   6],\n",
      "        [ -8, -20]])\n",
      "tensor([[ -4,  -8],\n",
      "        [ -6, -12]])\n"
     ]
    }
   ],
   "source": [
    "t1 = torch.tensor([[2,3], [4,5]])\n",
    "t2 = torch.tensor([[1,2], [-2,-4]])\n",
    "print(t1 * t2)\n",
    "print(t1.matmul(t2))"
   ]
  },
  {
   "cell_type": "code",
   "execution_count": 53,
   "metadata": {},
   "outputs": [
    {
     "name": "stdout",
     "output_type": "stream",
     "text": [
      "tensor(14)\n",
      "14\n",
      "tensor(3)\n"
     ]
    }
   ],
   "source": [
    "print(t1.sum())\n",
    "print(t1.sum().item())\n",
    "print(t1.argmax())"
   ]
  },
  {
   "cell_type": "code",
   "execution_count": 65,
   "metadata": {},
   "outputs": [
    {
     "name": "stdout",
     "output_type": "stream",
     "text": [
      "tensor([[ 4,  6],\n",
      "        [ 8, 10]])\n",
      "tensor([[6, 7],\n",
      "        [8, 9]])\n",
      "[[2 3]\n",
      " [4 5]]\n"
     ]
    }
   ],
   "source": [
    "print(t1.mul(2))\n",
    "print(t1.add(4))\n",
    "print(t1.numpy())"
   ]
  },
  {
   "cell_type": "code",
   "execution_count": 69,
   "metadata": {},
   "outputs": [
    {
     "name": "stdout",
     "output_type": "stream",
     "text": [
      "tensor([[1., 1.],\n",
      "        [1., 1.]], requires_grad=True)\n"
     ]
    }
   ],
   "source": [
    "# requires_grad : 자동 미분을 설정, .grad 속성으로 노드에 대한 gradient 참조 \n",
    "t1 = torch.ones(2,2,requires_grad=True) \n",
    "print(t1)"
   ]
  },
  {
   "cell_type": "code",
   "execution_count": 72,
   "metadata": {},
   "outputs": [
    {
     "name": "stdout",
     "output_type": "stream",
     "text": [
      "Downloading http://fashion-mnist.s3-website.eu-central-1.amazonaws.com/train-images-idx3-ubyte.gz\n",
      "Downloading http://fashion-mnist.s3-website.eu-central-1.amazonaws.com/train-images-idx3-ubyte.gz to data\\FashionMNIST\\raw\\train-images-idx3-ubyte.gz\n"
     ]
    },
    {
     "data": {
      "application/vnd.jupyter.widget-view+json": {
       "model_id": "a26c9638c609473ab3d46a807b8a0eb8",
       "version_major": 2,
       "version_minor": 0
      },
      "text/plain": [
       "  0%|          | 0/26421880 [00:00<?, ?it/s]"
      ]
     },
     "metadata": {},
     "output_type": "display_data"
    },
    {
     "name": "stdout",
     "output_type": "stream",
     "text": [
      "Extracting data\\FashionMNIST\\raw\\train-images-idx3-ubyte.gz to data\\FashionMNIST\\raw\n",
      "\n",
      "Downloading http://fashion-mnist.s3-website.eu-central-1.amazonaws.com/train-labels-idx1-ubyte.gz\n",
      "Downloading http://fashion-mnist.s3-website.eu-central-1.amazonaws.com/train-labels-idx1-ubyte.gz to data\\FashionMNIST\\raw\\train-labels-idx1-ubyte.gz\n"
     ]
    },
    {
     "data": {
      "application/vnd.jupyter.widget-view+json": {
       "model_id": "f5d0b2b898214009ba3cea9ffb18096c",
       "version_major": 2,
       "version_minor": 0
      },
      "text/plain": [
       "  0%|          | 0/29515 [00:00<?, ?it/s]"
      ]
     },
     "metadata": {},
     "output_type": "display_data"
    },
    {
     "name": "stdout",
     "output_type": "stream",
     "text": [
      "Extracting data\\FashionMNIST\\raw\\train-labels-idx1-ubyte.gz to data\\FashionMNIST\\raw\n",
      "\n",
      "Downloading http://fashion-mnist.s3-website.eu-central-1.amazonaws.com/t10k-images-idx3-ubyte.gz\n",
      "Downloading http://fashion-mnist.s3-website.eu-central-1.amazonaws.com/t10k-images-idx3-ubyte.gz to data\\FashionMNIST\\raw\\t10k-images-idx3-ubyte.gz\n"
     ]
    },
    {
     "data": {
      "application/vnd.jupyter.widget-view+json": {
       "model_id": "e457bdb5e62a472fb56428957e1a3fee",
       "version_major": 2,
       "version_minor": 0
      },
      "text/plain": [
       "  0%|          | 0/4422102 [00:00<?, ?it/s]"
      ]
     },
     "metadata": {},
     "output_type": "display_data"
    },
    {
     "name": "stdout",
     "output_type": "stream",
     "text": [
      "Extracting data\\FashionMNIST\\raw\\t10k-images-idx3-ubyte.gz to data\\FashionMNIST\\raw\n",
      "\n",
      "Downloading http://fashion-mnist.s3-website.eu-central-1.amazonaws.com/t10k-labels-idx1-ubyte.gz\n",
      "Downloading http://fashion-mnist.s3-website.eu-central-1.amazonaws.com/t10k-labels-idx1-ubyte.gz to data\\FashionMNIST\\raw\\t10k-labels-idx1-ubyte.gz\n"
     ]
    },
    {
     "data": {
      "application/vnd.jupyter.widget-view+json": {
       "model_id": "4612cc5b64a34e76bd18a436c3f39653",
       "version_major": 2,
       "version_minor": 0
      },
      "text/plain": [
       "  0%|          | 0/5148 [00:00<?, ?it/s]"
      ]
     },
     "metadata": {},
     "output_type": "display_data"
    },
    {
     "name": "stdout",
     "output_type": "stream",
     "text": [
      "Extracting data\\FashionMNIST\\raw\\t10k-labels-idx1-ubyte.gz to data\\FashionMNIST\\raw\n",
      "\n"
     ]
    }
   ],
   "source": [
    "from torch.utils.data import Dataset\n",
    "from torchvision import datasets\n",
    "from torchvision.transforms import ToTensor\n",
    "\n",
    "training_data = datasets.FashionMNIST(\n",
    "    root=\"data\",\n",
    "    train=True,\n",
    "    download=True,\n",
    "    transform=ToTensor()\n",
    ")\n",
    "\n",
    "test_data = datasets.FashionMNIST(\n",
    "    root=\"data\",\n",
    "    train=False,\n",
    "    download=True,\n",
    "    transform=ToTensor()\n",
    ")"
   ]
  },
  {
   "cell_type": "markdown",
   "metadata": {},
   "source": [
    "### pytorch 실습"
   ]
  },
  {
   "cell_type": "code",
   "execution_count": 73,
   "metadata": {},
   "outputs": [],
   "source": [
    "# 모듈 로딩\n",
    "import os\n",
    "import torch\n",
    "from torch import nn\n",
    "from torch.utils.data import DataLoader\n",
    "from torchvision import datasets, transforms"
   ]
  },
  {
   "cell_type": "code",
   "execution_count": 74,
   "metadata": {},
   "outputs": [
    {
     "name": "stdout",
     "output_type": "stream",
     "text": [
      "Using cpu device\n"
     ]
    }
   ],
   "source": [
    "# 학습 장치 얻기\n",
    "device = \"cuda\" if torch.cuda.is_available() else \"cpu\"\n",
    "print(f\"Using {device} device\")"
   ]
  },
  {
   "cell_type": "markdown",
   "metadata": {},
   "source": [
    "### 클래스 정의\n",
    "- 신경망 모델을 nn.Module의 하위 클래스로 정의하고, __init__에서 신경망 계층을 초기화\n",
    "- nn.Module을 상속받은 모든 클래스는 forward 메소드에 입력 데이터에 대한 연산 구현"
   ]
  },
  {
   "cell_type": "code",
   "execution_count": 76,
   "metadata": {},
   "outputs": [],
   "source": [
    "# 순차적인 Layer 구성 -> Sequential, Layer, ...\n",
    "class NeuralNetwork(nn.Module):\n",
    "    def __init__(self):\n",
    "        super(NeuralNetwork, self).__init__()\n",
    "        # 1차원으로 데이터 변환\n",
    "        self.flatten = nn.Flatten()\n",
    "        self.linear_relu_stack = nn.Sequential(\n",
    "            # 입력층\n",
    "            nn.Linear(28*28, 512),\n",
    "            nn.ReLU(),\n",
    "            # 은닉층\n",
    "            nn.Linear(512, 512),\n",
    "            nn.ReLU(),\n",
    "            # 출력층\n",
    "            nn.Linear(512, 10),\n",
    "        )\n",
    "    # nn 모델이 동작을 시작할 때 실행\n",
    "    def forward(self, x):\n",
    "        # 1차원으로 데이터 변환\n",
    "        x = self.flatten(x)\n",
    "        logits = self.linear_relu_stack(x)\n",
    "        return logits"
   ]
  },
  {
   "cell_type": "code",
   "execution_count": 80,
   "metadata": {},
   "outputs": [
    {
     "data": {
      "text/plain": [
       "Sequential(\n",
       "  (0): Linear(in_features=784, out_features=512, bias=True)\n",
       "  (1): ReLU()\n",
       "  (2): Linear(in_features=512, out_features=512, bias=True)\n",
       "  (3): ReLU()\n",
       "  (4): Linear(in_features=512, out_features=10, bias=True)\n",
       ")"
      ]
     },
     "execution_count": 80,
     "metadata": {},
     "output_type": "execute_result"
    }
   ],
   "source": [
    "# neural network 모델 생성\n",
    "md = NeuralNetwork()\n",
    "md.flatten\n",
    "md.linear_relu_stack"
   ]
  },
  {
   "cell_type": "code",
   "execution_count": 81,
   "metadata": {},
   "outputs": [
    {
     "name": "stdout",
     "output_type": "stream",
     "text": [
      "NeuralNetwork(\n",
      "  (flatten): Flatten(start_dim=1, end_dim=-1)\n",
      "  (linear_relu_stack): Sequential(\n",
      "    (0): Linear(in_features=784, out_features=512, bias=True)\n",
      "    (1): ReLU()\n",
      "    (2): Linear(in_features=512, out_features=512, bias=True)\n",
      "    (3): ReLU()\n",
      "    (4): Linear(in_features=512, out_features=10, bias=True)\n",
      "  )\n",
      ")\n"
     ]
    }
   ],
   "source": [
    "# 모델 생성\n",
    "md = NeuralNetwork().to(device)\n",
    "print(md)"
   ]
  },
  {
   "cell_type": "markdown",
   "metadata": {},
   "source": [
    "### 모델 호출\n",
    "- model.forward() 메서드를 직접 호출할 필요가 없다.\n",
    "- model에 직접 입력 데이터를 전달하면 됨 (일부 백그라운드 연산과 함께 알아서 forward 메서드 계산되기 때문)\n",
    "- 반환된 model에 softmax 모듈을 취하면 예측 확률을 얻을 수 있음"
   ]
  },
  {
   "cell_type": "code",
   "execution_count": 86,
   "metadata": {},
   "outputs": [
    {
     "name": "stdout",
     "output_type": "stream",
     "text": [
      "tensor([[[0.6768, 0.0920, 0.8511, 0.3596, 0.7733, 0.0966, 0.4309, 0.6342,\n",
      "          0.6312, 0.7292, 0.7212, 0.5351, 0.5522, 0.6845, 0.1473, 0.3875,\n",
      "          0.6989, 0.1366, 0.1626, 0.0250, 0.5802, 0.5472, 0.8090, 0.3898,\n",
      "          0.1966, 0.2783, 0.3726, 0.1300],\n",
      "         [0.8304, 0.6562, 0.1014, 0.8782, 0.1262, 0.3147, 0.5987, 0.0603,\n",
      "          0.9875, 0.0797, 0.6704, 0.5917, 0.9134, 0.6809, 0.0932, 0.9630,\n",
      "          0.4025, 0.6038, 0.8486, 0.1091, 0.9975, 0.2589, 0.9936, 0.5837,\n",
      "          0.6525, 0.7234, 0.5145, 0.0922],\n",
      "         [0.1225, 0.1392, 0.7630, 0.7875, 0.0812, 0.5197, 0.5381, 0.1521,\n",
      "          0.3275, 0.0914, 0.9065, 0.3504, 0.0602, 0.5994, 0.0306, 0.2262,\n",
      "          0.2701, 0.7889, 0.4804, 0.8046, 0.3220, 0.0549, 0.7223, 0.2802,\n",
      "          0.1117, 0.1005, 0.0680, 0.6579],\n",
      "         [0.2806, 0.4658, 0.8483, 0.2735, 0.3661, 0.1374, 0.5585, 0.2562,\n",
      "          0.5400, 0.8234, 0.1401, 0.0570, 0.5553, 0.2511, 0.3245, 0.0079,\n",
      "          0.4897, 0.6727, 0.0029, 0.4670, 0.1757, 0.9305, 0.5689, 0.1514,\n",
      "          0.5814, 0.9518, 0.2814, 0.7465],\n",
      "         [0.4869, 0.8274, 0.9160, 0.0813, 0.3739, 0.2389, 0.0751, 0.1852,\n",
      "          0.5498, 0.6146, 0.0167, 0.4094, 0.0169, 0.3489, 0.8304, 0.1475,\n",
      "          0.5983, 0.9095, 0.9291, 0.6428, 0.2961, 0.8298, 0.3115, 0.1868,\n",
      "          0.2081, 0.2787, 0.9699, 0.5093],\n",
      "         [0.8130, 0.4312, 0.0927, 0.8177, 0.8883, 0.8530, 0.4648, 0.7261,\n",
      "          0.1344, 0.1150, 0.0100, 0.8959, 0.1846, 0.1418, 0.8213, 0.3962,\n",
      "          0.8084, 0.0685, 0.9119, 0.0546, 0.5816, 0.5927, 0.9633, 0.1642,\n",
      "          0.7292, 0.3290, 0.1571, 0.8876],\n",
      "         [0.3369, 0.0069, 0.6050, 0.5833, 0.2946, 0.6443, 0.3646, 0.7988,\n",
      "          0.1729, 0.1848, 0.7266, 0.0596, 0.3932, 0.1111, 0.5940, 0.3492,\n",
      "          0.4594, 0.4923, 0.1677, 0.6749, 0.1544, 0.3381, 0.4903, 0.6486,\n",
      "          0.6491, 0.9887, 0.9335, 0.2386],\n",
      "         [0.7275, 0.8695, 0.1979, 0.9427, 0.3123, 0.7866, 0.7151, 0.3825,\n",
      "          0.7198, 0.4363, 0.1995, 0.9251, 0.0921, 0.0349, 0.7874, 0.3231,\n",
      "          0.4775, 0.1031, 0.8144, 0.6797, 0.4264, 0.5689, 0.4625, 0.2477,\n",
      "          0.7314, 0.3236, 0.3907, 0.6662],\n",
      "         [0.0238, 0.8015, 0.6677, 0.0863, 0.5849, 0.4103, 0.7874, 0.9881,\n",
      "          0.8231, 0.0147, 0.4066, 0.6316, 0.1019, 0.8697, 0.7741, 0.5115,\n",
      "          0.2194, 0.5738, 0.7076, 0.7834, 0.5845, 0.6875, 0.4598, 0.2076,\n",
      "          0.7414, 0.1735, 0.1459, 0.7930],\n",
      "         [0.3635, 0.7022, 0.7350, 0.0964, 0.4853, 0.3695, 0.6821, 0.5883,\n",
      "          0.6510, 0.8619, 0.9622, 0.9748, 0.7439, 0.7914, 0.7732, 0.5127,\n",
      "          0.9697, 0.1671, 0.2418, 0.2491, 0.6069, 0.7314, 0.5279, 0.6533,\n",
      "          0.7857, 0.1654, 0.3910, 0.0621],\n",
      "         [0.5697, 0.0473, 0.7229, 0.6325, 0.0776, 0.6373, 0.4539, 0.0180,\n",
      "          0.3680, 0.0396, 0.1359, 0.6423, 0.0266, 0.9634, 0.2812, 0.9942,\n",
      "          0.1218, 0.4926, 0.1110, 0.6847, 0.8958, 0.5974, 0.7268, 0.3968,\n",
      "          0.2880, 0.7405, 0.5887, 0.3958],\n",
      "         [0.2347, 0.7848, 0.4736, 0.0810, 0.5241, 0.7046, 0.6664, 0.5090,\n",
      "          0.9119, 0.3419, 0.9906, 0.2800, 0.1745, 0.6313, 0.5582, 0.3110,\n",
      "          0.2922, 0.9701, 0.0514, 0.7960, 0.3069, 0.6167, 0.6466, 0.1969,\n",
      "          0.4198, 0.8265, 0.6507, 0.5812],\n",
      "         [0.9246, 0.0228, 0.0095, 0.2737, 0.6338, 0.1091, 0.5586, 0.9894,\n",
      "          0.5965, 0.5497, 0.2317, 0.4753, 0.1062, 0.9577, 0.7626, 0.4456,\n",
      "          0.7843, 0.4050, 0.2501, 0.3870, 0.0655, 0.9583, 0.9578, 0.2365,\n",
      "          0.7810, 0.7261, 0.5933, 0.3113],\n",
      "         [0.2929, 0.1173, 0.1179, 0.3852, 0.4418, 0.1926, 0.9442, 0.4208,\n",
      "          0.3175, 0.8997, 0.8152, 0.2159, 0.4377, 0.7232, 0.8756, 0.2517,\n",
      "          0.0576, 0.2155, 0.5089, 0.9795, 0.8580, 0.9362, 0.5978, 0.8972,\n",
      "          0.3925, 0.5979, 0.0998, 0.4268],\n",
      "         [0.9906, 0.5893, 0.5912, 0.8749, 0.4005, 0.8562, 0.2055, 0.5258,\n",
      "          0.2863, 0.1182, 0.5224, 0.3976, 0.2615, 0.3201, 0.2866, 0.3792,\n",
      "          0.3114, 0.8248, 0.5645, 0.8687, 0.2605, 0.6590, 0.8344, 0.0930,\n",
      "          0.6324, 0.1050, 0.4862, 0.4617],\n",
      "         [0.5392, 0.8589, 0.4408, 0.1147, 0.7089, 0.9452, 0.0292, 0.8775,\n",
      "          0.1841, 0.4520, 0.7861, 0.5014, 0.8715, 0.4858, 0.5937, 0.2744,\n",
      "          0.3400, 0.6157, 0.2407, 0.6543, 0.1704, 0.4527, 0.5114, 0.7331,\n",
      "          0.7234, 0.0696, 0.0716, 0.6208],\n",
      "         [0.0781, 0.6458, 0.6994, 0.8586, 0.2575, 0.8483, 0.0253, 0.0798,\n",
      "          0.6041, 0.6084, 0.5095, 0.4431, 0.0216, 0.3013, 0.3978, 0.9974,\n",
      "          0.8686, 0.3967, 0.6075, 0.5061, 0.4497, 0.5858, 0.4965, 0.4028,\n",
      "          0.6112, 0.4329, 0.0543, 0.8758],\n",
      "         [0.7017, 0.6047, 0.8442, 0.3348, 0.8313, 0.3112, 0.2711, 0.8856,\n",
      "          0.3147, 0.2302, 0.9126, 0.8323, 0.8285, 0.4815, 0.3327, 0.8469,\n",
      "          0.2950, 0.8563, 0.2204, 0.2101, 0.1538, 0.7354, 0.3931, 0.2900,\n",
      "          0.0136, 0.3523, 0.8204, 0.6891],\n",
      "         [0.9224, 0.8665, 0.6060, 0.9904, 0.2646, 0.8191, 0.5933, 0.0370,\n",
      "          0.5906, 0.8810, 0.9576, 0.3086, 0.0523, 0.2984, 0.7393, 0.8855,\n",
      "          0.7432, 0.4715, 0.2542, 0.9138, 0.5117, 0.1193, 0.8144, 0.4244,\n",
      "          0.9259, 0.0329, 0.9553, 0.3412],\n",
      "         [0.9182, 0.2556, 0.7494, 0.6437, 0.3502, 0.3034, 0.7720, 0.8241,\n",
      "          0.7789, 0.4436, 0.4726, 0.6731, 0.4362, 0.1706, 0.3078, 0.8031,\n",
      "          0.3035, 0.6944, 0.7901, 0.8934, 0.1204, 0.3201, 0.5932, 0.1131,\n",
      "          0.6645, 0.7442, 0.7867, 0.5103],\n",
      "         [0.4194, 0.6287, 0.9181, 0.7322, 0.1476, 0.6944, 0.7883, 0.4158,\n",
      "          0.7172, 0.0558, 0.7847, 0.9182, 0.8374, 0.5092, 0.3727, 0.4995,\n",
      "          0.8966, 0.9573, 0.5555, 0.2776, 0.1397, 0.2687, 0.5443, 0.8439,\n",
      "          0.2043, 0.0908, 0.5569, 0.5646],\n",
      "         [0.3799, 0.6450, 0.2388, 0.9646, 0.9699, 0.2609, 0.0070, 0.6278,\n",
      "          0.9589, 0.1106, 0.6353, 0.5372, 0.2397, 0.4446, 0.8916, 0.3208,\n",
      "          0.1798, 0.3021, 0.4063, 0.9508, 0.3064, 0.3373, 0.1640, 0.1408,\n",
      "          0.4533, 0.3051, 0.1740, 0.0219],\n",
      "         [0.8290, 0.7432, 0.5969, 0.5416, 0.3070, 0.2290, 0.3738, 0.9751,\n",
      "          0.2927, 0.2907, 0.0701, 0.4324, 0.7368, 0.7354, 0.0926, 0.4765,\n",
      "          0.6089, 0.6335, 0.9860, 0.6443, 0.3743, 0.9802, 0.3056, 0.1267,\n",
      "          0.7341, 0.1937, 0.9583, 0.5715],\n",
      "         [0.1216, 0.0273, 0.3015, 0.6237, 0.6150, 0.4918, 0.5721, 0.8926,\n",
      "          0.9021, 0.0636, 0.9773, 0.2493, 0.2517, 0.6117, 0.5641, 0.1463,\n",
      "          0.8175, 0.3280, 0.6914, 0.1415, 0.7682, 0.6206, 0.8667, 0.9822,\n",
      "          0.1205, 0.7505, 0.3705, 0.8193],\n",
      "         [0.5615, 0.0207, 0.6160, 0.0746, 0.6766, 0.8478, 0.7022, 0.4710,\n",
      "          0.6081, 0.2279, 0.8422, 0.0388, 0.3611, 0.8836, 0.6910, 0.7978,\n",
      "          0.8038, 0.7343, 0.6774, 0.6926, 0.3229, 0.2866, 0.9013, 0.2344,\n",
      "          0.5340, 0.1782, 0.7901, 0.6332],\n",
      "         [0.1632, 0.6436, 0.9696, 0.6451, 0.6669, 0.1634, 0.2911, 0.2440,\n",
      "          0.6031, 0.4594, 0.9055, 0.5217, 0.5595, 0.2238, 0.2718, 0.9801,\n",
      "          0.2154, 0.9363, 0.5626, 0.8846, 0.5585, 0.1741, 0.3417, 0.1764,\n",
      "          0.6887, 0.7690, 0.1092, 0.8341],\n",
      "         [0.3177, 0.1090, 0.0361, 0.3919, 0.4846, 0.5441, 0.1209, 0.0385,\n",
      "          0.4525, 0.2290, 0.8463, 0.9492, 0.2070, 0.6301, 0.3063, 0.2195,\n",
      "          0.2489, 0.7141, 0.2090, 0.6702, 0.3242, 0.7670, 0.4097, 0.6098,\n",
      "          0.2541, 0.5844, 0.2393, 0.9646],\n",
      "         [0.9539, 0.9020, 0.8721, 0.0281, 0.8251, 0.2979, 0.1351, 0.5890,\n",
      "          0.8130, 0.7563, 0.6028, 0.4288, 0.4364, 0.2922, 0.2532, 0.0568,\n",
      "          0.1079, 0.9113, 0.1009, 0.2233, 0.5135, 0.8792, 0.7675, 0.9447,\n",
      "          0.8088, 0.0437, 0.8644, 0.7229]]])\n"
     ]
    }
   ],
   "source": [
    "# 데이터 준비\n",
    "X = torch.rand(1, 28, 28, device=device)\n",
    "print(X)"
   ]
  },
  {
   "cell_type": "code",
   "execution_count": 87,
   "metadata": {},
   "outputs": [
    {
     "name": "stdout",
     "output_type": "stream",
     "text": [
      "pred_probab: tensor([[0.0953, 0.1016, 0.0941, 0.0985, 0.1050, 0.0971, 0.0943, 0.1033, 0.1075,\n",
      "         0.1033]], grad_fn=<SoftmaxBackward0>)\n",
      "Predicted class: tensor([8])\n"
     ]
    }
   ],
   "source": [
    "logits = md(X)\n",
    "pred_probab = nn.Softmax(dim=1)(logits)\n",
    "print(f\"pred_probab: {pred_probab}\")\n",
    "y_pred = pred_probab.argmax(1)\n",
    "print(f\"Predicted class: {y_pred}\")"
   ]
  },
  {
   "cell_type": "code",
   "execution_count": 93,
   "metadata": {},
   "outputs": [
    {
     "name": "stdout",
     "output_type": "stream",
     "text": [
      "torch.Size([60000, 28, 28])\n",
      "torch.Size([10000, 28, 28])\n"
     ]
    }
   ],
   "source": [
    "print(training_data.data.shape)\n",
    "print(test_data.data.shape)"
   ]
  },
  {
   "cell_type": "code",
   "execution_count": 98,
   "metadata": {},
   "outputs": [
    {
     "data": {
      "image/png": "[encoded data removed]",
      "text/plain": [
       "<Figure size 576x576 with 9 Axes>"
      ]
     },
     "metadata": {
      "needs_background": "light"
     },
     "output_type": "display_data"
    }
   ],
   "source": [
    "labels_map = {\n",
    "    0: \"T-Shirt\",\n",
    "    1: \"Trouser\",\n",
    "    2: \"Pullover\",\n",
    "    3: \"Dress\",\n",
    "    4: \"Coat\",\n",
    "    5: \"Sandal\",\n",
    "    6: \"Shirt\",\n",
    "    7: \"Sneaker\",\n",
    "    8: \"Bag\",\n",
    "    9: \"Ankle Boot\",\n",
    "}\n",
    "figure = plt.figure(figsize=(8, 8))\n",
    "cols, rows = 3, 3\n",
    "for i in range(1, cols * rows + 1):\n",
    "    sample_idx = torch.randint(len(training_data), size=(1,)).item()\n",
    "    img, label = training_data[sample_idx]\n",
    "    figure.add_subplot(rows, cols, i)\n",
    "    plt.title(labels_map[label])\n",
    "    plt.axis(\"off\")\n",
    "    plt.imshow(img.squeeze(), cmap=\"gray\") \n",
    "    # squeeze : 텐서 안의 1차원인 항을 제거 -> 3차원이 2차원으로 바뀜\n",
    "    # unsqueeze : squeeze의 반대 역할, 1차원 항 추가\n",
    "plt.show()"
   ]
  },
  {
   "cell_type": "code",
   "execution_count": null,
   "metadata": {},
   "outputs": [],
   "source": []
  }
 ],
 "metadata": {
  "kernelspec": {
   "display_name": "Python 3.9.12 ('base')",
   "language": "python",
   "name": "python3"
  },
  "language_info": {
   "codemirror_mode": {
    "name": "ipython",
    "version": 3
   },
   "file_extension": ".py",
   "mimetype": "text/x-python",
   "name": "python",
   "nbconvert_exporter": "python",
   "pygments_lexer": "ipython3",
   "version": "3.9.12"
  },
  "orig_nbformat": 4,
  "vscode": {
   "interpreter": {
    "hash": "ad2bdc8ecc057115af97d19610ffacc2b4e99fae6737bb82f5d7fb13d2f2c186"
   }
  }
 },
 "nbformat": 4,
 "nbformat_minor": 2
}
