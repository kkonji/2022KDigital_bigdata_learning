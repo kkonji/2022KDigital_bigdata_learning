{
 "cells": [
  {
   "cell_type": "markdown",
   "metadata": {},
   "source": [
    "# 모델링 작업"
   ]
  },
  {
   "cell_type": "markdown",
   "metadata": {},
   "source": [
    "## 전처리 데이터 출처\n",
    "- 적조 발생여부 \n",
    "- 국립수산과학원(발생일, 발생해안, 적조생물, 개체수, 발생당시 수온)\n",
    "[https://www.nifs.go.kr/rtm/TRS/gispop/redtide.jsp](https://www.nifs.go.kr/rtm/TRS/gispop/redtide.jsp) ('12~'22)\n",
    "[https://www.nifs.go.kr/red/news_2.red](https://www.nifs.go.kr/red/news_2.red) (’81~’20)\n",
    "- 생물밀도 \n",
    "-  국립수산과학원(발생일, 발생해안, 적조생물, 개체수, 발생당시 수온)\n",
    "[https://www.nifs.go.kr/rtm/TRS/gispop/redtide.jsp](https://www.nifs.go.kr/rtm/TRS/gispop/redtide.jsp) ('12~'22)\n",
    "[https://www.nifs.go.kr/red/news_2.red](https://www.nifs.go.kr/red/news_2.red) (’81~’20)\n",
    "- 수온 및 기온\n",
    "- 국립수산과학원 < [관측정보검색<연안정지관측자료<해양관측자료<KODC (nifs.go.kr)](https://www.nifs.go.kr/kodc/coo_list_select.kodc)\n",
    "- 기상청 < 기상자료개방포털 ([https://data.kma.go.kr/data/sea/selectBuoyRltmList.do?pgmNo=52](https://data.kma.go.kr/data/sea/selectBuoyRltmList.do?pgmNo=52))\n",
    "- 강수량 \n",
    "    - [기상자료개방포털[기후통계분석:기상현상일수:강수일수:기간조회] (kma.go.kr)](https://data.kma.go.kr/stcs/grnd/grndRnDay.do?pgmNo=156) (월별)\n",
    "- 일조량 \n",
    "- e 나라 지표 ([http://index.go.kr/potal/main/EachDtlPageDetail.do?idx_cd=1402](http://index.go.kr/potal/main/EachDtlPageDetail.do?idx_cd=1402))\n",
    "- 운량(풍속)\n",
    "- - 국립수산과학원 - 한국해양자료센터 (운량 6개월 분량) ([https://www.nifs.go.kr/kodc/coo_list_select.kodc](https://www.nifs.go.kr/kodc/coo_list_select.kodc))"
   ]
  },
  {
   "cell_type": "markdown",
   "metadata": {},
   "source": [
    "### 데이터 샘플\n",
    "- 하루마다 데이터를 구해서 총 1달 기간의 수온, 기온, 강수량, 일조량, 풍속(독립변수 5개), 적조발생여부(종속변수)\n",
    "- 가상환경 : python 3.9.13\n",
    "- 사용할 머신러닝 : LSTM, GRU \n",
    "- 이진분류 : 적조 발생 유무 (회귀로 적조 발생량 예측을 할수도)"
   ]
  },
  {
   "cell_type": "code",
   "execution_count": 175,
   "metadata": {},
   "outputs": [],
   "source": [
    "import pandas as pd\n",
    "import numpy as np\n",
    "import matplotlib.pyplot as plt\n",
    "from keras.layers import LSTM, GRU, Dense, Dropout, Flatten, Embedding\n",
    "from keras import Sequential\n",
    "from keras.callbacks import EarlyStopping, ModelCheckpoint\n",
    "from keras.metrics import Recall, Precision\n",
    "from keras.utils import set_random_seed, to_categorical, plot_model\n",
    "from sklearn.preprocessing import StandardScaler\n",
    "from sklearn.model_selection import train_test_split"
   ]
  },
  {
   "cell_type": "code",
   "execution_count": 6,
   "metadata": {},
   "outputs": [],
   "source": [
    "set_random_seed(42)"
   ]
  },
  {
   "cell_type": "code",
   "execution_count": 9,
   "metadata": {},
   "outputs": [],
   "source": [
    "# 데이터 프레임 불러오기\n",
    "input_data = pd.read_csv(\"./data/input_data.csv\", index_col=0)\n",
    "target_data = pd.read_csv(\"./data/target_data.csv\", index_col=0)"
   ]
  },
  {
   "cell_type": "code",
   "execution_count": 15,
   "metadata": {},
   "outputs": [],
   "source": [
    "input_data1 = input_data.iloc[:,0:8]\n",
    "input_data2 = input_data.iloc[:,8:]"
   ]
  },
  {
   "cell_type": "code",
   "execution_count": 458,
   "metadata": {},
   "outputs": [],
   "source": [
    "input_data.iloc[:,0:8].to_csv(\"example_input\")\n",
    "target_data.iloc[:,0:2].to_csv(\"example_target\")"
   ]
  },
  {
   "cell_type": "code",
   "execution_count": 17,
   "metadata": {},
   "outputs": [],
   "source": [
    "target_data1 = target_data.iloc[:,0:2]\n",
    "target_data2 = target_data.iloc[:,2:]"
   ]
  },
  {
   "cell_type": "code",
   "execution_count": 21,
   "metadata": {},
   "outputs": [
    {
     "data": {
      "text/html": [
       "<div>\n",
       "<style scoped>\n",
       "    .dataframe tbody tr th:only-of-type {\n",
       "        vertical-align: middle;\n",
       "    }\n",
       "\n",
       "    .dataframe tbody tr th {\n",
       "        vertical-align: top;\n",
       "    }\n",
       "\n",
       "    .dataframe thead th {\n",
       "        text-align: right;\n",
       "    }\n",
       "</style>\n",
       "<table border=\"1\" class=\"dataframe\">\n",
       "  <thead>\n",
       "    <tr style=\"text-align: right;\">\n",
       "      <th></th>\n",
       "      <th>지점.2</th>\n",
       "      <th>평균 풍속(m/s).1</th>\n",
       "      <th>평균 상대습도(%).1</th>\n",
       "      <th>평균 기온(°C).1</th>\n",
       "      <th>평균 수온(°C).1</th>\n",
       "      <th>일강수량(mm).1</th>\n",
       "      <th>합계 일조시간(hr).1</th>\n",
       "    </tr>\n",
       "  </thead>\n",
       "  <tbody>\n",
       "    <tr>\n",
       "      <th>0</th>\n",
       "      <td>통영</td>\n",
       "      <td>5.97022</td>\n",
       "      <td>62.000000</td>\n",
       "      <td>9.400000</td>\n",
       "      <td>17.300000</td>\n",
       "      <td>0.0</td>\n",
       "      <td>8.6</td>\n",
       "    </tr>\n",
       "    <tr>\n",
       "      <th>1</th>\n",
       "      <td>통영</td>\n",
       "      <td>5.97022</td>\n",
       "      <td>65.000000</td>\n",
       "      <td>12.000000</td>\n",
       "      <td>16.800000</td>\n",
       "      <td>0.0</td>\n",
       "      <td>6.9</td>\n",
       "    </tr>\n",
       "    <tr>\n",
       "      <th>2</th>\n",
       "      <td>통영</td>\n",
       "      <td>4.80000</td>\n",
       "      <td>58.000000</td>\n",
       "      <td>9.600000</td>\n",
       "      <td>15.300000</td>\n",
       "      <td>0.0</td>\n",
       "      <td>8.7</td>\n",
       "    </tr>\n",
       "    <tr>\n",
       "      <th>3</th>\n",
       "      <td>통영</td>\n",
       "      <td>4.20000</td>\n",
       "      <td>49.000000</td>\n",
       "      <td>10.500000</td>\n",
       "      <td>13.900000</td>\n",
       "      <td>0.0</td>\n",
       "      <td>7.7</td>\n",
       "    </tr>\n",
       "    <tr>\n",
       "      <th>4</th>\n",
       "      <td>통영</td>\n",
       "      <td>8.90000</td>\n",
       "      <td>68.000000</td>\n",
       "      <td>11.100000</td>\n",
       "      <td>13.800000</td>\n",
       "      <td>0.0</td>\n",
       "      <td>2.3</td>\n",
       "    </tr>\n",
       "    <tr>\n",
       "      <th>...</th>\n",
       "      <td>...</td>\n",
       "      <td>...</td>\n",
       "      <td>...</td>\n",
       "      <td>...</td>\n",
       "      <td>...</td>\n",
       "      <td>...</td>\n",
       "      <td>...</td>\n",
       "    </tr>\n",
       "    <tr>\n",
       "      <th>2094</th>\n",
       "      <td>통영</td>\n",
       "      <td>5.97022</td>\n",
       "      <td>71.893199</td>\n",
       "      <td>16.124387</td>\n",
       "      <td>18.166765</td>\n",
       "      <td>0.0</td>\n",
       "      <td>0.7</td>\n",
       "    </tr>\n",
       "    <tr>\n",
       "      <th>2095</th>\n",
       "      <td>통영</td>\n",
       "      <td>5.97022</td>\n",
       "      <td>71.893199</td>\n",
       "      <td>16.124387</td>\n",
       "      <td>18.166765</td>\n",
       "      <td>0.1</td>\n",
       "      <td>5.7</td>\n",
       "    </tr>\n",
       "    <tr>\n",
       "      <th>2096</th>\n",
       "      <td>통영</td>\n",
       "      <td>5.97022</td>\n",
       "      <td>71.893199</td>\n",
       "      <td>16.124387</td>\n",
       "      <td>18.166765</td>\n",
       "      <td>0.0</td>\n",
       "      <td>4.5</td>\n",
       "    </tr>\n",
       "    <tr>\n",
       "      <th>2097</th>\n",
       "      <td>통영</td>\n",
       "      <td>5.97022</td>\n",
       "      <td>71.893199</td>\n",
       "      <td>16.124387</td>\n",
       "      <td>18.166765</td>\n",
       "      <td>0.0</td>\n",
       "      <td>9.7</td>\n",
       "    </tr>\n",
       "    <tr>\n",
       "      <th>2098</th>\n",
       "      <td>통영</td>\n",
       "      <td>5.97022</td>\n",
       "      <td>71.893199</td>\n",
       "      <td>16.124387</td>\n",
       "      <td>18.166765</td>\n",
       "      <td>0.0</td>\n",
       "      <td>9.7</td>\n",
       "    </tr>\n",
       "  </tbody>\n",
       "</table>\n",
       "<p>2099 rows × 7 columns</p>\n",
       "</div>"
      ],
      "text/plain": [
       "     지점.2  평균 풍속(m/s).1  평균 상대습도(%).1  평균 기온(°C).1  평균 수온(°C).1  일강수량(mm).1  \\\n",
       "0      통영       5.97022     62.000000     9.400000    17.300000         0.0   \n",
       "1      통영       5.97022     65.000000    12.000000    16.800000         0.0   \n",
       "2      통영       4.80000     58.000000     9.600000    15.300000         0.0   \n",
       "3      통영       4.20000     49.000000    10.500000    13.900000         0.0   \n",
       "4      통영       8.90000     68.000000    11.100000    13.800000         0.0   \n",
       "...   ...           ...           ...          ...          ...         ...   \n",
       "2094   통영       5.97022     71.893199    16.124387    18.166765         0.0   \n",
       "2095   통영       5.97022     71.893199    16.124387    18.166765         0.1   \n",
       "2096   통영       5.97022     71.893199    16.124387    18.166765         0.0   \n",
       "2097   통영       5.97022     71.893199    16.124387    18.166765         0.0   \n",
       "2098   통영       5.97022     71.893199    16.124387    18.166765         0.0   \n",
       "\n",
       "      합계 일조시간(hr).1  \n",
       "0               8.6  \n",
       "1               6.9  \n",
       "2               8.7  \n",
       "3               7.7  \n",
       "4               2.3  \n",
       "...             ...  \n",
       "2094            0.7  \n",
       "2095            5.7  \n",
       "2096            4.5  \n",
       "2097            9.7  \n",
       "2098            9.7  \n",
       "\n",
       "[2099 rows x 7 columns]"
      ]
     },
     "execution_count": 21,
     "metadata": {},
     "output_type": "execute_result"
    }
   ],
   "source": [
    "input_data2"
   ]
  },
  {
   "cell_type": "code",
   "execution_count": 23,
   "metadata": {},
   "outputs": [],
   "source": [
    "input_data1.drop(columns=[\"지점\", \"평균 상대습도(%)\", \"일시\"], inplace=True)\n",
    "input_data2.drop(columns=[\"지점.2\", \"평균 상대습도(%).1\"], inplace=True)\n",
    "\n",
    "input_data2.rename(columns={\"평균 풍속(m/s).1\":\"평균 풍속(m/s)\", \"평균 기온(°C).1\":\"평균 기온(°C)\", \"평균 수온(°C).1\": \"평균 수온(°C)\", \"일강수량(mm).1\": \"일강수량(mm)\", \"합계 일조시간(hr).1\" : \"합계 일조시간(hr)\"}, inplace=True)"
   ]
  },
  {
   "cell_type": "code",
   "execution_count": 37,
   "metadata": {},
   "outputs": [],
   "source": [
    "target_data1.drop(columns=[\"지점_x\"], inplace=True)\n",
    "target_data2.drop(columns=[\"지점_y\"], inplace=True)\n",
    "target_data1.rename(columns={\"target_x\": \"target\"}, inplace=True)\n",
    "target_data2.rename(columns={\"target_y\": \"target\"}, inplace=True)"
   ]
  },
  {
   "cell_type": "code",
   "execution_count": 44,
   "metadata": {},
   "outputs": [
    {
     "name": "stdout",
     "output_type": "stream",
     "text": [
      "(2099, 5) (2099, 1)\n"
     ]
    }
   ],
   "source": [
    "print(input_data1.shape, target_data1.shape)"
   ]
  },
  {
   "cell_type": "markdown",
   "metadata": {},
   "source": [
    "### 자료 없는 17년도 날리기"
   ]
  },
  {
   "cell_type": "code",
   "execution_count": 61,
   "metadata": {},
   "outputs": [
    {
     "data": {
      "text/plain": [
       "Index(['2017-01-01', '2017-01-02', '2017-01-03', '2017-01-04', '2017-01-05',\n",
       "       '2017-01-06', '2017-01-07', '2017-01-08', '2017-01-09', '2017-01-10',\n",
       "       ...\n",
       "       '2017-12-21', '2017-12-22', '2017-12-23', '2017-12-24', '2017-12-25',\n",
       "       '2017-12-26', '2017-12-27', '2017-12-28', '2017-12-29', '2017-12-30'],\n",
       "      dtype='object', name='일시', length=364)"
      ]
     },
     "execution_count": 61,
     "metadata": {},
     "output_type": "execute_result"
    }
   ],
   "source": [
    "target_data1.iloc[0:364,:].index # 0~ 364 행까지 2017년"
   ]
  },
  {
   "cell_type": "code",
   "execution_count": 65,
   "metadata": {},
   "outputs": [],
   "source": [
    "input_data1.drop(input_data1.iloc[0:365,:].index, inplace=True)\n",
    "input_data2.drop(input_data2.iloc[0:365,:].index, inplace=True)\n",
    "target_data1.drop(target_data1.iloc[0:365,:].index, inplace=True)\n",
    "target_data2.drop(target_data2.iloc[0:365,:].index, inplace=True)"
   ]
  },
  {
   "cell_type": "code",
   "execution_count": 70,
   "metadata": {},
   "outputs": [],
   "source": [
    "input_data1.reset_index(inplace=True)\n",
    "input_data1.drop(columns=[\"index\"], inplace=True)\n",
    "input_data2.reset_index(inplace=True)\n",
    "input_data2.drop(columns=[\"index\"], inplace=True)"
   ]
  },
  {
   "cell_type": "code",
   "execution_count": 74,
   "metadata": {},
   "outputs": [],
   "source": [
    "target_data1.reset_index(inplace=True)\n",
    "target_data1.drop(columns=[\"일시\"], inplace=True)\n",
    "target_data2.reset_index(inplace=True)\n",
    "target_data2.drop(columns=[\"일시\"], inplace=True)"
   ]
  },
  {
   "cell_type": "markdown",
   "metadata": {},
   "source": [
    "### 타겟값 상한 설정 : 1000 으로"
   ]
  },
  {
   "cell_type": "code",
   "execution_count": 84,
   "metadata": {},
   "outputs": [
    {
     "name": "stdout",
     "output_type": "stream",
     "text": [
      "target\n",
      "0.0       1719\n",
      "100.0        1\n",
      "360.0        1\n",
      "500.0        1\n",
      "560.0        1\n",
      "700.0        1\n",
      "930.0        1\n",
      "1000.0       1\n",
      "1120.0       1\n",
      "1408.0       1\n",
      "1440.0       1\n",
      "1500.0       1\n",
      "1536.0       1\n",
      "1640.0       1\n",
      "3616.0       1\n",
      "3800.0       1\n",
      "dtype: int64\n",
      "target\n",
      "0.0       1690\n",
      "1.0          7\n",
      "700.0        3\n",
      "40.0         2\n",
      "100.0        2\n",
      "350.0        2\n",
      "500.0        2\n",
      "800.0        2\n",
      "50.0         2\n",
      "1000.0       2\n",
      "1200.0       2\n",
      "1500.0       1\n",
      "6000.0       1\n",
      "5800.0       1\n",
      "5200.0       1\n",
      "4800.0       1\n",
      "4500.0       1\n",
      "3200.0       1\n",
      "3040.0       1\n",
      "900.0        1\n",
      "1440.0       1\n",
      "20.0         1\n",
      "270.0        1\n",
      "180.0        1\n",
      "150.0        1\n",
      "90.0         1\n",
      "80.0         1\n",
      "56.0         1\n",
      "7300.0       1\n",
      "dtype: int64\n"
     ]
    }
   ],
   "source": [
    "print(target_data1.value_counts())\n",
    "print(target_data2.value_counts())"
   ]
  },
  {
   "cell_type": "code",
   "execution_count": 85,
   "metadata": {},
   "outputs": [],
   "source": [
    "def get_dens(v):\n",
    "    if v >= 1000:\n",
    "        density = 1000\n",
    "    else:\n",
    "        density = v\n",
    "    return density\n",
    "\n",
    "# get_dens(v) 함수 적용\n",
    "target_data1[\"target\"] = target_data1[\"target\"].apply(lambda v : get_dens(v))\n",
    "target_data2[\"target\"] = target_data2[\"target\"].apply(lambda v : get_dens(v))"
   ]
  },
  {
   "cell_type": "code",
   "execution_count": 86,
   "metadata": {},
   "outputs": [
    {
     "data": {
      "text/plain": [
       "target\n",
       "0.0       1719\n",
       "1000.0       9\n",
       "100.0        1\n",
       "360.0        1\n",
       "500.0        1\n",
       "560.0        1\n",
       "700.0        1\n",
       "930.0        1\n",
       "dtype: int64"
      ]
     },
     "execution_count": 86,
     "metadata": {},
     "output_type": "execute_result"
    }
   ],
   "source": [
    "target_data1.value_counts()"
   ]
  },
  {
   "cell_type": "markdown",
   "metadata": {},
   "source": [
    "## 오버샘플링\n",
    "### df : 모든 데이터 merge된 dataframe\n",
    "- 거제 데이터 19~22년도 1000개 제거 "
   ]
  },
  {
   "cell_type": "code",
   "execution_count": 105,
   "metadata": {},
   "outputs": [
    {
     "data": {
      "text/plain": [
       "target\n",
       "0.0       1034\n",
       "dtype: int64"
      ]
     },
     "execution_count": 105,
     "metadata": {},
     "output_type": "execute_result"
    }
   ],
   "source": [
    "target_data1.iloc[700:,:].value_counts()"
   ]
  },
  {
   "cell_type": "code",
   "execution_count": 115,
   "metadata": {},
   "outputs": [],
   "source": [
    "target_data1.drop(target_data1.iloc[700:,:].index, inplace=True)"
   ]
  },
  {
   "cell_type": "code",
   "execution_count": 125,
   "metadata": {},
   "outputs": [],
   "source": [
    "input_data1.drop(input_data1.iloc[700:,:].index, inplace=True)"
   ]
  },
  {
   "cell_type": "code",
   "execution_count": 127,
   "metadata": {},
   "outputs": [
    {
     "name": "stdout",
     "output_type": "stream",
     "text": [
      "(700, 2) (1734, 2)\n",
      "(700, 5) (1734, 5)\n"
     ]
    }
   ],
   "source": [
    "print(target_data1.shape, target_data2.shape)\n",
    "print(input_data1.shape, input_data2.shape)"
   ]
  },
  {
   "cell_type": "code",
   "execution_count": 99,
   "metadata": {},
   "outputs": [
    {
     "data": {
      "text/plain": [
       "target\n",
       "0.0       425\n",
       "1.0         7\n",
       "270.0       1\n",
       "900.0       1\n",
       "dtype: int64"
      ]
     },
     "execution_count": 99,
     "metadata": {},
     "output_type": "execute_result"
    }
   ],
   "source": [
    "target_data2.iloc[1300:,:].value_counts()"
   ]
  },
  {
   "cell_type": "code",
   "execution_count": 109,
   "metadata": {},
   "outputs": [],
   "source": [
    "# Oversampling을 위해 데이터 복제\n",
    "\n",
    "# # Oversampling 1. 앞 쪽 데이터 증식\n",
    "def oversample(df, TRAIN_SPLIT):\n",
    "    df['target_oversample'] = df['target']\n",
    "    for i in range(2,TRAIN_SPLIT):\n",
    "        if df['target_oversample'].iloc[i-2] == 0 and df['target_oversample'].iloc[i-1] == 0 and df['target_oversample'].iloc[i] != 0:\n",
    "            df['target_oversample'].iloc[i-2] = (df['target_oversample'].iloc[i])*1/3\n",
    "            df['target_oversample'].iloc[i-1] = (df['target_oversample'].iloc[i])*2/3\n",
    "            \n",
    "        elif df['target_oversample'].iloc[i-1] == 0 and df['target_oversample'].iloc[i] != 0:\n",
    "            df['target_oversample'].iloc[i-1] = (df['target_oversample'].iloc[i])*1/2\n",
    "    # # Oversampling 2. 뒤 쪽 데이터 증식\n",
    "    for i in range(0,TRAIN_SPLIT):\n",
    "        if df['target_oversample'].iloc[i+2] == 0 and df['target_oversample'].iloc[i+1] == 0 and df['target_oversample'].iloc[i] != 0:\n",
    "            df['target_oversample'].iloc[i+2] = (df['target_oversample'].iloc[i])*1/3\n",
    "            df['target_oversample'].iloc[i+1] = (df['target_oversample'].iloc[i])*2/3\n",
    "            i = i+2\n",
    "    return df"
   ]
  },
  {
   "cell_type": "code",
   "execution_count": 119,
   "metadata": {},
   "outputs": [
    {
     "data": {
      "text/plain": [
       "target  target_oversample\n",
       "0.0     0.000000e+00         211\n",
       "1000.0  1.000000e+03           9\n",
       "0.0     6.200000e+02           2\n",
       "        3.100000e+02           2\n",
       "        1.890714e-91           1\n",
       "                            ... \n",
       "        1.552579e-54           1\n",
       "        1.035052e-54           1\n",
       "        5.175262e-55           1\n",
       "        3.450175e-55           1\n",
       "        1.132544e-34           1\n",
       "Length: 480, dtype: int64"
      ]
     },
     "execution_count": 119,
     "metadata": {},
     "output_type": "execute_result"
    }
   ],
   "source": [
    "oversample(target_data1, len(target_data1)-2).value_counts()"
   ]
  },
  {
   "cell_type": "code",
   "execution_count": 450,
   "metadata": {},
   "outputs": [
    {
     "data": {
      "text/plain": [
       "700"
      ]
     },
     "execution_count": 450,
     "metadata": {},
     "output_type": "execute_result"
    }
   ],
   "source": [
    "len(target_data1)"
   ]
  },
  {
   "cell_type": "code",
   "execution_count": 112,
   "metadata": {},
   "outputs": [
    {
     "data": {
      "text/html": [
       "<div>\n",
       "<style scoped>\n",
       "    .dataframe tbody tr th:only-of-type {\n",
       "        vertical-align: middle;\n",
       "    }\n",
       "\n",
       "    .dataframe tbody tr th {\n",
       "        vertical-align: top;\n",
       "    }\n",
       "\n",
       "    .dataframe thead th {\n",
       "        text-align: right;\n",
       "    }\n",
       "</style>\n",
       "<table border=\"1\" class=\"dataframe\">\n",
       "  <thead>\n",
       "    <tr style=\"text-align: right;\">\n",
       "      <th></th>\n",
       "      <th>target</th>\n",
       "      <th>target_oversample</th>\n",
       "    </tr>\n",
       "  </thead>\n",
       "  <tbody>\n",
       "    <tr>\n",
       "      <th>0</th>\n",
       "      <td>0.0</td>\n",
       "      <td>0.0</td>\n",
       "    </tr>\n",
       "    <tr>\n",
       "      <th>1</th>\n",
       "      <td>0.0</td>\n",
       "      <td>0.0</td>\n",
       "    </tr>\n",
       "    <tr>\n",
       "      <th>2</th>\n",
       "      <td>0.0</td>\n",
       "      <td>0.0</td>\n",
       "    </tr>\n",
       "    <tr>\n",
       "      <th>3</th>\n",
       "      <td>0.0</td>\n",
       "      <td>0.0</td>\n",
       "    </tr>\n",
       "    <tr>\n",
       "      <th>4</th>\n",
       "      <td>0.0</td>\n",
       "      <td>0.0</td>\n",
       "    </tr>\n",
       "    <tr>\n",
       "      <th>...</th>\n",
       "      <td>...</td>\n",
       "      <td>...</td>\n",
       "    </tr>\n",
       "    <tr>\n",
       "      <th>1729</th>\n",
       "      <td>0.0</td>\n",
       "      <td>0.0</td>\n",
       "    </tr>\n",
       "    <tr>\n",
       "      <th>1730</th>\n",
       "      <td>0.0</td>\n",
       "      <td>0.0</td>\n",
       "    </tr>\n",
       "    <tr>\n",
       "      <th>1731</th>\n",
       "      <td>0.0</td>\n",
       "      <td>0.0</td>\n",
       "    </tr>\n",
       "    <tr>\n",
       "      <th>1732</th>\n",
       "      <td>0.0</td>\n",
       "      <td>0.0</td>\n",
       "    </tr>\n",
       "    <tr>\n",
       "      <th>1733</th>\n",
       "      <td>0.0</td>\n",
       "      <td>0.0</td>\n",
       "    </tr>\n",
       "  </tbody>\n",
       "</table>\n",
       "<p>1734 rows × 2 columns</p>\n",
       "</div>"
      ],
      "text/plain": [
       "      target  target_oversample\n",
       "0        0.0                0.0\n",
       "1        0.0                0.0\n",
       "2        0.0                0.0\n",
       "3        0.0                0.0\n",
       "4        0.0                0.0\n",
       "...      ...                ...\n",
       "1729     0.0                0.0\n",
       "1730     0.0                0.0\n",
       "1731     0.0                0.0\n",
       "1732     0.0                0.0\n",
       "1733     0.0                0.0\n",
       "\n",
       "[1734 rows x 2 columns]"
      ]
     },
     "execution_count": 112,
     "metadata": {},
     "output_type": "execute_result"
    }
   ],
   "source": [
    "TRAIN_SPLIT = 1300\n",
    "target_data2 = oversample(target_data2, TRAIN_SPLIT)\n",
    "target_data1 = oversample(target_data1, len(target_data1)-2)"
   ]
  },
  {
   "cell_type": "markdown",
   "metadata": {},
   "source": [
    "## 표준화\n",
    "#### data엔 StandardScaler로 표준화 작업, target엔 이진분류면 OneHotEncoder, 회귀는 그대로"
   ]
  },
  {
   "cell_type": "code",
   "execution_count": 453,
   "metadata": {},
   "outputs": [],
   "source": [
    "np.save('input_data1.npy', input_data1)"
   ]
  },
  {
   "cell_type": "code",
   "execution_count": 131,
   "metadata": {},
   "outputs": [],
   "source": [
    "st = StandardScaler()\n",
    "st.fit(input_data1)\n",
    "input_data1 = st.transform(input_data1)\n",
    "input_data2 = st.transform(input_data2)"
   ]
  },
  {
   "cell_type": "code",
   "execution_count": 137,
   "metadata": {},
   "outputs": [],
   "source": [
    "target_data1 = target_data1.round(2)\n",
    "target_data2 = target_data2.round(2)"
   ]
  },
  {
   "cell_type": "code",
   "execution_count": 138,
   "metadata": {},
   "outputs": [
    {
     "data": {
      "text/plain": [
       "target  target_oversample\n",
       "0.0     0.00                 1615\n",
       "1000.0  1000.00                14\n",
       "1.0     1.00                    7\n",
       "0.0     0.01                    6\n",
       "700.0   700.00                  3\n",
       "                             ... \n",
       "0.0     3.70                    1\n",
       "        3.29                    1\n",
       "        2.88                    1\n",
       "        2.47                    1\n",
       "        20.00                   1\n",
       "Length: 79, dtype: int64"
      ]
     },
     "execution_count": 138,
     "metadata": {},
     "output_type": "execute_result"
    }
   ],
   "source": [
    "target_data2.value_counts()"
   ]
  },
  {
   "cell_type": "code",
   "execution_count": 154,
   "metadata": {},
   "outputs": [],
   "source": [
    "# step 은 보통 1, start_index, end_index 기준으로 데이터를 쪼갠다. -> train, test, validation\n",
    "# history_size로 30, target_size로 7로 우선 생각\n",
    "def multivariate_data(input, target, start_index, end_index, history_size=30, target_size=7, step=1):\n",
    "    \"\"\" dataset 기간별로 쪼개는 함수\"\"\"\n",
    "    data = []\n",
    "    labels = []\n",
    "\n",
    "    start_index = start_index + history_size\n",
    "    if end_index is None:\n",
    "        end_index = len(input) - target_size\n",
    "\n",
    "    for i in range(start_index, end_index):\n",
    "        indices = range(i - history_size, i, step)\n",
    "        data.append(input[indices])  # 사용할 데이터 수 (날짜 이전 값)\n",
    "        labels.append(target[i:i+target_size]) # 예측할 데이터 수 (날짜 이후 값)\n",
    "    return np.array(data), np.array(labels)"
   ]
  },
  {
   "cell_type": "code",
   "execution_count": 152,
   "metadata": {},
   "outputs": [
    {
     "data": {
      "text/plain": [
       "array([[-0.04947966, -0.03459398, -0.19148488, -0.2897126 ,  0.68347649],\n",
       "       [-0.04947966, -0.03459398, -0.19148488, -0.2897126 ,  0.68347649],\n",
       "       [-0.04947966, -0.03459398, -0.19148488, -0.2897126 ,  0.58497848],\n",
       "       [-0.04947966, -0.03459398, -0.19148488, -0.2897126 , -1.60660229],\n",
       "       [-0.04947966, -0.03459398, -0.19148488, -0.26843211, -1.60660229],\n",
       "       [-0.04947966, -0.03459398, -0.19148488,  0.69770218, -1.60660229],\n",
       "       [-0.04947966, -0.03459398, -0.19148488, -0.0726516 , -1.60660229],\n",
       "       [-0.04947966, -0.03459398, -0.19148488, -0.2897126 ,  0.07026631],\n",
       "       [-0.04947966, -0.03459398, -0.19148488, -0.2897126 , -0.8432427 ],\n",
       "       [-0.04947966, -0.03459398, -0.19148488, -0.2897126 ,  0.48648047],\n",
       "       [ 0.00341709, -1.15597786, -1.54027971, -0.2897126 ,  0.21561093],\n",
       "       [ 0.41100565, -1.11298214, -1.56288484, -0.2897126 , -0.99098972],\n",
       "       [ 1.8375656 , -2.27386667, -2.1054079 , -0.2897126 ,  0.58497848],\n",
       "       [ 1.34845934, -2.73248772, -2.08280277, -0.2897126 ,  0.63422749],\n",
       "       [ 0.12569366, -2.689492  , -2.01498739, -0.2897126 ,  0.53572947],\n",
       "       [ 0.98162963, -2.689492  , -1.87935662, -0.2897126 ,  0.7327255 ],\n",
       "       [-0.85251888, -2.23087095, -1.2012028 , -0.2897126 ,  0.708101  ],\n",
       "       [ 0.57404108, -1.82957753, -1.2012028 , -0.2897126 ,  0.31410895],\n",
       "       [ 1.63377133, -2.30253049, -1.60809509, -0.2897126 ,  0.63422749],\n",
       "       [ 0.00341709, -2.25953476, -1.67591048, -0.2897126 ,  0.26485994],\n",
       "       [-1.0155543 , -1.80091371, -1.6985156 , -0.2897126 , -0.30150363],\n",
       "       [-0.52644803, -1.70059036, -1.74372586, -0.2897126 ,  0.68347649],\n",
       "       [ 0.00341709, -1.64326273, -1.81154124, -0.2897126 , -0.25225462],\n",
       "       [ 2.04135988, -2.11621569, -1.87935662, -0.2897126 ,  0.7327255 ],\n",
       "       [ 2.12287759, -2.63216437, -1.99238226, -0.2897126 ,  0.75735   ]])"
      ]
     },
     "execution_count": 152,
     "metadata": {},
     "output_type": "execute_result"
    }
   ],
   "source": [
    "input_data2[range(10,35, 1)]"
   ]
  },
  {
   "cell_type": "code",
   "execution_count": 159,
   "metadata": {},
   "outputs": [],
   "source": [
    "BUFFER_SIZE = 10000; TRAIN_SPLIT = 1300\n",
    "train_data, train_target = multivariate_data(input_data2, target_data2[\"target_oversample\"], 30, TRAIN_SPLIT)"
   ]
  },
  {
   "cell_type": "code",
   "execution_count": 160,
   "metadata": {},
   "outputs": [
    {
     "name": "stdout",
     "output_type": "stream",
     "text": [
      "(1240, 30, 5) (1240, 7)\n"
     ]
    }
   ],
   "source": [
    "print(train_data.shape, train_target.shape)"
   ]
  },
  {
   "cell_type": "code",
   "execution_count": 161,
   "metadata": {},
   "outputs": [],
   "source": [
    "train_data2, train_target2 = multivariate_data(input_data1, target_data1[\"target_oversample\"], 30, 693)"
   ]
  },
  {
   "cell_type": "code",
   "execution_count": 162,
   "metadata": {},
   "outputs": [
    {
     "name": "stdout",
     "output_type": "stream",
     "text": [
      "(633, 30, 5) (633, 7)\n"
     ]
    }
   ],
   "source": [
    "print(train_data2.shape, train_target2.shape)"
   ]
  },
  {
   "cell_type": "code",
   "execution_count": 173,
   "metadata": {},
   "outputs": [],
   "source": [
    "test_data, test_target = multivariate_data(input_data2, target_data2[\"target_oversample\"], TRAIN_SPLIT, None)"
   ]
  },
  {
   "cell_type": "code",
   "execution_count": 168,
   "metadata": {},
   "outputs": [],
   "source": [
    "train_data = np.concatenate([train_data, train_data2])\n",
    "train_target = np.concatenate([train_target, train_target2])"
   ]
  },
  {
   "cell_type": "code",
   "execution_count": 174,
   "metadata": {},
   "outputs": [
    {
     "name": "stdout",
     "output_type": "stream",
     "text": [
      "(1873, 30, 5) (1873, 7)\n",
      "(397, 30, 5) (397, 7)\n"
     ]
    }
   ],
   "source": [
    "print(train_data.shape, train_target.shape)\n",
    "print(test_data.shape, test_target.shape)"
   ]
  },
  {
   "cell_type": "code",
   "execution_count": 177,
   "metadata": {},
   "outputs": [],
   "source": [
    "# train_data, train_target, val_data, val_target = train_test_split(train_data, train_target, test_size=0.3, stratify=train_target)"
   ]
  },
  {
   "cell_type": "code",
   "execution_count": 222,
   "metadata": {},
   "outputs": [],
   "source": [
    "train_target = train_target/1000.0\n",
    "test_target = test_target/1000.0"
   ]
  },
  {
   "cell_type": "markdown",
   "metadata": {},
   "source": [
    "- input data: 원 핫 인코딩 완료된 train data, train target\n",
    "- output : 모델, recall 값이 중요함"
   ]
  },
  {
   "cell_type": "code",
   "execution_count": 224,
   "metadata": {},
   "outputs": [
    {
     "name": "stdout",
     "output_type": "stream",
     "text": [
      "Model: \"sequential_3\"\n",
      "_________________________________________________________________\n",
      " Layer (type)                Output Shape              Param #   \n",
      "=================================================================\n",
      " lstm_3 (LSTM)               (None, 10)                640       \n",
      "                                                                 \n",
      " dense_3 (Dense)             (None, 7)                 77        \n",
      "                                                                 \n",
      "=================================================================\n",
      "Total params: 717\n",
      "Trainable params: 717\n",
      "Non-trainable params: 0\n",
      "_________________________________________________________________\n"
     ]
    }
   ],
   "source": [
    "model = Sequential()\n",
    "model.add(LSTM(10, input_shape=(30,5)))\n",
    "model.add(Dense(7))\n",
    "rec = Recall()\n",
    "model.compile(optimizer='rmsprop', loss='mse', metrics=['mae'])\n",
    "model.summary()"
   ]
  },
  {
   "cell_type": "code",
   "execution_count": 179,
   "metadata": {},
   "outputs": [
    {
     "data": {
      "image/png": "[encoded data removed]",
      "text/plain": [
       "<IPython.core.display.Image object>"
      ]
     },
     "execution_count": 179,
     "metadata": {},
     "output_type": "execute_result"
    }
   ],
   "source": [
    "plot_model(model)"
   ]
  },
  {
   "cell_type": "code",
   "execution_count": 225,
   "metadata": {},
   "outputs": [
    {
     "name": "stdout",
     "output_type": "stream",
     "text": [
      "Epoch 1/50\n",
      "118/118 [==============================] - 2s 5ms/step - loss: 0.0269 - mae: 0.0987\n",
      "Epoch 2/50\n",
      "118/118 [==============================] - 1s 5ms/step - loss: 0.0168 - mae: 0.0607\n",
      "Epoch 3/50\n",
      "118/118 [==============================] - 1s 5ms/step - loss: 0.0156 - mae: 0.0528\n",
      "Epoch 4/50\n",
      "118/118 [==============================] - 1s 5ms/step - loss: 0.0151 - mae: 0.0496\n",
      "Epoch 5/50\n",
      "118/118 [==============================] - 1s 5ms/step - loss: 0.0146 - mae: 0.0491\n",
      "Epoch 6/50\n",
      "118/118 [==============================] - 1s 5ms/step - loss: 0.0142 - mae: 0.0476\n",
      "Epoch 7/50\n",
      "118/118 [==============================] - 1s 5ms/step - loss: 0.0135 - mae: 0.0460\n",
      "Epoch 8/50\n",
      "118/118 [==============================] - 1s 5ms/step - loss: 0.0126 - mae: 0.0450\n",
      "Epoch 9/50\n",
      "118/118 [==============================] - 1s 5ms/step - loss: 0.0112 - mae: 0.0440\n",
      "Epoch 10/50\n",
      "118/118 [==============================] - 1s 5ms/step - loss: 0.0094 - mae: 0.0416\n",
      "Epoch 11/50\n",
      "118/118 [==============================] - 1s 5ms/step - loss: 0.0078 - mae: 0.0391\n",
      "Epoch 12/50\n",
      "118/118 [==============================] - 1s 5ms/step - loss: 0.0067 - mae: 0.0359\n",
      "Epoch 13/50\n",
      "118/118 [==============================] - 1s 5ms/step - loss: 0.0057 - mae: 0.0333\n",
      "Epoch 14/50\n",
      "118/118 [==============================] - 1s 5ms/step - loss: 0.0051 - mae: 0.0316\n",
      "Epoch 15/50\n",
      "118/118 [==============================] - 1s 5ms/step - loss: 0.0045 - mae: 0.0301\n",
      "Epoch 16/50\n",
      "118/118 [==============================] - 1s 5ms/step - loss: 0.0042 - mae: 0.0282\n",
      "Epoch 17/50\n",
      "118/118 [==============================] - 1s 5ms/step - loss: 0.0039 - mae: 0.0277\n",
      "Epoch 18/50\n",
      "118/118 [==============================] - 1s 5ms/step - loss: 0.0037 - mae: 0.0266\n",
      "Epoch 19/50\n",
      "118/118 [==============================] - 1s 6ms/step - loss: 0.0037 - mae: 0.0257\n",
      "Epoch 20/50\n",
      "118/118 [==============================] - 1s 6ms/step - loss: 0.0034 - mae: 0.0254\n",
      "Epoch 21/50\n",
      "118/118 [==============================] - 1s 5ms/step - loss: 0.0033 - mae: 0.0243\n",
      "Epoch 22/50\n",
      "118/118 [==============================] - 1s 5ms/step - loss: 0.0033 - mae: 0.0238\n",
      "Epoch 23/50\n",
      "118/118 [==============================] - 1s 6ms/step - loss: 0.0032 - mae: 0.0234\n",
      "Epoch 24/50\n",
      "118/118 [==============================] - 1s 5ms/step - loss: 0.0029 - mae: 0.0228\n",
      "Epoch 25/50\n",
      "118/118 [==============================] - 1s 5ms/step - loss: 0.0030 - mae: 0.0227\n",
      "Epoch 26/50\n",
      "118/118 [==============================] - 1s 6ms/step - loss: 0.0029 - mae: 0.0220\n",
      "Epoch 27/50\n",
      "118/118 [==============================] - 1s 5ms/step - loss: 0.0028 - mae: 0.0223\n",
      "Epoch 28/50\n",
      "118/118 [==============================] - 1s 6ms/step - loss: 0.0029 - mae: 0.0216\n",
      "Epoch 29/50\n",
      "118/118 [==============================] - 1s 6ms/step - loss: 0.0028 - mae: 0.0213\n",
      "Epoch 30/50\n",
      "118/118 [==============================] - 1s 6ms/step - loss: 0.0028 - mae: 0.0208\n",
      "Epoch 31/50\n",
      "118/118 [==============================] - 1s 6ms/step - loss: 0.0027 - mae: 0.0208\n",
      "Epoch 32/50\n",
      "118/118 [==============================] - 1s 6ms/step - loss: 0.0026 - mae: 0.0203\n",
      "Epoch 33/50\n",
      "118/118 [==============================] - 1s 5ms/step - loss: 0.0027 - mae: 0.0201\n",
      "Epoch 34/50\n",
      "118/118 [==============================] - 1s 6ms/step - loss: 0.0026 - mae: 0.0197\n",
      "Epoch 35/50\n",
      "118/118 [==============================] - 1s 6ms/step - loss: 0.0026 - mae: 0.0195\n",
      "Epoch 36/50\n",
      "118/118 [==============================] - 1s 6ms/step - loss: 0.0025 - mae: 0.0192\n",
      "Epoch 37/50\n",
      "118/118 [==============================] - 1s 6ms/step - loss: 0.0026 - mae: 0.0192\n",
      "Epoch 38/50\n",
      "118/118 [==============================] - 1s 6ms/step - loss: 0.0025 - mae: 0.0191\n",
      "Epoch 39/50\n",
      "118/118 [==============================] - 1s 6ms/step - loss: 0.0025 - mae: 0.0188\n",
      "Epoch 40/50\n",
      "118/118 [==============================] - 1s 6ms/step - loss: 0.0025 - mae: 0.0187\n",
      "Epoch 41/50\n",
      "118/118 [==============================] - 1s 6ms/step - loss: 0.0024 - mae: 0.0181\n",
      "Epoch 42/50\n",
      "118/118 [==============================] - 1s 6ms/step - loss: 0.0025 - mae: 0.0183\n",
      "Epoch 43/50\n",
      "118/118 [==============================] - 1s 6ms/step - loss: 0.0024 - mae: 0.0181\n",
      "Epoch 44/50\n",
      "118/118 [==============================] - 1s 6ms/step - loss: 0.0024 - mae: 0.0182\n",
      "Epoch 45/50\n",
      "118/118 [==============================] - 1s 6ms/step - loss: 0.0025 - mae: 0.0179\n",
      "Epoch 46/50\n",
      "118/118 [==============================] - 1s 7ms/step - loss: 0.0024 - mae: 0.0176\n",
      "Epoch 47/50\n",
      "118/118 [==============================] - 1s 6ms/step - loss: 0.0023 - mae: 0.0177\n",
      "Epoch 48/50\n",
      "118/118 [==============================] - 1s 6ms/step - loss: 0.0024 - mae: 0.0176\n",
      "Epoch 49/50\n",
      "118/118 [==============================] - 1s 6ms/step - loss: 0.0023 - mae: 0.0175\n",
      "Epoch 50/50\n",
      "118/118 [==============================] - 1s 6ms/step - loss: 0.0023 - mae: 0.0176\n"
     ]
    }
   ],
   "source": [
    "BATCH_SIZE = 16\n",
    "# es = EarlyStopping(monitor='loss', patience=8)\n",
    "mcp = ModelCheckpoint(filepath='best_model_lstm.h5', monitor='loss', save_best_only=True)\n",
    "mcp2 = ModelCheckpoint(filepath='best_model_gru.h5', monitor='loss', save_best_only=True)\n",
    "history = model.fit(train_data, train_target, batch_size=BATCH_SIZE, callbacks=[mcp], epochs=50)\n",
    "# model2.fit(train_data, train_target, batch_size=BATCH_SIZE, callbacks=[es,mcp2])"
   ]
  },
  {
   "cell_type": "code",
   "execution_count": 226,
   "metadata": {},
   "outputs": [
    {
     "name": "stdout",
     "output_type": "stream",
     "text": [
      "13/13 [==============================] - 0s 2ms/step - loss: 0.0199 - mae: 0.0470\n"
     ]
    },
    {
     "data": {
      "text/plain": [
       "[0.019903011620044708, 0.046975985169410706]"
      ]
     },
     "execution_count": 226,
     "metadata": {},
     "output_type": "execute_result"
    }
   ],
   "source": [
    "model.evaluate(test_data, test_target)"
   ]
  },
  {
   "cell_type": "code",
   "execution_count": 228,
   "metadata": {},
   "outputs": [
    {
     "name": "stdout",
     "output_type": "stream",
     "text": [
      "13/13 [==============================] - 0s 3ms/step\n"
     ]
    },
    {
     "data": {
      "text/plain": [
       "array([ 0.03831294,  0.03894283, -0.00962339, -0.04034249,  0.01968701,\n",
       "        0.04749823,  0.01088853], dtype=float32)"
      ]
     },
     "execution_count": 228,
     "metadata": {},
     "output_type": "execute_result"
    }
   ],
   "source": [
    "model.predict(test_data)[0]"
   ]
  },
  {
   "cell_type": "code",
   "execution_count": 274,
   "metadata": {},
   "outputs": [
    {
     "name": "stdout",
     "output_type": "stream",
     "text": [
      "13/13 [==============================] - 0s 2ms/step\n"
     ]
    },
    {
     "data": {
      "image/png": "[encoded data removed]",
      "text/plain": [
       "<Figure size 640x480 with 1 Axes>"
      ]
     },
     "metadata": {},
     "output_type": "display_data"
    }
   ],
   "source": [
    "plt.plot(range(0,7), model.predict(test_data)[395])\n",
    "plt.plot(range(0,7), test_target[395])\n",
    "plt.legend(['predict','real'])\n",
    "plt.show()"
   ]
  },
  {
   "cell_type": "code",
   "execution_count": 375,
   "metadata": {},
   "outputs": [
    {
     "name": "stdout",
     "output_type": "stream",
     "text": [
      "(1873, 30, 5) (397, 30, 5)\n"
     ]
    }
   ],
   "source": [
    "print(train_data.shape, test_data.shape)"
   ]
  },
  {
   "cell_type": "code",
   "execution_count": 377,
   "metadata": {},
   "outputs": [
    {
     "name": "stdout",
     "output_type": "stream",
     "text": [
      "1134\n"
     ]
    }
   ],
   "source": [
    "print(len(input_data2)-TRAIN_SPLIT+len(input_data1))"
   ]
  },
  {
   "cell_type": "code",
   "execution_count": 417,
   "metadata": {},
   "outputs": [],
   "source": [
    "import tensorflow as tf\n",
    "train_data_multi = tf.data.Dataset.from_tensor_slices((train_data, train_target))\n",
    "train_data_multi = train_data_multi.cache().shuffle(BUFFER_SIZE).batch(len(input_data2)-TRAIN_SPLIT).repeat()\n",
    "\n",
    "val_data_multi = tf.data.Dataset.from_tensor_slices((test_data, test_target))\n",
    "val_data_multi = val_data_multi.batch(len(input_data2)-TRAIN_SPLIT).repeat()\n",
    "\n",
    "model = Sequential()\n",
    "model.add(LSTM(16,activation = 'relu',input_shape = (30,5)))\n",
    "model.add(Dense(7)) # <- 예측 갯수에 따라서 dense 값 수정 할 것(현재 7일 예측)\n",
    "\n",
    "adam = tf.keras.optimizers.Adam(learning_rate=0.01)\n",
    "model.compile(optimizer='adam', loss='mse')"
   ]
  },
  {
   "cell_type": "code",
   "execution_count": 418,
   "metadata": {},
   "outputs": [
    {
     "name": "stdout",
     "output_type": "stream",
     "text": [
      "13/13 [==============================] - 0s 2ms/step\n",
      "(397, 7)\n"
     ]
    }
   ],
   "source": [
    "for x, y in val_data_multi.take(1):\n",
    "    print(model.predict(x).shape)\n",
    "es = EarlyStopping(monitor='val_loss', mode='min', verbose=1, patience = 10)\n",
    "mc = ModelCheckpoint('best_model.h5', monitor='val_loss', save_best_only=True)"
   ]
  },
  {
   "cell_type": "code",
   "execution_count": 435,
   "metadata": {},
   "outputs": [
    {
     "name": "stdout",
     "output_type": "stream",
     "text": [
      "Epoch 1/100\n",
      "117/117 [==============================] - 1s 10ms/step - loss: 0.0010 - val_loss: 0.0067\n",
      "Epoch 2/100\n",
      "117/117 [==============================] - 1s 10ms/step - loss: 0.0010 - val_loss: 0.0058\n",
      "Epoch 3/100\n",
      "117/117 [==============================] - 1s 10ms/step - loss: 0.0010 - val_loss: 0.0073\n",
      "Epoch 4/100\n",
      "117/117 [==============================] - 1s 10ms/step - loss: 9.7348e-04 - val_loss: 0.0063\n",
      "Epoch 5/100\n",
      "117/117 [==============================] - 1s 11ms/step - loss: 9.7313e-04 - val_loss: 0.0057\n",
      "Epoch 6/100\n",
      "117/117 [==============================] - 1s 11ms/step - loss: 9.4042e-04 - val_loss: 0.0054\n",
      "Epoch 7/100\n",
      "117/117 [==============================] - 1s 11ms/step - loss: 9.2574e-04 - val_loss: 0.0056\n",
      "Epoch 8/100\n",
      "117/117 [==============================] - 1s 11ms/step - loss: 9.3216e-04 - val_loss: 0.0063\n",
      "Epoch 9/100\n",
      "117/117 [==============================] - 1s 11ms/step - loss: 8.9872e-04 - val_loss: 0.0058\n",
      "Epoch 10/100\n",
      "117/117 [==============================] - 1s 11ms/step - loss: 9.1183e-04 - val_loss: 0.0065\n",
      "Epoch 11/100\n",
      "117/117 [==============================] - 1s 11ms/step - loss: 8.7171e-04 - val_loss: 0.0056\n",
      "Epoch 12/100\n",
      "117/117 [==============================] - 1s 11ms/step - loss: 8.6297e-04 - val_loss: 0.0058\n",
      "Epoch 13/100\n",
      "117/117 [==============================] - 1s 11ms/step - loss: 8.4802e-04 - val_loss: 0.0054\n",
      "Epoch 14/100\n",
      "117/117 [==============================] - 1s 11ms/step - loss: 8.5818e-04 - val_loss: 0.0047\n",
      "Epoch 15/100\n",
      "117/117 [==============================] - 1s 11ms/step - loss: 8.2470e-04 - val_loss: 0.0047\n",
      "Epoch 16/100\n",
      "117/117 [==============================] - 1s 12ms/step - loss: 8.0423e-04 - val_loss: 0.0041\n",
      "Epoch 17/100\n",
      "117/117 [==============================] - 1s 11ms/step - loss: 7.9660e-04 - val_loss: 0.0047\n",
      "Epoch 18/100\n",
      "117/117 [==============================] - 1s 12ms/step - loss: 8.1350e-04 - val_loss: 0.0040\n",
      "Epoch 19/100\n",
      "117/117 [==============================] - 1s 12ms/step - loss: 7.8854e-04 - val_loss: 0.0043\n",
      "Epoch 20/100\n",
      "117/117 [==============================] - 1s 11ms/step - loss: 7.6493e-04 - val_loss: 0.0041\n",
      "Epoch 21/100\n",
      "117/117 [==============================] - 1s 11ms/step - loss: 8.0136e-04 - val_loss: 0.0050\n",
      "Epoch 22/100\n",
      "117/117 [==============================] - 1s 11ms/step - loss: 7.6629e-04 - val_loss: 0.0046\n",
      "Epoch 23/100\n",
      "117/117 [==============================] - 1s 12ms/step - loss: 7.2640e-04 - val_loss: 0.0041\n",
      "Epoch 24/100\n",
      "117/117 [==============================] - 1s 11ms/step - loss: 7.5304e-04 - val_loss: 0.0040\n",
      "Epoch 25/100\n",
      "117/117 [==============================] - 1s 12ms/step - loss: 7.2216e-04 - val_loss: 0.0042\n",
      "Epoch 26/100\n",
      "117/117 [==============================] - 1s 12ms/step - loss: 7.0731e-04 - val_loss: 0.0038\n",
      "Epoch 27/100\n",
      "117/117 [==============================] - 1s 12ms/step - loss: 7.1325e-04 - val_loss: 0.0043\n",
      "Epoch 28/100\n",
      "117/117 [==============================] - 1s 12ms/step - loss: 6.9981e-04 - val_loss: 0.0036\n",
      "Epoch 29/100\n",
      "117/117 [==============================] - 1s 12ms/step - loss: 6.7358e-04 - val_loss: 0.0037\n",
      "Epoch 30/100\n",
      "117/117 [==============================] - 1s 11ms/step - loss: 7.1917e-04 - val_loss: 0.0036\n",
      "Epoch 31/100\n",
      "117/117 [==============================] - 1s 12ms/step - loss: 6.6956e-04 - val_loss: 0.0036\n",
      "Epoch 32/100\n",
      "117/117 [==============================] - 1s 12ms/step - loss: 6.6311e-04 - val_loss: 0.0035\n",
      "Epoch 33/100\n",
      "117/117 [==============================] - 1s 11ms/step - loss: 6.5756e-04 - val_loss: 0.0041\n",
      "Epoch 34/100\n",
      "117/117 [==============================] - 1s 11ms/step - loss: 6.5248e-04 - val_loss: 0.0038\n",
      "Epoch 35/100\n",
      "117/117 [==============================] - 1s 12ms/step - loss: 6.2081e-04 - val_loss: 0.0035\n",
      "Epoch 36/100\n",
      "117/117 [==============================] - 1s 11ms/step - loss: 6.2742e-04 - val_loss: 0.0040\n",
      "Epoch 37/100\n",
      "117/117 [==============================] - 1s 11ms/step - loss: 6.4256e-04 - val_loss: 0.0043\n",
      "Epoch 38/100\n",
      "117/117 [==============================] - 1s 11ms/step - loss: 6.2239e-04 - val_loss: 0.0035\n",
      "Epoch 39/100\n",
      "117/117 [==============================] - 1s 12ms/step - loss: 6.1161e-04 - val_loss: 0.0034\n",
      "Epoch 40/100\n",
      "117/117 [==============================] - 1s 12ms/step - loss: 5.9364e-04 - val_loss: 0.0035\n",
      "Epoch 41/100\n",
      "117/117 [==============================] - 1s 12ms/step - loss: 5.9274e-04 - val_loss: 0.0037\n",
      "Epoch 42/100\n",
      "117/117 [==============================] - 1s 11ms/step - loss: 5.7893e-04 - val_loss: 0.0033\n",
      "Epoch 43/100\n",
      "117/117 [==============================] - 1s 12ms/step - loss: 5.8370e-04 - val_loss: 0.0038\n",
      "Epoch 44/100\n",
      "117/117 [==============================] - 1s 12ms/step - loss: 5.3313e-04 - val_loss: 0.0036\n",
      "Epoch 45/100\n",
      "117/117 [==============================] - 1s 11ms/step - loss: 5.3321e-04 - val_loss: 0.0036\n",
      "Epoch 46/100\n",
      "117/117 [==============================] - 1s 12ms/step - loss: 5.1784e-04 - val_loss: 0.0039\n",
      "Epoch 47/100\n",
      "117/117 [==============================] - 1s 12ms/step - loss: 5.1543e-04 - val_loss: 0.0036\n",
      "Epoch 48/100\n",
      "117/117 [==============================] - 1s 12ms/step - loss: 5.2285e-04 - val_loss: 0.0036\n",
      "Epoch 49/100\n",
      "117/117 [==============================] - 1s 13ms/step - loss: 4.9694e-04 - val_loss: 0.0036\n",
      "Epoch 50/100\n",
      "117/117 [==============================] - 1s 13ms/step - loss: 4.8314e-04 - val_loss: 0.0037\n",
      "Epoch 51/100\n",
      "117/117 [==============================] - 2s 13ms/step - loss: 4.7262e-04 - val_loss: 0.0031\n",
      "Epoch 52/100\n",
      "117/117 [==============================] - 2s 13ms/step - loss: 5.0294e-04 - val_loss: 0.0040\n",
      "Epoch 53/100\n",
      "117/117 [==============================] - 1s 13ms/step - loss: 4.4766e-04 - val_loss: 0.0038\n",
      "Epoch 54/100\n",
      "117/117 [==============================] - 2s 13ms/step - loss: 4.3765e-04 - val_loss: 0.0037\n",
      "Epoch 55/100\n",
      "117/117 [==============================] - 2s 14ms/step - loss: 4.7647e-04 - val_loss: 0.0036\n",
      "Epoch 56/100\n",
      "117/117 [==============================] - 2s 14ms/step - loss: 4.2608e-04 - val_loss: 0.0038\n",
      "Epoch 57/100\n",
      "117/117 [==============================] - 1s 13ms/step - loss: 4.2126e-04 - val_loss: 0.0038\n",
      "Epoch 58/100\n",
      "117/117 [==============================] - 1s 13ms/step - loss: 4.0999e-04 - val_loss: 0.0041\n",
      "Epoch 59/100\n",
      "117/117 [==============================] - 2s 14ms/step - loss: 3.9403e-04 - val_loss: 0.0039\n",
      "Epoch 60/100\n",
      "117/117 [==============================] - 2s 13ms/step - loss: 3.9826e-04 - val_loss: 0.0036\n",
      "Epoch 61/100\n",
      "117/117 [==============================] - 2s 13ms/step - loss: 3.9000e-04 - val_loss: 0.0036\n",
      "Epoch 61: early stopping\n"
     ]
    }
   ],
   "source": [
    "##########모델생성############### 2\n",
    "history = model.fit(train_data_multi, epochs = 100,\n",
    "                                          batch_size = BATCH_SIZE,\n",
    "                                          steps_per_epoch = len(train_data)//BATCH_SIZE, \n",
    "                                          validation_data = val_data_multi, validation_steps = len(test_data)// BATCH_SIZE, callbacks = [es,mc])"
   ]
  },
  {
   "cell_type": "code",
   "execution_count": 433,
   "metadata": {},
   "outputs": [
    {
     "name": "stdout",
     "output_type": "stream",
     "text": [
      "Epoch 1/100\n",
      "108/108 [==============================] - 1s 10ms/step - loss: 0.0022 - val_loss: 0.0059\n",
      "Epoch 2/100\n",
      "108/108 [==============================] - 1s 9ms/step - loss: 0.0021 - val_loss: 0.0058\n",
      "Epoch 3/100\n",
      "108/108 [==============================] - 1s 10ms/step - loss: 0.0021 - val_loss: 0.0069\n",
      "Epoch 4/100\n",
      "108/108 [==============================] - 1s 9ms/step - loss: 0.0020 - val_loss: 0.0067\n",
      "Epoch 5/100\n",
      "108/108 [==============================] - 1s 10ms/step - loss: 0.0020 - val_loss: 0.0086\n",
      "Epoch 6/100\n",
      "108/108 [==============================] - 1s 10ms/step - loss: 0.0019 - val_loss: 0.0067\n",
      "Epoch 7/100\n",
      "108/108 [==============================] - 1s 10ms/step - loss: 0.0019 - val_loss: 0.0067\n",
      "Epoch 8/100\n",
      "108/108 [==============================] - 1s 10ms/step - loss: 0.0019 - val_loss: 0.0074\n",
      "Epoch 9/100\n",
      "108/108 [==============================] - 1s 10ms/step - loss: 0.0018 - val_loss: 0.0068\n",
      "Epoch 10/100\n",
      "108/108 [==============================] - 1s 10ms/step - loss: 0.0018 - val_loss: 0.0079\n",
      "Epoch 11/100\n",
      "108/108 [==============================] - 1s 10ms/step - loss: 0.0017 - val_loss: 0.0081\n",
      "Epoch 12/100\n",
      "108/108 [==============================] - 1s 10ms/step - loss: 0.0017 - val_loss: 0.0090\n",
      "Epoch 12: early stopping\n"
     ]
    }
   ],
   "source": [
    "##########모델생성###############\n",
    "history = model.fit(train_data_multi, epochs = 100,\n",
    "                                          batch_size = BATCH_SIZE,\n",
    "                                          steps_per_epoch = len(input_data2)/BATCH_SIZE, \n",
    "                                          validation_data = val_data_multi, validation_steps = 14, callbacks = [es,mc])"
   ]
  },
  {
   "cell_type": "code",
   "execution_count": 460,
   "metadata": {},
   "outputs": [],
   "source": [
    "model.save(\"best_model2.h5\")"
   ]
  },
  {
   "cell_type": "code",
   "execution_count": 461,
   "metadata": {},
   "outputs": [
    {
     "name": "stdout",
     "output_type": "stream",
     "text": [
      "13/13 [==============================] - 0s 2ms/step\n"
     ]
    },
    {
     "data": {
      "image/png": "[encoded data removed]",
      "text/plain": [
       "<Figure size 640x480 with 1 Axes>"
      ]
     },
     "metadata": {},
     "output_type": "display_data"
    }
   ],
   "source": [
    "plt.plot(range(0,7), model.predict(test_data)[395])\n",
    "plt.plot(range(0,7), test_target[395])\n",
    "plt.legend(['predict','real'])\n",
    "plt.show()"
   ]
  },
  {
   "cell_type": "markdown",
   "metadata": {},
   "source": [
    "## 적조 예측"
   ]
  },
  {
   "cell_type": "code",
   "execution_count": 519,
   "metadata": {},
   "outputs": [
    {
     "name": "stdout",
     "output_type": "stream",
     "text": [
      "14/14 [==============================] - 0s 2ms/step\n",
      "(434, 7)\n"
     ]
    }
   ],
   "source": [
    "for x, y in train_data_multi.take(1):\n",
    "    print(model.predict(x).shape)"
   ]
  },
  {
   "cell_type": "code",
   "execution_count": 520,
   "metadata": {},
   "outputs": [
    {
     "name": "stdout",
     "output_type": "stream",
     "text": [
      "14/14 [==============================] - 0s 2ms/step\n"
     ]
    }
   ],
   "source": [
    "# y값 -> 실제 값 DataFrame에 저장\n",
    "\n",
    "y_np_array = np.array(y)\n",
    "real_value = pd.DataFrame(y_np_array)\n",
    "# multi_step_model.predict 값 ->/ 예측 값 DataFrame에 저장\n",
    "predict_value = pd.DataFrame(model.predict(x))"
   ]
  },
  {
   "cell_type": "code",
   "execution_count": 521,
   "metadata": {},
   "outputs": [],
   "source": [
    "result = pd.concat([real_value,predict_value], axis=1)\n",
    "result.columns = ['real_1','real_2','real_3','real_4','real_5', 'real_6', 'real_7','predict_1','predict_2','predict_3', 'predict_4', 'predict_5', 'predict_6', 'predict_7']"
   ]
  },
  {
   "cell_type": "code",
   "execution_count": 522,
   "metadata": {},
   "outputs": [
    {
     "data": {
      "text/html": [
       "<div>\n",
       "<style scoped>\n",
       "    .dataframe tbody tr th:only-of-type {\n",
       "        vertical-align: middle;\n",
       "    }\n",
       "\n",
       "    .dataframe tbody tr th {\n",
       "        vertical-align: top;\n",
       "    }\n",
       "\n",
       "    .dataframe thead th {\n",
       "        text-align: right;\n",
       "    }\n",
       "</style>\n",
       "<table border=\"1\" class=\"dataframe\">\n",
       "  <thead>\n",
       "    <tr style=\"text-align: right;\">\n",
       "      <th></th>\n",
       "      <th>real_1</th>\n",
       "      <th>real_2</th>\n",
       "      <th>real_3</th>\n",
       "      <th>real_4</th>\n",
       "      <th>real_5</th>\n",
       "      <th>real_6</th>\n",
       "      <th>real_7</th>\n",
       "      <th>predict_1</th>\n",
       "      <th>predict_2</th>\n",
       "      <th>predict_3</th>\n",
       "      <th>predict_4</th>\n",
       "      <th>predict_5</th>\n",
       "      <th>predict_6</th>\n",
       "      <th>predict_7</th>\n",
       "    </tr>\n",
       "  </thead>\n",
       "  <tbody>\n",
       "    <tr>\n",
       "      <th>0</th>\n",
       "      <td>0.02667</td>\n",
       "      <td>0.01333</td>\n",
       "      <td>0.00889</td>\n",
       "      <td>0.00444</td>\n",
       "      <td>0.00296</td>\n",
       "      <td>0.00148</td>\n",
       "      <td>0.00099</td>\n",
       "      <td>0.038559</td>\n",
       "      <td>0.028147</td>\n",
       "      <td>0.004624</td>\n",
       "      <td>0.012897</td>\n",
       "      <td>0.002012</td>\n",
       "      <td>-0.014476</td>\n",
       "      <td>-0.002002</td>\n",
       "    </tr>\n",
       "    <tr>\n",
       "      <th>1</th>\n",
       "      <td>0.00000</td>\n",
       "      <td>0.00000</td>\n",
       "      <td>0.00000</td>\n",
       "      <td>0.00000</td>\n",
       "      <td>0.00000</td>\n",
       "      <td>0.00000</td>\n",
       "      <td>0.00000</td>\n",
       "      <td>0.018362</td>\n",
       "      <td>0.012252</td>\n",
       "      <td>0.005184</td>\n",
       "      <td>0.008589</td>\n",
       "      <td>0.006190</td>\n",
       "      <td>0.000486</td>\n",
       "      <td>0.002628</td>\n",
       "    </tr>\n",
       "    <tr>\n",
       "      <th>2</th>\n",
       "      <td>0.00000</td>\n",
       "      <td>0.00000</td>\n",
       "      <td>0.00000</td>\n",
       "      <td>0.00000</td>\n",
       "      <td>0.00000</td>\n",
       "      <td>0.00000</td>\n",
       "      <td>0.00000</td>\n",
       "      <td>0.000938</td>\n",
       "      <td>-0.000125</td>\n",
       "      <td>0.001224</td>\n",
       "      <td>0.000153</td>\n",
       "      <td>-0.000650</td>\n",
       "      <td>-0.000430</td>\n",
       "      <td>-0.005090</td>\n",
       "    </tr>\n",
       "    <tr>\n",
       "      <th>3</th>\n",
       "      <td>0.00000</td>\n",
       "      <td>0.00000</td>\n",
       "      <td>0.00000</td>\n",
       "      <td>0.00000</td>\n",
       "      <td>0.00000</td>\n",
       "      <td>0.00000</td>\n",
       "      <td>0.00000</td>\n",
       "      <td>-0.000967</td>\n",
       "      <td>0.004808</td>\n",
       "      <td>-0.000295</td>\n",
       "      <td>-0.002805</td>\n",
       "      <td>-0.007410</td>\n",
       "      <td>-0.007836</td>\n",
       "      <td>0.001086</td>\n",
       "    </tr>\n",
       "    <tr>\n",
       "      <th>4</th>\n",
       "      <td>0.00000</td>\n",
       "      <td>0.00000</td>\n",
       "      <td>0.00000</td>\n",
       "      <td>0.00000</td>\n",
       "      <td>0.00000</td>\n",
       "      <td>0.00000</td>\n",
       "      <td>0.00000</td>\n",
       "      <td>0.009430</td>\n",
       "      <td>0.000065</td>\n",
       "      <td>0.001481</td>\n",
       "      <td>-0.001947</td>\n",
       "      <td>-0.002179</td>\n",
       "      <td>0.002995</td>\n",
       "      <td>0.000087</td>\n",
       "    </tr>\n",
       "    <tr>\n",
       "      <th>...</th>\n",
       "      <td>...</td>\n",
       "      <td>...</td>\n",
       "      <td>...</td>\n",
       "      <td>...</td>\n",
       "      <td>...</td>\n",
       "      <td>...</td>\n",
       "      <td>...</td>\n",
       "      <td>...</td>\n",
       "      <td>...</td>\n",
       "      <td>...</td>\n",
       "      <td>...</td>\n",
       "      <td>...</td>\n",
       "      <td>...</td>\n",
       "      <td>...</td>\n",
       "    </tr>\n",
       "    <tr>\n",
       "      <th>429</th>\n",
       "      <td>0.00000</td>\n",
       "      <td>0.00000</td>\n",
       "      <td>0.00000</td>\n",
       "      <td>0.00000</td>\n",
       "      <td>0.00000</td>\n",
       "      <td>0.00000</td>\n",
       "      <td>0.00000</td>\n",
       "      <td>0.001510</td>\n",
       "      <td>-0.002003</td>\n",
       "      <td>0.004435</td>\n",
       "      <td>0.000873</td>\n",
       "      <td>-0.003100</td>\n",
       "      <td>0.000308</td>\n",
       "      <td>-0.004019</td>\n",
       "    </tr>\n",
       "    <tr>\n",
       "      <th>430</th>\n",
       "      <td>0.00000</td>\n",
       "      <td>0.00000</td>\n",
       "      <td>0.00000</td>\n",
       "      <td>0.00000</td>\n",
       "      <td>0.00000</td>\n",
       "      <td>0.00000</td>\n",
       "      <td>0.00000</td>\n",
       "      <td>-0.000331</td>\n",
       "      <td>0.001436</td>\n",
       "      <td>-0.003051</td>\n",
       "      <td>-0.001081</td>\n",
       "      <td>-0.002089</td>\n",
       "      <td>-0.003069</td>\n",
       "      <td>0.001416</td>\n",
       "    </tr>\n",
       "    <tr>\n",
       "      <th>431</th>\n",
       "      <td>0.00000</td>\n",
       "      <td>0.00000</td>\n",
       "      <td>0.00000</td>\n",
       "      <td>0.00000</td>\n",
       "      <td>0.00000</td>\n",
       "      <td>0.00000</td>\n",
       "      <td>0.00000</td>\n",
       "      <td>0.010682</td>\n",
       "      <td>0.001831</td>\n",
       "      <td>-0.002399</td>\n",
       "      <td>0.004014</td>\n",
       "      <td>0.005740</td>\n",
       "      <td>0.002698</td>\n",
       "      <td>0.000226</td>\n",
       "    </tr>\n",
       "    <tr>\n",
       "      <th>432</th>\n",
       "      <td>0.12000</td>\n",
       "      <td>0.08000</td>\n",
       "      <td>0.04000</td>\n",
       "      <td>0.02667</td>\n",
       "      <td>0.01333</td>\n",
       "      <td>0.00889</td>\n",
       "      <td>0.00444</td>\n",
       "      <td>0.125085</td>\n",
       "      <td>0.052177</td>\n",
       "      <td>0.024723</td>\n",
       "      <td>0.018052</td>\n",
       "      <td>0.010782</td>\n",
       "      <td>-0.001280</td>\n",
       "      <td>-0.031852</td>\n",
       "    </tr>\n",
       "    <tr>\n",
       "      <th>433</th>\n",
       "      <td>0.00000</td>\n",
       "      <td>0.00000</td>\n",
       "      <td>0.00000</td>\n",
       "      <td>0.00000</td>\n",
       "      <td>0.00000</td>\n",
       "      <td>0.00000</td>\n",
       "      <td>0.00000</td>\n",
       "      <td>0.002004</td>\n",
       "      <td>-0.002931</td>\n",
       "      <td>-0.002141</td>\n",
       "      <td>-0.000489</td>\n",
       "      <td>-0.010920</td>\n",
       "      <td>-0.014002</td>\n",
       "      <td>-0.011837</td>\n",
       "    </tr>\n",
       "  </tbody>\n",
       "</table>\n",
       "<p>434 rows × 14 columns</p>\n",
       "</div>"
      ],
      "text/plain": [
       "      real_1   real_2   real_3   real_4   real_5   real_6   real_7  predict_1  \\\n",
       "0    0.02667  0.01333  0.00889  0.00444  0.00296  0.00148  0.00099   0.038559   \n",
       "1    0.00000  0.00000  0.00000  0.00000  0.00000  0.00000  0.00000   0.018362   \n",
       "2    0.00000  0.00000  0.00000  0.00000  0.00000  0.00000  0.00000   0.000938   \n",
       "3    0.00000  0.00000  0.00000  0.00000  0.00000  0.00000  0.00000  -0.000967   \n",
       "4    0.00000  0.00000  0.00000  0.00000  0.00000  0.00000  0.00000   0.009430   \n",
       "..       ...      ...      ...      ...      ...      ...      ...        ...   \n",
       "429  0.00000  0.00000  0.00000  0.00000  0.00000  0.00000  0.00000   0.001510   \n",
       "430  0.00000  0.00000  0.00000  0.00000  0.00000  0.00000  0.00000  -0.000331   \n",
       "431  0.00000  0.00000  0.00000  0.00000  0.00000  0.00000  0.00000   0.010682   \n",
       "432  0.12000  0.08000  0.04000  0.02667  0.01333  0.00889  0.00444   0.125085   \n",
       "433  0.00000  0.00000  0.00000  0.00000  0.00000  0.00000  0.00000   0.002004   \n",
       "\n",
       "     predict_2  predict_3  predict_4  predict_5  predict_6  predict_7  \n",
       "0     0.028147   0.004624   0.012897   0.002012  -0.014476  -0.002002  \n",
       "1     0.012252   0.005184   0.008589   0.006190   0.000486   0.002628  \n",
       "2    -0.000125   0.001224   0.000153  -0.000650  -0.000430  -0.005090  \n",
       "3     0.004808  -0.000295  -0.002805  -0.007410  -0.007836   0.001086  \n",
       "4     0.000065   0.001481  -0.001947  -0.002179   0.002995   0.000087  \n",
       "..         ...        ...        ...        ...        ...        ...  \n",
       "429  -0.002003   0.004435   0.000873  -0.003100   0.000308  -0.004019  \n",
       "430   0.001436  -0.003051  -0.001081  -0.002089  -0.003069   0.001416  \n",
       "431   0.001831  -0.002399   0.004014   0.005740   0.002698   0.000226  \n",
       "432   0.052177   0.024723   0.018052   0.010782  -0.001280  -0.031852  \n",
       "433  -0.002931  -0.002141  -0.000489  -0.010920  -0.014002  -0.011837  \n",
       "\n",
       "[434 rows x 14 columns]"
      ]
     },
     "execution_count": 522,
     "metadata": {},
     "output_type": "execute_result"
    }
   ],
   "source": [
    "result"
   ]
  },
  {
   "cell_type": "code",
   "execution_count": 523,
   "metadata": {},
   "outputs": [],
   "source": [
    "for col in result.columns:    \n",
    "    for i in range(0,len(result[col])):\n",
    "        if int(result[col][i]) < 0:\n",
    "            result[col][i] = 0\n",
    "        if int(result[col][i]) > 1:\n",
    "            result[col][i] = 1"
   ]
  },
  {
   "cell_type": "markdown",
   "metadata": {},
   "source": [
    "### 적조발생 수치 계산"
   ]
  },
  {
   "cell_type": "code",
   "execution_count": 524,
   "metadata": {},
   "outputs": [],
   "source": [
    "red_tied_rate = 0.1  #적조 발생 밀도 기준치\n",
    "TP = result.real_1[(result['real_1'] >= red_tied_rate) & (result['predict_1'] >= red_tied_rate)].count()\n",
    "TN = result.real_1[(result['real_1'] < red_tied_rate) & (result['predict_1'] < red_tied_rate)].count()\n",
    "FN = result.real_1[(result['real_1'] >= red_tied_rate) & (result['predict_1'] < red_tied_rate)].count()\n",
    "FP = result.real_1[(result['real_1'] < red_tied_rate) & (result['predict_1'] >= red_tied_rate)].count()\n",
    "Pr = result.real_1[(result['real_1'] >= red_tied_rate)].count()\n",
    "Nr = result.real_1[(result['real_1'] < red_tied_rate)].count()\n",
    "Pp = result.real_1[(result['predict_1'] >= red_tied_rate)].count()\n",
    "Np = result.real_1[(result['real_1'] < red_tied_rate)].count()\n",
    "All = Pr + Nr"
   ]
  },
  {
   "cell_type": "code",
   "execution_count": 525,
   "metadata": {},
   "outputs": [],
   "source": [
    "# TP2 = result.real[(result['real_3'] >= red_tied_rate) & (result['predict_3'] >= red_tied_rate)].count()\n",
    "# TN2 = result.real[(result['real_3'] < red_tied_rate) & (result['predict_3'] < red_tied_rate)].count()\n",
    "# FN2 = result.real[(result['real_3'] >= red_tied_rate) & (result['predict_3'] < red_tied_rate)].count()\n",
    "# FP2 = result.real[(result['real_3'] < red_tied_rate) & (result['predict_3'] >= red_tied_rate)].count()\n",
    "# Pr2 = result.real[(result['real_3'] >= red_tied_rate)].count()\n",
    "# Nr2 = result.real[(result['real_3'] < red_tied_rate)].count()\n",
    "# Pp2 = result.real[(result['predict_3'] >= red_tied_rate)].count()\n",
    "# Np2 = result.real[(result['real_3'] < red_tied_rate)].count()\n",
    "# All2 = Pr2 + Nr2"
   ]
  },
  {
   "cell_type": "markdown",
   "metadata": {},
   "source": [
    "### 1일차 적조 예측"
   ]
  },
  {
   "cell_type": "code",
   "execution_count": 526,
   "metadata": {},
   "outputs": [
    {
     "name": "stdout",
     "output_type": "stream",
     "text": [
      "TP = 14\n",
      "TN = 419\n",
      "FN = 1\n",
      "FP = 0\n",
      "Pr = 15\n",
      "Nr = 419\n",
      "Pp = 14\n",
      "Np = 419\n",
      "All = 434\n"
     ]
    }
   ],
   "source": [
    "print(\"TP = {}\".format(TP))\n",
    "print(\"TN = {}\".format(TN))\n",
    "print(\"FN = {}\".format(FN))\n",
    "print(\"FP = {}\".format(FP))\n",
    "print(\"Pr = {}\".format(Pr))\n",
    "print(\"Nr = {}\".format(Nr))\n",
    "print(\"Pp = {}\".format(Pp))\n",
    "print(\"Np = {}\".format(Np))\n",
    "print(\"All = {}\".format(All))"
   ]
  },
  {
   "cell_type": "code",
   "execution_count": 527,
   "metadata": {},
   "outputs": [
    {
     "name": "stdout",
     "output_type": "stream",
     "text": [
      "Precision = 1.0\n",
      "Recall = 0.9333333333333333\n",
      "F1_Score = 0.9655172413793104\n"
     ]
    }
   ],
   "source": [
    "Precision = TP /(TP+FP)\n",
    "Recall = TP /(TP+FN)\n",
    "F1_Score = (2*Precision*Recall) / (Precision + Recall)\n",
    "print(\"Precision = {}\".format(Precision))\n",
    "print(\"Recall = {}\".format(Recall))\n",
    "print(\"F1_Score = {}\".format(F1_Score))"
   ]
  },
  {
   "cell_type": "code",
   "execution_count": 486,
   "metadata": {},
   "outputs": [
    {
     "name": "stdout",
     "output_type": "stream",
     "text": [
      "Accuracy = 0.9748110831234257\n",
      "Error Rate = 0.02518891687657431\n",
      "Sensitivity = 0.5\n",
      "Specificity = 0.9772151898734177\n",
      "Precision = 0.1\n",
      "Recall = 0.5\n",
      "F1_Score = 0.16666666666666669\n"
     ]
    }
   ],
   "source": [
    "print(\"Accuracy = {}\".format((TP+TN)/ All))\n",
    "print(\"Error Rate = {}\".format((FP+FN)/ All))\n",
    "print(\"Sensitivity = {}\".format(TP /Pr))\n",
    "print(\"Specificity = {}\".format(TN /Nr))\n",
    "print(\"Precision = {}\".format(Precision))\n",
    "print(\"Recall = {}\".format(Recall))\n",
    "print(\"F1_Score = {}\".format(F1_Score))"
   ]
  },
  {
   "cell_type": "code",
   "execution_count": 487,
   "metadata": {},
   "outputs": [
    {
     "data": {
      "text/plain": [
       "<AxesSubplot:>"
      ]
     },
     "execution_count": 487,
     "metadata": {},
     "output_type": "execute_result"
    },
    {
     "data": {
      "image/png": "[encoded data removed]",
      "text/plain": [
       "<Figure size 640x480 with 1 Axes>"
      ]
     },
     "metadata": {},
     "output_type": "display_data"
    }
   ],
   "source": [
    "result[['real_1','predict_1']].plot()"
   ]
  },
  {
   "cell_type": "code",
   "execution_count": 552,
   "metadata": {},
   "outputs": [
    {
     "data": {
      "image/png": "[encoded data removed]",
      "text/plain": [
       "<Figure size 1200x800 with 1 Axes>"
      ]
     },
     "metadata": {},
     "output_type": "display_data"
    }
   ],
   "source": [
    "import platform\n",
    "\n",
    "if\tplatform.system()\t==\t'Windows':\n",
    "    plt.rc('font',\tfamily='Malgun Gothic')\n",
    "else:\n",
    "    plt.rc('font',\tfamily='AppleGothic')\n",
    "\n",
    "\n",
    "x_range = range(len(result['real_1'][305:375]))\n",
    "plt.rcParams['figure.figsize'] = (12,8)\n",
    "\n",
    "plt.plot(x_range, result[f'predict_{1}'][305:375])\n",
    "plt.hlines(0.1, 0, 70, color='red', linestyle='--', linewidth = 1)\n",
    "plt.text(11,0.13, \"적조 경보 기준\", color='red', fontsize=25)\n",
    "plt.xticks([5,15,25,35,45,55,65], [\"1일후\",\"2일후\",\"3일후\",\"4일후\",\"5일후\",\"6일후\",\"7일후\"])\n",
    "plt.show()"
   ]
  }
 ],
 "metadata": {
  "kernelspec": {
   "display_name": "Python 3.9.13 ('EV_PY39')",
   "language": "python",
   "name": "python3"
  },
  "language_info": {
   "codemirror_mode": {
    "name": "ipython",
    "version": 3
   },
   "file_extension": ".py",
   "mimetype": "text/x-python",
   "name": "python",
   "nbconvert_exporter": "python",
   "pygments_lexer": "ipython3",
   "version": "3.9.13"
  },
  "orig_nbformat": 4,
  "vscode": {
   "interpreter": {
    "hash": "d1dde8d3f1fc6169eb2afb9c884f1482ff31994a855398e316a83a9dc8ff488b"
   }
  }
 },
 "nbformat": 4,
 "nbformat_minor": 2
}
