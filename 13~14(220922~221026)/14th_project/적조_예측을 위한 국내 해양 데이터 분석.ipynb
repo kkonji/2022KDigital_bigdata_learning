{
 "cells": [
  {
   "cell_type": "markdown",
   "id": "7bdef54c",
   "metadata": {
    "id": "7bdef54c"
   },
   "source": [
    "# **적조 예측을 위한 국내 해양데이터 분석** #\n",
    "\n",
    "\n",
    "## 부산대학교 정보융합공학과 김형건, 김태훈, 손기수 ##\n",
    "\n",
    "---\n",
    "### 주제를 선정 배경 - 적조 예측 ###\n",
    "- **적조 현상은 막대한 피해금액이 발생됩니다.**\n",
    "- **이를 방지하기 위해서는 적조 예측이 필요합니다.**\n",
    "- **그러나, 기존 데이터 수집 방법은 많은 비용이 요구됩니다.**\n",
    "- **JOISS 등의 공개 데이터를 활용하여서 데이터 수집 비용을 절감하고자 시도하였습니다.**\n",
    "    \n",
    "#### 본 분석에서는 데이터를 다음과 같이 활용하였습니다. ####\n",
    "![process](https://i.imgur.com/syo9GHk.png)\n",
    "> **데이터 활용 순서**\n",
    "\n",
    "- **적조의 요인을 분석**하여 관련된 데이터 선정하였습니다. \n",
    "- 이후 선정된 **데이터 간의 조합** 및 **전처리**를 수행하였습니다.\n",
    "- 가공한 데이터를 사용하여 **모델 형성** 및 **예측값을 분석**하였습니다.\n",
    "---"
   ]
  },
  {
   "cell_type": "markdown",
   "id": "fd46bb6e",
   "metadata": {
    "id": "KoN8tQyr9eWc"
   },
   "source": [
    "# **목차** #\n",
    "\n",
    "## **1.서론** ##\n",
    "- **1.1.적조와 코클로디니움**\n",
    "- **1.2.코클로디니움의 확산**\n",
    "- **1.3.코클로디니움의 대규모 발생 원인**\n",
    "    \n",
    "## **2.데이터 활용 및 분석** ##\n",
    "- **2.1.데이터 추출**\n",
    "- **2.2.데이터 정제**\n",
    "- **2.3.데이터 활용**\n",
    "- **2.4.데이터 분석**\n",
    "\n",
    "## **3.결론** ##\n",
    "- **3.1.기대효과 및 의의**\n",
    "- **3.2.기존 적조 예측 모델 소개**\n",
    "\n",
    "## **4.참고문헌** ##\n",
    "\n",
    "## **5.부록** ##\n",
    "- **5.1.전체 수행 코드**\n",
    "- **5.2.적조 밀도 데이터 크롤링 코드**\n",
    "---"
   ]
  },
  {
   "cell_type": "markdown",
   "id": "ikxGcOQqzCOW",
   "metadata": {
    "id": "ikxGcOQqzCOW"
   },
   "source": [
    "---\n",
    "## 1. 서론 ##\n",
    "\n",
    "### 1.1 적조와 코클로디니움 ###\n",
    "\n",
    "\n",
    "![fig1](https://i.imgur.com/CBhGDI3.png)\n",
    "> **그림 1. 적조로 인한 피해 금액**\n",
    "\n",
    "**적조**란 플랑크톤이 대량으로 번식하여서 **바닷물의 색이 변하는 현상**을 말합니다.\n",
    "\n",
    "적조로 인해서 **수산업 등에 막대한 피해가 꾸준히 발생**하고 있습니다.\n",
    "\n",
    "**적조 피해 금액**이 낮아지는 추세이지만 여전히 **수백억**에 달합니다.\n",
    "\n",
    "\n",
    "![fig2](https://i.imgur.com/GYvMaDe.png)\n",
    "> **그림 2. 연도별 최초 적조 생물군 발생 비율**\n",
    "\n",
    "우리 나라에서 발생하는 유해 적조 생물을 분석한 결과 주로 **코클로디니움(Coholdinium)** 으로 나타났습니다.\n",
    "\n",
    "\n",
    "![fig3](https://i.imgur.com/GWQfZFH.png)\n",
    "> **그림 3. 연도별 최초 적조 생물군 발생 비율**\n",
    "\n",
    "2002년에서 2013년도 국내 코클로디니움 발생 지역을 분석한 결과 주로 **남해안**과 **남해안에서 동해안으로 분포**하는 것으로 나타났습니다.\n",
    "\n",
    "\n",
    "### 1.2 적조와 코클로디니움 ###\n",
    "\n",
    "![fig4](https://i.imgur.com/pP3OKh0.png)\n",
    "> **그림 4. 우리나라 근해의 해류**\n",
    "\n",
    "적조는 전해역에서 발생이 가능하지만, **국내 최초 발생지는 남해**인 것으로 조사되었습니다.\n",
    "\n",
    "**남해에서 발생된 적조**가 **대마 난류에 의해서 동해로 확산**됩니다.\n",
    "\n",
    "<img src=\"https://i.imgur.com/SpexMcr.png\" width=\"600px\">\n",
    "\n",
    "#### **그림 5. 국내 코클로디니움 최초 발생 지역** ####\n",
    "\n",
    "**국내 적조 탐지**는 **최초 발생 지역에 대한 적조 현상 예측이 중요**합니다.\n",
    "본 분석에서는 **국내 적조 최초 발생 지역인 남해에 집중**하였습니다.\n",
    "\n",
    "\n",
    "### 1.3 코클로디니움의 대규모 발생 원인 ###\n",
    "\n",
    "![fig6](https://i.imgur.com/hUJy5DE.png)\n",
    "> **그림 6. 09~20년도 월별 코클로디니움 발생 빈도**\n",
    "\n",
    "기존에 알려진 **일반 적조 현상의 원인**은 **수온, 일조량, 강수량 상승**입니다.\n",
    "\n",
    "**강수의 경우, 육지의 영양염류 유입**으로 인한 **부영양화**로 **대규모 적조를 유발**합니다.\n",
    "\n",
    "**세 가지 요건이 갖추어지는 여름철(하반기)에 코클로디니움의 발생 빈도가 증가**한다는 것을 확인하였습니다.\n",
    "\n",
    "![fig7](https://i.imgur.com/JO15PC9.png)\n",
    "> **그림 7. 해양+기상 데이터와 코클로디니움 밀도의 상관관계 분석**\n",
    "\n",
    "저희는 **일반 적조가 아닌 코클로디니움의 관련 요인을 분석**하고자 하였습니다.\n",
    "\n",
    "**JOISS 데이터인 화양지역 바다 데이터와 코클로디니움 밀도간의 상관관계 분석을 수행**하였습니다.\n",
    "\n",
    "분석 결과, 기존에 적조 관련 원인으로 알려진 **수온** 외에도 **염분, 풍속**이 **코클로디니움과 상관 계수가 높다**는 것을 분석하였습니다.\n",
    "\n",
    "데이터 활용 부분에서 코클로디니움을 탐지하기 위해서 **수온, 일조량, 강수량과 염분, 풍속**을 **주요 요인**으로 사용하였습니다.\n",
    "\n",
    "---"
   ]
  },
  {
   "cell_type": "markdown",
   "id": "434afec5",
   "metadata": {},
   "source": [
    "---\n",
    "## 2. 데이터 활용 및 분석 ##\n",
    "\n",
    "\n",
    "\n",
    "### 2.1 데이터 추출 ###\n",
    "\n",
    "![data2](https://i.imgur.com/xtZ7gqe.png)\n",
    "> **데이터 추출 및 조합**\n",
    "\n",
    "저희는 JOISS 및 연계 기관 등의 공공데이터 4 개를 활용하여서 적조 최초 발생 위치인 고흥, 여수 위치에 대한 적조, 해수, 기상 데이터를 조합하였습니다.\n",
    "\n",
    "조합한 데이터 예시는 위 그림과 같습니다.\n",
    "\n",
    "*참고) Wtemp-수온, Solidity-염분, WindSpeed-풍속, Temp-기온, Sunshine-일조량, Rainfall-강수량, Density-적조 밀도*\n",
    "*참고) 수온, 염분, 풍속, 기온은 평균 값을, 일조량, 강수량은 총합 값을, 적조 밀도는 최대 값을 사용*\n",
    "\n",
    "\n",
    "### 2.2 데이터 정제 ###\n",
    "\n",
    "![fig8](https://i.imgur.com/oFGfDGe.png)\n",
    "> **그림 8. 전처리 작업 전 데이터**\n",
    "\n",
    "데이터 조합한 순수한 데이터를 시각화한 그래프입니다.\n",
    "\n",
    "**이상 데이터가 존재**하는 것을 확인할 수 있습니다.\n",
    "\n",
    "특히 이상 데이터로 인해서 기온의 그래프는 위쪽으로, 적조 밀도의 경우아랫쪽으로 편향되었습니다.\n",
    "\n",
    "저희는 분석에 앞서 일반적으로 수행하는 전처리 외에도 **데이터를 직접 분석하는 추가 수작업 전처리를 아래와 같이 진행**하였습니다.\n",
    "\n",
    "![preprocessing](https://i.imgur.com/sltsoVW.png)\n",
    "> **사용한 전처리 방법**\n",
    "\n",
    "#### 1. 추가 이상치 제거 #### \n",
    "\n",
    "사전 조사를 통해서 **현실적이지 않은 값을 기기 오작동으로 판단하고 제거**하였습니다.\n",
    "\n",
    "*예) 염분양 10 이하 - 바닷물은 염분양이 10 이하가 될 수 없음, 기온 영하 -33.2도 이하*\n",
    "\n",
    "#### 2. 학습데이터 균형 조율 #### \n",
    "\n",
    "학습 모델의 목적에 맞추어서 **적조가 발생하지 않은 2년의 데이터를 삭제**하였습니다.\n",
    "\n",
    "*참고)시계열 데이터에서는 예측하고자 하는 대상의 값이 존재하지 않는 구간이 많은 경우에 모델 형성시 성능저하를 일으키기 때문에 제거*\n",
    "\n",
    "#### 3. 임계치 보정 #### \n",
    "\n",
    "적조(코클로디니움)의 밀도 값의 최대-최소 값의 범위가 넓었습니다.\n",
    "원활한 학습을 위해서 **유의미한 값을 고려**하여서 **상하단 코딩을 수행**하였습니다.\n",
    "\n",
    "*참고) 데이터 적조 밀도 값 범위 : 1 ~ 34800*\n",
    "\n",
    "*참고) 실제 해양수산부에서 적조로 판단하는 밀도 : 적조 예보 - 10, 적조 주의보 - 100, 적조 경보 - 1000*\n",
    "\n",
    "![fig9](https://i.imgur.com/fk6hi7u.png)\n",
    "> **그림 9. 전처리 작업 후 데이터**\n",
    "\n",
    "일반적인 전처리 및 수작업 전처리를 수행 이후의 데이터를 시각화한 그래프입니다.\n",
    "\n",
    "**이상 데이터가 제거**되어 편향되지 않은 그래프가 되었습니다.\n",
    "\n",
    "해당 데이터를 사용하여서 모델 구성을 수행하였습니다.\n",
    "\n",
    "\n",
    "### 2.3 데이터 활용 ###\n",
    "\n",
    "#### 예측 모델의 딥러닝 기법 선정 ####\n",
    "\n",
    "![fig10](https://i.imgur.com/OCTU5Sg.png)\n",
    "> **그림 10. LSTM Network**\n",
    "\n",
    "**LSTM Network는 새로운 입력 값과 이전 레이어에서 생성된 값들을 동시에 고려**합니다. \n",
    "\n",
    "이러한 특징 때문에 장, 단기간 **시계열 예측에 주로 사용**됩니다. \n",
    "\n",
    "**본 분석에서는 시간의 경과에 따른 적조 발생을 예측하기위해서 LSTM 모델을 선택**하였습니다.\n",
    "\n",
    "- 1970년 이후 코클라디니움 출현율 상승 추세\n",
    "- 기후온난화 등의 장기간의 점진적인 변화 고려 필요\n",
    "- 긴 의존 기간을 필요로 하는 학습 수행시 우수한 성능\n",
    "\n",
    "<img src=\"https://i.imgur.com/S1FmyZD.png\" height=\"100px\" width=\"300px\">\n",
    "\n",
    "\n",
    "#### **RNN, LSTM 예측값 비교** ####\n",
    "\n",
    "**시계열 데이터를 분석하는 모델은 RNN과 LSTM** 이 존재합니다.\n",
    "\n",
    "실험 결과 본 분석에는 **LSTM이 더 적합한 것을 확인**하였습니다.\n",
    "\n",
    "\n",
    "#### 최적 예측 모델 탐색 과정 ####\n",
    "\n",
    "![fig11](https://i.imgur.com/w0eBGGM.png)\n",
    "> **그림 11. PCA(주성분 분석) 적용 data 활용 적조예측 모델**\n",
    "\n",
    "성능 개선을 위해서 **주성분 분석을 수행**하였습니다.\n",
    "\n",
    "그 결과 차원 감소로 인해 생기는 **학습 효과 보다 정보 손실이 더욱 큰 것을 확인**하였습니다.\n",
    "\n",
    "최종 모델 구축에서는 주성분 분석을 사용하지 않았습니다.\n",
    "\n",
    "![fig12](https://i.imgur.com/PfAYxA6.png)\n",
    "> **그림 12. Hypterparameter 최적화 전 예측 모델 결과 **\n",
    "\n",
    "성능 개선을 위해서 모델의 **Hyperparameter 최적화를 수행**하였습니다.\n",
    "\n",
    "*최적화 탐색 대상 : layer, Activate function, Epoch, Batch size, Prediction preiod, Optimizer, Loss function, learning rate, Val setp*\n",
    "\n",
    "위 그림은 모델에 대한 Hyperparameter 최적화 이전의 예측 그래프 입니다.\n",
    "\n",
    "\n",
    "#### 예측 모델 구상 ####\n",
    "\n",
    "![fig13](https://i.imgur.com/cx0ShVr.png)\n",
    "> **그림 13. 남해안 적조발생 해역(2011~2021)**\n",
    "\n",
    "- Step1 모델 훈련 : 여수(학동), 고흥(발포) 조위관측소 데이터\n",
    "- Step2 모델 검증 : 여후(화양) 연안정지관측 데이터\n",
    "- Step3 코클로디니움 밀도 100cells/ml 이상 예상일 검출 **(적조주의보 기준)**\n",
    "- Step4 모델 평가 : Accuracy, Recall, Precision\n",
    "\n",
    "![option1](https://i.imgur.com/9FPGAxm.png)\n",
    "> **모델 최종 설정 값**\n",
    "\n",
    "위 그림과 같이 탐색을 통해서 최적의 모델 Hyperparameter를 설정하였습니다.\n",
    "\n",
    "\n",
    "### 2.4 데이터 분석 ###\n",
    "\n",
    "\n",
    "#### 예측 결과 ####\n",
    "\n",
    "![fig14](https://i.imgur.com/cOmRcZX.png)\n",
    "> **그림 14. 코클로디니움 밀도 예측 그래프**\n",
    "\n",
    "*파랑색 선 - 실제 값, 주황색 선 - 예측 값\n",
    "\n",
    "본 그림은 **학습한 LSTM 모델**을 이용하여서 **코클로디니움 밀도를 예측한 결과** 입니다.\n",
    "\n",
    "LSTM 모델이 **적조 발생에 대해서 예측이 가능하다는 것을 확인** 할 수 있습니다.\n",
    "\n",
    "**적조 발생 이전에 미리 예측이 가능한 것을 입증**하였습니다. **(Recall 96.4%)**\n",
    "\n",
    "적조 발생 탐지에서 적조 발생을 잘못 예측하는 것보다 **적조 발생을 탐지하지 못하는 것이 경제적 손실 등의 피해가 큽**니다.\n",
    "\n",
    "따라서 본 분석에서는 가지고 있는 **데이터의 한계로 모델의 성능에 대해서** 미탐율을 보다 **오탐율이 최소가 되도록 학습을 수행**하였습니다.\n",
    "\n",
    "![sub2](https://i.imgur.com/pzlZ2pi.png)\n",
    "> **코클로디니움 밀도 예측 그래프 확대 사진**\n",
    "\n",
    "**본 데이터의 한계**는 다음과 같습니다.\n",
    "- **적조 발생 데이터 적조 발생을 하였을때만, 코클로디니움 밀도 측정을 수행함(적조 미발생일 실제값과 예측값이 다른 이유)**\n",
    "- **적조 발생 시 데이터에서는, 코클로디니움 밀도 값을 매일 측정하지 않아서 데이터가 선형적이지 않음 (낮은 예측 정밀도 이유)**\n",
    "- **적조 발생 이후 조치에 대한 데이터가 존재하지 않음(예측 데이터가 실제 데이터보다 느리게 코클로디닝움 밀도가 감소하는 이유)**"
   ]
  },
  {
   "cell_type": "markdown",
   "id": "77117ff7",
   "metadata": {},
   "source": [
    "---\n",
    "## 3. 결론 ##\n",
    "\n",
    "### 3.1 기대효과 및 의의 ###\n",
    "\n",
    "![data1](https://i.imgur.com/ov4eAOL.png)\n",
    "> **공공데이터 활용의 장점**\n",
    "\n",
    "**기존의 일반적인 연구 및 사업**에서의 **데이터 획득은 고가의 측정 장비와 분석 인프라 요구**합니다.\n",
    "\n",
    "그 외에도 데이터 획득을 위해서 바다의 측정 포인트로 배를 타고 가야하는 등의 **많은 시간과 노력도 필요**합니다.\n",
    "\n",
    "이와 반대로 **공공 데이터 활용**은 이러한 한계점을 갖지 않아서 **데이터 획득에 비용을 절감**할 수 있습니다.\n",
    "\n",
    "**저희는 공공 데이터만을 활용**하여 일반적인 연구 및 사업에서의 **데이터 획득의 한계를 극복**하였습니다.\n",
    "\n",
    "\n",
    "### 3.2 기존 적조 예측 모델 소개 ###\n",
    "\n",
    "![models1](https://i.imgur.com/OEg8lUv.png)\n",
    "> **기존 적조 예측 모델 특징 요약**\n",
    "\n",
    "기존 적조 예측 모델들의 특징입니다. \n",
    "\n",
    "모두 고가의 측정 장비 및 분석 인프라를 사용하였습니다.\n",
    "\n",
    "기존 모델들의 성능은 각각 다른 목표 및 지표를 사용하였습니다.\n",
    "\n",
    "저희 분석은 공공데이터를 사용하였다는 점에서 운용해양예보시스템과 유사합니다.\n",
    "\n",
    "\n",
    "### 3.3 요약 ###\n",
    "\n",
    "- 사전 분석을 통해 **코클로디니움과 \"염분\", \"풍속\" 의 상관관계 파악**하였습니다.\n",
    "- 학습된 모델 성능을 통해서 **코클로디니움과 \"염분\", \"풍속\" 상관관계를 입증**하였습니다.\n",
    "- **고가의 특수 측정 장비 없이, 공공 데이터만으로 적조 발생 예측을 수행**하였고 **성능 입증**하였습니다.\n",
    "- **적조 발생 예측 모델 학습을 위한 일치점 데이터셋 제작(해양+기상+적조)** 을 수행하였습니다.\n",
    "- 적조 발생 예측 **모델의 미탐율이 90% 달성**하였습니다.\n",
    "- **JOISS 데이터의 활용 가치 입증**하였습니다.\n",
    "- **일치점 데이터셋 공개**하겠습니다.(추후 JOISS 전달 예정)\n",
    "---"
   ]
  },
  {
   "cell_type": "markdown",
   "id": "3d7bbbef",
   "metadata": {},
   "source": [
    "---\n",
    "## 4. 참고 문헌 ##\n",
    "\n",
    "- 2020. 해양수산부. 적조피해 최소화를 위한 적조탐지·예측시스템 구축 및 실증화 최종보고서\n",
    "- 2007. 김병찬. 무선 센서 네트워크를 이용한 적조 모니터링 시스템의 설계 및 구현 \n",
    "- 2005. 한국 연안에서의 적조형성과 기상인자간의 상관성에 대한 통계학적 해석 및 위성에 의한 적조 모니터링\n",
    "- 2021. 기상청 날씨마루. https://bd.kma.go.kr/kma2020/fs/envSelect1.do?pageNum=5&menuCd=F050601000\n",
    "- 2019. 박수호. 심층신경망을 활용한 Cochlodinium polykrikoides 적조 발생 예측 연구\n",
    "- 2019. 해양수산부. 2019년 적조 대응 종합 대책\n",
    "- 2018. 식품의약품안전평가원. 수산물 중 해양생물독소 사전 안전관리 기획 연구\n",
    "- 2021. 국립수산과학원. 적조정보시스템. https://www.nifs.go.kr/red/main.red\n",
    "- 2021. 국립수산과학원. 적조바로알기. https://www.nifs.go.kr/red/manual/redtide.pdf\n",
    "- 2013. Tae Gyu Park. \"Economic impact, management and mitigation of red tides in Korea\". Harmful Algae Volume 30, Supplement 1, December 2013, Pages S131-S143\n",
    "- 2014. 정해진. 유해성 코클로디니움 적조 발생 메커니즘 규명 및 예보 시스템 구축 기획연구에 관한 연구\n",
    "- 2019. 박지은. 인공위성 고도계 자료와 해색 위성 자료 기반의 동해 중규모 소용돌이 탐지 비교. J. Korean Soc. Oceanogr. Vol.24, No.2, pp.282-297, 2019\n",
    "- 2019. 해양수산부. 2019년 적조 대응 종합 대책\n",
    "- 2018. KIOST. 「실시간 적조 탐지·예측 시스템」 구축 - 통영·여수 해역에서 시스템 구축 후 시범 운영 중 - \n",
    "- 2020. 한국해양과학기술원, 적조피해 최소화를 위한 적조탐지'예측시스템 구축 및 실증화 최종보고서\n",
    "- 2006. 김태근, 유량-부하량 관계식을 이용한 용담호 유입하천의 영양염류 유입량 변동특성, 환경영향평가 제15권 제2호(2006) pp.129~138\n",
    "- 2005. 윤홍주, 한국 연안에서의 적조형성과 기상인자간의 상관성에 대한 토계학적 해석 및 위성에 의한 적조 모니터링 \n",
    "- 2019. Red tide detection using deep learning and high-spatial resolution optical satellite imagery. International Journal of Remote Sensing\n",
    "- 2020. 임월애. 1970년대 이후 한국 연안의 적조 발생 변화. Journal of the Korean Society of Marine Environment & Safety Research Paper Vol. 26, No. 5, pp. 523-530, August 31, 2020, ISSN 1229-3431(Print) / ISSN 2287-3341(Online) \n",
    "- 2018. (주)네오엔비즈. 수산물 중 해양생물독소 사전 안전관리 기획 연구\n",
    "\n",
    "---"
   ]
  },
  {
   "cell_type": "markdown",
   "id": "a7024249",
   "metadata": {},
   "source": [
    "# 5. 소스코드 #\n",
    "\n",
    "## 5.1 전체코드 ##\n",
    "\n",
    "## <해양 + 기상 + 일조일사량 + 적조 조합 - 화양> ##"
   ]
  },
  {
   "cell_type": "code",
   "execution_count": null,
   "id": "d258e890",
   "metadata": {},
   "outputs": [],
   "source": [
    "# 라이브러리 호출\n",
    "import pandas as pd\n",
    "import numpy as np\n",
    "import matplotlib.pyplot as plt\n",
    "from datetime import datetime\n",
    "%matplotlib inline\n",
    "# 연안정지관측자료에서 화양 지역 데이터 로드 및 Period, Index 설정\n",
    "df = pd.read_csv(\"../DATASET/JOISS_20070101_20171231_Coastal Oceanographic Observation_NIFS.csv\", skiprows =23)\n",
    "del_index = df.iloc[:,1].str.contains(\"화양\")\n",
    "df = df[del_index]\n",
    "del_cols = [0,1,3,4,5,7,9,10]\n",
    "df = df.drop(df.columns[del_cols],axis=1)\n",
    "df = df.drop(df.columns[3:], axis = 1)\n",
    "df.columns = ['Date', 'WTemp', 'Solidity']\n",
    "df = df.set_index('Date')\n",
    "df.index = pd.to_datetime(df.index)\n",
    "df = df.loc['2009':'2017']\n",
    "df = df.round(1)\n",
    "# 기상청 자료에서 화양(백야) 지역 기상 데이터 로드 및 Index 설정\n",
    "df_kma = pd.read_csv(\"../DATASET/강수_일조_풍속/백야_2009_2017_기상데이터.csv\", engine = 'python', encoding = 'cp949')\n",
    "df_kma = df_kma.drop(df_kma.columns[:2], axis = 1)\n",
    "df_kma.columns = ['Date', 'Temp', 'Rainfall', 'WindSpeed']\n",
    "df_kma = df_kma.set_index('Date')\n",
    "df_kma.index = pd.to_datetime(df_kma.index)\n",
    "# 결측치 확인\n",
    "df_kma.isnull().sum()\n",
    "# 결측치 제거\n",
    "df_kma = df_kma.fillna(0)\n",
    "# 여수 지역 일조량 데이터 로드\n",
    "del_cols = [0,1,3,4]\n",
    "cols_name = [\"Sunshine\"]\n",
    "sunshine_df = pd.read_csv(\"../DATASET/강수_일조_풍속/여수_1995_2021_일조일사량.csv\", engine = 'python', encoding = 'cp949', skiprows=16, index_col = 2)\n",
    "sunshine_df.index.name = \"Date\"\n",
    "sunshine_df.index = pd.to_datetime(sunshine_df.index)\n",
    "sunshine_df.drop(sunshine_df.columns[del_cols], axis=1, inplace = True)\n",
    "sunshine_df.columns = cols_name\n",
    "# 결측치 확인\n",
    "sunshine_df.isnull().sum()\n",
    "# 결측치 제거\n",
    "sunshine_df = sunshine_df.fillna(0)\n",
    "# 사용 기간 설정\n",
    "sunshine_df = sunshine_df.loc['2009':'2017']\n",
    "# 데이터 병합\n",
    "merge_df = pd.concat([df,sunshine_df,df_kma], axis = 1)\n",
    "# 결측치 보간\n",
    "merge_df = merge_df.fillna(method ='ffill', limit = 5)\n",
    "merge_df = merge_df.fillna(method ='bfill', limit = 5)\n",
    "# 적조 발생 데이터 로드 및 여수 지역 발생 데이터 정제\n",
    "df = pd.read_csv(\"../DATASET/red_tides_data/2009-2020.csv\", engine = 'python', index_col = 0)\n",
    "df = df[df.iloc[:,0].str.contains(\"여수\")]\n",
    "# 중복값 제거\n",
    "df.index.duplicated()\n",
    "df = df.reset_index().drop_duplicates(subset='Date', keep='last').set_index('Date')\n",
    "# 데이터 정제 및 해양&기상 데이터 합본과 병합 후 export\n",
    "df['Density(max)'].replace('0','1')\n",
    "df = df.drop(['Density(min)'], axis=1)\n",
    "df.index = pd.to_datetime(df.index, format=\"%Y%m%d\")\n",
    "df = df.drop(['Location'], axis = 1)\n",
    "df = df.loc['2009-07-11' : '2017-05-10']\n",
    "final_df = pd.concat([merge_df, df], axis = 1)\n",
    "final_df['Density(max)'].fillna(0, inplace = True)\n",
    "final_df.rename(columns = {'Density(max)' : 'Density'}, inplace = True)\n",
    "final_df.to_csv(\"../Learning/hwayang_refined_df.csv\")"
   ]
  },
  {
   "cell_type": "markdown",
   "id": "e13e825a",
   "metadata": {
    "id": "e13e825a"
   },
   "source": [
    "## < 여수 데이터 시간 단위 일치 - 일 단위> ##"
   ]
  },
  {
   "cell_type": "code",
   "execution_count": null,
   "id": "bc419fd8",
   "metadata": {},
   "outputs": [],
   "source": [
    "years = range(2009,2021)\n",
    "del_cols = [0,3,4,5,6,8,9,11,12,13]\n",
    "cols_name = ['WTemp', 'Solidity', 'WindSpeed', 'Temp']\n",
    "df_summary = pd.DataFrame()\n",
    "# 여수 지역 수질자동측정망 관측 자료 load 및 1일 단위로 데이터 정제\n",
    "for year in years:\n",
    "    path = \"../DATASET/여수_2004-2020/여수_DT_9_%d_KR.txt\"%year\n",
    "    df = pd.read_csv(path,sep='\\t', skiprows = 3, index_col=0)\n",
    "    df.index = pd.to_datetime(df.index)\n",
    "    df.drop(df.columns[del_cols],axis=1,inplace=True)\n",
    "    df.index.name='date'\n",
    "    df.columns = cols_name\n",
    "    df.replace('-',np.NaN,inplace=True)\n",
    "    df.fillna(method='ffill', limit = 3600)\n",
    "    df=df.apply(pd.to_numeric)\n",
    "    \n",
    "    part_df_summary = pd.DataFrame()\n",
    "\n",
    "    # 시계열 처리로 1일 단위 데이터 정제\n",
    "    part_df_summary['WTemp_min'] = df.WTemp.resample('1D').min()\n",
    "    part_df_summary['WTemp_max'] = df.WTemp.resample('1D').max()\n",
    "    part_df_summary['WTemp_mean'] = df.WTemp.resample('1D').mean().round(1)\n",
    "    part_df_summary['Solidity_min'] = df.Solidity.resample('1D').min()\n",
    "    part_df_summary['Solidity_max'] = df.Solidity.resample('1D').max()\n",
    "    part_df_summary['Solidity_mean'] = df.Solidity.resample('1D').mean().round(1)\n",
    "    part_df_summary['WindSpeed_min'] = df.WindSpeed.resample('1D').min()\n",
    "    part_df_summary['WindSpeed_max'] = df.WindSpeed.resample('1D').max()\n",
    "    part_df_summary['WindSpeed_mean'] = df.WindSpeed.resample('1D').mean().round(1)\n",
    "    part_df_summary['Temp_min'] = df.Temp.resample('1D').min()\n",
    "    part_df_summary['Temp_max'] = df.Temp.resample('1D').max()\n",
    "    part_df_summary['Temp_mean'] = df.Temp.resample('1D').mean().round(1)\n",
    "    \n",
    "    df_summary=pd.concat([df_summary, part_df_summary], axis = 0)\n",
    "    # 여수지역 강수량 데이터 추출을 위해 기상청 데이터 호출\n",
    "cols_name = [\"rainfall\"]\n",
    "df = pd.read_csv(\"../DATASET/강수_일조_풍속/여수_1995_2021_일별강수량.csv\", engine = 'python', encoding = 'cp949', skiprows=7, index_col = 0)\n",
    "df.index.name = \"date\"\n",
    "df.index = pd.to_datetime(df.index)\n",
    "df.drop(df.columns[0], axis = 1, inplace = True)\n",
    "df.columns = cols_name\n",
    "df.fillna(0, inplace=True)\n",
    "rainfall_df = df.loc['2009':'2020']\n",
    "# 여수지역 일조량 데이터 추출\n",
    "del_cols = [0,1,3,4]\n",
    "cols_name = [\"sunshine\"]\n",
    "df = pd.read_csv(\"../DATASET/강수_일조_풍속/여수_1995_2021_일조일사량.csv\", engine = 'python', encoding = 'cp949', skiprows=16, index_col = 2)\n",
    "df.index.name = \"date\"\n",
    "df.index = pd.to_datetime(df.index)\n",
    "df.drop(df.columns[del_cols], axis=1, inplace = True)\n",
    "df.columns = cols_name\n",
    "df.fillna(0, inplace=True)\n",
    "sunshine_df = df.loc['2009':'2020']\n",
    "# 데이터 병합\n",
    "df = pd.read_csv(\"./MiningData/YeoSoo_khoa_df.csv\",index_col = 0)\n",
    "df.index = pd.to_datetime(df.index)\n",
    "merge_df = pd.concat([df,sunshine_df,rainfall_df], axis = 1)\n",
    "merge_df.to_csv(\"./MiningData/Yeosoo_merge_df.csv\")"
   ]
  },
  {
   "cell_type": "markdown",
   "id": "c794e1e3",
   "metadata": {
    "id": "c794e1e3"
   },
   "source": [
    "## <고흥/발포 데이터 시간 단위 일치 - 일 단위> ##"
   ]
  },
  {
   "cell_type": "code",
   "execution_count": null,
   "id": "6701c482",
   "metadata": {
    "id": "6701c482"
   },
   "outputs": [],
   "source": [
    "years = range(2009,2021)\n",
    "del_cols = [0,3,4,5,6,8,9,11,12,13]\n",
    "cols_name = ['WTemp', 'Solidity', 'WindSpeed', 'Temp']\n",
    "df_summary = pd.DataFrame()\n",
    "# 고흥 지역 수질자동측정망 관측 자료 load 및 1일 단위로 데이터 정제\n",
    "for year in years:\n",
    "    path = \"../DATASET/고흥발포_2004-2020/고흥발포_DT_92_%d_KR.txt\"%year\n",
    "    df = pd.read_csv(path,sep='\\t', skiprows = 3, index_col=0)\n",
    "    df.index = pd.to_datetime(df.index)\n",
    "    df.drop(df.columns[del_cols],axis=1,inplace=True)\n",
    "    df.index.name='date'\n",
    "    df.columns = cols_name\n",
    "    df.replace('-',np.NaN,inplace=True)\n",
    "    df.fillna(method='ffill', limit = 3600)\n",
    "    df=df.apply(pd.to_numeric)\n",
    "    \n",
    "    part_df_summary = pd.DataFrame()\n",
    "\n",
    "    # 시계열 처리로 1일 단위 데이터 정제\n",
    "    part_df_summary['WTemp_min'] = df.WTemp.resample('1D').min()\n",
    "    part_df_summary['WTemp_max'] = df.WTemp.resample('1D').max()\n",
    "    part_df_summary['WTemp_mean'] = df.WTemp.resample('1D').mean().round(1)\n",
    "    part_df_summary['Solidity_min'] = df.Solidity.resample('1D').min()\n",
    "    part_df_summary['Solidity_max'] = df.Solidity.resample('1D').max()\n",
    "    part_df_summary['Solidity_mean'] = df.Solidity.resample('1D').mean().round(1)\n",
    "    part_df_summary['WindSpeed_min'] = df.WindSpeed.resample('1D').min()\n",
    "    part_df_summary['WindSpeed_max'] = df.WindSpeed.resample('1D').max()\n",
    "    part_df_summary['WindSpeed_mean'] = df.WindSpeed.resample('1D').mean().round(1)\n",
    "    part_df_summary['Temp_min'] = df.Temp.resample('1D').min()\n",
    "    part_df_summary['Temp_max'] = df.Temp.resample('1D').max()\n",
    "    part_df_summary['Temp_mean'] = df.Temp.resample('1D').mean().round(1)\n",
    "    # 고흥발포 지역 강수량 데이터 추출\n",
    "cols_name = [\"rainfall\"]\n",
    "df = pd.read_csv(\"../DATASET/강수_일조_풍속/고흥_1995_2021_일별강수량.csv\", engine = 'python', encoding = 'cp949', skiprows=7, index_col = 0)\n",
    "df.index.name = \"date\"\n",
    "df.index = pd.to_datetime(df.index)\n",
    "df.drop(df.columns[0], axis = 1, inplace = True)\n",
    "df.columns = cols_name\n",
    "df.fillna(0, inplace=True)\n",
    "rainfall_df = df.loc['2009':'2020']\n",
    "# 고흥발포 지역 일조량 데이터 추출\n",
    "del_cols = [0,1,3,4]\n",
    "cols_name = [\"sunshine\"]\n",
    "df = pd.read_csv(\"../DATASET/강수_일조_풍속/고흥_1995_2021_일조일사량.csv\", engine = 'python', encoding = 'cp949', skiprows=16, index_col = 2)\n",
    "df.index.name = \"date\"\n",
    "df.index = pd.to_datetime(df.index)\n",
    "df.drop(df.columns[del_cols], axis=1, inplace = True)\n",
    "df.columns = cols_name\n",
    "df.fillna(0, inplace=True)\n",
    "sunshine_df = df.loc['2009':'2020']\n",
    "# 데이터 합치기\n",
    "df = pd.read_csv(\"./MiningData/Goheung_khoa_df.csv\",index_col = 0)\n",
    "df.index = pd.to_datetime(df.index)\n",
    "merge_df = pd.concat([df,sunshine_df,rainfall_df], axis = 1)\n",
    "merge_df.to_csv(\"./MiningData/Goheung_merge_df.csv\")"
   ]
  },
  {
   "cell_type": "markdown",
   "id": "e769ab84",
   "metadata": {
    "id": "e769ab84"
   },
   "source": [
    "## <적조 데이터 불러오기> ##"
   ]
  },
  {
   "cell_type": "code",
   "execution_count": null,
   "id": "11f6b869",
   "metadata": {
    "id": "11f6b869"
   },
   "outputs": [],
   "source": [
    "df = pd.read_csv(\"../DATASET/red_tides_data/2009-2020.csv\", engine = 'python', index_col = 0)\n",
    "# 여수 데이터 저장\n",
    "yeosoo_df = df[df.iloc[:,0].str.contains(\"여수\")]\n",
    "# 고흥 데이터 저장\n",
    "goheung_df = df[df.iloc[:,0].str.contains(\"고흥\")]\n",
    "# 중복 데이터 확인 및 제거\n",
    "yeosoo_df.index.duplicated().sum()\n",
    "goheung_df.index.duplicated().sum()\n",
    "yeosoo_df = yeosoo_df.reset_index().drop_duplicates(subset='Date', keep='last').set_index('Date')\n",
    "goheung_df = goheung_df.reset_index().drop_duplicates(subset='Date', keep='last').set_index('Date')\n",
    "yeosoo_df['Density(max)'].replace('0','1', inplace = True)\n",
    "yeosoo_df.drop(['Density(min)'], axis=1, inplace = True)\n",
    "yeosoo_df.index = pd.to_datetime(yeosoo_df.index, format=\"%Y%m%d\")\n",
    "yeosoo_df.drop(['Location'], axis = 1, inplace = True)\n",
    "goheung_df.drop(['Location','Density(min)'], axis=1, inplace = True)\n",
    "goheung_df.index = pd.to_datetime(goheung_df.index, format = \"%Y%m%d\")"
   ]
  },
  {
   "cell_type": "markdown",
   "id": "4b7d497d",
   "metadata": {
    "id": "4b7d497d"
   },
   "source": [
    "## < 적조 데이터 조합하기> ##"
   ]
  },
  {
   "cell_type": "code",
   "execution_count": null,
   "id": "62f764cc",
   "metadata": {
    "id": "62f764cc"
   },
   "outputs": [],
   "source": [
    "# 여수\n",
    "df = pd.read_csv(\"./MiningData/Yeosoo_merge_df.csv\",index_col=0)\n",
    "df.dropna(inplace = True)\n",
    "df.index.name = 'Date'\n",
    "df.index = pd.to_datetime(df.index)\n",
    "df1 = pd.concat([df, yeosoo_df], axis = 1)\n",
    "df1['Density(max)'].fillna(0, inplace = True)\n",
    "df1.dropna(inplace = True)\n",
    "df1.to_csv(\"./MiningData/red_tide_null_0_yeosoo_df.csv\")"
   ]
  },
  {
   "cell_type": "code",
   "execution_count": null,
   "id": "e351dee6",
   "metadata": {
    "id": "e351dee6"
   },
   "outputs": [],
   "source": [
    "# 고흥\n",
    "df = pd.read_csv(\"./MiningData/Goheung_merge_df.csv\",index_col=0)\n",
    "df.index.name = \"Date\"\n",
    "df.index = pd.to_datetime(df.index)\n",
    "df1 = pd.concat([df, goheung_df], axis = 1)\n",
    "df1['Density(max)'].fillna(0,inplace = True)\n",
    "df1.dropna(inplace = True)\n",
    "df1.to_csv(\"./MiningData/red_tide_null_0_goheung_df.csv\")"
   ]
  },
  {
   "cell_type": "markdown",
   "id": "16bba3e3",
   "metadata": {
    "id": "16bba3e3"
   },
   "source": [
    "## < 지역 데이터 결합하기 > ##"
   ]
  },
  {
   "cell_type": "code",
   "execution_count": null,
   "id": "628c32c6",
   "metadata": {
    "id": "628c32c6"
   },
   "outputs": [],
   "source": [
    "df_yeosoo = pd.read_csv('../DataMining/MiningData/red_tide_null_0_yeosoo_df.csv',index_col = False)\n",
    "df_goheung = pd.read_csv('../DataMining/MiningData/red_tide_null_0_goheung_df.csv',index_col = False)\n",
    "df = pd.concat([df_yeosoo,df_goheung])\n",
    "df.reset_index(drop=True, inplace = True)\n",
    "df = df.set_index('Date')"
   ]
  },
  {
   "cell_type": "code",
   "execution_count": null,
   "id": "97e9ccfe",
   "metadata": {
    "id": "97e9ccfe"
   },
   "outputs": [],
   "source": [
    "# 필요 없는 칼럼 삭제 및 이름 변경\n",
    "del_cols = [0,1,3,4,6,7,9,10]\n",
    "df = df.drop(df.columns[del_cols], axis=1)\n",
    "col_names = ['Wtemp', 'Solidity', 'WindSpeed', 'Temp', 'Sunshine', 'Rainfall', 'Density']\n",
    "df.columns = col_names\n",
    "df.drop(['Date'], axis = 1, inplace = True)\n",
    "df.reset_index(drop=True, inplace = True)\n",
    "del_cols = [0,1,3,4,6,7,9,10]\n",
    "mean_df = df.drop(df.columns[del_cols], axis=1)\n",
    "mean_df"
   ]
  },
  {
   "cell_type": "code",
   "execution_count": null,
   "id": "3c85371b",
   "metadata": {
    "id": "3c85371b"
   },
   "outputs": [],
   "source": [
    "# Density 이상치 제거 및 numeric\n",
    "mean_df.loc[2083, 'Density(max)'] = '650'\n",
    "mean_df.loc[6257, 'Density(max)'] = '420'\n",
    "mean_df.loc[1389,'Density(max)'] = '4100'\n",
    "mean_df.loc[5220,'Density(max)'] = '480'\n",
    "mean_df.loc[5535,'Density(max)'] = '4100'\n",
    "mean_df.loc[5536,'Density(max)'] = '5200'\n",
    "mean_df.loc[5537,'Density(max)'] = '2070'\n",
    "mean_df.loc[5538,'Density(max)'] = '2240'\n",
    "mean_df.loc[5539,'Density(max)'] = '1750'\n",
    "mean_df.loc[5540,'Density(max)'] = '1020'\n",
    "mean_df.loc[5541,'Density(max)'] = '970'\n",
    "mean_df.loc[5542,'Density(max)'] = '950'\n",
    "mean_df.loc[5543,'Density(max)'] = '920'\n",
    "mean_df = mean_df.apply(pd.to_numeric)"
   ]
  },
  {
   "cell_type": "code",
   "execution_count": null,
   "id": "0a844f43",
   "metadata": {
    "id": "0a844f43"
   },
   "outputs": [],
   "source": [
    "# 수온 이상치 제거\n",
    "q3 = mean_df['Wtemp'].quantile(0.75)\n",
    "q1 = mean_df['Wtemp'].quantile(0.25)\n",
    "iqr = q3 - q1\n",
    "minus_condition = q1 - 1.0*iqr\n",
    "plus_condition = q3 + 1.0*iqr\n",
    "mean_df = mean_df.drop(mean_df[mean_df['Wtemp'] > plus_condition].index)\n",
    "mean_df = mean_df.drop(mean_df[mean_df['Wtemp'] < minus_condition].index)"
   ]
  },
  {
   "cell_type": "code",
   "execution_count": null,
   "id": "9a2dca1d",
   "metadata": {
    "id": "9a2dca1d"
   },
   "outputs": [],
   "source": [
    "#염분 이상치 제거\n",
    "mean_df = mean_df.drop(mean_df[mean_df['Solidity'] < 10].index)"
   ]
  },
  {
   "cell_type": "code",
   "execution_count": null,
   "id": "d6cf3226",
   "metadata": {
    "id": "d6cf3226"
   },
   "outputs": [],
   "source": [
    "#기온 이상치 제거\n",
    "mean_df = mean_df.drop(mean_df[mean_df['Temp'] < -7.0].index)"
   ]
  },
  {
   "cell_type": "markdown",
   "id": "44eff0c1",
   "metadata": {
    "id": "44eff0c1"
   },
   "source": [
    "## <학습을 위한 데이터 전처리> ##"
   ]
  },
  {
   "cell_type": "code",
   "execution_count": null,
   "id": "f827abf1",
   "metadata": {
    "id": "f827abf1"
   },
   "outputs": [],
   "source": [
    "def get_dens(v):\n",
    "    if v < 10:\n",
    "        density = 0\n",
    "    elif v == 10:\n",
    "        density = 1\n",
    "    elif v < 1000:\n",
    "        density = 2\n",
    "    else:\n",
    "        density = 3\n",
    "    return density"
   ]
  },
  {
   "cell_type": "code",
   "execution_count": null,
   "id": "c8770f4d",
   "metadata": {
    "id": "c8770f4d"
   },
   "outputs": [],
   "source": [
    "def get_Bdens(v):\n",
    "    if v > 0:\n",
    "        density = 1\n",
    "    else:\n",
    "        density = 0\n",
    "    return density"
   ]
  },
  {
   "cell_type": "code",
   "execution_count": null,
   "id": "3dad076c",
   "metadata": {
    "id": "3dad076c"
   },
   "outputs": [],
   "source": [
    "mean_df[\"Revised_Density\"] = mean_df[\"Density\"].apply(lambda v : get_dens(v))"
   ]
  },
  {
   "cell_type": "code",
   "execution_count": null,
   "id": "19b45995",
   "metadata": {
    "id": "19b45995"
   },
   "outputs": [],
   "source": [
    "mean_df[\"B_Revised_Density\"] = mean_df[\"Revised_Density\"].apply(lambda v : get_Bdens(v))"
   ]
  },
  {
   "cell_type": "code",
   "execution_count": null,
   "id": "07b3e659",
   "metadata": {
    "id": "07b3e659"
   },
   "outputs": [],
   "source": [
    "df.to_csv(\"./refined_df_except0910.csv\")"
   ]
  },
  {
   "cell_type": "markdown",
   "id": "0c4b0e89",
   "metadata": {
    "id": "0c4b0e89"
   },
   "source": [
    "## <데이터 정제> ##"
   ]
  },
  {
   "cell_type": "code",
   "execution_count": null,
   "id": "fa4cca53",
   "metadata": {
    "id": "fa4cca53"
   },
   "outputs": [],
   "source": [
    "import os\n",
    "import datetime\n",
    "import matplotlib as mpl\n",
    "import matplotlib.pyplot as plt\n",
    "import numpy as np\n",
    "import pandas as pd\n",
    "import seaborn as sns\n",
    "import tensorflow as tf\n",
    "from keras.callbacks import EarlyStopping\n",
    "from keras.callbacks import ModelCheckpoint\n",
    "from keras import optimizers\n",
    "plt.rcParams[\"figure.figsize\"] = (20, 6)"
   ]
  },
  {
   "cell_type": "code",
   "execution_count": null,
   "id": "937a0518",
   "metadata": {
    "id": "937a0518",
    "outputId": "98a7f3c2-f44d-4092-c3eb-b2fdc0bc096c"
   },
   "outputs": [
    {
     "data": {
      "text/html": [
       "<div>\n",
       "<style scoped>\n",
       "    .dataframe tbody tr th:only-of-type {\n",
       "        vertical-align: middle;\n",
       "    }\n",
       "\n",
       "    .dataframe tbody tr th {\n",
       "        vertical-align: top;\n",
       "    }\n",
       "\n",
       "    .dataframe thead th {\n",
       "        text-align: right;\n",
       "    }\n",
       "</style>\n",
       "<table border=\"1\" class=\"dataframe\">\n",
       "  <thead>\n",
       "    <tr style=\"text-align: right;\">\n",
       "      <th></th>\n",
       "      <th>Solidity</th>\n",
       "      <th>Wtemp</th>\n",
       "      <th>WindSpeed</th>\n",
       "      <th>Temp</th>\n",
       "      <th>Sunshine</th>\n",
       "      <th>Rainfall</th>\n",
       "      <th>Density</th>\n",
       "      <th>1000_Density</th>\n",
       "      <th>min-max_Density</th>\n",
       "    </tr>\n",
       "  </thead>\n",
       "  <tbody>\n",
       "    <tr>\n",
       "      <th>0</th>\n",
       "      <td>31.9</td>\n",
       "      <td>7.0</td>\n",
       "      <td>6.4</td>\n",
       "      <td>-0.6</td>\n",
       "      <td>8.0</td>\n",
       "      <td>0.0</td>\n",
       "      <td>0.0</td>\n",
       "      <td>0.0</td>\n",
       "      <td>0.0</td>\n",
       "    </tr>\n",
       "    <tr>\n",
       "      <th>1</th>\n",
       "      <td>31.9</td>\n",
       "      <td>6.8</td>\n",
       "      <td>3.7</td>\n",
       "      <td>1.8</td>\n",
       "      <td>8.8</td>\n",
       "      <td>0.0</td>\n",
       "      <td>0.0</td>\n",
       "      <td>0.0</td>\n",
       "      <td>0.0</td>\n",
       "    </tr>\n",
       "    <tr>\n",
       "      <th>2</th>\n",
       "      <td>31.9</td>\n",
       "      <td>6.8</td>\n",
       "      <td>3.5</td>\n",
       "      <td>0.7</td>\n",
       "      <td>7.8</td>\n",
       "      <td>0.0</td>\n",
       "      <td>0.0</td>\n",
       "      <td>0.0</td>\n",
       "      <td>0.0</td>\n",
       "    </tr>\n",
       "    <tr>\n",
       "      <th>3</th>\n",
       "      <td>31.9</td>\n",
       "      <td>6.7</td>\n",
       "      <td>6.0</td>\n",
       "      <td>1.2</td>\n",
       "      <td>8.4</td>\n",
       "      <td>0.0</td>\n",
       "      <td>0.0</td>\n",
       "      <td>0.0</td>\n",
       "      <td>0.0</td>\n",
       "    </tr>\n",
       "    <tr>\n",
       "      <th>4</th>\n",
       "      <td>31.8</td>\n",
       "      <td>6.4</td>\n",
       "      <td>5.5</td>\n",
       "      <td>2.1</td>\n",
       "      <td>3.9</td>\n",
       "      <td>0.0</td>\n",
       "      <td>0.0</td>\n",
       "      <td>0.0</td>\n",
       "      <td>0.0</td>\n",
       "    </tr>\n",
       "    <tr>\n",
       "      <th>...</th>\n",
       "      <td>...</td>\n",
       "      <td>...</td>\n",
       "      <td>...</td>\n",
       "      <td>...</td>\n",
       "      <td>...</td>\n",
       "      <td>...</td>\n",
       "      <td>...</td>\n",
       "      <td>...</td>\n",
       "      <td>...</td>\n",
       "    </tr>\n",
       "    <tr>\n",
       "      <th>8369</th>\n",
       "      <td>33.2</td>\n",
       "      <td>11.3</td>\n",
       "      <td>5.0</td>\n",
       "      <td>4.2</td>\n",
       "      <td>8.9</td>\n",
       "      <td>0.0</td>\n",
       "      <td>0.0</td>\n",
       "      <td>0.0</td>\n",
       "      <td>0.0</td>\n",
       "    </tr>\n",
       "    <tr>\n",
       "      <th>8370</th>\n",
       "      <td>32.1</td>\n",
       "      <td>9.8</td>\n",
       "      <td>5.9</td>\n",
       "      <td>1.7</td>\n",
       "      <td>9.0</td>\n",
       "      <td>0.0</td>\n",
       "      <td>0.0</td>\n",
       "      <td>0.0</td>\n",
       "      <td>0.0</td>\n",
       "    </tr>\n",
       "    <tr>\n",
       "      <th>8371</th>\n",
       "      <td>32.1</td>\n",
       "      <td>10.0</td>\n",
       "      <td>4.0</td>\n",
       "      <td>3.2</td>\n",
       "      <td>9.0</td>\n",
       "      <td>0.0</td>\n",
       "      <td>0.0</td>\n",
       "      <td>0.0</td>\n",
       "      <td>0.0</td>\n",
       "    </tr>\n",
       "    <tr>\n",
       "      <th>8372</th>\n",
       "      <td>33.4</td>\n",
       "      <td>9.9</td>\n",
       "      <td>1.5</td>\n",
       "      <td>4.6</td>\n",
       "      <td>8.6</td>\n",
       "      <td>0.0</td>\n",
       "      <td>0.0</td>\n",
       "      <td>0.0</td>\n",
       "      <td>0.0</td>\n",
       "    </tr>\n",
       "    <tr>\n",
       "      <th>8373</th>\n",
       "      <td>32.9</td>\n",
       "      <td>10.1</td>\n",
       "      <td>4.1</td>\n",
       "      <td>5.4</td>\n",
       "      <td>8.8</td>\n",
       "      <td>0.0</td>\n",
       "      <td>0.0</td>\n",
       "      <td>0.0</td>\n",
       "      <td>0.0</td>\n",
       "    </tr>\n",
       "  </tbody>\n",
       "</table>\n",
       "<p>8009 rows × 9 columns</p>\n",
       "</div>"
      ],
      "text/plain": [
       "      Solidity  Wtemp  WindSpeed  Temp  Sunshine  Rainfall  Density  \\\n",
       "0         31.9    7.0        6.4  -0.6       8.0       0.0      0.0   \n",
       "1         31.9    6.8        3.7   1.8       8.8       0.0      0.0   \n",
       "2         31.9    6.8        3.5   0.7       7.8       0.0      0.0   \n",
       "3         31.9    6.7        6.0   1.2       8.4       0.0      0.0   \n",
       "4         31.8    6.4        5.5   2.1       3.9       0.0      0.0   \n",
       "...        ...    ...        ...   ...       ...       ...      ...   \n",
       "8369      33.2   11.3        5.0   4.2       8.9       0.0      0.0   \n",
       "8370      32.1    9.8        5.9   1.7       9.0       0.0      0.0   \n",
       "8371      32.1   10.0        4.0   3.2       9.0       0.0      0.0   \n",
       "8372      33.4    9.9        1.5   4.6       8.6       0.0      0.0   \n",
       "8373      32.9   10.1        4.1   5.4       8.8       0.0      0.0   \n",
       "\n",
       "      1000_Density  min-max_Density  \n",
       "0              0.0              0.0  \n",
       "1              0.0              0.0  \n",
       "2              0.0              0.0  \n",
       "3              0.0              0.0  \n",
       "4              0.0              0.0  \n",
       "...            ...              ...  \n",
       "8369           0.0              0.0  \n",
       "8370           0.0              0.0  \n",
       "8371           0.0              0.0  \n",
       "8372           0.0              0.0  \n",
       "8373           0.0              0.0  \n",
       "\n",
       "[8009 rows x 9 columns]"
      ]
     },
     "execution_count": 2,
     "metadata": {},
     "output_type": "execute_result"
    }
   ],
   "source": [
    "df = pd.read_csv('./refined_merge.csv', index_col = 0)\n",
    "df"
   ]
  },
  {
   "cell_type": "code",
   "execution_count": null,
   "id": "0ce0e600",
   "metadata": {
    "id": "0ce0e600"
   },
   "outputs": [],
   "source": [
    "df = df.reset_index()"
   ]
  },
  {
   "cell_type": "code",
   "execution_count": null,
   "id": "995d0f15",
   "metadata": {
    "id": "995d0f15"
   },
   "outputs": [],
   "source": [
    "df = df.drop(\"index\", axis = 1)"
   ]
  },
  {
   "cell_type": "code",
   "execution_count": null,
   "id": "896d5005",
   "metadata": {
    "id": "896d5005",
    "outputId": "837c0128-1226-4684-b2bb-12f0a29ff72b"
   },
   "outputs": [
    {
     "data": {
      "text/html": [
       "<div>\n",
       "<style scoped>\n",
       "    .dataframe tbody tr th:only-of-type {\n",
       "        vertical-align: middle;\n",
       "    }\n",
       "\n",
       "    .dataframe tbody tr th {\n",
       "        vertical-align: top;\n",
       "    }\n",
       "\n",
       "    .dataframe thead th {\n",
       "        text-align: right;\n",
       "    }\n",
       "</style>\n",
       "<table border=\"1\" class=\"dataframe\">\n",
       "  <thead>\n",
       "    <tr style=\"text-align: right;\">\n",
       "      <th></th>\n",
       "      <th>Solidity</th>\n",
       "      <th>Wtemp</th>\n",
       "      <th>WindSpeed</th>\n",
       "      <th>Temp</th>\n",
       "      <th>Sunshine</th>\n",
       "      <th>Rainfall</th>\n",
       "      <th>Density</th>\n",
       "      <th>1000_Density</th>\n",
       "      <th>min-max_Density</th>\n",
       "    </tr>\n",
       "  </thead>\n",
       "  <tbody>\n",
       "    <tr>\n",
       "      <th>0</th>\n",
       "      <td>31.9</td>\n",
       "      <td>7.0</td>\n",
       "      <td>6.4</td>\n",
       "      <td>-0.6</td>\n",
       "      <td>8.0</td>\n",
       "      <td>0.0</td>\n",
       "      <td>0.0</td>\n",
       "      <td>0.0</td>\n",
       "      <td>0.0</td>\n",
       "    </tr>\n",
       "    <tr>\n",
       "      <th>1</th>\n",
       "      <td>31.9</td>\n",
       "      <td>6.8</td>\n",
       "      <td>3.7</td>\n",
       "      <td>1.8</td>\n",
       "      <td>8.8</td>\n",
       "      <td>0.0</td>\n",
       "      <td>0.0</td>\n",
       "      <td>0.0</td>\n",
       "      <td>0.0</td>\n",
       "    </tr>\n",
       "    <tr>\n",
       "      <th>2</th>\n",
       "      <td>31.9</td>\n",
       "      <td>6.8</td>\n",
       "      <td>3.5</td>\n",
       "      <td>0.7</td>\n",
       "      <td>7.8</td>\n",
       "      <td>0.0</td>\n",
       "      <td>0.0</td>\n",
       "      <td>0.0</td>\n",
       "      <td>0.0</td>\n",
       "    </tr>\n",
       "    <tr>\n",
       "      <th>3</th>\n",
       "      <td>31.9</td>\n",
       "      <td>6.7</td>\n",
       "      <td>6.0</td>\n",
       "      <td>1.2</td>\n",
       "      <td>8.4</td>\n",
       "      <td>0.0</td>\n",
       "      <td>0.0</td>\n",
       "      <td>0.0</td>\n",
       "      <td>0.0</td>\n",
       "    </tr>\n",
       "    <tr>\n",
       "      <th>4</th>\n",
       "      <td>31.8</td>\n",
       "      <td>6.4</td>\n",
       "      <td>5.5</td>\n",
       "      <td>2.1</td>\n",
       "      <td>3.9</td>\n",
       "      <td>0.0</td>\n",
       "      <td>0.0</td>\n",
       "      <td>0.0</td>\n",
       "      <td>0.0</td>\n",
       "    </tr>\n",
       "    <tr>\n",
       "      <th>...</th>\n",
       "      <td>...</td>\n",
       "      <td>...</td>\n",
       "      <td>...</td>\n",
       "      <td>...</td>\n",
       "      <td>...</td>\n",
       "      <td>...</td>\n",
       "      <td>...</td>\n",
       "      <td>...</td>\n",
       "      <td>...</td>\n",
       "    </tr>\n",
       "    <tr>\n",
       "      <th>8004</th>\n",
       "      <td>33.2</td>\n",
       "      <td>11.3</td>\n",
       "      <td>5.0</td>\n",
       "      <td>4.2</td>\n",
       "      <td>8.9</td>\n",
       "      <td>0.0</td>\n",
       "      <td>0.0</td>\n",
       "      <td>0.0</td>\n",
       "      <td>0.0</td>\n",
       "    </tr>\n",
       "    <tr>\n",
       "      <th>8005</th>\n",
       "      <td>32.1</td>\n",
       "      <td>9.8</td>\n",
       "      <td>5.9</td>\n",
       "      <td>1.7</td>\n",
       "      <td>9.0</td>\n",
       "      <td>0.0</td>\n",
       "      <td>0.0</td>\n",
       "      <td>0.0</td>\n",
       "      <td>0.0</td>\n",
       "    </tr>\n",
       "    <tr>\n",
       "      <th>8006</th>\n",
       "      <td>32.1</td>\n",
       "      <td>10.0</td>\n",
       "      <td>4.0</td>\n",
       "      <td>3.2</td>\n",
       "      <td>9.0</td>\n",
       "      <td>0.0</td>\n",
       "      <td>0.0</td>\n",
       "      <td>0.0</td>\n",
       "      <td>0.0</td>\n",
       "    </tr>\n",
       "    <tr>\n",
       "      <th>8007</th>\n",
       "      <td>33.4</td>\n",
       "      <td>9.9</td>\n",
       "      <td>1.5</td>\n",
       "      <td>4.6</td>\n",
       "      <td>8.6</td>\n",
       "      <td>0.0</td>\n",
       "      <td>0.0</td>\n",
       "      <td>0.0</td>\n",
       "      <td>0.0</td>\n",
       "    </tr>\n",
       "    <tr>\n",
       "      <th>8008</th>\n",
       "      <td>32.9</td>\n",
       "      <td>10.1</td>\n",
       "      <td>4.1</td>\n",
       "      <td>5.4</td>\n",
       "      <td>8.8</td>\n",
       "      <td>0.0</td>\n",
       "      <td>0.0</td>\n",
       "      <td>0.0</td>\n",
       "      <td>0.0</td>\n",
       "    </tr>\n",
       "  </tbody>\n",
       "</table>\n",
       "<p>8009 rows × 9 columns</p>\n",
       "</div>"
      ],
      "text/plain": [
       "      Solidity  Wtemp  WindSpeed  Temp  Sunshine  Rainfall  Density  \\\n",
       "0         31.9    7.0        6.4  -0.6       8.0       0.0      0.0   \n",
       "1         31.9    6.8        3.7   1.8       8.8       0.0      0.0   \n",
       "2         31.9    6.8        3.5   0.7       7.8       0.0      0.0   \n",
       "3         31.9    6.7        6.0   1.2       8.4       0.0      0.0   \n",
       "4         31.8    6.4        5.5   2.1       3.9       0.0      0.0   \n",
       "...        ...    ...        ...   ...       ...       ...      ...   \n",
       "8004      33.2   11.3        5.0   4.2       8.9       0.0      0.0   \n",
       "8005      32.1    9.8        5.9   1.7       9.0       0.0      0.0   \n",
       "8006      32.1   10.0        4.0   3.2       9.0       0.0      0.0   \n",
       "8007      33.4    9.9        1.5   4.6       8.6       0.0      0.0   \n",
       "8008      32.9   10.1        4.1   5.4       8.8       0.0      0.0   \n",
       "\n",
       "      1000_Density  min-max_Density  \n",
       "0              0.0              0.0  \n",
       "1              0.0              0.0  \n",
       "2              0.0              0.0  \n",
       "3              0.0              0.0  \n",
       "4              0.0              0.0  \n",
       "...            ...              ...  \n",
       "8004           0.0              0.0  \n",
       "8005           0.0              0.0  \n",
       "8006           0.0              0.0  \n",
       "8007           0.0              0.0  \n",
       "8008           0.0              0.0  \n",
       "\n",
       "[8009 rows x 9 columns]"
      ]
     },
     "execution_count": 5,
     "metadata": {},
     "output_type": "execute_result"
    }
   ],
   "source": [
    "df"
   ]
  },
  {
   "cell_type": "code",
   "execution_count": null,
   "id": "93d3cde1",
   "metadata": {
    "id": "93d3cde1",
    "outputId": "ed013a98-733b-4385-b3e1-ea672bc157e6"
   },
   "outputs": [
    {
     "data": {
      "text/plain": [
       "6546"
      ]
     },
     "execution_count": 6,
     "metadata": {},
     "output_type": "execute_result"
    }
   ],
   "source": [
    "TRAIN_SPLIT = 6546"
   ]
  },
  {
   "cell_type": "code",
   "execution_count": null,
   "id": "777a418f",
   "metadata": {
    "id": "777a418f"
   },
   "outputs": [],
   "source": [
    "# Density 값이 1000 이상일 경우 1000으로 고정\n",
    "\n",
    "def get_dens(v):\n",
    "    if v >= 1000:\n",
    "        density = 1000\n",
    "    else:\n",
    "        density = v\n",
    "    return density\n",
    "\n",
    "# get_dens(v) 함수 적용\n",
    "df[\"1000_Density\"] = df[\"Density\"].apply(lambda v : get_dens(v))\n",
    "\n",
    "# min_max_normalization 적용 column 생성\n",
    "df['min-max_Density'] = (df[\"1000_Density\"] - df[\"1000_Density\"].min()) / 1000\n",
    "\n",
    "# Oversampling을 위해 데이터 복제\n",
    "df['Oversample_Density'] = df['1000_Density']"
   ]
  },
  {
   "cell_type": "code",
   "execution_count": null,
   "id": "f002a377",
   "metadata": {
    "id": "f002a377"
   },
   "outputs": [],
   "source": [
    "# # Oversampling 1. 앞 쪽 데이터 증식\n",
    "\n",
    "for i in range(2,TRAIN_SPLIT):\n",
    "    if df['Oversample_Density'].iloc[i-2] == 0 and df['Oversample_Density'].iloc[i-1] == 0 and df['Oversample_Density'].iloc[i] != 0:\n",
    "        df['Oversample_Density'].iloc[i-2] = (df['Oversample_Density'].iloc[i])*1/3\n",
    "        df['Oversample_Density'].iloc[i-1] = (df['Oversample_Density'].iloc[i])*2/3\n",
    "        \n",
    "    elif df['Oversample_Density'].iloc[i-1] == 0 and df['Oversample_Density'].iloc[i] != 0:\n",
    "        df['Oversample_Density'].iloc[i-1] = (df['Oversample_Density'].iloc[i])*1/2"
   ]
  },
  {
   "cell_type": "code",
   "execution_count": null,
   "id": "9c98f344",
   "metadata": {
    "id": "9c98f344"
   },
   "outputs": [],
   "source": [
    "# # Oversampling 2. 뒤 쪽 데이터 증식\n",
    "\n",
    "for i in range(0,TRAIN_SPLIT):\n",
    "    if df['Oversample_Density'].iloc[i+2] == 0 and df['Oversample_Density'].iloc[i+1] == 0 and df['Oversample_Density'].iloc[i] != 0:\n",
    "        df['Oversample_Density'].iloc[i+2] = (df['Oversample_Density'].iloc[i])*1/3\n",
    "        df['Oversample_Density'].iloc[i+1] = (df['Oversample_Density'].iloc[i])*2/3\n",
    "        i = i+2"
   ]
  },
  {
   "cell_type": "code",
   "execution_count": null,
   "id": "65f2351c",
   "metadata": {
    "id": "65f2351c"
   },
   "outputs": [],
   "source": [
    "# Density값 10 이하일 경우 0으로 수렴\n",
    "\n",
    "def get_under10_dens(v):\n",
    "    if v < 10:\n",
    "        density = 0\n",
    "    else:\n",
    "        density = v\n",
    "    return density\n",
    "\n",
    "df[\"Oversample_Density\"] = df[\"Oversample_Density\"].apply(lambda v : get_under10_dens(v))"
   ]
  },
  {
   "cell_type": "code",
   "execution_count": null,
   "id": "88ac4aaf",
   "metadata": {
    "id": "88ac4aaf"
   },
   "outputs": [],
   "source": [
    "# Oversampling 된 값 반올림\n",
    "df['Oversample_Density'] = df['Oversample_Density'].round()"
   ]
  },
  {
   "cell_type": "code",
   "execution_count": null,
   "id": "7692435b",
   "metadata": {
    "id": "7692435b",
    "outputId": "64232e14-5efd-4305-a14d-8fd1d1cf8973"
   },
   "outputs": [
    {
     "name": "stdout",
     "output_type": "stream",
     "text": [
      "475\n"
     ]
    }
   ],
   "source": [
    "# Oversampling 이전 Density 값\n",
    "print(df.Density[df['1000_Density'] !=0].count())"
   ]
  },
  {
   "cell_type": "code",
   "execution_count": null,
   "id": "463916cf",
   "metadata": {
    "id": "463916cf",
    "outputId": "ae8e2d97-8773-4f0b-ce23-f4dc462d19c6"
   },
   "outputs": [
    {
     "name": "stdout",
     "output_type": "stream",
     "text": [
      "620\n"
     ]
    }
   ],
   "source": [
    "# Oversampling 이후 Density 값\n",
    "print(df.Density[df['Oversample_Density'] !=0].count())"
   ]
  },
  {
   "cell_type": "code",
   "execution_count": null,
   "id": "b10f7cb4",
   "metadata": {
    "id": "b10f7cb4"
   },
   "outputs": [],
   "source": [
    "# min_max_normalization 적용 column 생성\n",
    "df['Oversample_min-max_Density'] = (df[\"Oversample_Density\"] - df[\"Oversample_Density\"].min()) / 1000"
   ]
  },
  {
   "cell_type": "markdown",
   "id": "SZyQkcoy9DCU",
   "metadata": {
    "id": "SZyQkcoy9DCU"
   },
   "source": [
    "======================================================================="
   ]
  },
  {
   "cell_type": "markdown",
   "id": "13a16719",
   "metadata": {
    "id": "13a16719"
   },
   "source": [
    "## <예측에 사용할 데이터 준비> ##"
   ]
  },
  {
   "cell_type": "code",
   "execution_count": null,
   "id": "82716300",
   "metadata": {
    "id": "82716300"
   },
   "outputs": [],
   "source": [
    "group_list = df.columns"
   ]
  },
  {
   "cell_type": "code",
   "execution_count": null,
   "id": "29076891",
   "metadata": {
    "id": "29076891",
    "outputId": "cf9361db-683b-4f67-f238-38f8cee3911b"
   },
   "outputs": [
    {
     "data": {
      "text/html": [
       "<div>\n",
       "<style scoped>\n",
       "    .dataframe tbody tr th:only-of-type {\n",
       "        vertical-align: middle;\n",
       "    }\n",
       "\n",
       "    .dataframe tbody tr th {\n",
       "        vertical-align: top;\n",
       "    }\n",
       "\n",
       "    .dataframe thead th {\n",
       "        text-align: right;\n",
       "    }\n",
       "</style>\n",
       "<table border=\"1\" class=\"dataframe\">\n",
       "  <thead>\n",
       "    <tr style=\"text-align: right;\">\n",
       "      <th></th>\n",
       "      <th>0</th>\n",
       "    </tr>\n",
       "  </thead>\n",
       "  <tbody>\n",
       "    <tr>\n",
       "      <th>0</th>\n",
       "      <td>Solidity</td>\n",
       "    </tr>\n",
       "    <tr>\n",
       "      <th>1</th>\n",
       "      <td>Wtemp</td>\n",
       "    </tr>\n",
       "    <tr>\n",
       "      <th>2</th>\n",
       "      <td>WindSpeed</td>\n",
       "    </tr>\n",
       "    <tr>\n",
       "      <th>3</th>\n",
       "      <td>Temp</td>\n",
       "    </tr>\n",
       "    <tr>\n",
       "      <th>4</th>\n",
       "      <td>Sunshine</td>\n",
       "    </tr>\n",
       "    <tr>\n",
       "      <th>5</th>\n",
       "      <td>Rainfall</td>\n",
       "    </tr>\n",
       "    <tr>\n",
       "      <th>6</th>\n",
       "      <td>Density</td>\n",
       "    </tr>\n",
       "    <tr>\n",
       "      <th>7</th>\n",
       "      <td>1000_Density</td>\n",
       "    </tr>\n",
       "    <tr>\n",
       "      <th>8</th>\n",
       "      <td>min-max_Density</td>\n",
       "    </tr>\n",
       "    <tr>\n",
       "      <th>9</th>\n",
       "      <td>Oversample_Density</td>\n",
       "    </tr>\n",
       "    <tr>\n",
       "      <th>10</th>\n",
       "      <td>Oversample_min-max_Density</td>\n",
       "    </tr>\n",
       "  </tbody>\n",
       "</table>\n",
       "</div>"
      ],
      "text/plain": [
       "                             0\n",
       "0                     Solidity\n",
       "1                        Wtemp\n",
       "2                    WindSpeed\n",
       "3                         Temp\n",
       "4                     Sunshine\n",
       "5                     Rainfall\n",
       "6                      Density\n",
       "7                 1000_Density\n",
       "8              min-max_Density\n",
       "9           Oversample_Density\n",
       "10  Oversample_min-max_Density"
      ]
     },
     "execution_count": 16,
     "metadata": {},
     "output_type": "execute_result"
    }
   ],
   "source": [
    "pd.DataFrame(group_list)"
   ]
  },
  {
   "cell_type": "code",
   "execution_count": null,
   "id": "49a9cbfd",
   "metadata": {
    "id": "49a9cbfd",
    "outputId": "f7f1dd6d-83b0-4e82-a60c-662d74ecfced"
   },
   "outputs": [
    {
     "data": {
      "text/plain": [
       "['Solidity',\n",
       " 'Wtemp',\n",
       " 'Rainfall',\n",
       " 'Sunshine',\n",
       " 'WindSpeed',\n",
       " 'Oversample_min-max_Density']"
      ]
     },
     "execution_count": 17,
     "metadata": {},
     "output_type": "execute_result"
    }
   ],
   "source": [
    "# Considered feature 분류\n",
    "\n",
    "groups = [0, 1, 5, 4, 2 , 10] #6, 7, 8, 9\n",
    "features_considered = []\n",
    "for group in groups:\n",
    "    features_considered.append(df.columns[group])\n",
    "    \n",
    "features_considered"
   ]
  },
  {
   "cell_type": "code",
   "execution_count": null,
   "id": "05896fd9",
   "metadata": {
    "id": "05896fd9",
    "outputId": "d94f525a-e082-46aa-c734-593103779b6d"
   },
   "outputs": [
    {
     "data": {
      "text/html": [
       "<div>\n",
       "<style scoped>\n",
       "    .dataframe tbody tr th:only-of-type {\n",
       "        vertical-align: middle;\n",
       "    }\n",
       "\n",
       "    .dataframe tbody tr th {\n",
       "        vertical-align: top;\n",
       "    }\n",
       "\n",
       "    .dataframe thead th {\n",
       "        text-align: right;\n",
       "    }\n",
       "</style>\n",
       "<table border=\"1\" class=\"dataframe\">\n",
       "  <thead>\n",
       "    <tr style=\"text-align: right;\">\n",
       "      <th></th>\n",
       "      <th>Solidity</th>\n",
       "      <th>Wtemp</th>\n",
       "      <th>Rainfall</th>\n",
       "      <th>Sunshine</th>\n",
       "      <th>WindSpeed</th>\n",
       "      <th>Oversample_min-max_Density</th>\n",
       "    </tr>\n",
       "  </thead>\n",
       "  <tbody>\n",
       "    <tr>\n",
       "      <th>0</th>\n",
       "      <td>31.9</td>\n",
       "      <td>7.0</td>\n",
       "      <td>0.0</td>\n",
       "      <td>8.0</td>\n",
       "      <td>6.4</td>\n",
       "      <td>0.0</td>\n",
       "    </tr>\n",
       "    <tr>\n",
       "      <th>1</th>\n",
       "      <td>31.9</td>\n",
       "      <td>6.8</td>\n",
       "      <td>0.0</td>\n",
       "      <td>8.8</td>\n",
       "      <td>3.7</td>\n",
       "      <td>0.0</td>\n",
       "    </tr>\n",
       "    <tr>\n",
       "      <th>2</th>\n",
       "      <td>31.9</td>\n",
       "      <td>6.8</td>\n",
       "      <td>0.0</td>\n",
       "      <td>7.8</td>\n",
       "      <td>3.5</td>\n",
       "      <td>0.0</td>\n",
       "    </tr>\n",
       "    <tr>\n",
       "      <th>3</th>\n",
       "      <td>31.9</td>\n",
       "      <td>6.7</td>\n",
       "      <td>0.0</td>\n",
       "      <td>8.4</td>\n",
       "      <td>6.0</td>\n",
       "      <td>0.0</td>\n",
       "    </tr>\n",
       "    <tr>\n",
       "      <th>4</th>\n",
       "      <td>31.8</td>\n",
       "      <td>6.4</td>\n",
       "      <td>0.0</td>\n",
       "      <td>3.9</td>\n",
       "      <td>5.5</td>\n",
       "      <td>0.0</td>\n",
       "    </tr>\n",
       "  </tbody>\n",
       "</table>\n",
       "</div>"
      ],
      "text/plain": [
       "   Solidity  Wtemp  Rainfall  Sunshine  WindSpeed  Oversample_min-max_Density\n",
       "0      31.9    7.0       0.0       8.0        6.4                         0.0\n",
       "1      31.9    6.8       0.0       8.8        3.7                         0.0\n",
       "2      31.9    6.8       0.0       7.8        3.5                         0.0\n",
       "3      31.9    6.7       0.0       8.4        6.0                         0.0\n",
       "4      31.8    6.4       0.0       3.9        5.5                         0.0"
      ]
     },
     "execution_count": 18,
     "metadata": {},
     "output_type": "execute_result"
    }
   ],
   "source": [
    "# 고려할 feature만 선택\n",
    "\n",
    "features = df[features_considered]\n",
    "features.head()"
   ]
  },
  {
   "cell_type": "code",
   "execution_count": null,
   "id": "308fd566",
   "metadata": {
    "id": "308fd566",
    "outputId": "a0a444f1-3c70-458e-cf67-ec7aa94783ad"
   },
   "outputs": [
    {
     "data": {
      "text/html": [
       "<div>\n",
       "<style scoped>\n",
       "    .dataframe tbody tr th:only-of-type {\n",
       "        vertical-align: middle;\n",
       "    }\n",
       "\n",
       "    .dataframe tbody tr th {\n",
       "        vertical-align: top;\n",
       "    }\n",
       "\n",
       "    .dataframe thead th {\n",
       "        text-align: right;\n",
       "    }\n",
       "</style>\n",
       "<table border=\"1\" class=\"dataframe\">\n",
       "  <thead>\n",
       "    <tr style=\"text-align: right;\">\n",
       "      <th></th>\n",
       "      <th>Solidity</th>\n",
       "      <th>Wtemp</th>\n",
       "      <th>Rainfall</th>\n",
       "      <th>Sunshine</th>\n",
       "      <th>WindSpeed</th>\n",
       "      <th>Oversample_min-max_Density</th>\n",
       "    </tr>\n",
       "  </thead>\n",
       "  <tbody>\n",
       "    <tr>\n",
       "      <th>0</th>\n",
       "      <td>31.9</td>\n",
       "      <td>7.0</td>\n",
       "      <td>0.0</td>\n",
       "      <td>8.0</td>\n",
       "      <td>6.4</td>\n",
       "      <td>0.0</td>\n",
       "    </tr>\n",
       "    <tr>\n",
       "      <th>1</th>\n",
       "      <td>31.9</td>\n",
       "      <td>6.8</td>\n",
       "      <td>0.0</td>\n",
       "      <td>8.8</td>\n",
       "      <td>3.7</td>\n",
       "      <td>0.0</td>\n",
       "    </tr>\n",
       "    <tr>\n",
       "      <th>2</th>\n",
       "      <td>31.9</td>\n",
       "      <td>6.8</td>\n",
       "      <td>0.0</td>\n",
       "      <td>7.8</td>\n",
       "      <td>3.5</td>\n",
       "      <td>0.0</td>\n",
       "    </tr>\n",
       "    <tr>\n",
       "      <th>3</th>\n",
       "      <td>31.9</td>\n",
       "      <td>6.7</td>\n",
       "      <td>0.0</td>\n",
       "      <td>8.4</td>\n",
       "      <td>6.0</td>\n",
       "      <td>0.0</td>\n",
       "    </tr>\n",
       "    <tr>\n",
       "      <th>4</th>\n",
       "      <td>31.8</td>\n",
       "      <td>6.4</td>\n",
       "      <td>0.0</td>\n",
       "      <td>3.9</td>\n",
       "      <td>5.5</td>\n",
       "      <td>0.0</td>\n",
       "    </tr>\n",
       "    <tr>\n",
       "      <th>...</th>\n",
       "      <td>...</td>\n",
       "      <td>...</td>\n",
       "      <td>...</td>\n",
       "      <td>...</td>\n",
       "      <td>...</td>\n",
       "      <td>...</td>\n",
       "    </tr>\n",
       "    <tr>\n",
       "      <th>8004</th>\n",
       "      <td>33.2</td>\n",
       "      <td>11.3</td>\n",
       "      <td>0.0</td>\n",
       "      <td>8.9</td>\n",
       "      <td>5.0</td>\n",
       "      <td>0.0</td>\n",
       "    </tr>\n",
       "    <tr>\n",
       "      <th>8005</th>\n",
       "      <td>32.1</td>\n",
       "      <td>9.8</td>\n",
       "      <td>0.0</td>\n",
       "      <td>9.0</td>\n",
       "      <td>5.9</td>\n",
       "      <td>0.0</td>\n",
       "    </tr>\n",
       "    <tr>\n",
       "      <th>8006</th>\n",
       "      <td>32.1</td>\n",
       "      <td>10.0</td>\n",
       "      <td>0.0</td>\n",
       "      <td>9.0</td>\n",
       "      <td>4.0</td>\n",
       "      <td>0.0</td>\n",
       "    </tr>\n",
       "    <tr>\n",
       "      <th>8007</th>\n",
       "      <td>33.4</td>\n",
       "      <td>9.9</td>\n",
       "      <td>0.0</td>\n",
       "      <td>8.6</td>\n",
       "      <td>1.5</td>\n",
       "      <td>0.0</td>\n",
       "    </tr>\n",
       "    <tr>\n",
       "      <th>8008</th>\n",
       "      <td>32.9</td>\n",
       "      <td>10.1</td>\n",
       "      <td>0.0</td>\n",
       "      <td>8.8</td>\n",
       "      <td>4.1</td>\n",
       "      <td>0.0</td>\n",
       "    </tr>\n",
       "  </tbody>\n",
       "</table>\n",
       "<p>8009 rows × 6 columns</p>\n",
       "</div>"
      ],
      "text/plain": [
       "      Solidity  Wtemp  Rainfall  Sunshine  WindSpeed  \\\n",
       "0         31.9    7.0       0.0       8.0        6.4   \n",
       "1         31.9    6.8       0.0       8.8        3.7   \n",
       "2         31.9    6.8       0.0       7.8        3.5   \n",
       "3         31.9    6.7       0.0       8.4        6.0   \n",
       "4         31.8    6.4       0.0       3.9        5.5   \n",
       "...        ...    ...       ...       ...        ...   \n",
       "8004      33.2   11.3       0.0       8.9        5.0   \n",
       "8005      32.1    9.8       0.0       9.0        5.9   \n",
       "8006      32.1   10.0       0.0       9.0        4.0   \n",
       "8007      33.4    9.9       0.0       8.6        1.5   \n",
       "8008      32.9   10.1       0.0       8.8        4.1   \n",
       "\n",
       "      Oversample_min-max_Density  \n",
       "0                            0.0  \n",
       "1                            0.0  \n",
       "2                            0.0  \n",
       "3                            0.0  \n",
       "4                            0.0  \n",
       "...                          ...  \n",
       "8004                         0.0  \n",
       "8005                         0.0  \n",
       "8006                         0.0  \n",
       "8007                         0.0  \n",
       "8008                         0.0  \n",
       "\n",
       "[8009 rows x 6 columns]"
      ]
     },
     "execution_count": 19,
     "metadata": {},
     "output_type": "execute_result"
    }
   ],
   "source": [
    "features\n",
    "#features.loc[6000:8000].plot(subplots=True)"
   ]
  },
  {
   "cell_type": "code",
   "execution_count": null,
   "id": "6601b4af",
   "metadata": {
    "id": "6601b4af",
    "outputId": "7a60fd64-c6cd-403d-8cb0-9abed4e4aea6"
   },
   "outputs": [
    {
     "data": {
      "text/plain": [
       "array([<AxesSubplot:>, <AxesSubplot:>, <AxesSubplot:>, <AxesSubplot:>,\n",
       "       <AxesSubplot:>, <AxesSubplot:>], dtype=object)"
      ]
     },
     "execution_count": 20,
     "metadata": {},
     "output_type": "execute_result"
    },
    {
     "data": {
      "image/png": "[encoded data removed]",
      "text/plain": [
       "<Figure size 1440x432 with 6 Axes>"
      ]
     },
     "metadata": {
      "needs_background": "light"
     },
     "output_type": "display_data"
    }
   ],
   "source": [
    "features.plot(subplots=True)"
   ]
  },
  {
   "cell_type": "markdown",
   "id": "cabed3c5",
   "metadata": {
    "id": "cabed3c5"
   },
   "source": [
    "## <데이터 정규화> ##"
   ]
  },
  {
   "cell_type": "code",
   "execution_count": null,
   "id": "b7188bd2",
   "metadata": {
    "id": "b7188bd2",
    "outputId": "143a2e51-b6d0-477b-b080-4a665dfddd4c"
   },
   "outputs": [
    {
     "data": {
      "text/plain": [
       "array([[31.9,  7. ,  0. ,  8. ,  6.4,  0. ],\n",
       "       [31.9,  6.8,  0. ,  8.8,  3.7,  0. ],\n",
       "       [31.9,  6.8,  0. ,  7.8,  3.5,  0. ],\n",
       "       ...,\n",
       "       [32.1, 10. ,  0. ,  9. ,  4. ,  0. ],\n",
       "       [33.4,  9.9,  0. ,  8.6,  1.5,  0. ],\n",
       "       [32.9, 10.1,  0. ,  8.8,  4.1,  0. ]])"
      ]
     },
     "execution_count": 21,
     "metadata": {},
     "output_type": "execute_result"
    }
   ],
   "source": [
    "# feature 값을 np matrix로 나타냄\n",
    "dataset = features.values\n",
    "dataset"
   ]
  },
  {
   "cell_type": "code",
   "execution_count": null,
   "id": "2ecdc418",
   "metadata": {
    "id": "2ecdc418",
    "outputId": "575721ad-1d69-41d3-bae2-8f9051adae35"
   },
   "outputs": [
    {
     "data": {
      "text/plain": [
       "(8009, 6)"
      ]
     },
     "execution_count": 22,
     "metadata": {},
     "output_type": "execute_result"
    }
   ],
   "source": [
    "dataset.shape"
   ]
  },
  {
   "cell_type": "code",
   "execution_count": null,
   "id": "719f4cdc",
   "metadata": {
    "id": "719f4cdc",
    "outputId": "178e051b-7915-4ad8-d89a-fe7abfe83b26"
   },
   "outputs": [
    {
     "data": {
      "text/plain": [
       "array([[31.9,  7. ,  0. ,  8. ,  6.4],\n",
       "       [31.9,  6.8,  0. ,  8.8,  3.7],\n",
       "       [31.9,  6.8,  0. ,  7.8,  3.5],\n",
       "       ...,\n",
       "       [32.1, 10. ,  0. ,  9. ,  4. ],\n",
       "       [33.4,  9.9,  0. ,  8.6,  1.5],\n",
       "       [32.9, 10.1,  0. ,  8.8,  4.1]])"
      ]
     },
     "execution_count": 23,
     "metadata": {},
     "output_type": "execute_result"
    }
   ],
   "source": [
    "dataset[:,:len(groups)-1]"
   ]
  },
  {
   "cell_type": "code",
   "execution_count": null,
   "id": "9a3f5953",
   "metadata": {
    "id": "9a3f5953",
    "outputId": "e932fb1f-d070-482c-d200-f87e39278e27"
   },
   "outputs": [
    {
     "name": "stdout",
     "output_type": "stream",
     "text": [
      "8009\n"
     ]
    }
   ],
   "source": [
    "data_mean = dataset[:TRAIN_SPLIT,:len(groups)-1].mean(axis=0) \n",
    "data_std = dataset[:TRAIN_SPLIT,:len(groups)-1].std(axis=0)\n",
    "dataset[:,:len(groups)-1] = (dataset[:,:len(groups)-1] - data_mean)/data_std"
   ]
  },
  {
   "cell_type": "code",
   "execution_count": null,
   "id": "90ae7522",
   "metadata": {
    "id": "90ae7522",
    "outputId": "5c5b28eb-82f5-41e7-b7d8-9dbecac86370"
   },
   "outputs": [
    {
     "data": {
      "text/plain": [
       "[<matplotlib.lines.Line2D at 0x159c8915910>]"
      ]
     },
     "execution_count": 26,
     "metadata": {},
     "output_type": "execute_result"
    },
    {
     "data": {
      "image/png": "[encoded data removed]",
      "text/plain": [
       "<Figure size 1440x216 with 1 Axes>"
      ]
     },
     "metadata": {
      "needs_background": "light"
     },
     "output_type": "display_data"
    }
   ],
   "source": [
    "plt.figure(figsize=(20,3))\n",
    "plt.plot(dataset[:,len(groups)-1])"
   ]
  },
  {
   "cell_type": "markdown",
   "id": "3bd88a89",
   "metadata": {
    "id": "3bd88a89"
   },
   "source": [
    "## <LSTM 데이터 적용> ##"
   ]
  },
  {
   "cell_type": "markdown",
   "id": "a9790022",
   "metadata": {
    "id": "a9790022"
   },
   "source": [
    "### Iteration 변수 설정"
   ]
  },
  {
   "cell_type": "code",
   "execution_count": null,
   "id": "4c7a4de7",
   "metadata": {
    "id": "4c7a4de7"
   },
   "outputs": [],
   "source": [
    "EPOCHS = 100\n",
    "BATCH_SIZE = 16\n",
    "BUFFER_SIZE = 10000"
   ]
  },
  {
   "cell_type": "markdown",
   "id": "b079712c",
   "metadata": {
    "id": "b079712c"
   },
   "source": [
    "### 각종 함수 선언"
   ]
  },
  {
   "cell_type": "code",
   "execution_count": null,
   "id": "f326909d",
   "metadata": {
    "id": "f326909d"
   },
   "outputs": [],
   "source": [
    "def create_time_steps(length):\n",
    "    return list(range(-length,0))"
   ]
  },
  {
   "cell_type": "code",
   "execution_count": null,
   "id": "47ba6326",
   "metadata": {
    "id": "47ba6326"
   },
   "outputs": [],
   "source": [
    "def multivariate_data(dataset, target, start_index, end_index, history_size, \n",
    "                      target_size, step, single_step=False):\n",
    "    \n",
    "    data = []\n",
    "    labels = []\n",
    "    \n",
    "    start_index = start_index + history_size\n",
    "    if end_index is None:\n",
    "        end_index = len(dataset) - target_size\n",
    "        \n",
    "    for i in range(start_index, end_index):\n",
    "        indices = range(i - history_size, i, step)\n",
    "        data.append(dataset[indices])\n",
    "        \n",
    "        if single_step:\n",
    "            labels.append(target[i + target_size])\n",
    "        else:\n",
    "            labels.append(target[i:i+target_size])\n",
    "            \n",
    "    return np.array(data), np.array(labels)"
   ]
  },
  {
   "cell_type": "code",
   "execution_count": null,
   "id": "981deb07",
   "metadata": {
    "id": "981deb07"
   },
   "outputs": [],
   "source": [
    "def multi_step_plot(history, true_future, prediction):\n",
    "    plt.figure(figsize=(12,3))\n",
    "    num_in = create_time_steps(len(history))\n",
    "    num_out = len(true_future)\n",
    "    \n",
    "    plt.plot(num_in, np.array(history), label='History')\n",
    "    plt.plot(np.arange(num_out)/STEP, np.array(true_future), 'bo', \n",
    "             label = 'True Future')\n",
    "    \n",
    "    if prediction.any():\n",
    "        plt.plot(np.arange(num_out)/STEP, np.array(prediction), 'ro', \n",
    "                 label = 'Predicted Future')\n",
    "    \n",
    "    plt.legend(loc = 'upper left')\n",
    "    plt.show()"
   ]
  },
  {
   "cell_type": "code",
   "execution_count": null,
   "id": "dade83f7",
   "metadata": {
    "id": "dade83f7"
   },
   "outputs": [],
   "source": [
    "def plot_train_history(history, title):\n",
    "    loss = history.history['loss']\n",
    "    val_loss = history.history['val_loss']\n",
    "    \n",
    "    epochs = range(len(loss))\n",
    "    \n",
    "    plt.figure()\n",
    "    \n",
    "    plt.plot(epochs, loss, 'b', label = 'Training loss')\n",
    "    plt.plot(epochs, val_loss, 'r', label = 'Validation loss')\n",
    "    plt.title(title)\n",
    "    plt.legend()\n",
    "    \n",
    "    plt.show()"
   ]
  },
  {
   "cell_type": "markdown",
   "id": "eec20855",
   "metadata": {
    "id": "eec20855"
   },
   "source": [
    "## Multi step model - 2days"
   ]
  },
  {
   "cell_type": "code",
   "execution_count": null,
   "id": "35b79b75",
   "metadata": {
    "id": "35b79b75"
   },
   "outputs": [],
   "source": [
    "past_history = 30 # n일간의 데이터 조회\n",
    "future_target = 3 # n일의 결과 예측\n",
    "STEP = 1 # time stamp\n",
    "\n",
    "from sklearn.model_selection import train_test_split\n",
    "x_train_multi, y_train_multi = multivariate_data(dataset[:,:len(groups)-1], dataset[:,len(groups)-1], 0, TRAIN_SPLIT, \n",
    "                                                 past_history, future_target, STEP)\n",
    "\n",
    "x_val_multi, y_val_multi = multivariate_data(dataset[:,:len(groups)-1], dataset[:,len(groups)-1], TRAIN_SPLIT, \n",
    "                                             None, past_history, future_target, STEP)\n",
    "\n",
    "# x_test_multi, x_val_multi, y_test_multi, y_val_multi = train_test_split(x_val_multi, y_val_multi, test_size = 0.5)\n",
    "\n",
    "# print(len(x_test_multi), len(x_val_multi), len(y_test_multi), len(y_val_multi))"
   ]
  },
  {
   "cell_type": "code",
   "execution_count": null,
   "id": "58dda6cc",
   "metadata": {
    "id": "58dda6cc",
    "outputId": "ad6c28c8-e495-490a-f4bc-86a2c39ed1c3"
   },
   "outputs": [
    {
     "data": {
      "text/plain": [
       "array([[ 0.61581074, -1.29093948, -0.26355957,  0.39273935,  2.33293146],\n",
       "       [ 0.61581074, -1.31995065, -0.26355957,  0.59380667,  0.41984756],\n",
       "       [ 0.61581074, -1.31995065, -0.26355957,  0.34247253,  0.27813765],\n",
       "       ...,\n",
       "       [ 0.66766765, -0.85577192, -0.26355957,  0.6440735 ,  0.63241244],\n",
       "       [ 1.00473759, -0.87027751, -0.26355957,  0.54353984, -1.13896153],\n",
       "       [ 0.8750953 , -0.84126634, -0.26355957,  0.59380667,  0.7032674 ]])"
      ]
     },
     "execution_count": 33,
     "metadata": {},
     "output_type": "execute_result"
    }
   ],
   "source": [
    "dataset[:,:5]"
   ]
  },
  {
   "cell_type": "code",
   "execution_count": null,
   "id": "c8d12f6b",
   "metadata": {
    "id": "c8d12f6b",
    "outputId": "3a3181eb-3ca5-4b8a-9a42-a8a25ebd03ae"
   },
   "outputs": [
    {
     "data": {
      "text/plain": [
       "array([0., 0., 0., ..., 0., 0., 0.])"
      ]
     },
     "execution_count": 34,
     "metadata": {},
     "output_type": "execute_result"
    }
   ],
   "source": [
    "dataset[:,len(groups)-1]"
   ]
  },
  {
   "cell_type": "code",
   "execution_count": null,
   "id": "2b768370",
   "metadata": {
    "id": "2b768370",
    "outputId": "464dafe1-8d31-4bd7-e329-7c3a0cccfbed"
   },
   "outputs": [
    {
     "name": "stdout",
     "output_type": "stream",
     "text": [
      "Single window of past history : (30, 5)\n",
      "\n",
      "Target Density to predict : (3,)\n"
     ]
    }
   ],
   "source": [
    "print('Single window of past history : {}'.format(x_train_multi[0].shape))\n",
    "print('\\nTarget Density to predict : {}'.format(y_train_multi[0].shape))"
   ]
  },
  {
   "cell_type": "code",
   "execution_count": null,
   "id": "ce40274e",
   "metadata": {
    "id": "ce40274e"
   },
   "outputs": [],
   "source": [
    "train_data_multi = tf.data.Dataset.from_tensor_slices((x_train_multi, y_train_multi))\n",
    "train_data_multi = train_data_multi.cache().shuffle(BUFFER_SIZE).batch(len(dataset)-TRAIN_SPLIT).repeat()\n",
    "\n",
    "val_data_multi = tf.data.Dataset.from_tensor_slices((x_val_multi, y_val_multi))\n",
    "val_data_multi = val_data_multi.batch(len(dataset)-TRAIN_SPLIT).repeat()"
   ]
  },
  {
   "cell_type": "code",
   "execution_count": null,
   "id": "3a1161d6",
   "metadata": {
    "id": "3a1161d6"
   },
   "outputs": [],
   "source": [
    "tf.random.set_seed(0)\n",
    "model = tf.keras.models.Sequential()\n",
    "####################################Model Layers###########################################\n",
    "model.add(tf.keras.layers.LSTM(16,activation = 'relu',input_shape = x_train_multi.shape[-2:]))\n",
    "model.add(tf.keras.layers.Dense(3)) # <- 예측 갯수에 따라서 dense 값 수정 할 것(현재 3일 예측)\n",
    "\n",
    "adam = tf.keras.optimizers.Adam(learning_rate=0.01)\n",
    "model.compile(optimizer='adam', loss='mse')"
   ]
  },
  {
   "cell_type": "code",
   "execution_count": null,
   "id": "89f7c421",
   "metadata": {
    "id": "89f7c421",
    "outputId": "b21ee87c-cef8-4b06-8981-4a1d6fa636b9"
   },
   "outputs": [
    {
     "name": "stdout",
     "output_type": "stream",
     "text": [
      "(1430, 3)\n",
      "WARNING:tensorflow:ModelCheckpoint mode a is unknown, fallback to auto mode.\n"
     ]
    }
   ],
   "source": [
    "for x, y in val_data_multi.take(1):\n",
    "    print(model.predict(x).shape)\n",
    "es = EarlyStopping(monitor='val_loss', mode='min', verbose=1, patience = 1)\n",
    "mc = ModelCheckpoint('best_model.h5', monitor='val_loss', mode='a', save_best_only=True)\n"
   ]
  },
  {
   "cell_type": "code",
   "execution_count": null,
   "id": "0d544421",
   "metadata": {
    "id": "0d544421",
    "outputId": "6027492b-b4aa-490e-d382-5c4a7a6a430b",
    "scrolled": false
   },
   "outputs": [
    {
     "name": "stdout",
     "output_type": "stream",
     "text": [
      "Epoch 1/100\n",
      "500/500 [==============================] - 15s 30ms/step - loss: 0.0228 - val_loss: 0.0338\n",
      "Epoch 2/100\n",
      "500/500 [==============================] - 15s 30ms/step - loss: 0.0079 - val_loss: 0.0345\n",
      "Epoch 00002: early stopping\n"
     ]
    }
   ],
   "source": [
    "##########모델생성###############\n",
    "history = model.fit(train_data_multi, epochs = EPOCHS,\n",
    "                                          batch_size = BATCH_SIZE,\n",
    "                                          steps_per_epoch = len(dataset)/BATCH_SIZE, \n",
    "                                          validation_data = val_data_multi, validation_steps = 14, callbacks = [es,mc])"
   ]
  },
  {
   "cell_type": "markdown",
   "id": "434e488f",
   "metadata": {
    "id": "434e488f"
   },
   "source": [
    "# 적조 예측"
   ]
  },
  {
   "cell_type": "code",
   "execution_count": null,
   "id": "1ccc6297",
   "metadata": {
    "id": "1ccc6297"
   },
   "outputs": [],
   "source": [
    "# y값 -> 실제 값 DataFrame에 저장\n",
    "\n",
    "y_np_array = np.array(y)\n",
    "real_value = pd.DataFrame(y_np_array)\n",
    "real_value"
   ]
  },
  {
   "cell_type": "code",
   "execution_count": null,
   "id": "f2f5af65",
   "metadata": {
    "id": "f2f5af65"
   },
   "outputs": [],
   "source": [
    "# multi_step_model.predict 값 -> 예측 값 DataFrame에 저장\n",
    "predict_value = pd.DataFrame(model.predict(x))\n",
    "predict_value\n"
   ]
  },
  {
   "cell_type": "code",
   "execution_count": null,
   "id": "44ca3ead",
   "metadata": {},
   "outputs": [],
   "source": [
    "result = pd.concat([real_value,predict_value], axis=1)\n",
    "result.columns = ['real_1','real_2','real','predict_1','predict_2','predict']"
   ]
  },
  {
   "cell_type": "code",
   "execution_count": null,
   "id": "d8402d9c",
   "metadata": {
    "id": "d8402d9c"
   },
   "outputs": [],
   "source": [
    "for col in result.columns:    \n",
    "    for i in range(0,len(result[col])):\n",
    "        if int(result[col][i]) < 0:\n",
    "            result[col][i] = 0\n",
    "        if int(result[col][i]) > 1:\n",
    "            result[col][i] = 1"
   ]
  },
  {
   "cell_type": "markdown",
   "id": "-gW03ukLxTA2",
   "metadata": {
    "id": "-gW03ukLxTA2"
   },
   "source": [
    "**적조발생 수치 계산**"
   ]
  },
  {
   "cell_type": "code",
   "execution_count": null,
   "id": "db18eeda",
   "metadata": {
    "id": "db18eeda"
   },
   "outputs": [],
   "source": [
    "red_tied_rate = 0.1  #적조 발생 밀도 기준치\n",
    "TP = result.real[(result['real'] >= red_tied_rate) & (result['predict'] >= red_tied_rate)].count()\n",
    "TN = result.real[(result['real'] < red_tied_rate) & (result['predict'] < red_tied_rate)].count()\n",
    "FN = result.real[(result['real'] >= red_tied_rate) & (result['predict'] < red_tied_rate)].count()\n",
    "FP = result.real[(result['real'] < red_tied_rate) & (result['predict'] >= red_tied_rate)].count()\n",
    "Pr = result.real[(result['real'] >= red_tied_rate)].count()\n",
    "Nr = result.real[(result['real'] < red_tied_rate)].count()\n",
    "Pp = result.real[(result['predict'] >= red_tied_rate)].count()\n",
    "Np = result.real[(result['real'] < red_tied_rate)].count()\n",
    "All = Pr + Nr"
   ]
  },
  {
   "cell_type": "code",
   "execution_count": null,
   "id": "c31627a7",
   "metadata": {
    "id": "c31627a7"
   },
   "outputs": [],
   "source": [
    "TP1 = result.real[(result['real_1'] >= red_tied_rate) & (result['predict_1'] >= red_tied_rate)].count()\n",
    "TN1 = result.real[(result['real_1'] < red_tied_rate) & (result['predict_1'] < red_tied_rate)].count()\n",
    "FN1 = result.real[(result['real_1'] >= red_tied_rate) & (result['predict_1'] < red_tied_rate)].count()\n",
    "FP1 = result.real[(result['real_1'] < red_tied_rate) & (result['predict_1'] >= red_tied_rate)].count()\n",
    "Pr1 = result.real[(result['real_1'] >= red_tied_rate)].count()\n",
    "Nr1 = result.real[(result['real_1'] < red_tied_rate)].count()\n",
    "Pp1 = result.real[(result['predict_1'] >= red_tied_rate)].count()\n",
    "Np1 = result.real[(result['real_1'] < red_tied_rate)].count()\n",
    "All1 = Pr1 + Nr1"
   ]
  },
  {
   "cell_type": "code",
   "execution_count": null,
   "id": "2ea3637d",
   "metadata": {
    "id": "2ea3637d"
   },
   "outputs": [],
   "source": [
    "TP2 = result.real[(result['real_2'] >= red_tied_rate) & (result['predict_2'] >= red_tied_rate)].count()\n",
    "TN2 = result.real[(result['real_2'] < red_tied_rate) & (result['predict_2'] < red_tied_rate)].count()\n",
    "FN2 = result.real[(result['real_2'] >= red_tied_rate) & (result['predict_2'] < red_tied_rate)].count()\n",
    "FP2 = result.real[(result['real_2'] < red_tied_rate) & (result['predict_2'] >= red_tied_rate)].count()\n",
    "Pr2 = result.real[(result['real_2'] >= red_tied_rate)].count()\n",
    "Nr2 = result.real[(result['real_2'] < red_tied_rate)].count()\n",
    "Pp2 = result.real[(result['predict_2'] >= red_tied_rate)].count()\n",
    "Np2 = result.real[(result['real_2'] < red_tied_rate)].count()\n",
    "All2 = Pr2 + Nr2"
   ]
  },
  {
   "cell_type": "markdown",
   "id": "vAbYdED8xboG",
   "metadata": {
    "id": "vAbYdED8xboG"
   },
   "source": [
    "**1일차 적조 예측**"
   ]
  },
  {
   "cell_type": "code",
   "execution_count": null,
   "id": "1a5ac7f2",
   "metadata": {
    "id": "1a5ac7f2",
    "outputId": "31e4f1d2-4c0c-42aa-c7fd-a5e5377851fc"
   },
   "outputs": [
    {
     "name": "stdout",
     "output_type": "stream",
     "text": [
      "TP = 104\n",
      "TN = 1195\n",
      "FN = 7\n",
      "FP = 124\n",
      "Pr = 111\n",
      "Nr = 1319\n",
      "Pp = 228\n",
      "Np = 1319\n",
      "All = 1430\n"
     ]
    }
   ],
   "source": [
    "print(\"TP = {}\".format(TP))\n",
    "print(\"TN = {}\".format(TN))\n",
    "print(\"FN = {}\".format(FN))\n",
    "print(\"FP = {}\".format(FP))\n",
    "print(\"Pr = {}\".format(Pr))\n",
    "print(\"Nr = {}\".format(Nr))\n",
    "print(\"Pp = {}\".format(Pp))\n",
    "print(\"Np = {}\".format(Np))\n",
    "print(\"All = {}\".format(All))"
   ]
  },
  {
   "cell_type": "code",
   "execution_count": null,
   "id": "f138c261",
   "metadata": {
    "id": "f138c261",
    "outputId": "e59371d0-3bbb-4f58-c024-79b94d24ec06"
   },
   "outputs": [
    {
     "name": "stdout",
     "output_type": "stream",
     "text": [
      "Precision = 0.45614035087719296\n",
      "Recall = 0.9369369369369369\n",
      "F1_Score = 0.6135693215339233\n"
     ]
    }
   ],
   "source": [
    "Precision = TP /(TP+FP)\n",
    "Recall = TP /(TP+FN)\n",
    "F1_Score = (2*Precision*Recall) / (Precision + Recall)\n",
    "print(\"Precision = {}\".format(Precision))\n",
    "print(\"Recall = {}\".format(Recall))\n",
    "print(\"F1_Score = {}\".format(F1_Score))"
   ]
  },
  {
   "cell_type": "code",
   "execution_count": null,
   "id": "159ebfb0",
   "metadata": {
    "id": "159ebfb0",
    "outputId": "070697b7-1914-428e-bff6-021f1ce60049"
   },
   "outputs": [
    {
     "name": "stdout",
     "output_type": "stream",
     "text": [
      "Accuracy = 0.9083916083916084\n",
      "Error Rate = 0.09160839160839161\n",
      "Sensitivity = 0.9369369369369369\n",
      "Specificity = 0.9059893858984079\n",
      "Precision = 0.45614035087719296\n",
      "Recall = 0.9369369369369369\n",
      "F1_Score = 0.6135693215339233\n"
     ]
    }
   ],
   "source": [
    "print(\"Accuracy = {}\".format((TP+TN)/ All))\n",
    "print(\"Error Rate = {}\".format((FP+FN)/ All))\n",
    "print(\"Sensitivity = {}\".format(TP /Pr))\n",
    "print(\"Specificity = {}\".format(TN /Nr))\n",
    "print(\"Precision = {}\".format(Precision))\n",
    "print(\"Recall = {}\".format(Recall))\n",
    "print(\"F1_Score = {}\".format(F1_Score))"
   ]
  },
  {
   "cell_type": "code",
   "execution_count": null,
   "id": "99ec7db7",
   "metadata": {
    "id": "99ec7db7",
    "outputId": "e3cce016-0e3d-4e76-c040-938b3e9e4b1d"
   },
   "outputs": [
    {
     "data": {
      "text/plain": [
       "<AxesSubplot:>"
      ]
     },
     "execution_count": 85,
     "metadata": {},
     "output_type": "execute_result"
    },
    {
     "data": {
      "image/png": "[encoded data removed]",
      "text/plain": [
       "<Figure size 1440x432 with 1 Axes>"
      ]
     },
     "metadata": {
      "needs_background": "light"
     },
     "output_type": "display_data"
    }
   ],
   "source": [
    "result[['real','predict']].plot()"
   ]
  },
  {
   "cell_type": "markdown",
   "id": "peojpp_8xreE",
   "metadata": {
    "id": "peojpp_8xreE"
   },
   "source": [
    "**2일차 적조 예측**"
   ]
  },
  {
   "cell_type": "code",
   "execution_count": null,
   "id": "5b1d38c5",
   "metadata": {
    "id": "5b1d38c5",
    "outputId": "75593ddf-77b4-4804-9a21-5f9d698dead3"
   },
   "outputs": [
    {
     "name": "stdout",
     "output_type": "stream",
     "text": [
      "TP1 = 100\n",
      "TN1 = 1207\n",
      "FN1 = 11\n",
      "FP1 = 112\n",
      "Pr1 = 111\n",
      "Nr1 = 1319\n",
      "Pp1 = 212\n",
      "Np1 = 1319\n",
      "All1 = 1430\n"
     ]
    }
   ],
   "source": [
    "print(\"TP1 = {}\".format(TP1))\n",
    "print(\"TN1 = {}\".format(TN1))\n",
    "print(\"FN1 = {}\".format(FN1))\n",
    "print(\"FP1 = {}\".format(FP1))\n",
    "print(\"Pr1 = {}\".format(Pr1))\n",
    "print(\"Nr1 = {}\".format(Nr1))\n",
    "print(\"Pp1 = {}\".format(Pp1))\n",
    "print(\"Np1 = {}\".format(Np1))\n",
    "print(\"All1 = {}\".format(All1))"
   ]
  },
  {
   "cell_type": "code",
   "execution_count": null,
   "id": "89690936",
   "metadata": {
    "id": "89690936",
    "outputId": "96bf7a8d-fe40-4cb9-f250-9ae5f20a33e1"
   },
   "outputs": [
    {
     "name": "stdout",
     "output_type": "stream",
     "text": [
      "Precision1 = 0.4716981132075472\n",
      "Recall1 = 0.9009009009009009\n",
      "F1_Score1 = 0.6191950464396284\n"
     ]
    }
   ],
   "source": [
    "Precision1 = TP1 /(TP1+FP1)\n",
    "Recall1 = TP1 /(TP1+FN1)\n",
    "F1_Score1 = (2*Precision1*Recall1) / (Precision1 + Recall1)\n",
    "print(\"Precision1 = {}\".format(Precision1))\n",
    "print(\"Recall1 = {}\".format(Recall1))\n",
    "print(\"F1_Score1 = {}\".format(F1_Score1))"
   ]
  },
  {
   "cell_type": "code",
   "execution_count": null,
   "id": "b280e5cf",
   "metadata": {
    "id": "b280e5cf",
    "outputId": "42e6f481-9de7-4c5c-d2d7-b84eed22c489"
   },
   "outputs": [
    {
     "name": "stdout",
     "output_type": "stream",
     "text": [
      "Accuracy1 = 0.913986013986014\n",
      "Error Rate1 = 0.08601398601398601\n",
      "Sensitivity1 = 0.9009009009009009\n",
      "Specificity1 = 0.9150871872630781\n",
      "Precision1 = 0.4716981132075472\n",
      "Recall1 = 0.9009009009009009\n",
      "F1_Score1 = 0.6191950464396284\n"
     ]
    }
   ],
   "source": [
    "print(\"Accuracy1 = {}\".format((TP1+TN1)/ All1))\n",
    "print(\"Error Rate1 = {}\".format((FP1+FN1)/ All1))\n",
    "print(\"Sensitivity1 = {}\".format(TP1 /Pr1))\n",
    "print(\"Specificity1 = {}\".format(TN1 /Nr1))\n",
    "print(\"Precision1 = {}\".format(Precision1))\n",
    "print(\"Recall1 = {}\".format(Recall1))\n",
    "print(\"F1_Score1 = {}\".format(F1_Score1))"
   ]
  },
  {
   "cell_type": "code",
   "execution_count": null,
   "id": "07052288",
   "metadata": {
    "id": "07052288",
    "outputId": "4acab070-99de-4282-dab3-4790014e96da"
   },
   "outputs": [
    {
     "data": {
      "text/plain": [
       "<AxesSubplot:>"
      ]
     },
     "execution_count": 89,
     "metadata": {},
     "output_type": "execute_result"
    },
    {
     "data": {
      "image/png": "[encoded data removed]",
      "text/plain": [
       "<Figure size 1440x432 with 1 Axes>"
      ]
     },
     "metadata": {
      "needs_background": "light"
     },
     "output_type": "display_data"
    }
   ],
   "source": [
    "result[['real_1','predict_1']].plot()"
   ]
  },
  {
   "cell_type": "markdown",
   "id": "wGECjFz0xwL7",
   "metadata": {
    "id": "wGECjFz0xwL7"
   },
   "source": [
    "**3일차 적조 예측**"
   ]
  },
  {
   "cell_type": "code",
   "execution_count": null,
   "id": "93ae5e1c",
   "metadata": {
    "id": "93ae5e1c",
    "outputId": "8091d3a3-15b1-4b36-ce7b-d04a02655f86"
   },
   "outputs": [
    {
     "name": "stdout",
     "output_type": "stream",
     "text": [
      "TP2 = 107\n",
      "TN2 = 1164\n",
      "FN2 = 4\n",
      "FP2 = 155\n",
      "Pr2 = 111\n",
      "Nr2 = 1319\n",
      "Pp2 = 262\n",
      "Np2 = 1319\n",
      "All2 = 1430\n"
     ]
    }
   ],
   "source": [
    "print(\"TP2 = {}\".format(TP2))\n",
    "print(\"TN2 = {}\".format(TN2))\n",
    "print(\"FN2 = {}\".format(FN2))\n",
    "print(\"FP2 = {}\".format(FP2))\n",
    "print(\"Pr2 = {}\".format(Pr2))\n",
    "print(\"Nr2 = {}\".format(Nr2))\n",
    "print(\"Pp2 = {}\".format(Pp2))\n",
    "print(\"Np2 = {}\".format(Np2))\n",
    "print(\"All2 = {}\".format(All2))"
   ]
  },
  {
   "cell_type": "code",
   "execution_count": null,
   "id": "794b4a75",
   "metadata": {
    "id": "794b4a75",
    "outputId": "5d369750-ef77-425c-e6b2-ed3c18bdf160"
   },
   "outputs": [
    {
     "name": "stdout",
     "output_type": "stream",
     "text": [
      "Precision2 = 0.4083969465648855\n",
      "Recall2 = 0.963963963963964\n",
      "F1_Score2 = 0.5737265415549598\n"
     ]
    }
   ],
   "source": [
    "Precision2 = TP2 /(TP2+FP2)\n",
    "Recall2 = TP2 /(TP2+FN2)\n",
    "F1_Score2 = (2*Precision2*Recall2) / (Precision2 + Recall2)\n",
    "print(\"Precision2 = {}\".format(Precision2))\n",
    "print(\"Recall2 = {}\".format(Recall2))\n",
    "print(\"F1_Score2 = {}\".format(F1_Score2))"
   ]
  },
  {
   "cell_type": "code",
   "execution_count": null,
   "id": "b4ba2ead",
   "metadata": {
    "id": "b4ba2ead",
    "outputId": "d8e2c07b-1b22-4649-af03-9ef47beb6d9e"
   },
   "outputs": [
    {
     "name": "stdout",
     "output_type": "stream",
     "text": [
      "Accuracy2 = 0.8888111888111888\n",
      "Error Rate2 = 0.11118881118881119\n",
      "Sensitivity2 = 0.963963963963964\n",
      "Specificity2 = 0.8824867323730099\n",
      "Precision2 = 0.4083969465648855\n",
      "Recall2 = 0.963963963963964\n",
      "F1_Score2 = 0.5737265415549598\n"
     ]
    }
   ],
   "source": [
    "print(\"Accuracy2 = {}\".format((TP2+TN2)/ All2))\n",
    "print(\"Error Rate2 = {}\".format((FP2+FN2)/ All2))\n",
    "print(\"Sensitivity2 = {}\".format(TP2 /Pr2))\n",
    "print(\"Specificity2 = {}\".format(TN2 /Nr2))\n",
    "print(\"Precision2 = {}\".format(Precision2))\n",
    "print(\"Recall2 = {}\".format(Recall2))\n",
    "print(\"F1_Score2 = {}\".format(F1_Score2))"
   ]
  },
  {
   "cell_type": "code",
   "execution_count": null,
   "id": "b2fe12aa",
   "metadata": {
    "id": "b2fe12aa",
    "outputId": "347d41dd-8ff6-47e9-e675-687c3be92e30"
   },
   "outputs": [
    {
     "data": {
      "text/plain": [
       "<AxesSubplot:>"
      ]
     },
     "execution_count": 93,
     "metadata": {},
     "output_type": "execute_result"
    },
    {
     "data": {
      "image/png": "[encoded data removed]",
      "text/plain": [
       "<Figure size 1440x432 with 1 Axes>"
      ]
     },
     "metadata": {
      "needs_background": "light"
     },
     "output_type": "display_data"
    }
   ],
   "source": [
    "result[['real_2','predict_2']].plot()"
   ]
  },
  {
   "cell_type": "markdown",
   "id": "49a0f3b1",
   "metadata": {},
   "source": [
    "# ==============================================================="
   ]
  },
  {
   "cell_type": "markdown",
   "id": "c7c0b52a",
   "metadata": {},
   "source": [
    "### 5.2 적도 데이터 크롤링 코드 ###"
   ]
  },
  {
   "cell_type": "markdown",
   "id": "ce6e832e",
   "metadata": {},
   "source": [
    "JOISS 포털의 자료 연계를 수행하면 아래 사이트에 접속이 됩니다.\n",
    "\n",
    "공공데이터포털에서 해양수산부 국립수산과학원_적조정보 \n",
    "https://www.data.go.kr/iim/api/selectAPIAcountView.do\n",
    "\n",
    "해당 페이지에서 활용 신청을 하여서 API KEY를 받으셔서 아래 코드로 크롤링을 수행하시면 됩니다.\n",
    "\n",
    "*본 코드에 나와있는 API KEY는 활용 중지 처리함*"
   ]
  },
  {
   "cell_type": "code",
   "execution_count": null,
   "id": "c558a6bc",
   "metadata": {},
   "outputs": [],
   "source": [
    "import pandas as pd\n",
    "import numpy as np\n",
    "import time\n",
    "import requests\n",
    "from bs4 import BeautifulSoup\n",
    "headers = {\n",
    "    'user-agent': 'Mozilla/5.0 (Macintosh; Intel Mac OS X 11_2_3) AppleWebKit/537.36 (KHTML, like Gecko) Chrome/89.0.4389.114 Safari/537.36',\n",
    "}\n",
    "import xml.etree.ElementTree as ET\n",
    "from urllib.request import urlopen\n",
    "from urllib.error import HTTPError\n",
    "\n",
    "for year in years:\n",
    "    rows = []\n",
    "    for month in months:\n",
    "        for day in days:\n",
    "            urls = \"http://apis.data.go.kr/1520635/OceanProblemService/getOceanproblemRedTideOccurrenceSpot?serviceKey=RdqFoDTbtn1PKRrHToEKoZS2KBuI9IM5GMlfmSkv9Azu0hS6lxD1%2FbUwvO45%2Fx6K8BqyNxPL%2FrF5n%2FdGX9O8%2Bw%3D%3D&numOfRows=99&pageNo=1&regdate={:04d}{:02d}{:02d}\".format(year,month,day)\n",
    "            #키 변경해야합니다.\n",
    "            try:\n",
    "                response = urlopen(urls).read().decode(\"utf-8\")\n",
    "                xtree = ET.fromstring(response)\n",
    "            except HTTPError :\n",
    "                print(\"HTTPError : \",year, month, day)\n",
    "                continue\n",
    "            for node in xtree[1][0]:\n",
    "                try:\n",
    "                    n_dname = node.find(\"dname\").text\n",
    "                    n_edensity = node.find(\"edensity\").text\n",
    "                    n_ewt = node.find(\"ewt\").text\n",
    "                    n_oarea = node.find(\"oarea\").text\n",
    "                    n_regdate = node.find(\"regdate\").text\n",
    "                    n_sdensity = node.find(\"sdensity\").text\n",
    "                    n_srcode = node.find(\"srcode\").text\n",
    "                    n_swt = node.find(\"swt\").text\n",
    "\n",
    "                    rows.append({\"dname\" : n_dname,\n",
    "                                 \"edensity\" : n_edensity,\n",
    "                                 \"ewt\" : n_ewt,\n",
    "                                 \"oarea\" : n_oarea, \n",
    "                                 \"regdate\" : n_regdate,\n",
    "                                 \"sdensity\" : n_sdensity, \n",
    "                                 \"srcode\" : n_srcode, \n",
    "                                 \"swt\" : n_swt})\n",
    "                except AttributeError:\n",
    "                    print(\"AttributeError : \",year, month, day)\n",
    "                    continue\n",
    "    df = pd.DataFrame(rows, columns = columns)\n",
    "    df.to_csv(str(year)+\".csv\")\n",
    "    print(year,\" complete!\")"
   ]
  }
 ],
 "metadata": {
  "colab": {
   "collapsed_sections": [
    "13a16719",
    "cabed3c5",
    "3bd88a89",
    "eec20855",
    "434e488f"
   ],
   "name": "final_merge.ipynb",
   "provenance": []
  },
  "kernelspec": {
   "display_name": "Python 3.9.13 ('EV_PY39')",
   "language": "python",
   "name": "python3"
  },
  "language_info": {
   "codemirror_mode": {
    "name": "ipython",
    "version": 3
   },
   "file_extension": ".py",
   "mimetype": "text/x-python",
   "name": "python",
   "nbconvert_exporter": "python",
   "pygments_lexer": "ipython3",
   "version": "3.9.13"
  },
  "vscode": {
   "interpreter": {
    "hash": "d1dde8d3f1fc6169eb2afb9c884f1482ff31994a855398e316a83a9dc8ff488b"
   }
  }
 },
 "nbformat": 4,
 "nbformat_minor": 5
}
