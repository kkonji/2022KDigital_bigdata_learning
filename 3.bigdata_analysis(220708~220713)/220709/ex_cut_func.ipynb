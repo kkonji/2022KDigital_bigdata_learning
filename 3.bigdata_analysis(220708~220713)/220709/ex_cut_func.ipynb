{
 "cells": [
  {
   "cell_type": "markdown",
   "metadata": {},
   "source": [
    "# 연속형 자료형 => 범주형 변환\n",
    "\n",
    "- pandas.cut() 함수 제공\n",
    "    - par , [기본값], a < value <= b\n",
    "        - bins: 구간 개수, --> 정렬 후 지정된 개수 만큼 구간 \n",
    "        - right: 오른쪽 값 포함 여부 --> default True\n",
    "        - labels: 구간에 관한 라벨, 리스트 --> 구간 개수에 맞게 설정, default False\n",
    "        - include_lowest: 가장 낮은 값을 포함하는지 여부\n",
    "            - True이면 0 <= value < 5, 5 < value <= 10, 10 < value <= 15\n",
    "        - retbins\" 구간리스트 반환 여부 --> default False\n",
    "            - return bins라는 뜻\n",
    "    - 결과\n",
    "        - 범주형 변환 데이터\n",
    "        - 구간 리스트  <-- retbins가 True인 경우에만 반환    "
   ]
  },
  {
   "cell_type": "code",
   "execution_count": 3,
   "metadata": {},
   "outputs": [
    {
     "data": {
      "text/html": [
       "<div>\n",
       "<style scoped>\n",
       "    .dataframe tbody tr th:only-of-type {\n",
       "        vertical-align: middle;\n",
       "    }\n",
       "\n",
       "    .dataframe tbody tr th {\n",
       "        vertical-align: top;\n",
       "    }\n",
       "\n",
       "    .dataframe thead th {\n",
       "        text-align: right;\n",
       "    }\n",
       "</style>\n",
       "<table border=\"1\" class=\"dataframe\">\n",
       "  <thead>\n",
       "    <tr style=\"text-align: right;\">\n",
       "      <th></th>\n",
       "      <th>0</th>\n",
       "    </tr>\n",
       "  </thead>\n",
       "  <tbody>\n",
       "    <tr>\n",
       "      <th>0</th>\n",
       "      <td>1</td>\n",
       "    </tr>\n",
       "    <tr>\n",
       "      <th>1</th>\n",
       "      <td>2</td>\n",
       "    </tr>\n",
       "    <tr>\n",
       "      <th>2</th>\n",
       "      <td>3</td>\n",
       "    </tr>\n",
       "    <tr>\n",
       "      <th>3</th>\n",
       "      <td>4</td>\n",
       "    </tr>\n",
       "    <tr>\n",
       "      <th>4</th>\n",
       "      <td>5</td>\n",
       "    </tr>\n",
       "  </tbody>\n",
       "</table>\n",
       "</div>"
      ],
      "text/plain": [
       "   0\n",
       "0  1\n",
       "1  2\n",
       "2  3\n",
       "3  4\n",
       "4  5"
      ]
     },
     "execution_count": 3,
     "metadata": {},
     "output_type": "execute_result"
    }
   ],
   "source": [
    "import pandas as pd\n",
    "\n",
    "# df 생성\n",
    "df = pd.DataFrame([[1,2,3,4,5]]).T\n",
    "df"
   ]
  },
  {
   "cell_type": "code",
   "execution_count": 6,
   "metadata": {},
   "outputs": [
    {
     "data": {
      "text/plain": [
       "(0    (0.996, 3.0]\n",
       " 1    (0.996, 3.0]\n",
       " 2    (0.996, 3.0]\n",
       " 3      (3.0, 5.0]\n",
       " 4      (3.0, 5.0]\n",
       " Name: 0, dtype: category\n",
       " Categories (2, interval[float64, right]): [(0.996, 3.0] < (3.0, 5.0]],\n",
       " array([0.996, 3.   , 5.   ]))"
      ]
     },
     "execution_count": 6,
     "metadata": {},
     "output_type": "execute_result"
    }
   ],
   "source": [
    "# 연속형 자료형 --> 범주형 변환\n",
    "# [기본값], right = True, include_lowest = True\n",
    "cutdf, retbins = pd.cut(x = df[0], bins=2, retbins=True)"
   ]
  },
  {
   "cell_type": "code",
   "execution_count": 8,
   "metadata": {},
   "outputs": [
    {
     "data": {
      "text/plain": [
       "0      [1.0, 3.0)\n",
       "1      [1.0, 3.0)\n",
       "2    [3.0, 5.004)\n",
       "3    [3.0, 5.004)\n",
       "4    [3.0, 5.004)\n",
       "Name: 0, dtype: category\n",
       "Categories (2, interval[float64, left]): [[1.0, 3.0) < [3.0, 5.004)]"
      ]
     },
     "execution_count": 8,
     "metadata": {},
     "output_type": "execute_result"
    }
   ],
   "source": [
    "# [수정], right = False\n",
    "cutdf, retbins = pd.cut(x = df[0], bins=2, retbins=True, right= False)\n",
    "cutdf"
   ]
  },
  {
   "cell_type": "code",
   "execution_count": null,
   "metadata": {},
   "outputs": [],
   "source": []
  }
 ],
 "metadata": {
  "kernelspec": {
   "display_name": "Python 3.9.10 64-bit",
   "language": "python",
   "name": "python3"
  },
  "language_info": {
   "codemirror_mode": {
    "name": "ipython",
    "version": 3
   },
   "file_extension": ".py",
   "mimetype": "text/x-python",
   "name": "python",
   "nbconvert_exporter": "python",
   "pygments_lexer": "ipython3",
   "version": "3.9.10"
  },
  "orig_nbformat": 4,
  "vscode": {
   "interpreter": {
    "hash": "cf92aa13fedf815d5c8dd192b8d835913fde3e8bc926b2a0ad6cc74ef2ba3ca2"
   }
  }
 },
 "nbformat": 4,
 "nbformat_minor": 2
}
