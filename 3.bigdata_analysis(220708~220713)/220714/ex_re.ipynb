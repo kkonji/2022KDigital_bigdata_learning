{
 "cells": [
  {
   "cell_type": "markdown",
   "metadata": {},
   "source": [
    "# 정규 표현식"
   ]
  },
  {
   "cell_type": "code",
   "execution_count": 2,
   "metadata": {},
   "outputs": [],
   "source": [
    "import re"
   ]
  },
  {
   "cell_type": "code",
   "execution_count": 4,
   "metadata": {},
   "outputs": [
    {
     "name": "stdout",
     "output_type": "stream",
     "text": [
      "<re.Match object; span=(0, 4), match='crow'>\n"
     ]
    }
   ],
   "source": [
    "# match 연습\n",
    "p = re.compile('crow|brow')\n",
    "m = p.match('crowbello')\n",
    "print(m)"
   ]
  },
  {
   "cell_type": "code",
   "execution_count": 5,
   "metadata": {},
   "outputs": [
    {
     "name": "stdout",
     "output_type": "stream",
     "text": [
      "<re.Match object; span=(4, 8), match='brow'>\n"
     ]
    }
   ],
   "source": [
    "# search 연습\n",
    "p = re.compile('crow|brow')\n",
    "m = p.search('crolbrown')\n",
    "print(m)"
   ]
  },
  {
   "cell_type": "code",
   "execution_count": 6,
   "metadata": {},
   "outputs": [
    {
     "data": {
      "text/plain": [
       "(4, 8)"
      ]
     },
     "execution_count": 6,
     "metadata": {},
     "output_type": "execute_result"
    }
   ],
   "source": [
    "# search 위치 파악\n",
    "m.span()"
   ]
  },
  {
   "cell_type": "markdown",
   "metadata": {},
   "source": [
    "#### ^ 메타 문자"
   ]
  },
  {
   "cell_type": "code",
   "execution_count": 8,
   "metadata": {},
   "outputs": [
    {
     "name": "stdout",
     "output_type": "stream",
     "text": [
      "<re.Match object; span=(0, 4), match='Life'>\n",
      "None\n"
     ]
    }
   ],
   "source": [
    "# ^ 메타 문자는 문자열의 맨 처음과 일치함을 의미, 앞에서 살펴본 컴파일 옵션 re.MULTILINE을 사용할 경우에는 여러 줄의 문자열일 때\n",
    "# 각 줄의 처음과 일치하게 된다.\n",
    "\n",
    "print(re.search('^Life', 'Life is too short'))\n",
    "print(re.search('^Life', 'My Life'))\n"
   ]
  },
  {
   "cell_type": "markdown",
   "metadata": {},
   "source": [
    "#### $ 메타 문자"
   ]
  },
  {
   "cell_type": "code",
   "execution_count": 11,
   "metadata": {},
   "outputs": [
    {
     "name": "stdout",
     "output_type": "stream",
     "text": [
      "<re.Match object; span=(12, 17), match='short'>\n",
      "None\n"
     ]
    }
   ],
   "source": [
    "# $ 메타 문자는 문자열의 끝과 매치함을 의미\n",
    "print(re.search('short$', 'Life is too short'))\n",
    "print(re.search('short$', 'Life is too short, you need python'))\n",
    "# ^, $ 문자 그자체를 매치하고 싶은 경우에는 \\^ \\$ 사용"
   ]
  },
  {
   "cell_type": "code",
   "execution_count": 29,
   "metadata": {},
   "outputs": [
    {
     "name": "stdout",
     "output_type": "stream",
     "text": [
      "\n",
      "시작 안녕\n",
      "바이바이\n",
      "시작 하이\n",
      "하이 시시\n",
      "시작냐\n",
      "\n",
      "(1, 3)\n",
      "(12, 14)\n",
      "(24, 26)\n"
     ]
    }
   ],
   "source": [
    "# MULTILINE을 통하면 줄마다 ^로 처음 부분 체크 가능\n",
    "p = re.compile('^시작',re.MULTILINE)\n",
    "sentence = \"\"\"\n",
    "시작 안녕\n",
    "바이바이\n",
    "시작 하이\n",
    "하이 시시\n",
    "시작냐\n",
    "\"\"\"\n",
    "print(sentence)\n",
    "m = p.finditer(sentence)\n",
    "for i in m:\n",
    "    print(i.span())"
   ]
  },
  {
   "cell_type": "markdown",
   "metadata": {},
   "source": [
    "#### \\A , \\Z"
   ]
  },
  {
   "cell_type": "code",
   "execution_count": 57,
   "metadata": {},
   "outputs": [
    {
     "name": "stdout",
     "output_type": "stream",
     "text": [
      "시작\n",
      "<re.Match object; span=(0, 2), match='시작'>\n"
     ]
    }
   ],
   "source": [
    "# 하지만, \\A는 MULTILINE을 써도 전체 문자열에 대해서 시작 점만 구한다. \n",
    "p = re.compile(r'\\A시작')\n",
    "sentence = \"시작\"\n",
    "print(sentence)\n",
    "m = p.search(sentence)\n",
    "print(m)"
   ]
  },
  {
   "cell_type": "code",
   "execution_count": 65,
   "metadata": {},
   "outputs": [
    {
     "name": "stdout",
     "output_type": "stream",
     "text": [
      "<re.Match object; span=(42, 43), match='끝'>\n"
     ]
    }
   ],
   "source": [
    "# \\Z 는 전체 문자열에 대해서 마지막 점만 구한다. \n",
    "p = re.compile(r'끝\\Z')\n",
    "sentence = \"\"\"\n",
    "fasdf\n",
    "ewofwe\n",
    "qwneonqw\n",
    "gfogd\n",
    "foawefno\n",
    "마지막 끝\"\"\"\n",
    "m = p.search(sentence)\n",
    "print(m)"
   ]
  },
  {
   "cell_type": "markdown",
   "metadata": {},
   "source": [
    "#### 단어구분자 \\b"
   ]
  },
  {
   "cell_type": "code",
   "execution_count": 68,
   "metadata": {},
   "outputs": [
    {
     "name": "stdout",
     "output_type": "stream",
     "text": [
      "<re.Match object; span=(3, 8), match='class'>\n",
      "None\n"
     ]
    }
   ],
   "source": [
    "# 단어구분자 \\b : 보통 단어는 whitespace에 의해 구분\n",
    "p = re.compile(r'\\bclass\\b')\n",
    "m1 = p.search('no class at all')\n",
    "m2 = p.search('starclass')\n",
    "print(m1)\n",
    "print(m2)"
   ]
  },
  {
   "cell_type": "markdown",
   "metadata": {},
   "source": [
    "#### 단어구분자 \\B"
   ]
  },
  {
   "cell_type": "code",
   "execution_count": 70,
   "metadata": {},
   "outputs": [
    {
     "name": "stdout",
     "output_type": "stream",
     "text": [
      "None\n",
      "None\n",
      "<re.Match object; span=(4, 9), match='class'>\n"
     ]
    }
   ],
   "source": [
    "# \\B 메타문자는 \\b 메타문자의 반대의 경우, 즉 whitespace로 구분된 단어가 아닌 경우에만 매치\n",
    "# 단어구분자 \\b : 보통 단어는 whitespace에 의해 구분\n",
    "p = re.compile(r'\\Bclass\\B')\n",
    "m1 = p.search('no class at all')\n",
    "m2 = p.search('starclass')\n",
    "m3 = p.search('starclassstar')\n",
    "print(m1)\n",
    "print(m2)\n",
    "print(m3)\n"
   ]
  },
  {
   "cell_type": "markdown",
   "metadata": {},
   "source": [
    "#### 그루핑"
   ]
  },
  {
   "cell_type": "code",
   "execution_count": 72,
   "metadata": {},
   "outputs": [
    {
     "name": "stdout",
     "output_type": "stream",
     "text": [
      "<re.Match object; span=(0, 9), match='ABCABCABC'>\n",
      "ABCABCABC\n"
     ]
    }
   ],
   "source": [
    "# 그루핑 () 활용\n",
    "p = re.compile('(ABC)+')\n",
    "m = p.search('ABCABCABC OK?')\n",
    "print(m)\n",
    "print(m.group())"
   ]
  },
  {
   "cell_type": "code",
   "execution_count": 80,
   "metadata": {},
   "outputs": [
    {
     "name": "stdout",
     "output_type": "stream",
     "text": [
      "<re.Match object; span=(0, 18), match='park 010-2334-3456'>\n",
      "park\n"
     ]
    }
   ],
   "source": [
    "# 그루핑 예시\n",
    "# 이름 + \" \" + 전화번호\n",
    "p = re.compile(r'\\w+\\s+\\d+[-]\\d+[-]\\d+')\n",
    "m= p.search('park 010-2334-3456')\n",
    "print(m)\n",
    "\n",
    "# 위에서 이름만 뽑고싶을 때는 어떻게 할까?\n",
    "p = re.compile(r'(\\w+)\\s+\\d+[-]\\d+[-]\\d+')\n",
    "m= p.search('park 010-2334-3456')\n",
    "print(m.group(1))\n",
    "# 이름 부분을 그루핑 -> 그루핑한 부분은 group(n)으로 표시\n",
    "# group(n)은 n번째 그룹에 해당되는 문자열 "
   ]
  },
  {
   "cell_type": "code",
   "execution_count": 81,
   "metadata": {},
   "outputs": [
    {
     "name": "stdout",
     "output_type": "stream",
     "text": [
      "park\n",
      "010-2334-3456\n",
      "2334\n"
     ]
    }
   ],
   "source": [
    "# 그룹을 중첩되게 사용도 가능\n",
    "# 그럴경우에는 바깥쪽-> 안쪽 순서로 인덱스가 증가\n",
    "p = re.compile(r'(\\w+)\\s+(\\d+[-](\\d+)[-]\\d+)')\n",
    "m= p.search('park 010-2334-3456')\n",
    "print(m.group(1))\n",
    "print(m.group(2))\n",
    "print(m.group(3))\n"
   ]
  },
  {
   "cell_type": "markdown",
   "metadata": {},
   "source": [
    "#### 그루핑된 문자열 재참조"
   ]
  },
  {
   "cell_type": "code",
   "execution_count": 82,
   "metadata": {},
   "outputs": [
    {
     "data": {
      "text/plain": [
       "'the the'"
      ]
     },
     "execution_count": 82,
     "metadata": {},
     "output_type": "execute_result"
    }
   ],
   "source": [
    "# 그루핑의 장점: 그루핑한 문자열은 재참조 가능\n",
    "# \\1 -> 정규식의 그룹 중 첫번째 그룹을 지칭\n",
    "# \\n -> 정규식의 그룹 중 n번째 그룹을 지칭\n",
    "p = re.compile(r'(\\b\\w+)\\s+\\1')\n",
    "p.search('Paris in the the spring').group()\n"
   ]
  },
  {
   "cell_type": "markdown",
   "metadata": {},
   "source": [
    "#### 그루핑된 문자열에 이름 붙이기"
   ]
  },
  {
   "cell_type": "code",
   "execution_count": 3,
   "metadata": {},
   "outputs": [
    {
     "name": "stdout",
     "output_type": "stream",
     "text": [
      "park\n"
     ]
    }
   ],
   "source": [
    "# 매우 많이 그루핑이 있으면 혼란스럽기 때문에 \n",
    "# 그루핑마다 '이름'을 붙여준다.\n",
    "# ?P<name> 을 붙여준다. (?...) 표현식은 정규 표현식의 확장 구문\n",
    "# ?P<그룹이름>\n",
    "import re\n",
    "p = re.compile(r'(?P<name>\\w+)\\s+((\\d+)[-]\\d+[-]\\d+)')\n",
    "m = p.search(\"park 010-1234-1234\")\n",
    "print(m.group('name'))\n",
    "\n",
    "\n"
   ]
  },
  {
   "cell_type": "code",
   "execution_count": 6,
   "metadata": {},
   "outputs": [
    {
     "name": "stdout",
     "output_type": "stream",
     "text": [
      "010-1234-1234\n",
      "010\n",
      "park\n"
     ]
    }
   ],
   "source": [
    "p = re.compile(r'(?P<name>\\w+)\\s+(?P<phone>(?P<front>\\d+)[-]\\d+[-]\\d+)')\n",
    "m = p.search(\"park 010-1234-1234\")\n",
    "print(m.group('phone'))\n",
    "print(m.group('front'))\n",
    "print(m.group('name'))"
   ]
  },
  {
   "cell_type": "markdown",
   "metadata": {},
   "source": [
    "#### 전방 탐색"
   ]
  },
  {
   "cell_type": "code",
   "execution_count": 7,
   "metadata": {},
   "outputs": [
    {
     "name": "stdout",
     "output_type": "stream",
     "text": [
      "http:\n"
     ]
    }
   ],
   "source": [
    "\n",
    "p = re.compile(\".+:\")\n",
    "m = p.search('http://google.com')\n",
    "print(m.group())\n",
    "\n",
    "# 위의 상황에서 :을 제외하고 출력하려면 어떻게 해야할까?\n",
    "# 이럴때 사용가능한게, '전방탐색'이다.\n",
    "# 전방탐색은 긍정(Positive), 부정(Negative)의 2종류가 있고 다음과 같이 표현\n",
    "# 긍정형 전방 탐색(?=...) : ...에 해당되는 정규식과 매치되어야 하며, 조건이 통과되어도 문자열이 소비되지 않는다.\n",
    "# 부정형 전방 탐색(?!...) : ...에 해당되는 정규식과 매치되지 않아야 하며 조건이 통과되어도 문자열이 소비되지 않는다."
   ]
  },
  {
   "cell_type": "code",
   "execution_count": 8,
   "metadata": {},
   "outputs": [
    {
     "name": "stdout",
     "output_type": "stream",
     "text": [
      "http\n"
     ]
    }
   ],
   "source": [
    "# 긍정형 전방탐색\n",
    "p = re.compile(\".+(?=:)\")\n",
    "m = p.search(\"http://google.com\")\n",
    "print(m.group())"
   ]
  },
  {
   "cell_type": "code",
   "execution_count": null,
   "metadata": {},
   "outputs": [],
   "source": [
    "'.*[.].*$' # 파일이름 + . + 확장자\n",
    "# 이 정규식에 확장자가 'bat'인 파일은 제외해야 한다는 조건을 추가\n",
    "'.*[.][^b].*$' -> # 'bat' 파일을 걸러내지만 'bar' 파일마저 걸러버린다.\n",
    "'.*[.]([^b]..|.[^a].|..[^t])$' \n",
    "# 'bat'파일만 집어서 완벽히 걸러내지만, .cf 처럼 확장자의 문자개수가 2개인 케이스를 포함하지 못하는 오동작을 하기 시작\n",
    "'.*[.]([^b].?.?|.[^a]?.?|..?[^t]?)$' #엄청 길어지고 복잡해진다.\n",
    "\n",
    "# 이럴때 해결방안이 '부정형 전방탐색'이다.\n",
    "'.*[.](?!bat$).*$' # 확장자가 bat가 아닌경우에만 통과\n",
    "\n",
    "# exe역시 제외 조건 추가\n",
    "'.*[.](?!bat$|exe$).*$'"
   ]
  },
  {
   "cell_type": "markdown",
   "metadata": {},
   "source": [
    "#### 문자열 바꾸기\n",
    "-sub 메서드를 사용하면 정규식과 매치되는 부분을 다른 문자로 쉽게 바꿀 수 있다."
   ]
  },
  {
   "cell_type": "code",
   "execution_count": 2,
   "metadata": {},
   "outputs": [
    {
     "data": {
      "text/plain": [
       "'colour socks are colour shoes'"
      ]
     },
     "execution_count": 2,
     "metadata": {},
     "output_type": "execute_result"
    }
   ],
   "source": [
    "# 형태: sub('바꿀문자열', '대상문자열')\n",
    "import re\n",
    "p = re.compile('(blue|white|red)')\n",
    "p.sub('colour', 'blue socks are red shoes')\n"
   ]
  },
  {
   "cell_type": "code",
   "execution_count": 3,
   "metadata": {},
   "outputs": [
    {
     "data": {
      "text/plain": [
       "'colour socks are red shoes'"
      ]
     },
     "execution_count": 3,
     "metadata": {},
     "output_type": "execute_result"
    }
   ],
   "source": [
    "# 1번만 출력하ㅊ고 싶을때는, count=1 추가해준다.\n",
    "import re\n",
    "p = re.compile('(blue|white|red)')\n",
    "p.sub('colour', 'blue socks are red shoes', count=1)\n",
    "\n",
    "# sub 메서드와 유사한 subn 메서드\n",
    "# subn : 동일한 기능 but 리턴: tuple (변경된문자열, 바꾸기가 발생한 횟수)"
   ]
  },
  {
   "cell_type": "code",
   "execution_count": 4,
   "metadata": {},
   "outputs": [
    {
     "name": "stdout",
     "output_type": "stream",
     "text": [
      "010-2342-1242 park\n"
     ]
    }
   ],
   "source": [
    "# sub 메서드 사용 시 참조 구문 사용 \n",
    "# \\g<그룸이름> 으로 그룹 참조\n",
    "p = re.compile(r'(?P<name>\\w+)\\s+(?P<phone>(\\d+)[-]\\d+[-]\\d+)')\n",
    "\n",
    "print(p.sub('\\g<phone> \\g<name>', 'park 010-2342-1242'))"
   ]
  },
  {
   "cell_type": "code",
   "execution_count": 14,
   "metadata": {},
   "outputs": [
    {
     "name": "stdout",
     "output_type": "stream",
     "text": [
      "<re.Match object; span=(0, 6), match='12,345'>\n",
      "12345\n",
      "None\n",
      "23534\n",
      "<re.Match object; span=(0, 6), match='13,580'>\n",
      "13580\n",
      "<re.Match object; span=(0, 6), match='14,258'>\n",
      "14258\n",
      "None\n",
      "13234\n"
     ]
    }
   ],
   "source": [
    "import pandas as pd\n",
    "import re\n",
    "numlist = ['12,345', '23534', '13,580', '14,258', '13234']\n",
    "\n",
    "p = re.compile('(?P<first>\\d+)[,](?P<last>\\d+)')\n",
    "for i in numlist:\n",
    "    # print(p.match(i))\n",
    "    print(p.sub('\\g<first>\\g<last>', i))\n",
    "\n",
    "# for i in numlist:\n",
    "#     print(p.findall(i))\n",
    "\n",
    "numlist"
   ]
  }
 ],
 "metadata": {
  "kernelspec": {
   "display_name": "Python 3.9.10 64-bit",
   "language": "python",
   "name": "python3"
  },
  "language_info": {
   "codemirror_mode": {
    "name": "ipython",
    "version": 3
   },
   "file_extension": ".py",
   "mimetype": "text/x-python",
   "name": "python",
   "nbconvert_exporter": "python",
   "pygments_lexer": "ipython3",
   "version": "3.9.10"
  },
  "orig_nbformat": 4,
  "vscode": {
   "interpreter": {
    "hash": "cf92aa13fedf815d5c8dd192b8d835913fde3e8bc926b2a0ad6cc74ef2ba3ca2"
   }
  }
 },
 "nbformat": 4,
 "nbformat_minor": 2
}
