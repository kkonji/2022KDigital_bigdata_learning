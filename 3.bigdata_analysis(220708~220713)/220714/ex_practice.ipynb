{
 "cells": [
  {
   "cell_type": "code",
   "execution_count": 6,
   "metadata": {},
   "outputs": [
    {
     "data": {
      "text/plain": [
       "[2, 'a', 3, 'b', 2, 'c', 1, 'd']"
      ]
     },
     "execution_count": 6,
     "metadata": {},
     "output_type": "execute_result"
    }
   ],
   "source": [
    "word = 'aabbbccd'\n",
    "countlist = []\n",
    "for i in range(len(word)):\n",
    "    if i != 0:\n",
    "        if word[i] == word[i-1]:\n",
    "            count += 1\n",
    "        else:\n",
    "            countlist.append(count)\n",
    "            countlist.append(word[i-1])\n",
    "            count = 1  \n",
    "    else: \n",
    "        count = 1\n",
    "\n",
    "    if i == len(word)-1:\n",
    "        countlist.append(count)\n",
    "        countlist.append(word[i])\n",
    "        \n",
    "\n",
    "countlist"
   ]
  },
  {
   "cell_type": "code",
   "execution_count": 7,
   "metadata": {},
   "outputs": [
    {
     "data": {
      "text/plain": [
       "'ab'"
      ]
     },
     "execution_count": 7,
     "metadata": {},
     "output_type": "execute_result"
    }
   ],
   "source": [
    "word = 'ababccdcdd'\n",
    "countlist = []\n",
    "for i in range(len(word)):\n",
    "    if i != 0:\n",
    "        if word[i] == word[i-1]:\n",
    "            count += 1\n",
    "        else:\n",
    "            countlist.append(count)\n",
    "            countlist.append(word[i-1])\n",
    "            count = 1  \n",
    "    else: \n",
    "        count = 1\n",
    "\n",
    "    if i == len(word)-1:\n",
    "        countlist.append(count)\n",
    "        countlist.append(word[i])\n",
    "        \n",
    "\n",
    "countlist"
   ]
  },
  {
   "cell_type": "code",
   "execution_count": 18,
   "metadata": {},
   "outputs": [
    {
     "name": "stdout",
     "output_type": "stream",
     "text": [
      "abab\n"
     ]
    }
   ],
   "source": [
    "import re\n",
    "p = re.compile('(?P<value>(ab))')\n",
    "m1 = p.search('abab')\n",
    "print(p.sub('\\g<value>', 'abab', count = 1))\n",
    "# m2 = p.search('baba')\n",
    "# print(m1)\n",
    "# print(m2)"
   ]
  },
  {
   "cell_type": "code",
   "execution_count": null,
   "metadata": {},
   "outputs": [],
   "source": []
  }
 ],
 "metadata": {
  "kernelspec": {
   "display_name": "Python 3.9.10 64-bit",
   "language": "python",
   "name": "python3"
  },
  "language_info": {
   "codemirror_mode": {
    "name": "ipython",
    "version": 3
   },
   "file_extension": ".py",
   "mimetype": "text/x-python",
   "name": "python",
   "nbconvert_exporter": "python",
   "pygments_lexer": "ipython3",
   "version": "3.9.10"
  },
  "orig_nbformat": 4,
  "vscode": {
   "interpreter": {
    "hash": "cf92aa13fedf815d5c8dd192b8d835913fde3e8bc926b2a0ad6cc74ef2ba3ca2"
   }
  }
 },
 "nbformat": 4,
 "nbformat_minor": 2
}
