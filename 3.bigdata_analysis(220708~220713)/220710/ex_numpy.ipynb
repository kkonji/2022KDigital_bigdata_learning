{
 "cells": [
  {
   "cell_type": "markdown",
   "metadata": {},
   "source": [
    "# 넘파이 학습\n",
    "- 배열(array): 연속된 메모리 공간, __동일한 데이터타입__\n",
    "- C 언어로 구현된 파이썬 라이브러리\n",
    "- 고성능의 수치계산을 위해 제작된 라이브러리\n",
    "- loop 프로그래밍 없이 전체 배열에 대해 표준 수학 함수 빠른 속도로 수행\n",
    "- 파이썬에 배열(array) 기능 제공 라이브러리\n",
    "- 대량의 데이터에 대한 고급 수학적 및 기타 유형 작업\n",
    "- 머신러닝/딥러닝 패키지 Scikit-lern, Tensorflow, PyTorch, Keras 등에서도 내부 데이터 저장 및 수치계산 사용되는 패키지\n"
   ]
  },
  {
   "cell_type": "code",
   "execution_count": 1,
   "metadata": {},
   "outputs": [
    {
     "data": {
      "text/plain": [
       "'1.23.0'"
      ]
     },
     "execution_count": 1,
     "metadata": {},
     "output_type": "execute_result"
    }
   ],
   "source": [
    "# 버젼 확인\n",
    "import pandas as pd \n",
    "import numpy as np\n",
    "\n",
    "np.__version__"
   ]
  },
  {
   "cell_type": "markdown",
   "metadata": {},
   "source": [
    "## 배열(array)\n",
    "- 순차적으로 데이터를 저장하는 자료형\n",
    "- 서로 연관있는 데이터를 하나의 변수명으로 저장\n",
    "- 같은 타입의 변수들로 이루어진 유한집합으로 정의\n",
    "- __원소개수 변경 불가__\n",
    "\n",
    "- 리스트: 동적 공간에 다양한 데이터 타입 저장, 속도가 느리고 메모리를 많이 차지"
   ]
  },
  {
   "cell_type": "markdown",
   "metadata": {},
   "source": [
    "### ndarray 클래스\n",
    "- 다차원 배열(n-dim array)"
   ]
  },
  {
   "cell_type": "code",
   "execution_count": 4,
   "metadata": {},
   "outputs": [
    {
     "data": {
      "text/plain": [
       "array([1, 2, 3])"
      ]
     },
     "execution_count": 4,
     "metadata": {},
     "output_type": "execute_result"
    }
   ],
   "source": [
    "# ndarray 객체 생성하기 -> numpy.array()\n",
    "arr1 = np.array([1,2,3])\n",
    "arr1"
   ]
  },
  {
   "cell_type": "code",
   "execution_count": 5,
   "metadata": {},
   "outputs": [
    {
     "data": {
      "text/plain": [
       "numpy.ndarray"
      ]
     },
     "execution_count": 5,
     "metadata": {},
     "output_type": "execute_result"
    }
   ],
   "source": [
    "type(arr1)"
   ]
  },
  {
   "cell_type": "code",
   "execution_count": 9,
   "metadata": {},
   "outputs": [
    {
     "name": "stdout",
     "output_type": "stream",
     "text": [
      "1\n",
      "(3,)\n",
      "int32\n",
      "4\n",
      "3\n"
     ]
    }
   ],
   "source": [
    "# ndarray 객체의 속성 확인하기\n",
    "# 객체변수명.속성명\n",
    "# ndim -> 차원, shape -> 형태 ( 면, 행, 열)\n",
    "# dtype -> 데이터 타입\n",
    "# itemsize -> 배열 요소의 바이트 크기, size -> 배열 요소의 개수\n",
    "print(arr1.ndim, arr1.shape, arr1.dtype, arr1.itemsize, arr1.size, sep= '\\n')"
   ]
  },
  {
   "cell_type": "code",
   "execution_count": 14,
   "metadata": {},
   "outputs": [
    {
     "name": "stdout",
     "output_type": "stream",
     "text": [
      "객체변수명: [1 2 3]\n",
      "객체변수명: 1\n",
      "객체변수명: 2\n"
     ]
    }
   ],
   "source": [
    "# 배열의 요소=아이템=원소 접근하기\n",
    "# 0-base 인덱스 자동 지정 -> 객체변수명[인덱스]\n",
    "print(f'객체변수명: {arr1}') \n",
    "print(f'객체변수명: {arr1[0]}') \n",
    "print(f'객체변수명: {arr1[1]}')\n",
    "\n"
   ]
  },
  {
   "cell_type": "code",
   "execution_count": 20,
   "metadata": {},
   "outputs": [
    {
     "data": {
      "text/plain": [
       "array([1, 4, 9])"
      ]
     },
     "execution_count": 20,
     "metadata": {},
     "output_type": "execute_result"
    }
   ],
   "source": [
    "arr1.T"
   ]
  },
  {
   "cell_type": "code",
   "execution_count": 24,
   "metadata": {},
   "outputs": [
    {
     "data": {
      "text/plain": [
       "array([0., 0., 0., 0.])"
      ]
     },
     "execution_count": 24,
     "metadata": {},
     "output_type": "execute_result"
    }
   ],
   "source": [
    "# 모든 값을 0으로 채워서 ndarray 객체 생성 함수 -> zeros()\n",
    "arr2 = np.array([0,0,0,0])\n",
    "arr2 = np.zeros(4)\n",
    "arr2"
   ]
  },
  {
   "cell_type": "code",
   "execution_count": 27,
   "metadata": {},
   "outputs": [
    {
     "data": {
      "text/plain": [
       "array([[1., 1., 1., 1.],\n",
       "       [1., 1., 1., 1.],\n",
       "       [1., 1., 1., 1.]])"
      ]
     },
     "execution_count": 27,
     "metadata": {},
     "output_type": "execute_result"
    }
   ],
   "source": [
    "# 모든 값을 1으로 채워서 ndarray 객체 생성 함수 -> ones()\n",
    "arr2 = np.ones(shape=(3,4))\n",
    "arr2"
   ]
  },
  {
   "cell_type": "code",
   "execution_count": 29,
   "metadata": {},
   "outputs": [
    {
     "data": {
      "text/plain": [
       "numpy.float64"
      ]
     },
     "execution_count": 29,
     "metadata": {},
     "output_type": "execute_result"
    }
   ],
   "source": [
    "type(arr2[0][0])"
   ]
  },
  {
   "cell_type": "code",
   "execution_count": 32,
   "metadata": {},
   "outputs": [
    {
     "name": "stdout",
     "output_type": "stream",
     "text": [
      "2\n",
      "(3, 4)\n",
      "int64\n",
      "8\n",
      "12\n"
     ]
    }
   ],
   "source": [
    "arr2 = np.ones(shape=(3,4), dtype='int64')\n",
    "arr2\n",
    "print(arr2.ndim, arr2.shape, arr2.dtype, arr2.itemsize, arr2.size, sep= '\\n')"
   ]
  },
  {
   "cell_type": "code",
   "execution_count": 35,
   "metadata": {},
   "outputs": [
    {
     "data": {
      "text/plain": [
       "array([[-1, -1, -1, -1],\n",
       "       [-1, -1, -1, -1],\n",
       "       [-1, -1, -1, -1]])"
      ]
     },
     "execution_count": 35,
     "metadata": {},
     "output_type": "execute_result"
    }
   ],
   "source": [
    "# full 함수\n",
    "np.full(shape=(3,4), fill_value=-1)"
   ]
  },
  {
   "cell_type": "code",
   "execution_count": 37,
   "metadata": {},
   "outputs": [
    {
     "data": {
      "text/plain": [
       "array([[0., 0., 0.],\n",
       "       [0., 0., 0.]])"
      ]
     },
     "execution_count": 37,
     "metadata": {},
     "output_type": "execute_result"
    }
   ],
   "source": [
    "# 초기화하지 않고ndarray 객체 생성 -> numpy.empty()\n",
    "arr3 = np.empty((2,3))\n",
    "arr3"
   ]
  },
  {
   "cell_type": "code",
   "execution_count": 40,
   "metadata": {},
   "outputs": [
    {
     "data": {
      "text/plain": [
       "array([0., 0., 0., 0., 0., 0.])"
      ]
     },
     "execution_count": 40,
     "metadata": {},
     "output_type": "execute_result"
    }
   ],
   "source": [
    "# linspace, logspace\n",
    "# 2차원형태의 array객체 생성\n",
    "# 2차원 배열 -> 1차원배열 : flatten, ravel\n",
    "arr3.flatten()"
   ]
  },
  {
   "cell_type": "code",
   "execution_count": 41,
   "metadata": {},
   "outputs": [
    {
     "data": {
      "text/plain": [
       "((2, 3), 2)"
      ]
     },
     "execution_count": 41,
     "metadata": {},
     "output_type": "execute_result"
    }
   ],
   "source": [
    "arr3.shape, arr3.ndim"
   ]
  },
  {
   "cell_type": "code",
   "execution_count": 43,
   "metadata": {},
   "outputs": [
    {
     "data": {
      "text/plain": [
       "array([[0., 0.],\n",
       "       [0., 0.],\n",
       "       [0., 0.]])"
      ]
     },
     "execution_count": 43,
     "metadata": {},
     "output_type": "execute_result"
    }
   ],
   "source": [
    "# 1차원 -> 다른 차원으로 변경 reshape()\n",
    "\n",
    "arr4 = arr3.reshape((3,2))\n",
    "arr4"
   ]
  },
  {
   "cell_type": "code",
   "execution_count": 45,
   "metadata": {},
   "outputs": [
    {
     "data": {
      "text/plain": [
       "array([[[0.],\n",
       "        [0.],\n",
       "        [0.]],\n",
       "\n",
       "       [[0.],\n",
       "        [0.],\n",
       "        [0.]]])"
      ]
     },
     "execution_count": 45,
     "metadata": {},
     "output_type": "execute_result"
    }
   ],
   "source": [
    "arr3.reshape((2, 3,1))"
   ]
  },
  {
   "cell_type": "code",
   "execution_count": 51,
   "metadata": {},
   "outputs": [
    {
     "data": {
      "text/plain": [
       "array([[0., 0., 0., 0., 0., 0.]])"
      ]
     },
     "execution_count": 51,
     "metadata": {},
     "output_type": "execute_result"
    }
   ],
   "source": [
    "# hstack, vstack, dstack()\n",
    "# 깊이 , 채널, 차원\n",
    "# 행의 개수를 모를때, 행 자리에 -1를 주면 된다. 그러면 알아서 계산\n",
    "arr4 = arr3.reshape(-1, 6)\n",
    "arr4"
   ]
  },
  {
   "cell_type": "code",
   "execution_count": null,
   "metadata": {},
   "outputs": [],
   "source": [
    "# 곱셈으로 dot, matmul, @ 가 쓰인다.\n"
   ]
  },
  {
   "cell_type": "code",
   "execution_count": null,
   "metadata": {},
   "outputs": [],
   "source": []
  }
 ],
 "metadata": {
  "kernelspec": {
   "display_name": "Python 3.11.0 64-bit",
   "language": "python",
   "name": "python3"
  },
  "language_info": {
   "codemirror_mode": {
    "name": "ipython",
    "version": 3
   },
   "file_extension": ".py",
   "mimetype": "text/x-python",
   "name": "python",
   "nbconvert_exporter": "python",
   "pygments_lexer": "ipython3",
   "version": "3.11.0"
  },
  "orig_nbformat": 4,
  "vscode": {
   "interpreter": {
    "hash": "d417a21d97a2e6b8832d21dc44f5cbe4be6e18325f874a8bb8484565b928cd54"
   }
  }
 },
 "nbformat": 4,
 "nbformat_minor": 2
}
