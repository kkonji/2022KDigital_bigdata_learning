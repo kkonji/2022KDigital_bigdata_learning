{
 "cells": [
  {
   "cell_type": "markdown",
   "metadata": {},
   "source": [
    "# cifar10 데이터셋 분석"
   ]
  },
  {
   "cell_type": "code",
   "execution_count": 13,
   "metadata": {},
   "outputs": [],
   "source": [
    "import pandas as pd\n",
    "import numpy as np\n",
    "import matplotlib.pyplot as plt\n",
    "import tensorflow as tf\n",
    "from tensorflow.keras.datasets.cifar10 import load_data\n",
    "from keras.layers import Dense, Dropout, Flatten, Conv2D, MaxPool2D\n",
    "from sklearn.model_selection import train_test_split\n",
    "# 모델 도식화 가능\n",
    "from keras.utils import plot_model\n",
    "from keras import Sequential\n",
    "from keras.utils import set_random_seed\n"
   ]
  },
  {
   "cell_type": "code",
   "execution_count": 2,
   "metadata": {},
   "outputs": [],
   "source": [
    "# 모델 도식화 가능\n",
    "# %pip install pydotplus\n",
    "# %pip install pydot\n",
    "# %pip install graphviz\n",
    "# %pip install --upgrade pip"
   ]
  },
  {
   "cell_type": "code",
   "execution_count": 17,
   "metadata": {},
   "outputs": [],
   "source": [
    "# 데이터 로딩\n",
    "(train_x, train_y), (test_x, test_y) = load_data()"
   ]
  },
  {
   "cell_type": "code",
   "execution_count": 18,
   "metadata": {},
   "outputs": [],
   "source": [
    "# 표준화\n",
    "train_scaled = train_x / 255.0\n",
    "test_scaled = test_x / 255.0\n",
    "train_scaled, val_scaled, train_target, val_target = train_test_split(train_scaled, train_y, test_size=0.2, random_state=42)"
   ]
  },
  {
   "cell_type": "code",
   "execution_count": 19,
   "metadata": {},
   "outputs": [
    {
     "name": "stdout",
     "output_type": "stream",
     "text": [
      "(40000, 32, 32, 3) (40000, 1)\n"
     ]
    }
   ],
   "source": [
    "# 값 살펴보기\n",
    "print(train_scaled.shape, train_target.shape)"
   ]
  },
  {
   "cell_type": "markdown",
   "metadata": {},
   "source": [
    "### DNN으로 모델링"
   ]
  },
  {
   "cell_type": "code",
   "execution_count": 29,
   "metadata": {},
   "outputs": [
    {
     "name": "stdout",
     "output_type": "stream",
     "text": [
      "Model: \"cifar10\"\n",
      "_________________________________________________________________\n",
      " Layer (type)                Output Shape              Param #   \n",
      "=================================================================\n",
      " flatten (Flatten)           (None, 3072)              0         \n",
      "                                                                 \n",
      " dense_23 (Dense)            (None, 100)               307300    \n",
      "                                                                 \n",
      " dense_24 (Dense)            (None, 100)               10100     \n",
      "                                                                 \n",
      " dense_25 (Dense)            (None, 10)                1010      \n",
      "                                                                 \n",
      "=================================================================\n",
      "Total params: 318,410\n",
      "Trainable params: 318,410\n",
      "Non-trainable params: 0\n",
      "_________________________________________________________________\n"
     ]
    }
   ],
   "source": [
    "md = Sequential(name='cifar10')\n",
    "md.add(Flatten(input_shape=(32,32,3), name='flatten'))\n",
    "md.add(Dense(100, activation='relu'))\n",
    "# md.add(Dropout(0.3))\n",
    "md.add(Dense(100, activation='relu'))\n",
    "# md.add(Dropout(0.3))\n",
    "md.add(Dense(10, activation='softmax'))\n",
    "md.summary()"
   ]
  },
  {
   "cell_type": "code",
   "execution_count": 25,
   "metadata": {},
   "outputs": [
    {
     "data": {
      "image/png": "[encoded data removed]",
      "text/plain": [
       "<IPython.core.display.Image object>"
      ]
     },
     "execution_count": 25,
     "metadata": {},
     "output_type": "execute_result"
    }
   ],
   "source": [
    "plot_model(md)"
   ]
  },
  {
   "cell_type": "code",
   "execution_count": 31,
   "metadata": {},
   "outputs": [
    {
     "name": "stdout",
     "output_type": "stream",
     "text": [
      "Epoch 1/100\n",
      "1250/1250 [==============================] - 6s 5ms/step - loss: 1.5454 - accuracy: 0.4549\n",
      "Epoch 2/100\n",
      "1250/1250 [==============================] - 5s 4ms/step - loss: 1.5215 - accuracy: 0.4607\n",
      "Epoch 3/100\n",
      "1250/1250 [==============================] - 4s 4ms/step - loss: 1.4945 - accuracy: 0.4717\n",
      "Epoch 4/100\n",
      "1250/1250 [==============================] - 4s 3ms/step - loss: 1.4756 - accuracy: 0.4756\n",
      "Epoch 5/100\n",
      "1250/1250 [==============================] - 4s 3ms/step - loss: 1.4524 - accuracy: 0.4878\n",
      "Epoch 6/100\n",
      "1250/1250 [==============================] - 5s 4ms/step - loss: 1.4342 - accuracy: 0.4918\n",
      "Epoch 7/100\n",
      "1250/1250 [==============================] - 5s 4ms/step - loss: 1.4129 - accuracy: 0.5007\n",
      "Epoch 8/100\n",
      "1250/1250 [==============================] - 5s 4ms/step - loss: 1.3969 - accuracy: 0.5048\n",
      "Epoch 9/100\n",
      "1250/1250 [==============================] - 5s 4ms/step - loss: 1.3802 - accuracy: 0.5102\n",
      "Epoch 10/100\n",
      "1250/1250 [==============================] - 4s 3ms/step - loss: 1.3683 - accuracy: 0.5143\n",
      "Epoch 11/100\n",
      "1250/1250 [==============================] - 4s 3ms/step - loss: 1.3515 - accuracy: 0.5209\n",
      "Epoch 12/100\n",
      "1250/1250 [==============================] - 5s 4ms/step - loss: 1.3393 - accuracy: 0.5246\n",
      "Epoch 13/100\n",
      "1250/1250 [==============================] - 4s 3ms/step - loss: 1.3226 - accuracy: 0.5322\n",
      "Epoch 14/100\n",
      "1250/1250 [==============================] - 4s 3ms/step - loss: 1.3131 - accuracy: 0.5340\n",
      "Epoch 15/100\n",
      "1250/1250 [==============================] - 4s 3ms/step - loss: 1.3003 - accuracy: 0.5383\n",
      "Epoch 16/100\n",
      "1250/1250 [==============================] - 4s 3ms/step - loss: 1.2867 - accuracy: 0.5451\n",
      "Epoch 17/100\n",
      "1250/1250 [==============================] - 4s 3ms/step - loss: 1.2756 - accuracy: 0.5463\n",
      "Epoch 18/100\n",
      "1250/1250 [==============================] - 5s 4ms/step - loss: 1.2627 - accuracy: 0.5519\n",
      "Epoch 19/100\n",
      "1250/1250 [==============================] - 5s 4ms/step - loss: 1.2545 - accuracy: 0.5569\n",
      "Epoch 20/100\n",
      "1250/1250 [==============================] - 5s 4ms/step - loss: 1.2456 - accuracy: 0.5590\n",
      "Epoch 21/100\n",
      "1250/1250 [==============================] - 4s 4ms/step - loss: 1.2364 - accuracy: 0.5630\n",
      "Epoch 22/100\n",
      "1250/1250 [==============================] - 5s 4ms/step - loss: 1.2245 - accuracy: 0.5664\n",
      "Epoch 23/100\n",
      "1250/1250 [==============================] - 5s 4ms/step - loss: 1.2158 - accuracy: 0.5717\n",
      "Epoch 24/100\n",
      "1250/1250 [==============================] - 4s 4ms/step - loss: 1.2058 - accuracy: 0.5723\n",
      "Epoch 25/100\n",
      "1250/1250 [==============================] - 5s 4ms/step - loss: 1.1990 - accuracy: 0.5753\n",
      "Epoch 26/100\n",
      "1250/1250 [==============================] - 4s 3ms/step - loss: 1.1894 - accuracy: 0.5792\n",
      "Epoch 27/100\n",
      "1250/1250 [==============================] - 4s 4ms/step - loss: 1.1810 - accuracy: 0.5822\n",
      "Epoch 28/100\n",
      "1250/1250 [==============================] - 4s 4ms/step - loss: 1.1713 - accuracy: 0.5846\n",
      "Epoch 29/100\n",
      "1250/1250 [==============================] - 4s 3ms/step - loss: 1.1610 - accuracy: 0.5887\n",
      "Epoch 30/100\n",
      "1250/1250 [==============================] - 4s 4ms/step - loss: 1.1521 - accuracy: 0.5923\n",
      "Epoch 31/100\n",
      "1250/1250 [==============================] - 4s 3ms/step - loss: 1.1464 - accuracy: 0.5932\n",
      "Epoch 32/100\n",
      "1250/1250 [==============================] - 4s 4ms/step - loss: 1.1373 - accuracy: 0.5985\n",
      "Epoch 33/100\n",
      "1250/1250 [==============================] - 5s 4ms/step - loss: 1.1298 - accuracy: 0.5979\n",
      "Epoch 34/100\n",
      "1250/1250 [==============================] - 5s 4ms/step - loss: 1.1232 - accuracy: 0.5997\n",
      "Epoch 35/100\n",
      "1250/1250 [==============================] - 5s 4ms/step - loss: 1.1147 - accuracy: 0.6053\n",
      "Epoch 36/100\n",
      "1250/1250 [==============================] - 5s 4ms/step - loss: 1.1047 - accuracy: 0.6079\n",
      "Epoch 37/100\n",
      "1250/1250 [==============================] - 4s 4ms/step - loss: 1.0968 - accuracy: 0.6128\n",
      "Epoch 38/100\n",
      "1250/1250 [==============================] - 5s 4ms/step - loss: 1.0928 - accuracy: 0.6120\n",
      "Epoch 39/100\n",
      "1250/1250 [==============================] - 5s 4ms/step - loss: 1.0812 - accuracy: 0.6166\n",
      "Epoch 40/100\n",
      "1250/1250 [==============================] - 5s 4ms/step - loss: 1.0778 - accuracy: 0.6179\n",
      "Epoch 41/100\n",
      "1250/1250 [==============================] - 5s 4ms/step - loss: 1.0680 - accuracy: 0.6215\n",
      "Epoch 42/100\n",
      "1250/1250 [==============================] - 5s 4ms/step - loss: 1.0630 - accuracy: 0.6253\n",
      "Epoch 43/100\n",
      "1250/1250 [==============================] - 5s 4ms/step - loss: 1.0537 - accuracy: 0.6279\n",
      "Epoch 44/100\n",
      "1250/1250 [==============================] - 5s 4ms/step - loss: 1.0486 - accuracy: 0.6277\n",
      "Epoch 45/100\n",
      "1250/1250 [==============================] - 4s 4ms/step - loss: 1.0391 - accuracy: 0.6301\n",
      "Epoch 46/100\n",
      "1250/1250 [==============================] - 5s 4ms/step - loss: 1.0337 - accuracy: 0.6347\n",
      "Epoch 47/100\n",
      "1250/1250 [==============================] - 5s 4ms/step - loss: 1.0264 - accuracy: 0.6379\n",
      "Epoch 48/100\n",
      "1250/1250 [==============================] - 4s 4ms/step - loss: 1.0206 - accuracy: 0.6397\n",
      "Epoch 49/100\n",
      "1250/1250 [==============================] - 5s 4ms/step - loss: 1.0136 - accuracy: 0.6424\n",
      "Epoch 50/100\n",
      "1250/1250 [==============================] - 5s 4ms/step - loss: 1.0058 - accuracy: 0.6449\n",
      "Epoch 51/100\n",
      "1250/1250 [==============================] - 5s 4ms/step - loss: 1.0000 - accuracy: 0.6468\n",
      "Epoch 52/100\n",
      "1250/1250 [==============================] - 5s 4ms/step - loss: 0.9929 - accuracy: 0.6471\n",
      "Epoch 53/100\n",
      "1250/1250 [==============================] - 4s 4ms/step - loss: 0.9887 - accuracy: 0.6515\n",
      "Epoch 54/100\n",
      "1250/1250 [==============================] - 5s 4ms/step - loss: 0.9801 - accuracy: 0.6526\n",
      "Epoch 55/100\n",
      "1250/1250 [==============================] - 4s 4ms/step - loss: 0.9779 - accuracy: 0.6545\n",
      "Epoch 56/100\n",
      "1250/1250 [==============================] - 4s 4ms/step - loss: 0.9688 - accuracy: 0.6585\n",
      "Epoch 57/100\n",
      "1250/1250 [==============================] - 5s 4ms/step - loss: 0.9639 - accuracy: 0.6569\n",
      "Epoch 58/100\n",
      "1250/1250 [==============================] - 5s 4ms/step - loss: 0.9554 - accuracy: 0.6642\n",
      "Epoch 59/100\n",
      "1250/1250 [==============================] - 5s 4ms/step - loss: 0.9486 - accuracy: 0.6629\n",
      "Epoch 60/100\n",
      "1250/1250 [==============================] - 5s 4ms/step - loss: 0.9431 - accuracy: 0.6658\n",
      "Epoch 61/100\n",
      "1250/1250 [==============================] - 5s 4ms/step - loss: 0.9371 - accuracy: 0.6667\n",
      "Epoch 62/100\n",
      "1250/1250 [==============================] - 5s 4ms/step - loss: 0.9333 - accuracy: 0.6716\n",
      "Epoch 63/100\n",
      "1250/1250 [==============================] - 5s 4ms/step - loss: 0.9294 - accuracy: 0.6711\n",
      "Epoch 64/100\n",
      "1250/1250 [==============================] - 5s 4ms/step - loss: 0.9201 - accuracy: 0.6770\n",
      "Epoch 65/100\n",
      "1250/1250 [==============================] - 5s 4ms/step - loss: 0.9150 - accuracy: 0.6751\n",
      "Epoch 66/100\n",
      "1250/1250 [==============================] - 5s 4ms/step - loss: 0.9117 - accuracy: 0.6783\n",
      "Epoch 67/100\n",
      "1250/1250 [==============================] - 5s 4ms/step - loss: 0.9074 - accuracy: 0.6816\n",
      "Epoch 68/100\n",
      "1250/1250 [==============================] - 5s 4ms/step - loss: 0.8994 - accuracy: 0.6847\n",
      "Epoch 69/100\n",
      "1250/1250 [==============================] - 4s 3ms/step - loss: 0.8930 - accuracy: 0.6842\n",
      "Epoch 70/100\n",
      "1250/1250 [==============================] - 4s 4ms/step - loss: 0.8910 - accuracy: 0.6847\n",
      "Epoch 71/100\n",
      "1250/1250 [==============================] - 5s 4ms/step - loss: 0.8792 - accuracy: 0.6890\n",
      "Epoch 72/100\n",
      "1250/1250 [==============================] - 5s 4ms/step - loss: 0.8808 - accuracy: 0.6869\n",
      "Epoch 73/100\n",
      "1250/1250 [==============================] - 5s 4ms/step - loss: 0.8720 - accuracy: 0.6905\n",
      "Epoch 74/100\n",
      "1250/1250 [==============================] - 5s 4ms/step - loss: 0.8649 - accuracy: 0.6927\n",
      "Epoch 75/100\n",
      "1250/1250 [==============================] - 5s 4ms/step - loss: 0.8619 - accuracy: 0.6956\n",
      "Epoch 76/100\n",
      "1250/1250 [==============================] - 5s 4ms/step - loss: 0.8598 - accuracy: 0.6949\n",
      "Epoch 77/100\n",
      "1250/1250 [==============================] - 5s 4ms/step - loss: 0.8531 - accuracy: 0.6984\n",
      "Epoch 78/100\n",
      "1250/1250 [==============================] - 5s 4ms/step - loss: 0.8471 - accuracy: 0.6998\n",
      "Epoch 79/100\n",
      "1250/1250 [==============================] - 5s 4ms/step - loss: 0.8430 - accuracy: 0.6996\n",
      "Epoch 80/100\n",
      "1250/1250 [==============================] - 5s 4ms/step - loss: 0.8365 - accuracy: 0.7063\n",
      "Epoch 81/100\n",
      "1250/1250 [==============================] - 5s 4ms/step - loss: 0.8372 - accuracy: 0.7054\n",
      "Epoch 82/100\n",
      "1250/1250 [==============================] - 4s 3ms/step - loss: 0.8250 - accuracy: 0.7079\n",
      "Epoch 83/100\n",
      "1250/1250 [==============================] - 4s 4ms/step - loss: 0.8200 - accuracy: 0.7100\n",
      "Epoch 84/100\n",
      "1250/1250 [==============================] - 5s 4ms/step - loss: 0.8182 - accuracy: 0.7104\n",
      "Epoch 85/100\n",
      "1250/1250 [==============================] - 5s 4ms/step - loss: 0.8112 - accuracy: 0.7132\n",
      "Epoch 86/100\n",
      "1250/1250 [==============================] - 5s 4ms/step - loss: 0.8078 - accuracy: 0.7146\n",
      "Epoch 87/100\n",
      "1250/1250 [==============================] - 5s 4ms/step - loss: 0.8016 - accuracy: 0.7182\n",
      "Epoch 88/100\n",
      "1250/1250 [==============================] - 4s 4ms/step - loss: 0.7989 - accuracy: 0.7168\n",
      "Epoch 89/100\n",
      "1250/1250 [==============================] - 5s 4ms/step - loss: 0.7927 - accuracy: 0.7175\n",
      "Epoch 90/100\n",
      "1250/1250 [==============================] - 5s 4ms/step - loss: 0.7868 - accuracy: 0.7216\n",
      "Epoch 91/100\n",
      "1250/1250 [==============================] - 4s 4ms/step - loss: 0.7849 - accuracy: 0.7215\n",
      "Epoch 92/100\n",
      "1250/1250 [==============================] - 5s 4ms/step - loss: 0.7786 - accuracy: 0.7233\n",
      "Epoch 93/100\n",
      "1250/1250 [==============================] - 5s 4ms/step - loss: 0.7746 - accuracy: 0.7256\n",
      "Epoch 94/100\n",
      "1250/1250 [==============================] - 4s 4ms/step - loss: 0.7704 - accuracy: 0.7271\n",
      "Epoch 95/100\n",
      "1250/1250 [==============================] - 5s 4ms/step - loss: 0.7673 - accuracy: 0.7296\n",
      "Epoch 96/100\n",
      "1250/1250 [==============================] - 4s 4ms/step - loss: 0.7586 - accuracy: 0.7308\n",
      "Epoch 97/100\n",
      "1250/1250 [==============================] - 5s 4ms/step - loss: 0.7558 - accuracy: 0.7325\n",
      "Epoch 98/100\n",
      "1250/1250 [==============================] - 5s 4ms/step - loss: 0.7531 - accuracy: 0.7340\n",
      "Epoch 99/100\n",
      "1250/1250 [==============================] - 5s 4ms/step - loss: 0.7493 - accuracy: 0.7362\n",
      "Epoch 100/100\n",
      "1250/1250 [==============================] - 5s 4ms/step - loss: 0.7414 - accuracy: 0.7398\n",
      "313/313 [==============================] - 1s 2ms/step - loss: 1.6942 - accuracy: 0.5087\n"
     ]
    },
    {
     "data": {
      "text/plain": [
       "[1.6942228078842163, 0.5087000131607056]"
      ]
     },
     "execution_count": 31,
     "metadata": {},
     "output_type": "execute_result"
    }
   ],
   "source": [
    "md.compile(optimizer='sgd',loss='sparse_categorical_crossentropy', metrics='accuracy')\n",
    "md.fit(train_scaled, train_target, epochs=100)\n",
    "md.evaluate(val_scaled, val_target)"
   ]
  },
  {
   "cell_type": "markdown",
   "metadata": {},
   "source": [
    "### 중간 결론\n",
    "- DNN만으로는 test_data의 정확도를 높이기엔 한계가 있다. (기껏해야 0.5정도)\n",
    "- 다른 방법을 쓰자 -> CNN\n"
   ]
  },
  {
   "cell_type": "markdown",
   "metadata": {},
   "source": [
    "### CNN 사용해서 모델링"
   ]
  },
  {
   "cell_type": "code",
   "execution_count": 35,
   "metadata": {},
   "outputs": [],
   "source": [
    "set_random_seed(42)"
   ]
  },
  {
   "cell_type": "code",
   "execution_count": 37,
   "metadata": {},
   "outputs": [
    {
     "name": "stdout",
     "output_type": "stream",
     "text": [
      "Model: \"sequential_6\"\n",
      "_________________________________________________________________\n",
      " Layer (type)                Output Shape              Param #   \n",
      "=================================================================\n",
      " conv2d (Conv2D)             (None, 32, 32, 32)        896       \n",
      "                                                                 \n",
      " max_pooling2d (MaxPooling2D  (None, 16, 16, 32)       0         \n",
      " )                                                               \n",
      "                                                                 \n",
      " conv2d_1 (Conv2D)           (None, 16, 16, 64)        18496     \n",
      "                                                                 \n",
      " max_pooling2d_1 (MaxPooling  (None, 8, 8, 64)         0         \n",
      " 2D)                                                             \n",
      "                                                                 \n",
      " flatten_6 (Flatten)         (None, 4096)              0         \n",
      "                                                                 \n",
      " dense_26 (Dense)            (None, 100)               409700    \n",
      "                                                                 \n",
      " dropout_10 (Dropout)        (None, 100)               0         \n",
      "                                                                 \n",
      " dense_27 (Dense)            (None, 10)                1010      \n",
      "                                                                 \n",
      "=================================================================\n",
      "Total params: 430,102\n",
      "Trainable params: 430,102\n",
      "Non-trainable params: 0\n",
      "_________________________________________________________________\n"
     ]
    }
   ],
   "source": [
    "md = Sequential()\n",
    "md.add(Conv2D(32, kernel_size=(3,3), activation='relu', padding='same', input_shape=(32,32,3)))\n",
    "md.add(MaxPool2D(2))\n",
    "md.add(Conv2D(64, kernel_size=(3,3), activation='relu', padding='same'))\n",
    "md.add(MaxPool2D(2))\n",
    "md.add(Flatten())\n",
    "md.add(Dense(100, activation='relu'))\n",
    "md.add(Dropout(0.4))\n",
    "md.add(Dense(10, activation='softmax'))\n",
    "md.summary()"
   ]
  },
  {
   "cell_type": "code",
   "execution_count": 39,
   "metadata": {},
   "outputs": [
    {
     "data": {
      "image/png": "[encoded data removed]",
      "text/plain": [
       "<IPython.core.display.Image object>"
      ]
     },
     "execution_count": 39,
     "metadata": {},
     "output_type": "execute_result"
    }
   ],
   "source": [
    "plot_model(md, show_shapes=True)"
   ]
  },
  {
   "cell_type": "code",
   "execution_count": 40,
   "metadata": {},
   "outputs": [
    {
     "name": "stdout",
     "output_type": "stream",
     "text": [
      "Epoch 1/20\n",
      "1250/1250 [==============================] - 46s 36ms/step - loss: 1.6035 - accuracy: 0.4144 - val_loss: 1.2380 - val_accuracy: 0.5650\n",
      "Epoch 2/20\n",
      "1250/1250 [==============================] - 55s 44ms/step - loss: 1.2570 - accuracy: 0.5530 - val_loss: 1.0723 - val_accuracy: 0.6204\n",
      "Epoch 3/20\n",
      "1250/1250 [==============================] - 52s 41ms/step - loss: 1.1160 - accuracy: 0.6061 - val_loss: 0.9748 - val_accuracy: 0.6554\n",
      "Epoch 4/20\n",
      "1250/1250 [==============================] - 51s 41ms/step - loss: 1.0356 - accuracy: 0.6332 - val_loss: 0.9310 - val_accuracy: 0.6716\n",
      "Epoch 5/20\n",
      "1250/1250 [==============================] - 54s 43ms/step - loss: 0.9624 - accuracy: 0.6587 - val_loss: 0.9192 - val_accuracy: 0.6712\n",
      "Epoch 6/20\n",
      "1250/1250 [==============================] - 50s 40ms/step - loss: 0.9063 - accuracy: 0.6792 - val_loss: 0.8825 - val_accuracy: 0.6936\n",
      "Epoch 7/20\n",
      "1250/1250 [==============================] - 50s 40ms/step - loss: 0.8502 - accuracy: 0.6951 - val_loss: 0.8957 - val_accuracy: 0.6921\n",
      "Epoch 8/20\n",
      "1250/1250 [==============================] - 51s 41ms/step - loss: 0.8057 - accuracy: 0.7121 - val_loss: 0.8865 - val_accuracy: 0.6937\n",
      "Epoch 9/20\n",
      "1250/1250 [==============================] - 53s 42ms/step - loss: 0.7653 - accuracy: 0.7255 - val_loss: 0.8522 - val_accuracy: 0.7077\n",
      "Epoch 10/20\n",
      "1250/1250 [==============================] - 53s 42ms/step - loss: 0.7245 - accuracy: 0.7387 - val_loss: 0.8870 - val_accuracy: 0.7024\n",
      "Epoch 11/20\n",
      "1250/1250 [==============================] - 53s 43ms/step - loss: 0.6852 - accuracy: 0.7534 - val_loss: 0.8992 - val_accuracy: 0.6978\n",
      "Epoch 12/20\n",
      "1250/1250 [==============================] - 54s 43ms/step - loss: 0.6533 - accuracy: 0.7608 - val_loss: 0.9056 - val_accuracy: 0.6992\n",
      "Epoch 13/20\n",
      "1250/1250 [==============================] - 55s 44ms/step - loss: 0.6146 - accuracy: 0.7752 - val_loss: 0.8841 - val_accuracy: 0.7097\n",
      "Epoch 14/20\n",
      "1250/1250 [==============================] - 54s 43ms/step - loss: 0.5815 - accuracy: 0.7853 - val_loss: 0.9068 - val_accuracy: 0.7081\n",
      "Epoch 15/20\n",
      "1250/1250 [==============================] - 52s 42ms/step - loss: 0.5566 - accuracy: 0.7924 - val_loss: 0.9409 - val_accuracy: 0.7027\n",
      "Epoch 16/20\n",
      "1250/1250 [==============================] - 55s 44ms/step - loss: 0.5380 - accuracy: 0.8004 - val_loss: 1.0070 - val_accuracy: 0.6943\n",
      "Epoch 17/20\n",
      "1250/1250 [==============================] - 52s 42ms/step - loss: 0.5106 - accuracy: 0.8130 - val_loss: 0.9780 - val_accuracy: 0.7036\n",
      "Epoch 18/20\n",
      "1250/1250 [==============================] - 51s 41ms/step - loss: 0.4903 - accuracy: 0.8193 - val_loss: 0.9810 - val_accuracy: 0.7144\n",
      "Epoch 19/20\n",
      "1250/1250 [==============================] - 51s 41ms/step - loss: 0.4710 - accuracy: 0.8257 - val_loss: 1.0078 - val_accuracy: 0.7133\n",
      "Epoch 20/20\n",
      "1250/1250 [==============================] - 56s 45ms/step - loss: 0.4493 - accuracy: 0.8312 - val_loss: 1.0012 - val_accuracy: 0.7116\n"
     ]
    }
   ],
   "source": [
    "md.compile(optimizer='adam', loss='sparse_categorical_crossentropy', metrics='accuracy')\n",
    "\n",
    "history = md.fit(train_scaled, train_target, epochs=20, validation_data=(val_scaled, val_target))"
   ]
  },
  {
   "cell_type": "code",
   "execution_count": 44,
   "metadata": {},
   "outputs": [
    {
     "name": "stdout",
     "output_type": "stream",
     "text": [
      "313/313 [==============================] - 3s 9ms/step - loss: 1.0590 - accuracy: 0.7037\n"
     ]
    },
    {
     "data": {
      "text/plain": [
       "[1.0590109825134277, 0.7037000060081482]"
      ]
     },
     "execution_count": 44,
     "metadata": {},
     "output_type": "execute_result"
    }
   ],
   "source": [
    "md.evaluate(test_scaled, test_y)"
   ]
  },
  {
   "cell_type": "markdown",
   "metadata": {},
   "source": [
    "## 예측"
   ]
  },
  {
   "cell_type": "code",
   "execution_count": 97,
   "metadata": {},
   "outputs": [
    {
     "data": {
      "image/png": "[encoded data removed]",
      "text/plain": [
       "<Figure size 720x720 with 10 Axes>"
      ]
     },
     "metadata": {
      "needs_background": "light"
     },
     "output_type": "display_data"
    },
    {
     "name": "stdout",
     "output_type": "stream",
     "text": [
      "         real     predict\n",
      "0        frog         cat\n",
      "1       truck       truck\n",
      "2       truck       truck\n",
      "3        deer        deer\n",
      "4  automobile  automobile\n",
      "5  automobile  automobile\n",
      "6        bird        frog\n",
      "7       horse       horse\n",
      "8        ship        ship\n",
      "9         cat       truck\n"
     ]
    }
   ],
   "source": [
    "dic = {0:'airplane', 1:'automobile', 2:'bird', 3:'cat', 4:'deer', 5:'dog', 6:'frog', 7:'horse', 8:'ship', 9:'truck'}\n",
    "fig, axs = plt.subplots(1,10, figsize=(10,10))\n",
    "realPredict = []\n",
    "for i in range(10):\n",
    "    pred = md.predict(train_x[i].reshape(-1,32,32,3), verbose=0)\n",
    "    pred = dic[pred[0].argmax()]\n",
    "    real = dic[train_y[i][0]]\n",
    "    realPredict.append([real, pred])\n",
    "    axs[i].imshow(train_x[i])\n",
    "    axs[i].axis('off')\n",
    "plt.show()\n",
    "print(pd.DataFrame(realPredict, columns=['real', 'predict']))"
   ]
  },
  {
   "cell_type": "code",
   "execution_count": 10,
   "metadata": {},
   "outputs": [
    {
     "data": {
      "text/plain": [
       "array([[[143, 136, 117, 255],\n",
       "        [122, 117, 101, 255],\n",
       "        [ 57,  53,  39, 255],\n",
       "        ...,\n",
       "        [182, 174, 167, 255],\n",
       "        [178, 167, 159, 255],\n",
       "        [127, 115,  96, 255]],\n",
       "\n",
       "       [[137, 130, 112, 255],\n",
       "        [125, 120, 104, 255],\n",
       "        [ 71,  68,  55, 255],\n",
       "        ...,\n",
       "        [193, 190, 186, 255],\n",
       "        [196, 191, 188, 255],\n",
       "        [200, 196, 193, 255]],\n",
       "\n",
       "       [[132, 125, 111, 255],\n",
       "        [118, 115, 102, 255],\n",
       "        [ 76,  76,  67, 255],\n",
       "        ...,\n",
       "        [198, 194, 190, 255],\n",
       "        [196, 192, 188, 255],\n",
       "        [200, 195, 192, 255]],\n",
       "\n",
       "       ...,\n",
       "\n",
       "       [[188, 189, 184, 255],\n",
       "        [138, 141, 143, 255],\n",
       "        [139, 142, 144, 255],\n",
       "        ...,\n",
       "        [231, 231, 229, 255],\n",
       "        [204, 204, 206, 255],\n",
       "        [222, 221, 220, 255]],\n",
       "\n",
       "       [[194, 194, 188, 255],\n",
       "        [171, 173, 171, 255],\n",
       "        [178, 178, 176, 255],\n",
       "        ...,\n",
       "        [189, 190, 192, 255],\n",
       "        [229, 229, 227, 255],\n",
       "        [229, 229, 227, 255]],\n",
       "\n",
       "       [[194, 193, 188, 255],\n",
       "        [180, 181, 177, 255],\n",
       "        [211, 210, 204, 255],\n",
       "        ...,\n",
       "        [228, 227, 225, 255],\n",
       "        [230, 230, 228, 255],\n",
       "        [182, 183, 186, 255]]], dtype=uint8)"
      ]
     },
     "execution_count": 10,
     "metadata": {},
     "output_type": "execute_result"
    }
   ],
   "source": [
    "# %pip install pillow\n",
    "from PIL import Image\n",
    "image = Image.open('cat.png')\n",
    "np.array(image)"
   ]
  },
  {
   "cell_type": "markdown",
   "metadata": {},
   "source": [
    "## 결과\n",
    "- DNN: 0.5, CNN: 0.7 정도로 0.2만큼이나 개선된걸 확인 가능"
   ]
  },
  {
   "cell_type": "code",
   "execution_count": 20,
   "metadata": {},
   "outputs": [
    {
     "name": "stdout",
     "output_type": "stream",
     "text": [
      "Model: \"sequential_2\"\n",
      "_________________________________________________________________\n",
      " Layer (type)                Output Shape              Param #   \n",
      "=================================================================\n",
      " conv2d_5 (Conv2D)           (None, 32, 32, 32)        896       \n",
      "                                                                 \n",
      " dropout_5 (Dropout)         (None, 32, 32, 32)        0         \n",
      "                                                                 \n",
      " max_pooling2d_5 (MaxPooling  (None, 16, 16, 32)       0         \n",
      " 2D)                                                             \n",
      "                                                                 \n",
      " conv2d_6 (Conv2D)           (None, 16, 16, 64)        18496     \n",
      "                                                                 \n",
      " dropout_6 (Dropout)         (None, 16, 16, 64)        0         \n",
      "                                                                 \n",
      " max_pooling2d_6 (MaxPooling  (None, 8, 8, 64)         0         \n",
      " 2D)                                                             \n",
      "                                                                 \n",
      " conv2d_7 (Conv2D)           (None, 8, 8, 128)         73856     \n",
      "                                                                 \n",
      " dropout_7 (Dropout)         (None, 8, 8, 128)         0         \n",
      "                                                                 \n",
      " max_pooling2d_7 (MaxPooling  (None, 4, 4, 128)        0         \n",
      " 2D)                                                             \n",
      "                                                                 \n",
      " flatten_2 (Flatten)         (None, 2048)              0         \n",
      "                                                                 \n",
      " dense_4 (Dense)             (None, 100)               204900    \n",
      "                                                                 \n",
      " dropout_8 (Dropout)         (None, 100)               0         \n",
      "                                                                 \n",
      " dense_5 (Dense)             (None, 10)                1010      \n",
      "                                                                 \n",
      "=================================================================\n",
      "Total params: 299,158\n",
      "Trainable params: 299,158\n",
      "Non-trainable params: 0\n",
      "_________________________________________________________________\n"
     ]
    }
   ],
   "source": [
    "md = Sequential()\n",
    "md.add(Conv2D(32, kernel_size=(3,3), activation='relu', padding='same', input_shape=(32,32,3)))\n",
    "md.add(Dropout(0.4))\n",
    "md.add(MaxPool2D(2))\n",
    "md.add(Conv2D(64, kernel_size=(3,3), activation='relu', padding='same'))\n",
    "md.add(Dropout(0.4))\n",
    "md.add(MaxPool2D(2))\n",
    "md.add(Conv2D(128, kernel_size=(3,3), activation='relu', padding='same'))\n",
    "md.add(Dropout(0.4))\n",
    "md.add(MaxPool2D(2))\n",
    "md.add(Flatten())\n",
    "md.add(Dense(100, activation='relu'))\n",
    "md.add(Dropout(0.4))\n",
    "md.add(Dense(10, activation='softmax'))\n",
    "md.summary()"
   ]
  },
  {
   "cell_type": "code",
   "execution_count": 21,
   "metadata": {},
   "outputs": [
    {
     "name": "stdout",
     "output_type": "stream",
     "text": [
      "Epoch 1/20\n",
      "1250/1250 [==============================] - 83s 66ms/step - loss: 1.7851 - accuracy: 0.3384 - val_loss: 1.7529 - val_accuracy: 0.3490\n",
      "Epoch 2/20\n",
      "1250/1250 [==============================] - 92s 74ms/step - loss: 1.4628 - accuracy: 0.4708 - val_loss: 1.5407 - val_accuracy: 0.4767\n",
      "Epoch 3/20\n",
      "1250/1250 [==============================] - 94s 75ms/step - loss: 1.3345 - accuracy: 0.5204 - val_loss: 1.3674 - val_accuracy: 0.5214\n",
      "Epoch 4/20\n",
      "1250/1250 [==============================] - 95s 76ms/step - loss: 1.2689 - accuracy: 0.5497 - val_loss: 1.6526 - val_accuracy: 0.4090\n",
      "Epoch 5/20\n",
      "1250/1250 [==============================] - 90s 72ms/step - loss: 1.2143 - accuracy: 0.5725 - val_loss: 1.3246 - val_accuracy: 0.5614\n",
      "Epoch 6/20\n",
      "1250/1250 [==============================] - 102s 81ms/step - loss: 1.1695 - accuracy: 0.5894 - val_loss: 1.3504 - val_accuracy: 0.5222\n",
      "Epoch 7/20\n",
      "1250/1250 [==============================] - 107s 86ms/step - loss: 1.1474 - accuracy: 0.5969 - val_loss: 1.3059 - val_accuracy: 0.5524\n",
      "Epoch 8/20\n",
      "1250/1250 [==============================] - 98s 78ms/step - loss: 1.1143 - accuracy: 0.6090 - val_loss: 1.3821 - val_accuracy: 0.5067\n",
      "Epoch 9/20\n",
      "1250/1250 [==============================] - 97s 77ms/step - loss: 1.1038 - accuracy: 0.6149 - val_loss: 1.2498 - val_accuracy: 0.5623\n",
      "Epoch 10/20\n",
      "1250/1250 [==============================] - 105s 84ms/step - loss: 1.0873 - accuracy: 0.6219 - val_loss: 1.3212 - val_accuracy: 0.5280\n",
      "Epoch 11/20\n",
      "1250/1250 [==============================] - 99s 80ms/step - loss: 1.0823 - accuracy: 0.6253 - val_loss: 1.3528 - val_accuracy: 0.5273\n",
      "Epoch 12/20\n",
      "1250/1250 [==============================] - 99s 79ms/step - loss: 1.0723 - accuracy: 0.6276 - val_loss: 1.1552 - val_accuracy: 0.5994\n",
      "Epoch 13/20\n",
      "1250/1250 [==============================] - 103s 83ms/step - loss: 1.0629 - accuracy: 0.6306 - val_loss: 1.1284 - val_accuracy: 0.6193\n",
      "Epoch 14/20\n",
      "1250/1250 [==============================] - 103s 82ms/step - loss: 1.0647 - accuracy: 0.6322 - val_loss: 1.2233 - val_accuracy: 0.5757\n",
      "Epoch 15/20\n",
      "1250/1250 [==============================] - 105s 84ms/step - loss: 1.0581 - accuracy: 0.6321 - val_loss: 1.1633 - val_accuracy: 0.5998\n",
      "Epoch 16/20\n",
      "1250/1250 [==============================] - 110s 88ms/step - loss: 1.0466 - accuracy: 0.6393 - val_loss: 1.0713 - val_accuracy: 0.6317\n",
      "Epoch 17/20\n",
      "1250/1250 [==============================] - 102s 82ms/step - loss: 1.0390 - accuracy: 0.6434 - val_loss: 1.1755 - val_accuracy: 0.5901\n",
      "Epoch 18/20\n",
      "1250/1250 [==============================] - 98s 78ms/step - loss: 1.0428 - accuracy: 0.6414 - val_loss: 1.0664 - val_accuracy: 0.6298\n",
      "Epoch 19/20\n",
      "1250/1250 [==============================] - 93s 74ms/step - loss: 1.0479 - accuracy: 0.6389 - val_loss: 1.1966 - val_accuracy: 0.5786\n",
      "Epoch 20/20\n",
      "1250/1250 [==============================] - 92s 74ms/step - loss: 1.0278 - accuracy: 0.6460 - val_loss: 1.1737 - val_accuracy: 0.5925\n"
     ]
    }
   ],
   "source": [
    "sgd = tf.keras.optimizers.SGD(momentum=0.9, nesterov=True)\n",
    "md.compile(optimizer=sgd, loss='sparse_categorical_crossentropy', metrics='accuracy')\n",
    "\n",
    "history = md.fit(train_scaled, train_target, epochs=20, validation_data=(val_scaled, val_target))"
   ]
  },
  {
   "cell_type": "markdown",
   "metadata": {},
   "source": [
    "## VGG16 이용해서 구하기"
   ]
  },
  {
   "cell_type": "code",
   "execution_count": 28,
   "metadata": {},
   "outputs": [
    {
     "name": "stdout",
     "output_type": "stream",
     "text": [
      " 150/1250 [==>...........................] - ETA: 34:14 - loss: 2.6223 - accuracy: 0.1017"
     ]
    },
    {
     "ename": "KeyboardInterrupt",
     "evalue": "",
     "output_type": "error",
     "traceback": [
      "\u001b[1;31m---------------------------------------------------------------------------\u001b[0m",
      "\u001b[1;31mKeyboardInterrupt\u001b[0m                         Traceback (most recent call last)",
      "\u001b[1;32mc:\\Users\\wng37\\Documents\\GitHub\\python_exer\\220915\\study_cifar10.ipynb 셀 24\u001b[0m in \u001b[0;36m<cell line: 4>\u001b[1;34m()\u001b[0m\n\u001b[0;32m      <a href='vscode-notebook-cell:/c%3A/Users/wng37/Documents/GitHub/python_exer/220915/study_cifar10.ipynb#X32sZmlsZQ%3D%3D?line=1'>2</a>\u001b[0m md \u001b[39m=\u001b[39m VGG16(input_shape\u001b[39m=\u001b[39m(\u001b[39m32\u001b[39m,\u001b[39m32\u001b[39m,\u001b[39m3\u001b[39m), classes\u001b[39m=\u001b[39m\u001b[39m10\u001b[39m, include_top\u001b[39m=\u001b[39m\u001b[39mTrue\u001b[39;00m, weights\u001b[39m=\u001b[39m\u001b[39mNone\u001b[39;00m)\n\u001b[0;32m      <a href='vscode-notebook-cell:/c%3A/Users/wng37/Documents/GitHub/python_exer/220915/study_cifar10.ipynb#X32sZmlsZQ%3D%3D?line=2'>3</a>\u001b[0m md\u001b[39m.\u001b[39mcompile(loss\u001b[39m=\u001b[39m\u001b[39m'\u001b[39m\u001b[39msparse_categorical_crossentropy\u001b[39m\u001b[39m'\u001b[39m, metrics\u001b[39m=\u001b[39m\u001b[39m'\u001b[39m\u001b[39maccuracy\u001b[39m\u001b[39m'\u001b[39m)\n\u001b[1;32m----> <a href='vscode-notebook-cell:/c%3A/Users/wng37/Documents/GitHub/python_exer/220915/study_cifar10.ipynb#X32sZmlsZQ%3D%3D?line=3'>4</a>\u001b[0m md\u001b[39m.\u001b[39;49mfit(train_scaled, train_target)\n",
      "File \u001b[1;32mc:\\Users\\wng37\\AppData\\Local\\Programs\\Python\\Python310\\lib\\site-packages\\keras\\utils\\traceback_utils.py:65\u001b[0m, in \u001b[0;36mfilter_traceback.<locals>.error_handler\u001b[1;34m(*args, **kwargs)\u001b[0m\n\u001b[0;32m     63\u001b[0m filtered_tb \u001b[39m=\u001b[39m \u001b[39mNone\u001b[39;00m\n\u001b[0;32m     64\u001b[0m \u001b[39mtry\u001b[39;00m:\n\u001b[1;32m---> 65\u001b[0m     \u001b[39mreturn\u001b[39;00m fn(\u001b[39m*\u001b[39margs, \u001b[39m*\u001b[39m\u001b[39m*\u001b[39mkwargs)\n\u001b[0;32m     66\u001b[0m \u001b[39mexcept\u001b[39;00m \u001b[39mException\u001b[39;00m \u001b[39mas\u001b[39;00m e:\n\u001b[0;32m     67\u001b[0m     filtered_tb \u001b[39m=\u001b[39m _process_traceback_frames(e\u001b[39m.\u001b[39m__traceback__)\n",
      "File \u001b[1;32mc:\\Users\\wng37\\AppData\\Local\\Programs\\Python\\Python310\\lib\\site-packages\\keras\\engine\\training.py:1564\u001b[0m, in \u001b[0;36mModel.fit\u001b[1;34m(self, x, y, batch_size, epochs, verbose, callbacks, validation_split, validation_data, shuffle, class_weight, sample_weight, initial_epoch, steps_per_epoch, validation_steps, validation_batch_size, validation_freq, max_queue_size, workers, use_multiprocessing)\u001b[0m\n\u001b[0;32m   1556\u001b[0m \u001b[39mwith\u001b[39;00m tf\u001b[39m.\u001b[39mprofiler\u001b[39m.\u001b[39mexperimental\u001b[39m.\u001b[39mTrace(\n\u001b[0;32m   1557\u001b[0m     \u001b[39m\"\u001b[39m\u001b[39mtrain\u001b[39m\u001b[39m\"\u001b[39m,\n\u001b[0;32m   1558\u001b[0m     epoch_num\u001b[39m=\u001b[39mepoch,\n\u001b[1;32m   (...)\u001b[0m\n\u001b[0;32m   1561\u001b[0m     _r\u001b[39m=\u001b[39m\u001b[39m1\u001b[39m,\n\u001b[0;32m   1562\u001b[0m ):\n\u001b[0;32m   1563\u001b[0m     callbacks\u001b[39m.\u001b[39mon_train_batch_begin(step)\n\u001b[1;32m-> 1564\u001b[0m     tmp_logs \u001b[39m=\u001b[39m \u001b[39mself\u001b[39;49m\u001b[39m.\u001b[39;49mtrain_function(iterator)\n\u001b[0;32m   1565\u001b[0m     \u001b[39mif\u001b[39;00m data_handler\u001b[39m.\u001b[39mshould_sync:\n\u001b[0;32m   1566\u001b[0m         context\u001b[39m.\u001b[39masync_wait()\n",
      "File \u001b[1;32mc:\\Users\\wng37\\AppData\\Local\\Programs\\Python\\Python310\\lib\\site-packages\\tensorflow\\python\\util\\traceback_utils.py:150\u001b[0m, in \u001b[0;36mfilter_traceback.<locals>.error_handler\u001b[1;34m(*args, **kwargs)\u001b[0m\n\u001b[0;32m    148\u001b[0m filtered_tb \u001b[39m=\u001b[39m \u001b[39mNone\u001b[39;00m\n\u001b[0;32m    149\u001b[0m \u001b[39mtry\u001b[39;00m:\n\u001b[1;32m--> 150\u001b[0m   \u001b[39mreturn\u001b[39;00m fn(\u001b[39m*\u001b[39margs, \u001b[39m*\u001b[39m\u001b[39m*\u001b[39mkwargs)\n\u001b[0;32m    151\u001b[0m \u001b[39mexcept\u001b[39;00m \u001b[39mException\u001b[39;00m \u001b[39mas\u001b[39;00m e:\n\u001b[0;32m    152\u001b[0m   filtered_tb \u001b[39m=\u001b[39m _process_traceback_frames(e\u001b[39m.\u001b[39m__traceback__)\n",
      "File \u001b[1;32mc:\\Users\\wng37\\AppData\\Local\\Programs\\Python\\Python310\\lib\\site-packages\\tensorflow\\python\\eager\\def_function.py:915\u001b[0m, in \u001b[0;36mFunction.__call__\u001b[1;34m(self, *args, **kwds)\u001b[0m\n\u001b[0;32m    912\u001b[0m compiler \u001b[39m=\u001b[39m \u001b[39m\"\u001b[39m\u001b[39mxla\u001b[39m\u001b[39m\"\u001b[39m \u001b[39mif\u001b[39;00m \u001b[39mself\u001b[39m\u001b[39m.\u001b[39m_jit_compile \u001b[39melse\u001b[39;00m \u001b[39m\"\u001b[39m\u001b[39mnonXla\u001b[39m\u001b[39m\"\u001b[39m\n\u001b[0;32m    914\u001b[0m \u001b[39mwith\u001b[39;00m OptionalXlaContext(\u001b[39mself\u001b[39m\u001b[39m.\u001b[39m_jit_compile):\n\u001b[1;32m--> 915\u001b[0m   result \u001b[39m=\u001b[39m \u001b[39mself\u001b[39m\u001b[39m.\u001b[39m_call(\u001b[39m*\u001b[39margs, \u001b[39m*\u001b[39m\u001b[39m*\u001b[39mkwds)\n\u001b[0;32m    917\u001b[0m new_tracing_count \u001b[39m=\u001b[39m \u001b[39mself\u001b[39m\u001b[39m.\u001b[39mexperimental_get_tracing_count()\n\u001b[0;32m    918\u001b[0m without_tracing \u001b[39m=\u001b[39m (tracing_count \u001b[39m==\u001b[39m new_tracing_count)\n",
      "File \u001b[1;32mc:\\Users\\wng37\\AppData\\Local\\Programs\\Python\\Python310\\lib\\site-packages\\tensorflow\\python\\eager\\def_function.py:947\u001b[0m, in \u001b[0;36mFunction._call\u001b[1;34m(self, *args, **kwds)\u001b[0m\n\u001b[0;32m    944\u001b[0m   \u001b[39mself\u001b[39m\u001b[39m.\u001b[39m_lock\u001b[39m.\u001b[39mrelease()\n\u001b[0;32m    945\u001b[0m   \u001b[39m# In this case we have created variables on the first call, so we run the\u001b[39;00m\n\u001b[0;32m    946\u001b[0m   \u001b[39m# defunned version which is guaranteed to never create variables.\u001b[39;00m\n\u001b[1;32m--> 947\u001b[0m   \u001b[39mreturn\u001b[39;00m \u001b[39mself\u001b[39m\u001b[39m.\u001b[39m_stateless_fn(\u001b[39m*\u001b[39margs, \u001b[39m*\u001b[39m\u001b[39m*\u001b[39mkwds)  \u001b[39m# pylint: disable=not-callable\u001b[39;00m\n\u001b[0;32m    948\u001b[0m \u001b[39melif\u001b[39;00m \u001b[39mself\u001b[39m\u001b[39m.\u001b[39m_stateful_fn \u001b[39mis\u001b[39;00m \u001b[39mnot\u001b[39;00m \u001b[39mNone\u001b[39;00m:\n\u001b[0;32m    949\u001b[0m   \u001b[39m# Release the lock early so that multiple threads can perform the call\u001b[39;00m\n\u001b[0;32m    950\u001b[0m   \u001b[39m# in parallel.\u001b[39;00m\n\u001b[0;32m    951\u001b[0m   \u001b[39mself\u001b[39m\u001b[39m.\u001b[39m_lock\u001b[39m.\u001b[39mrelease()\n",
      "File \u001b[1;32mc:\\Users\\wng37\\AppData\\Local\\Programs\\Python\\Python310\\lib\\site-packages\\tensorflow\\python\\eager\\function.py:2496\u001b[0m, in \u001b[0;36mFunction.__call__\u001b[1;34m(self, *args, **kwargs)\u001b[0m\n\u001b[0;32m   2493\u001b[0m \u001b[39mwith\u001b[39;00m \u001b[39mself\u001b[39m\u001b[39m.\u001b[39m_lock:\n\u001b[0;32m   2494\u001b[0m   (graph_function,\n\u001b[0;32m   2495\u001b[0m    filtered_flat_args) \u001b[39m=\u001b[39m \u001b[39mself\u001b[39m\u001b[39m.\u001b[39m_maybe_define_function(args, kwargs)\n\u001b[1;32m-> 2496\u001b[0m \u001b[39mreturn\u001b[39;00m graph_function\u001b[39m.\u001b[39;49m_call_flat(\n\u001b[0;32m   2497\u001b[0m     filtered_flat_args, captured_inputs\u001b[39m=\u001b[39;49mgraph_function\u001b[39m.\u001b[39;49mcaptured_inputs)\n",
      "File \u001b[1;32mc:\\Users\\wng37\\AppData\\Local\\Programs\\Python\\Python310\\lib\\site-packages\\tensorflow\\python\\eager\\function.py:1862\u001b[0m, in \u001b[0;36mConcreteFunction._call_flat\u001b[1;34m(self, args, captured_inputs, cancellation_manager)\u001b[0m\n\u001b[0;32m   1858\u001b[0m possible_gradient_type \u001b[39m=\u001b[39m gradients_util\u001b[39m.\u001b[39mPossibleTapeGradientTypes(args)\n\u001b[0;32m   1859\u001b[0m \u001b[39mif\u001b[39;00m (possible_gradient_type \u001b[39m==\u001b[39m gradients_util\u001b[39m.\u001b[39mPOSSIBLE_GRADIENT_TYPES_NONE\n\u001b[0;32m   1860\u001b[0m     \u001b[39mand\u001b[39;00m executing_eagerly):\n\u001b[0;32m   1861\u001b[0m   \u001b[39m# No tape is watching; skip to running the function.\u001b[39;00m\n\u001b[1;32m-> 1862\u001b[0m   \u001b[39mreturn\u001b[39;00m \u001b[39mself\u001b[39m\u001b[39m.\u001b[39m_build_call_outputs(\u001b[39mself\u001b[39;49m\u001b[39m.\u001b[39;49m_inference_function\u001b[39m.\u001b[39;49mcall(\n\u001b[0;32m   1863\u001b[0m       ctx, args, cancellation_manager\u001b[39m=\u001b[39;49mcancellation_manager))\n\u001b[0;32m   1864\u001b[0m forward_backward \u001b[39m=\u001b[39m \u001b[39mself\u001b[39m\u001b[39m.\u001b[39m_select_forward_and_backward_functions(\n\u001b[0;32m   1865\u001b[0m     args,\n\u001b[0;32m   1866\u001b[0m     possible_gradient_type,\n\u001b[0;32m   1867\u001b[0m     executing_eagerly)\n\u001b[0;32m   1868\u001b[0m forward_function, args_with_tangents \u001b[39m=\u001b[39m forward_backward\u001b[39m.\u001b[39mforward()\n",
      "File \u001b[1;32mc:\\Users\\wng37\\AppData\\Local\\Programs\\Python\\Python310\\lib\\site-packages\\tensorflow\\python\\eager\\function.py:499\u001b[0m, in \u001b[0;36m_EagerDefinedFunction.call\u001b[1;34m(self, ctx, args, cancellation_manager)\u001b[0m\n\u001b[0;32m    497\u001b[0m \u001b[39mwith\u001b[39;00m _InterpolateFunctionError(\u001b[39mself\u001b[39m):\n\u001b[0;32m    498\u001b[0m   \u001b[39mif\u001b[39;00m cancellation_manager \u001b[39mis\u001b[39;00m \u001b[39mNone\u001b[39;00m:\n\u001b[1;32m--> 499\u001b[0m     outputs \u001b[39m=\u001b[39m execute\u001b[39m.\u001b[39;49mexecute(\n\u001b[0;32m    500\u001b[0m         \u001b[39mstr\u001b[39;49m(\u001b[39mself\u001b[39;49m\u001b[39m.\u001b[39;49msignature\u001b[39m.\u001b[39;49mname),\n\u001b[0;32m    501\u001b[0m         num_outputs\u001b[39m=\u001b[39;49m\u001b[39mself\u001b[39;49m\u001b[39m.\u001b[39;49m_num_outputs,\n\u001b[0;32m    502\u001b[0m         inputs\u001b[39m=\u001b[39;49margs,\n\u001b[0;32m    503\u001b[0m         attrs\u001b[39m=\u001b[39;49mattrs,\n\u001b[0;32m    504\u001b[0m         ctx\u001b[39m=\u001b[39;49mctx)\n\u001b[0;32m    505\u001b[0m   \u001b[39melse\u001b[39;00m:\n\u001b[0;32m    506\u001b[0m     outputs \u001b[39m=\u001b[39m execute\u001b[39m.\u001b[39mexecute_with_cancellation(\n\u001b[0;32m    507\u001b[0m         \u001b[39mstr\u001b[39m(\u001b[39mself\u001b[39m\u001b[39m.\u001b[39msignature\u001b[39m.\u001b[39mname),\n\u001b[0;32m    508\u001b[0m         num_outputs\u001b[39m=\u001b[39m\u001b[39mself\u001b[39m\u001b[39m.\u001b[39m_num_outputs,\n\u001b[1;32m   (...)\u001b[0m\n\u001b[0;32m    511\u001b[0m         ctx\u001b[39m=\u001b[39mctx,\n\u001b[0;32m    512\u001b[0m         cancellation_manager\u001b[39m=\u001b[39mcancellation_manager)\n",
      "File \u001b[1;32mc:\\Users\\wng37\\AppData\\Local\\Programs\\Python\\Python310\\lib\\site-packages\\tensorflow\\python\\eager\\execute.py:54\u001b[0m, in \u001b[0;36mquick_execute\u001b[1;34m(op_name, num_outputs, inputs, attrs, ctx, name)\u001b[0m\n\u001b[0;32m     52\u001b[0m \u001b[39mtry\u001b[39;00m:\n\u001b[0;32m     53\u001b[0m   ctx\u001b[39m.\u001b[39mensure_initialized()\n\u001b[1;32m---> 54\u001b[0m   tensors \u001b[39m=\u001b[39m pywrap_tfe\u001b[39m.\u001b[39;49mTFE_Py_Execute(ctx\u001b[39m.\u001b[39;49m_handle, device_name, op_name,\n\u001b[0;32m     55\u001b[0m                                       inputs, attrs, num_outputs)\n\u001b[0;32m     56\u001b[0m \u001b[39mexcept\u001b[39;00m core\u001b[39m.\u001b[39m_NotOkStatusException \u001b[39mas\u001b[39;00m e:\n\u001b[0;32m     57\u001b[0m   \u001b[39mif\u001b[39;00m name \u001b[39mis\u001b[39;00m \u001b[39mnot\u001b[39;00m \u001b[39mNone\u001b[39;00m:\n",
      "\u001b[1;31mKeyboardInterrupt\u001b[0m: "
     ]
    }
   ],
   "source": [
    "from keras.applications import VGG16\n",
    "vgg = VGG16(input_shape=(32,32,3),weights='imagenet', include_top=False)\n",
    "md.compile(loss='sparse_categorical_crossentropy', metrics='accuracy')\n",
    "md.fit(train_scaled, train_target)"
   ]
  },
  {
   "cell_type": "code",
   "execution_count": 26,
   "metadata": {},
   "outputs": [
    {
     "name": "stdout",
     "output_type": "stream",
     "text": [
      "313/313 [==============================] - 55s 175ms/step - loss: 2.3026 - accuracy: 0.0986\n"
     ]
    },
    {
     "data": {
      "text/plain": [
       "[2.3025870323181152, 0.09860000014305115]"
      ]
     },
     "execution_count": 26,
     "metadata": {},
     "output_type": "execute_result"
    }
   ],
   "source": [
    "md.evaluate(test_scaled, test_y)"
   ]
  }
 ],
 "metadata": {
  "kernelspec": {
   "display_name": "Python 3.11.0 64-bit",
   "language": "python",
   "name": "python3"
  },
  "language_info": {
   "codemirror_mode": {
    "name": "ipython",
    "version": 3
   },
   "file_extension": ".py",
   "mimetype": "text/x-python",
   "name": "python",
   "nbconvert_exporter": "python",
   "pygments_lexer": "ipython3",
   "version": "3.11.0"
  },
  "orig_nbformat": 4,
  "vscode": {
   "interpreter": {
    "hash": "d417a21d97a2e6b8832d21dc44f5cbe4be6e18325f874a8bb8484565b928cd54"
   }
  }
 },
 "nbformat": 4,
 "nbformat_minor": 2
}
