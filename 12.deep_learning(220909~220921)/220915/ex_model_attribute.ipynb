{
 "cells": [
  {
   "cell_type": "markdown",
   "metadata": {},
   "source": [
    "## 속성 attribute 파악"
   ]
  },
  {
   "cell_type": "code",
   "execution_count": 6,
   "metadata": {},
   "outputs": [],
   "source": [
    "from tensorflow import random\n",
    "from keras import Sequential\n",
    "from keras.layers import Dense\n",
    "import numpy as np\n"
   ]
  },
  {
   "cell_type": "code",
   "execution_count": 15,
   "metadata": {},
   "outputs": [],
   "source": [
    "x = np.array([[2,0], [3,1], [4,0], [5,1], [6,2], [7,3], [8,1]])\n",
    "y = np.array([47, 86, 65, 92, 61, 60, 55])"
   ]
  },
  {
   "cell_type": "code",
   "execution_count": 16,
   "metadata": {},
   "outputs": [],
   "source": [
    "random.set_seed(42)"
   ]
  },
  {
   "cell_type": "code",
   "execution_count": 7,
   "metadata": {},
   "outputs": [
    {
     "name": "stdout",
     "output_type": "stream",
     "text": [
      "Model: \"sequential\"\n",
      "_________________________________________________________________\n",
      " Layer (type)                Output Shape              Param #   \n",
      "=================================================================\n",
      " dense (Dense)               (None, 15)                45        \n",
      "                                                                 \n",
      " dense_1 (Dense)             (None, 1)                 16        \n",
      "                                                                 \n",
      "=================================================================\n",
      "Total params: 61\n",
      "Trainable params: 61\n",
      "Non-trainable params: 0\n",
      "_________________________________________________________________\n"
     ]
    }
   ],
   "source": [
    "md = Sequential()\n",
    "md.add(Dense(15, activation='relu', input_shape=(2,)))\n",
    "md.add(Dense(1, activation='linear'))\n",
    "md.summary()"
   ]
  },
  {
   "cell_type": "markdown",
   "metadata": {},
   "source": [
    "### 모델 속성 확인"
   ]
  },
  {
   "cell_type": "code",
   "execution_count": 9,
   "metadata": {},
   "outputs": [
    {
     "data": {
      "text/plain": [
       "[<tf.Variable 'dense/kernel:0' shape=(2, 15) dtype=float32, numpy=\n",
       " array([[ 0.02734363,  0.34478903,  0.14032918, -0.1897498 , -0.49163085,\n",
       "          0.26149434,  0.28977156, -0.26379898,  0.15603113,  0.2710427 ,\n",
       "         -0.01281178,  0.3830058 ,  0.08915114,  0.5354185 , -0.483238  ],\n",
       "        [ 0.2200644 ,  0.08569252,  0.52577317,  0.48205304,  0.54442525,\n",
       "         -0.12708437, -0.25144964,  0.29066628, -0.58843184,  0.44045472,\n",
       "          0.40627134, -0.57291454,  0.42310023, -0.47557604,  0.07020462]],\n",
       "       dtype=float32)>,\n",
       " <tf.Variable 'dense/bias:0' shape=(15,) dtype=float32, numpy=\n",
       " array([0., 0., 0., 0., 0., 0., 0., 0., 0., 0., 0., 0., 0., 0., 0.],\n",
       "       dtype=float32)>,\n",
       " <tf.Variable 'dense_1/kernel:0' shape=(15, 1) dtype=float32, numpy=\n",
       " array([[ 0.43447644],\n",
       "        [ 0.5098652 ],\n",
       "        [ 0.5814038 ],\n",
       "        [-0.29665485],\n",
       "        [ 0.17227137],\n",
       "        [-0.31666064],\n",
       "        [ 0.02535117],\n",
       "        [-0.31191456],\n",
       "        [ 0.4346723 ],\n",
       "        [ 0.46384758],\n",
       "        [-0.15331575],\n",
       "        [-0.05673391],\n",
       "        [ 0.465226  ],\n",
       "        [-0.47691348],\n",
       "        [-0.35646677]], dtype=float32)>,\n",
       " <tf.Variable 'dense_1/bias:0' shape=(1,) dtype=float32, numpy=array([0.], dtype=float32)>]"
      ]
     },
     "execution_count": 9,
     "metadata": {},
     "output_type": "execute_result"
    }
   ],
   "source": [
    "md.layers\n",
    "md.weights"
   ]
  },
  {
   "cell_type": "code",
   "execution_count": 14,
   "metadata": {},
   "outputs": [
    {
     "data": {
      "text/plain": [
       "[array([[ 0.02734363,  0.34478903,  0.14032918, -0.1897498 , -0.49163085,\n",
       "          0.26149434,  0.28977156, -0.26379898,  0.15603113,  0.2710427 ,\n",
       "         -0.01281178,  0.3830058 ,  0.08915114,  0.5354185 , -0.483238  ],\n",
       "        [ 0.2200644 ,  0.08569252,  0.52577317,  0.48205304,  0.54442525,\n",
       "         -0.12708437, -0.25144964,  0.29066628, -0.58843184,  0.44045472,\n",
       "          0.40627134, -0.57291454,  0.42310023, -0.47557604,  0.07020462]],\n",
       "       dtype=float32),\n",
       " array([0., 0., 0., 0., 0., 0., 0., 0., 0., 0., 0., 0., 0., 0., 0.],\n",
       "       dtype=float32)]"
      ]
     },
     "execution_count": 14,
     "metadata": {},
     "output_type": "execute_result"
    }
   ],
   "source": [
    "md.layers[0].get_weights()"
   ]
  }
 ],
 "metadata": {
  "kernelspec": {
   "display_name": "Python 3.10.4 64-bit",
   "language": "python",
   "name": "python3"
  },
  "language_info": {
   "codemirror_mode": {
    "name": "ipython",
    "version": 3
   },
   "file_extension": ".py",
   "mimetype": "text/x-python",
   "name": "python",
   "nbconvert_exporter": "python",
   "pygments_lexer": "ipython3",
   "version": "3.10.4"
  },
  "orig_nbformat": 4,
  "vscode": {
   "interpreter": {
    "hash": "701f553f3cf634fe4f2c4f983f7515070d2dd5af080cb3db5c1ee13f7b0211fa"
   }
  }
 },
 "nbformat": 4,
 "nbformat_minor": 2
}
