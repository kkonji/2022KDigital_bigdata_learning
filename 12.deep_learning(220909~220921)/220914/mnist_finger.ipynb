{
 "cells": [
  {
   "cell_type": "markdown",
   "metadata": {},
   "source": [
    "## mnist 손글씨 자료\n",
    "- 딥러닝으로 분석\n",
    "- 입력 784개 -> 출력 0 ~9 10개 : 분류"
   ]
  },
  {
   "cell_type": "code",
   "execution_count": 46,
   "metadata": {},
   "outputs": [],
   "source": [
    "from tensorflow import keras\n",
    "from keras import Sequential\n",
    "from keras.layers import Dense, Dropout\n",
    "from keras.datasets.mnist import load_data\n",
    "from sklearn.preprocessing import StandardScaler\n",
    "from sklearn.model_selection import train_test_split\n",
    "import pandas as pd\n",
    "import numpy as np\n",
    "import matplotlib.pyplot as plt\n",
    "from keras.callbacks import EarlyStopping"
   ]
  },
  {
   "cell_type": "code",
   "execution_count": 4,
   "metadata": {},
   "outputs": [
    {
     "name": "stdout",
     "output_type": "stream",
     "text": [
      "Downloading data from https://storage.googleapis.com/tensorflow/tf-keras-datasets/mnist.npz\n",
      "11490434/11490434 [==============================] - 0s 0us/step\n"
     ]
    }
   ],
   "source": [
    "(train_x, train_y), (test_x, test_y) = load_data()"
   ]
  },
  {
   "cell_type": "code",
   "execution_count": 7,
   "metadata": {},
   "outputs": [
    {
     "name": "stdout",
     "output_type": "stream",
     "text": [
      "(60000, 28, 28) (60000,) (10000, 28, 28) (10000,)\n"
     ]
    }
   ],
   "source": [
    "print(train_x.shape, train_y.shape, test_x.shape, test_y.shape)"
   ]
  },
  {
   "cell_type": "code",
   "execution_count": 8,
   "metadata": {},
   "outputs": [],
   "source": [
    "# 검증용 데이터셋 준비\n",
    "train_x, val_x, train_y, val_y = train_test_split(train_x, train_y, stratify=train_y)"
   ]
  },
  {
   "cell_type": "code",
   "execution_count": 9,
   "metadata": {},
   "outputs": [
    {
     "name": "stdout",
     "output_type": "stream",
     "text": [
      "(45000, 28, 28) (45000,) (15000, 28, 28) (15000,)\n"
     ]
    }
   ],
   "source": [
    "print(train_x.shape, train_y.shape, val_x.shape, val_y.shape)"
   ]
  },
  {
   "cell_type": "markdown",
   "metadata": {},
   "source": [
    "### 데이터 전처리\n",
    "-----\n",
    "- 수치 데이터 -> 스케일링\n",
    "- 범주 데이터 -> 원핫인코딩"
   ]
  },
  {
   "cell_type": "code",
   "execution_count": 14,
   "metadata": {},
   "outputs": [],
   "source": [
    "# 저장된 값 확인\n",
    "train_x[0], train_y[0]\n",
    "\n",
    "# 픽셀값 0~1으로 스케일링\n",
    "train_x = train_x /255.0\n",
    "val_x = val_x /255.0\n",
    "test_x = test_x /255.0"
   ]
  },
  {
   "cell_type": "code",
   "execution_count": 17,
   "metadata": {},
   "outputs": [],
   "source": [
    "# 타겟 라벨 -> OneHotEncoding으로 변환\n",
    "from sklearn.preprocessing import OneHotEncoder\n",
    "ohe = OneHotEncoder()\n",
    "ohe.fit(train_y.reshape(-1,1))\n",
    "\n",
    "train_y = ohe.transform(train_y.reshape(-1,1))\n",
    "test_y = ohe.transform(test_y.reshape(-1,1))\n",
    "val_y = ohe.transform(val_y.reshape(-1,1))\n",
    "\n",
    "train_y = train_y.toarray()\n",
    "test_y = test_y.toarray()\n",
    "val_y = val_y.toarray()"
   ]
  },
  {
   "cell_type": "markdown",
   "metadata": {},
   "source": [
    "### 모델 생성\n",
    "- 입력 데이터 : 784\n",
    "- 출력 데이터 : 10"
   ]
  },
  {
   "cell_type": "code",
   "execution_count": 24,
   "metadata": {},
   "outputs": [
    {
     "name": "stdout",
     "output_type": "stream",
     "text": [
      "Model: \"mnist\"\n",
      "_________________________________________________________________\n",
      " Layer (type)                Output Shape              Param #   \n",
      "=================================================================\n",
      " dense (Dense)               (None, 30)                23550     \n",
      "                                                                 \n",
      " dense_1 (Dense)             (None, 30)                930       \n",
      "                                                                 \n",
      " dense_2 (Dense)             (None, 10)                310       \n",
      "                                                                 \n",
      "=================================================================\n",
      "Total params: 24,790\n",
      "Trainable params: 24,790\n",
      "Non-trainable params: 0\n",
      "_________________________________________________________________\n"
     ]
    }
   ],
   "source": [
    "md = Sequential(name='mnist')\n",
    "md.add(Dense(30, activation='relu', input_shape=(784,)))\n",
    "md.add(Dense(30, activation='relu'))\n",
    "md.add(Dense(10, activation='softmax'))\n",
    "md.summary()"
   ]
  },
  {
   "cell_type": "markdown",
   "metadata": {},
   "source": [
    "### 모델 생성"
   ]
  },
  {
   "cell_type": "code",
   "execution_count": 33,
   "metadata": {},
   "outputs": [
    {
     "name": "stdout",
     "output_type": "stream",
     "text": [
      "Epoch 1/5\n",
      "1407/1407 [==============================] - 7s 4ms/step - loss: 0.0573 - accuracy: 0.9822 - val_loss: 0.1348 - val_accuracy: 0.9624\n",
      "Epoch 2/5\n",
      "1407/1407 [==============================] - 6s 4ms/step - loss: 0.0491 - accuracy: 0.9844 - val_loss: 0.1348 - val_accuracy: 0.9637\n",
      "Epoch 3/5\n",
      "1407/1407 [==============================] - 6s 4ms/step - loss: 0.0485 - accuracy: 0.9846 - val_loss: 0.1440 - val_accuracy: 0.9631\n",
      "Epoch 4/5\n",
      "1407/1407 [==============================] - 5s 3ms/step - loss: 0.0429 - accuracy: 0.9863 - val_loss: 0.1409 - val_accuracy: 0.9639\n",
      "Epoch 5/5\n",
      "1407/1407 [==============================] - 5s 4ms/step - loss: 0.0394 - accuracy: 0.9870 - val_loss: 0.1483 - val_accuracy: 0.9653\n"
     ]
    }
   ],
   "source": [
    "md.compile(loss='categorical_crossentropy', optimizer='adam', metrics='accuracy')\n",
    "res = md.fit(train_x.reshape(-1,28*28), train_y, epochs=5, validation_data=(val_x.reshape(-1,28*28), val_y))"
   ]
  },
  {
   "cell_type": "code",
   "execution_count": 42,
   "metadata": {},
   "outputs": [
    {
     "data": {
      "image/png": "[encoded data removed]",
      "text/plain": [
       "<Figure size 432x288 with 1 Axes>"
      ]
     },
     "metadata": {
      "needs_background": "light"
     },
     "output_type": "display_data"
    }
   ],
   "source": [
    "# 학습 결과\n",
    "plt.plot(res.epoch, res.history['loss'] )\n",
    "plt.plot(res.epoch, res.history['val_loss'] )\n",
    "plt.legend(['train', 'test'])\n",
    "plt.show()"
   ]
  },
  {
   "cell_type": "code",
   "execution_count": 41,
   "metadata": {},
   "outputs": [
    {
     "data": {
      "image/png": "[encoded data removed]",
      "text/plain": [
       "<Figure size 432x288 with 1 Axes>"
      ]
     },
     "metadata": {
      "needs_background": "light"
     },
     "output_type": "display_data"
    }
   ],
   "source": [
    "# 학습 결과2\n",
    "plt.plot(res.epoch, res.history['accuracy'] )\n",
    "plt.plot(res.epoch, res.history['val_accuracy'] )\n",
    "plt.legend(['train', 'test'])\n",
    "plt.show()"
   ]
  },
  {
   "cell_type": "code",
   "execution_count": 49,
   "metadata": {},
   "outputs": [],
   "source": [
    "from keras.callbacks import ModelCheckpoint\n",
    "stopdb = EarlyStopping(monitor='val_loss', patience=3)\n",
    "MODEL_PATH = './modelFiles'\n",
    "modeldb = ModelCheckpoint(filepath=MODEL_PATH, save_best_only=True)"
   ]
  },
  {
   "cell_type": "code",
   "execution_count": 50,
   "metadata": {},
   "outputs": [
    {
     "name": "stdout",
     "output_type": "stream",
     "text": [
      "Model: \"mnist\"\n",
      "_________________________________________________________________\n",
      " Layer (type)                Output Shape              Param #   \n",
      "=================================================================\n",
      " dense_15 (Dense)            (None, 30)                23550     \n",
      "                                                                 \n",
      " dropout_4 (Dropout)         (None, 30)                0         \n",
      "                                                                 \n",
      " dense_16 (Dense)            (None, 30)                930       \n",
      "                                                                 \n",
      " dense_17 (Dense)            (None, 10)                310       \n",
      "                                                                 \n",
      "=================================================================\n",
      "Total params: 24,790\n",
      "Trainable params: 24,790\n",
      "Non-trainable params: 0\n",
      "_________________________________________________________________\n",
      "Epoch 1/10\n",
      "1399/1407 [============================>.] - ETA: 0s - loss: 0.6392 - accuracy: 0.8003INFO:tensorflow:Assets written to: .\\modelFiles\\assets\n",
      "1407/1407 [==============================] - 9s 6ms/step - loss: 0.6381 - accuracy: 0.8007 - val_loss: 0.2645 - val_accuracy: 0.9205\n",
      "Epoch 2/10\n",
      "1403/1407 [============================>.] - ETA: 0s - loss: 0.3667 - accuracy: 0.8870INFO:tensorflow:Assets written to: .\\modelFiles\\assets\n",
      "1407/1407 [==============================] - 13s 9ms/step - loss: 0.3665 - accuracy: 0.8870 - val_loss: 0.2204 - val_accuracy: 0.9335\n",
      "Epoch 3/10\n",
      "1405/1407 [============================>.] - ETA: 0s - loss: 0.3169 - accuracy: 0.9016INFO:tensorflow:Assets written to: .\\modelFiles\\assets\n",
      "1407/1407 [==============================] - 11s 8ms/step - loss: 0.3170 - accuracy: 0.9016 - val_loss: 0.1918 - val_accuracy: 0.9445\n",
      "Epoch 4/10\n",
      "1396/1407 [============================>.] - ETA: 0s - loss: 0.2915 - accuracy: 0.9098INFO:tensorflow:Assets written to: .\\modelFiles\\assets\n",
      "1407/1407 [==============================] - 8s 6ms/step - loss: 0.2917 - accuracy: 0.9096 - val_loss: 0.1913 - val_accuracy: 0.9404\n",
      "Epoch 5/10\n",
      "1399/1407 [============================>.] - ETA: 0s - loss: 0.2698 - accuracy: 0.9163INFO:tensorflow:Assets written to: .\\modelFiles\\assets\n",
      "1407/1407 [==============================] - 7s 5ms/step - loss: 0.2702 - accuracy: 0.9162 - val_loss: 0.1732 - val_accuracy: 0.9479\n",
      "Epoch 6/10\n",
      "1405/1407 [============================>.] - ETA: 0s - loss: 0.2649 - accuracy: 0.9165INFO:tensorflow:Assets written to: .\\modelFiles\\assets\n",
      "1407/1407 [==============================] - 7s 5ms/step - loss: 0.2648 - accuracy: 0.9165 - val_loss: 0.1694 - val_accuracy: 0.9489\n",
      "Epoch 7/10\n",
      "1396/1407 [============================>.] - ETA: 0s - loss: 0.2494 - accuracy: 0.9219INFO:tensorflow:Assets written to: .\\modelFiles\\assets\n",
      "1407/1407 [==============================] - 7s 5ms/step - loss: 0.2497 - accuracy: 0.9218 - val_loss: 0.1651 - val_accuracy: 0.9507\n",
      "Epoch 8/10\n",
      "1399/1407 [============================>.] - ETA: 0s - loss: 0.2396 - accuracy: 0.9237INFO:tensorflow:Assets written to: .\\modelFiles\\assets\n",
      "1407/1407 [==============================] - 8s 5ms/step - loss: 0.2392 - accuracy: 0.9238 - val_loss: 0.1639 - val_accuracy: 0.9525\n",
      "Epoch 9/10\n",
      "1394/1407 [============================>.] - ETA: 0s - loss: 0.2377 - accuracy: 0.9261INFO:tensorflow:Assets written to: .\\modelFiles\\assets\n",
      "1407/1407 [==============================] - 7s 5ms/step - loss: 0.2381 - accuracy: 0.9261 - val_loss: 0.1516 - val_accuracy: 0.9547\n",
      "Epoch 10/10\n",
      "1407/1407 [==============================] - 7s 5ms/step - loss: 0.2316 - accuracy: 0.9268 - val_loss: 0.1554 - val_accuracy: 0.9543\n"
     ]
    }
   ],
   "source": [
    "md = Sequential(name='mnist')\n",
    "md.add(Dense(30, activation='relu', input_shape=(784,)))\n",
    "md.add(Dropout(0.3))\n",
    "md.add(Dense(30, activation='relu'))\n",
    "md.add(Dense(10, activation='softmax'))\n",
    "md.summary()\n",
    "md.compile(loss='categorical_crossentropy', optimizer='adam', metrics='accuracy')\n",
    "res = md.fit(train_x.reshape(-1,28*28), train_y, epochs=10, validation_data=(val_x.reshape(-1,28*28), val_y), callbacks=[stopdb, modeldb])"
   ]
  },
  {
   "cell_type": "markdown",
   "metadata": {},
   "source": [
    "### 평가"
   ]
  },
  {
   "cell_type": "code",
   "execution_count": 52,
   "metadata": {},
   "outputs": [
    {
     "name": "stdout",
     "output_type": "stream",
     "text": [
      "313/313 [==============================] - 1s 4ms/step - loss: 0.1421 - accuracy: 0.9580\n"
     ]
    }
   ],
   "source": [
    "test_result = md.evaluate(test_x.reshape(-1,28*28), test_y)"
   ]
  },
  {
   "cell_type": "code",
   "execution_count": 61,
   "metadata": {},
   "outputs": [
    {
     "name": "stdout",
     "output_type": "stream",
     "text": [
      "1/1 [==============================] - 0s 40ms/step\n"
     ]
    },
    {
     "data": {
      "text/plain": [
       "array([[0., 0., 0., 0., 0., 0., 0., 1., 0., 0.]], dtype=float32)"
      ]
     },
     "execution_count": 61,
     "metadata": {},
     "output_type": "execute_result"
    }
   ],
   "source": [
    "pre_label = md.predict(test_x[0].reshape(-1,28*28))\n",
    "np.round(pre_label,2)"
   ]
  }
 ],
 "metadata": {
  "kernelspec": {
   "display_name": "Python 3.9.10 64-bit",
   "language": "python",
   "name": "python3"
  },
  "language_info": {
   "codemirror_mode": {
    "name": "ipython",
    "version": 3
   },
   "file_extension": ".py",
   "mimetype": "text/x-python",
   "name": "python",
   "nbconvert_exporter": "python",
   "pygments_lexer": "ipython3",
   "version": "3.9.10"
  },
  "orig_nbformat": 4,
  "vscode": {
   "interpreter": {
    "hash": "cf92aa13fedf815d5c8dd192b8d835913fde3e8bc926b2a0ad6cc74ef2ba3ca2"
   }
  }
 },
 "nbformat": 4,
 "nbformat_minor": 2
}
