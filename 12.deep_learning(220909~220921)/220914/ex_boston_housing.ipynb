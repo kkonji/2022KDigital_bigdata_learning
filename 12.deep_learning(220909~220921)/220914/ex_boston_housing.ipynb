{
 "cells": [
  {
   "cell_type": "markdown",
   "metadata": {},
   "source": [
    "## Boston_housing 자료 딥러닝으로 분석"
   ]
  },
  {
   "cell_type": "code",
   "execution_count": 1,
   "metadata": {},
   "outputs": [],
   "source": [
    "# 모듈 로딩\n",
    "from tensorflow import keras\n",
    "import tensorflow as tf\n",
    "import numpy as np\n",
    "import pandas as pd\n",
    "import matplotlib.pyplot as plt\n",
    "from keras.layers import Dense \n",
    "from keras import Sequential\n",
    "from sklearn.model_selection import train_test_split\n",
    "from keras.datasets.boston_housing import load_data"
   ]
  },
  {
   "cell_type": "code",
   "execution_count": 2,
   "metadata": {},
   "outputs": [
    {
     "name": "stdout",
     "output_type": "stream",
     "text": [
      "Downloading data from https://storage.googleapis.com/tensorflow/tf-keras-datasets/boston_housing.npz\n",
      "57026/57026 [==============================] - 0s 0us/step\n"
     ]
    }
   ],
   "source": [
    "# 데이터 로딩 train: test = 8:2\n",
    "(train_x, train_y), (test_x, test_y) = load_data()"
   ]
  },
  {
   "cell_type": "code",
   "execution_count": 4,
   "metadata": {},
   "outputs": [
    {
     "name": "stdout",
     "output_type": "stream",
     "text": [
      "(404, 13) (404,)\n",
      "(102, 13) (102,)\n"
     ]
    }
   ],
   "source": [
    "print(train_x.shape, train_y.shape)\n",
    "print(test_x.shape, test_y.shape)"
   ]
  },
  {
   "cell_type": "markdown",
   "metadata": {},
   "source": [
    "### 전처리\n",
    "- 특성 feature 전처리\n",
    "    - 수치 데이터 : 값의 범위\n",
    "    - 문자 데이터 : 수치화\n",
    "- 함수 : StandardScaler, MinMaxScaler, RobustScaler"
   ]
  },
  {
   "cell_type": "code",
   "execution_count": 65,
   "metadata": {},
   "outputs": [],
   "source": [
    "from sklearn.preprocessing import StandardScaler\n",
    "st = StandardScaler()\n",
    "st.fit(train_x)\n",
    "train_x = st.transform(train_x)\n",
    "test_x = st.transform(test_x)"
   ]
  },
  {
   "cell_type": "markdown",
   "metadata": {},
   "source": [
    "### NN model 실습\n",
    "1. 모델 구상\n",
    "2. 모델 생성\n",
    "3. 학습\n",
    "4. 평가\n",
    "5. 테스트"
   ]
  },
  {
   "cell_type": "markdown",
   "metadata": {},
   "source": [
    "### 1. 모델 구상\n",
    "- 입력 데이터 -> 13개 feature\n",
    "- 출력 데이터 -> train_y"
   ]
  },
  {
   "cell_type": "code",
   "execution_count": 66,
   "metadata": {},
   "outputs": [],
   "source": [
    "md = Sequential(name='Boston')\n",
    "md.add(Dense(60, activation='relu', input_shape=(13,), name='hidden-1'))\n",
    "md.add(Dense(60, activation='relu', name='hidden-2'))\n",
    "# 회귀의 출력층은 1이어야 한다.\n",
    "md.add(Dense(1, activation='linear', name='output'))"
   ]
  },
  {
   "cell_type": "code",
   "execution_count": 67,
   "metadata": {},
   "outputs": [
    {
     "name": "stdout",
     "output_type": "stream",
     "text": [
      "Model: \"Boston\"\n",
      "_________________________________________________________________\n",
      " Layer (type)                Output Shape              Param #   \n",
      "=================================================================\n",
      " hidden-1 (Dense)            (None, 60)                840       \n",
      "                                                                 \n",
      " hidden-2 (Dense)            (None, 60)                3660      \n",
      "                                                                 \n",
      " output (Dense)              (None, 1)                 61        \n",
      "                                                                 \n",
      "=================================================================\n",
      "Total params: 4,561\n",
      "Trainable params: 4,561\n",
      "Non-trainable params: 0\n",
      "_________________________________________________________________\n"
     ]
    }
   ],
   "source": [
    "# 모델 구성 확인\n",
    "md.summary()"
   ]
  },
  {
   "cell_type": "markdown",
   "metadata": {},
   "source": [
    "### 2. 모델 생성\n",
    "- compile 메서드\n",
    "- 오차 계산 함수 설정 -> loss\n",
    "    - 회귀: mae, mse, rmse\n",
    "    - 분류: crossentropy -> 이진분류: binary_crossentropy\n",
    "    ,다중분류: categorical_crossentropy, sparse_categorical_crossentropy\n",
    "- 최적화 방식 설정 -> optimizer\n",
    "    - 디폴트 : rmsprop\n",
    "    - adam, momentum, ... 최적화 클래스 이름 문자열로 입력\n",
    "- 모델의 성능 측정 항목  -> metrics\n",
    "\n",
    "- 파라미터 값을 str타입으로 입력 가능, 객체 타입으로 입력 가능"
   ]
  },
  {
   "cell_type": "code",
   "execution_count": 68,
   "metadata": {},
   "outputs": [],
   "source": [
    "md.compile(loss='mse', optimizer='adam', metrics=['mae'])"
   ]
  },
  {
   "cell_type": "markdown",
   "metadata": {},
   "source": [
    "### 3. 학습"
   ]
  },
  {
   "cell_type": "code",
   "execution_count": 69,
   "metadata": {},
   "outputs": [
    {
     "name": "stdout",
     "output_type": "stream",
     "text": [
      "Epoch 1/1000\n",
      "11/11 [==============================] - 1s 31ms/step - loss: 564.9166 - mae: 21.9508 - val_loss: 612.4775 - val_mae: 22.9597\n",
      "Epoch 2/1000\n",
      "11/11 [==============================] - 0s 9ms/step - loss: 521.7462 - mae: 20.9314 - val_loss: 565.2523 - val_mae: 21.8802\n",
      "Epoch 3/1000\n",
      "11/11 [==============================] - 0s 8ms/step - loss: 472.5587 - mae: 19.7317 - val_loss: 507.3185 - val_mae: 20.5026\n",
      "Epoch 4/1000\n",
      "11/11 [==============================] - 0s 9ms/step - loss: 412.8231 - mae: 18.2084 - val_loss: 435.0471 - val_mae: 18.7453\n",
      "Epoch 5/1000\n",
      "11/11 [==============================] - 0s 9ms/step - loss: 340.1798 - mae: 16.2421 - val_loss: 350.4014 - val_mae: 16.3997\n",
      "Epoch 6/1000\n",
      "11/11 [==============================] - 0s 11ms/step - loss: 258.5341 - mae: 13.7903 - val_loss: 259.3904 - val_mae: 13.5283\n",
      "Epoch 7/1000\n",
      "11/11 [==============================] - 0s 11ms/step - loss: 178.2418 - mae: 10.9942 - val_loss: 180.7850 - val_mae: 10.5544\n",
      "Epoch 8/1000\n",
      "11/11 [==============================] - 0s 10ms/step - loss: 119.6950 - mae: 8.6954 - val_loss: 127.5703 - val_mae: 8.5039\n",
      "Epoch 9/1000\n",
      "11/11 [==============================] - 0s 11ms/step - loss: 86.6126 - mae: 7.1846 - val_loss: 100.5388 - val_mae: 7.4976\n",
      "Epoch 10/1000\n",
      "11/11 [==============================] - 0s 9ms/step - loss: 69.2451 - mae: 6.2854 - val_loss: 83.3872 - val_mae: 6.7738\n",
      "Epoch 11/1000\n",
      "11/11 [==============================] - 0s 10ms/step - loss: 57.2287 - mae: 5.5827 - val_loss: 69.6073 - val_mae: 6.1136\n",
      "Epoch 12/1000\n",
      "11/11 [==============================] - 0s 9ms/step - loss: 47.2183 - mae: 4.9952 - val_loss: 57.5655 - val_mae: 5.4876\n",
      "Epoch 13/1000\n",
      "11/11 [==============================] - 0s 11ms/step - loss: 39.5949 - mae: 4.5079 - val_loss: 48.5889 - val_mae: 5.0188\n",
      "Epoch 14/1000\n",
      "11/11 [==============================] - 0s 9ms/step - loss: 34.4855 - mae: 4.1300 - val_loss: 41.8203 - val_mae: 4.7121\n",
      "Epoch 15/1000\n",
      "11/11 [==============================] - 0s 9ms/step - loss: 30.6528 - mae: 3.8960 - val_loss: 37.0919 - val_mae: 4.4932\n",
      "Epoch 16/1000\n",
      "11/11 [==============================] - 0s 10ms/step - loss: 27.8831 - mae: 3.6862 - val_loss: 32.6151 - val_mae: 4.2572\n",
      "Epoch 17/1000\n",
      "11/11 [==============================] - 0s 12ms/step - loss: 25.8498 - mae: 3.5404 - val_loss: 29.7308 - val_mae: 4.0803\n",
      "Epoch 18/1000\n",
      "11/11 [==============================] - 0s 19ms/step - loss: 24.4154 - mae: 3.4358 - val_loss: 27.9747 - val_mae: 3.9384\n",
      "Epoch 19/1000\n",
      "11/11 [==============================] - 0s 14ms/step - loss: 23.2205 - mae: 3.3312 - val_loss: 26.9363 - val_mae: 3.8745\n",
      "Epoch 20/1000\n",
      "11/11 [==============================] - 0s 11ms/step - loss: 22.1568 - mae: 3.2521 - val_loss: 25.6776 - val_mae: 3.8275\n",
      "Epoch 21/1000\n",
      "11/11 [==============================] - 0s 11ms/step - loss: 21.2137 - mae: 3.2007 - val_loss: 24.5267 - val_mae: 3.7548\n",
      "Epoch 22/1000\n",
      "11/11 [==============================] - 0s 9ms/step - loss: 20.5529 - mae: 3.1564 - val_loss: 23.6385 - val_mae: 3.7048\n",
      "Epoch 23/1000\n",
      "11/11 [==============================] - 0s 11ms/step - loss: 19.5132 - mae: 3.0698 - val_loss: 22.7502 - val_mae: 3.5940\n",
      "Epoch 24/1000\n",
      "11/11 [==============================] - 0s 8ms/step - loss: 18.8236 - mae: 2.9763 - val_loss: 21.9194 - val_mae: 3.5202\n",
      "Epoch 25/1000\n",
      "11/11 [==============================] - 0s 9ms/step - loss: 18.2049 - mae: 2.9361 - val_loss: 21.0380 - val_mae: 3.4574\n",
      "Epoch 26/1000\n",
      "11/11 [==============================] - 0s 9ms/step - loss: 17.4557 - mae: 2.8705 - val_loss: 20.2892 - val_mae: 3.3593\n",
      "Epoch 27/1000\n",
      "11/11 [==============================] - 0s 9ms/step - loss: 16.9084 - mae: 2.8210 - val_loss: 19.8065 - val_mae: 3.3389\n",
      "Epoch 28/1000\n",
      "11/11 [==============================] - 0s 9ms/step - loss: 16.4781 - mae: 2.8041 - val_loss: 19.6456 - val_mae: 3.3698\n",
      "Epoch 29/1000\n",
      "11/11 [==============================] - 0s 9ms/step - loss: 16.1373 - mae: 2.8423 - val_loss: 20.1145 - val_mae: 3.4588\n",
      "Epoch 30/1000\n",
      "11/11 [==============================] - 0s 9ms/step - loss: 15.6638 - mae: 2.8334 - val_loss: 19.2166 - val_mae: 3.2999\n",
      "Epoch 31/1000\n",
      "11/11 [==============================] - 0s 9ms/step - loss: 14.9111 - mae: 2.7241 - val_loss: 18.5858 - val_mae: 3.2149\n",
      "Epoch 32/1000\n",
      "11/11 [==============================] - 0s 9ms/step - loss: 14.4084 - mae: 2.6581 - val_loss: 18.3134 - val_mae: 3.1849\n",
      "Epoch 33/1000\n",
      "11/11 [==============================] - 0s 9ms/step - loss: 14.0302 - mae: 2.6099 - val_loss: 18.0806 - val_mae: 3.1747\n",
      "Epoch 34/1000\n",
      "11/11 [==============================] - 0s 9ms/step - loss: 13.6328 - mae: 2.5670 - val_loss: 17.8545 - val_mae: 3.1452\n",
      "Epoch 35/1000\n",
      "11/11 [==============================] - 0s 8ms/step - loss: 13.3705 - mae: 2.5340 - val_loss: 17.5006 - val_mae: 3.1041\n",
      "Epoch 36/1000\n",
      "11/11 [==============================] - 0s 10ms/step - loss: 12.9712 - mae: 2.5021 - val_loss: 17.3946 - val_mae: 3.1097\n",
      "Epoch 37/1000\n",
      "11/11 [==============================] - 0s 9ms/step - loss: 12.7916 - mae: 2.4927 - val_loss: 17.3975 - val_mae: 3.1138\n",
      "Epoch 38/1000\n",
      "11/11 [==============================] - 0s 9ms/step - loss: 12.5177 - mae: 2.4693 - val_loss: 17.0419 - val_mae: 3.0481\n",
      "Epoch 39/1000\n",
      "11/11 [==============================] - 0s 9ms/step - loss: 12.3199 - mae: 2.4441 - val_loss: 16.8777 - val_mae: 3.0282\n",
      "Epoch 40/1000\n",
      "11/11 [==============================] - 0s 8ms/step - loss: 12.1360 - mae: 2.4152 - val_loss: 16.8035 - val_mae: 3.0406\n",
      "Epoch 41/1000\n",
      "11/11 [==============================] - 0s 8ms/step - loss: 11.8843 - mae: 2.3890 - val_loss: 16.4828 - val_mae: 3.0142\n",
      "Epoch 42/1000\n",
      "11/11 [==============================] - 0s 10ms/step - loss: 11.8048 - mae: 2.3643 - val_loss: 16.3780 - val_mae: 2.9951\n",
      "Epoch 43/1000\n",
      "11/11 [==============================] - 0s 16ms/step - loss: 11.5099 - mae: 2.3504 - val_loss: 16.3760 - val_mae: 2.9614\n",
      "Epoch 44/1000\n",
      "11/11 [==============================] - 0s 10ms/step - loss: 11.4234 - mae: 2.3510 - val_loss: 16.5474 - val_mae: 2.9837\n",
      "Epoch 45/1000\n",
      "11/11 [==============================] - 0s 11ms/step - loss: 11.2308 - mae: 2.3383 - val_loss: 16.5085 - val_mae: 2.9506\n",
      "Epoch 46/1000\n",
      "11/11 [==============================] - 0s 11ms/step - loss: 11.0807 - mae: 2.3319 - val_loss: 16.4006 - val_mae: 2.9437\n",
      "Epoch 47/1000\n",
      "11/11 [==============================] - 0s 10ms/step - loss: 10.9275 - mae: 2.3105 - val_loss: 16.1459 - val_mae: 2.9312\n",
      "Epoch 48/1000\n",
      "11/11 [==============================] - 0s 8ms/step - loss: 10.7724 - mae: 2.2882 - val_loss: 16.2338 - val_mae: 2.9251\n",
      "Epoch 49/1000\n",
      "11/11 [==============================] - 0s 8ms/step - loss: 10.6045 - mae: 2.2862 - val_loss: 16.3142 - val_mae: 2.9080\n",
      "Epoch 50/1000\n",
      "11/11 [==============================] - 0s 8ms/step - loss: 10.5309 - mae: 2.2663 - val_loss: 16.0237 - val_mae: 2.9126\n",
      "Epoch 51/1000\n",
      "11/11 [==============================] - 0s 11ms/step - loss: 10.3899 - mae: 2.2426 - val_loss: 15.9117 - val_mae: 2.9073\n",
      "Epoch 52/1000\n",
      "11/11 [==============================] - 0s 13ms/step - loss: 10.3353 - mae: 2.2324 - val_loss: 15.8044 - val_mae: 2.8880\n",
      "Epoch 53/1000\n",
      "11/11 [==============================] - 0s 9ms/step - loss: 10.2265 - mae: 2.2237 - val_loss: 15.8783 - val_mae: 2.8848\n",
      "Epoch 54/1000\n",
      "11/11 [==============================] - 0s 8ms/step - loss: 10.1044 - mae: 2.2228 - val_loss: 15.8604 - val_mae: 2.8732\n",
      "Epoch 55/1000\n",
      "11/11 [==============================] - 0s 9ms/step - loss: 9.9972 - mae: 2.2178 - val_loss: 15.7944 - val_mae: 2.8486\n",
      "Epoch 56/1000\n",
      "11/11 [==============================] - 0s 9ms/step - loss: 9.9396 - mae: 2.2129 - val_loss: 15.7326 - val_mae: 2.8469\n",
      "Epoch 57/1000\n",
      "11/11 [==============================] - 0s 8ms/step - loss: 9.8603 - mae: 2.1871 - val_loss: 15.6047 - val_mae: 2.8693\n",
      "Epoch 58/1000\n",
      "11/11 [==============================] - 0s 9ms/step - loss: 9.8466 - mae: 2.1790 - val_loss: 15.8893 - val_mae: 2.9052\n",
      "Epoch 59/1000\n",
      "11/11 [==============================] - 0s 9ms/step - loss: 9.7001 - mae: 2.1621 - val_loss: 15.6888 - val_mae: 2.8556\n",
      "Epoch 60/1000\n",
      "11/11 [==============================] - 0s 9ms/step - loss: 9.6621 - mae: 2.1680 - val_loss: 15.6821 - val_mae: 2.8567\n",
      "Epoch 61/1000\n",
      "11/11 [==============================] - 0s 9ms/step - loss: 9.5722 - mae: 2.1555 - val_loss: 15.3983 - val_mae: 2.8870\n",
      "Epoch 62/1000\n",
      "11/11 [==============================] - 0s 9ms/step - loss: 9.5871 - mae: 2.1537 - val_loss: 15.3490 - val_mae: 2.8069\n",
      "Epoch 63/1000\n",
      "11/11 [==============================] - 0s 8ms/step - loss: 9.4178 - mae: 2.1271 - val_loss: 15.2033 - val_mae: 2.8743\n",
      "Epoch 64/1000\n",
      "11/11 [==============================] - 0s 9ms/step - loss: 9.6338 - mae: 2.1360 - val_loss: 14.9980 - val_mae: 2.8530\n",
      "Epoch 65/1000\n",
      "11/11 [==============================] - 0s 9ms/step - loss: 9.4289 - mae: 2.1097 - val_loss: 15.0101 - val_mae: 2.7675\n",
      "Epoch 66/1000\n",
      "11/11 [==============================] - 0s 10ms/step - loss: 9.4247 - mae: 2.1425 - val_loss: 15.5089 - val_mae: 2.7714\n",
      "Epoch 67/1000\n",
      "11/11 [==============================] - 0s 10ms/step - loss: 9.1555 - mae: 2.1201 - val_loss: 15.3087 - val_mae: 2.7943\n",
      "Epoch 68/1000\n",
      "11/11 [==============================] - 0s 15ms/step - loss: 9.3442 - mae: 2.1165 - val_loss: 15.2802 - val_mae: 2.8066\n",
      "Epoch 69/1000\n",
      "11/11 [==============================] - 0s 10ms/step - loss: 8.9823 - mae: 2.1088 - val_loss: 16.5406 - val_mae: 2.8436\n"
     ]
    }
   ],
   "source": [
    "from keras.callbacks import EarlyStopping\n",
    "# 검증 데이터에 대한 loss값이 3번 연속 개선되지 않으면 학습 중지\n",
    "callback = EarlyStopping(monitor='val_loss', patience=5)\n",
    "result = md.fit(train_x, train_y, epochs=1000, validation_split=0.2, callbacks=[callback])"
   ]
  },
  {
   "cell_type": "code",
   "execution_count": 70,
   "metadata": {},
   "outputs": [
    {
     "name": "stdout",
     "output_type": "stream",
     "text": [
      "{'verbose': 1, 'epochs': 1000, 'steps': 11}\n"
     ]
    },
    {
     "data": {
      "text/plain": [
       "[612.4775390625,\n",
       " 565.2523193359375,\n",
       " 507.31854248046875,\n",
       " 435.047119140625,\n",
       " 350.4013671875,\n",
       " 259.3903503417969,\n",
       " 180.7849884033203,\n",
       " 127.57026672363281,\n",
       " 100.53875732421875,\n",
       " 83.38716125488281,\n",
       " 69.6073226928711,\n",
       " 57.565521240234375,\n",
       " 48.58894348144531,\n",
       " 41.82025146484375,\n",
       " 37.09194564819336,\n",
       " 32.615074157714844,\n",
       " 29.730775833129883,\n",
       " 27.974729537963867,\n",
       " 26.936269760131836,\n",
       " 25.677614212036133,\n",
       " 24.52674102783203,\n",
       " 23.63846778869629,\n",
       " 22.75018882751465,\n",
       " 21.919384002685547,\n",
       " 21.038000106811523,\n",
       " 20.289249420166016,\n",
       " 19.80645751953125,\n",
       " 19.64558982849121,\n",
       " 20.114501953125,\n",
       " 19.216564178466797,\n",
       " 18.585786819458008,\n",
       " 18.313371658325195,\n",
       " 18.080581665039062,\n",
       " 17.854516983032227,\n",
       " 17.50061798095703,\n",
       " 17.394628524780273,\n",
       " 17.39752960205078,\n",
       " 17.04194450378418,\n",
       " 16.877729415893555,\n",
       " 16.803544998168945,\n",
       " 16.482770919799805,\n",
       " 16.37798500061035,\n",
       " 16.37601661682129,\n",
       " 16.54737663269043,\n",
       " 16.508506774902344,\n",
       " 16.40055274963379,\n",
       " 16.145858764648438,\n",
       " 16.23383903503418,\n",
       " 16.314205169677734,\n",
       " 16.02370834350586,\n",
       " 15.911705017089844,\n",
       " 15.804443359375,\n",
       " 15.878253936767578,\n",
       " 15.860369682312012,\n",
       " 15.794361114501953,\n",
       " 15.73264217376709,\n",
       " 15.604662895202637,\n",
       " 15.889339447021484,\n",
       " 15.688844680786133,\n",
       " 15.68214225769043,\n",
       " 15.398262977600098,\n",
       " 15.348959922790527,\n",
       " 15.203338623046875,\n",
       " 14.998028755187988,\n",
       " 15.010076522827148,\n",
       " 15.508894920349121,\n",
       " 15.308735847473145,\n",
       " 15.280213356018066,\n",
       " 16.54060173034668]"
      ]
     },
     "execution_count": 70,
     "metadata": {},
     "output_type": "execute_result"
    }
   ],
   "source": [
    "result.history.keys()\n",
    "print(result.params)\n",
    "result.history['loss']\n",
    "result.history['val_loss']"
   ]
  },
  {
   "cell_type": "markdown",
   "metadata": {},
   "source": [
    "- epochs: 처음~끝까지 학습 홧수\n",
    "- batch_size: 학습량 샘플 개수\n",
    "- validation_split : 학습데이터의 일부를 검증용으로 분리 0.0~1.0\n",
    "- validation_data : (테스트데이터, 테스트타겟)\n",
    "- callback : 학습 시 발생하는 이벤트 처리 함수 등록"
   ]
  },
  {
   "cell_type": "code",
   "execution_count": 71,
   "metadata": {},
   "outputs": [
    {
     "data": {
      "image/png": "[encoded data removed]",
      "text/plain": [
       "<Figure size 432x288 with 1 Axes>"
      ]
     },
     "metadata": {
      "needs_background": "light"
     },
     "output_type": "display_data"
    }
   ],
   "source": [
    "plt.plot(result.epoch, result.history['loss'], label='loss')\n",
    "plt.plot(result.epoch, result.history['val_loss'], label='val_loss')\n",
    "plt.legend(loc='best')\n",
    "plt.show()"
   ]
  },
  {
   "cell_type": "markdown",
   "metadata": {},
   "source": [
    "### 4. 평가"
   ]
  },
  {
   "cell_type": "code",
   "execution_count": 73,
   "metadata": {},
   "outputs": [
    {
     "name": "stdout",
     "output_type": "stream",
     "text": [
      "4/4 [==============================] - 0s 3ms/step - loss: 28.0914 - mae: 3.3370\n"
     ]
    },
    {
     "data": {
      "text/plain": [
       "[28.09139060974121, 3.337045907974243]"
      ]
     },
     "execution_count": 73,
     "metadata": {},
     "output_type": "execute_result"
    }
   ],
   "source": [
    "md.evaluate(test_x, test_y)"
   ]
  },
  {
   "cell_type": "markdown",
   "metadata": {},
   "source": [
    "### 5. 예측\n",
    "- predict() 함수"
   ]
  },
  {
   "cell_type": "code",
   "execution_count": 47,
   "metadata": {},
   "outputs": [
    {
     "name": "stdout",
     "output_type": "stream",
     "text": [
      "1/1 [==============================] - 0s 156ms/step\n"
     ]
    },
    {
     "data": {
      "text/plain": [
       "array([[19.451025]], dtype=float32)"
      ]
     },
     "execution_count": 47,
     "metadata": {},
     "output_type": "execute_result"
    }
   ],
   "source": [
    "md.predict(train_x[:1])"
   ]
  }
 ],
 "metadata": {
  "kernelspec": {
   "display_name": "Python 3.11.0 64-bit",
   "language": "python",
   "name": "python3"
  },
  "language_info": {
   "codemirror_mode": {
    "name": "ipython",
    "version": 3
   },
   "file_extension": ".py",
   "mimetype": "text/x-python",
   "name": "python",
   "nbconvert_exporter": "python",
   "pygments_lexer": "ipython3",
   "version": "3.11.0"
  },
  "orig_nbformat": 4,
  "vscode": {
   "interpreter": {
    "hash": "d417a21d97a2e6b8832d21dc44f5cbe4be6e18325f874a8bb8484565b928cd54"
   }
  }
 },
 "nbformat": 4,
 "nbformat_minor": 2
}
