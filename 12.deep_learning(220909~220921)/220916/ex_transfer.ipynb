{
 "cells": [
  {
   "cell_type": "markdown",
   "metadata": {},
   "source": [
    "## 전이학습\n",
    "- Backborn Network\n",
    "    - 대표: VGG16, ResNet-50\n",
    "- Nect\n",
    "    - 대표: \n",
    "- Head"
   ]
  },
  {
   "cell_type": "markdown",
   "metadata": {},
   "source": [
    "### 전이학습의 장점\n",
    "- 작은 데이터셋 학습 시 오버피팅 예방\n",
    "- "
   ]
  },
  {
   "cell_type": "markdown",
   "metadata": {},
   "source": [
    "### 모델 저장과 복원\n",
    "- 방법1 : 모델 전체 저장(모델 구조 + 가중치 + 변수)\n",
    "    - save_model()\n",
    "    - 복원시 추가 작업 필요 없이 모델 파일 로딩해서 사용 가능\n",
    "- 방법2 : 가중치만 저장\n",
    "    - save_weights()\n",
    "    - 복원시 모델 구조 생성 후 가중치 적용\n",
    "- 방법3 : 모델 전체 또는 가중치 자동 저장\n",
    "    - fit()에서 ModelCheckPoint Event에 대한 callback 등록\n",
    "    - save_best_only =True : 좋은 성능의 모델만 저장\n",
    "    - save_weights_only = True : 가중치만 저장\n",
    "- 파일 또는 폴더\n",
    "    - 파일 확장자가 없으면 폴더로 저장\n",
    "    - 파일 확장자\n",
    "        - h5, hdf5 : HDF5 포맷으로 모델이나 가중치 저장\n",
    "        - ckpf : 체크파일 형태로 저장\n",
    "        - pd : 모델 저장"
   ]
  }
 ],
 "metadata": {
  "kernelspec": {
   "display_name": "Python 3.11.0 64-bit",
   "language": "python",
   "name": "python3"
  },
  "language_info": {
   "name": "python",
   "version": "3.11.0"
  },
  "orig_nbformat": 4,
  "vscode": {
   "interpreter": {
    "hash": "d417a21d97a2e6b8832d21dc44f5cbe4be6e18325f874a8bb8484565b928cd54"
   }
  }
 },
 "nbformat": 4,
 "nbformat_minor": 2
}
