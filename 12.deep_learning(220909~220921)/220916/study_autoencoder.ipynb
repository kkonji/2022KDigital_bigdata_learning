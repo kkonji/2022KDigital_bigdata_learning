{
 "cells": [
  {
   "cell_type": "markdown",
   "metadata": {},
   "source": [
    "## 오토인코더\n",
    "- 비지도 unsupervised 방식으로 훈련된 인공 신경망\n",
    "- 입력을 출력으로 복사하는 신경망으로 은닉층 또는 병목층\n",
    "- 입력과 출력이 동일한 이미지\n",
    "- __노이즈 제거에 주로 사용__\n",
    "- 출력층엔 __sigmoid__ 함수 사용"
   ]
  },
  {
   "cell_type": "markdown",
   "metadata": {},
   "source": [
    "- 인코더 : 가장 중요한 특징만 추출(손실 압축)\n",
    "- 은닉층(병목층) : 모델의 뉴런 개수가 최소인 계층\n",
    "- 디코더 : 압축된 데이터를 원래대로 재구성 역할"
   ]
  },
  {
   "cell_type": "markdown",
   "metadata": {},
   "source": [
    "### 표현학습 Feature Learning : 특징 탐지 또는 분류에 필요한 표현을 자동으로 추출할 수 있도록 학습하는 과정"
   ]
  },
  {
   "cell_type": "code",
   "execution_count": 3,
   "metadata": {},
   "outputs": [],
   "source": [
    "import pandas as pd\n",
    "import numpy as np\n",
    "import matplotlib.pyplot as plt\n",
    "import tensorflow as tf\n",
    "from sklearn.model_selection import train_test_split\n",
    "# 모델 도식화 가능\n",
    "from sklearn.preprocessing import StandardScaler\n",
    "from keras.layers import Dense, Dropout, Flatten, Conv2D, MaxPool2D\n",
    "from keras import Sequential\n",
    "from keras.utils import plot_model\n",
    "from keras.utils import set_random_seed\n",
    "from keras.datasets.mnist import load_data"
   ]
  },
  {
   "cell_type": "code",
   "execution_count": 111,
   "metadata": {},
   "outputs": [],
   "source": [
    "(train_x, _), (test_x, _) = load_data()"
   ]
  },
  {
   "cell_type": "code",
   "execution_count": 112,
   "metadata": {},
   "outputs": [],
   "source": [
    "train_x = train_x / 255.0\n",
    "test_x = test_x / 255.0\n",
    "train_x_flatten = train_x.reshape(train_x.shape[0], -1)\n",
    "test_x_flatten = test_x.reshape(test_x.shape[0], -1)"
   ]
  },
  {
   "cell_type": "code",
   "execution_count": 114,
   "metadata": {},
   "outputs": [
    {
     "name": "stdout",
     "output_type": "stream",
     "text": [
      "(60000, 784) (10000, 784)\n"
     ]
    }
   ],
   "source": [
    "print(train_x_flatten.shape, test_x_flatten.shape)"
   ]
  },
  {
   "cell_type": "markdown",
   "metadata": {},
   "source": [
    "### 노이즈 추가"
   ]
  },
  {
   "cell_type": "code",
   "execution_count": 132,
   "metadata": {},
   "outputs": [],
   "source": [
    "train_x_noised = train_x_flatten + np.random.normal(0, 0.5, size=train_x_flatten.shape)\n",
    "test_x_noised = test_x_flatten + np.random.normal(0, 0.5, size=test_x_flatten.shape)\n",
    "\n",
    "train_x_noised = np.clip(train_x_noised, a_min=0, a_max=1)\n",
    "test_x_noised = np.clip(test_x_noised, a_min=0, a_max=1)"
   ]
  },
  {
   "cell_type": "code",
   "execution_count": 133,
   "metadata": {},
   "outputs": [
    {
     "data": {
      "text/plain": [
       "<matplotlib.image.AxesImage at 0x222d0c2cbb0>"
      ]
     },
     "execution_count": 133,
     "metadata": {},
     "output_type": "execute_result"
    },
    {
     "data": {
      "image/png": "[encoded data removed]",
      "text/plain": [
       "<Figure size 432x288 with 1 Axes>"
      ]
     },
     "metadata": {
      "needs_background": "light"
     },
     "output_type": "display_data"
    }
   ],
   "source": [
    "plt.imshow(train_x_flatten[0].reshape(28,28), cmap='gray')"
   ]
  },
  {
   "cell_type": "code",
   "execution_count": 134,
   "metadata": {},
   "outputs": [
    {
     "data": {
      "text/plain": [
       "<matplotlib.image.AxesImage at 0x2230506d0c0>"
      ]
     },
     "execution_count": 134,
     "metadata": {},
     "output_type": "execute_result"
    },
    {
     "data": {
      "image/png": "[encoded data removed]",
      "text/plain": [
       "<Figure size 432x288 with 1 Axes>"
      ]
     },
     "metadata": {
      "needs_background": "light"
     },
     "output_type": "display_data"
    }
   ],
   "source": [
    "plt.imshow(train_x_noised[0].reshape(28,28), cmap='gray')"
   ]
  },
  {
   "cell_type": "code",
   "execution_count": 115,
   "metadata": {},
   "outputs": [],
   "source": [
    "def createAuto(node):\n",
    "    md = Sequential()\n",
    "    md.add(Dense(units=node, activation='relu', input_shape=(784,)))\n",
    "    md.add(Dense(784, activation='sigmoid'))\n",
    "    md.compile(loss='mean_squared_error', optimizer='adam' )\n",
    "    return md"
   ]
  },
  {
   "cell_type": "code",
   "execution_count": 117,
   "metadata": {},
   "outputs": [
    {
     "name": "stdout",
     "output_type": "stream",
     "text": [
      "Epoch 1/10\n",
      "1875/1875 [==============================] - 5s 2ms/step - loss: 0.0320\n",
      "Epoch 2/10\n",
      "1875/1875 [==============================] - 4s 2ms/step - loss: 0.0134\n",
      "Epoch 3/10\n",
      "1875/1875 [==============================] - 4s 2ms/step - loss: 0.0113\n",
      "Epoch 4/10\n",
      "1875/1875 [==============================] - 4s 2ms/step - loss: 0.0108\n",
      "Epoch 5/10\n",
      "1875/1875 [==============================] - 4s 2ms/step - loss: 0.0106\n",
      "Epoch 6/10\n",
      "1875/1875 [==============================] - 6s 3ms/step - loss: 0.0104\n",
      "Epoch 7/10\n",
      "1875/1875 [==============================] - 8s 4ms/step - loss: 0.0104\n",
      "Epoch 8/10\n",
      "1875/1875 [==============================] - 4s 2ms/step - loss: 0.0103\n",
      "Epoch 9/10\n",
      "1875/1875 [==============================] - 5s 2ms/step - loss: 0.0102\n",
      "Epoch 10/10\n",
      "1875/1875 [==============================] - 5s 3ms/step - loss: 0.0102\n"
     ]
    },
    {
     "data": {
      "text/plain": [
       "<keras.callbacks.History at 0x222e7924220>"
      ]
     },
     "execution_count": 117,
     "metadata": {},
     "output_type": "execute_result"
    }
   ],
   "source": [
    "md = createAuto(32)\n",
    "md.fit(train_x_flatten, train_x_flatten, epochs=10)"
   ]
  },
  {
   "cell_type": "code",
   "execution_count": 118,
   "metadata": {},
   "outputs": [
    {
     "name": "stdout",
     "output_type": "stream",
     "text": [
      "313/313 [==============================] - 1s 2ms/step - loss: 0.0098\n"
     ]
    },
    {
     "data": {
      "text/plain": [
       "0.009845774620771408"
      ]
     },
     "execution_count": 118,
     "metadata": {},
     "output_type": "execute_result"
    }
   ],
   "source": [
    "md.evaluate(test_x_flatten, test_x_flatten)"
   ]
  },
  {
   "cell_type": "code",
   "execution_count": 128,
   "metadata": {},
   "outputs": [
    {
     "name": "stdout",
     "output_type": "stream",
     "text": [
      "313/313 [==============================] - 0s 1ms/step\n"
     ]
    }
   ],
   "source": [
    "pre_out = md.predict(test_x_flatten)"
   ]
  },
  {
   "cell_type": "code",
   "execution_count": 129,
   "metadata": {},
   "outputs": [
    {
     "data": {
      "text/plain": [
       "array([2.01051553e-05, 1.91437653e-06, 1.64025114e-05, 1.17388245e-05,\n",
       "       5.14327212e-07, 3.40840052e-06, 2.67368227e-06, 9.76881438e-07,\n",
       "       5.53909013e-06, 2.78849006e-06, 5.20134154e-06, 5.47887703e-06,\n",
       "       5.04065110e-06, 7.66350865e-07, 2.58387286e-06, 1.34463414e-06,\n",
       "       9.84888857e-07, 4.68897770e-06, 1.27032342e-06, 4.29359352e-06,\n",
       "       7.58130057e-07, 1.73066655e-06, 2.18674063e-06, 1.69479722e-06,\n",
       "       1.49458288e-06, 4.32737380e-07, 1.42036970e-06, 1.22927931e-05,\n",
       "       4.56115686e-06, 9.30617989e-06, 1.33282094e-06, 3.68178621e-06,\n",
       "       1.25728729e-05, 1.68854251e-06, 1.69200496e-06, 7.61713068e-07,\n",
       "       8.25541065e-07, 1.60932359e-06, 4.41177008e-06, 1.03808929e-06,\n",
       "       5.11889584e-06, 6.67736504e-06, 5.25525047e-06, 8.92718072e-06,\n",
       "       7.47534978e-06, 3.33391313e-06, 1.13369492e-06, 6.93231004e-06,\n",
       "       2.63864240e-06, 1.86759894e-06, 6.31417743e-06, 1.70877570e-06,\n",
       "       5.55575241e-07, 1.06625998e-06, 7.59906413e-07, 1.88736772e-06,\n",
       "       4.35252332e-06, 1.25784038e-06, 1.85233364e-06, 1.15951434e-06,\n",
       "       2.02675278e-06, 1.10079213e-06, 2.29996587e-07, 2.29818011e-06,\n",
       "       2.70488886e-06, 3.00860502e-05, 9.46805929e-04, 7.06398787e-05,\n",
       "       5.36263769e-06, 4.48901497e-04, 1.25245759e-04, 1.39157476e-06,\n",
       "       7.52109202e-08, 1.63294445e-08, 9.55206136e-09, 1.19227218e-06,\n",
       "       2.89581578e-07, 6.39162909e-06, 1.39072847e-06, 1.06313973e-06,\n",
       "       6.89504395e-06, 1.19370463e-06, 4.88425349e-06, 4.37550943e-06,\n",
       "       3.32363896e-07, 3.10697760e-06, 3.25819633e-06, 3.17219610e-06,\n",
       "       7.39679081e-06, 5.22881010e-06, 5.33355023e-06, 1.30485307e-04,\n",
       "       1.49179337e-04, 9.31924878e-05, 9.02216998e-05, 3.00711617e-05,\n",
       "       1.46540206e-05, 9.75416424e-06, 6.08736764e-06, 1.58864020e-06,\n",
       "       6.63235369e-07, 6.87949694e-07, 1.69727844e-06, 1.61745120e-05,\n",
       "       1.99567894e-05, 1.10965527e-06, 2.22712799e-04, 1.80266602e-06,\n",
       "       7.91746572e-07, 2.44636908e-06, 1.50932601e-06, 6.81922586e-07,\n",
       "       8.20524747e-07, 6.14559497e-07, 4.94416054e-06, 6.29564602e-06,\n",
       "       2.52852715e-05, 3.02004592e-05, 6.02180899e-06, 5.13279883e-06,\n",
       "       2.15872278e-05, 2.72741127e-05, 2.67424912e-05, 3.47941823e-05,\n",
       "       1.97593799e-05, 4.07888001e-06, 1.10526378e-06, 4.95930578e-07,\n",
       "       5.80260632e-07, 2.19374829e-06, 1.16529045e-05, 7.18390875e-05,\n",
       "       5.16654181e-05, 1.09816037e-05, 2.99464386e-06, 3.39219037e-06,\n",
       "       6.23557658e-04, 6.30637487e-07, 2.82711267e-06, 2.52395495e-07,\n",
       "       2.08393590e-06, 1.50522794e-06, 2.70851324e-05, 3.85746353e-06,\n",
       "       5.84683621e-05, 2.83091936e-06, 1.81042997e-05, 5.73833859e-05,\n",
       "       3.34769400e-04, 4.94369422e-04, 3.31860239e-04, 2.40684647e-04,\n",
       "       5.61133784e-05, 8.44267106e-06, 1.48919628e-06, 1.10392386e-06,\n",
       "       2.20844208e-06, 9.81601443e-06, 6.90517409e-05, 2.14957603e-04,\n",
       "       2.08642829e-04, 1.70438958e-04, 8.28004340e-05, 1.95360917e-05,\n",
       "       2.46822219e-05, 1.23567777e-04, 3.79625635e-05, 3.41068312e-06,\n",
       "       6.95585243e-07, 2.13885301e-06, 5.88956766e-07, 8.76830200e-06,\n",
       "       7.79341062e-05, 4.20093827e-04, 1.57676148e-03, 1.33168316e-02,\n",
       "       4.76901457e-02, 5.94166480e-02, 4.02180478e-02, 8.41874722e-03,\n",
       "       2.38882238e-03, 4.74403700e-04, 2.07986595e-04, 2.12746731e-04,\n",
       "       3.10694624e-04, 4.15433577e-04, 1.13123143e-03, 4.53362800e-03,\n",
       "       4.39145882e-03, 2.22337828e-03, 5.64397953e-04, 8.25269817e-05,\n",
       "       4.51793348e-05, 8.48031195e-05, 2.13535634e-04, 2.10906956e-06,\n",
       "       2.14844931e-06, 2.54393035e-06, 1.03179900e-05, 1.94728805e-03,\n",
       "       3.55766229e-02, 2.71633416e-02, 1.29505828e-01, 3.14868778e-01,\n",
       "       5.27649462e-01, 5.06573319e-01, 2.99344599e-01, 2.31996492e-01,\n",
       "       1.49195477e-01, 1.35411546e-01, 1.15296721e-01, 1.71486467e-01,\n",
       "       9.59057733e-02, 7.26034418e-02, 9.24945995e-02, 1.82478055e-01,\n",
       "       1.78408325e-01, 6.08861707e-02, 8.92138667e-03, 2.71920901e-04,\n",
       "       7.24990168e-05, 5.17334011e-05, 8.42784881e-04, 6.33572972e-06,\n",
       "       4.65848501e-07, 6.96931806e-07, 9.03779073e-05, 2.74531860e-02,\n",
       "       4.83914986e-02, 7.50717223e-02, 2.29522094e-01, 5.89915872e-01,\n",
       "       8.18149984e-01, 8.12620759e-01, 7.82808900e-01, 7.20256865e-01,\n",
       "       7.46427655e-01, 8.67492437e-01, 8.64983439e-01, 8.82540345e-01,\n",
       "       7.46165037e-01, 6.61647201e-01, 6.77921176e-01, 7.39722133e-01,\n",
       "       6.57783866e-01, 2.99770355e-01, 3.40407193e-02, 2.38077925e-03,\n",
       "       1.78013463e-03, 1.02865964e-03, 2.54126382e-04, 1.46117281e-06,\n",
       "       1.21833887e-06, 5.72359068e-06, 1.97940404e-04, 3.66879650e-03,\n",
       "       2.01674495e-02, 5.12181707e-02, 2.36833230e-01, 4.10490304e-01,\n",
       "       6.76549673e-01, 6.27247036e-01, 5.82633078e-01, 5.84518850e-01,\n",
       "       6.98232532e-01, 7.92174578e-01, 9.05659437e-01, 8.79462600e-01,\n",
       "       6.13198042e-01, 6.47541225e-01, 8.16984773e-01, 9.24428344e-01,\n",
       "       9.00139511e-01, 4.83436525e-01, 5.14202006e-02, 1.22490674e-02,\n",
       "       1.27864312e-02, 9.15628951e-03, 2.85654620e-04, 2.50501816e-05,\n",
       "       4.25042259e-07, 2.47087814e-06, 2.07546822e-04, 4.41960379e-04,\n",
       "       2.75224098e-03, 1.93872042e-02, 6.93132207e-02, 1.10904768e-01,\n",
       "       1.89610556e-01, 9.12084430e-02, 9.06694159e-02, 1.12371780e-01,\n",
       "       1.96682453e-01, 2.62802988e-01, 2.74562687e-01, 1.29305139e-01,\n",
       "       7.59999380e-02, 1.73535302e-01, 7.37612724e-01, 9.39618528e-01,\n",
       "       8.95764232e-01, 4.03116435e-01, 2.58688983e-02, 2.70572864e-03,\n",
       "       3.21113016e-03, 1.08574890e-03, 6.57516764e-04, 7.25188102e-07,\n",
       "       6.88279783e-07, 8.75144360e-06, 3.36891048e-06, 8.21485242e-04,\n",
       "       1.36524788e-03, 5.83942421e-03, 1.51276449e-02, 1.88417509e-02,\n",
       "       1.03684943e-02, 9.34460480e-03, 5.14160562e-03, 1.17874481e-02,\n",
       "       2.25022621e-02, 2.93057058e-02, 1.12457704e-02, 4.45502996e-03,\n",
       "       5.63487178e-03, 8.01600292e-02, 8.09958339e-01, 9.53200042e-01,\n",
       "       8.54409993e-01, 1.79946363e-01, 8.93495977e-03, 4.83005570e-04,\n",
       "       3.22077045e-04, 2.55137093e-05, 2.69147786e-05, 6.94087646e-07,\n",
       "       1.87984642e-06, 7.50427807e-06, 3.88945627e-05, 1.95961795e-03,\n",
       "       2.55371188e-03, 5.40857483e-03, 3.92663525e-03, 2.81442283e-03,\n",
       "       1.16879144e-03, 1.79377839e-03, 3.69840814e-03, 7.25107035e-03,\n",
       "       8.88911169e-03, 4.82998975e-03, 1.59979099e-03, 7.26793660e-04,\n",
       "       5.92352264e-03, 2.01735899e-01, 8.80811810e-01, 9.36799884e-01,\n",
       "       6.41542673e-01, 5.48103787e-02, 2.38081091e-03, 1.38600983e-04,\n",
       "       1.99862669e-04, 2.43543604e-04, 5.86100896e-06, 6.05023558e-07,\n",
       "       4.76502549e-07, 3.80800543e-06, 1.12562684e-05, 1.34652318e-03,\n",
       "       4.83328709e-03, 6.80355122e-03, 1.77315425e-03, 5.66893548e-04,\n",
       "       4.53687971e-04, 1.29317271e-03, 5.91014978e-03, 8.56503379e-03,\n",
       "       7.64575135e-03, 2.00881506e-03, 4.37414245e-04, 1.19457289e-03,\n",
       "       4.13651317e-02, 5.98661721e-01, 9.20383334e-01, 8.45239043e-01,\n",
       "       2.84384131e-01, 1.50441201e-02, 6.81552629e-04, 1.95648012e-04,\n",
       "       1.65898891e-04, 5.36668413e-05, 1.17206127e-05, 5.12065071e-07,\n",
       "       4.32570914e-06, 1.55690611e-06, 2.51758456e-06, 8.90591036e-05,\n",
       "       3.73273809e-03, 3.15567828e-03, 1.11917080e-03, 3.34787939e-04,\n",
       "       6.48943882e-04, 2.80798809e-03, 1.77464783e-02, 3.24854963e-02,\n",
       "       1.03707993e-02, 1.21657399e-03, 1.08696078e-03, 5.31762792e-03,\n",
       "       2.22230002e-01, 8.51477981e-01, 9.12203312e-01, 5.98119676e-01,\n",
       "       6.43005744e-02, 2.93998513e-03, 5.37139713e-04, 7.02428748e-04,\n",
       "       3.49380454e-04, 2.39814617e-05, 4.09612803e-05, 2.16104581e-06,\n",
       "       5.78117465e-07, 1.84146290e-06, 3.86552847e-06, 4.43749013e-04,\n",
       "       2.83515034e-03, 1.22338592e-03, 4.70158411e-04, 6.40851504e-04,\n",
       "       1.88465114e-03, 1.52144404e-02, 5.00522926e-02, 6.56534657e-02,\n",
       "       1.12086106e-02, 1.93672790e-03, 5.57388039e-03, 4.54113409e-02,\n",
       "       6.64867103e-01, 9.36817646e-01, 8.02935839e-01, 1.85072437e-01,\n",
       "       8.37358925e-03, 6.00033498e-04, 3.07939132e-04, 1.54057681e-03,\n",
       "       5.23667608e-04, 7.42320917e-05, 1.55362053e-04, 3.36661401e-06,\n",
       "       2.40657243e-07, 1.30262049e-06, 2.37071799e-06, 7.08211155e-05,\n",
       "       6.79794350e-04, 6.60018646e-04, 7.20713753e-04, 2.12224084e-03,\n",
       "       5.75313158e-03, 2.23904904e-02, 9.31852162e-02, 5.31040430e-02,\n",
       "       8.98221973e-03, 4.87671606e-03, 1.33240558e-02, 1.71594620e-01,\n",
       "       8.02084446e-01, 8.78575087e-01, 5.04455149e-01, 2.84538958e-02,\n",
       "       1.70093204e-03, 2.79962900e-04, 4.76781919e-04, 2.09853449e-03,\n",
       "       6.69470115e-04, 4.98768495e-05, 6.90901152e-06, 3.45300737e-06,\n",
       "       6.62500361e-06, 2.90850767e-06, 2.87295961e-07, 4.61977208e-04,\n",
       "       7.91061248e-05, 2.91799544e-04, 1.42437452e-03, 4.39406559e-03,\n",
       "       7.57496478e-03, 1.52822752e-02, 1.64292399e-02, 5.95856830e-03,\n",
       "       2.42358935e-03, 6.53478736e-03, 7.84096271e-02, 5.38440406e-01,\n",
       "       8.72106850e-01, 6.92940176e-01, 1.11276992e-01, 5.12837572e-03,\n",
       "       4.74716246e-04, 1.70304935e-04, 9.23975313e-04, 2.85617542e-03,\n",
       "       8.31456098e-04, 8.55622115e-04, 2.64791779e-05, 1.55601401e-06,\n",
       "       1.69123064e-06, 1.20866173e-06, 4.75514298e-06, 1.25155260e-04,\n",
       "       2.94274651e-05, 2.03656760e-04, 1.20817043e-03, 3.10987909e-03,\n",
       "       4.71560005e-03, 4.55371197e-03, 3.00194742e-03, 1.80455390e-03,\n",
       "       2.70014489e-03, 2.67035067e-02, 2.82080233e-01, 8.30263495e-01,\n",
       "       8.16821039e-01, 2.54060119e-01, 8.85443203e-03, 3.41605395e-04,\n",
       "       7.45039943e-05, 8.01738133e-05, 1.08168740e-03, 3.42061766e-03,\n",
       "       7.48688704e-04, 3.33422737e-04, 2.15257364e-06, 1.21857943e-06,\n",
       "       3.22930941e-06, 1.99533861e-06, 1.33576532e-05, 3.07257636e-04,\n",
       "       1.99494425e-05, 9.05919733e-05, 4.20106575e-04, 8.94991681e-04,\n",
       "       6.63396961e-04, 6.59199548e-04, 8.82697233e-04, 2.82264501e-03,\n",
       "       1.70678608e-02, 2.25397751e-01, 8.13626885e-01, 8.84619892e-01,\n",
       "       5.47858536e-01, 2.72546634e-02, 5.18402550e-04, 2.27839137e-05,\n",
       "       1.37233674e-05, 5.32347985e-05, 6.48897782e-04, 1.29816320e-03,\n",
       "       2.94225465e-04, 4.78612310e-05, 1.48766667e-05, 1.49707932e-06,\n",
       "       1.31258298e-06, 7.21127378e-07, 4.32872548e-06, 8.12245489e-05,\n",
       "       7.39980351e-06, 3.21026637e-05, 1.06473839e-04, 1.57242292e-04,\n",
       "       2.13536041e-04, 2.64997740e-04, 1.24721113e-03, 8.23750440e-03,\n",
       "       8.75708461e-02, 7.14289784e-01, 9.41702545e-01, 8.27571452e-01,\n",
       "       1.70423776e-01, 2.25020968e-03, 3.61610000e-05, 2.19750905e-06,\n",
       "       1.00587640e-05, 5.82078355e-05, 2.56897882e-04, 5.12701983e-04,\n",
       "       1.01090118e-04, 2.24707674e-05, 1.65270114e-06, 3.34842389e-06,\n",
       "       5.10297411e-07, 5.79903826e-06, 6.33388072e-06, 3.59834958e-05,\n",
       "       7.49824039e-06, 9.48706474e-06, 2.73631849e-05, 4.57798378e-05,\n",
       "       9.25658678e-05, 3.30967043e-04, 2.27012392e-03, 3.94258313e-02,\n",
       "       5.58965564e-01, 9.53329384e-01, 9.42320406e-01, 3.82869631e-01,\n",
       "       1.04492065e-02, 2.89108779e-04, 1.26390760e-05, 2.30517117e-06,\n",
       "       9.01756357e-06, 4.94568267e-05, 8.40002831e-05, 1.68504383e-04,\n",
       "       1.56926675e-04, 2.29324746e-06, 4.84457541e-06, 5.97317637e-07,\n",
       "       8.44755618e-07, 8.44933652e-07, 2.11095698e-06, 5.70500619e-04,\n",
       "       2.76622104e-05, 5.80943333e-06, 1.87073983e-05, 2.98549730e-05,\n",
       "       1.14972172e-04, 4.76349436e-04, 6.94799190e-03, 2.01915160e-01,\n",
       "       8.73253167e-01, 9.73593950e-01, 8.02972734e-01, 4.16777618e-02,\n",
       "       7.71173451e-04, 1.17594907e-04, 2.32673337e-05, 4.27944951e-06,\n",
       "       1.57768609e-05, 3.18116836e-05, 4.15049726e-05, 4.96037719e-05,\n",
       "       1.87288715e-05, 2.96549933e-06, 1.01860326e-06, 5.36775451e-06,\n",
       "       2.17539196e-06, 1.04633193e-06, 8.78043556e-06, 7.44800354e-06,\n",
       "       1.39496478e-04, 3.98512238e-05, 6.70930094e-05, 9.58835590e-05,\n",
       "       3.54233140e-04, 3.21411248e-03, 4.24800664e-02, 6.03263319e-01,\n",
       "       9.30665731e-01, 9.31239069e-01, 3.39771509e-01, 3.93463345e-03,\n",
       "       1.82179414e-04, 2.78138352e-04, 2.03107978e-04, 2.80239292e-05,\n",
       "       6.69325527e-05, 1.69979670e-04, 1.19135439e-04, 6.50832008e-05,\n",
       "       1.20386376e-05, 3.60127569e-06, 1.59646333e-07, 9.66821153e-06,\n",
       "       1.29594184e-06, 1.20463528e-06, 4.46403465e-06, 3.08169069e-06,\n",
       "       5.79421139e-05, 1.55231787e-03, 4.93693224e-04, 4.59289702e-04,\n",
       "       1.45654636e-03, 1.43310670e-02, 3.27553064e-01, 8.74920666e-01,\n",
       "       9.57565486e-01, 8.71512890e-01, 1.56764954e-01, 1.98277063e-03,\n",
       "       1.93448956e-04, 1.49812060e-03, 4.17390978e-03, 1.31450652e-04,\n",
       "       5.20341746e-05, 8.67681683e-06, 2.17486718e-06, 1.61293836e-04,\n",
       "       1.45896308e-06, 3.47844707e-06, 6.77362152e-07, 3.82870394e-06,\n",
       "       6.98130498e-06, 1.02524782e-05, 3.69004692e-06, 4.17785060e-07,\n",
       "       4.31104330e-04, 3.75877025e-05, 6.25688583e-03, 6.22568373e-03,\n",
       "       6.79677818e-03, 4.58189808e-02, 6.69769764e-01, 9.68142748e-01,\n",
       "       9.83192265e-01, 7.35092878e-01, 6.49921000e-02, 7.57676957e-04,\n",
       "       9.78181415e-05, 2.07745819e-03, 1.27141932e-02, 4.07462852e-04,\n",
       "       2.17418092e-05, 1.59379415e-05, 3.64042753e-05, 3.11579970e-05,\n",
       "       1.94496874e-06, 8.27544000e-07, 6.84926681e-06, 9.06523837e-06,\n",
       "       2.05932952e-06, 1.09953203e-06, 1.17718046e-05, 1.82326653e-06,\n",
       "       1.55216651e-06, 2.63412926e-06, 8.91890977e-06, 7.41802978e-07,\n",
       "       4.38975208e-02, 1.53534353e-01, 7.00839102e-01, 9.25301492e-01,\n",
       "       8.96282494e-01, 2.90659815e-01, 2.33427789e-02, 1.70570653e-04,\n",
       "       2.88970448e-04, 9.29766707e-03, 8.90663452e-03, 2.26608463e-04,\n",
       "       4.03762060e-05, 7.26421922e-06, 1.10396386e-05, 1.01662147e-06,\n",
       "       9.02986983e-07, 1.02332551e-05, 5.41987765e-06, 9.75294370e-07,\n",
       "       4.78630409e-06, 5.76260891e-06, 1.44776254e-06, 3.63737240e-06,\n",
       "       4.70555165e-07, 2.45765182e-06, 3.59090859e-06, 1.66478685e-06,\n",
       "       1.60399929e-06, 9.63356625e-03, 4.86665267e-05, 4.41784550e-06,\n",
       "       3.15723866e-02, 4.95391077e-06, 5.98944491e-04, 2.70506207e-05,\n",
       "       1.15584786e-04, 1.11944019e-03, 4.94632104e-07, 4.15277600e-06,\n",
       "       3.38788072e-06, 9.08340212e-07, 1.32664645e-05, 2.25542678e-07,\n",
       "       2.05705055e-06, 3.05794197e-06, 7.47085278e-06, 1.66368693e-06],\n",
       "      dtype=float32)"
      ]
     },
     "execution_count": 129,
     "metadata": {},
     "output_type": "execute_result"
    }
   ],
   "source": [
    "pre_out[0]"
   ]
  },
  {
   "cell_type": "code",
   "execution_count": 119,
   "metadata": {},
   "outputs": [
    {
     "name": "stdout",
     "output_type": "stream",
     "text": [
      "WARNING:tensorflow:Model was constructed with shape (None, 784) for input KerasTensor(type_spec=TensorSpec(shape=(None, 784), dtype=tf.float32, name='dense_36_input'), name='dense_36_input', description=\"created by layer 'dense_36_input'\"), but it was called on an input with incompatible shape (None,).\n"
     ]
    },
    {
     "ename": "ValueError",
     "evalue": "in user code:\n\n    File \"c:\\Users\\wng37\\AppData\\Local\\Programs\\Python\\Python310\\lib\\site-packages\\keras\\engine\\training.py\", line 2041, in predict_function  *\n        return step_function(self, iterator)\n    File \"c:\\Users\\wng37\\AppData\\Local\\Programs\\Python\\Python310\\lib\\site-packages\\keras\\engine\\training.py\", line 2027, in step_function  **\n        outputs = model.distribute_strategy.run(run_step, args=(data,))\n    File \"c:\\Users\\wng37\\AppData\\Local\\Programs\\Python\\Python310\\lib\\site-packages\\keras\\engine\\training.py\", line 2015, in run_step  **\n        outputs = model.predict_step(data)\n    File \"c:\\Users\\wng37\\AppData\\Local\\Programs\\Python\\Python310\\lib\\site-packages\\keras\\engine\\training.py\", line 1983, in predict_step\n        return self(x, training=False)\n    File \"c:\\Users\\wng37\\AppData\\Local\\Programs\\Python\\Python310\\lib\\site-packages\\keras\\utils\\traceback_utils.py\", line 70, in error_handler\n        raise e.with_traceback(filtered_tb) from None\n    File \"c:\\Users\\wng37\\AppData\\Local\\Programs\\Python\\Python310\\lib\\site-packages\\keras\\engine\\input_spec.py\", line 250, in assert_input_compatibility\n        raise ValueError(\n\n    ValueError: Exception encountered when calling layer \"sequential_16\" \"                 f\"(type Sequential).\n    \n    Input 0 of layer \"dense_36\" is incompatible with the layer: expected min_ndim=2, found ndim=1. Full shape received: (None,)\n    \n    Call arguments received by layer \"sequential_16\" \"                 f\"(type Sequential):\n      • inputs=tf.Tensor(shape=(None,), dtype=float32)\n      • training=False\n      • mask=None\n",
     "output_type": "error",
     "traceback": [
      "\u001b[1;31m---------------------------------------------------------------------------\u001b[0m",
      "\u001b[1;31mValueError\u001b[0m                                Traceback (most recent call last)",
      "\u001b[1;32mc:\\Users\\wng37\\Documents\\GitHub\\python_exer\\220916\\study_autoencoder.ipynb 셀 11\u001b[0m in \u001b[0;36m<cell line: 1>\u001b[1;34m()\u001b[0m\n\u001b[1;32m----> <a href='vscode-notebook-cell:/c%3A/Users/wng37/Documents/GitHub/python_exer/220916/study_autoencoder.ipynb#X40sZmlsZQ%3D%3D?line=0'>1</a>\u001b[0m pre_out \u001b[39m=\u001b[39m md\u001b[39m.\u001b[39;49mpredict(test_x_flatten\u001b[39m.\u001b[39;49mreshape(\u001b[39m-\u001b[39;49m\u001b[39m1\u001b[39;49m,\u001b[39m784\u001b[39;49m)[\u001b[39m0\u001b[39;49m])\n",
      "File \u001b[1;32mc:\\Users\\wng37\\AppData\\Local\\Programs\\Python\\Python310\\lib\\site-packages\\keras\\utils\\traceback_utils.py:70\u001b[0m, in \u001b[0;36mfilter_traceback.<locals>.error_handler\u001b[1;34m(*args, **kwargs)\u001b[0m\n\u001b[0;32m     67\u001b[0m     filtered_tb \u001b[39m=\u001b[39m _process_traceback_frames(e\u001b[39m.\u001b[39m__traceback__)\n\u001b[0;32m     68\u001b[0m     \u001b[39m# To get the full stack trace, call:\u001b[39;00m\n\u001b[0;32m     69\u001b[0m     \u001b[39m# `tf.debugging.disable_traceback_filtering()`\u001b[39;00m\n\u001b[1;32m---> 70\u001b[0m     \u001b[39mraise\u001b[39;00m e\u001b[39m.\u001b[39mwith_traceback(filtered_tb) \u001b[39mfrom\u001b[39;00m \u001b[39mNone\u001b[39m\n\u001b[0;32m     71\u001b[0m \u001b[39mfinally\u001b[39;00m:\n\u001b[0;32m     72\u001b[0m     \u001b[39mdel\u001b[39;00m filtered_tb\n",
      "File \u001b[1;32m~\\AppData\\Local\\Temp\\__autograph_generated_filejho62uls.py:15\u001b[0m, in \u001b[0;36mouter_factory.<locals>.inner_factory.<locals>.tf__predict_function\u001b[1;34m(iterator)\u001b[0m\n\u001b[0;32m     13\u001b[0m \u001b[39mtry\u001b[39;00m:\n\u001b[0;32m     14\u001b[0m     do_return \u001b[39m=\u001b[39m \u001b[39mTrue\u001b[39;00m\n\u001b[1;32m---> 15\u001b[0m     retval_ \u001b[39m=\u001b[39m ag__\u001b[39m.\u001b[39mconverted_call(ag__\u001b[39m.\u001b[39mld(step_function), (ag__\u001b[39m.\u001b[39mld(\u001b[39mself\u001b[39m), ag__\u001b[39m.\u001b[39mld(iterator)), \u001b[39mNone\u001b[39;00m, fscope)\n\u001b[0;32m     16\u001b[0m \u001b[39mexcept\u001b[39;00m:\n\u001b[0;32m     17\u001b[0m     do_return \u001b[39m=\u001b[39m \u001b[39mFalse\u001b[39;00m\n",
      "\u001b[1;31mValueError\u001b[0m: in user code:\n\n    File \"c:\\Users\\wng37\\AppData\\Local\\Programs\\Python\\Python310\\lib\\site-packages\\keras\\engine\\training.py\", line 2041, in predict_function  *\n        return step_function(self, iterator)\n    File \"c:\\Users\\wng37\\AppData\\Local\\Programs\\Python\\Python310\\lib\\site-packages\\keras\\engine\\training.py\", line 2027, in step_function  **\n        outputs = model.distribute_strategy.run(run_step, args=(data,))\n    File \"c:\\Users\\wng37\\AppData\\Local\\Programs\\Python\\Python310\\lib\\site-packages\\keras\\engine\\training.py\", line 2015, in run_step  **\n        outputs = model.predict_step(data)\n    File \"c:\\Users\\wng37\\AppData\\Local\\Programs\\Python\\Python310\\lib\\site-packages\\keras\\engine\\training.py\", line 1983, in predict_step\n        return self(x, training=False)\n    File \"c:\\Users\\wng37\\AppData\\Local\\Programs\\Python\\Python310\\lib\\site-packages\\keras\\utils\\traceback_utils.py\", line 70, in error_handler\n        raise e.with_traceback(filtered_tb) from None\n    File \"c:\\Users\\wng37\\AppData\\Local\\Programs\\Python\\Python310\\lib\\site-packages\\keras\\engine\\input_spec.py\", line 250, in assert_input_compatibility\n        raise ValueError(\n\n    ValueError: Exception encountered when calling layer \"sequential_16\" \"                 f\"(type Sequential).\n    \n    Input 0 of layer \"dense_36\" is incompatible with the layer: expected min_ndim=2, found ndim=1. Full shape received: (None,)\n    \n    Call arguments received by layer \"sequential_16\" \"                 f\"(type Sequential):\n      • inputs=tf.Tensor(shape=(None,), dtype=float32)\n      • training=False\n      • mask=None\n"
     ]
    }
   ],
   "source": [
    "pre_out = md.predict(test_x_flatten.reshape(-1,784)[0])"
   ]
  },
  {
   "cell_type": "code",
   "execution_count": 131,
   "metadata": {},
   "outputs": [
    {
     "data": {
      "image/png": "[encoded data removed]",
      "text/plain": [
       "<Figure size 432x288 with 2 Axes>"
      ]
     },
     "metadata": {
      "needs_background": "light"
     },
     "output_type": "display_data"
    }
   ],
   "source": [
    "fig, axs = plt.subplots(1,2)\n",
    "plt.subplot(1,2,1)\n",
    "plt.imshow(test_x_flatten[0].reshape(28,28), cmap='gray')\n",
    "plt.subplot(1,2,2)\n",
    "plt.imshow(pre_out[0].reshape(28,28), cmap='gray')\n",
    "plt.show()"
   ]
  },
  {
   "cell_type": "code",
   "execution_count": 52,
   "metadata": {},
   "outputs": [
    {
     "data": {
      "text/plain": [
       "<matplotlib.image.AxesImage at 0x222cf9f9f00>"
      ]
     },
     "execution_count": 52,
     "metadata": {},
     "output_type": "execute_result"
    },
    {
     "data": {
      "image/png": "[encoded data removed]",
      "text/plain": [
       "<Figure size 432x288 with 1 Axes>"
      ]
     },
     "metadata": {
      "needs_background": "light"
     },
     "output_type": "display_data"
    }
   ],
   "source": [
    "plt.imshow(test_x[0].reshape(28,28), cmap='gray')"
   ]
  }
 ],
 "metadata": {
  "kernelspec": {
   "display_name": "Python 3.10.4 64-bit",
   "language": "python",
   "name": "python3"
  },
  "language_info": {
   "codemirror_mode": {
    "name": "ipython",
    "version": 3
   },
   "file_extension": ".py",
   "mimetype": "text/x-python",
   "name": "python",
   "nbconvert_exporter": "python",
   "pygments_lexer": "ipython3",
   "version": "3.10.4"
  },
  "orig_nbformat": 4,
  "vscode": {
   "interpreter": {
    "hash": "701f553f3cf634fe4f2c4f983f7515070d2dd5af080cb3db5c1ee13f7b0211fa"
   }
  }
 },
 "nbformat": 4,
 "nbformat_minor": 2
}
