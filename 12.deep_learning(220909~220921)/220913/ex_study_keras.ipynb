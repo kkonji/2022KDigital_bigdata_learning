{
 "cells": [
  {
   "cell_type": "markdown",
   "metadata": {},
   "source": [
    "## Keras\n",
    "- tensorflow 기반의 keras 패키지\n",
    "- 기본 데이터 tensor 타입 -> 모델을 직접 설계 및 생성"
   ]
  },
  {
   "cell_type": "code",
   "execution_count": 7,
   "metadata": {},
   "outputs": [],
   "source": [
    "# %pip install tensorflow  # 보통 \n",
    "from tensorflow import keras\n",
    "import tensorflow as tf"
   ]
  },
  {
   "cell_type": "code",
   "execution_count": 8,
   "metadata": {},
   "outputs": [],
   "source": [
    "# from tensorflow.keras import Sequential\n",
    "# from tensorflow.keras.layers import Dense\n",
    "import numpy as np"
   ]
  },
  {
   "cell_type": "code",
   "execution_count": 24,
   "metadata": {},
   "outputs": [],
   "source": [
    "from keras import Sequential\n",
    "from keras.layers import Dense"
   ]
  },
  {
   "cell_type": "code",
   "execution_count": 28,
   "metadata": {},
   "outputs": [
    {
     "name": "stdout",
     "output_type": "stream",
     "text": [
      "2.10.0\n",
      "2.10.0\n"
     ]
    }
   ],
   "source": [
    "print(tf.__version__)\n",
    "print(keras.__version__)"
   ]
  },
  {
   "cell_type": "code",
   "execution_count": 20,
   "metadata": {},
   "outputs": [],
   "source": [
    "model = Sequential(name='HelloModel')"
   ]
  },
  {
   "cell_type": "code",
   "execution_count": 21,
   "metadata": {},
   "outputs": [],
   "source": [
    "# 첫번째 층(반드시 input_shape 넣어줘야함 또는 input_dim=숫자)\n",
    "l1 = Dense(10, activation='relu', input_shape=(5,))\n",
    "# 두번째 이후 층(퍼셉트론, 유닛으로 구성)\n",
    "l2 = Dense(50, activation='relu')\n",
    "# 두번째 이후 층(퍼셉트론, 유닛으로 구성)\n",
    "l3 = Dense(50, activation='softmax')"
   ]
  },
  {
   "cell_type": "code",
   "execution_count": 22,
   "metadata": {},
   "outputs": [],
   "source": [
    "model.add(l1)\n",
    "model.add(l2)\n",
    "model.add(l3)"
   ]
  },
  {
   "cell_type": "code",
   "execution_count": 23,
   "metadata": {},
   "outputs": [
    {
     "name": "stdout",
     "output_type": "stream",
     "text": [
      "Model: \"HelloModel\"\n",
      "_________________________________________________________________\n",
      " Layer (type)                Output Shape              Param #   \n",
      "=================================================================\n",
      " dense_6 (Dense)             (None, 10)                60        \n",
      "                                                                 \n",
      " dense_7 (Dense)             (None, 50)                550       \n",
      "                                                                 \n",
      " dense_8 (Dense)             (None, 50)                2550      \n",
      "                                                                 \n",
      "=================================================================\n",
      "Total params: 3,160\n",
      "Trainable params: 3,160\n",
      "Non-trainable params: 0\n",
      "_________________________________________________________________\n"
     ]
    }
   ],
   "source": [
    "model.summary()"
   ]
  },
  {
   "cell_type": "markdown",
   "metadata": {},
   "source": [
    "### 모델 생성\n",
    "- 손실함수, 최적화기법, 성능평가항목 설정\n",
    "- compile 메서드 사용\n",
    "    - optimizer, loss 파라미터 사용\n",
    "    - 분류 : categorical_crossentropy(Target이 OneHotEncode 안 되어있을때 사용), sparse_catergorical_crossentropy(Target이 OneHotEncode 되어있을때 사용), binary_crossentropy\n",
    "    - 회귀 : mse, mae\n",
    "    - metrics : 모델 평가 항목\n",
    "        - accuracy, mse, mae 등"
   ]
  },
  {
   "cell_type": "code",
   "execution_count": 32,
   "metadata": {},
   "outputs": [],
   "source": [
    "model.compile(optimizer='adam', loss='sparse_categorical_crossentropy', metrics=['accuracy'])"
   ]
  },
  {
   "cell_type": "markdown",
   "metadata": {},
   "source": [
    "### 모델 학습\n",
    "- fit() 메서드\n",
    "- 훈련용 데이터\n",
    "- 훈련용 타겟\n",
    "- epochs : 학습 횟수(처음-끝까지)\n",
    "- batch_size : 한번 학습량(기:32)\n",
    "- validation_split / validation_data = (,) : 검증데이터 설정\n",
    "- callbacks : 이벤트 처리 함수 목록 (학습중단, 모델검증 및 저장 이벤트)\n",
    "- verbose : 학습과정 출력 여부 설정 (default: True)\n"
   ]
  },
  {
   "cell_type": "code",
   "execution_count": null,
   "metadata": {},
   "outputs": [],
   "source": [
    "# 모델 학습\n",
    "model.fit()"
   ]
  },
  {
   "cell_type": "markdown",
   "metadata": {},
   "source": [
    "### 데이터로딩"
   ]
  },
  {
   "cell_type": "code",
   "execution_count": 34,
   "metadata": {},
   "outputs": [],
   "source": [
    "from sklearn.datasets import load_iris\n",
    "iris = load_iris()\n",
    "data = iris.data\n",
    "target = iris.target"
   ]
  },
  {
   "cell_type": "code",
   "execution_count": 35,
   "metadata": {},
   "outputs": [
    {
     "name": "stdout",
     "output_type": "stream",
     "text": [
      "(150, 4) (150,)\n"
     ]
    }
   ],
   "source": [
    "print(data.shape, target.shape)"
   ]
  },
  {
   "cell_type": "code",
   "execution_count": 66,
   "metadata": {},
   "outputs": [
    {
     "name": "stdout",
     "output_type": "stream",
     "text": [
      "Model: \"Helloiris\"\n",
      "_________________________________________________________________\n",
      " Layer (type)                Output Shape              Param #   \n",
      "=================================================================\n",
      " dense_92 (Dense)            (None, 500)               2500      \n",
      "                                                                 \n",
      " dense_93 (Dense)            (None, 500)               250500    \n",
      "                                                                 \n",
      " dense_94 (Dense)            (None, 500)               250500    \n",
      "                                                                 \n",
      " dense_95 (Dense)            (None, 500)               250500    \n",
      "                                                                 \n",
      " dense_96 (Dense)            (None, 3)                 1503      \n",
      "                                                                 \n",
      "=================================================================\n",
      "Total params: 755,503\n",
      "Trainable params: 755,503\n",
      "Non-trainable params: 0\n",
      "_________________________________________________________________\n",
      "Epoch 1/5\n",
      "5/5 [==============================] - 1s 9ms/step - loss: 0.8263 - accuracy: 0.5933\n",
      "Epoch 2/5\n",
      "5/5 [==============================] - 0s 11ms/step - loss: 0.4403 - accuracy: 0.7867\n",
      "Epoch 3/5\n",
      "5/5 [==============================] - 0s 12ms/step - loss: 0.3279 - accuracy: 0.8133\n",
      "Epoch 4/5\n",
      "5/5 [==============================] - 0s 11ms/step - loss: 0.1787 - accuracy: 0.9533\n",
      "Epoch 5/5\n",
      "5/5 [==============================] - 0s 10ms/step - loss: 0.1171 - accuracy: 0.9733\n"
     ]
    },
    {
     "data": {
      "text/plain": [
       "<keras.callbacks.History at 0x1df38b5d300>"
      ]
     },
     "execution_count": 66,
     "metadata": {},
     "output_type": "execute_result"
    }
   ],
   "source": [
    "model = Sequential(name='Helloiris')\n",
    "model.add(Dense(500, activation='relu', input_shape=(4,)))\n",
    "model.add(Dense(500, activation='relu'))\n",
    "model.add(Dense(500, activation='relu'))\n",
    "model.add(Dense(500, activation='relu'))\n",
    "model.add(Dense(3, activation='softmax'))\n",
    "model.summary()\n",
    "model.compile(optimizer='adam', loss='sparse_categorical_crossentropy', metrics=['accuracy'])\n",
    "model.fit(data, target, epochs=5)"
   ]
  },
  {
   "cell_type": "code",
   "execution_count": 67,
   "metadata": {},
   "outputs": [],
   "source": [
    "from sklearn.preprocessing import OneHotEncoder, LabelEncoder\n",
    "ohe = OneHotEncoder()\n",
    "target2 = ohe.fit(target.reshape(-1,1)).transform(target.reshape(-1,1))"
   ]
  },
  {
   "cell_type": "code",
   "execution_count": 68,
   "metadata": {},
   "outputs": [],
   "source": [
    "target3 = target2.toarray()"
   ]
  },
  {
   "cell_type": "code",
   "execution_count": 69,
   "metadata": {},
   "outputs": [
    {
     "name": "stdout",
     "output_type": "stream",
     "text": [
      "Model: \"Helloiris\"\n",
      "_________________________________________________________________\n",
      " Layer (type)                Output Shape              Param #   \n",
      "=================================================================\n",
      " dense_97 (Dense)            (None, 500)               2500      \n",
      "                                                                 \n",
      " dense_98 (Dense)            (None, 500)               250500    \n",
      "                                                                 \n",
      " dense_99 (Dense)            (None, 500)               250500    \n",
      "                                                                 \n",
      " dense_100 (Dense)           (None, 500)               250500    \n",
      "                                                                 \n",
      " dense_101 (Dense)           (None, 3)                 1503      \n",
      "                                                                 \n",
      "=================================================================\n",
      "Total params: 755,503\n",
      "Trainable params: 755,503\n",
      "Non-trainable params: 0\n",
      "_________________________________________________________________\n",
      "Epoch 1/5\n",
      "5/5 [==============================] - 1s 11ms/step - loss: 0.9458 - accuracy: 0.6133\n",
      "Epoch 2/5\n",
      "5/5 [==============================] - 0s 11ms/step - loss: 0.4987 - accuracy: 0.7733\n",
      "Epoch 3/5\n",
      "5/5 [==============================] - 0s 14ms/step - loss: 0.2682 - accuracy: 0.9533\n",
      "Epoch 4/5\n",
      "5/5 [==============================] - 0s 12ms/step - loss: 0.1680 - accuracy: 0.9467\n",
      "Epoch 5/5\n",
      "5/5 [==============================] - 0s 12ms/step - loss: 0.1115 - accuracy: 0.9600\n"
     ]
    },
    {
     "data": {
      "text/plain": [
       "<keras.callbacks.History at 0x1df38dbb9d0>"
      ]
     },
     "execution_count": 69,
     "metadata": {},
     "output_type": "execute_result"
    }
   ],
   "source": [
    "model = Sequential(name='Helloiris')\n",
    "model.add(Dense(500, activation='relu', input_shape=(4,)))\n",
    "model.add(Dense(500, activation='relu'))\n",
    "model.add(Dense(500, activation='relu'))\n",
    "model.add(Dense(500, activation='relu'))\n",
    "model.add(Dense(3, activation='softmax'))\n",
    "model.summary()\n",
    "model.compile(optimizer='adam', loss='categorical_crossentropy', metrics=['accuracy'])\n",
    "model.fit(data, target3, epochs=5)"
   ]
  },
  {
   "cell_type": "markdown",
   "metadata": {},
   "source": [
    "### 모델 평가\n",
    "- evaluate() 메서드\n",
    "- test 데이터로 진행"
   ]
  },
  {
   "cell_type": "code",
   "execution_count": 71,
   "metadata": {},
   "outputs": [
    {
     "name": "stdout",
     "output_type": "stream",
     "text": [
      "5/5 [==============================] - 1s 8ms/step - loss: 0.1060 - accuracy: 0.9667\n"
     ]
    },
    {
     "data": {
      "text/plain": [
       "[0.10598957538604736, 0.9666666388511658]"
      ]
     },
     "execution_count": 71,
     "metadata": {},
     "output_type": "execute_result"
    }
   ],
   "source": [
    "model.evaluate(data,target3)"
   ]
  },
  {
   "cell_type": "code",
   "execution_count": null,
   "metadata": {},
   "outputs": [],
   "source": [
    "model.predict()"
   ]
  }
 ],
 "metadata": {
  "kernelspec": {
   "display_name": "Python 3.9.10 64-bit",
   "language": "python",
   "name": "python3"
  },
  "language_info": {
   "codemirror_mode": {
    "name": "ipython",
    "version": 3
   },
   "file_extension": ".py",
   "mimetype": "text/x-python",
   "name": "python",
   "nbconvert_exporter": "python",
   "pygments_lexer": "ipython3",
   "version": "3.9.10"
  },
  "orig_nbformat": 4,
  "vscode": {
   "interpreter": {
    "hash": "cf92aa13fedf815d5c8dd192b8d835913fde3e8bc926b2a0ad6cc74ef2ba3ca2"
   }
  }
 },
 "nbformat": 4,
 "nbformat_minor": 2
}
