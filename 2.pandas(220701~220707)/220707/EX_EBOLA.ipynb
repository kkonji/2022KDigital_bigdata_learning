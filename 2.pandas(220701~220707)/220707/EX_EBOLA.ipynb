{
 "cells": [
  {
   "cell_type": "markdown",
   "metadata": {},
   "source": []
  },
  {
   "cell_type": "code",
   "execution_count": 31,
   "metadata": {},
   "outputs": [
    {
     "data": {
      "text/html": [
       "<div>\n",
       "<style scoped>\n",
       "    .dataframe tbody tr th:only-of-type {\n",
       "        vertical-align: middle;\n",
       "    }\n",
       "\n",
       "    .dataframe tbody tr th {\n",
       "        vertical-align: top;\n",
       "    }\n",
       "\n",
       "    .dataframe thead th {\n",
       "        text-align: right;\n",
       "    }\n",
       "</style>\n",
       "<table border=\"1\" class=\"dataframe\">\n",
       "  <thead>\n",
       "    <tr style=\"text-align: right;\">\n",
       "      <th></th>\n",
       "      <th>Day</th>\n",
       "      <th>Cases_Guinea</th>\n",
       "      <th>Cases_Liberia</th>\n",
       "      <th>Cases_SierraLeone</th>\n",
       "      <th>Cases_Nigeria</th>\n",
       "      <th>Cases_Senegal</th>\n",
       "      <th>Cases_UnitedStates</th>\n",
       "      <th>Cases_Spain</th>\n",
       "      <th>Cases_Mali</th>\n",
       "      <th>Deaths_Guinea</th>\n",
       "      <th>Deaths_Liberia</th>\n",
       "      <th>Deaths_SierraLeone</th>\n",
       "      <th>Deaths_Nigeria</th>\n",
       "      <th>Deaths_Senegal</th>\n",
       "      <th>Deaths_UnitedStates</th>\n",
       "      <th>Deaths_Spain</th>\n",
       "      <th>Deaths_Mali</th>\n",
       "    </tr>\n",
       "    <tr>\n",
       "      <th>Date</th>\n",
       "      <th></th>\n",
       "      <th></th>\n",
       "      <th></th>\n",
       "      <th></th>\n",
       "      <th></th>\n",
       "      <th></th>\n",
       "      <th></th>\n",
       "      <th></th>\n",
       "      <th></th>\n",
       "      <th></th>\n",
       "      <th></th>\n",
       "      <th></th>\n",
       "      <th></th>\n",
       "      <th></th>\n",
       "      <th></th>\n",
       "      <th></th>\n",
       "      <th></th>\n",
       "    </tr>\n",
       "  </thead>\n",
       "  <tbody>\n",
       "    <tr>\n",
       "      <th>1/5/2015</th>\n",
       "      <td>289</td>\n",
       "      <td>2776.0</td>\n",
       "      <td>NaN</td>\n",
       "      <td>10030.0</td>\n",
       "      <td>NaN</td>\n",
       "      <td>NaN</td>\n",
       "      <td>NaN</td>\n",
       "      <td>NaN</td>\n",
       "      <td>NaN</td>\n",
       "      <td>1786.0</td>\n",
       "      <td>NaN</td>\n",
       "      <td>2977.0</td>\n",
       "      <td>NaN</td>\n",
       "      <td>NaN</td>\n",
       "      <td>NaN</td>\n",
       "      <td>NaN</td>\n",
       "      <td>NaN</td>\n",
       "    </tr>\n",
       "    <tr>\n",
       "      <th>1/4/2015</th>\n",
       "      <td>288</td>\n",
       "      <td>2775.0</td>\n",
       "      <td>NaN</td>\n",
       "      <td>9780.0</td>\n",
       "      <td>NaN</td>\n",
       "      <td>NaN</td>\n",
       "      <td>NaN</td>\n",
       "      <td>NaN</td>\n",
       "      <td>NaN</td>\n",
       "      <td>1781.0</td>\n",
       "      <td>NaN</td>\n",
       "      <td>2943.0</td>\n",
       "      <td>NaN</td>\n",
       "      <td>NaN</td>\n",
       "      <td>NaN</td>\n",
       "      <td>NaN</td>\n",
       "      <td>NaN</td>\n",
       "    </tr>\n",
       "    <tr>\n",
       "      <th>1/3/2015</th>\n",
       "      <td>287</td>\n",
       "      <td>2769.0</td>\n",
       "      <td>8166.0</td>\n",
       "      <td>9722.0</td>\n",
       "      <td>NaN</td>\n",
       "      <td>NaN</td>\n",
       "      <td>NaN</td>\n",
       "      <td>NaN</td>\n",
       "      <td>NaN</td>\n",
       "      <td>1767.0</td>\n",
       "      <td>3496.0</td>\n",
       "      <td>2915.0</td>\n",
       "      <td>NaN</td>\n",
       "      <td>NaN</td>\n",
       "      <td>NaN</td>\n",
       "      <td>NaN</td>\n",
       "      <td>NaN</td>\n",
       "    </tr>\n",
       "    <tr>\n",
       "      <th>1/2/2015</th>\n",
       "      <td>286</td>\n",
       "      <td>NaN</td>\n",
       "      <td>8157.0</td>\n",
       "      <td>NaN</td>\n",
       "      <td>NaN</td>\n",
       "      <td>NaN</td>\n",
       "      <td>NaN</td>\n",
       "      <td>NaN</td>\n",
       "      <td>NaN</td>\n",
       "      <td>NaN</td>\n",
       "      <td>3496.0</td>\n",
       "      <td>NaN</td>\n",
       "      <td>NaN</td>\n",
       "      <td>NaN</td>\n",
       "      <td>NaN</td>\n",
       "      <td>NaN</td>\n",
       "      <td>NaN</td>\n",
       "    </tr>\n",
       "    <tr>\n",
       "      <th>12/31/2014</th>\n",
       "      <td>284</td>\n",
       "      <td>2730.0</td>\n",
       "      <td>8115.0</td>\n",
       "      <td>9633.0</td>\n",
       "      <td>NaN</td>\n",
       "      <td>NaN</td>\n",
       "      <td>NaN</td>\n",
       "      <td>NaN</td>\n",
       "      <td>NaN</td>\n",
       "      <td>1739.0</td>\n",
       "      <td>3471.0</td>\n",
       "      <td>2827.0</td>\n",
       "      <td>NaN</td>\n",
       "      <td>NaN</td>\n",
       "      <td>NaN</td>\n",
       "      <td>NaN</td>\n",
       "      <td>NaN</td>\n",
       "    </tr>\n",
       "    <tr>\n",
       "      <th>12/28/2014</th>\n",
       "      <td>281</td>\n",
       "      <td>2706.0</td>\n",
       "      <td>8018.0</td>\n",
       "      <td>9446.0</td>\n",
       "      <td>NaN</td>\n",
       "      <td>NaN</td>\n",
       "      <td>NaN</td>\n",
       "      <td>NaN</td>\n",
       "      <td>NaN</td>\n",
       "      <td>1708.0</td>\n",
       "      <td>3423.0</td>\n",
       "      <td>2758.0</td>\n",
       "      <td>NaN</td>\n",
       "      <td>NaN</td>\n",
       "      <td>NaN</td>\n",
       "      <td>NaN</td>\n",
       "      <td>NaN</td>\n",
       "    </tr>\n",
       "    <tr>\n",
       "      <th>12/27/2014</th>\n",
       "      <td>280</td>\n",
       "      <td>2695.0</td>\n",
       "      <td>NaN</td>\n",
       "      <td>9409.0</td>\n",
       "      <td>NaN</td>\n",
       "      <td>NaN</td>\n",
       "      <td>NaN</td>\n",
       "      <td>NaN</td>\n",
       "      <td>NaN</td>\n",
       "      <td>1697.0</td>\n",
       "      <td>NaN</td>\n",
       "      <td>2732.0</td>\n",
       "      <td>NaN</td>\n",
       "      <td>NaN</td>\n",
       "      <td>NaN</td>\n",
       "      <td>NaN</td>\n",
       "      <td>NaN</td>\n",
       "    </tr>\n",
       "    <tr>\n",
       "      <th>12/24/2014</th>\n",
       "      <td>277</td>\n",
       "      <td>2630.0</td>\n",
       "      <td>7977.0</td>\n",
       "      <td>9203.0</td>\n",
       "      <td>NaN</td>\n",
       "      <td>NaN</td>\n",
       "      <td>NaN</td>\n",
       "      <td>NaN</td>\n",
       "      <td>NaN</td>\n",
       "      <td>NaN</td>\n",
       "      <td>3413.0</td>\n",
       "      <td>2655.0</td>\n",
       "      <td>NaN</td>\n",
       "      <td>NaN</td>\n",
       "      <td>NaN</td>\n",
       "      <td>NaN</td>\n",
       "      <td>NaN</td>\n",
       "    </tr>\n",
       "    <tr>\n",
       "      <th>12/21/2014</th>\n",
       "      <td>273</td>\n",
       "      <td>2597.0</td>\n",
       "      <td>NaN</td>\n",
       "      <td>9004.0</td>\n",
       "      <td>NaN</td>\n",
       "      <td>NaN</td>\n",
       "      <td>NaN</td>\n",
       "      <td>NaN</td>\n",
       "      <td>NaN</td>\n",
       "      <td>1607.0</td>\n",
       "      <td>NaN</td>\n",
       "      <td>2582.0</td>\n",
       "      <td>NaN</td>\n",
       "      <td>NaN</td>\n",
       "      <td>NaN</td>\n",
       "      <td>NaN</td>\n",
       "      <td>NaN</td>\n",
       "    </tr>\n",
       "    <tr>\n",
       "      <th>12/20/2014</th>\n",
       "      <td>272</td>\n",
       "      <td>2571.0</td>\n",
       "      <td>7862.0</td>\n",
       "      <td>8939.0</td>\n",
       "      <td>NaN</td>\n",
       "      <td>NaN</td>\n",
       "      <td>NaN</td>\n",
       "      <td>NaN</td>\n",
       "      <td>NaN</td>\n",
       "      <td>1586.0</td>\n",
       "      <td>3384.0</td>\n",
       "      <td>2556.0</td>\n",
       "      <td>NaN</td>\n",
       "      <td>NaN</td>\n",
       "      <td>NaN</td>\n",
       "      <td>NaN</td>\n",
       "      <td>NaN</td>\n",
       "    </tr>\n",
       "  </tbody>\n",
       "</table>\n",
       "</div>"
      ],
      "text/plain": [
       "            Day  Cases_Guinea  Cases_Liberia  Cases_SierraLeone  \\\n",
       "Date                                                              \n",
       "1/5/2015    289        2776.0            NaN            10030.0   \n",
       "1/4/2015    288        2775.0            NaN             9780.0   \n",
       "1/3/2015    287        2769.0         8166.0             9722.0   \n",
       "1/2/2015    286           NaN         8157.0                NaN   \n",
       "12/31/2014  284        2730.0         8115.0             9633.0   \n",
       "12/28/2014  281        2706.0         8018.0             9446.0   \n",
       "12/27/2014  280        2695.0            NaN             9409.0   \n",
       "12/24/2014  277        2630.0         7977.0             9203.0   \n",
       "12/21/2014  273        2597.0            NaN             9004.0   \n",
       "12/20/2014  272        2571.0         7862.0             8939.0   \n",
       "\n",
       "            Cases_Nigeria  Cases_Senegal  Cases_UnitedStates  Cases_Spain  \\\n",
       "Date                                                                        \n",
       "1/5/2015              NaN            NaN                 NaN          NaN   \n",
       "1/4/2015              NaN            NaN                 NaN          NaN   \n",
       "1/3/2015              NaN            NaN                 NaN          NaN   \n",
       "1/2/2015              NaN            NaN                 NaN          NaN   \n",
       "12/31/2014            NaN            NaN                 NaN          NaN   \n",
       "12/28/2014            NaN            NaN                 NaN          NaN   \n",
       "12/27/2014            NaN            NaN                 NaN          NaN   \n",
       "12/24/2014            NaN            NaN                 NaN          NaN   \n",
       "12/21/2014            NaN            NaN                 NaN          NaN   \n",
       "12/20/2014            NaN            NaN                 NaN          NaN   \n",
       "\n",
       "            Cases_Mali  Deaths_Guinea  Deaths_Liberia  Deaths_SierraLeone  \\\n",
       "Date                                                                        \n",
       "1/5/2015           NaN         1786.0             NaN              2977.0   \n",
       "1/4/2015           NaN         1781.0             NaN              2943.0   \n",
       "1/3/2015           NaN         1767.0          3496.0              2915.0   \n",
       "1/2/2015           NaN            NaN          3496.0                 NaN   \n",
       "12/31/2014         NaN         1739.0          3471.0              2827.0   \n",
       "12/28/2014         NaN         1708.0          3423.0              2758.0   \n",
       "12/27/2014         NaN         1697.0             NaN              2732.0   \n",
       "12/24/2014         NaN            NaN          3413.0              2655.0   \n",
       "12/21/2014         NaN         1607.0             NaN              2582.0   \n",
       "12/20/2014         NaN         1586.0          3384.0              2556.0   \n",
       "\n",
       "            Deaths_Nigeria  Deaths_Senegal  Deaths_UnitedStates  Deaths_Spain  \\\n",
       "Date                                                                            \n",
       "1/5/2015               NaN             NaN                  NaN           NaN   \n",
       "1/4/2015               NaN             NaN                  NaN           NaN   \n",
       "1/3/2015               NaN             NaN                  NaN           NaN   \n",
       "1/2/2015               NaN             NaN                  NaN           NaN   \n",
       "12/31/2014             NaN             NaN                  NaN           NaN   \n",
       "12/28/2014             NaN             NaN                  NaN           NaN   \n",
       "12/27/2014             NaN             NaN                  NaN           NaN   \n",
       "12/24/2014             NaN             NaN                  NaN           NaN   \n",
       "12/21/2014             NaN             NaN                  NaN           NaN   \n",
       "12/20/2014             NaN             NaN                  NaN           NaN   \n",
       "\n",
       "            Deaths_Mali  \n",
       "Date                     \n",
       "1/5/2015            NaN  \n",
       "1/4/2015            NaN  \n",
       "1/3/2015            NaN  \n",
       "1/2/2015            NaN  \n",
       "12/31/2014          NaN  \n",
       "12/28/2014          NaN  \n",
       "12/27/2014          NaN  \n",
       "12/24/2014          NaN  \n",
       "12/21/2014          NaN  \n",
       "12/20/2014          NaN  "
      ]
     },
     "execution_count": 31,
     "metadata": {},
     "output_type": "execute_result"
    }
   ],
   "source": [
    "# 모듈 로딩\n",
    "import pandas as pd\n",
    "PATH = '../DATA_WOO/'\n",
    "FILENAME = PATH + 'country_timeseries.csv'\n",
    "# csv -> 데이터프레임\n",
    "ebola = pd.read_csv(FILENAME, index_col=0)\n",
    "ebola.head(10)"
   ]
  },
  {
   "cell_type": "code",
   "execution_count": 32,
   "metadata": {},
   "outputs": [
    {
     "name": "stdout",
     "output_type": "stream",
     "text": [
      "<class 'pandas.core.frame.DataFrame'>\n",
      "Index: 122 entries, 1/5/2015 to 3/22/2014\n",
      "Data columns (total 17 columns):\n",
      " #   Column               Non-Null Count  Dtype  \n",
      "---  ------               --------------  -----  \n",
      " 0   Day                  122 non-null    int64  \n",
      " 1   Cases_Guinea         93 non-null     float64\n",
      " 2   Cases_Liberia        83 non-null     float64\n",
      " 3   Cases_SierraLeone    87 non-null     float64\n",
      " 4   Cases_Nigeria        38 non-null     float64\n",
      " 5   Cases_Senegal        25 non-null     float64\n",
      " 6   Cases_UnitedStates   18 non-null     float64\n",
      " 7   Cases_Spain          16 non-null     float64\n",
      " 8   Cases_Mali           12 non-null     float64\n",
      " 9   Deaths_Guinea        92 non-null     float64\n",
      " 10  Deaths_Liberia       81 non-null     float64\n",
      " 11  Deaths_SierraLeone   87 non-null     float64\n",
      " 12  Deaths_Nigeria       38 non-null     float64\n",
      " 13  Deaths_Senegal       22 non-null     float64\n",
      " 14  Deaths_UnitedStates  18 non-null     float64\n",
      " 15  Deaths_Spain         16 non-null     float64\n",
      " 16  Deaths_Mali          12 non-null     float64\n",
      "dtypes: float64(16), int64(1)\n",
      "memory usage: 17.2+ KB\n"
     ]
    }
   ],
   "source": [
    "# 데이터 확인\n",
    "ebola.info()"
   ]
  },
  {
   "cell_type": "code",
   "execution_count": 33,
   "metadata": {},
   "outputs": [
    {
     "data": {
      "text/plain": [
       "Day                      0\n",
       "Cases_Guinea            29\n",
       "Cases_Liberia           39\n",
       "Cases_SierraLeone       35\n",
       "Cases_Nigeria           84\n",
       "Cases_Senegal           97\n",
       "Cases_UnitedStates     104\n",
       "Cases_Spain            106\n",
       "Cases_Mali             110\n",
       "Deaths_Guinea           30\n",
       "Deaths_Liberia          41\n",
       "Deaths_SierraLeone      35\n",
       "Deaths_Nigeria          84\n",
       "Deaths_Senegal         100\n",
       "Deaths_UnitedStates    104\n",
       "Deaths_Spain           106\n",
       "Deaths_Mali            110\n",
       "dtype: int64"
      ]
     },
     "execution_count": 33,
     "metadata": {},
     "output_type": "execute_result"
    }
   ],
   "source": [
    "ebola.isnull().sum()"
   ]
  },
  {
   "cell_type": "code",
   "execution_count": 34,
   "metadata": {},
   "outputs": [
    {
     "name": "stdout",
     "output_type": "stream",
     "text": [
      "<class 'pandas.core.frame.DataFrame'>\n",
      "DatetimeIndex: 122 entries, 2015-01-05 to 2014-03-22\n",
      "Data columns (total 17 columns):\n",
      " #   Column               Non-Null Count  Dtype  \n",
      "---  ------               --------------  -----  \n",
      " 0   Day                  122 non-null    int64  \n",
      " 1   Cases_Guinea         122 non-null    float64\n",
      " 2   Cases_Liberia        122 non-null    float64\n",
      " 3   Cases_SierraLeone    122 non-null    float64\n",
      " 4   Cases_Nigeria        122 non-null    float64\n",
      " 5   Cases_Senegal        122 non-null    float64\n",
      " 6   Cases_UnitedStates   122 non-null    float64\n",
      " 7   Cases_Spain          122 non-null    float64\n",
      " 8   Cases_Mali           122 non-null    float64\n",
      " 9   Deaths_Guinea        122 non-null    float64\n",
      " 10  Deaths_Liberia       122 non-null    float64\n",
      " 11  Deaths_SierraLeone   122 non-null    float64\n",
      " 12  Deaths_Nigeria       122 non-null    float64\n",
      " 13  Deaths_Senegal       122 non-null    float64\n",
      " 14  Deaths_UnitedStates  122 non-null    float64\n",
      " 15  Deaths_Spain         122 non-null    float64\n",
      " 16  Deaths_Mali          122 non-null    float64\n",
      "dtypes: float64(16), int64(1)\n",
      "memory usage: 17.2 KB\n"
     ]
    }
   ],
   "source": [
    "# 전처리\n",
    "# NaN 데이터 처리\n",
    "ebola.fillna(0, inplace= True)\n",
    "# Data type 정리\n",
    "ebola.index  =  pd.to_datetime(ebola.index)\n",
    "ebola.info()"
   ]
  },
  {
   "cell_type": "code",
   "execution_count": 37,
   "metadata": {},
   "outputs": [],
   "source": [
    "ebola.to_csv('ebola.csv')"
   ]
  },
  {
   "cell_type": "code",
   "execution_count": 47,
   "metadata": {},
   "outputs": [],
   "source": [
    "# 데이터 가공\n",
    "# 에볼라 바이러스 발병 후 몇 일이 지났는지에 대한 컬럼 추가\n",
    "from datetime import date\n",
    "tdate = date.today()\n",
    " "
   ]
  },
  {
   "cell_type": "code",
   "execution_count": 61,
   "metadata": {},
   "outputs": [
    {
     "data": {
      "text/plain": [
       "Date\n",
       "2015-01-05   2740 days\n",
       "2015-01-04   2741 days\n",
       "2015-01-03   2742 days\n",
       "2015-01-02   2743 days\n",
       "2014-12-31   2745 days\n",
       "                ...   \n",
       "2014-03-27   3024 days\n",
       "2014-03-26   3025 days\n",
       "2014-03-25   3026 days\n",
       "2014-03-24   3027 days\n",
       "2014-03-22   3029 days\n",
       "Name: 발생기간, Length: 122, dtype: timedelta64[ns]"
      ]
     },
     "execution_count": 61,
     "metadata": {},
     "output_type": "execute_result"
    }
   ],
   "source": [
    "ebola['발생기간'] = pd.Timestamp(tdate) - ebola.index\n",
    "ebola['발생기간']"
   ]
  },
  {
   "cell_type": "code",
   "execution_count": 72,
   "metadata": {},
   "outputs": [
    {
     "data": {
      "text/plain": [
       "'Thu Jul  7 00:00:00 2022'"
      ]
     },
     "execution_count": 72,
     "metadata": {},
     "output_type": "execute_result"
    }
   ],
   "source": [
    "date.ctime(date.today())"
   ]
  },
  {
   "cell_type": "code",
   "execution_count": 84,
   "metadata": {},
   "outputs": [
    {
     "data": {
      "text/plain": [
       "DatetimeIndex(['2022-07-07', '2022-07-06', '2022-07-05', '2022-07-04',\n",
       "               '2022-07-03', '2022-07-02', '2022-07-01', '2022-06-30',\n",
       "               '2022-06-29', '2022-06-28',\n",
       "               ...\n",
       "               '2021-07-17', '2021-07-16', '2021-07-15', '2021-07-14',\n",
       "               '2021-07-13', '2021-07-12', '2021-07-11', '2021-07-10',\n",
       "               '2021-07-09', '2021-07-08'],\n",
       "              dtype='datetime64[ns]', length=365, freq='-1D')"
      ]
     },
     "execution_count": 84,
     "metadata": {},
     "output_type": "execute_result"
    }
   ],
   "source": [
    "datept = pd.date_range(start=pd.Timestamp(date.today()), periods= 365, freq='-1D')\n",
    "datept"
   ]
  },
  {
   "cell_type": "code",
   "execution_count": 87,
   "metadata": {},
   "outputs": [
    {
     "data": {
      "text/plain": [
       "2022-07-07      0\n",
       "2022-07-06      1\n",
       "2022-07-05      2\n",
       "2022-07-04      3\n",
       "2022-07-03      4\n",
       "             ... \n",
       "2021-07-12    360\n",
       "2021-07-11    361\n",
       "2021-07-10    362\n",
       "2021-07-09    363\n",
       "2021-07-08    364\n",
       "Freq: -1D, Length: 365, dtype: int64"
      ]
     },
     "execution_count": 87,
     "metadata": {},
     "output_type": "execute_result"
    }
   ],
   "source": [
    "\n",
    "somedf = pd.Series(list(range(len(datept))), index=datept)\n",
    "somedf"
   ]
  },
  {
   "cell_type": "code",
   "execution_count": 107,
   "metadata": {},
   "outputs": [],
   "source": [
    "somedf = pd.DataFrame(somedf, columns = ['개수'])\n",
    "delindex = somedf.index[somedf.index.day % 2 == 0]\n",
    "somedf.drop(delindex, inplace=True)\n",
    "\n",
    "\n",
    "# somedf"
   ]
  },
  {
   "cell_type": "code",
   "execution_count": 113,
   "metadata": {},
   "outputs": [
    {
     "data": {
      "text/html": [
       "<div>\n",
       "<style scoped>\n",
       "    .dataframe tbody tr th:only-of-type {\n",
       "        vertical-align: middle;\n",
       "    }\n",
       "\n",
       "    .dataframe tbody tr th {\n",
       "        vertical-align: top;\n",
       "    }\n",
       "\n",
       "    .dataframe thead th {\n",
       "        text-align: right;\n",
       "    }\n",
       "</style>\n",
       "<table border=\"1\" class=\"dataframe\">\n",
       "  <thead>\n",
       "    <tr style=\"text-align: right;\">\n",
       "      <th></th>\n",
       "      <th>개수</th>\n",
       "    </tr>\n",
       "  </thead>\n",
       "  <tbody>\n",
       "    <tr>\n",
       "      <th>2022-07-07</th>\n",
       "      <td>0</td>\n",
       "    </tr>\n",
       "    <tr>\n",
       "      <th>2022-07-05</th>\n",
       "      <td>2</td>\n",
       "    </tr>\n",
       "    <tr>\n",
       "      <th>2020-06-04</th>\n",
       "      <td>4</td>\n",
       "    </tr>\n",
       "    <tr>\n",
       "      <th>2022-07-01</th>\n",
       "      <td>6</td>\n",
       "    </tr>\n",
       "    <tr>\n",
       "      <th>2022-06-29</th>\n",
       "      <td>8</td>\n",
       "    </tr>\n",
       "    <tr>\n",
       "      <th>...</th>\n",
       "      <td>...</td>\n",
       "    </tr>\n",
       "    <tr>\n",
       "      <th>2021-07-17</th>\n",
       "      <td>355</td>\n",
       "    </tr>\n",
       "    <tr>\n",
       "      <th>2021-07-15</th>\n",
       "      <td>357</td>\n",
       "    </tr>\n",
       "    <tr>\n",
       "      <th>2021-07-13</th>\n",
       "      <td>359</td>\n",
       "    </tr>\n",
       "    <tr>\n",
       "      <th>2021-07-11</th>\n",
       "      <td>361</td>\n",
       "    </tr>\n",
       "    <tr>\n",
       "      <th>2021-07-09</th>\n",
       "      <td>363</td>\n",
       "    </tr>\n",
       "  </tbody>\n",
       "</table>\n",
       "<p>186 rows × 1 columns</p>\n",
       "</div>"
      ],
      "text/plain": [
       "             개수\n",
       "2022-07-07    0\n",
       "2022-07-05    2\n",
       "2020-06-04    4\n",
       "2022-07-01    6\n",
       "2022-06-29    8\n",
       "...         ...\n",
       "2021-07-17  355\n",
       "2021-07-15  357\n",
       "2021-07-13  359\n",
       "2021-07-11  361\n",
       "2021-07-09  363\n",
       "\n",
       "[186 rows x 1 columns]"
      ]
     },
     "execution_count": 113,
     "metadata": {},
     "output_type": "execute_result"
    }
   ],
   "source": [
    "a = somedf.index[2]\n",
    "b = pd.Timestamp('2020-06-04')\n",
    "somedf.rename({a:b})"
   ]
  },
  {
   "cell_type": "code",
   "execution_count": 115,
   "metadata": {},
   "outputs": [
    {
     "data": {
      "text/plain": [
       "pandas._libs.tslibs.timedeltas.Timedelta"
      ]
     },
     "execution_count": 115,
     "metadata": {},
     "output_type": "execute_result"
    }
   ],
   "source": [
    "type(ebola['발생기간'][0])"
   ]
  },
  {
   "cell_type": "code",
   "execution_count": 124,
   "metadata": {},
   "outputs": [
    {
     "data": {
      "text/plain": [
       "Int64Index([2740, 2741, 2742, 2743, 2745, 2748, 2749, 2752, 2755, 2756,\n",
       "            ...\n",
       "            3016, 3019, 3020, 3022, 3023, 3024, 3025, 3026, 3027, 3029],\n",
       "           dtype='int64', name='Date', length=122)"
      ]
     },
     "execution_count": 124,
     "metadata": {},
     "output_type": "execute_result"
    }
   ],
   "source": [
    "# 새로운 방법\n",
    "from datetime import datetime\n",
    "currentTm = datetime.today()\n",
    "d_days = currentTm - ebola.index\n",
    "d_days.days"
   ]
  },
  {
   "cell_type": "markdown",
   "metadata": {},
   "source": [
    "-datetime -> year, month, day 등  \n",
    "-timedelta -> 일, 초, 밀리초, 나노초 등\n",
    "\n",
    "\n"
   ]
  },
  {
   "cell_type": "code",
   "execution_count": null,
   "metadata": {},
   "outputs": [],
   "source": []
  }
 ],
 "metadata": {
  "kernelspec": {
   "display_name": "Python 3.9.12 ('base')",
   "language": "python",
   "name": "python3"
  },
  "language_info": {
   "codemirror_mode": {
    "name": "ipython",
    "version": 3
   },
   "file_extension": ".py",
   "mimetype": "text/x-python",
   "name": "python",
   "nbconvert_exporter": "python",
   "pygments_lexer": "ipython3",
   "version": "3.9.12"
  },
  "orig_nbformat": 4,
  "vscode": {
   "interpreter": {
    "hash": "ad2bdc8ecc057115af97d19610ffacc2b4e99fae6737bb82f5d7fb13d2f2c186"
   }
  }
 },
 "nbformat": 4,
 "nbformat_minor": 2
}
