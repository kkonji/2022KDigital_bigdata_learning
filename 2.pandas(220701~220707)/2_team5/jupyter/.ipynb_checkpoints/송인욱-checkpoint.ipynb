{
 "cells": [
  {
   "cell_type": "markdown",
   "metadata": {},
   "source": [
    "# 송인욱_서울시 전기차 현황 분석"
   ]
  },
  {
   "cell_type": "code",
   "execution_count": 77,
   "metadata": {},
   "outputs": [],
   "source": [
    "# module import\n",
    "import pandas as pd\n",
    "import numpy as np"
   ]
  },
  {
   "cell_type": "markdown",
   "metadata": {},
   "source": [
    "## 파일 불러오기 및 전처리 (연료별)"
   ]
  },
  {
   "cell_type": "code",
   "execution_count": 78,
   "metadata": {},
   "outputs": [],
   "source": [
    "# 파일 불러오기\n",
    "DIR_PATH = '../Data_inuk/'\n",
    "FILE1 = '05~19년 자치구별 연료별 자동차 등록현황.csv'\n",
    "FILE2 = '20~21년 자치구별 연료별 자동차 등록현황.csv'\n",
    "\n",
    "seoul0519 = pd.read_csv(DIR_PATH + FILE1)\n",
    "seoul2021 = pd.read_csv(DIR_PATH + FILE2, header=1)"
   ]
  },
  {
   "cell_type": "markdown",
   "metadata": {},
   "source": [
    "### 전처리해야할 데이터 확인"
   ]
  },
  {
   "cell_type": "code",
   "execution_count": 79,
   "metadata": {},
   "outputs": [
    {
     "name": "stdout",
     "output_type": "stream",
     "text": [
      "<class 'pandas.core.frame.DataFrame'>\n",
      "RangeIndex: 6279 entries, 0 to 6278\n",
      "Data columns (total 9 columns):\n",
      " #   Column  Non-Null Count  Dtype \n",
      "---  ------  --------------  ----- \n",
      " 0   연도      6279 non-null   int64 \n",
      " 1   시군구별    6279 non-null   object\n",
      " 2   연료별     6279 non-null   object\n",
      " 3   용도별     6279 non-null   object\n",
      " 4   승용      6279 non-null   int64 \n",
      " 5   승합      6279 non-null   int64 \n",
      " 6   화물      6279 non-null   int64 \n",
      " 7   특수      6279 non-null   int64 \n",
      " 8   계       6279 non-null   int64 \n",
      "dtypes: int64(6), object(3)\n",
      "memory usage: 441.6+ KB\n",
      "<class 'pandas.core.frame.DataFrame'>\n",
      "RangeIndex: 3077 entries, 0 to 3076\n",
      "Data columns (total 7 columns):\n",
      " #   Column    Non-Null Count  Dtype \n",
      "---  ------    --------------  ----- \n",
      " 0   연월        3077 non-null   int64 \n",
      " 1   사용본거지시군구  3077 non-null   object\n",
      " 2   시군구코드     3077 non-null   int64 \n",
      " 3   용도        3077 non-null   object\n",
      " 4   차종종별      3077 non-null   object\n",
      " 5   연료        3077 non-null   object\n",
      " 6   건수        3077 non-null   int64 \n",
      "dtypes: int64(3), object(4)\n",
      "memory usage: 168.4+ KB\n"
     ]
    },
    {
     "data": {
      "text/plain": [
       "(None, None)"
      ]
     },
     "execution_count": 79,
     "metadata": {},
     "output_type": "execute_result"
    }
   ],
   "source": [
    "seoul0519.info(), seoul2021.info()"
   ]
  },
  {
   "cell_type": "code",
   "execution_count": 80,
   "metadata": {},
   "outputs": [
    {
     "data": {
      "text/plain": [
       "(연도      0\n",
       " 시군구별    0\n",
       " 연료별     0\n",
       " 용도별     0\n",
       " 승용      0\n",
       " 승합      0\n",
       " 화물      0\n",
       " 특수      0\n",
       " 계       0\n",
       " dtype: int64,\n",
       " 연월          0\n",
       " 사용본거지시군구    0\n",
       " 시군구코드       0\n",
       " 용도          0\n",
       " 차종종별        0\n",
       " 연료          0\n",
       " 건수          0\n",
       " dtype: int64)"
      ]
     },
     "execution_count": 80,
     "metadata": {},
     "output_type": "execute_result"
    }
   ],
   "source": [
    "# 결측치 확인\n",
    "seoul0519.isnull().sum(), seoul2021.isnull().sum()"
   ]
  },
  {
   "cell_type": "code",
   "execution_count": 81,
   "metadata": {},
   "outputs": [
    {
     "data": {
      "text/plain": [
       "(Index(['연도', '시군구별', '연료별', '용도별', '승용', '승합', '화물', '특수', '계'], dtype='object'),\n",
       " Index(['연월', '사용본거지시군구', '시군구코드', '용도', '차종종별', '연료', '건수'], dtype='object'))"
      ]
     },
     "execution_count": 81,
     "metadata": {},
     "output_type": "execute_result"
    }
   ],
   "source": [
    "# 컬럼 이름 확인\n",
    "seoul0519.columns, seoul2021.columns\n",
    "# 승용, 승합, 화물, 특수 와 차종종별은 통합하기 힘들고 활용하기 어려우니 삭제처리"
   ]
  },
  {
   "cell_type": "code",
   "execution_count": 82,
   "metadata": {},
   "outputs": [
    {
     "data": {
      "text/plain": [
       "(array([2005, 2006, 2007, 2008, 2009, 2010, 2011, 2012, 2013, 2014, 2015,\n",
       "        2016, 2017, 2018, 2019], dtype=int64),\n",
       " array([202012, 202112], dtype=int64))"
      ]
     },
     "execution_count": 82,
     "metadata": {},
     "output_type": "execute_result"
    }
   ],
   "source": [
    "# 연도 데이터 확인\n",
    "seoul0519.연도.unique(), seoul2021.연월.unique()\n",
    "# 200X 데이터로 통합해야함"
   ]
  },
  {
   "cell_type": "code",
   "execution_count": 83,
   "metadata": {},
   "outputs": [
    {
     "data": {
      "text/plain": [
       "(array(['종로구', '중구', '용산구', '성동구', '광진구', '동대문구', '중랑구', '성북구', '강북구',\n",
       "        '도봉구', '노원구', '은평구', '서대문구', '마포구', '양천구', '강서구', '구로구', '금천구',\n",
       "        '영등포구', '동작구', '관악구', '서초구', '강남구', '송파구', '강동구', '합계', '합계 '],\n",
       "       dtype=object),\n",
       " array(['서울특별시 종로구', '서울특별시 중구', '서울특별시 용산구', '서울특별시 성동구', '서울특별시 광진구',\n",
       "        '서울특별시 동대문구', '서울특별시 중랑구', '서울특별시 성북구', '서울특별시 강북구', '서울특별시 도봉구',\n",
       "        '서울특별시 노원구', '서울특별시 은평구', '서울특별시 서대문구', '서울특별시 마포구', '서울특별시 양천구',\n",
       "        '서울특별시 강서구', '서울특별시 구로구', '서울특별시 금천구', '서울특별시 영등포구', '서울특별시 동작구',\n",
       "        '서울특별시 관악구', '서울특별시 서초구', '서울특별시 강남구', '서울특별시 송파구', '서울특별시 강동구'],\n",
       "       dtype=object))"
      ]
     },
     "execution_count": 83,
     "metadata": {},
     "output_type": "execute_result"
    }
   ],
   "source": [
    "# 시군구값 데이터 확인\n",
    "seoul0519.시군구별.unique(), seoul2021.사용본거지시군구.unique()\n",
    "# seoul2021 사용본거지시군구 컬럼에 서울특별시 빼야함"
   ]
  },
  {
   "cell_type": "code",
   "execution_count": 84,
   "metadata": {},
   "outputs": [
    {
     "data": {
      "text/plain": [
       "(array(['CNG', '경유', '기타연료', '엘피지', '휘발유', '휘발유(무연)', '휘발유(유연)', '등유',\n",
       "        '전기', '알코올', '계', '태양열', '하이브리드(휘발유+전기)', 'LNG', '하이브리드(LPG+전기)',\n",
       "        '하이브리드(경유+전기)', '하이브리드(CNG+전기)', '수소'], dtype=object),\n",
       " array(['휘발유', '경유', '기타연료', '엘피지', '전기', '휘발유(무연)', 'CNG', '휘발유(유연)',\n",
       "        '수소', '하이브리드(휘발유+전기)', '하이브리드(LPG+전기)', '하이브리드(경유+전기)',\n",
       "        '하이브리드(CNG+전기)'], dtype=object))"
      ]
     },
     "execution_count": 84,
     "metadata": {},
     "output_type": "execute_result"
    }
   ],
   "source": [
    "# 연료값 데이터 획인\n",
    "seoul0519.연료별.unique(), seoul2021.연료.unique()\n",
    "# 변경할 필요 없음 -> 비슷한 연료끼리 묶음"
   ]
  },
  {
   "cell_type": "code",
   "execution_count": 85,
   "metadata": {},
   "outputs": [],
   "source": [
    "hybrid = ['하이브리드(휘발유+전기)', '하이브리드(LPG+전기)', '하이브리드(경유+전기)', '하이브리드(CNG+전기)']\n",
    "fuel = ['휘발유', '휘발유(무연)', '휘발유(유연)']"
   ]
  },
  {
   "cell_type": "code",
   "execution_count": 86,
   "metadata": {},
   "outputs": [
    {
     "data": {
      "text/plain": [
       "(array(['비사업용', '사업용', '계'], dtype=object),\n",
       " array(['관용', '자가용', '영업용'], dtype=object))"
      ]
     },
     "execution_count": 86,
     "metadata": {},
     "output_type": "execute_result"
    }
   ],
   "source": [
    "# 용도 데이터 확인\n",
    "seoul0519.용도별.unique(), seoul2021.용도.unique()\n",
    "# 자가용, 사업용으로 구분하기, seoul0519 계 확인 -> NaN으로 바꿔서 삭제"
   ]
  },
  {
   "cell_type": "markdown",
   "metadata": {},
   "source": [
    "### 05 ~ 19년 데이터 전처리"
   ]
  },
  {
   "cell_type": "markdown",
   "metadata": {},
   "source": [
    "#### 용도별 컬럼 '계' 행 삭제"
   ]
  },
  {
   "cell_type": "code",
   "execution_count": 87,
   "metadata": {},
   "outputs": [
    {
     "data": {
      "text/plain": [
       "array(['비사업용', '사업용'], dtype=object)"
      ]
     },
     "execution_count": 87,
     "metadata": {},
     "output_type": "execute_result"
    }
   ],
   "source": [
    "seoul0519 = seoul0519.replace({'용도별': {'계': np.nan}})\n",
    "seoul0519 = seoul0519.dropna()\n",
    "seoul0519.용도별.unique()"
   ]
  },
  {
   "cell_type": "markdown",
   "metadata": {},
   "source": [
    "#### 용도별 컬럼의 비사업용을 자가용으로 변경"
   ]
  },
  {
   "cell_type": "code",
   "execution_count": 88,
   "metadata": {},
   "outputs": [
    {
     "data": {
      "text/plain": [
       "array(['자가용', '사업용'], dtype=object)"
      ]
     },
     "execution_count": 88,
     "metadata": {},
     "output_type": "execute_result"
    }
   ],
   "source": [
    "seoul0519 = seoul0519.replace({'용도별': {'비사업용': '자가용'}})\n",
    "seoul0519.용도별.unique()"
   ]
  },
  {
   "cell_type": "markdown",
   "metadata": {},
   "source": [
    "#### ['승용', '승합', '화물', '특수'] 컬럼 삭제"
   ]
  },
  {
   "cell_type": "code",
   "execution_count": 89,
   "metadata": {},
   "outputs": [
    {
     "data": {
      "text/plain": [
       "Index(['연도', '시군구별', '연료별', '용도별', '승용', '승합', '화물', '특수', '계'], dtype='object')"
      ]
     },
     "execution_count": 89,
     "metadata": {},
     "output_type": "execute_result"
    }
   ],
   "source": [
    "seoul0519.columns"
   ]
  },
  {
   "cell_type": "code",
   "execution_count": 90,
   "metadata": {},
   "outputs": [
    {
     "data": {
      "text/plain": [
       "Index(['연도', '시군구별', '연료별', '용도별', '계'], dtype='object')"
      ]
     },
     "execution_count": 90,
     "metadata": {},
     "output_type": "execute_result"
    }
   ],
   "source": [
    "seoul0519 = seoul0519.drop(columns=['승용', '승합', '화물', '특수'])\n",
    "seoul0519.columns"
   ]
  },
  {
   "cell_type": "markdown",
   "metadata": {},
   "source": [
    "#### 데이터 확인"
   ]
  },
  {
   "cell_type": "code",
   "execution_count": 91,
   "metadata": {},
   "outputs": [
    {
     "name": "stdout",
     "output_type": "stream",
     "text": [
      "<class 'pandas.core.frame.DataFrame'>\n",
      "Int64Index: 6265 entries, 0 to 6278\n",
      "Data columns (total 5 columns):\n",
      " #   Column  Non-Null Count  Dtype \n",
      "---  ------  --------------  ----- \n",
      " 0   연도      6265 non-null   int64 \n",
      " 1   시군구별    6265 non-null   object\n",
      " 2   연료별     6265 non-null   object\n",
      " 3   용도별     6265 non-null   object\n",
      " 4   계       6265 non-null   int64 \n",
      "dtypes: int64(2), object(3)\n",
      "memory usage: 293.7+ KB\n"
     ]
    }
   ],
   "source": [
    "seoul0519.info()"
   ]
  },
  {
   "cell_type": "markdown",
   "metadata": {},
   "source": [
    "### 20 ~ 21년 데이터 전처리"
   ]
  },
  {
   "cell_type": "markdown",
   "metadata": {},
   "source": [
    "#### 15 ~ 19년 데이터와 컬럼 맞추기"
   ]
  },
  {
   "cell_type": "code",
   "execution_count": 92,
   "metadata": {},
   "outputs": [
    {
     "data": {
      "text/plain": [
       "Index(['연도', '시군구별', '시군구코드', '연료별', '용도별', '차종종별', '계'], dtype='object')"
      ]
     },
     "execution_count": 92,
     "metadata": {},
     "output_type": "execute_result"
    }
   ],
   "source": [
    "# 컬럼 순서 재배열\n",
    "seoul2021 = seoul2021[[\"연월\", \"사용본거지시군구\", \"시군구코드\", \"연료\", \"용도\", \"차종종별\", \"건수\"]]\n",
    "# 컬럼 이름 맞추기\n",
    "seoul2021 = seoul2021.rename(\n",
    "    columns={\"연월\": \"연도\", \"사용본거지시군구\": \"시군구별\", \"연료\": \"연료별\", \"용도\": \"용도별\", \"건수\": \"계\"}\n",
    ")\n",
    "seoul2021.columns"
   ]
  },
  {
   "cell_type": "markdown",
   "metadata": {},
   "source": [
    "#### 시군구별 컬럼값에서 서울특별시 삭제"
   ]
  },
  {
   "cell_type": "code",
   "execution_count": 93,
   "metadata": {},
   "outputs": [
    {
     "data": {
      "text/plain": [
       "array(['종로구', '중구', '용산구', '성동구', '광진구', '동대문구', '중랑구', '성북구', '강북구',\n",
       "       '도봉구', '노원구', '은평구', '서대문구', '마포구', '양천구', '강서구', '구로구', '금천구',\n",
       "       '영등포구', '동작구', '관악구', '서초구', '강남구', '송파구', '강동구'], dtype=object)"
      ]
     },
     "execution_count": 93,
     "metadata": {},
     "output_type": "execute_result"
    }
   ],
   "source": [
    "new = [i.replace('서울특별시 ', '') for i in seoul2021['시군구별']]\n",
    "seoul2021['시군구별'] = new\n",
    "seoul2021.시군구별.unique()"
   ]
  },
  {
   "cell_type": "markdown",
   "metadata": {},
   "source": [
    "#### 연도 데이터 맞추기"
   ]
  },
  {
   "cell_type": "code",
   "execution_count": 94,
   "metadata": {},
   "outputs": [
    {
     "data": {
      "text/plain": [
       "array([2020, 2021], dtype=int64)"
      ]
     },
     "execution_count": 94,
     "metadata": {},
     "output_type": "execute_result"
    }
   ],
   "source": [
    "seoul2021 = seoul2021.replace(\n",
    "    {'연도': {202012: 2020, 202112: 2021}}\n",
    "    )\n",
    "seoul2021.연도.unique()"
   ]
  },
  {
   "cell_type": "markdown",
   "metadata": {},
   "source": [
    "#### 용도별 컬럼에서 관용, 영업용을 사업용으로 변경하기"
   ]
  },
  {
   "cell_type": "code",
   "execution_count": 95,
   "metadata": {},
   "outputs": [
    {
     "data": {
      "text/plain": [
       "array(['사업용', '자가용'], dtype=object)"
      ]
     },
     "execution_count": 95,
     "metadata": {},
     "output_type": "execute_result"
    }
   ],
   "source": [
    "seoul2021 = seoul2021.replace({'용도별': {'관용': '사업용', '영업용': '사업용'}})\n",
    "seoul2021.용도별.unique()"
   ]
  },
  {
   "cell_type": "markdown",
   "metadata": {},
   "source": [
    "#### 컬럼 삭제"
   ]
  },
  {
   "cell_type": "code",
   "execution_count": 96,
   "metadata": {},
   "outputs": [
    {
     "data": {
      "text/plain": [
       "Index(['연도', '시군구별', '연료별', '용도별', '계'], dtype='object')"
      ]
     },
     "execution_count": 96,
     "metadata": {},
     "output_type": "execute_result"
    }
   ],
   "source": [
    "# 차종종별 컬럼 삭제\n",
    "seoul2021 = seoul2021.drop(columns=['차종종별'])\n",
    "# 시군구코드 컬럼 삭제\n",
    "seoul2021 = seoul2021.drop(columns=['시군구코드'])\n",
    "seoul2021.columns"
   ]
  },
  {
   "cell_type": "markdown",
   "metadata": {},
   "source": [
    "#### 차종종별 컬럼 삭제후 중복 확인 및 중복컬럼 값 더해서 데이터 정리"
   ]
  },
  {
   "cell_type": "code",
   "execution_count": 97,
   "metadata": {},
   "outputs": [
    {
     "data": {
      "text/plain": [
       "0       False\n",
       "1       False\n",
       "2       False\n",
       "3        True\n",
       "4       False\n",
       "        ...  \n",
       "3072     True\n",
       "3073     True\n",
       "3074     True\n",
       "3075     True\n",
       "3076     True\n",
       "Length: 3077, dtype: bool"
      ]
     },
     "execution_count": 97,
     "metadata": {},
     "output_type": "execute_result"
    }
   ],
   "source": [
    "seoul2021.duplicated(['연도', '시군구별', '연료별', '용도별'])"
   ]
  },
  {
   "cell_type": "code",
   "execution_count": 98,
   "metadata": {},
   "outputs": [
    {
     "name": "stdout",
     "output_type": "stream",
     "text": [
      "<class 'pandas.core.frame.DataFrame'>\n",
      "RangeIndex: 3077 entries, 0 to 3076\n",
      "Data columns (total 5 columns):\n",
      " #   Column  Non-Null Count  Dtype \n",
      "---  ------  --------------  ----- \n",
      " 0   연도      3077 non-null   int64 \n",
      " 1   시군구별    3077 non-null   object\n",
      " 2   연료별     3077 non-null   object\n",
      " 3   용도별     3077 non-null   object\n",
      " 4   계       3077 non-null   int64 \n",
      "dtypes: int64(2), object(3)\n",
      "memory usage: 120.3+ KB\n"
     ]
    }
   ],
   "source": [
    "seoul2021.info()"
   ]
  },
  {
   "cell_type": "code",
   "execution_count": 99,
   "metadata": {},
   "outputs": [
    {
     "name": "stdout",
     "output_type": "stream",
     "text": [
      "<class 'pandas.core.frame.DataFrame'>\n",
      "RangeIndex: 1133 entries, 0 to 1132\n",
      "Data columns (total 5 columns):\n",
      " #   Column  Non-Null Count  Dtype \n",
      "---  ------  --------------  ----- \n",
      " 0   연도      1133 non-null   int64 \n",
      " 1   시군구별    1133 non-null   object\n",
      " 2   연료별     1133 non-null   object\n",
      " 3   용도별     1133 non-null   object\n",
      " 4   계       1133 non-null   int64 \n",
      "dtypes: int64(2), object(3)\n",
      "memory usage: 44.4+ KB\n"
     ]
    }
   ],
   "source": [
    "seoul2021 = seoul2021.groupby(['연도', '시군구별', '연료별', '용도별']).sum().reset_index()\n",
    "# 데이터 확인\n",
    "seoul2021.info()"
   ]
  },
  {
   "cell_type": "markdown",
   "metadata": {},
   "source": [
    "### 총합 데이터 생성"
   ]
  },
  {
   "cell_type": "code",
   "execution_count": 100,
   "metadata": {},
   "outputs": [
    {
     "data": {
      "text/plain": [
       "(     연도 시군구별   연료별  용도별      계\n",
       " 0  2005  종로구   CNG  자가용      5\n",
       " 1  2005  종로구   CNG  사업용     77\n",
       " 2  2005  종로구    경유  자가용  16332\n",
       " 3  2005  종로구    경유  사업용   2492\n",
       " 4  2005  종로구  기타연료  자가용     19,\n",
       "      연도 시군구별   연료별  용도별      계\n",
       " 0  2020  강남구   CNG  사업용    208\n",
       " 1  2020  강남구   CNG  자가용     66\n",
       " 2  2020  강남구    경유  사업용   4363\n",
       " 3  2020  강남구    경유  자가용  65413\n",
       " 4  2020  강남구  기타연료  사업용    277)"
      ]
     },
     "execution_count": 100,
     "metadata": {},
     "output_type": "execute_result"
    }
   ],
   "source": [
    "seoul0519.head(), seoul2021.head()"
   ]
  },
  {
   "cell_type": "code",
   "execution_count": 101,
   "metadata": {},
   "outputs": [
    {
     "name": "stdout",
     "output_type": "stream",
     "text": [
      "<class 'pandas.core.frame.DataFrame'>\n",
      "RangeIndex: 7398 entries, 0 to 7397\n",
      "Data columns (total 6 columns):\n",
      " #   Column  Non-Null Count  Dtype \n",
      "---  ------  --------------  ----- \n",
      " 0   index   7398 non-null   int64 \n",
      " 1   연도      7398 non-null   int64 \n",
      " 2   시군구별    7398 non-null   object\n",
      " 3   연료별     7398 non-null   object\n",
      " 4   용도별     7398 non-null   object\n",
      " 5   계       7398 non-null   int64 \n",
      "dtypes: int64(3), object(3)\n",
      "memory usage: 346.9+ KB\n"
     ]
    }
   ],
   "source": [
    "seoul0521 = pd.concat([seoul0519, seoul2021],axis=0).reset_index()\n",
    "seoul0521.info()"
   ]
  },
  {
   "cell_type": "code",
   "execution_count": 102,
   "metadata": {},
   "outputs": [
    {
     "data": {
      "text/plain": [
       "경유               850\n",
       "엘피지              850\n",
       "휘발유(무연)          847\n",
       "휘발유              843\n",
       "기타연료             836\n",
       "CNG              835\n",
       "하이브리드(휘발유+전기)    580\n",
       "전기               466\n",
       "하이브리드(LPG+전기)    432\n",
       "휘발유(유연)          405\n",
       "하이브리드(경유+전기)     179\n",
       "수소               154\n",
       "하이브리드(CNG+전기)     58\n",
       "알코올               25\n",
       "태양열               17\n",
       "등유                13\n",
       "LNG                8\n",
       "Name: 연료별, dtype: int64"
      ]
     },
     "execution_count": 102,
     "metadata": {},
     "output_type": "execute_result"
    }
   ],
   "source": [
    "seoul0521.연료별.value_counts()"
   ]
  },
  {
   "cell_type": "markdown",
   "metadata": {},
   "source": [
    "## 데이터 분석"
   ]
  },
  {
   "cell_type": "code",
   "execution_count": 103,
   "metadata": {},
   "outputs": [],
   "source": [
    "# module import\n",
    "import matplotlib.pyplot as plt\n",
    "from matplotlib import font_manager as fm, rc"
   ]
  },
  {
   "cell_type": "code",
   "execution_count": 104,
   "metadata": {},
   "outputs": [],
   "source": [
    "# 폰트 등록하기\n",
    "FONT_PATH = '../Fonts/malgun.ttf'\n",
    "font_name = fm.FontProperties(fname=FONT_PATH).get_name()\n",
    "rc('font', family=font_name)"
   ]
  },
  {
   "cell_type": "code",
   "execution_count": 105,
   "metadata": {},
   "outputs": [],
   "source": [
    "# 연도 리스트 생성\n",
    "yearList = list(range(2005,2022))"
   ]
  },
  {
   "cell_type": "code",
   "execution_count": 106,
   "metadata": {},
   "outputs": [],
   "source": [
    "# 함수명 : makeDFlist\n",
    "# 기능 : 총 데이터 프레임에서 컬럼, 조건 받아서 데이터프레임 리스트로 나눠주는 함수\n",
    "# 파라미터 : col, vaList\n",
    "# 결과값 : list\n",
    "def makeDFlist(col, valList):\n",
    "    list = []\n",
    "    for i in valList:\n",
    "        result = seoul0521[col] == i\n",
    "        list.append(seoul0521[result])\n",
    "    return list"
   ]
  },
  {
   "cell_type": "code",
   "execution_count": 107,
   "metadata": {},
   "outputs": [],
   "source": [
    "# 함수명 : makeDFlistRe\n",
    "# 기능 : 데이터 프레임 리스트에서 조건 걸어주는 함수\n",
    "# 파라미터 : col, valList\n",
    "# 결과값 : list\n",
    "def makeDFlistRe(dflist, col, val):\n",
    "    new = []\n",
    "    for i in dflist:\n",
    "        result = i[col] == val\n",
    "        add = i[result]\n",
    "        new.append(add)\n",
    "    return new"
   ]
  },
  {
   "cell_type": "code",
   "execution_count": 108,
   "metadata": {},
   "outputs": [],
   "source": [
    "# 함수명 : makeSumList\n",
    "# 기능 : 데이터프레임 리스트에서 컬럼과 조건을 받아 갯수 합 어레이 구해주는 함수\n",
    "# 파라미터 : dflist, col, value\n",
    "# 결과값 : 계 합 array\n",
    "def makeSumlist(dflist, col, value):\n",
    "    new =[]\n",
    "    for i in dflist:\n",
    "        result = i[col] == value\n",
    "        add = i[result].계.sum()\n",
    "        new.append(add)\n",
    "    return np.array(new)"
   ]
  },
  {
   "cell_type": "markdown",
   "metadata": {},
   "source": [
    "### 연도별 전기차 등록 대수변화"
   ]
  },
  {
   "cell_type": "code",
   "execution_count": 109,
   "metadata": {},
   "outputs": [],
   "source": [
    "yearDfList = makeDFlist('연도',yearList)\n",
    "npElec = makeSumlist(yearDfList, '연료별', '전기')"
   ]
  },
  {
   "cell_type": "code",
   "execution_count": 110,
   "metadata": {},
   "outputs": [
    {
     "data": {
      "text/plain": [
       "<function matplotlib.pyplot.show(close=None, block=None)>"
      ]
     },
     "execution_count": 110,
     "metadata": {},
     "output_type": "execute_result"
    },
    {
     "data": {
      "image/png": "[encoded data removed]",
      "text/plain": [
       "<Figure size 720x504 with 1 Axes>"
      ]
     },
     "metadata": {
      "needs_background": "light"
     },
     "output_type": "display_data"
    }
   ],
   "source": [
    "# 그래프\n",
    "plt.figure(figsize=(10,7))\n",
    "plt.plot(yearList, npElec)\n",
    "plt.legend(['전기차등록대수'])\n",
    "plt.xlabel('연도')\n",
    "plt.title('연도별 전기차 등록대수 변화')\n",
    "plt.show"
   ]
  },
  {
   "cell_type": "markdown",
   "metadata": {},
   "source": [
    "### 휘발유차 대비 전기차의 비율"
   ]
  },
  {
   "cell_type": "code",
   "execution_count": 111,
   "metadata": {},
   "outputs": [],
   "source": [
    "# 연도별 데이터프레임 리스트에서 휘발유 연료 어레이 생성\n",
    "npFuel = makeSumlist(yearDfList, '연료별', '휘발유')"
   ]
  },
  {
   "cell_type": "code",
   "execution_count": 112,
   "metadata": {},
   "outputs": [
    {
     "data": {
      "image/png": "[encoded data removed]",
      "text/plain": [
       "<Figure size 576x432 with 1 Axes>"
      ]
     },
     "metadata": {
      "needs_background": "light"
     },
     "output_type": "display_data"
    }
   ],
   "source": [
    "# stacked bar 정보\n",
    "labels = ['05 ~ 09', '10 ~ 13', '14 ~ 17', '18 ~ 21']\n",
    "elec_sum = [sum(npElec[1:5])/4, sum(npElec[5:9])/4, sum(npElec[9:13])/4, sum(npElec[13:17])/4]\n",
    "fuel_sum = [sum(npFuel[1:5])/4, sum(npFuel[5:9])/4, sum(npFuel[9:13])/4, sum(npFuel[13:17])/4]\n",
    "\n",
    "# 그래프 \n",
    "plt.figure(figsize=(8,6))\n",
    "plt.bar(labels, elec_sum, label='전기')\n",
    "plt.bar(labels, fuel_sum, bottom=elec_sum, label='휘발유')\n",
    "\n",
    "plt.xlabel('연도')\n",
    "plt.ylabel('등록대수')\n",
    "plt.title('연도별 전기/휘발유 등록대수')\n",
    "\n",
    "plt.legend()\n",
    "plt.show()"
   ]
  },
  {
   "cell_type": "markdown",
   "metadata": {},
   "source": [
    "### 연도별 전기차 자가용, 사업용 비율과 휘발유차 자가용, 사업용 비율 비교"
   ]
  },
  {
   "cell_type": "code",
   "execution_count": 113,
   "metadata": {},
   "outputs": [],
   "source": [
    "seoul0521Elec = makeDFlistRe(yearDfList, '연료별', '전기')                      # 연도별 데이터프레임 리스트에 전기차 조건으로 새로 구함\n",
    "homeElec = makeSumlist(seoul0521Elec, '용도별', '자가용')[5:]                   # 자가용 전기차 갯수 구함\n",
    "workElec = makeSumlist(seoul0521Elec, '용도별', '사업용')[5:]                   # 사업용 전기차 갯수 구함\n",
    "totalElec = homeElec + workElec\n",
    "\n",
    "homeElecRatio = homeElec / totalElec\n",
    "workElecRatio = workElec / totalElec"
   ]
  },
  {
   "cell_type": "code",
   "execution_count": 114,
   "metadata": {},
   "outputs": [],
   "source": [
    "seoul0521Fuel = makeDFlistRe(yearDfList, '연료별', '휘발유')                      # 연도별 데이터프레임 리스트에 휘발유차 조건으로 새로 구함\n",
    "homeFuel = makeSumlist(seoul0521Fuel, '용도별', '자가용')[5:]                     # 자가용 휘발유치 갯수 구함\n",
    "workFuel = makeSumlist(seoul0521Fuel, '용도별', '사업용')[5:]                     # 사업용 휘발유차 갯수 구함\n",
    "totalFuel = homeFuel + workFuel\n",
    "\n",
    "homeFuelRatio = homeFuel / totalFuel\n",
    "workFuelRatio = workFuel / totalFuel"
   ]
  },
  {
   "cell_type": "code",
   "execution_count": 115,
   "metadata": {},
   "outputs": [],
   "source": [
    "seoul0521CNG = makeDFlistRe(yearDfList, '연료별', 'CNG')                      # 연도별 데이터프레임 리스트에 휘발유차 조건으로 새로 구함\n",
    "homeCNG = makeSumlist(seoul0521CNG, '용도별', '자가용')[5:]                     # 자가용 휘발유치 갯수 구함\n",
    "workCNG = makeSumlist(seoul0521CNG, '용도별', '사업용')[5:]                     # 사업용 휘발유차 갯수 구함\n",
    "totalCNG = homeCNG + workCNG\n",
    "\n",
    "homeCNGRatio = homeCNG / totalCNG\n",
    "workCNGRatio = workCNG / totalCNG"
   ]
  },
  {
   "cell_type": "code",
   "execution_count": 116,
   "metadata": {},
   "outputs": [
    {
     "data": {
      "image/png": "[encoded data removed]",
      "text/plain": [
       "<Figure size 1080x360 with 3 Axes>"
      ]
     },
     "metadata": {
      "needs_background": "light"
     },
     "output_type": "display_data"
    }
   ],
   "source": [
    "fig = plt.figure(figsize=(15,5))\n",
    "\n",
    "ax1 = fig.add_subplot(131)\n",
    "ax1.set_title('전기차')\n",
    "ax1.plot(yearList[5:], homeElecRatio, label='자가용')\n",
    "ax1.plot(yearList[5:], workElecRatio, label='사업용')\n",
    "ax1.legend()\n",
    "\n",
    "ax2 = fig.add_subplot(132)\n",
    "ax2.set_title('휘발유차')\n",
    "ax2.plot(yearList[5:], homeFuelRatio, label='자가용')\n",
    "ax2.plot(yearList[5:], workFuelRatio, label='사업용')\n",
    "ax2.legend()\n",
    "\n",
    "ax3 = fig.add_subplot(133)\n",
    "ax3.set_title('CNG')\n",
    "ax3.plot(yearList[5:], homeCNGRatio, label='자가용')\n",
    "ax3.plot(yearList[5:], workCNGRatio, label='사업용')\n",
    "ax3.legend()\n",
    "\n",
    "plt.show()"
   ]
  },
  {
   "cell_type": "markdown",
   "metadata": {},
   "source": [
    "### 지역별 전기차 사용 정도"
   ]
  },
  {
   "cell_type": "code",
   "execution_count": 117,
   "metadata": {},
   "outputs": [
    {
     "data": {
      "text/plain": [
       "array([ 1380,  2919,  2214,  3901,  1296,  1366,  1649,  2056,  1092,\n",
       "        1398,  1946,  1924,  1451,  3468,  2325,  3490,  5265,  1636,\n",
       "        6827,  1663,  1614,  7977, 31912,  4175,  2601], dtype=int64)"
      ]
     },
     "execution_count": 117,
     "metadata": {},
     "output_type": "execute_result"
    }
   ],
   "source": [
    "# 지역 리스트 구함\n",
    "localList = list(seoul0521.시군구별.unique())\n",
    "# 지역별 데이터프레임 리스트 만듬\n",
    "local = makeDFlist('시군구별', localList)\n",
    "# 지역별 전기차 합 리스트\n",
    "localSumList = makeSumlist(local, '연료별', '전기')\n",
    "localSumList"
   ]
  },
  {
   "cell_type": "code",
   "execution_count": 118,
   "metadata": {},
   "outputs": [
    {
     "data": {
      "text/html": [
       "<div>\n",
       "<style scoped>\n",
       "    .dataframe tbody tr th:only-of-type {\n",
       "        vertical-align: middle;\n",
       "    }\n",
       "\n",
       "    .dataframe tbody tr th {\n",
       "        vertical-align: top;\n",
       "    }\n",
       "\n",
       "    .dataframe thead th {\n",
       "        text-align: right;\n",
       "    }\n",
       "</style>\n",
       "<table border=\"1\" class=\"dataframe\">\n",
       "  <thead>\n",
       "    <tr style=\"text-align: right;\">\n",
       "      <th></th>\n",
       "      <th>기간</th>\n",
       "      <th>자치구</th>\n",
       "      <th>동</th>\n",
       "      <th>세대</th>\n",
       "      <th>계</th>\n",
       "      <th>남자</th>\n",
       "      <th>여자</th>\n",
       "      <th>계.1</th>\n",
       "      <th>남자.1</th>\n",
       "      <th>여자.1</th>\n",
       "      <th>계.2</th>\n",
       "      <th>남자.2</th>\n",
       "      <th>여자.2</th>\n",
       "      <th>세대당인구</th>\n",
       "      <th>65세이상고령자</th>\n",
       "    </tr>\n",
       "  </thead>\n",
       "  <tbody>\n",
       "    <tr>\n",
       "      <th>0</th>\n",
       "      <td>2021.4/4</td>\n",
       "      <td>합계</td>\n",
       "      <td>합계</td>\n",
       "      <td>4,426,007</td>\n",
       "      <td>9,736,027</td>\n",
       "      <td>4,721,977</td>\n",
       "      <td>5,014,050</td>\n",
       "      <td>9,509,458</td>\n",
       "      <td>4,618,040</td>\n",
       "      <td>4,891,418</td>\n",
       "      <td>226,569</td>\n",
       "      <td>103,937</td>\n",
       "      <td>122,632</td>\n",
       "      <td>2.15</td>\n",
       "      <td>1,605,416</td>\n",
       "    </tr>\n",
       "    <tr>\n",
       "      <th>1</th>\n",
       "      <td>2021.4/4</td>\n",
       "      <td>종로구</td>\n",
       "      <td>소계</td>\n",
       "      <td>73,494</td>\n",
       "      <td>153,789</td>\n",
       "      <td>74,186</td>\n",
       "      <td>79,603</td>\n",
       "      <td>144,683</td>\n",
       "      <td>70,183</td>\n",
       "      <td>74,500</td>\n",
       "      <td>9,106</td>\n",
       "      <td>4,003</td>\n",
       "      <td>5,103</td>\n",
       "      <td>1.97</td>\n",
       "      <td>27,818</td>\n",
       "    </tr>\n",
       "    <tr>\n",
       "      <th>2</th>\n",
       "      <td>2021.4/4</td>\n",
       "      <td>종로구</td>\n",
       "      <td>사직동</td>\n",
       "      <td>4,696</td>\n",
       "      <td>9,636</td>\n",
       "      <td>4,353</td>\n",
       "      <td>5,283</td>\n",
       "      <td>9,372</td>\n",
       "      <td>4,200</td>\n",
       "      <td>5,172</td>\n",
       "      <td>264</td>\n",
       "      <td>153</td>\n",
       "      <td>111</td>\n",
       "      <td>2.00</td>\n",
       "      <td>1,774</td>\n",
       "    </tr>\n",
       "    <tr>\n",
       "      <th>3</th>\n",
       "      <td>2021.4/4</td>\n",
       "      <td>종로구</td>\n",
       "      <td>삼청동</td>\n",
       "      <td>1,229</td>\n",
       "      <td>2,739</td>\n",
       "      <td>1,302</td>\n",
       "      <td>1,437</td>\n",
       "      <td>2,456</td>\n",
       "      <td>1,168</td>\n",
       "      <td>1,288</td>\n",
       "      <td>283</td>\n",
       "      <td>134</td>\n",
       "      <td>149</td>\n",
       "      <td>2.00</td>\n",
       "      <td>625</td>\n",
       "    </tr>\n",
       "    <tr>\n",
       "      <th>4</th>\n",
       "      <td>2021.4/4</td>\n",
       "      <td>종로구</td>\n",
       "      <td>부암동</td>\n",
       "      <td>4,265</td>\n",
       "      <td>9,782</td>\n",
       "      <td>4,686</td>\n",
       "      <td>5,096</td>\n",
       "      <td>9,579</td>\n",
       "      <td>4,570</td>\n",
       "      <td>5,009</td>\n",
       "      <td>203</td>\n",
       "      <td>116</td>\n",
       "      <td>87</td>\n",
       "      <td>2.25</td>\n",
       "      <td>1,802</td>\n",
       "    </tr>\n",
       "  </tbody>\n",
       "</table>\n",
       "</div>"
      ],
      "text/plain": [
       "         기간  자치구    동         세대          계         남자         여자        계.1  \\\n",
       "0  2021.4/4   합계   합계  4,426,007  9,736,027  4,721,977  5,014,050  9,509,458   \n",
       "1  2021.4/4  종로구   소계     73,494    153,789     74,186     79,603    144,683   \n",
       "2  2021.4/4  종로구  사직동      4,696      9,636      4,353      5,283      9,372   \n",
       "3  2021.4/4  종로구  삼청동      1,229      2,739      1,302      1,437      2,456   \n",
       "4  2021.4/4  종로구  부암동      4,265      9,782      4,686      5,096      9,579   \n",
       "\n",
       "        남자.1       여자.1      계.2     남자.2     여자.2  세대당인구   65세이상고령자  \n",
       "0  4,618,040  4,891,418  226,569  103,937  122,632   2.15  1,605,416  \n",
       "1     70,183     74,500    9,106    4,003    5,103   1.97     27,818  \n",
       "2      4,200      5,172      264      153      111   2.00      1,774  \n",
       "3      1,168      1,288      283      134      149   2.00        625  \n",
       "4      4,570      5,009      203      116       87   2.25      1,802  "
      ]
     },
     "execution_count": 118,
     "metadata": {},
     "output_type": "execute_result"
    }
   ],
   "source": [
    "# 서울시 인구 데이터 불러오기\n",
    "person = pd.read_csv(DIR_PATH+'Report.csv',header=2)\n",
    "person.head()"
   ]
  },
  {
   "cell_type": "code",
   "execution_count": 119,
   "metadata": {},
   "outputs": [
    {
     "data": {
      "text/html": [
       "<div>\n",
       "<style scoped>\n",
       "    .dataframe tbody tr th:only-of-type {\n",
       "        vertical-align: middle;\n",
       "    }\n",
       "\n",
       "    .dataframe tbody tr th {\n",
       "        vertical-align: top;\n",
       "    }\n",
       "\n",
       "    .dataframe thead th {\n",
       "        text-align: right;\n",
       "    }\n",
       "</style>\n",
       "<table border=\"1\" class=\"dataframe\">\n",
       "  <thead>\n",
       "    <tr style=\"text-align: right;\">\n",
       "      <th></th>\n",
       "      <th>기간</th>\n",
       "      <th>자치구</th>\n",
       "      <th>동</th>\n",
       "      <th>세대</th>\n",
       "    </tr>\n",
       "  </thead>\n",
       "  <tbody>\n",
       "    <tr>\n",
       "      <th>1</th>\n",
       "      <td>2021.4/4</td>\n",
       "      <td>종로구</td>\n",
       "      <td>소계</td>\n",
       "      <td>73,494</td>\n",
       "    </tr>\n",
       "    <tr>\n",
       "      <th>19</th>\n",
       "      <td>2021.4/4</td>\n",
       "      <td>중구</td>\n",
       "      <td>소계</td>\n",
       "      <td>63,519</td>\n",
       "    </tr>\n",
       "    <tr>\n",
       "      <th>35</th>\n",
       "      <td>2021.4/4</td>\n",
       "      <td>용산구</td>\n",
       "      <td>소계</td>\n",
       "      <td>111,036</td>\n",
       "    </tr>\n",
       "    <tr>\n",
       "      <th>52</th>\n",
       "      <td>2021.4/4</td>\n",
       "      <td>성동구</td>\n",
       "      <td>소계</td>\n",
       "      <td>134,233</td>\n",
       "    </tr>\n",
       "    <tr>\n",
       "      <th>70</th>\n",
       "      <td>2021.4/4</td>\n",
       "      <td>광진구</td>\n",
       "      <td>소계</td>\n",
       "      <td>167,949</td>\n",
       "    </tr>\n",
       "  </tbody>\n",
       "</table>\n",
       "</div>"
      ],
      "text/plain": [
       "          기간  자치구   동       세대\n",
       "1   2021.4/4  종로구  소계   73,494\n",
       "19  2021.4/4   중구  소계   63,519\n",
       "35  2021.4/4  용산구  소계  111,036\n",
       "52  2021.4/4  성동구  소계  134,233\n",
       "70  2021.4/4  광진구  소계  167,949"
      ]
     },
     "execution_count": 119,
     "metadata": {},
     "output_type": "execute_result"
    }
   ],
   "source": [
    "# 동 행이 소계인 데이터에서 세대만 추출\n",
    "result = person['동'] == '소계'\n",
    "person = person[result]\n",
    "person = person.iloc[:,:4]\n",
    "person.head()"
   ]
  },
  {
   "cell_type": "code",
   "execution_count": 120,
   "metadata": {},
   "outputs": [
    {
     "data": {
      "text/html": [
       "<div>\n",
       "<style scoped>\n",
       "    .dataframe tbody tr th:only-of-type {\n",
       "        vertical-align: middle;\n",
       "    }\n",
       "\n",
       "    .dataframe tbody tr th {\n",
       "        vertical-align: top;\n",
       "    }\n",
       "\n",
       "    .dataframe thead th {\n",
       "        text-align: right;\n",
       "    }\n",
       "</style>\n",
       "<table border=\"1\" class=\"dataframe\">\n",
       "  <thead>\n",
       "    <tr style=\"text-align: right;\">\n",
       "      <th></th>\n",
       "      <th>자치구</th>\n",
       "      <th>세대</th>\n",
       "    </tr>\n",
       "  </thead>\n",
       "  <tbody>\n",
       "    <tr>\n",
       "      <th>0</th>\n",
       "      <td>종로구</td>\n",
       "      <td>73,494</td>\n",
       "    </tr>\n",
       "    <tr>\n",
       "      <th>1</th>\n",
       "      <td>중구</td>\n",
       "      <td>63,519</td>\n",
       "    </tr>\n",
       "    <tr>\n",
       "      <th>2</th>\n",
       "      <td>용산구</td>\n",
       "      <td>111,036</td>\n",
       "    </tr>\n",
       "    <tr>\n",
       "      <th>3</th>\n",
       "      <td>성동구</td>\n",
       "      <td>134,233</td>\n",
       "    </tr>\n",
       "    <tr>\n",
       "      <th>4</th>\n",
       "      <td>광진구</td>\n",
       "      <td>167,949</td>\n",
       "    </tr>\n",
       "  </tbody>\n",
       "</table>\n",
       "</div>"
      ],
      "text/plain": [
       "   자치구       세대\n",
       "0  종로구   73,494\n",
       "1   중구   63,519\n",
       "2  용산구  111,036\n",
       "3  성동구  134,233\n",
       "4  광진구  167,949"
      ]
     },
     "execution_count": 120,
     "metadata": {},
     "output_type": "execute_result"
    }
   ],
   "source": [
    "data1 = person.자치구\n",
    "data2 = person.세대\n",
    "localPerson = pd.concat([data1, data2], axis=1).reset_index(drop=1)\n",
    "localPerson.head()"
   ]
  },
  {
   "cell_type": "code",
   "execution_count": 121,
   "metadata": {},
   "outputs": [
    {
     "data": {
      "text/plain": [
       "array(['종로구', '중구', '용산구', '성동구', '광진구', '동대문구', '중랑구', '성북구', '강북구',\n",
       "       '도봉구', '노원구', '은평구', '서대문구', '마포구', '양천구', '강서구', '구로구', '금천구',\n",
       "       '영등포구', '동작구', '관악구', '서초구', '강남구', '송파구', '강동구'], dtype=object)"
      ]
     },
     "execution_count": 121,
     "metadata": {},
     "output_type": "execute_result"
    }
   ],
   "source": [
    "# 인덱스 확인\n",
    "localPerson.자치구.unique()"
   ]
  },
  {
   "cell_type": "code",
   "execution_count": null,
   "metadata": {},
   "outputs": [],
   "source": []
  },
  {
   "cell_type": "markdown",
   "metadata": {},
   "source": [
    "## 파일 불러오기 및 전처리 (친환경만)"
   ]
  },
  {
   "cell_type": "code",
   "execution_count": 122,
   "metadata": {},
   "outputs": [
    {
     "name": "stderr",
     "output_type": "stream",
     "text": [
      "C:\\Users\\User\\AppData\\Local\\Temp\\ipykernel_15484\\320607091.py:7: DtypeWarning: Columns (0,1,2,3,4) have mixed types. Specify dtype option on import or set low_memory=False.\n",
      "  add = pd.read_csv(DIR_PATH + FILE_NAME + str(i) + '.csv')\n"
     ]
    }
   ],
   "source": [
    "ecoYearList = list(range(2015,2022))\n",
    "\n",
    "# 15 ~ 21 년 데이터 df로 불러와서 리스트에 저장\n",
    "ecoYearDfList = []\n",
    "for i in ecoYearList:\n",
    "    FILE_NAME = '서울시 행정동별 친환경자동차 현황_'\n",
    "    add = pd.read_csv(DIR_PATH + FILE_NAME + str(i) + '.csv')\n",
    "    ecoYearDfList.append(add)"
   ]
  },
  {
   "cell_type": "code",
   "execution_count": 123,
   "metadata": {},
   "outputs": [
    {
     "name": "stdout",
     "output_type": "stream",
     "text": [
      "<class 'pandas.core.frame.DataFrame'>\n",
      "RangeIndex: 35079 entries, 0 to 35078\n",
      "Data columns (total 6 columns):\n",
      " #   Column           Non-Null Count  Dtype  \n",
      "---  ------           --------------  -----  \n",
      " 0   기준연월             35079 non-null  object \n",
      " 1   사용본거지시읍면동_행정동기준  35079 non-null  object \n",
      " 2   차명               35079 non-null  object \n",
      " 3   연료               35079 non-null  object \n",
      " 4   최초등록일            35079 non-null  object \n",
      " 5   현소유자의출생년도        24965 non-null  float64\n",
      "dtypes: float64(1), object(5)\n",
      "memory usage: 1.6+ MB\n"
     ]
    }
   ],
   "source": [
    "# 정보 확인\n",
    "ecoYearDfList[0].info()"
   ]
  },
  {
   "cell_type": "code",
   "execution_count": 124,
   "metadata": {},
   "outputs": [
    {
     "ename": "IndentationError",
     "evalue": "expected an indented block (1646649719.py, line 1)",
     "output_type": "error",
     "traceback": [
      "\u001b[1;36m  Input \u001b[1;32mIn [124]\u001b[1;36m\u001b[0m\n\u001b[1;33m    for i in ecoYearDfList:\u001b[0m\n\u001b[1;37m                           ^\u001b[0m\n\u001b[1;31mIndentationError\u001b[0m\u001b[1;31m:\u001b[0m expected an indented block\n"
     ]
    }
   ],
   "source": [
    "for i in ecoYearDfList:"
   ]
  },
  {
   "cell_type": "code",
   "execution_count": null,
   "metadata": {},
   "outputs": [
    {
     "data": {
      "text/plain": [
       "array([ 33928,  44887,  59444,  75262,  92104, 116951, 144334],\n",
       "      dtype=int64)"
      ]
     },
     "execution_count": 714,
     "metadata": {},
     "output_type": "execute_result"
    }
   ],
   "source": [
    "# 함수명 : CountDfList\n",
    "# 기능 : df list에 있는 리스트들에서 컬럼 조건에 맞는 개수 구해서 array로 반환\n",
    "# 파라미터 : Dflist, col, val\n",
    "# 결과값 : np.array\n",
    "def countDfList(Dflist, col, val, reverse=False):\n",
    "    total = []\n",
    "    if not reverse: \n",
    "        for i in Dflist:\n",
    "            result = i[col] == val\n",
    "            add = i[result]['차명'].count()\n",
    "            total.append(add)\n",
    "    else:\n",
    "        for i in Dflist:\n",
    "            result = i[col] != val\n",
    "            add = i[result]['차명'].count()\n",
    "            total.append(add)\n",
    "    return np.array(total)\n",
    "\n",
    "countDfList(ecoYearDfList, '연료', '전기', reverse=True)"
   ]
  },
  {
   "cell_type": "markdown",
   "metadata": {},
   "source": [
    "## 데이터 분석"
   ]
  },
  {
   "cell_type": "code",
   "execution_count": null,
   "metadata": {},
   "outputs": [
    {
     "data": {
      "text/plain": [
       "하이브리드(휘발유+전기)    112467\n",
       "전기                23393\n",
       "하이브리드(LPG+전기)      1812\n",
       "수소                 1671\n",
       "하이브리드(경유+전기)        950\n",
       "하이브리드(CNG+전기)        51\n",
       "Name: 연료, dtype: int64"
      ]
     },
     "execution_count": 715,
     "metadata": {},
     "output_type": "execute_result"
    }
   ],
   "source": [
    "# 연료의 속성별 개수 확인\n",
    "ecoYearDfList[5]['연료'].value_counts()\n",
    "# 하이브리드(휘발유+전기)와 전기, 총계 데이터를 분석해야함"
   ]
  },
  {
   "cell_type": "markdown",
   "metadata": {},
   "source": [
    "### 연도별 친환경차 연료 비율 변화"
   ]
  },
  {
   "cell_type": "code",
   "execution_count": null,
   "metadata": {},
   "outputs": [
    {
     "data": {
      "text/plain": [
       "array([2306, 2207, 2185, 2105, 2646, 4484, 6314], dtype=int64)"
      ]
     },
     "execution_count": 716,
     "metadata": {},
     "output_type": "execute_result"
    }
   ],
   "source": [
    "elecCount = countDfList(ecoYearDfList, '연료', '전기')\n",
    "reElecCount = countDfList(ecoYearDfList, '연료', '전기', reverse=True)\n",
    "hybridCount = countDfList(ecoYearDfList, '연료', '하이브리드(휘발유+전기)')\n",
    "elCount = reElecCount - hybridCount\n",
    "elCount"
   ]
  },
  {
   "cell_type": "code",
   "execution_count": null,
   "metadata": {},
   "outputs": [
    {
     "data": {
      "image/png": "[encoded data removed]",
      "text/plain": [
       "<Figure size 720x504 with 1 Axes>"
      ]
     },
     "metadata": {
      "needs_background": "light"
     },
     "output_type": "display_data"
    }
   ],
   "source": [
    "plt.figure(figsize=(10,7))\n",
    "\n",
    "plt.bar(ecoYearList, elecCount, color='yellow', label='전기')\n",
    "plt.bar(ecoYearList, hybridCount, bottom=elecCount, label='하이브리드')\n",
    "plt.bar(ecoYearList, elCount, bottom=elecCount+hybridCount, label='기타')\n",
    "\n",
    "plt.ylabel('등록대수')\n",
    "plt.xlabel('연도')\n",
    "plt.title('연도별 친환경차 연료 비율 변화')\n",
    "plt.legend()\n",
    "\n",
    "plt.show()"
   ]
  },
  {
   "cell_type": "code",
   "execution_count": null,
   "metadata": {},
   "outputs": [],
   "source": []
  }
 ],
 "metadata": {
  "kernelspec": {
   "display_name": "Python 3 (ipykernel)",
   "language": "python",
   "name": "python3"
  },
  "language_info": {
   "codemirror_mode": {
    "name": "ipython",
    "version": 3
   },
   "file_extension": ".py",
   "mimetype": "text/x-python",
   "name": "python",
   "nbconvert_exporter": "python",
   "pygments_lexer": "ipython3",
   "version": "3.9.12"
  },
  "vscode": {
   "interpreter": {
    "hash": "d1dde8d3f1fc6169eb2afb9c884f1482ff31994a855398e316a83a9dc8ff488b"
   }
  }
 },
 "nbformat": 4,
 "nbformat_minor": 2
}
