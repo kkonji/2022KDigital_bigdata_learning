{
 "cells": [
  {
   "cell_type": "markdown",
   "id": "aab1781b",
   "metadata": {},
   "source": [
    "### 1. 연도별 친환경자동차 종류별 등록 댓수 비교\n",
    "\n",
    "### 2. 연령대별 친환경자동차 종류별 등록 댓수 비교\n"
   ]
  },
  {
   "cell_type": "code",
   "execution_count": 510,
   "id": "7073d03c",
   "metadata": {},
   "outputs": [],
   "source": [
    "# 모듈 로딩\n",
    "import pandas as pd\n",
    "\n",
    "# 파일 변수 선언\n",
    "DIR_PATH='../Data_이재상/'\n",
    "FILE_NAME1=(DIR_PATH+\"친환경자동차 등록현황.csv\")\n",
    "FILE_NAME2=(DIR_PATH+\"친환경자동차 등록현황_2021.csv\")\n",
    "FILE_NAME3=(DIR_PATH+\"친환경자동차 등록현황_2020.csv\")\n",
    "FILE_NAME4=(DIR_PATH+\"친환경자동차 등록현황_2019.csv\")\n",
    "FILE_NAME5=(DIR_PATH+\"친환경자동차 등록현황_2018.csv\")\n",
    "FILE_NAME6=(DIR_PATH+\"친환경자동차 등록현황_2017.csv\")\n",
    "FILE_NAME7=(DIR_PATH+\"친환경자동차 등록현황_2016.csv\")\n",
    "FILE_NAME8=(DIR_PATH+\"친환경자동차 등록현황_2015.csv\")"
   ]
  },
  {
   "cell_type": "code",
   "execution_count": 511,
   "id": "b79ffdda",
   "metadata": {},
   "outputs": [],
   "source": [
    "# CSV 파일 로드\n",
    "carDF1=pd.read_csv(FILE_NAME1)\n",
    "carDF2=pd.read_csv(FILE_NAME2)\n",
    "carDF3=pd.read_csv(FILE_NAME3)\n",
    "carDF4=pd.read_csv(FILE_NAME4)\n",
    "carDF5=pd.read_csv(FILE_NAME5)\n",
    "carDF6=pd.read_csv(FILE_NAME6)\n",
    "carDF7=pd.read_csv(FILE_NAME7)\n",
    "carDF8=pd.read_csv(FILE_NAME8)"
   ]
  },
  {
   "cell_type": "code",
   "execution_count": 512,
   "id": "d60e4c17",
   "metadata": {},
   "outputs": [
    {
     "name": "stdout",
     "output_type": "stream",
     "text": [
      "<class 'pandas.core.frame.DataFrame'>\n",
      "RangeIndex: 189941 entries, 0 to 189940\n",
      "Data columns (total 6 columns):\n",
      " #   Column           Non-Null Count   Dtype  \n",
      "---  ------           --------------   -----  \n",
      " 0   기준년월             189941 non-null  object \n",
      " 1   사용본거지시읍면동_행정동기준  189930 non-null  object \n",
      " 2   차명               189941 non-null  object \n",
      " 3   연료               189941 non-null  object \n",
      " 4   최초등록일            189941 non-null  object \n",
      " 5   현소유자의출생년도        145145 non-null  float64\n",
      "dtypes: float64(1), object(5)\n",
      "memory usage: 8.7+ MB\n"
     ]
    }
   ],
   "source": [
    "carDF1.info()"
   ]
  },
  {
   "cell_type": "code",
   "execution_count": 513,
   "id": "26c4392f",
   "metadata": {},
   "outputs": [
    {
     "name": "stdout",
     "output_type": "stream",
     "text": [
      "<class 'pandas.core.frame.DataFrame'>\n",
      "RangeIndex: 184898 entries, 0 to 184897\n",
      "Data columns (total 6 columns):\n",
      " #   Column           Non-Null Count   Dtype  \n",
      "---  ------           --------------   -----  \n",
      " 0   기준년월             184898 non-null  object \n",
      " 1   사용본거지시읍면동_행정동기준  184887 non-null  object \n",
      " 2   차명               184898 non-null  object \n",
      " 3   연료               184898 non-null  object \n",
      " 4   최초등록일            184898 non-null  object \n",
      " 5   현소유자의출생년도        141232 non-null  float64\n",
      "dtypes: float64(1), object(5)\n",
      "memory usage: 8.5+ MB\n"
     ]
    }
   ],
   "source": [
    "carDF2.info()"
   ]
  },
  {
   "cell_type": "code",
   "execution_count": 514,
   "id": "4e2f95f4",
   "metadata": {
    "scrolled": true
   },
   "outputs": [
    {
     "name": "stdout",
     "output_type": "stream",
     "text": [
      "<class 'pandas.core.frame.DataFrame'>\n",
      "RangeIndex: 35079 entries, 0 to 35078\n",
      "Data columns (total 6 columns):\n",
      " #   Column           Non-Null Count  Dtype  \n",
      "---  ------           --------------  -----  \n",
      " 0   기준연월             35079 non-null  object \n",
      " 1   사용본거지시읍면동_행정동기준  35079 non-null  object \n",
      " 2   차명               35079 non-null  object \n",
      " 3   연료               35079 non-null  object \n",
      " 4   최초등록일            35079 non-null  object \n",
      " 5   현소유자의출생년도        24965 non-null  float64\n",
      "dtypes: float64(1), object(5)\n",
      "memory usage: 1.6+ MB\n"
     ]
    }
   ],
   "source": [
    "carDF8.info()"
   ]
  },
  {
   "cell_type": "code",
   "execution_count": 515,
   "id": "0108f45a",
   "metadata": {
    "scrolled": true
   },
   "outputs": [
    {
     "name": "stdout",
     "output_type": "stream",
     "text": [
      "<class 'pandas.core.frame.DataFrame'>\n",
      "RangeIndex: 852770 entries, 0 to 852769\n",
      "Data columns (total 6 columns):\n",
      " #   Column           Non-Null Count   Dtype  \n",
      "---  ------           --------------   -----  \n",
      " 0   기준년월             852770 non-null  object \n",
      " 1   사용본거지시읍면동_행정동기준  852663 non-null  object \n",
      " 2   차명               852770 non-null  object \n",
      " 3   연료               852770 non-null  object \n",
      " 4   최초등록일            852770 non-null  object \n",
      " 5   현소유자의출생년도        643966 non-null  float64\n",
      "dtypes: float64(1), object(5)\n",
      "memory usage: 39.0+ MB\n"
     ]
    }
   ],
   "source": [
    "# carDF8 데이터프레임 컬럼명 변경\n",
    "carDF8=carDF8.rename(columns={'기준연월':'기준년월'})\n",
    "\n",
    "# 연도별 데이터 결합\n",
    "allDF=pd.concat([carDF1,carDF2,carDF3,carDF4,carDF5,carDF6,carDF7,carDF8], ignore_index=True)\n",
    "allDF.info()"
   ]
  },
  {
   "cell_type": "code",
   "execution_count": 516,
   "id": "06c90a21",
   "metadata": {},
   "outputs": [
    {
     "name": "stdout",
     "output_type": "stream",
     "text": [
      "<class 'pandas.core.frame.DataFrame'>\n",
      "RangeIndex: 260385 entries, 0 to 260384\n",
      "Data columns (total 6 columns):\n",
      " #   Column           Non-Null Count   Dtype  \n",
      "---  ------           --------------   -----  \n",
      " 0   기준년월             260385 non-null  object \n",
      " 1   사용본거지시읍면동_행정동기준  260353 non-null  object \n",
      " 2   차명               260385 non-null  object \n",
      " 3   연료               260385 non-null  object \n",
      " 4   최초등록일            260385 non-null  object \n",
      " 5   현소유자의출생년도        222936 non-null  float64\n",
      "dtypes: float64(1), object(5)\n",
      "memory usage: 11.9+ MB\n"
     ]
    }
   ],
   "source": [
    "# 중복 데이터 제거\n",
    "carDF=allDF.drop_duplicates(subset=['사용본거지시읍면동_행정동기준','차명','연료','최초등록일','현소유자의출생년도'],ignore_index=True)\n",
    "carDF.info()"
   ]
  },
  {
   "cell_type": "code",
   "execution_count": 517,
   "id": "c6631edb",
   "metadata": {},
   "outputs": [
    {
     "data": {
      "text/plain": [
       "기준년월                   0\n",
       "사용본거지시읍면동_행정동기준       32\n",
       "차명                     0\n",
       "연료                     0\n",
       "최초등록일                  0\n",
       "현소유자의출생년도          37449\n",
       "dtype: int64"
      ]
     },
     "execution_count": 517,
     "metadata": {},
     "output_type": "execute_result"
    }
   ],
   "source": [
    "carDF.isnull().sum()"
   ]
  },
  {
   "cell_type": "code",
   "execution_count": 518,
   "id": "fc63bc58",
   "metadata": {},
   "outputs": [
    {
     "data": {
      "text/plain": [
       "하이브리드(휘발유+전기)    190893\n",
       "전기                23505\n",
       "하이브리드(LPG+전기)      4191\n",
       "수소                 2274\n",
       "하이브리드(경유+전기)       2073\n",
       "Name: 연료, dtype: int64"
      ]
     },
     "execution_count": 518,
     "metadata": {},
     "output_type": "execute_result"
    }
   ],
   "source": [
    "# '현소유자의출생년도' 컬럼 결측치 데이터 제거\n",
    "carDF=carDF.dropna(axis=0, subset=['현소유자의출생년도'])\n",
    "\n",
    "# 연료 데이터 종류 확인\n",
    "carDF['연료'].value_counts()"
   ]
  },
  {
   "cell_type": "code",
   "execution_count": 519,
   "id": "1ae298d5",
   "metadata": {},
   "outputs": [],
   "source": [
    "# 하이브리드로 통일하기 위해 연료 컬럼의 데이터 변경\n",
    "carDF=carDF.replace(['하이브리드(휘발유+전기)',\n",
    "                     '하이브리드(경유+전기)',\n",
    "                     '하이브리드(LPG+전기)',\n",
    "                     '하이브리드(CNG+전기)'], '하이브리드')"
   ]
  },
  {
   "cell_type": "code",
   "execution_count": 520,
   "id": "20f82f03",
   "metadata": {},
   "outputs": [
    {
     "data": {
      "text/html": [
       "<div>\n",
       "<style scoped>\n",
       "    .dataframe tbody tr th:only-of-type {\n",
       "        vertical-align: middle;\n",
       "    }\n",
       "\n",
       "    .dataframe tbody tr th {\n",
       "        vertical-align: top;\n",
       "    }\n",
       "\n",
       "    .dataframe thead th {\n",
       "        text-align: right;\n",
       "    }\n",
       "</style>\n",
       "<table border=\"1\" class=\"dataframe\">\n",
       "  <thead>\n",
       "    <tr style=\"text-align: right;\">\n",
       "      <th></th>\n",
       "      <th>기준년월</th>\n",
       "      <th>사용본거지시읍면동_행정동기준</th>\n",
       "      <th>차명</th>\n",
       "      <th>연료</th>\n",
       "      <th>최초등록일</th>\n",
       "      <th>현소유자의출생년도</th>\n",
       "      <th>연령</th>\n",
       "      <th>연령대</th>\n",
       "    </tr>\n",
       "  </thead>\n",
       "  <tbody>\n",
       "    <tr>\n",
       "      <th>0</th>\n",
       "      <td>22-Feb</td>\n",
       "      <td>서울특별시 구로구 신도림동</td>\n",
       "      <td>K7 하이브리드</td>\n",
       "      <td>하이브리드</td>\n",
       "      <td>2014</td>\n",
       "      <td>1967.0</td>\n",
       "      <td>48</td>\n",
       "      <td>40</td>\n",
       "    </tr>\n",
       "    <tr>\n",
       "      <th>1</th>\n",
       "      <td>22-Feb</td>\n",
       "      <td>서울특별시 구로구 신도림동</td>\n",
       "      <td>토요타 Prius V</td>\n",
       "      <td>하이브리드</td>\n",
       "      <td>2017</td>\n",
       "      <td>1980.0</td>\n",
       "      <td>38</td>\n",
       "      <td>30</td>\n",
       "    </tr>\n",
       "    <tr>\n",
       "      <th>2</th>\n",
       "      <td>22-Feb</td>\n",
       "      <td>서울특별시 구로구 신도림동</td>\n",
       "      <td>니로 하이브리드</td>\n",
       "      <td>하이브리드</td>\n",
       "      <td>2018</td>\n",
       "      <td>1990.0</td>\n",
       "      <td>29</td>\n",
       "      <td>20</td>\n",
       "    </tr>\n",
       "    <tr>\n",
       "      <th>3</th>\n",
       "      <td>22-Feb</td>\n",
       "      <td>서울특별시 구로구 신도림동</td>\n",
       "      <td>투싼 하이브리드(TUCSON HYBRI</td>\n",
       "      <td>하이브리드</td>\n",
       "      <td>2021</td>\n",
       "      <td>1981.0</td>\n",
       "      <td>41</td>\n",
       "      <td>40</td>\n",
       "    </tr>\n",
       "    <tr>\n",
       "      <th>4</th>\n",
       "      <td>22-Feb</td>\n",
       "      <td>서울특별시 구로구 신도림동</td>\n",
       "      <td>토요타 PRIUS</td>\n",
       "      <td>하이브리드</td>\n",
       "      <td>2012</td>\n",
       "      <td>1983.0</td>\n",
       "      <td>30</td>\n",
       "      <td>30</td>\n",
       "    </tr>\n",
       "    <tr>\n",
       "      <th>...</th>\n",
       "      <td>...</td>\n",
       "      <td>...</td>\n",
       "      <td>...</td>\n",
       "      <td>...</td>\n",
       "      <td>...</td>\n",
       "      <td>...</td>\n",
       "      <td>...</td>\n",
       "      <td>...</td>\n",
       "    </tr>\n",
       "    <tr>\n",
       "      <th>260380</th>\n",
       "      <td>Dec-15</td>\n",
       "      <td>서울특별시 도봉구 방학1동</td>\n",
       "      <td>K5 하이브리드</td>\n",
       "      <td>하이브리드</td>\n",
       "      <td>2012</td>\n",
       "      <td>1960.0</td>\n",
       "      <td>53</td>\n",
       "      <td>50</td>\n",
       "    </tr>\n",
       "    <tr>\n",
       "      <th>260381</th>\n",
       "      <td>Dec-15</td>\n",
       "      <td>서울특별시 도봉구 방학2동</td>\n",
       "      <td>토요타 Camry Hybrid</td>\n",
       "      <td>하이브리드</td>\n",
       "      <td>2014</td>\n",
       "      <td>1967.0</td>\n",
       "      <td>48</td>\n",
       "      <td>40</td>\n",
       "    </tr>\n",
       "    <tr>\n",
       "      <th>260382</th>\n",
       "      <td>Dec-15</td>\n",
       "      <td>서울특별시 도봉구 방학3동</td>\n",
       "      <td>쏘나타(SONATA) 하이브리드</td>\n",
       "      <td>하이브리드</td>\n",
       "      <td>2014</td>\n",
       "      <td>1982.0</td>\n",
       "      <td>33</td>\n",
       "      <td>30</td>\n",
       "    </tr>\n",
       "    <tr>\n",
       "      <th>260383</th>\n",
       "      <td>Dec-15</td>\n",
       "      <td>서울특별시 강서구 가양2동</td>\n",
       "      <td>아반떼 하이브리드(AVANTE HYB</td>\n",
       "      <td>하이브리드</td>\n",
       "      <td>2009</td>\n",
       "      <td>1969.0</td>\n",
       "      <td>41</td>\n",
       "      <td>40</td>\n",
       "    </tr>\n",
       "    <tr>\n",
       "      <th>260384</th>\n",
       "      <td>Dec-15</td>\n",
       "      <td>서울특별시 도봉구 쌍문4동</td>\n",
       "      <td>렉서스 ES300h</td>\n",
       "      <td>하이브리드</td>\n",
       "      <td>2014</td>\n",
       "      <td>1949.0</td>\n",
       "      <td>66</td>\n",
       "      <td>60</td>\n",
       "    </tr>\n",
       "  </tbody>\n",
       "</table>\n",
       "<p>217831 rows × 8 columns</p>\n",
       "</div>"
      ],
      "text/plain": [
       "          기준년월 사용본거지시읍면동_행정동기준                     차명     연료  최초등록일  \\\n",
       "0       22-Feb  서울특별시 구로구 신도림동               K7 하이브리드  하이브리드   2014   \n",
       "1       22-Feb  서울특별시 구로구 신도림동            토요타 Prius V  하이브리드   2017   \n",
       "2       22-Feb  서울특별시 구로구 신도림동               니로 하이브리드  하이브리드   2018   \n",
       "3       22-Feb  서울특별시 구로구 신도림동  투싼 하이브리드(TUCSON HYBRI  하이브리드   2021   \n",
       "4       22-Feb  서울특별시 구로구 신도림동              토요타 PRIUS  하이브리드   2012   \n",
       "...        ...             ...                    ...    ...    ...   \n",
       "260380  Dec-15  서울특별시 도봉구 방학1동               K5 하이브리드  하이브리드   2012   \n",
       "260381  Dec-15  서울특별시 도봉구 방학2동       토요타 Camry Hybrid  하이브리드   2014   \n",
       "260382  Dec-15  서울특별시 도봉구 방학3동      쏘나타(SONATA) 하이브리드  하이브리드   2014   \n",
       "260383  Dec-15  서울특별시 강서구 가양2동   아반떼 하이브리드(AVANTE HYB  하이브리드   2009   \n",
       "260384  Dec-15  서울특별시 도봉구 쌍문4동             렉서스 ES300h  하이브리드   2014   \n",
       "\n",
       "        현소유자의출생년도  연령  연령대  \n",
       "0          1967.0  48   40  \n",
       "1          1980.0  38   30  \n",
       "2          1990.0  29   20  \n",
       "3          1981.0  41   40  \n",
       "4          1983.0  30   30  \n",
       "...           ...  ..  ...  \n",
       "260380     1960.0  53   50  \n",
       "260381     1967.0  48   40  \n",
       "260382     1982.0  33   30  \n",
       "260383     1969.0  41   40  \n",
       "260384     1949.0  66   60  \n",
       "\n",
       "[217831 rows x 8 columns]"
      ]
     },
     "execution_count": 520,
     "metadata": {},
     "output_type": "execute_result"
    }
   ],
   "source": [
    "# 최초등록일 컬럼을 연도만 나오도록 추출\n",
    "carDF['최초등록일']=carDF['최초등록일'].str.slice(start=0,stop=4)\n",
    "carDF.최초등록일=carDF.최초등록일.astype(int)\n",
    "\n",
    "# 최초등록일과 출생년도 간에 차이를 통해 당시 연령 추출\n",
    "carDF['연령']=carDF.최초등록일-carDF.현소유자의출생년도+1\n",
    "carDF.연령=carDF.연령.astype(int)\n",
    "\n",
    "# 데이터 분류를 위해 연령을 연령대로 산출\n",
    "carDF['연령대']=(carDF['연령']//10)*10\n",
    "\n",
    "# 불필요 데이터 제거\n",
    "carDF=carDF.drop(carDF[(carDF['최초등록일']==2022)|(carDF['최초등록일']==1295)].index)\n",
    "carDF=carDF.drop(carDF[(carDF['연령대']<=0)|(carDF['연령대']>=100)].index)\n",
    "carDF=carDF.drop(carDF[(carDF['최초등록일']>=2004)&(carDF['최초등록일']<=2008)].index)\n",
    "carDF"
   ]
  },
  {
   "cell_type": "code",
   "execution_count": 521,
   "id": "eda3c52c",
   "metadata": {
    "scrolled": true
   },
   "outputs": [
    {
     "data": {
      "text/html": [
       "<div>\n",
       "<style scoped>\n",
       "    .dataframe tbody tr th:only-of-type {\n",
       "        vertical-align: middle;\n",
       "    }\n",
       "\n",
       "    .dataframe tbody tr th {\n",
       "        vertical-align: top;\n",
       "    }\n",
       "\n",
       "    .dataframe thead th {\n",
       "        text-align: right;\n",
       "    }\n",
       "</style>\n",
       "<table border=\"1\" class=\"dataframe\">\n",
       "  <thead>\n",
       "    <tr style=\"text-align: right;\">\n",
       "      <th></th>\n",
       "      <th>수소</th>\n",
       "      <th>전기</th>\n",
       "      <th>하이브리드</th>\n",
       "    </tr>\n",
       "    <tr>\n",
       "      <th>최초등록일</th>\n",
       "      <th></th>\n",
       "      <th></th>\n",
       "      <th></th>\n",
       "    </tr>\n",
       "  </thead>\n",
       "  <tbody>\n",
       "    <tr>\n",
       "      <th>2009</th>\n",
       "      <td>NaN</td>\n",
       "      <td>NaN</td>\n",
       "      <td>2106</td>\n",
       "    </tr>\n",
       "    <tr>\n",
       "      <th>2010</th>\n",
       "      <td>NaN</td>\n",
       "      <td>2.0</td>\n",
       "      <td>2619</td>\n",
       "    </tr>\n",
       "    <tr>\n",
       "      <th>2011</th>\n",
       "      <td>NaN</td>\n",
       "      <td>11.0</td>\n",
       "      <td>5884</td>\n",
       "    </tr>\n",
       "    <tr>\n",
       "      <th>2012</th>\n",
       "      <td>NaN</td>\n",
       "      <td>19.0</td>\n",
       "      <td>11625</td>\n",
       "    </tr>\n",
       "    <tr>\n",
       "      <th>2013</th>\n",
       "      <td>NaN</td>\n",
       "      <td>78.0</td>\n",
       "      <td>8890</td>\n",
       "    </tr>\n",
       "    <tr>\n",
       "      <th>2014</th>\n",
       "      <td>NaN</td>\n",
       "      <td>175.0</td>\n",
       "      <td>10850</td>\n",
       "    </tr>\n",
       "    <tr>\n",
       "      <th>2015</th>\n",
       "      <td>NaN</td>\n",
       "      <td>524.0</td>\n",
       "      <td>12653</td>\n",
       "    </tr>\n",
       "    <tr>\n",
       "      <th>2016</th>\n",
       "      <td>6.0</td>\n",
       "      <td>333.0</td>\n",
       "      <td>20013</td>\n",
       "    </tr>\n",
       "    <tr>\n",
       "      <th>2017</th>\n",
       "      <td>3.0</td>\n",
       "      <td>1105.0</td>\n",
       "      <td>23014</td>\n",
       "    </tr>\n",
       "    <tr>\n",
       "      <th>2018</th>\n",
       "      <td>68.0</td>\n",
       "      <td>3268.0</td>\n",
       "      <td>22458</td>\n",
       "    </tr>\n",
       "    <tr>\n",
       "      <th>2019</th>\n",
       "      <td>570.0</td>\n",
       "      <td>3562.0</td>\n",
       "      <td>19684</td>\n",
       "    </tr>\n",
       "    <tr>\n",
       "      <th>2020</th>\n",
       "      <td>938.0</td>\n",
       "      <td>5201.0</td>\n",
       "      <td>25473</td>\n",
       "    </tr>\n",
       "    <tr>\n",
       "      <th>2021</th>\n",
       "      <td>680.0</td>\n",
       "      <td>9011.0</td>\n",
       "      <td>27008</td>\n",
       "    </tr>\n",
       "  </tbody>\n",
       "</table>\n",
       "</div>"
      ],
      "text/plain": [
       "          수소      전기  하이브리드\n",
       "최초등록일                      \n",
       "2009     NaN     NaN   2106\n",
       "2010     NaN     2.0   2619\n",
       "2011     NaN    11.0   5884\n",
       "2012     NaN    19.0  11625\n",
       "2013     NaN    78.0   8890\n",
       "2014     NaN   175.0  10850\n",
       "2015     NaN   524.0  12653\n",
       "2016     6.0   333.0  20013\n",
       "2017     3.0  1105.0  23014\n",
       "2018    68.0  3268.0  22458\n",
       "2019   570.0  3562.0  19684\n",
       "2020   938.0  5201.0  25473\n",
       "2021   680.0  9011.0  27008"
      ]
     },
     "execution_count": 521,
     "metadata": {},
     "output_type": "execute_result"
    }
   ],
   "source": [
    "# 등록일별 친환경자동차 집계\n",
    "carDF.groupby('연료')['최초등록일'].agg(**{'차량 수':'count'}).reset_index()\n",
    "countDF=carDF.groupby(['연료','최초등록일'])['차명'].agg(**{'차량 수':'count'}).reset_index()\n",
    "countDF.set_index(['최초등록일'],inplace=True)\n",
    "\n",
    "# 연료별 데이터프레임 생성\n",
    "hDF=countDF[countDF['연료']=='수소']\n",
    "hDF=hDF['차량 수']\n",
    "eDF=countDF[countDF['연료']=='전기']\n",
    "eDF=eDF['차량 수']\n",
    "hyDF=countDF[countDF['연료']=='하이브리드']\n",
    "hyDF=hyDF['차량 수']\n",
    "\n",
    "# 연료별 데이터프레임 결합\n",
    "concatDF=pd.concat([hDF,eDF,hyDF],axis=1,keys=['수소','전기','하이브리드'])\n",
    "concatDF=concatDF.sort_index(ascending=True)\n",
    "concatDF"
   ]
  },
  {
   "cell_type": "code",
   "execution_count": 522,
   "id": "11f2517a",
   "metadata": {},
   "outputs": [
    {
     "data": {
      "text/html": [
       "<div>\n",
       "<style scoped>\n",
       "    .dataframe tbody tr th:only-of-type {\n",
       "        vertical-align: middle;\n",
       "    }\n",
       "\n",
       "    .dataframe tbody tr th {\n",
       "        vertical-align: top;\n",
       "    }\n",
       "\n",
       "    .dataframe thead th {\n",
       "        text-align: right;\n",
       "    }\n",
       "</style>\n",
       "<table border=\"1\" class=\"dataframe\">\n",
       "  <thead>\n",
       "    <tr style=\"text-align: right;\">\n",
       "      <th></th>\n",
       "      <th>수소</th>\n",
       "      <th>전기</th>\n",
       "      <th>하이브리드</th>\n",
       "    </tr>\n",
       "    <tr>\n",
       "      <th>연령대</th>\n",
       "      <th></th>\n",
       "      <th></th>\n",
       "      <th></th>\n",
       "    </tr>\n",
       "  </thead>\n",
       "  <tbody>\n",
       "    <tr>\n",
       "      <th>10</th>\n",
       "      <td>NaN</td>\n",
       "      <td>21</td>\n",
       "      <td>468</td>\n",
       "    </tr>\n",
       "    <tr>\n",
       "      <th>20</th>\n",
       "      <td>58.0</td>\n",
       "      <td>1012</td>\n",
       "      <td>16072</td>\n",
       "    </tr>\n",
       "    <tr>\n",
       "      <th>30</th>\n",
       "      <td>391.0</td>\n",
       "      <td>6214</td>\n",
       "      <td>60766</td>\n",
       "    </tr>\n",
       "    <tr>\n",
       "      <th>40</th>\n",
       "      <td>696.0</td>\n",
       "      <td>7130</td>\n",
       "      <td>52578</td>\n",
       "    </tr>\n",
       "    <tr>\n",
       "      <th>50</th>\n",
       "      <td>714.0</td>\n",
       "      <td>4632</td>\n",
       "      <td>39503</td>\n",
       "    </tr>\n",
       "    <tr>\n",
       "      <th>60</th>\n",
       "      <td>324.0</td>\n",
       "      <td>3339</td>\n",
       "      <td>18405</td>\n",
       "    </tr>\n",
       "    <tr>\n",
       "      <th>70</th>\n",
       "      <td>68.0</td>\n",
       "      <td>864</td>\n",
       "      <td>3915</td>\n",
       "    </tr>\n",
       "    <tr>\n",
       "      <th>80</th>\n",
       "      <td>13.0</td>\n",
       "      <td>74</td>\n",
       "      <td>521</td>\n",
       "    </tr>\n",
       "    <tr>\n",
       "      <th>90</th>\n",
       "      <td>1.0</td>\n",
       "      <td>3</td>\n",
       "      <td>49</td>\n",
       "    </tr>\n",
       "  </tbody>\n",
       "</table>\n",
       "</div>"
      ],
      "text/plain": [
       "        수소    전기  하이브리드\n",
       "연령대                    \n",
       "10     NaN    21    468\n",
       "20    58.0  1012  16072\n",
       "30   391.0  6214  60766\n",
       "40   696.0  7130  52578\n",
       "50   714.0  4632  39503\n",
       "60   324.0  3339  18405\n",
       "70    68.0   864   3915\n",
       "80    13.0    74    521\n",
       "90     1.0     3     49"
      ]
     },
     "execution_count": 522,
     "metadata": {},
     "output_type": "execute_result"
    }
   ],
   "source": [
    "# 연령대별 친환경자동차 집계\n",
    "carDF.groupby('연료')['연령대'].agg(**{'차량 수':'count'}).reset_index()\n",
    "ageDF=carDF.groupby(['연료','연령대'])['차명'].agg(**{'차량 수':'count'}).reset_index()\n",
    "ageDF.set_index(['연령대'],inplace=True)\n",
    "\n",
    "# 연료별 데이터프레임 생성\n",
    "h_ageDF=ageDF[ageDF['연료']=='수소']\n",
    "h_ageDF=h_ageDF['차량 수']\n",
    "e_ageDF=ageDF[ageDF['연료']=='전기']\n",
    "e_ageDF=e_ageDF['차량 수']\n",
    "hy_ageDF=ageDF[ageDF['연료']=='하이브리드']\n",
    "hy_ageDF=hy_ageDF['차량 수']\n",
    "\n",
    "# 연료별 데이터프레임 결합\n",
    "concat_ageDF=pd.concat([h_ageDF,e_ageDF,hy_ageDF],axis=1,keys=['수소','전기','하이브리드'])\n",
    "concat_ageDF=concat_ageDF.sort_index(ascending=True)\n",
    "concat_ageDF"
   ]
  },
  {
   "cell_type": "code",
   "execution_count": 523,
   "id": "ebe74afe",
   "metadata": {},
   "outputs": [],
   "source": [
    "# 모듈 로딩\n",
    "import matplotlib.pyplot as plt\n",
    "import numpy as np\n",
    "\n",
    "# Matplotlib 한글 Font 설정\n",
    "from matplotlib import font_manager as fm, rc\n",
    "\n",
    "# 한글 폰트 설정\n",
    "font_path='../Fonts/malgun.ttf'\n",
    "font_name=fm.FontProperties(fname=font_path).get_name()\n",
    "rc('font', family=font_name)"
   ]
  },
  {
   "cell_type": "code",
   "execution_count": 524,
   "id": "44939936",
   "metadata": {
    "scrolled": true
   },
   "outputs": [
    {
     "data": {
      "text/plain": [
       "(Int64Index([2009, 2010, 2011, 2012, 2013, 2014, 2015, 2016, 2017, 2018, 2019,\n",
       "             2020, 2021],\n",
       "            dtype='int64', name='최초등록일'),\n",
       " Int64Index([10, 20, 30, 40, 50, 60, 70, 80, 90], dtype='int64', name='연령대'))"
      ]
     },
     "execution_count": 524,
     "metadata": {},
     "output_type": "execute_result"
    }
   ],
   "source": [
    "# 인덱스 확인\n",
    "concatDF.index, concat_ageDF.index"
   ]
  },
  {
   "cell_type": "code",
   "execution_count": 525,
   "id": "dd50c798",
   "metadata": {
    "scrolled": false
   },
   "outputs": [
    {
     "data": {
      "image/png": "[encoded data removed]",
      "text/plain": [
       "<Figure size 720x432 with 1 Axes>"
      ]
     },
     "metadata": {
      "needs_background": "light"
     },
     "output_type": "display_data"
    }
   ],
   "source": [
    "# 연도별 차량등록 수\n",
    "# 그림 사이즈, 바 굵기 조정\n",
    "fig, ax = plt.subplots(figsize=(10,6))\n",
    "bar_width = 0.3\n",
    "year=[2009, 2010, 2011, 2012, 2013, 2014, 2015, 2016, 2017, 2018, 2019, 2020, 2021]\n",
    "\n",
    "# 연도가 4개이므로 0, 1, 2, 3 위치를 기준으로 삼음\n",
    "index = np.arange(13)\n",
    "\n",
    "# 각 연도별로 3개 샵의 bar를 순서대로 나타내는 과정, 각 그래프는 0.25의 간격을 두고 그려짐\n",
    "b1 = plt.bar(index, concatDF['수소'], bar_width, alpha=0.4, color='red', label='수소')\n",
    "\n",
    "b2 = plt.bar(index + bar_width, concatDF['전기'], bar_width,alpha=0.4, color='blue', label='전기')\n",
    "\n",
    "b3 = plt.bar(index + 2* bar_width, concatDF['하이브리드'], bar_width,alpha=0.4, color='green', label='하이브리드')\n",
    "\n",
    "# x축 위치를 정 가운데로 조정하고 x축의 텍스트를 year 정보와 매칭\n",
    "plt.xticks(index,year)\n",
    "\n",
    "# x축, y축 이름 \n",
    "plt.xlabel('연도', size = 15)\n",
    "plt.ylabel('차량등록 수', size = 15)\n",
    "\n",
    "# 범례 설정\n",
    "plt.legend()\n",
    "\n",
    "plt.show()"
   ]
  },
  {
   "cell_type": "markdown",
   "id": "034abc89",
   "metadata": {},
   "source": [
    "  - 수소차를 제외한 친환경자동차 수가 증가하는 추세\n",
    "  - 전기차는 최근 들어 급속도로 증가하는 추세"
   ]
  },
  {
   "cell_type": "code",
   "execution_count": 526,
   "id": "ca4d88f6",
   "metadata": {
    "scrolled": true
   },
   "outputs": [
    {
     "data": {
      "image/png": "[encoded data removed]",
      "text/plain": [
       "<Figure size 720x432 with 1 Axes>"
      ]
     },
     "metadata": {
      "needs_background": "light"
     },
     "output_type": "display_data"
    }
   ],
   "source": [
    "# 연령대별 친환경 자동차 종류\n",
    "# 그래프 사이즈, 바 굵기 조정\n",
    "fig, ax = plt.subplots(figsize=(10,6))\n",
    "bar_width = 0.3\n",
    "age=[10, 20, 30, 40, 50, 60, 70, 80, 90]\n",
    "\n",
    "# 연도가 4개이므로 0, 1, 2, 3 위치를 기준으로 삼음\n",
    "index = np.arange(9)\n",
    "\n",
    "# 각 연도별로 3개 샵의 bar를 순서대로 나타내는 과정, 각 그래프는 0.25의 간격을 두고 그려짐\n",
    "b1 = plt.bar(index, concat_ageDF['수소'], bar_width, alpha=0.4, color='red', label='수소')\n",
    "\n",
    "b2 = plt.bar(index + bar_width, concat_ageDF['전기'], bar_width,alpha=0.4, color='blue', label='전기')\n",
    "\n",
    "b3 = plt.bar(index + 2* bar_width, concat_ageDF['하이브리드'], bar_width,alpha=0.4, color='green', label='하이브리드')\n",
    "\n",
    "# x축 위치를 정 가운데로 조정하고 x축의 텍스트를 year 정보와 매칭\n",
    "plt.xticks(index,age)\n",
    "\n",
    "# x축, y축 이름\n",
    "plt.xlabel('연령대', size = 15)\n",
    "plt.ylabel('차량등록 수', size = 15)\n",
    "\n",
    "# 범례 설정\n",
    "plt.legend()\n",
    "\n",
    "plt.show()"
   ]
  },
  {
   "cell_type": "markdown",
   "id": "b79d2cb3",
   "metadata": {},
   "source": [
    "  - 하이브리드차는 30~50대가 가장 많이 구매함\n",
    "  - 전기차 또한 30~50대가 가장 많이 구매함\n",
    "  - 도입 단계인 친환경자동차의 특성 상 판매가가 고가이므로 사회진입단계인 20대의 등록 수가 적은 것으로 예상됨"
   ]
  },
  {
   "cell_type": "code",
   "execution_count": null,
   "id": "36964be5",
   "metadata": {},
   "outputs": [],
   "source": []
  }
 ],
 "metadata": {
  "kernelspec": {
   "display_name": "Python 3 (ipykernel)",
   "language": "python",
   "name": "python3"
  },
  "language_info": {
   "codemirror_mode": {
    "name": "ipython",
    "version": 3
   },
   "file_extension": ".py",
   "mimetype": "text/x-python",
   "name": "python",
   "nbconvert_exporter": "python",
   "pygments_lexer": "ipython3",
   "version": "3.9.12"
  }
 },
 "nbformat": 4,
 "nbformat_minor": 5
}
