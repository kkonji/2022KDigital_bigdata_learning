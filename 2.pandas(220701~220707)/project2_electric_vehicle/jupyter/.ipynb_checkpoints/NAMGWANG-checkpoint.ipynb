{
 "cells": [
  {
   "cell_type": "markdown",
   "id": "700d97e2",
   "metadata": {},
   "source": [
    "#### 1. 21년도 기준 서울과 서울 이외 지역 전기차 판매량 비교\n",
    "#### 2. 21년도 기준 전세계 전기차 충전소 개수/판매량 을 국가별로 비교\n",
    "#### 3. 연도별 전기차 판매량을 국가별로 비교 \n",
    "#### 4. 21년도 기준 전세계 전기차 판매량을 국가별로 비교\n",
    "#### 5. 21년도 기준 전기차 판매비율 ( 전기차/전체차)을 국가별로 비교\n"
   ]
  },
  {
   "cell_type": "code",
   "execution_count": 3,
   "id": "197fddbe",
   "metadata": {},
   "outputs": [],
   "source": [
    "import pandas as pd\n",
    "import numpy as np"
   ]
  },
  {
   "cell_type": "code",
   "execution_count": 4,
   "id": "544c9b53",
   "metadata": {},
   "outputs": [],
   "source": [
    "# Matplotlib 임포트\n",
    "import matplotlib.pyplot as plt\n",
    "\n",
    "# Matplotlib 한글 폰트 설정\n",
    "from matplotlib import font_manager as fm, rc\n",
    "\n",
    "# 한글 폰트 설정\n",
    "font_path = '../Fonts/malgun.ttf'\n",
    "font_name = fm.FontProperties(fname = font_path).get_name()\n",
    "rc('font', family = font_name)"
   ]
  },
  {
   "cell_type": "code",
   "execution_count": 5,
   "id": "c3ab643a",
   "metadata": {},
   "outputs": [
    {
     "data": {
      "text/html": [
       "<div>\n",
       "<style scoped>\n",
       "    .dataframe tbody tr th:only-of-type {\n",
       "        vertical-align: middle;\n",
       "    }\n",
       "\n",
       "    .dataframe tbody tr th {\n",
       "        vertical-align: top;\n",
       "    }\n",
       "\n",
       "    .dataframe thead th {\n",
       "        text-align: right;\n",
       "    }\n",
       "</style>\n",
       "<table border=\"1\" class=\"dataframe\">\n",
       "  <thead>\n",
       "    <tr style=\"text-align: right;\">\n",
       "      <th></th>\n",
       "      <th>region</th>\n",
       "      <th>category</th>\n",
       "      <th>parameter</th>\n",
       "      <th>mode</th>\n",
       "      <th>powertrain</th>\n",
       "      <th>year</th>\n",
       "      <th>unit</th>\n",
       "      <th>value</th>\n",
       "    </tr>\n",
       "  </thead>\n",
       "  <tbody>\n",
       "    <tr>\n",
       "      <th>0</th>\n",
       "      <td>Australia</td>\n",
       "      <td>Historical</td>\n",
       "      <td>EV sales</td>\n",
       "      <td>Cars</td>\n",
       "      <td>BEV</td>\n",
       "      <td>2011</td>\n",
       "      <td>sales</td>\n",
       "      <td>49.000000</td>\n",
       "    </tr>\n",
       "    <tr>\n",
       "      <th>1</th>\n",
       "      <td>Australia</td>\n",
       "      <td>Historical</td>\n",
       "      <td>EV stock</td>\n",
       "      <td>Cars</td>\n",
       "      <td>BEV</td>\n",
       "      <td>2011</td>\n",
       "      <td>stock</td>\n",
       "      <td>49.000000</td>\n",
       "    </tr>\n",
       "    <tr>\n",
       "      <th>2</th>\n",
       "      <td>Australia</td>\n",
       "      <td>Historical</td>\n",
       "      <td>EV sales share</td>\n",
       "      <td>Cars</td>\n",
       "      <td>EV</td>\n",
       "      <td>2011</td>\n",
       "      <td>percent</td>\n",
       "      <td>0.006479</td>\n",
       "    </tr>\n",
       "    <tr>\n",
       "      <th>3</th>\n",
       "      <td>Australia</td>\n",
       "      <td>Historical</td>\n",
       "      <td>EV stock share</td>\n",
       "      <td>Cars</td>\n",
       "      <td>EV</td>\n",
       "      <td>2011</td>\n",
       "      <td>percent</td>\n",
       "      <td>0.000464</td>\n",
       "    </tr>\n",
       "    <tr>\n",
       "      <th>4</th>\n",
       "      <td>Australia</td>\n",
       "      <td>Historical</td>\n",
       "      <td>EV stock share</td>\n",
       "      <td>Cars</td>\n",
       "      <td>EV</td>\n",
       "      <td>2012</td>\n",
       "      <td>percent</td>\n",
       "      <td>0.002785</td>\n",
       "    </tr>\n",
       "    <tr>\n",
       "      <th>...</th>\n",
       "      <td>...</td>\n",
       "      <td>...</td>\n",
       "      <td>...</td>\n",
       "      <td>...</td>\n",
       "      <td>...</td>\n",
       "      <td>...</td>\n",
       "      <td>...</td>\n",
       "      <td>...</td>\n",
       "    </tr>\n",
       "    <tr>\n",
       "      <th>7011</th>\n",
       "      <td>World</td>\n",
       "      <td>Projection-STEPS</td>\n",
       "      <td>Oil displacement Mbd</td>\n",
       "      <td>Cars</td>\n",
       "      <td>EV</td>\n",
       "      <td>2030</td>\n",
       "      <td>Milion barrels per day</td>\n",
       "      <td>2.409347</td>\n",
       "    </tr>\n",
       "    <tr>\n",
       "      <th>7012</th>\n",
       "      <td>World</td>\n",
       "      <td>Projection-STEPS</td>\n",
       "      <td>Oil displacement Mlge</td>\n",
       "      <td>Buses</td>\n",
       "      <td>EV</td>\n",
       "      <td>2030</td>\n",
       "      <td>Milion litres gasoline equivalent</td>\n",
       "      <td>30311.880859</td>\n",
       "    </tr>\n",
       "    <tr>\n",
       "      <th>7013</th>\n",
       "      <td>World</td>\n",
       "      <td>Projection-STEPS</td>\n",
       "      <td>Oil displacement Mlge</td>\n",
       "      <td>Trucks</td>\n",
       "      <td>EV</td>\n",
       "      <td>2030</td>\n",
       "      <td>Milion litres gasoline equivalent</td>\n",
       "      <td>13943.429688</td>\n",
       "    </tr>\n",
       "    <tr>\n",
       "      <th>7014</th>\n",
       "      <td>World</td>\n",
       "      <td>Projection-STEPS</td>\n",
       "      <td>Oil displacement Mlge</td>\n",
       "      <td>Vans</td>\n",
       "      <td>EV</td>\n",
       "      <td>2030</td>\n",
       "      <td>Milion litres gasoline equivalent</td>\n",
       "      <td>16207.837891</td>\n",
       "    </tr>\n",
       "    <tr>\n",
       "      <th>7015</th>\n",
       "      <td>World</td>\n",
       "      <td>Projection-STEPS</td>\n",
       "      <td>Oil displacement Mlge</td>\n",
       "      <td>Cars</td>\n",
       "      <td>EV</td>\n",
       "      <td>2030</td>\n",
       "      <td>Milion litres gasoline equivalent</td>\n",
       "      <td>141228.515625</td>\n",
       "    </tr>\n",
       "  </tbody>\n",
       "</table>\n",
       "<p>7016 rows × 8 columns</p>\n",
       "</div>"
      ],
      "text/plain": [
       "         region          category              parameter    mode powertrain  \\\n",
       "0     Australia        Historical               EV sales    Cars        BEV   \n",
       "1     Australia        Historical               EV stock    Cars        BEV   \n",
       "2     Australia        Historical         EV sales share    Cars         EV   \n",
       "3     Australia        Historical         EV stock share    Cars         EV   \n",
       "4     Australia        Historical         EV stock share    Cars         EV   \n",
       "...         ...               ...                    ...     ...        ...   \n",
       "7011      World  Projection-STEPS   Oil displacement Mbd    Cars         EV   \n",
       "7012      World  Projection-STEPS  Oil displacement Mlge   Buses         EV   \n",
       "7013      World  Projection-STEPS  Oil displacement Mlge  Trucks         EV   \n",
       "7014      World  Projection-STEPS  Oil displacement Mlge    Vans         EV   \n",
       "7015      World  Projection-STEPS  Oil displacement Mlge    Cars         EV   \n",
       "\n",
       "      year                               unit          value  \n",
       "0     2011                              sales      49.000000  \n",
       "1     2011                              stock      49.000000  \n",
       "2     2011                            percent       0.006479  \n",
       "3     2011                            percent       0.000464  \n",
       "4     2012                            percent       0.002785  \n",
       "...    ...                                ...            ...  \n",
       "7011  2030             Milion barrels per day       2.409347  \n",
       "7012  2030  Milion litres gasoline equivalent   30311.880859  \n",
       "7013  2030  Milion litres gasoline equivalent   13943.429688  \n",
       "7014  2030  Milion litres gasoline equivalent   16207.837891  \n",
       "7015  2030  Milion litres gasoline equivalent  141228.515625  \n",
       "\n",
       "[7016 rows x 8 columns]"
      ]
     },
     "execution_count": 5,
     "metadata": {},
     "output_type": "execute_result"
    }
   ],
   "source": [
    "PATH = '../DATA_NAMGWANG/'\n",
    "FILENAME = PATH + 'IEA-EV-data.csv'\n",
    "evDF = pd.read_csv(FILENAME)\n",
    "evDF"
   ]
  },
  {
   "cell_type": "code",
   "execution_count": 6,
   "id": "bf44b076",
   "metadata": {},
   "outputs": [
    {
     "data": {
      "text/html": [
       "<div>\n",
       "<style scoped>\n",
       "    .dataframe tbody tr th:only-of-type {\n",
       "        vertical-align: middle;\n",
       "    }\n",
       "\n",
       "    .dataframe tbody tr th {\n",
       "        vertical-align: top;\n",
       "    }\n",
       "\n",
       "    .dataframe thead th {\n",
       "        text-align: right;\n",
       "    }\n",
       "</style>\n",
       "<table border=\"1\" class=\"dataframe\">\n",
       "  <thead>\n",
       "    <tr style=\"text-align: right;\">\n",
       "      <th></th>\n",
       "      <th>기준년월</th>\n",
       "      <th>사용본거지시읍면동_행정동기준</th>\n",
       "      <th>차명</th>\n",
       "      <th>연료</th>\n",
       "      <th>최초등록일</th>\n",
       "      <th>현소유자의출생년도</th>\n",
       "    </tr>\n",
       "  </thead>\n",
       "  <tbody>\n",
       "    <tr>\n",
       "      <th>0</th>\n",
       "      <td>2021-12</td>\n",
       "      <td>서울특별시 강남구 대치1동</td>\n",
       "      <td>토요타 Prius 2WD</td>\n",
       "      <td>하이브리드(휘발유+전기)</td>\n",
       "      <td>2020-03-23</td>\n",
       "      <td>1979.0</td>\n",
       "    </tr>\n",
       "    <tr>\n",
       "      <th>1</th>\n",
       "      <td>2021-12</td>\n",
       "      <td>서울특별시 강남구 대치1동</td>\n",
       "      <td>아이오닉 하이브리드(IONIQ HY</td>\n",
       "      <td>하이브리드(휘발유+전기)</td>\n",
       "      <td>2017-09-08</td>\n",
       "      <td>1979.0</td>\n",
       "    </tr>\n",
       "    <tr>\n",
       "      <th>2</th>\n",
       "      <td>2021-12</td>\n",
       "      <td>서울특별시 강남구 대치1동</td>\n",
       "      <td>Mercedes-Benz S500 4MATIC</td>\n",
       "      <td>하이브리드(휘발유+전기)</td>\n",
       "      <td>2021-08-18</td>\n",
       "      <td>NaN</td>\n",
       "    </tr>\n",
       "    <tr>\n",
       "      <th>3</th>\n",
       "      <td>2021-12</td>\n",
       "      <td>서울특별시 강남구 대치1동</td>\n",
       "      <td>그랜저 하이브리드(GRANDEUR H</td>\n",
       "      <td>하이브리드(휘발유+전기)</td>\n",
       "      <td>2021-04-22</td>\n",
       "      <td>1971.0</td>\n",
       "    </tr>\n",
       "    <tr>\n",
       "      <th>4</th>\n",
       "      <td>2021-12</td>\n",
       "      <td>서울특별시 강남구 대치1동</td>\n",
       "      <td>Model S 75D</td>\n",
       "      <td>전기</td>\n",
       "      <td>2018-09-20</td>\n",
       "      <td>1979.0</td>\n",
       "    </tr>\n",
       "    <tr>\n",
       "      <th>...</th>\n",
       "      <td>...</td>\n",
       "      <td>...</td>\n",
       "      <td>...</td>\n",
       "      <td>...</td>\n",
       "      <td>...</td>\n",
       "      <td>...</td>\n",
       "    </tr>\n",
       "    <tr>\n",
       "      <th>184893</th>\n",
       "      <td>2021-12</td>\n",
       "      <td>서울특별시 성동구 성수2가3동</td>\n",
       "      <td>A8 L 60 TFSI quattro</td>\n",
       "      <td>하이브리드(휘발유+전기)</td>\n",
       "      <td>2021-04-13</td>\n",
       "      <td>NaN</td>\n",
       "    </tr>\n",
       "    <tr>\n",
       "      <th>184894</th>\n",
       "      <td>2021-12</td>\n",
       "      <td>서울특별시 성동구 성수2가3동</td>\n",
       "      <td>그랜저 하이브리드</td>\n",
       "      <td>하이브리드(휘발유+전기)</td>\n",
       "      <td>2019-11-05</td>\n",
       "      <td>1965.0</td>\n",
       "    </tr>\n",
       "    <tr>\n",
       "      <th>184895</th>\n",
       "      <td>2021-12</td>\n",
       "      <td>서울특별시 성동구 성수2가3동</td>\n",
       "      <td>그랜저 하이브리드 (GRANDEUR</td>\n",
       "      <td>하이브리드(휘발유+전기)</td>\n",
       "      <td>2016-04-05</td>\n",
       "      <td>1971.0</td>\n",
       "    </tr>\n",
       "    <tr>\n",
       "      <th>184896</th>\n",
       "      <td>2021-12</td>\n",
       "      <td>서울특별시 성동구 성수2가3동</td>\n",
       "      <td>니로 하이브리드</td>\n",
       "      <td>하이브리드(휘발유+전기)</td>\n",
       "      <td>2017-06-23</td>\n",
       "      <td>NaN</td>\n",
       "    </tr>\n",
       "    <tr>\n",
       "      <th>184897</th>\n",
       "      <td>2021-12</td>\n",
       "      <td>서울특별시 성동구 성수2가3동</td>\n",
       "      <td>토요타 Prius 2WD</td>\n",
       "      <td>하이브리드(휘발유+전기)</td>\n",
       "      <td>2021-08-26</td>\n",
       "      <td>1951.0</td>\n",
       "    </tr>\n",
       "  </tbody>\n",
       "</table>\n",
       "<p>184898 rows × 6 columns</p>\n",
       "</div>"
      ],
      "text/plain": [
       "           기준년월   사용본거지시읍면동_행정동기준                         차명             연료  \\\n",
       "0       2021-12    서울특별시 강남구 대치1동              토요타 Prius 2WD  하이브리드(휘발유+전기)   \n",
       "1       2021-12    서울특별시 강남구 대치1동        아이오닉 하이브리드(IONIQ HY  하이브리드(휘발유+전기)   \n",
       "2       2021-12    서울특별시 강남구 대치1동  Mercedes-Benz S500 4MATIC  하이브리드(휘발유+전기)   \n",
       "3       2021-12    서울특별시 강남구 대치1동       그랜저 하이브리드(GRANDEUR H  하이브리드(휘발유+전기)   \n",
       "4       2021-12    서울특별시 강남구 대치1동                Model S 75D             전기   \n",
       "...         ...               ...                        ...            ...   \n",
       "184893  2021-12  서울특별시 성동구 성수2가3동       A8 L 60 TFSI quattro  하이브리드(휘발유+전기)   \n",
       "184894  2021-12  서울특별시 성동구 성수2가3동                  그랜저 하이브리드  하이브리드(휘발유+전기)   \n",
       "184895  2021-12  서울특별시 성동구 성수2가3동       그랜저 하이브리드 (GRANDEUR   하이브리드(휘발유+전기)   \n",
       "184896  2021-12  서울특별시 성동구 성수2가3동                   니로 하이브리드  하이브리드(휘발유+전기)   \n",
       "184897  2021-12  서울특별시 성동구 성수2가3동              토요타 Prius 2WD  하이브리드(휘발유+전기)   \n",
       "\n",
       "             최초등록일  현소유자의출생년도  \n",
       "0       2020-03-23     1979.0  \n",
       "1       2017-09-08     1979.0  \n",
       "2       2021-08-18        NaN  \n",
       "3       2021-04-22     1971.0  \n",
       "4       2018-09-20     1979.0  \n",
       "...            ...        ...  \n",
       "184893  2021-04-13        NaN  \n",
       "184894  2019-11-05     1965.0  \n",
       "184895  2016-04-05     1971.0  \n",
       "184896  2017-06-23        NaN  \n",
       "184897  2021-08-26     1951.0  \n",
       "\n",
       "[184898 rows x 6 columns]"
      ]
     },
     "execution_count": 6,
     "metadata": {},
     "output_type": "execute_result"
    }
   ],
   "source": [
    "# 서울시 행정동별 친환경자동차_현황_2021 파일을 받아서 21년도 기준 서울시에 신규 등록된 전기차의 개수를 추출\n",
    "FILENAME_SEOUL = PATH + '서울시 행정동별 친환경자동차 현황_2021.csv'\n",
    "seoulDF = pd.read_csv(FILENAME_SEOUL, encoding='EUC-KR')\n",
    "seoulDF"
   ]
  },
  {
   "cell_type": "code",
   "execution_count": 7,
   "id": "602b679f",
   "metadata": {},
   "outputs": [
    {
     "name": "stdout",
     "output_type": "stream",
     "text": [
      "<class 'pandas.core.frame.DataFrame'>\n",
      "RangeIndex: 184898 entries, 0 to 184897\n",
      "Data columns (total 6 columns):\n",
      " #   Column           Non-Null Count   Dtype  \n",
      "---  ------           --------------   -----  \n",
      " 0   기준년월             184898 non-null  object \n",
      " 1   사용본거지시읍면동_행정동기준  184887 non-null  object \n",
      " 2   차명               184898 non-null  object \n",
      " 3   연료               184898 non-null  object \n",
      " 4   최초등록일            184898 non-null  object \n",
      " 5   현소유자의출생년도        141232 non-null  float64\n",
      "dtypes: float64(1), object(5)\n",
      "memory usage: 8.5+ MB\n"
     ]
    }
   ],
   "source": [
    "# seoulDF의 정보를 알아보자.\n",
    "seoulDF.info()      "
   ]
  },
  {
   "cell_type": "code",
   "execution_count": 8,
   "id": "8ab16e19",
   "metadata": {},
   "outputs": [
    {
     "data": {
      "text/plain": [
       "Index(['기준년월', '사용본거지시읍면동_행정동기준', '차명', '연료', '최초등록일', '현소유자의출생년도'], dtype='object')"
      ]
     },
     "execution_count": 8,
     "metadata": {},
     "output_type": "execute_result"
    }
   ],
   "source": [
    "# seoulDF의 컬럼을 확인하자.\n",
    "seoulDF.columns"
   ]
  },
  {
   "cell_type": "code",
   "execution_count": 9,
   "id": "a2fc4e42",
   "metadata": {},
   "outputs": [
    {
     "data": {
      "text/html": [
       "<div>\n",
       "<style scoped>\n",
       "    .dataframe tbody tr th:only-of-type {\n",
       "        vertical-align: middle;\n",
       "    }\n",
       "\n",
       "    .dataframe tbody tr th {\n",
       "        vertical-align: top;\n",
       "    }\n",
       "\n",
       "    .dataframe thead th {\n",
       "        text-align: right;\n",
       "    }\n",
       "</style>\n",
       "<table border=\"1\" class=\"dataframe\">\n",
       "  <thead>\n",
       "    <tr style=\"text-align: right;\">\n",
       "      <th></th>\n",
       "      <th>기준년월</th>\n",
       "      <th>사용본거지시읍면동_행정동기준</th>\n",
       "      <th>차명</th>\n",
       "      <th>연료</th>\n",
       "      <th>최초등록일</th>\n",
       "      <th>현소유자의출생년도</th>\n",
       "    </tr>\n",
       "  </thead>\n",
       "  <tbody>\n",
       "    <tr>\n",
       "      <th>0</th>\n",
       "      <td>2021-12</td>\n",
       "      <td>서울특별시 강남구 대치1동</td>\n",
       "      <td>토요타 Prius 2WD</td>\n",
       "      <td>하이브리드(휘발유+전기)</td>\n",
       "      <td>2020</td>\n",
       "      <td>1979.0</td>\n",
       "    </tr>\n",
       "    <tr>\n",
       "      <th>1</th>\n",
       "      <td>2021-12</td>\n",
       "      <td>서울특별시 강남구 대치1동</td>\n",
       "      <td>아이오닉 하이브리드(IONIQ HY</td>\n",
       "      <td>하이브리드(휘발유+전기)</td>\n",
       "      <td>2017</td>\n",
       "      <td>1979.0</td>\n",
       "    </tr>\n",
       "    <tr>\n",
       "      <th>2</th>\n",
       "      <td>2021-12</td>\n",
       "      <td>서울특별시 강남구 대치1동</td>\n",
       "      <td>Mercedes-Benz S500 4MATIC</td>\n",
       "      <td>하이브리드(휘발유+전기)</td>\n",
       "      <td>2021</td>\n",
       "      <td>NaN</td>\n",
       "    </tr>\n",
       "    <tr>\n",
       "      <th>3</th>\n",
       "      <td>2021-12</td>\n",
       "      <td>서울특별시 강남구 대치1동</td>\n",
       "      <td>그랜저 하이브리드(GRANDEUR H</td>\n",
       "      <td>하이브리드(휘발유+전기)</td>\n",
       "      <td>2021</td>\n",
       "      <td>1971.0</td>\n",
       "    </tr>\n",
       "    <tr>\n",
       "      <th>4</th>\n",
       "      <td>2021-12</td>\n",
       "      <td>서울특별시 강남구 대치1동</td>\n",
       "      <td>Model S 75D</td>\n",
       "      <td>전기</td>\n",
       "      <td>2018</td>\n",
       "      <td>1979.0</td>\n",
       "    </tr>\n",
       "    <tr>\n",
       "      <th>...</th>\n",
       "      <td>...</td>\n",
       "      <td>...</td>\n",
       "      <td>...</td>\n",
       "      <td>...</td>\n",
       "      <td>...</td>\n",
       "      <td>...</td>\n",
       "    </tr>\n",
       "    <tr>\n",
       "      <th>184893</th>\n",
       "      <td>2021-12</td>\n",
       "      <td>서울특별시 성동구 성수2가3동</td>\n",
       "      <td>A8 L 60 TFSI quattro</td>\n",
       "      <td>하이브리드(휘발유+전기)</td>\n",
       "      <td>2021</td>\n",
       "      <td>NaN</td>\n",
       "    </tr>\n",
       "    <tr>\n",
       "      <th>184894</th>\n",
       "      <td>2021-12</td>\n",
       "      <td>서울특별시 성동구 성수2가3동</td>\n",
       "      <td>그랜저 하이브리드</td>\n",
       "      <td>하이브리드(휘발유+전기)</td>\n",
       "      <td>2019</td>\n",
       "      <td>1965.0</td>\n",
       "    </tr>\n",
       "    <tr>\n",
       "      <th>184895</th>\n",
       "      <td>2021-12</td>\n",
       "      <td>서울특별시 성동구 성수2가3동</td>\n",
       "      <td>그랜저 하이브리드 (GRANDEUR</td>\n",
       "      <td>하이브리드(휘발유+전기)</td>\n",
       "      <td>2016</td>\n",
       "      <td>1971.0</td>\n",
       "    </tr>\n",
       "    <tr>\n",
       "      <th>184896</th>\n",
       "      <td>2021-12</td>\n",
       "      <td>서울특별시 성동구 성수2가3동</td>\n",
       "      <td>니로 하이브리드</td>\n",
       "      <td>하이브리드(휘발유+전기)</td>\n",
       "      <td>2017</td>\n",
       "      <td>NaN</td>\n",
       "    </tr>\n",
       "    <tr>\n",
       "      <th>184897</th>\n",
       "      <td>2021-12</td>\n",
       "      <td>서울특별시 성동구 성수2가3동</td>\n",
       "      <td>토요타 Prius 2WD</td>\n",
       "      <td>하이브리드(휘발유+전기)</td>\n",
       "      <td>2021</td>\n",
       "      <td>1951.0</td>\n",
       "    </tr>\n",
       "  </tbody>\n",
       "</table>\n",
       "<p>184898 rows × 6 columns</p>\n",
       "</div>"
      ],
      "text/plain": [
       "           기준년월   사용본거지시읍면동_행정동기준                         차명             연료  \\\n",
       "0       2021-12    서울특별시 강남구 대치1동              토요타 Prius 2WD  하이브리드(휘발유+전기)   \n",
       "1       2021-12    서울특별시 강남구 대치1동        아이오닉 하이브리드(IONIQ HY  하이브리드(휘발유+전기)   \n",
       "2       2021-12    서울특별시 강남구 대치1동  Mercedes-Benz S500 4MATIC  하이브리드(휘발유+전기)   \n",
       "3       2021-12    서울특별시 강남구 대치1동       그랜저 하이브리드(GRANDEUR H  하이브리드(휘발유+전기)   \n",
       "4       2021-12    서울특별시 강남구 대치1동                Model S 75D             전기   \n",
       "...         ...               ...                        ...            ...   \n",
       "184893  2021-12  서울특별시 성동구 성수2가3동       A8 L 60 TFSI quattro  하이브리드(휘발유+전기)   \n",
       "184894  2021-12  서울특별시 성동구 성수2가3동                  그랜저 하이브리드  하이브리드(휘발유+전기)   \n",
       "184895  2021-12  서울특별시 성동구 성수2가3동       그랜저 하이브리드 (GRANDEUR   하이브리드(휘발유+전기)   \n",
       "184896  2021-12  서울특별시 성동구 성수2가3동                   니로 하이브리드  하이브리드(휘발유+전기)   \n",
       "184897  2021-12  서울특별시 성동구 성수2가3동              토요타 Prius 2WD  하이브리드(휘발유+전기)   \n",
       "\n",
       "        최초등록일  현소유자의출생년도  \n",
       "0        2020     1979.0  \n",
       "1        2017     1979.0  \n",
       "2        2021        NaN  \n",
       "3        2021     1971.0  \n",
       "4        2018     1979.0  \n",
       "...       ...        ...  \n",
       "184893   2021        NaN  \n",
       "184894   2019     1965.0  \n",
       "184895   2016     1971.0  \n",
       "184896   2017        NaN  \n",
       "184897   2021     1951.0  \n",
       "\n",
       "[184898 rows x 6 columns]"
      ]
     },
     "execution_count": 9,
     "metadata": {},
     "output_type": "execute_result"
    }
   ],
   "source": [
    "# 최초등록일에서 연도만 필요해서 \n",
    "temp = [] # '최초등록일' -> 연도만 빼서 int로 저장\n",
    "for i in seoulDF.index:\n",
    "    temp.append(int(seoulDF['최초등록일'].loc[i][:4]))\n",
    "seoulDF['최초등록일'] = temp\n",
    "seoulDF"
   ]
  },
  {
   "cell_type": "code",
   "execution_count": 10,
   "id": "faf198d4",
   "metadata": {},
   "outputs": [
    {
     "name": "stdout",
     "output_type": "stream",
     "text": [
      "<class 'pandas.core.frame.DataFrame'>\n",
      "RangeIndex: 184898 entries, 0 to 184897\n",
      "Data columns (total 6 columns):\n",
      " #   Column           Non-Null Count   Dtype  \n",
      "---  ------           --------------   -----  \n",
      " 0   기준년월             184898 non-null  object \n",
      " 1   사용본거지시읍면동_행정동기준  184887 non-null  object \n",
      " 2   차명               184898 non-null  object \n",
      " 3   연료               184898 non-null  object \n",
      " 4   최초등록일            184898 non-null  int64  \n",
      " 5   현소유자의출생년도        141232 non-null  float64\n",
      "dtypes: float64(1), int64(1), object(4)\n",
      "memory usage: 8.5+ MB\n"
     ]
    }
   ],
   "source": [
    "seoulDF.info()"
   ]
  },
  {
   "cell_type": "code",
   "execution_count": 11,
   "id": "c95091ac",
   "metadata": {},
   "outputs": [
    {
     "data": {
      "text/plain": [
       "50983"
      ]
     },
     "execution_count": 11,
     "metadata": {},
     "output_type": "execute_result"
    }
   ],
   "source": [
    "# 서울의 연도별 신규 전기차 등록대수(21년도) 추출\n",
    "seoul2021 = seoulDF[seoulDF['최초등록일'] ==2021].count()[0]  # seoul2021에 저장\n",
    "seoul2021"
   ]
  },
  {
   "cell_type": "code",
   "execution_count": 12,
   "id": "ee657852",
   "metadata": {},
   "outputs": [
    {
     "name": "stdout",
     "output_type": "stream",
     "text": [
      "<class 'pandas.core.frame.DataFrame'>\n",
      "RangeIndex: 7016 entries, 0 to 7015\n",
      "Data columns (total 8 columns):\n",
      " #   Column      Non-Null Count  Dtype  \n",
      "---  ------      --------------  -----  \n",
      " 0   region      7016 non-null   object \n",
      " 1   category    7016 non-null   object \n",
      " 2   parameter   7016 non-null   object \n",
      " 3   mode        7016 non-null   object \n",
      " 4   powertrain  7016 non-null   object \n",
      " 5   year        7016 non-null   int64  \n",
      " 6   unit        7016 non-null   object \n",
      " 7   value       7016 non-null   float64\n",
      "dtypes: float64(1), int64(1), object(6)\n",
      "memory usage: 438.6+ KB\n"
     ]
    }
   ],
   "source": [
    "# 전세계 전기차 데이터의 정보를 알아본다.\n",
    "evDF.info()"
   ]
  },
  {
   "cell_type": "code",
   "execution_count": 13,
   "id": "38d9d599",
   "metadata": {},
   "outputs": [
    {
     "data": {
      "text/plain": [
       "Index(['region', 'category', 'parameter', 'mode', 'powertrain', 'year', 'unit',\n",
       "       'value'],\n",
       "      dtype='object')"
      ]
     },
     "execution_count": 13,
     "metadata": {},
     "output_type": "execute_result"
    }
   ],
   "source": [
    "# evDF의 컬럼이 무엇으로 구성되어 있는지 확인\n",
    "evDF.columns"
   ]
  },
  {
   "cell_type": "code",
   "execution_count": 14,
   "id": "2c5aa5cd",
   "metadata": {
    "scrolled": true
   },
   "outputs": [
    {
     "data": {
      "text/plain": [
       "[array(['Australia', 'Belgium', 'Brazil', 'Canada', 'Chile', 'China',\n",
       "        'Denmark', 'Europe', 'Finland', 'France', 'Germany', 'Greece',\n",
       "        'Iceland', 'India', 'Indonesia', 'Italy', 'Japan', 'Korea',\n",
       "        'Mexico', 'Netherlands', 'New Zealand', 'Norway', 'Other Europe',\n",
       "        'Poland', 'Portugal', 'Rest of the world', 'South Africa', 'Spain',\n",
       "        'Sweden', 'Switzerland', 'Thailand', 'United Kingdom', 'USA',\n",
       "        'World'], dtype=object),\n",
       " array(['Historical', 'Projection-APS', 'Projection-STEPS'], dtype=object),\n",
       " array(['EV sales', 'EV stock', 'EV sales share', 'EV stock share',\n",
       "        'EV charging points', 'Oil displacement Mbd',\n",
       "        'Oil displacement Mlge', 'Electricity demand'], dtype=object),\n",
       " array(['Cars', 'EV', 'Trucks', 'Vans', 'Buses'], dtype=object),\n",
       " array(['BEV', 'EV', 'PHEV', 'Publicly available fast',\n",
       "        'Publicly available slow'], dtype=object),\n",
       " array([2011, 2012, 2013, 2014, 2015, 2016, 2017, 2018, 2019, 2020, 2021,\n",
       "        2010, 2025, 2030], dtype=int64),\n",
       " array(['sales', 'stock', 'percent', 'charging points',\n",
       "        'Milion barrels per day', 'Milion litres gasoline equivalent',\n",
       "        'GWh'], dtype=object),\n",
       " array([4.90000000e+01, 6.47862069e-03, 4.63602657e-04, ...,\n",
       "        1.39434297e+04, 1.62078379e+04, 1.41228516e+05])]"
      ]
     },
     "execution_count": 14,
     "metadata": {},
     "output_type": "execute_result"
    }
   ],
   "source": [
    "# unique 메서드를 사용해서 각 컬럼 마다 무슨 값이 들어있는지 확인\n",
    "someUnique = [evDF[col].unique() for col in evDF.columns]\n",
    "someUnique"
   ]
  },
  {
   "cell_type": "code",
   "execution_count": 15,
   "id": "ce891c86",
   "metadata": {},
   "outputs": [
    {
     "data": {
      "text/plain": [
       "array([2011, 2012, 2013, 2014, 2015, 2016, 2017, 2018, 2019, 2020, 2021,\n",
       "       2010, 2025, 2030], dtype=int64)"
      ]
     },
     "execution_count": 15,
     "metadata": {},
     "output_type": "execute_result"
    }
   ],
   "source": [
    "someUnique[5]"
   ]
  },
  {
   "cell_type": "code",
   "execution_count": 16,
   "id": "a969db50",
   "metadata": {},
   "outputs": [
    {
     "data": {
      "text/html": [
       "<div>\n",
       "<style scoped>\n",
       "    .dataframe tbody tr th:only-of-type {\n",
       "        vertical-align: middle;\n",
       "    }\n",
       "\n",
       "    .dataframe tbody tr th {\n",
       "        vertical-align: top;\n",
       "    }\n",
       "\n",
       "    .dataframe thead th {\n",
       "        text-align: right;\n",
       "    }\n",
       "</style>\n",
       "<table border=\"1\" class=\"dataframe\">\n",
       "  <thead>\n",
       "    <tr style=\"text-align: right;\">\n",
       "      <th></th>\n",
       "      <th>region</th>\n",
       "      <th>category</th>\n",
       "      <th>parameter</th>\n",
       "      <th>mode</th>\n",
       "      <th>powertrain</th>\n",
       "      <th>year</th>\n",
       "      <th>unit</th>\n",
       "      <th>value</th>\n",
       "    </tr>\n",
       "  </thead>\n",
       "  <tbody>\n",
       "    <tr>\n",
       "      <th>0</th>\n",
       "      <td>Australia</td>\n",
       "      <td>Historical</td>\n",
       "      <td>EV sales</td>\n",
       "      <td>Cars</td>\n",
       "      <td>BEV</td>\n",
       "      <td>2011</td>\n",
       "      <td>sales</td>\n",
       "      <td>49.000000</td>\n",
       "    </tr>\n",
       "    <tr>\n",
       "      <th>1</th>\n",
       "      <td>Australia</td>\n",
       "      <td>Historical</td>\n",
       "      <td>EV stock</td>\n",
       "      <td>Cars</td>\n",
       "      <td>BEV</td>\n",
       "      <td>2011</td>\n",
       "      <td>stock</td>\n",
       "      <td>49.000000</td>\n",
       "    </tr>\n",
       "    <tr>\n",
       "      <th>2</th>\n",
       "      <td>Australia</td>\n",
       "      <td>Historical</td>\n",
       "      <td>EV sales share</td>\n",
       "      <td>Cars</td>\n",
       "      <td>EV</td>\n",
       "      <td>2011</td>\n",
       "      <td>percent</td>\n",
       "      <td>0.006479</td>\n",
       "    </tr>\n",
       "    <tr>\n",
       "      <th>3</th>\n",
       "      <td>Australia</td>\n",
       "      <td>Historical</td>\n",
       "      <td>EV stock share</td>\n",
       "      <td>Cars</td>\n",
       "      <td>EV</td>\n",
       "      <td>2011</td>\n",
       "      <td>percent</td>\n",
       "      <td>0.000464</td>\n",
       "    </tr>\n",
       "    <tr>\n",
       "      <th>4</th>\n",
       "      <td>Australia</td>\n",
       "      <td>Historical</td>\n",
       "      <td>EV stock share</td>\n",
       "      <td>Cars</td>\n",
       "      <td>EV</td>\n",
       "      <td>2012</td>\n",
       "      <td>percent</td>\n",
       "      <td>0.002785</td>\n",
       "    </tr>\n",
       "    <tr>\n",
       "      <th>...</th>\n",
       "      <td>...</td>\n",
       "      <td>...</td>\n",
       "      <td>...</td>\n",
       "      <td>...</td>\n",
       "      <td>...</td>\n",
       "      <td>...</td>\n",
       "      <td>...</td>\n",
       "      <td>...</td>\n",
       "    </tr>\n",
       "    <tr>\n",
       "      <th>6491</th>\n",
       "      <td>USA</td>\n",
       "      <td>Historical</td>\n",
       "      <td>Oil displacement Mlge</td>\n",
       "      <td>Cars</td>\n",
       "      <td>EV</td>\n",
       "      <td>2021</td>\n",
       "      <td>Milion litres gasoline equivalent</td>\n",
       "      <td>3372.190918</td>\n",
       "    </tr>\n",
       "    <tr>\n",
       "      <th>6494</th>\n",
       "      <td>USA</td>\n",
       "      <td>Historical</td>\n",
       "      <td>EV stock</td>\n",
       "      <td>Cars</td>\n",
       "      <td>PHEV</td>\n",
       "      <td>2021</td>\n",
       "      <td>stock</td>\n",
       "      <td>721103.000000</td>\n",
       "    </tr>\n",
       "    <tr>\n",
       "      <th>6495</th>\n",
       "      <td>USA</td>\n",
       "      <td>Historical</td>\n",
       "      <td>EV stock share</td>\n",
       "      <td>Cars</td>\n",
       "      <td>EV</td>\n",
       "      <td>2021</td>\n",
       "      <td>percent</td>\n",
       "      <td>0.898901</td>\n",
       "    </tr>\n",
       "    <tr>\n",
       "      <th>6496</th>\n",
       "      <td>USA</td>\n",
       "      <td>Historical</td>\n",
       "      <td>Electricity demand</td>\n",
       "      <td>Cars</td>\n",
       "      <td>BEV</td>\n",
       "      <td>2021</td>\n",
       "      <td>GWh</td>\n",
       "      <td>6479.013672</td>\n",
       "    </tr>\n",
       "    <tr>\n",
       "      <th>6497</th>\n",
       "      <td>USA</td>\n",
       "      <td>Historical</td>\n",
       "      <td>Electricity demand</td>\n",
       "      <td>Cars</td>\n",
       "      <td>PHEV</td>\n",
       "      <td>2021</td>\n",
       "      <td>GWh</td>\n",
       "      <td>899.754822</td>\n",
       "    </tr>\n",
       "  </tbody>\n",
       "</table>\n",
       "<p>4763 rows × 8 columns</p>\n",
       "</div>"
      ],
      "text/plain": [
       "         region    category              parameter  mode powertrain  year  \\\n",
       "0     Australia  Historical               EV sales  Cars        BEV  2011   \n",
       "1     Australia  Historical               EV stock  Cars        BEV  2011   \n",
       "2     Australia  Historical         EV sales share  Cars         EV  2011   \n",
       "3     Australia  Historical         EV stock share  Cars         EV  2011   \n",
       "4     Australia  Historical         EV stock share  Cars         EV  2012   \n",
       "...         ...         ...                    ...   ...        ...   ...   \n",
       "6491        USA  Historical  Oil displacement Mlge  Cars         EV  2021   \n",
       "6494        USA  Historical               EV stock  Cars       PHEV  2021   \n",
       "6495        USA  Historical         EV stock share  Cars         EV  2021   \n",
       "6496        USA  Historical     Electricity demand  Cars        BEV  2021   \n",
       "6497        USA  Historical     Electricity demand  Cars       PHEV  2021   \n",
       "\n",
       "                                   unit          value  \n",
       "0                                 sales      49.000000  \n",
       "1                                 stock      49.000000  \n",
       "2                               percent       0.006479  \n",
       "3                               percent       0.000464  \n",
       "4                               percent       0.002785  \n",
       "...                                 ...            ...  \n",
       "6491  Milion litres gasoline equivalent    3372.190918  \n",
       "6494                              stock  721103.000000  \n",
       "6495                            percent       0.898901  \n",
       "6496                                GWh    6479.013672  \n",
       "6497                                GWh     899.754822  \n",
       "\n",
       "[4763 rows x 8 columns]"
      ]
     },
     "execution_count": 16,
     "metadata": {},
     "output_type": "execute_result"
    }
   ],
   "source": [
    "# 과거의 자료만 필요하니까 category = Historical 만 추출.\n",
    "hevDF = evDF[evDF['category'] == 'Historical'].copy()\n",
    "# region에서 나라를 선택\n",
    "choose = [someUnique[0][i] for i in [0,1,2,3,4,5,6,8,9,10,11,12,13,14,15,16,17,18,19,20,21,23,24,25,26,27,28,29,30,31,32]]\n",
    "\n",
    "hev_cond = hevDF['region'].isin(choose)\n",
    "hevDF2 = hevDF[hev_cond]\n",
    "hevDF2     "
   ]
  },
  {
   "cell_type": "code",
   "execution_count": 17,
   "id": "9dad7a8c",
   "metadata": {},
   "outputs": [
    {
     "data": {
      "text/plain": [
       "array([2010, 2011, 2012, 2013, 2014, 2015, 2016, 2017, 2018, 2019, 2020,\n",
       "       2021], dtype=int64)"
      ]
     },
     "execution_count": 17,
     "metadata": {},
     "output_type": "execute_result"
    }
   ],
   "source": [
    "# x축으로 쓸 연도를 뽑는다.\n",
    "hevUnique = someUnique[5][:-2]\n",
    "hevUnique.sort()\n",
    "hevUnique"
   ]
  },
  {
   "cell_type": "code",
   "execution_count": 18,
   "id": "783c0e40",
   "metadata": {},
   "outputs": [
    {
     "name": "stdout",
     "output_type": "stream",
     "text": [
      "전기차 판매량 합: \n",
      " region          year\n",
      "Australia       2011        49.000000\n",
      "                2012       253.000000\n",
      "                2013       293.000000\n",
      "                2014      1322.000000\n",
      "                2015      1771.000000\n",
      "                            ...      \n",
      "United Kingdom  2017     48575.599609\n",
      "                2018     51819.060547\n",
      "                2019     78197.000000\n",
      "                2020    181143.000000\n",
      "                2021    326990.000000\n",
      "Name: value, Length: 322, dtype: float64 \n",
      "전기차 판매 비중: \n",
      "region          year\n",
      "Australia       2011    0.000464\n",
      "                2012    0.002785\n",
      "                2013    0.005384\n",
      "                2014    0.017083\n",
      "                2015    0.032180\n",
      "                          ...   \n",
      "United Kingdom  2017    0.983908\n",
      "                2018    1.305138\n",
      "                2019    1.764229\n",
      "                2020    2.645560\n",
      "                2021    4.342503\n",
      "Name: value, Length: 316, dtype: float64\n"
     ]
    }
   ],
   "source": [
    "hevDFsales = hevDF2[hevDF2['parameter'] == 'EV sales']\n",
    "hevDFshare = hevDF2[hevDF2['parameter'] == 'EV stock share']\n",
    "# 지역, 연도 별로 판매량을 region_year_sum이라는 multiindex Series에 담고,\n",
    "# 전기차 비중은 region_year_share에 담습니다. \n",
    "region_year_sum = hevDFsales.groupby(['region', 'year'])['value'].sum()\n",
    "region_year_share = hevDFshare.groupby(['region', 'year'])['value'].sum()\n",
    "print(f'전기차 판매량 합: \\n {region_year_sum}', f'\\n전기차 판매 비중: \\n{region_year_share}')"
   ]
  },
  {
   "cell_type": "code",
   "execution_count": 19,
   "id": "21101510",
   "metadata": {},
   "outputs": [],
   "source": [
    "# 데이터 없는 연도 0으로 예외 처리하는 함수 생성\n",
    "def data0(yearlist, multiindex_series):\n",
    "    for region in someUnique[0]:\n",
    "        for year in hevUnique:\n",
    "            try: multiindex_series[region,year]\n",
    "            except Exception: \n",
    "                multiindex_series[region,year] = 0\n",
    "\n",
    "data0(hevUnique, region_year_sum)\n",
    "data0(hevUnique, region_year_share)"
   ]
  },
  {
   "cell_type": "code",
   "execution_count": 20,
   "id": "cf9a3b8c",
   "metadata": {},
   "outputs": [
    {
     "data": {
      "text/plain": [
       "['Korea',\n",
       " 'Sweden',\n",
       " 'Italy',\n",
       " 'Norway',\n",
       " 'France',\n",
       " 'United Kingdom',\n",
       " 'USA',\n",
       " 'Germany',\n",
       " 'China',\n",
       " 'etc']"
      ]
     },
     "execution_count": 20,
     "metadata": {},
     "output_type": "execute_result"
    }
   ],
   "source": [
    "# 2021년도 판매량이 높은 대표적인 국가 11개를 선발하고, 나머지는 etc로 묶자.\n",
    "sort_sum = region_year_sum[:,2021].sort_values(ascending=False)\n",
    "# 중국, 독일, 미국, 영국, 프랑스, 노르웨이, 이탈리아, 스웨덴, 한국, 네덜란드, 캐나다, 기타\n",
    "chosen_country = list(sort_sum.head(9).index)\n",
    "for region in someUnique[0]:\n",
    "    if region not in list(chosen_country):\n",
    "        for year in hevUnique:\n",
    "            temp_sum = region_year_sum[region,year]\n",
    "            temp_share = region_year_share[region,year]\n",
    "            try: region_year_sum[('etc', year)] += temp_sum\n",
    "            except Exception: region_year_sum[('etc', year)] = temp_sum\n",
    "            try: region_year_share[('etc', year)] += temp_share\n",
    "            except Exception: region_year_share[('etc', year)] = temp_share\n",
    "\n",
    "chosen_country.reverse()\n",
    "chosen_country.append('etc')\n",
    "chosen_country"
   ]
  },
  {
   "cell_type": "code",
   "execution_count": 21,
   "id": "9d619cd3",
   "metadata": {},
   "outputs": [],
   "source": [
    "# chosen_country에 해당하는 부분 region_year_sum 데이터프레임에서 고르기\n",
    "chosen_year_sum = region_year_sum[chosen_country]\n",
    "chosen_year_share = region_year_share[chosen_country]\n",
    "# 2021년의 chosen_country에 대응되는 부분 chosen_year_share에서 값 추출\n",
    "share_value2021 = [chosen_year_share[col, 2021] for col in chosen_country][:-1]"
   ]
  },
  {
   "cell_type": "code",
   "execution_count": 22,
   "id": "e31cf6db",
   "metadata": {},
   "outputs": [
    {
     "data": {
      "text/plain": [
       "119402.0"
      ]
     },
     "execution_count": 22,
     "metadata": {},
     "output_type": "execute_result"
    }
   ],
   "source": [
    "korea2021 = chosen_year_sum['Korea', 2021]\n",
    "korea2021"
   ]
  },
  {
   "cell_type": "code",
   "execution_count": 23,
   "id": "0a8dece6",
   "metadata": {},
   "outputs": [
    {
     "name": "stdout",
     "output_type": "stream",
     "text": [
      "region\n",
      "China             1147000.0\n",
      "France              54260.0\n",
      "Germany             50972.0\n",
      "Italy               22471.0\n",
      "Korea              106701.0\n",
      "Norway              19278.0\n",
      "Sweden              14094.0\n",
      "USA                113527.0\n",
      "United Kingdom      36894.0\n",
      "Name: value, dtype: float64 region\n",
      "Korea             1.194020e+05\n",
      "Sweden            1.387710e+05\n",
      "Italy             1.416150e+05\n",
      "Norway            1.536990e+05\n",
      "France            3.220430e+05\n",
      "United Kingdom    3.269900e+05\n",
      "USA               6.311520e+05\n",
      "Germany           6.956570e+05\n",
      "China             3.519054e+06\n",
      "etc               6.509170e+05\n",
      "Name: value, dtype: float64\n"
     ]
    }
   ],
   "source": [
    "# 2021년도 충전소 개수(누적)\n",
    "chargeDF = evDF[(evDF['unit'] == 'charging points') & (evDF['category'] == 'Historical') & (evDF['region'].isin(chosen_country)) & (evDF['year'] == 2021) ]\n",
    "chosen_charge = chargeDF.groupby('region')['value'].sum()\n",
    "print(chosen_charge, chosen_year_sum[:,2021] )"
   ]
  },
  {
   "cell_type": "code",
   "execution_count": 24,
   "id": "932392ac",
   "metadata": {},
   "outputs": [
    {
     "name": "stdout",
     "output_type": "stream",
     "text": [
      "region\n",
      "China             9.003350e+06\n",
      "France            7.942572e+05\n",
      "Germany           1.425658e+06\n",
      "Italy             2.470780e+05\n",
      "Korea             2.985530e+05\n",
      "Norway            5.965190e+05\n",
      "Sweden            3.599490e+05\n",
      "USA               2.373985e+06\n",
      "United Kingdom    7.812717e+05\n",
      "etc               2.053867e+06\n",
      "Name: value, dtype: float64\n"
     ]
    }
   ],
   "source": [
    "chosen_sum = chosen_year_sum.groupby('region').sum()\n",
    "print(chosen_sum)"
   ]
  },
  {
   "cell_type": "code",
   "execution_count": 25,
   "id": "fc8609c5",
   "metadata": {},
   "outputs": [
    {
     "name": "stdout",
     "output_type": "stream",
     "text": [
      "region\n",
      "Korea             35.739383\n",
      "China             12.739703\n",
      "Italy              9.094699\n",
      "France             6.831541\n",
      "USA                4.782128\n",
      "United Kingdom     4.722301\n",
      "Sweden             3.915555\n",
      "Germany            3.575332\n",
      "Norway             3.231750\n",
      "etc                     NaN\n",
      "Name: value, dtype: float64\n"
     ]
    }
   ],
   "source": [
    "# 충전소 개수 / 전기차 대수 계산한 값 -> 한 전기차 당 몇개의 충전소가 있는지 확인 가능\n",
    "chosen_charge_per = 100 *chosen_charge / chosen_sum\n",
    "charge_per_decend = chosen_charge_per.sort_values(ascending=False) \n",
    "print(charge_per_decend)"
   ]
  },
  {
   "cell_type": "code",
   "execution_count": 26,
   "id": "c0f160a7",
   "metadata": {},
   "outputs": [
    {
     "data": {
      "image/png": "[encoded data removed]",
      "text/plain": [
       "<Figure size 432x288 with 1 Axes>"
      ]
     },
     "metadata": {
      "needs_background": "light"
     },
     "output_type": "display_data"
    }
   ],
   "source": [
    "def world_sales(labels, countrylist, sumDF): \n",
    "    labels = hevUnique\n",
    "    fig, ax = plt.subplots()\n",
    "    somevalue =np.zeros(12)\n",
    "    width = 0.5\n",
    "    for region in countrylist:\n",
    "        temp = sumDF[region]\n",
    "        temp.sort_index(inplace=True)\n",
    "        ax.bar(labels, temp, width, bottom = somevalue, label=f'{region}')\n",
    "        somevalue += temp\n",
    "    ax.set_ylabel('판매량')\n",
    "    ax.set_title('전세계 연도별 전기차 판매량')\n",
    "    ax.legend()\n",
    "    plt.show()\n",
    "    \n",
    "world_sales(hevUnique,chosen_country, chosen_year_sum)"
   ]
  },
  {
   "cell_type": "code",
   "execution_count": 27,
   "id": "84f617d0",
   "metadata": {},
   "outputs": [
    {
     "data": {
      "image/png": "[encoded data removed]",
      "text/plain": [
       "<Figure size 432x288 with 1 Axes>"
      ]
     },
     "metadata": {},
     "output_type": "display_data"
    }
   ],
   "source": [
    "# 2021년 전세계 전기차 판매량 파이 차트\n",
    "def makepie(label, size):\n",
    "    plt.pie(size,labels = label, autopct='%.1f%%',  startangle=90, pctdistance = 0.85)\n",
    "    plt.title('2021년도 전세계 전기차 판매량 파이 차트')\n",
    "    plt.show()\n",
    "makepie(chosen_country, chosen_year_sum[:, 2021])"
   ]
  },
  {
   "cell_type": "code",
   "execution_count": 28,
   "id": "d4dff50c",
   "metadata": {},
   "outputs": [],
   "source": [
    "# someSeries = pd.Series(chosen_year_share[:, 2021][:-1], chosen_country[:-1])\n",
    "# someSeries = someSeries.sort_values(ascending = False)\n",
    "# someSeries"
   ]
  },
  {
   "cell_type": "code",
   "execution_count": 29,
   "id": "8f5f5f44",
   "metadata": {},
   "outputs": [
    {
     "data": {
      "image/png": "[encoded data removed]",
      "text/plain": [
       "<Figure size 432x288 with 1 Axes>"
      ]
     },
     "metadata": {
      "needs_background": "light"
     },
     "output_type": "display_data"
    }
   ],
   "source": [
    "def makebar(label, size):\n",
    "    label[5] ='UK'\n",
    "    plt.bar(label, size, color = 'g')\n",
    "    plt.title('21년도 기준 전기차 판매비율 ( 전기차/전체차)')\n",
    "    plt.show()\n",
    "makebar(chosen_country[:-1],chosen_year_share[:, 2021][:-1])"
   ]
  },
  {
   "cell_type": "code",
   "execution_count": 30,
   "id": "79570f3a",
   "metadata": {
    "scrolled": true
   },
   "outputs": [
    {
     "data": {
      "image/png": "[encoded data removed]",
      "text/plain": [
       "<Figure size 432x288 with 2 Axes>"
      ]
     },
     "metadata": {
      "needs_background": "light"
     },
     "output_type": "display_data"
    }
   ],
   "source": [
    "# 기능 실행\n",
    "\n",
    "# 여러개의 플롯을 그리는 법\n",
    "fig= plt.figure()\n",
    "\n",
    "# 1. 21년도 기준 서울과 서울 이외 지역 전기차 판매량 비교\n",
    "ax1 = fig.add_subplot(121)\n",
    "ax1.set_title('2021년도 신규 전기차 등록대수')\n",
    "ax1.pie([seoul2021,korea2021-seoul2021], labels=['서울', '서울 이외 지역'],autopct='%.1f%%')\n",
    "\n",
    "\n",
    "\n",
    "# 2. 21년도 기준 전세계 전기차 충전소 개수/판매량 을 국가별로 비교\n",
    "ax2 = fig.add_subplot(122)\n",
    "labels2 = charge_per_decend.index\n",
    "sizes2 = charge_per_decend\n",
    "ax2.bar(labels2, sizes2, color = 'limegreen')\n",
    "ax2.set_title('2021년도 충전소/전기차대수 현황')\n",
    "ax2.set_xticks(labels2)\n",
    "ax2.set_xticklabels(labels2, rotation=90)\n",
    "ax2.grid(True)\n",
    "\n",
    "\n",
    "# 여러개 plot 간격 자동 조절\n",
    "fig.tight_layout()\n",
    "\n",
    "# 화면 출력\n",
    "plt.show()\n",
    "\n"
   ]
  },
  {
   "cell_type": "code",
   "execution_count": 31,
   "id": "2365cc4e",
   "metadata": {},
   "outputs": [
    {
     "data": {
      "image/png": "[encoded data removed]",
      "text/plain": [
       "<Figure size 432x288 with 1 Axes>"
      ]
     },
     "metadata": {
      "needs_background": "light"
     },
     "output_type": "display_data"
    },
    {
     "data": {
      "image/png": "[encoded data removed]",
      "text/plain": [
       "<Figure size 432x288 with 1 Axes>"
      ]
     },
     "metadata": {},
     "output_type": "display_data"
    },
    {
     "data": {
      "image/png": "[encoded data removed]",
      "text/plain": [
       "<Figure size 432x288 with 1 Axes>"
      ]
     },
     "metadata": {
      "needs_background": "light"
     },
     "output_type": "display_data"
    }
   ],
   "source": [
    "\n",
    "\n",
    "# 3. 연도별 전기차 판매량을 국가별로 비교 \n",
    "world_sales(hevUnique,chosen_country, chosen_year_sum)\n",
    "# 4. 21년도 기준 전세계 전기차 판매량을 국가별로 비교\n",
    "makepie(chosen_country, chosen_year_sum[:, 2021])\n",
    "# 5. 21년도 기준 전기차 판매비율 ( 전기차/전체차)을 국가별로 비교\n",
    "makebar(chosen_country[:-1],chosen_year_share[:, 2021][:-1])"
   ]
  }
 ],
 "metadata": {
  "kernelspec": {
   "display_name": "Python 3 (ipykernel)",
   "language": "python",
   "name": "python3"
  },
  "language_info": {
   "codemirror_mode": {
    "name": "ipython",
    "version": 3
   },
   "file_extension": ".py",
   "mimetype": "text/x-python",
   "name": "python",
   "nbconvert_exporter": "python",
   "pygments_lexer": "ipython3",
   "version": "3.9.12"
  },
  "vscode": {
   "interpreter": {
    "hash": "d1dde8d3f1fc6169eb2afb9c884f1482ff31994a855398e316a83a9dc8ff488b"
   }
  }
 },
 "nbformat": 4,
 "nbformat_minor": 5
}
