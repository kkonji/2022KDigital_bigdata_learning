{
 "cells": [
  {
   "cell_type": "markdown",
   "id": "da3174d5",
   "metadata": {},
   "source": [
    "# pd.Series 연습하는 파일"
   ]
  },
  {
   "cell_type": "markdown",
   "id": "9b52e3c1",
   "metadata": {},
   "source": [
    "### series 연산    -> DataFrame도 연산 똑같다\n",
    "1. Series객체 + 연산자(+,-,*,/) + 숫자\n",
    "2. Series객체 + 연산자(+,-,*,/) + Series객체\n",
    "3. Series객체.연산메소드(Series객체, fill_value = 0)\n",
    "\n",
    "- Series 객체의 모든 원소에 숫자 연산 적용 -> 브로드캐스팅"
   ]
  },
  {
   "cell_type": "code",
   "execution_count": 2,
   "id": "1cfc485a",
   "metadata": {},
   "outputs": [],
   "source": [
    "import pandas as pd"
   ]
  },
  {
   "cell_type": "code",
   "execution_count": 3,
   "id": "f85a8a98",
   "metadata": {},
   "outputs": [
    {
     "data": {
      "text/html": [
       "<div>\n",
       "<style scoped>\n",
       "    .dataframe tbody tr th:only-of-type {\n",
       "        vertical-align: middle;\n",
       "    }\n",
       "\n",
       "    .dataframe tbody tr th {\n",
       "        vertical-align: top;\n",
       "    }\n",
       "\n",
       "    .dataframe thead th {\n",
       "        text-align: right;\n",
       "    }\n",
       "</style>\n",
       "<table border=\"1\" class=\"dataframe\">\n",
       "  <thead>\n",
       "    <tr style=\"text-align: right;\">\n",
       "      <th></th>\n",
       "      <th>이름</th>\n",
       "      <th>수학</th>\n",
       "      <th>영어</th>\n",
       "      <th>음악</th>\n",
       "      <th>체육</th>\n",
       "    </tr>\n",
       "  </thead>\n",
       "  <tbody>\n",
       "    <tr>\n",
       "      <th>0</th>\n",
       "      <td>서준</td>\n",
       "      <td>90</td>\n",
       "      <td>82</td>\n",
       "      <td>40</td>\n",
       "      <td>100</td>\n",
       "    </tr>\n",
       "    <tr>\n",
       "      <th>1</th>\n",
       "      <td>우현</td>\n",
       "      <td>80</td>\n",
       "      <td>79</td>\n",
       "      <td>85</td>\n",
       "      <td>90</td>\n",
       "    </tr>\n",
       "    <tr>\n",
       "      <th>2</th>\n",
       "      <td>인아</td>\n",
       "      <td>70</td>\n",
       "      <td>85</td>\n",
       "      <td>100</td>\n",
       "      <td>90</td>\n",
       "    </tr>\n",
       "  </tbody>\n",
       "</table>\n",
       "</div>"
      ],
      "text/plain": [
       "   이름  수학  영어   음악   체육\n",
       "0  서준  90  82   40  100\n",
       "1  우현  80  79   85   90\n",
       "2  인아  70  85  100   90"
      ]
     },
     "execution_count": 3,
     "metadata": {},
     "output_type": "execute_result"
    }
   ],
   "source": [
    "exam_data = {'이름':  ['서준', '우현', '인아'], '수학':[90, 80, 70], '영어':[82, 79, 85], '음악':[40,85,100], '체육':[100,90,90]}\n",
    "df2 = pd.DataFrame(exam_data)\n",
    "df2"
   ]
  },
  {
   "cell_type": "code",
   "execution_count": 4,
   "id": "1722bd15",
   "metadata": {},
   "outputs": [
    {
     "data": {
      "text/plain": [
       "0    10\n",
       "1    20\n",
       "2    30\n",
       "3    40\n",
       "dtype: int64"
      ]
     },
     "execution_count": 4,
     "metadata": {},
     "output_type": "execute_result"
    }
   ],
   "source": [
    "# Series 객체 생성\n",
    "sr = pd.Series([10,20,30,40])\n",
    "# Series 객체 데이터 확인\n",
    "sr"
   ]
  },
  {
   "cell_type": "code",
   "execution_count": 5,
   "id": "257db58f",
   "metadata": {},
   "outputs": [
    {
     "name": "stdout",
     "output_type": "stream",
     "text": [
      "결과: \n",
      "0    15\n",
      "1    25\n",
      "2    35\n",
      "3    45\n",
      "dtype: int64\n",
      "타입: <class 'pandas.core.series.Series'>\n"
     ]
    }
   ],
   "source": [
    "# 숫자 데이터와 연산 수행(+,-,*,/,//,** 등)\n",
    "result = sr+5\n",
    "print(f'결과: \\n{result}', f'타입: {type(result)}', sep='\\n')"
   ]
  },
  {
   "cell_type": "code",
   "execution_count": 7,
   "id": "1affc019",
   "metadata": {},
   "outputs": [
    {
     "name": "stdout",
     "output_type": "stream",
     "text": [
      "결과: \n",
      "0    2\n",
      "1    4\n",
      "2    6\n",
      "3    8\n",
      "dtype: int64\n",
      "타입: <class 'pandas.core.series.Series'>\n"
     ]
    }
   ],
   "source": [
    "result = sr //5 \n",
    "print(f'결과: \\n{result}', f'타입: {type(result)}', sep='\\n')"
   ]
  },
  {
   "cell_type": "code",
   "execution_count": 10,
   "id": "34465905",
   "metadata": {},
   "outputs": [
    {
     "data": {
      "text/plain": [
       "국어    180\n",
       "수학    120\n",
       "영어    105\n",
       "dtype: int64"
      ]
     },
     "execution_count": 10,
     "metadata": {},
     "output_type": "execute_result"
    }
   ],
   "source": [
    "# 시리즈 객체끼리 연산 (series + series)\n",
    "# 인덱스 정렬 후 동일 인덱스끼리 연산 수행\n",
    "sr1=pd.Series({'국어':90, '영어':40, '수학': 50})\n",
    "sr2=pd.Series({'수학':70, '국어':90, '영어': 65})\n",
    "result=sr1+sr2\n",
    "result\n",
    "\n"
   ]
  },
  {
   "cell_type": "code",
   "execution_count": 11,
   "id": "aa78c8be",
   "metadata": {},
   "outputs": [
    {
     "data": {
      "text/plain": [
       "국어    180.0\n",
       "수학    120.0\n",
       "영어      NaN\n",
       "dtype: float64"
      ]
     },
     "execution_count": 11,
     "metadata": {},
     "output_type": "execute_result"
    }
   ],
   "source": [
    "sr3=pd.Series({'수학':70, '국어':90}) # 동일 인덱스가 없는 경우 연산 수행 안함 -> NaN 빈칸의미\n",
    "result = sr1 + sr3\n",
    "result"
   ]
  },
  {
   "cell_type": "code",
   "execution_count": 12,
   "id": "341f6920",
   "metadata": {},
   "outputs": [],
   "source": [
    "# 연산 메소드:fill_value를 채울수있다는 장점\n",
    "# add, sub, mul, div"
   ]
  },
  {
   "cell_type": "markdown",
   "id": "a1a4be7e",
   "metadata": {},
   "source": []
  }
 ],
 "metadata": {
  "kernelspec": {
   "display_name": "Python 3.11.0 64-bit",
   "language": "python",
   "name": "python3"
  },
  "language_info": {
   "codemirror_mode": {
    "name": "ipython",
    "version": 3
   },
   "file_extension": ".py",
   "mimetype": "text/x-python",
   "name": "python",
   "nbconvert_exporter": "python",
   "pygments_lexer": "ipython3",
   "version": "3.11.0"
  },
  "vscode": {
   "interpreter": {
    "hash": "d417a21d97a2e6b8832d21dc44f5cbe4be6e18325f874a8bb8484565b928cd54"
   }
  }
 },
 "nbformat": 4,
 "nbformat_minor": 5
}
