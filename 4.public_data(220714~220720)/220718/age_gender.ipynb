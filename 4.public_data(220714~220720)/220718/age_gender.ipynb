{
 "cells": [
  {
   "cell_type": "code",
   "execution_count": 1,
   "metadata": {},
   "outputs": [],
   "source": [
    "import pandas as pd \n",
    "import numpy as np\n",
    "import matplotlib.pyplot as plt\n",
    "import csv"
   ]
  },
  {
   "cell_type": "code",
   "execution_count": 3,
   "metadata": {},
   "outputs": [
    {
     "name": "stdout",
     "output_type": "stream",
     "text": [
      "['행정구역', '2022년06월_계_총인구수', '2022년06월_계_연령구간인구수', '2022년06월_계_0세', '2022년06월_계_1세', '2022년06월_계_2세', '2022년06월_계_3세', '2022년06월_계_4세', '2022년06월_계_5세', '2022년06월_계_6세', '2022년06월_계_7세', '2022년06월_계_8세', '2022년06월_계_9세', '2022년06월_계_10세', '2022년06월_계_11세', '2022년06월_계_12세', '2022년06월_계_13세', '2022년06월_계_14세', '2022년06월_계_15세', '2022년06월_계_16세', '2022년06월_계_17세', '2022년06월_계_18세', '2022년06월_계_19세', '2022년06월_계_20세', '2022년06월_계_21세', '2022년06월_계_22세', '2022년06월_계_23세', '2022년06월_계_24세', '2022년06월_계_25세', '2022년06월_계_26세', '2022년06월_계_27세', '2022년06월_계_28세', '2022년06월_계_29세', '2022년06월_계_30세', '2022년06월_계_31세', '2022년06월_계_32세', '2022년06월_계_33세', '2022년06월_계_34세', '2022년06월_계_35세', '2022년06월_계_36세', '2022년06월_계_37세', '2022년06월_계_38세', '2022년06월_계_39세', '2022년06월_계_40세', '2022년06월_계_41세', '2022년06월_계_42세', '2022년06월_계_43세', '2022년06월_계_44세', '2022년06월_계_45세', '2022년06월_계_46세', '2022년06월_계_47세', '2022년06월_계_48세', '2022년06월_계_49세', '2022년06월_계_50세', '2022년06월_계_51세', '2022년06월_계_52세', '2022년06월_계_53세', '2022년06월_계_54세', '2022년06월_계_55세', '2022년06월_계_56세', '2022년06월_계_57세', '2022년06월_계_58세', '2022년06월_계_59세', '2022년06월_계_60세', '2022년06월_계_61세', '2022년06월_계_62세', '2022년06월_계_63세', '2022년06월_계_64세', '2022년06월_계_65세', '2022년06월_계_66세', '2022년06월_계_67세', '2022년06월_계_68세', '2022년06월_계_69세', '2022년06월_계_70세', '2022년06월_계_71세', '2022년06월_계_72세', '2022년06월_계_73세', '2022년06월_계_74세', '2022년06월_계_75세', '2022년06월_계_76세', '2022년06월_계_77세', '2022년06월_계_78세', '2022년06월_계_79세', '2022년06월_계_80세', '2022년06월_계_81세', '2022년06월_계_82세', '2022년06월_계_83세', '2022년06월_계_84세', '2022년06월_계_85세', '2022년06월_계_86세', '2022년06월_계_87세', '2022년06월_계_88세', '2022년06월_계_89세', '2022년06월_계_90세', '2022년06월_계_91세', '2022년06월_계_92세', '2022년06월_계_93세', '2022년06월_계_94세', '2022년06월_계_95세', '2022년06월_계_96세', '2022년06월_계_97세', '2022년06월_계_98세', '2022년06월_계_99세', '2022년06월_계_100세 이상']\n",
      "['대구광역시 북구 산격3동(2723063000)', '9,499', '9,499', '13', '9', '19', '26', '22', '26', '24', '35', '16', '33', '30', '38', '37', '31', '38', '40', '35', '49', '127', '179', '193', '250', '345', '371', '351', '339', '298', '268', '231', '226', '205', '161', '158', '123', '90', '87', '81', '85', '75', '83', '106', '87', '112', '100', '68', '98', '92', '105', '117', '115', '109', '104', '131', '117', '114', '137', '124', '116', '108', '133', '120', '171', '158', '127', '135', '109', '129', '118', '102', '107', '103', '79', '98', '95', '84', '82', '44', '67', '55', '74', '46', '53', '61', '35', '39', '32', '39', '19', '18', '12', '10', '12', '8', '9', '2', '3', '0', '3', '0', '0', '1']\n"
     ]
    }
   ],
   "source": [
    "f = open('../DATA_WOO/age.csv', encoding='euc_kr')\n",
    "data = csv.reader(f)\n",
    "\n",
    "header = next(data)\n",
    "print(header)\n",
    "\n",
    "for row in data:\n",
    "    if '산격3' in row[0]:\n",
    "        print(row)\n",
    "\n",
    "f.close()"
   ]
  },
  {
   "cell_type": "code",
   "execution_count": 5,
   "metadata": {},
   "outputs": [
    {
     "name": "stdout",
     "output_type": "stream",
     "text": [
      "['행정구역', '2022년06월_계_총인구수', '2022년06월_계_연령구간인구수', '2022년06월_계_0세', '2022년06월_계_1세', '2022년06월_계_2세', '2022년06월_계_3세', '2022년06월_계_4세', '2022년06월_계_5세', '2022년06월_계_6세', '2022년06월_계_7세', '2022년06월_계_8세', '2022년06월_계_9세', '2022년06월_계_10세', '2022년06월_계_11세', '2022년06월_계_12세', '2022년06월_계_13세', '2022년06월_계_14세', '2022년06월_계_15세', '2022년06월_계_16세', '2022년06월_계_17세', '2022년06월_계_18세', '2022년06월_계_19세', '2022년06월_계_20세', '2022년06월_계_21세', '2022년06월_계_22세', '2022년06월_계_23세', '2022년06월_계_24세', '2022년06월_계_25세', '2022년06월_계_26세', '2022년06월_계_27세', '2022년06월_계_28세', '2022년06월_계_29세', '2022년06월_계_30세', '2022년06월_계_31세', '2022년06월_계_32세', '2022년06월_계_33세', '2022년06월_계_34세', '2022년06월_계_35세', '2022년06월_계_36세', '2022년06월_계_37세', '2022년06월_계_38세', '2022년06월_계_39세', '2022년06월_계_40세', '2022년06월_계_41세', '2022년06월_계_42세', '2022년06월_계_43세', '2022년06월_계_44세', '2022년06월_계_45세', '2022년06월_계_46세', '2022년06월_계_47세', '2022년06월_계_48세', '2022년06월_계_49세', '2022년06월_계_50세', '2022년06월_계_51세', '2022년06월_계_52세', '2022년06월_계_53세', '2022년06월_계_54세', '2022년06월_계_55세', '2022년06월_계_56세', '2022년06월_계_57세', '2022년06월_계_58세', '2022년06월_계_59세', '2022년06월_계_60세', '2022년06월_계_61세', '2022년06월_계_62세', '2022년06월_계_63세', '2022년06월_계_64세', '2022년06월_계_65세', '2022년06월_계_66세', '2022년06월_계_67세', '2022년06월_계_68세', '2022년06월_계_69세', '2022년06월_계_70세', '2022년06월_계_71세', '2022년06월_계_72세', '2022년06월_계_73세', '2022년06월_계_74세', '2022년06월_계_75세', '2022년06월_계_76세', '2022년06월_계_77세', '2022년06월_계_78세', '2022년06월_계_79세', '2022년06월_계_80세', '2022년06월_계_81세', '2022년06월_계_82세', '2022년06월_계_83세', '2022년06월_계_84세', '2022년06월_계_85세', '2022년06월_계_86세', '2022년06월_계_87세', '2022년06월_계_88세', '2022년06월_계_89세', '2022년06월_계_90세', '2022년06월_계_91세', '2022년06월_계_92세', '2022년06월_계_93세', '2022년06월_계_94세', '2022년06월_계_95세', '2022년06월_계_96세', '2022년06월_계_97세', '2022년06월_계_98세', '2022년06월_계_99세', '2022년06월_계_100세 이상']\n"
     ]
    }
   ],
   "source": [
    "f = open('../DATA_WOO/age.csv', encoding='euc_kr')\n",
    "data = csv.reader(f)\n",
    "\n",
    "header = next(data)\n",
    "print(header)\n",
    "result = []\n",
    "for row in data:\n",
    "    if '산격3' in row[0]:\n",
    "        for i in row[3:]:\n",
    "            result.append(i)\n",
    "\n",
    "f.close()"
   ]
  },
  {
   "cell_type": "code",
   "execution_count": 23,
   "metadata": {},
   "outputs": [
    {
     "name": "stdout",
     "output_type": "stream",
     "text": [
      "대구광역시 달서구 월성1동\n"
     ]
    },
    {
     "data": {
      "image/png": "[encoded data removed]",
      "text/plain": [
       "<Figure size 432x288 with 1 Axes>"
      ]
     },
     "metadata": {},
     "output_type": "display_data"
    }
   ],
   "source": [
    "import re\n",
    "import platform\n",
    "\n",
    "f = open('../DATA_WOO/age.csv', encoding='euc_kr')\n",
    "data = csv.reader(f)\n",
    "\n",
    "header = next(data)\n",
    "# print(header)\n",
    "result = [] \n",
    "city = ''\n",
    "for row in data:\n",
    "    if '월성1' in row[0]:\n",
    "        # '(' 또는 ')' 문자로 split\n",
    "        str_list = re.split('[()]', row[0])\n",
    "        city = str_list[0]\n",
    "        print(city)\n",
    "        for i in row[3:]:\n",
    "            result.append(int(i.replace(',', '')))\n",
    "\n",
    "f.close()\n",
    "\n",
    "if\tplatform.system()\t==\t'Windows':\n",
    "    plt.rc('font',\tfamily='Malgun Gothic')\n",
    "else:\n",
    "    plt.rc('font',\tfamily='AppleGothic')\n",
    "\n",
    "plt.title(f'{city} 인구현황')\n",
    "plt.xlabel('나이')\n",
    "plt.ylabel('인구수')\n",
    "plt.style.use('ggplot')\n",
    "plt.plot(result)\n",
    "plt.show()\n"
   ]
  },
  {
   "cell_type": "markdown",
   "metadata": {},
   "source": [
    "### 정규식을 사용한 문자열 분리\n",
    "import re  \n",
    "re.split(패턴, 문자열, [최대분할개수])  \n",
    "\n"
   ]
  },
  {
   "cell_type": "code",
   "execution_count": 28,
   "metadata": {},
   "outputs": [
    {
     "name": "stdout",
     "output_type": "stream",
     "text": [
      "['대구광역시 북구 산격3동', '2723063000', '']\n"
     ]
    }
   ],
   "source": [
    "import re\n",
    "\n",
    "city = '대구광역시 북구 산격3동(2723063000)'\n",
    "str_list = re.split('[()]', city)\n",
    "print(str_list)\n"
   ]
  },
  {
   "cell_type": "code",
   "execution_count": 29,
   "metadata": {},
   "outputs": [
    {
     "name": "stdout",
     "output_type": "stream",
     "text": [
      "['apple', 'orange', 'banana', 'tomato', 'melon']\n"
     ]
    }
   ],
   "source": [
    "s\t=\t'apple\torange:banana,tomato;melon'\n",
    "fruits\t=\tre.split('[\t,:;]',\ts)   # 공백도 포함\n",
    "print(fruits)"
   ]
  },
  {
   "cell_type": "code",
   "execution_count": 33,
   "metadata": {},
   "outputs": [
    {
     "name": "stdout",
     "output_type": "stream",
     "text": [
      "['apple', '', 'range', 'banana', 't', 'mat', '', 'mel', 'n']\n"
     ]
    }
   ],
   "source": [
    "s\t=\t'apple\torange:banana,tomato;melon'\n",
    "fruits\t=\tre.split('[\t,:;o]',\ts)   # 공백도 포함\n",
    "print(fruits)"
   ]
  },
  {
   "cell_type": "markdown",
   "metadata": {},
   "source": [
    "### 인구 구조 그래프 함수 구현"
   ]
  },
  {
   "cell_type": "code",
   "execution_count": 42,
   "metadata": {},
   "outputs": [
    {
     "name": "stdout",
     "output_type": "stream",
     "text": [
      "대구광역시 달서구 월성1동\n",
      "  0세   13명   1세    9명   2세   19명   3세   26명   4세   22명   5세   26명   6세   24명   7세   35명   8세   16명   9세   33명 \n",
      " 10세   30명  11세   38명  12세   37명  13세   31명  14세   38명  15세   40명  16세   35명  17세   49명  18세  127명  19세  179명 \n",
      " 20세  193명  21세  250명  22세  345명  23세  371명  24세  351명  25세  339명  26세  298명  27세  268명  28세  231명  29세  226명 \n",
      " 30세  205명  31세  161명  32세  158명  33세  123명  34세   90명  35세   87명  36세   81명  37세   85명  38세   75명  39세   83명 \n",
      " 40세  106명  41세   87명  42세  112명  43세  100명  44세   68명  45세   98명  46세   92명  47세  105명  48세  117명  49세  115명 \n",
      " 50세  109명  51세  104명  52세  131명  53세  117명  54세  114명  55세  137명  56세  124명  57세  116명  58세  108명  59세  133명 \n",
      " 60세  120명  61세  171명  62세  158명  63세  127명  64세  135명  65세  109명  66세  129명  67세  118명  68세  102명  69세  107명 \n",
      " 70세  103명  71세   79명  72세   98명  73세   95명  74세   84명  75세   82명  76세   44명  77세   67명  78세   55명  79세   74명 \n",
      " 80세   46명  81세   53명  82세   61명  83세   35명  84세   39명  85세   32명  86세   39명  87세   19명  88세   18명  89세   12명 \n",
      " 90세   10명  91세   12명  92세    8명  93세    9명  94세    2명  95세    3명  96세    0명  97세    3명  98세    0명  99세    0명 \n",
      "100세    1명 "
     ]
    },
    {
     "data": {
      "image/png": "[encoded data removed]",
      "text/plain": [
       "<Figure size 432x288 with 1 Axes>"
      ]
     },
     "metadata": {},
     "output_type": "display_data"
    }
   ],
   "source": [
    "import re\n",
    "import platform\n",
    "\n",
    "# f = open('../DATA_WOO/age.csv', encoding='euc_kr')\n",
    "# data = csv.reader(f)\n",
    "\n",
    "# header = next(data)\n",
    "# # print(header)\n",
    "# result = [] \n",
    "# city = ''\n",
    "# for row in data:\n",
    "#     if '월성1' in row[0]:\n",
    "#         # '(' 또는 ')' 문자로 split\n",
    "#         str_list = re.split('[()]', row[0])\n",
    "#         city = str_list[0]\n",
    "#         print(city)\n",
    "#         for i in row[3:]:\n",
    "#             result.append(int(i.replace(',', '')))\n",
    "\n",
    "# f.close()\n",
    "def parse_name(district):\n",
    "    district_name = re.split('[()]', district)[0]\n",
    "    return district_name\n",
    "\n",
    "def print_population(pop_list):\n",
    "    '''\n",
    "    input: 인구 리스트 -> return: 인구 수 프린트\n",
    "\n",
    "    '''\n",
    "    for idx, val in enumerate(pop_list):\n",
    "        print(f'{idx:3d}세 {val:4d}명', end=' ')\n",
    "        if (idx+1) % 10 == 0:\n",
    "            print()\n",
    "\n",
    "def draw_population(district_name, pop_list):\n",
    "    '''\n",
    "    input: 지역이름, 인구 리스트 -> return: graph\n",
    "    '''\n",
    "    if\tplatform.system()\t==\t'Windows':\n",
    "        plt.rc('font',\tfamily='Malgun Gothic')\n",
    "    else:\n",
    "        plt.rc('font',\tfamily='AppleGothic')\n",
    "\n",
    "    plt.title(f'{district_name} 인구현황')\n",
    "    plt.xlabel('나이')\n",
    "    plt.ylabel('인구수')\n",
    "    plt.style.use('ggplot')\n",
    "    plt.plot(pop_list)\n",
    "    plt.show()\n",
    "\n",
    "def get_population(district):\n",
    "    f = open('../DATA_WOO/age.csv', encoding='euc_kr')\n",
    "    data = csv.reader(f)\n",
    "    header = next(data)\n",
    "    # print(header)\n",
    "    pop_list = [] \n",
    "    city = ''\n",
    "    for row in data:\n",
    "        if district in row[0]:\n",
    "            district_name = parse_name(row[0])\n",
    "            for i in row[3:]:\n",
    "                pop_list.append(int(i.replace(',', '')))\n",
    "\n",
    "    f.close()\n",
    "    print_population(pop_list)\n",
    "    draw_population(district_name, pop_list)\n",
    "\n",
    "\n",
    "district = input('인구주소를 알고싶은 지역의 이름(읍면동 단위)를 입력하세요: ')\n",
    "get_population(district)\n"
   ]
  },
  {
   "cell_type": "markdown",
   "metadata": {},
   "source": [
    "### 투표 가능 인구수 분석\n",
    "- 만 18세 이상\n",
    "- 파이차트 그래프 출력 "
   ]
  },
  {
   "cell_type": "code",
   "execution_count": 46,
   "metadata": {},
   "outputs": [
    {
     "name": "stdout",
     "output_type": "stream",
     "text": [
      "대구광역시  시 전체 인구수: 2375306명, 투표 가능 인구수: 2042207명\n"
     ]
    },
    {
     "data": {
      "image/png": "[encoded data removed]",
      "text/plain": [
       "<Figure size 432x288 with 1 Axes>"
      ]
     },
     "metadata": {},
     "output_type": "display_data"
    }
   ],
   "source": [
    "def parse_name(district):\n",
    "    district_name = re.split('[()]', district)[0]\n",
    "    return district_name\n",
    "\n",
    "def draw_pie(district_name, pop, vote):\n",
    "    '''\n",
    "    input: 지역이름, 인구 리스트 -> return: graph\n",
    "    '''\n",
    "    if\tplatform.system()\t==\t'Windows':\n",
    "        plt.rc('font',\tfamily='Malgun Gothic')\n",
    "    else:\n",
    "        plt.rc('font',\tfamily='AppleGothic')\n",
    "\n",
    "    plt.title(f'{district_name} 투표 가능 인구 현황')\n",
    "    \n",
    "    color =['tomato', 'royalblue']\n",
    "    plt.pie([pop-vote, vote], labels=['18세 미만', '투표가능인구'], autopct='%.1f%%', colors=color, startangle=90)\n",
    "    plt.legend()\n",
    "    plt.show()\n",
    "\n",
    "def get_population(district):\n",
    "    f = open('../DATA_WOO/age.csv', encoding='euc_kr')\n",
    "    data = csv.reader(f)\n",
    "    header = next(data)\n",
    "    # print(header)\n",
    "    vote_pop = 0\n",
    "    \n",
    "    city = ''\n",
    "    for row in data:\n",
    "        if district in row[0]:\n",
    "            city_name = parse_name(row[0])\n",
    "            city_pop = row[1]\n",
    "            city_pop = int(city_pop.replace(',', ''))\n",
    "            for i in row[21:]:\n",
    "                vote_pop += int(i.replace(',', ''))\n",
    "            break\n",
    "    f.close()\n",
    "    print(f'{city_name}시 전체 인구수: {city_pop}명, 투표 가능 인구수: {vote_pop}명')\n",
    "    draw_pie(city_name, city_pop, vote_pop)\n",
    "\n",
    "city = input('투표 가능 인구수를 확인할 도시이름을 입력하세요: ')\n",
    "\n",
    "get_population(city)"
   ]
  },
  {
   "cell_type": "code",
   "execution_count": 149,
   "metadata": {},
   "outputs": [
    {
     "name": "stdout",
     "output_type": "stream",
     "text": [
      "대구광역시\n"
     ]
    }
   ],
   "source": [
    "def place(val):\n",
    "    val = int(val.replace(',',''))\n",
    "    return val\n",
    "def parse_name(district):\n",
    "    district_name = re.split('[()]', district)[0]\n",
    "    return district_name\n",
    "\n",
    "df = pd.read_csv('../DATA_WOO/age.csv', encoding='euc-kr', index_col = 0)\n",
    "df_index = df.index.to_series()\n",
    "cond1 = df_index.str.split(' ', expand=True)[1] == \"\"\n",
    "cond2 = ~(df_index.str.contains('세종'))\n",
    "cond3 = ~(df_index.str.contains('출장소'))\n",
    "region = df_index[cond1 & cond2 & cond3].to_list()\n",
    "\n",
    "\n",
    "\n",
    "regiondf = df.loc[region,:].copy()\n",
    "\n",
    "regiondf = regiondf.applymap(place)\n",
    "\n",
    "\n",
    "# regiondf.iloc[:,0]\n",
    "regiondf = regiondf.iloc[:,20:].sum(axis=1).copy()\n",
    "distinct = input('행정구역을 입력하시오: ')\n",
    "for i in regiondf.index.str.split('  '):\n",
    "    if distinct == i[0]:\n",
    "        print(distinct)\n",
    "\n",
    "# if distinct in region\n",
    "# plt.pie()\n"
   ]
  }
 ],
 "metadata": {
  "kernelspec": {
   "display_name": "Python 3.9.10 64-bit",
   "language": "python",
   "name": "python3"
  },
  "language_info": {
   "codemirror_mode": {
    "name": "ipython",
    "version": 3
   },
   "file_extension": ".py",
   "mimetype": "text/x-python",
   "name": "python",
   "nbconvert_exporter": "python",
   "pygments_lexer": "ipython3",
   "version": "3.9.10"
  },
  "orig_nbformat": 4,
  "vscode": {
   "interpreter": {
    "hash": "cf92aa13fedf815d5c8dd192b8d835913fde3e8bc926b2a0ad6cc74ef2ba3ca2"
   }
  }
 },
 "nbformat": 4,
 "nbformat_minor": 2
}
