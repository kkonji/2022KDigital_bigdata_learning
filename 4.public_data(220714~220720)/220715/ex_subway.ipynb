{
 "cells": [
  {
   "cell_type": "code",
   "execution_count": 15,
   "metadata": {},
   "outputs": [
    {
     "name": "stdout",
     "output_type": "stream",
     "text": [
      "['사용월', '호선명', '역ID', '지하철역', '유임승차', '유임하차', '무임승차', '무임하차']\n",
      "['Jun-22', '1호선', '150', '서울역', '1150754', '1123193', '194717', '187155']\n",
      "['Jun-22', '1호선', '151', '시청', '537067', '543569', '80671', '78279']\n",
      "['Jun-22', '1호선', '152', '종각', '834173', '815704', '131987', '121717']\n",
      "['Jun-22', '1호선', '153', '종로3가', '450317', '404106', '299617', '278151']\n",
      "['Jun-22', '1호선', '154', '종로5가', '394420', '404105', '254236', '244555']\n",
      "['Jun-22', '1호선', '155', '동대문', '212719', '198987', '117499', '118515']\n",
      "['Jun-22', '1호선', '156', '신설동', '264825', '252339', '112362', '106855']\n"
     ]
    }
   ],
   "source": [
    "import pandas as pd\n",
    "import csv\n",
    "f = open('../DATA_WOO/subway_fee.csv', encoding='euc-kr')\n",
    "data = csv.reader(f)\n",
    "header = next(data)\n",
    "print(header)\n",
    "i = 0\n",
    "for row in data:\n",
    "    print(row)\n",
    "    if i>5:\n",
    "        break\n",
    "    i += 1\n",
    "f.close()"
   ]
  },
  {
   "cell_type": "markdown",
   "metadata": {},
   "source": [
    "### 유임승차 대 무임승차 비율 계산\n",
    "- rate = $ 유임승차 인원 \\over 무임승차인원$"
   ]
  },
  {
   "cell_type": "code",
   "execution_count": 16,
   "metadata": {},
   "outputs": [
    {
     "name": "stdout",
     "output_type": "stream",
     "text": [
      "['사용월', '호선명', '역ID', '지하철역', '유임승차', '유임하차', '무임승차', '무임하차']\n"
     ]
    },
    {
     "ename": "ZeroDivisionError",
     "evalue": "division by zero",
     "output_type": "error",
     "traceback": [
      "\u001b[1;31m---------------------------------------------------------------------------\u001b[0m",
      "\u001b[1;31mZeroDivisionError\u001b[0m                         Traceback (most recent call last)",
      "\u001b[1;32mc:\\Users\\User\\Desktop\\python_exer\\220715\\ex_subway.ipynb 셀 3\u001b[0m in \u001b[0;36m<cell line: 9>\u001b[1;34m()\u001b[0m\n\u001b[0;32m     <a href='vscode-notebook-cell:/c%3A/Users/User/Desktop/python_exer/220715/ex_subway.ipynb#ch0000002?line=9'>10</a>\u001b[0m     \u001b[39mfor\u001b[39;00m i \u001b[39min\u001b[39;00m \u001b[39mrange\u001b[39m(\u001b[39m4\u001b[39m,\u001b[39m8\u001b[39m):\n\u001b[0;32m     <a href='vscode-notebook-cell:/c%3A/Users/User/Desktop/python_exer/220715/ex_subway.ipynb#ch0000002?line=10'>11</a>\u001b[0m         row[i] \u001b[39m=\u001b[39m \u001b[39mint\u001b[39m(row[i])\n\u001b[1;32m---> <a href='vscode-notebook-cell:/c%3A/Users/User/Desktop/python_exer/220715/ex_subway.ipynb#ch0000002?line=11'>12</a>\u001b[0m     rate \u001b[39m=\u001b[39m row[\u001b[39m4\u001b[39;49m]\u001b[39m/\u001b[39;49m row[\u001b[39m6\u001b[39;49m]\n\u001b[0;32m     <a href='vscode-notebook-cell:/c%3A/Users/User/Desktop/python_exer/220715/ex_subway.ipynb#ch0000002?line=13'>14</a>\u001b[0m f\u001b[39m.\u001b[39mclose()\n",
      "\u001b[1;31mZeroDivisionError\u001b[0m: division by zero"
     ]
    }
   ],
   "source": [
    "f = open('../DATA_WOO/subway_fee.csv', encoding='euc-kr')\n",
    "data = csv.reader(f)\n",
    "header = next(data)\n",
    "print(header)\n",
    "i = 0\n",
    "rate = 0\n",
    "max_rate = 0\n",
    "\n",
    "for row in data:\n",
    "    for i in range(4,8):\n",
    "        row[i] = int(row[i])\n",
    "    rate = row[4]/ row[6]\n",
    "    \n",
    "f.close()"
   ]
  },
  {
   "cell_type": "markdown",
   "metadata": {},
   "source": [
    "#### 무임승차 인원이 0인 역 찾기"
   ]
  },
  {
   "cell_type": "code",
   "execution_count": null,
   "metadata": {},
   "outputs": [
    {
     "name": "stdout",
     "output_type": "stream",
     "text": [
      "['사용월', '호선명', '역ID', '지하철역', '유임승차', '유임하차', '무임승차', '무임하차']\n",
      "['Jun-22', '일산선', '1949', '지축', 10, 0, 0, 0]\n",
      "['Jun-22', '경의선', '1296', '계양', 10, 0, 0, 0]\n",
      "['Jun-22', '경의선', '1297', '검암', 2, 0, 0, 0]\n",
      "['Jun-22', '6호선', '2615', '연신내', 31, 0, 0, 0]\n",
      "['Jun-22', '6호선', '2649', '신내', 4, 0, 0, 0]\n",
      "['Jun-22', '7호선', '2753', '까치울', 1, 0, 0, 0]\n",
      "['Jun-22', '7호선', '2758', '상동', 1, 0, 0, 0]\n",
      "['Jun-22', '7호선', '2761', '부평구청', 1, 0, 0, 0]\n"
     ]
    }
   ],
   "source": [
    "\n",
    "f = open('../DATA_WOO/subway_fee.csv', encoding='euc-kr')\n",
    "data = csv.reader(f)\n",
    "header = next(data)\n",
    "print(header)\n",
    "i = 0\n",
    "rate = 0\n",
    "max_rate = 0\n",
    "\n",
    "for row in data:\n",
    "    for i in range(4,8):\n",
    "        row[i] = int(row[i])\n",
    "    rate = row[4]/ (row[6]+row[4])\n",
    "\n",
    "    if row[6] == 0:\n",
    "        print(row)\n",
    "\n",
    "    \n",
    "f.close()"
   ]
  },
  {
   "cell_type": "markdown",
   "metadata": {},
   "source": [
    "#### 최대 무임승차 비율 확인"
   ]
  },
  {
   "cell_type": "code",
   "execution_count": null,
   "metadata": {},
   "outputs": [
    {
     "name": "stdout",
     "output_type": "stream",
     "text": [
      "['사용월', '호선명', '역ID', '지하철역', '유임승차', '유임하차', '무임승차', '무임하차']\n",
      "['Jun-22', '1호선', '150', '서울역', 1150754, 1123193, 194717, 187155] 14.47 %\n",
      "['Jun-22', '1호선', '153', '종로3가', 450317, 404106, 299617, 278151] 39.95 %\n",
      "['Jun-22', '1호선', '157', '제기동', 218782, 209109, 263173, 281985] 54.61 %\n",
      "['Jun-22', '경원선', '1916', '소요산', 32659, 25998, 62990, 56806] 65.86 %\n",
      "['Jun-22', '7호선', '2756', '신중동', 0, 0, 1, 0] 100.0 %\n"
     ]
    }
   ],
   "source": [
    "f = open('../DATA_WOO/subway_fee.csv', encoding='euc-kr')\n",
    "data = csv.reader(f)\n",
    "header = next(data)\n",
    "print(header)\n",
    "i = 0\n",
    "rate = 0\n",
    "max_rate = 0\n",
    "\n",
    "for row in data:\n",
    "    for i in range(4,8):\n",
    "        row[i] = int(row[i])\n",
    "    if row[6] != 0:\n",
    "        rate = 100 * row[6]/ (row[6]+row[4])\n",
    "        if max_rate < rate:\n",
    "            max_rate = rate\n",
    "            print(row, round(rate, 2), '%') # 무임승차 퍼센트가 최고인 역 찾기\n",
    "\n",
    "    \n",
    "f.close()"
   ]
  },
  {
   "cell_type": "markdown",
   "metadata": {},
   "source": [
    "#### 최소 무임승차 비율 확인( 0프로 제외)"
   ]
  },
  {
   "cell_type": "code",
   "execution_count": null,
   "metadata": {},
   "outputs": [
    {
     "name": "stdout",
     "output_type": "stream",
     "text": [
      "['사용월', '호선명', '역ID', '지하철역', '유임승차', '유임하차', '무임승차', '무임하차']\n",
      "['Jun-22', '1호선', '150', '서울역', 1150754, 1123193, 194717, 187155] 14.47 %\n",
      "['Jun-22', '1호선', '151', '시청', 537067, 543569, 80671, 78279] 13.06 %\n",
      "['Jun-22', '2호선', '201', '시청', 545554, 526572, 51342, 46078] 8.6 %\n",
      "['Jun-22', '2호선', '209', '한양대', 269240, 295829, 12481, 13227] 4.43 %\n",
      "['Jun-22', '3호선', '321', '충무로', 36, 0, 1, 0] 2.7 %\n"
     ]
    }
   ],
   "source": [
    "f = open('../DATA_WOO/subway_fee.csv', encoding='euc-kr')\n",
    "data = csv.reader(f)\n",
    "header = next(data)\n",
    "print(header)\n",
    "i = 0\n",
    "rate = 0\n",
    "min_rate = 100\n",
    "\n",
    "for row in data:\n",
    "    for i in range(4,8):\n",
    "        row[i] = int(row[i])\n",
    "    if row[6] != 0:\n",
    "        rate = 100 * row[6]/ (row[6]+row[4])\n",
    "        if min_rate > rate:\n",
    "            min_rate = rate\n",
    "            print(row, round(rate, 2), '%') \n",
    "\n",
    "    \n",
    "f.close()"
   ]
  },
  {
   "cell_type": "markdown",
   "metadata": {},
   "source": [
    "# 최대 유임 승차인원이 있는 역은?\n",
    "- 10만명이 넘는 승하차하는 역에서 유임 승차비율이 제일 높은역은?\n"
   ]
  },
  {
   "cell_type": "code",
   "execution_count": null,
   "metadata": {},
   "outputs": [
    {
     "name": "stdout",
     "output_type": "stream",
     "text": [
      "['사용월', '호선명', '역ID', '지하철역', '유임승차', '유임하차', '무임승차', '무임하차']\n",
      "['Jun-22', '2호선', '209', '한양대', 269240, 295829, 12481, 13227]\n",
      "역이름: 한양대, 전체인원: 281721, 유임승차인원: 269240, 유임비율: 95.57\n"
     ]
    }
   ],
   "source": [
    "\n",
    "f = open('../DATA_WOO/subway_fee.csv', encoding='euc-kr')\n",
    "data = csv.reader(f)\n",
    "header = next(data)\n",
    "print(header)\n",
    "i = 0\n",
    "rate = 0\n",
    "max_rate = 0\n",
    "max_row = []\n",
    "max_total_num = 0\n",
    "\n",
    "for row in data:\n",
    "    for i in range(4,8):\n",
    "        row[i] = int(row[i])\n",
    "    if (row[4]+row[6] > 100000) & (row[6] != 0):\n",
    "        rate = 100 * row[4]/ (row[6]+row[4])\n",
    "        if max_rate < rate:\n",
    "            max_rate = rate\n",
    "            max_row = row\n",
    "            max_total_num = row[4]+row[6]\n",
    "print(max_row)\n",
    "print(f'역이름: {max_row[3]}, 전체인원: {max_total_num}, 유임승차인원: {max_row[4]}, 유임비율: {round(max_rate,2)}')\n",
    "\n",
    "    \n",
    "f.close()"
   ]
  },
  {
   "cell_type": "markdown",
   "metadata": {},
   "source": [
    "#### 유임승차 비율이 50% 이하인 역은?"
   ]
  },
  {
   "cell_type": "code",
   "execution_count": null,
   "metadata": {},
   "outputs": [
    {
     "name": "stdout",
     "output_type": "stream",
     "text": [
      "['사용월', '호선명', '역ID', '지하철역', '유임승차', '유임하차', '무임승차', '무임하차']\n",
      "['Jun-22', '1호선', '157', '제기동', 218782, 209109, 263173, 281985] 45.3946945254225 %\n",
      "['Jun-22', '1호선', '159', '동묘앞', 122460, 131299, 146455, 147539] 45.53855307439154 %\n",
      "['Jun-22', '경원선', '1916', '소요산', 32659, 25998, 62990, 56806] 34.14463298100346 %\n",
      "['Jun-22', '중앙선', '1218', '원덕', 5854, 5749, 6959, 6739] 45.687973152267226 %\n",
      "['Jun-22', '중앙선', '1219', '용문', 34168, 34477, 38467, 38202] 47.04068286638673 %\n",
      "유임 승차 비율이 가장 낮은 역: 소요산, 전체인원: 95649, 유임승차인원: 32659, 유임비율: 34.14\n"
     ]
    },
    {
     "data": {
      "image/png": "[encoded data removed]",
      "text/plain": [
       "<Figure size 432x288 with 1 Axes>"
      ]
     },
     "metadata": {},
     "output_type": "display_data"
    }
   ],
   "source": [
    "import matplotlib.pyplot as plt\n",
    "\n",
    "# Matplotlib 한글 폰트 설정\n",
    "from matplotlib import font_manager as fm, rc\n",
    "\n",
    "# 한글 폰트 설정\n",
    "font_path = '../FONT/malgun.ttf'\n",
    "font_name = fm.FontProperties(fname = font_path).get_name()\n",
    "rc('font', family = font_name)\n",
    "f = open('../DATA_WOO/subway_fee.csv', encoding='euc-kr')\n",
    "data = csv.reader(f)\n",
    "header = next(data)\n",
    "print(header)\n",
    "i = 0\n",
    "rate = 0\n",
    "total_count = 0\n",
    "rate_list = 0\n",
    "row_list = []\n",
    "min_rate = 100\n",
    "min_row = 0\n",
    "\n",
    "for row in data:\n",
    "    for i in range(4,8):\n",
    "        row[i] = int(row[i])\n",
    "    total_count = row[4]+row[6] \n",
    "    if (total_count > 10000) & (row[6] != 0):\n",
    "        rate = 100 * row[4]/ total_count\n",
    "        if rate <= 50:\n",
    "            print(row, rate, '%')\n",
    "        if min_rate > rate:\n",
    "            min_rate = rate\n",
    "            min_row = row\n",
    "            min_total = row[4]+row[6]\n",
    "\n",
    "print(f'유임 승차 비율이 가장 낮은 역: {min_row[3]}, 전체인원: {min_total}, 유임승차인원: {min_row[4]}, 유임비율: {round(min_rate,2)}')\n",
    "\n",
    "    \n",
    "f.close()\n",
    "# autopct -> auto percentage :소수점 1번째 자리까지 출력, %%: % 출력\n",
    "plt.pie([min_row[4], min_row[6]], labels = ['유임승차', '무임승차'], autopct='%.1f%%')\n",
    "plt.show()"
   ]
  },
  {
   "cell_type": "code",
   "execution_count": null,
   "metadata": {},
   "outputs": [
    {
     "data": {
      "text/html": [
       "<div>\n",
       "<style scoped>\n",
       "    .dataframe tbody tr th:only-of-type {\n",
       "        vertical-align: middle;\n",
       "    }\n",
       "\n",
       "    .dataframe tbody tr th {\n",
       "        vertical-align: top;\n",
       "    }\n",
       "\n",
       "    .dataframe thead th {\n",
       "        text-align: right;\n",
       "    }\n",
       "</style>\n",
       "<table border=\"1\" class=\"dataframe\">\n",
       "  <thead>\n",
       "    <tr style=\"text-align: right;\">\n",
       "      <th></th>\n",
       "      <th>사용월</th>\n",
       "      <th>호선명</th>\n",
       "      <th>역ID</th>\n",
       "      <th>지하철역</th>\n",
       "      <th>유임승차</th>\n",
       "      <th>유임하차</th>\n",
       "      <th>무임승차</th>\n",
       "      <th>무임하차</th>\n",
       "    </tr>\n",
       "  </thead>\n",
       "  <tbody>\n",
       "    <tr>\n",
       "      <th>0</th>\n",
       "      <td>Jun-22</td>\n",
       "      <td>1호선</td>\n",
       "      <td>150</td>\n",
       "      <td>서울역</td>\n",
       "      <td>1150754</td>\n",
       "      <td>1123193</td>\n",
       "      <td>194717</td>\n",
       "      <td>187155</td>\n",
       "    </tr>\n",
       "    <tr>\n",
       "      <th>1</th>\n",
       "      <td>Jun-22</td>\n",
       "      <td>1호선</td>\n",
       "      <td>151</td>\n",
       "      <td>시청</td>\n",
       "      <td>537067</td>\n",
       "      <td>543569</td>\n",
       "      <td>80671</td>\n",
       "      <td>78279</td>\n",
       "    </tr>\n",
       "    <tr>\n",
       "      <th>2</th>\n",
       "      <td>Jun-22</td>\n",
       "      <td>1호선</td>\n",
       "      <td>152</td>\n",
       "      <td>종각</td>\n",
       "      <td>834173</td>\n",
       "      <td>815704</td>\n",
       "      <td>131987</td>\n",
       "      <td>121717</td>\n",
       "    </tr>\n",
       "    <tr>\n",
       "      <th>3</th>\n",
       "      <td>Jun-22</td>\n",
       "      <td>1호선</td>\n",
       "      <td>153</td>\n",
       "      <td>종로3가</td>\n",
       "      <td>450317</td>\n",
       "      <td>404106</td>\n",
       "      <td>299617</td>\n",
       "      <td>278151</td>\n",
       "    </tr>\n",
       "    <tr>\n",
       "      <th>4</th>\n",
       "      <td>Jun-22</td>\n",
       "      <td>1호선</td>\n",
       "      <td>154</td>\n",
       "      <td>종로5가</td>\n",
       "      <td>394420</td>\n",
       "      <td>404105</td>\n",
       "      <td>254236</td>\n",
       "      <td>244555</td>\n",
       "    </tr>\n",
       "    <tr>\n",
       "      <th>...</th>\n",
       "      <td>...</td>\n",
       "      <td>...</td>\n",
       "      <td>...</td>\n",
       "      <td>...</td>\n",
       "      <td>...</td>\n",
       "      <td>...</td>\n",
       "      <td>...</td>\n",
       "      <td>...</td>\n",
       "    </tr>\n",
       "    <tr>\n",
       "      <th>610</th>\n",
       "      <td>Jun-22</td>\n",
       "      <td>신림선</td>\n",
       "      <td>4407</td>\n",
       "      <td>당곡</td>\n",
       "      <td>67329</td>\n",
       "      <td>63441</td>\n",
       "      <td>24803</td>\n",
       "      <td>23951</td>\n",
       "    </tr>\n",
       "    <tr>\n",
       "      <th>611</th>\n",
       "      <td>Jun-22</td>\n",
       "      <td>신림선</td>\n",
       "      <td>4408</td>\n",
       "      <td>신림</td>\n",
       "      <td>32979</td>\n",
       "      <td>45402</td>\n",
       "      <td>14286</td>\n",
       "      <td>15472</td>\n",
       "    </tr>\n",
       "    <tr>\n",
       "      <th>612</th>\n",
       "      <td>Jun-22</td>\n",
       "      <td>신림선</td>\n",
       "      <td>4409</td>\n",
       "      <td>서원</td>\n",
       "      <td>54559</td>\n",
       "      <td>46712</td>\n",
       "      <td>17717</td>\n",
       "      <td>17687</td>\n",
       "    </tr>\n",
       "    <tr>\n",
       "      <th>613</th>\n",
       "      <td>Jun-22</td>\n",
       "      <td>신림선</td>\n",
       "      <td>4410</td>\n",
       "      <td>서울대벤처타운</td>\n",
       "      <td>123769</td>\n",
       "      <td>120482</td>\n",
       "      <td>46688</td>\n",
       "      <td>47814</td>\n",
       "    </tr>\n",
       "    <tr>\n",
       "      <th>614</th>\n",
       "      <td>Jun-22</td>\n",
       "      <td>신림선</td>\n",
       "      <td>4411</td>\n",
       "      <td>관악산(서울대)</td>\n",
       "      <td>55565</td>\n",
       "      <td>57858</td>\n",
       "      <td>43807</td>\n",
       "      <td>44369</td>\n",
       "    </tr>\n",
       "  </tbody>\n",
       "</table>\n",
       "<p>615 rows × 8 columns</p>\n",
       "</div>"
      ],
      "text/plain": [
       "        사용월  호선명   역ID      지하철역     유임승차     유임하차    무임승차    무임하차\n",
       "0    Jun-22  1호선   150       서울역  1150754  1123193  194717  187155\n",
       "1    Jun-22  1호선   151        시청   537067   543569   80671   78279\n",
       "2    Jun-22  1호선   152        종각   834173   815704  131987  121717\n",
       "3    Jun-22  1호선   153      종로3가   450317   404106  299617  278151\n",
       "4    Jun-22  1호선   154      종로5가   394420   404105  254236  244555\n",
       "..      ...  ...   ...       ...      ...      ...     ...     ...\n",
       "610  Jun-22  신림선  4407        당곡    67329    63441   24803   23951\n",
       "611  Jun-22  신림선  4408        신림    32979    45402   14286   15472\n",
       "612  Jun-22  신림선  4409        서원    54559    46712   17717   17687\n",
       "613  Jun-22  신림선  4410   서울대벤처타운   123769   120482   46688   47814\n",
       "614  Jun-22  신림선  4411  관악산(서울대)    55565    57858   43807   44369\n",
       "\n",
       "[615 rows x 8 columns]"
      ]
     },
     "execution_count": 39,
     "metadata": {},
     "output_type": "execute_result"
    }
   ],
   "source": [
    "df = pd.read_csv('../DATA_WOO/subway_fee.csv', encoding='euc-kr')\n",
    "df"
   ]
  },
  {
   "cell_type": "code",
   "execution_count": null,
   "metadata": {},
   "outputs": [
    {
     "data": {
      "text/html": [
       "<div>\n",
       "<style scoped>\n",
       "    .dataframe tbody tr th:only-of-type {\n",
       "        vertical-align: middle;\n",
       "    }\n",
       "\n",
       "    .dataframe tbody tr th {\n",
       "        vertical-align: top;\n",
       "    }\n",
       "\n",
       "    .dataframe thead th {\n",
       "        text-align: right;\n",
       "    }\n",
       "</style>\n",
       "<table border=\"1\" class=\"dataframe\">\n",
       "  <thead>\n",
       "    <tr style=\"text-align: right;\">\n",
       "      <th></th>\n",
       "      <th>역ID</th>\n",
       "      <th>유임승차</th>\n",
       "      <th>유임하차</th>\n",
       "      <th>무임승차</th>\n",
       "      <th>무임하차</th>\n",
       "      <th>유임승차비율</th>\n",
       "    </tr>\n",
       "    <tr>\n",
       "      <th>지하철역</th>\n",
       "      <th></th>\n",
       "      <th></th>\n",
       "      <th></th>\n",
       "      <th></th>\n",
       "      <th></th>\n",
       "      <th></th>\n",
       "    </tr>\n",
       "  </thead>\n",
       "  <tbody>\n",
       "    <tr>\n",
       "      <th>부평구청</th>\n",
       "      <td>2761</td>\n",
       "      <td>1</td>\n",
       "      <td>0</td>\n",
       "      <td>0</td>\n",
       "      <td>0</td>\n",
       "      <td>100.000000</td>\n",
       "    </tr>\n",
       "    <tr>\n",
       "      <th>상동</th>\n",
       "      <td>2758</td>\n",
       "      <td>1</td>\n",
       "      <td>0</td>\n",
       "      <td>0</td>\n",
       "      <td>0</td>\n",
       "      <td>100.000000</td>\n",
       "    </tr>\n",
       "    <tr>\n",
       "      <th>까치울</th>\n",
       "      <td>2753</td>\n",
       "      <td>1</td>\n",
       "      <td>0</td>\n",
       "      <td>0</td>\n",
       "      <td>0</td>\n",
       "      <td>100.000000</td>\n",
       "    </tr>\n",
       "    <tr>\n",
       "      <th>한양대</th>\n",
       "      <td>209</td>\n",
       "      <td>269240</td>\n",
       "      <td>295829</td>\n",
       "      <td>12481</td>\n",
       "      <td>13227</td>\n",
       "      <td>95.569730</td>\n",
       "    </tr>\n",
       "    <tr>\n",
       "      <th>홍대입구</th>\n",
       "      <td>5735</td>\n",
       "      <td>2002177</td>\n",
       "      <td>2154594</td>\n",
       "      <td>115058</td>\n",
       "      <td>111526</td>\n",
       "      <td>94.565648</td>\n",
       "    </tr>\n",
       "    <tr>\n",
       "      <th>...</th>\n",
       "      <td>...</td>\n",
       "      <td>...</td>\n",
       "      <td>...</td>\n",
       "      <td>...</td>\n",
       "      <td>...</td>\n",
       "      <td>...</td>\n",
       "    </tr>\n",
       "    <tr>\n",
       "      <th>원덕</th>\n",
       "      <td>1218</td>\n",
       "      <td>5854</td>\n",
       "      <td>5749</td>\n",
       "      <td>6959</td>\n",
       "      <td>6739</td>\n",
       "      <td>45.687973</td>\n",
       "    </tr>\n",
       "    <tr>\n",
       "      <th>제기동</th>\n",
       "      <td>157</td>\n",
       "      <td>218782</td>\n",
       "      <td>209109</td>\n",
       "      <td>263173</td>\n",
       "      <td>281985</td>\n",
       "      <td>45.394695</td>\n",
       "    </tr>\n",
       "    <tr>\n",
       "      <th>지평</th>\n",
       "      <td>1220</td>\n",
       "      <td>952</td>\n",
       "      <td>1282</td>\n",
       "      <td>1216</td>\n",
       "      <td>1173</td>\n",
       "      <td>43.911439</td>\n",
       "    </tr>\n",
       "    <tr>\n",
       "      <th>소요산</th>\n",
       "      <td>1916</td>\n",
       "      <td>32659</td>\n",
       "      <td>25998</td>\n",
       "      <td>62990</td>\n",
       "      <td>56806</td>\n",
       "      <td>34.144633</td>\n",
       "    </tr>\n",
       "    <tr>\n",
       "      <th>신중동</th>\n",
       "      <td>2756</td>\n",
       "      <td>0</td>\n",
       "      <td>0</td>\n",
       "      <td>1</td>\n",
       "      <td>0</td>\n",
       "      <td>0.000000</td>\n",
       "    </tr>\n",
       "  </tbody>\n",
       "</table>\n",
       "<p>524 rows × 6 columns</p>\n",
       "</div>"
      ],
      "text/plain": [
       "       역ID     유임승차     유임하차    무임승차    무임하차      유임승차비율\n",
       "지하철역                                                    \n",
       "부평구청  2761        1        0       0       0  100.000000\n",
       "상동    2758        1        0       0       0  100.000000\n",
       "까치울   2753        1        0       0       0  100.000000\n",
       "한양대    209   269240   295829   12481   13227   95.569730\n",
       "홍대입구  5735  2002177  2154594  115058  111526   94.565648\n",
       "...    ...      ...      ...     ...     ...         ...\n",
       "원덕    1218     5854     5749    6959    6739   45.687973\n",
       "제기동    157   218782   209109  263173  281985   45.394695\n",
       "지평    1220      952     1282    1216    1173   43.911439\n",
       "소요산   1916    32659    25998   62990   56806   34.144633\n",
       "신중동   2756        0        0       1       0    0.000000\n",
       "\n",
       "[524 rows x 6 columns]"
      ]
     },
     "execution_count": 46,
     "metadata": {},
     "output_type": "execute_result"
    }
   ],
   "source": [
    "df_sum = df.groupby(['지하철역']).sum()\n",
    "df_sum['유임승차비율'] = 100 * df_sum['유임승차'] / (df_sum['유임승차'] + df_sum['무임승차'])\n",
    "\n",
    "df_sum.sort_values('유임승차비율', ascending = False)"
   ]
  },
  {
   "cell_type": "code",
   "execution_count": null,
   "metadata": {},
   "outputs": [
    {
     "data": {
      "text/plain": [
       "<matplotlib.collections.PathCollection at 0x2129eaee190>"
      ]
     },
     "execution_count": 54,
     "metadata": {},
     "output_type": "execute_result"
    },
    {
     "data": {
      "image/png": "[encoded data removed]",
      "text/plain": [
       "<Figure size 432x288 with 1 Axes>"
      ]
     },
     "metadata": {
      "needs_background": "light"
     },
     "output_type": "display_data"
    }
   ],
   "source": [
    "plt.scatter(df['유임승차'], df['무임승차'])"
   ]
  },
  {
   "cell_type": "markdown",
   "metadata": {},
   "source": [
    "### 승하차 인원이 가장많은 역은?"
   ]
  },
  {
   "cell_type": "code",
   "execution_count": null,
   "metadata": {},
   "outputs": [
    {
     "name": "stdout",
     "output_type": "stream",
     "text": [
      "유임승차: 강남 2호선 2055521\n",
      "유임하차: 강남 2호선 2039847\n",
      "무임승차: 종로3가 1호선 299617\n",
      "무임하차: 제기동 1호선 281985\n"
     ]
    }
   ],
   "source": [
    "import csv\n",
    "max = [0] * 4\n",
    "station = ['']*4\n",
    "label= ['유임승차', '유임하차', '무임승차', '무임하차']\n",
    "with open('../DATA_WOO/subway_fee.csv', encoding='euc-kr') as f:\n",
    "    data = csv.reader(f)\n",
    "    next(data)\n",
    "\n",
    "    for row in data:\n",
    "        for i in range(4,8):\n",
    "            row[i] = int(row[i])\n",
    "            if row[i] > max[i-4]:\n",
    "                max[i-4] = row[i]\n",
    "                station[i-4] = row[3] + ' ' + row[1]\n",
    "\n",
    "\n",
    "for i in range(4):\n",
    "    print(f'{label[i]}: {station[i]} {max[i]}')\n",
    "\n"
   ]
  },
  {
   "cell_type": "code",
   "execution_count": null,
   "metadata": {},
   "outputs": [
    {
     "name": "stdout",
     "output_type": "stream",
     "text": [
      "강남\n",
      "2호선\n",
      "강남\n",
      "2호선\n",
      "종로3가\n",
      "1호선\n",
      "제기동\n",
      "1호선\n"
     ]
    }
   ],
   "source": [
    "import pandas as pd\n",
    "df = pd.read_csv('../DATA_WOO/subway_fee.csv', encoding='euc-kr')\n",
    "col = list(df.columns[4:8])\n",
    "\n",
    "for i in col:\n",
    "    cond = df[i].idxmax()\n",
    "    print(df.loc[cond, '지하철역'])\n",
    "    print(df.loc[cond, '호선명'])\n"
   ]
  },
  {
   "cell_type": "markdown",
   "metadata": {},
   "source": [
    "### 전체 지하철역 승하차 인원 분석 및 저장\n",
    "- savefig 를 이용하면 사진파일 저장"
   ]
  },
  {
   "cell_type": "code",
   "execution_count": 19,
   "metadata": {},
   "outputs": [
    {
     "name": "stdout",
     "output_type": "stream",
     "text": [
      "유임승차:  0\n",
      "유임하차:  0\n",
      "무임승차:  0\n",
      "무임하차:  0\n"
     ]
    }
   ],
   "source": [
    "import\tcsv\n",
    "import\tmatplotlib.pyplot as\tplt\n",
    "# Matplotlib 한글 폰트 설정\n",
    "from matplotlib import font_manager as fm, rc\n",
    "\n",
    "# 한글 폰트 설정\n",
    "font_path = '../FONT/malgun.ttf'\n",
    "font_name = fm.FontProperties(fname = font_path).get_name()\n",
    "rc('font', family = font_name)\n",
    "# savefig 를 이용하면 사진파일 저장\n",
    "import csv\n",
    "max = [0] * 4\n",
    "station = ['']*4\n",
    "label= ['유임승차', '유임하차', '무임승차', '무임하차']\n",
    "c = ['#14CCC0',\t'#389993',\t'#FF1C6A',\t'#CC14AF']\n",
    "with open('../DATA_WOO/subway_fee.csv', encoding='euc-kr') as f:\n",
    "    data = csv.reader(f)\n",
    "    next(data)\n",
    "\n",
    "    for row in data:\n",
    "        for i in range(4,8):\n",
    "            row[i] = int(row[i])\n",
    "\n",
    "            plt.figure(dpi=100)\n",
    "            plt.title(row[3]+ ' '+row[1])\n",
    "            plt.pie(row[4:8], labels=label, colors=c, autopct='%.1f%%')\n",
    "            plt.savefig(row[3]+ ' '+ row[1]+'.png')\n",
    "            plt.close()\n",
    "\n"
   ]
  },
  {
   "cell_type": "code",
   "execution_count": null,
   "metadata": {},
   "outputs": [],
   "source": []
  }
 ],
 "metadata": {
  "kernelspec": {
   "display_name": "Python 3.9.10 64-bit",
   "language": "python",
   "name": "python3"
  },
  "language_info": {
   "codemirror_mode": {
    "name": "ipython",
    "version": 3
   },
   "file_extension": ".py",
   "mimetype": "text/x-python",
   "name": "python",
   "nbconvert_exporter": "python",
   "pygments_lexer": "ipython3",
   "version": "3.9.10"
  },
  "orig_nbformat": 4,
  "vscode": {
   "interpreter": {
    "hash": "cf92aa13fedf815d5c8dd192b8d835913fde3e8bc926b2a0ad6cc74ef2ba3ca2"
   }
  }
 },
 "nbformat": 4,
 "nbformat_minor": 2
}
