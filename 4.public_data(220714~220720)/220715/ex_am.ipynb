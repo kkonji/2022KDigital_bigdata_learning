{
 "cells": [
  {
   "cell_type": "code",
   "execution_count": 22,
   "metadata": {},
   "outputs": [
    {
     "data": {
      "text/plain": [
       "'34*13412*4'"
      ]
     },
     "execution_count": 22,
     "metadata": {},
     "output_type": "execute_result"
    }
   ],
   "source": [
    "a =34134124\n",
    "\n",
    "def nbr_comma(num, value, mod = 1, div=3):\n",
    "    \"\"\"\n",
    "    num(int) ---> '입력한 문자' 들어간 num\n",
    "    \"\"\"\n",
    "    num = str(num)\n",
    "    somelist=[]\n",
    "    for i in range(len(num)):\n",
    "        if ((len(num) - i) % div == mod) & ((len(num)-i) != 1) :\n",
    "            somelist.append(num[i]+value)\n",
    "        else:\n",
    "            somelist.append(num[i])\n",
    "    return \"\".join(somelist)\n",
    "\n",
    "# 응용\n",
    "nbr_comma(a, '*', mod=2, div=5)"
   ]
  },
  {
   "cell_type": "code",
   "execution_count": null,
   "metadata": {},
   "outputs": [],
   "source": []
  }
 ],
 "metadata": {
  "kernelspec": {
   "display_name": "Python 3.9.10 64-bit",
   "language": "python",
   "name": "python3"
  },
  "language_info": {
   "codemirror_mode": {
    "name": "ipython",
    "version": 3
   },
   "file_extension": ".py",
   "mimetype": "text/x-python",
   "name": "python",
   "nbconvert_exporter": "python",
   "pygments_lexer": "ipython3",
   "version": "3.9.10"
  },
  "orig_nbformat": 4,
  "vscode": {
   "interpreter": {
    "hash": "cf92aa13fedf815d5c8dd192b8d835913fde3e8bc926b2a0ad6cc74ef2ba3ca2"
   }
  }
 },
 "nbformat": 4,
 "nbformat_minor": 2
}
